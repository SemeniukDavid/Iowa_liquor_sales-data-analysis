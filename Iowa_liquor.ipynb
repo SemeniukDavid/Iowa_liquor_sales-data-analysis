{
 "cells": [
  {
   "cell_type": "markdown",
   "metadata": {},
   "source": [
    "<h1><center>EDA Analysis public data \"Iowa liqour sales\"</center></h1>"
   ]
  },
  {
   "cell_type": "markdown",
   "metadata": {},
   "source": [
    "<p>Import additional libraries</p>"
   ]
  },
  {
   "cell_type": "code",
   "execution_count": 94,
   "metadata": {},
   "outputs": [],
   "source": [
    "import pandas_gbq\n",
    "import pandas as pd\n",
    "import numpy as np\n",
    "pd.options.mode.chained_assignment = None\n",
    "pd.options.display.max_columns = 40\n",
    "import matplotlib.pyplot as plt\n",
    "import seaborn as sns\n",
    "pd.set_option('display.float_format', lambda x: '%.3f' % x)"
   ]
  },
  {
   "cell_type": "markdown",
   "metadata": {},
   "source": [
    "<h2><em>1. Data Sourcing</em></h2>"
   ]
  },
  {
   "cell_type": "markdown",
   "metadata": {},
   "source": [
    "<p>Load DataFrame from BigQuery public data and save to csv<p>"
   ]
  },
  {
   "cell_type": "code",
   "execution_count": 11,
   "metadata": {},
   "outputs": [
    {
     "name": "stderr",
     "output_type": "stream",
     "text": [
      "Downloading: 100%|██████████| 20349538/20349538 [1:12:07<00:00, 4702.71rows/s]\n"
     ]
    }
   ],
   "source": [
    "df = pandas_gbq.read_gbq('select * from bigquery-public-data.iowa_liquor_sales.sales', project_id='smarttender-273707')"
   ]
  },
  {
   "cell_type": "code",
   "execution_count": null,
   "metadata": {},
   "outputs": [],
   "source": [
    "df.to_csv(r'C:\\Users\\semeniuk\\Desktop\\Cases\\Case_Softconstruct\\dataset.csv')"
   ]
  },
  {
   "cell_type": "code",
   "execution_count": 2,
   "metadata": {},
   "outputs": [
    {
     "name": "stderr",
     "output_type": "stream",
     "text": [
      "C:\\Users\\semeniuk\\Anaconda3\\lib\\site-packages\\IPython\\core\\interactiveshell.py:3145: DtypeWarning: Columns (15) have mixed types.Specify dtype option on import or set low_memory=False.\n",
      "  has_raised = await self.run_ast_nodes(code_ast.body, cell_name,\n"
     ]
    }
   ],
   "source": [
    "df = pd.read_csv(r'C:\\Users\\semeniuk\\Desktop\\Cases\\Case_Softconstruct\\dataset.csv')"
   ]
  },
  {
   "cell_type": "code",
   "execution_count": 3,
   "metadata": {},
   "outputs": [],
   "source": [
    "df = df.drop(columns='Unnamed: 0')"
   ]
  },
  {
   "cell_type": "code",
   "execution_count": 4,
   "metadata": {},
   "outputs": [
    {
     "data": {
      "text/html": [
       "<div>\n",
       "<style scoped>\n",
       "    .dataframe tbody tr th:only-of-type {\n",
       "        vertical-align: middle;\n",
       "    }\n",
       "\n",
       "    .dataframe tbody tr th {\n",
       "        vertical-align: top;\n",
       "    }\n",
       "\n",
       "    .dataframe thead th {\n",
       "        text-align: right;\n",
       "    }\n",
       "</style>\n",
       "<table border=\"1\" class=\"dataframe\">\n",
       "  <thead>\n",
       "    <tr style=\"text-align: right;\">\n",
       "      <th></th>\n",
       "      <th>invoice_and_item_number</th>\n",
       "      <th>date</th>\n",
       "      <th>store_number</th>\n",
       "      <th>store_name</th>\n",
       "      <th>address</th>\n",
       "      <th>city</th>\n",
       "      <th>zip_code</th>\n",
       "      <th>store_location</th>\n",
       "      <th>county_number</th>\n",
       "      <th>county</th>\n",
       "      <th>category</th>\n",
       "      <th>category_name</th>\n",
       "      <th>vendor_number</th>\n",
       "      <th>vendor_name</th>\n",
       "      <th>item_number</th>\n",
       "      <th>item_description</th>\n",
       "      <th>pack</th>\n",
       "      <th>bottle_volume_ml</th>\n",
       "      <th>state_bottle_cost</th>\n",
       "      <th>state_bottle_retail</th>\n",
       "      <th>bottles_sold</th>\n",
       "      <th>sale_dollars</th>\n",
       "      <th>volume_sold_liters</th>\n",
       "      <th>volume_sold_gallons</th>\n",
       "    </tr>\n",
       "  </thead>\n",
       "  <tbody>\n",
       "    <tr>\n",
       "      <th>0</th>\n",
       "      <td>INV-03082000091</td>\n",
       "      <td>2017-02-03</td>\n",
       "      <td>3443</td>\n",
       "      <td>Super Saver Iv</td>\n",
       "      <td>1141 N Broadway</td>\n",
       "      <td>Council Bluffs</td>\n",
       "      <td>51503</td>\n",
       "      <td>POINT (-95.836515 41.270824)</td>\n",
       "      <td>78.000</td>\n",
       "      <td>POTTAWATTA</td>\n",
       "      <td>1062500.000</td>\n",
       "      <td>Flavored Rum</td>\n",
       "      <td>370.000</td>\n",
       "      <td>PERNOD RICARD USA</td>\n",
       "      <td>42718</td>\n",
       "      <td>Malibu Coconut Rum</td>\n",
       "      <td>6</td>\n",
       "      <td>1750</td>\n",
       "      <td>16.490</td>\n",
       "      <td>24.740</td>\n",
       "      <td>6</td>\n",
       "      <td>148.440</td>\n",
       "      <td>10.500</td>\n",
       "      <td>2.770</td>\n",
       "    </tr>\n",
       "    <tr>\n",
       "      <th>1</th>\n",
       "      <td>INV-32301500018</td>\n",
       "      <td>2020-11-30</td>\n",
       "      <td>5869</td>\n",
       "      <td>Tobacco Outlet Plus #507 - Urbandale</td>\n",
       "      <td>6941 Douglas Ave</td>\n",
       "      <td>Urbandale</td>\n",
       "      <td>50322</td>\n",
       "      <td>POINT (-93.711504 41.629416)</td>\n",
       "      <td>77.000</td>\n",
       "      <td>POLK</td>\n",
       "      <td>1062500.000</td>\n",
       "      <td>Flavored Rum</td>\n",
       "      <td>35.000</td>\n",
       "      <td>BACARDI USA INC</td>\n",
       "      <td>43138</td>\n",
       "      <td>Bacardi Limon</td>\n",
       "      <td>6</td>\n",
       "      <td>1750</td>\n",
       "      <td>15.000</td>\n",
       "      <td>22.500</td>\n",
       "      <td>6</td>\n",
       "      <td>135.000</td>\n",
       "      <td>10.500</td>\n",
       "      <td>2.770</td>\n",
       "    </tr>\n",
       "    <tr>\n",
       "      <th>2</th>\n",
       "      <td>INV-17059300006</td>\n",
       "      <td>2019-01-22</td>\n",
       "      <td>5326</td>\n",
       "      <td>Als Liquor</td>\n",
       "      <td>215 W. Milwaukee Ave</td>\n",
       "      <td>Storm Lake</td>\n",
       "      <td>50588</td>\n",
       "      <td>POINT (-95.202405 42.647492)</td>\n",
       "      <td>11.000</td>\n",
       "      <td>BUENA VIST</td>\n",
       "      <td>1062500.000</td>\n",
       "      <td>Flavored Rum</td>\n",
       "      <td>35.000</td>\n",
       "      <td>BACARDI USA INC</td>\n",
       "      <td>43138</td>\n",
       "      <td>Bacardi Limon</td>\n",
       "      <td>6</td>\n",
       "      <td>1750</td>\n",
       "      <td>15.000</td>\n",
       "      <td>22.500</td>\n",
       "      <td>6</td>\n",
       "      <td>135.000</td>\n",
       "      <td>10.500</td>\n",
       "      <td>2.770</td>\n",
       "    </tr>\n",
       "    <tr>\n",
       "      <th>3</th>\n",
       "      <td>INV-29255800079</td>\n",
       "      <td>2020-08-05</td>\n",
       "      <td>3443</td>\n",
       "      <td>Super Saver Iv</td>\n",
       "      <td>1141 N Broadway</td>\n",
       "      <td>Council Bluffs</td>\n",
       "      <td>51503</td>\n",
       "      <td>POINT (-95.836515 41.270824)</td>\n",
       "      <td>78.000</td>\n",
       "      <td>POTTAWATTA</td>\n",
       "      <td>1062500.000</td>\n",
       "      <td>Flavored Rum</td>\n",
       "      <td>370.000</td>\n",
       "      <td>PERNOD RICARD USA</td>\n",
       "      <td>42718</td>\n",
       "      <td>Malibu Coconut Rum</td>\n",
       "      <td>6</td>\n",
       "      <td>1750</td>\n",
       "      <td>16.990</td>\n",
       "      <td>25.490</td>\n",
       "      <td>6</td>\n",
       "      <td>152.940</td>\n",
       "      <td>10.500</td>\n",
       "      <td>2.770</td>\n",
       "    </tr>\n",
       "    <tr>\n",
       "      <th>4</th>\n",
       "      <td>INV-20691000018</td>\n",
       "      <td>2019-07-17</td>\n",
       "      <td>4239</td>\n",
       "      <td>Fareway Stores #850 / Spirit Lake</td>\n",
       "      <td>1906 Keokuk</td>\n",
       "      <td>Spirit Lake</td>\n",
       "      <td>51360</td>\n",
       "      <td>POINT (-95.106219 43.42157)</td>\n",
       "      <td>30.000</td>\n",
       "      <td>DICKINSON</td>\n",
       "      <td>1062500.000</td>\n",
       "      <td>Flavored Rum</td>\n",
       "      <td>370.000</td>\n",
       "      <td>PERNOD RICARD USA</td>\n",
       "      <td>42718</td>\n",
       "      <td>Malibu Coconut Rum</td>\n",
       "      <td>6</td>\n",
       "      <td>1750</td>\n",
       "      <td>16.990</td>\n",
       "      <td>25.490</td>\n",
       "      <td>6</td>\n",
       "      <td>148.440</td>\n",
       "      <td>10.500</td>\n",
       "      <td>2.770</td>\n",
       "    </tr>\n",
       "  </tbody>\n",
       "</table>\n",
       "</div>"
      ],
      "text/plain": [
       "  invoice_and_item_number        date  store_number  \\\n",
       "0         INV-03082000091  2017-02-03          3443   \n",
       "1         INV-32301500018  2020-11-30          5869   \n",
       "2         INV-17059300006  2019-01-22          5326   \n",
       "3         INV-29255800079  2020-08-05          3443   \n",
       "4         INV-20691000018  2019-07-17          4239   \n",
       "\n",
       "                             store_name               address            city  \\\n",
       "0                        Super Saver Iv       1141 N Broadway  Council Bluffs   \n",
       "1  Tobacco Outlet Plus #507 - Urbandale      6941 Douglas Ave       Urbandale   \n",
       "2                            Als Liquor  215 W. Milwaukee Ave      Storm Lake   \n",
       "3                        Super Saver Iv       1141 N Broadway  Council Bluffs   \n",
       "4     Fareway Stores #850 / Spirit Lake           1906 Keokuk     Spirit Lake   \n",
       "\n",
       "  zip_code                store_location  county_number      county  \\\n",
       "0    51503  POINT (-95.836515 41.270824)         78.000  POTTAWATTA   \n",
       "1    50322  POINT (-93.711504 41.629416)         77.000        POLK   \n",
       "2    50588  POINT (-95.202405 42.647492)         11.000  BUENA VIST   \n",
       "3    51503  POINT (-95.836515 41.270824)         78.000  POTTAWATTA   \n",
       "4    51360   POINT (-95.106219 43.42157)         30.000   DICKINSON   \n",
       "\n",
       "     category category_name  vendor_number        vendor_name item_number  \\\n",
       "0 1062500.000  Flavored Rum        370.000  PERNOD RICARD USA       42718   \n",
       "1 1062500.000  Flavored Rum         35.000    BACARDI USA INC       43138   \n",
       "2 1062500.000  Flavored Rum         35.000    BACARDI USA INC       43138   \n",
       "3 1062500.000  Flavored Rum        370.000  PERNOD RICARD USA       42718   \n",
       "4 1062500.000  Flavored Rum        370.000  PERNOD RICARD USA       42718   \n",
       "\n",
       "     item_description  pack  bottle_volume_ml  state_bottle_cost  \\\n",
       "0  Malibu Coconut Rum     6              1750             16.490   \n",
       "1       Bacardi Limon     6              1750             15.000   \n",
       "2       Bacardi Limon     6              1750             15.000   \n",
       "3  Malibu Coconut Rum     6              1750             16.990   \n",
       "4  Malibu Coconut Rum     6              1750             16.990   \n",
       "\n",
       "   state_bottle_retail  bottles_sold  sale_dollars  volume_sold_liters  \\\n",
       "0               24.740             6       148.440              10.500   \n",
       "1               22.500             6       135.000              10.500   \n",
       "2               22.500             6       135.000              10.500   \n",
       "3               25.490             6       152.940              10.500   \n",
       "4               25.490             6       148.440              10.500   \n",
       "\n",
       "   volume_sold_gallons  \n",
       "0                2.770  \n",
       "1                2.770  \n",
       "2                2.770  \n",
       "3                2.770  \n",
       "4                2.770  "
      ]
     },
     "execution_count": 4,
     "metadata": {},
     "output_type": "execute_result"
    }
   ],
   "source": [
    "df.head()"
   ]
  },
  {
   "cell_type": "markdown",
   "metadata": {},
   "source": [
    "<h2><em>2. Data Cleaning</em></h2>"
   ]
  },
  {
   "cell_type": "markdown",
   "metadata": {},
   "source": [
    "<h2><ul><li><strong>Missing values</strong></li></ul></h2>"
   ]
  },
  {
   "cell_type": "code",
   "execution_count": 5,
   "metadata": {},
   "outputs": [
    {
     "data": {
      "text/plain": [
       "invoice_and_item_number          0\n",
       "date                             0\n",
       "store_number                     0\n",
       "store_name                       0\n",
       "address                      79927\n",
       "city                         79926\n",
       "zip_code                     79971\n",
       "store_location             1951877\n",
       "county_number               156731\n",
       "county                      156729\n",
       "category                     16974\n",
       "category_name                25040\n",
       "vendor_number                    5\n",
       "vendor_name                      3\n",
       "item_number                      0\n",
       "item_description                 0\n",
       "pack                             0\n",
       "bottle_volume_ml                 0\n",
       "state_bottle_cost               10\n",
       "state_bottle_retail             10\n",
       "bottles_sold                     0\n",
       "sale_dollars                    10\n",
       "volume_sold_liters               0\n",
       "volume_sold_gallons              0\n",
       "dtype: int64"
      ]
     },
     "execution_count": 5,
     "metadata": {},
     "output_type": "execute_result"
    }
   ],
   "source": [
    "df.isnull().sum()"
   ]
  },
  {
   "cell_type": "markdown",
   "metadata": {},
   "source": [
    "For all categorical string column apply lowercase and title functions to make the same register."
   ]
  },
  {
   "cell_type": "code",
   "execution_count": 6,
   "metadata": {},
   "outputs": [],
   "source": [
    "df['store_name'] = df['store_name'].apply(lambda x: x.lower().title() if type(x) == str else x)\n",
    "df['address'] = df['address'].apply(lambda x: x.lower().title() if type(x) == str else x)\n",
    "df['city'] = df['city'].apply(lambda x: x.lower().title() if type(x) == str else x)\n",
    "df['county'] = df['county'].apply(lambda x: x.lower().title() if type(x) == str else x)\n",
    "df['category_name'] = df['category_name'].apply(lambda x: x.lower().title() if type(x) == str else x)\n",
    "df['vendor_name'] = df['vendor_name'].apply(lambda x: x.lower().upper() if type(x) == str else x)\n",
    "df['item_description'] = df['item_description'].apply(lambda x: x.lower().title() if type(x) == str else x)"
   ]
  },
  {
   "cell_type": "markdown",
   "metadata": {},
   "source": [
    "<p>As we can see, probably 6 fields(address, city, zip_code, store_location, county_number, county) can be filled based on store_number. Check this hypothesis</p>"
   ]
  },
  {
   "cell_type": "markdown",
   "metadata": {},
   "source": [
    "<h3 style=\"margin-left: 50px;\"><em>a). Analysis store_name and store_location</em></h3>"
   ]
  },
  {
   "cell_type": "markdown",
   "metadata": {},
   "source": [
    "<p>For the first, check one-to-one relation for columns \"store_number\" and \"store_name\"</p>"
   ]
  },
  {
   "cell_type": "code",
   "execution_count": 7,
   "metadata": {},
   "outputs": [
    {
     "name": "stdout",
     "output_type": "stream",
     "text": [
      "(2768, 2)\n",
      "(2521, 1)\n"
     ]
    }
   ],
   "source": [
    "print(df[['store_number', 'store_name']].drop_duplicates().shape)\n",
    "print(df[['store_number']].drop_duplicates().shape)"
   ]
  },
  {
   "cell_type": "markdown",
   "metadata": {},
   "source": [
    "It means that one store_number may have several store_name. \n",
    "Okay, then check reverse relations."
   ]
  },
  {
   "cell_type": "code",
   "execution_count": 8,
   "metadata": {},
   "outputs": [
    {
     "data": {
      "text/html": [
       "<div>\n",
       "<style scoped>\n",
       "    .dataframe tbody tr th:only-of-type {\n",
       "        vertical-align: middle;\n",
       "    }\n",
       "\n",
       "    .dataframe tbody tr th {\n",
       "        vertical-align: top;\n",
       "    }\n",
       "\n",
       "    .dataframe thead th {\n",
       "        text-align: right;\n",
       "    }\n",
       "</style>\n",
       "<table border=\"1\" class=\"dataframe\">\n",
       "  <thead>\n",
       "    <tr style=\"text-align: right;\">\n",
       "      <th></th>\n",
       "      <th>store_name</th>\n",
       "      <th>store_number</th>\n",
       "    </tr>\n",
       "  </thead>\n",
       "  <tbody>\n",
       "    <tr>\n",
       "      <th>2430</th>\n",
       "      <td>Urban Liquor</td>\n",
       "      <td>3</td>\n",
       "    </tr>\n",
       "    <tr>\n",
       "      <th>1212</th>\n",
       "      <td>Heartland Market</td>\n",
       "      <td>3</td>\n",
       "    </tr>\n",
       "    <tr>\n",
       "      <th>2109</th>\n",
       "      <td>Rolfe Area Market</td>\n",
       "      <td>3</td>\n",
       "    </tr>\n",
       "    <tr>\n",
       "      <th>2146</th>\n",
       "      <td>Sauce</td>\n",
       "      <td>3</td>\n",
       "    </tr>\n",
       "    <tr>\n",
       "      <th>1908</th>\n",
       "      <td>New Star / Fort Dodge</td>\n",
       "      <td>3</td>\n",
       "    </tr>\n",
       "    <tr>\n",
       "      <th>...</th>\n",
       "      <td>...</td>\n",
       "      <td>...</td>\n",
       "    </tr>\n",
       "    <tr>\n",
       "      <th>889</th>\n",
       "      <td>Dahl'S / Johnston</td>\n",
       "      <td>1</td>\n",
       "    </tr>\n",
       "    <tr>\n",
       "      <th>890</th>\n",
       "      <td>Dahl'S / Merle Hay</td>\n",
       "      <td>1</td>\n",
       "    </tr>\n",
       "    <tr>\n",
       "      <th>891</th>\n",
       "      <td>Dahl'S / Wdm</td>\n",
       "      <td>1</td>\n",
       "    </tr>\n",
       "    <tr>\n",
       "      <th>892</th>\n",
       "      <td>Dahl'S Foods / Ames</td>\n",
       "      <td>1</td>\n",
       "    </tr>\n",
       "    <tr>\n",
       "      <th>2641</th>\n",
       "      <td>Zapf'S Pronto Market</td>\n",
       "      <td>1</td>\n",
       "    </tr>\n",
       "  </tbody>\n",
       "</table>\n",
       "<p>2642 rows × 2 columns</p>\n",
       "</div>"
      ],
      "text/plain": [
       "                 store_name  store_number\n",
       "2430           Urban Liquor             3\n",
       "1212       Heartland Market             3\n",
       "2109      Rolfe Area Market             3\n",
       "2146                  Sauce             3\n",
       "1908  New Star / Fort Dodge             3\n",
       "...                     ...           ...\n",
       "889       Dahl'S / Johnston             1\n",
       "890      Dahl'S / Merle Hay             1\n",
       "891            Dahl'S / Wdm             1\n",
       "892     Dahl'S Foods / Ames             1\n",
       "2641   Zapf'S Pronto Market             1\n",
       "\n",
       "[2642 rows x 2 columns]"
      ]
     },
     "execution_count": 8,
     "metadata": {},
     "output_type": "execute_result"
    }
   ],
   "source": [
    "df.groupby('store_name').agg({'store_number': 'nunique'}).reset_index().sort_values(by='store_number', ascending=False)"
   ]
  },
  {
   "cell_type": "code",
   "execution_count": 9,
   "metadata": {},
   "outputs": [
    {
     "data": {
      "text/html": [
       "<div>\n",
       "<style scoped>\n",
       "    .dataframe tbody tr th:only-of-type {\n",
       "        vertical-align: middle;\n",
       "    }\n",
       "\n",
       "    .dataframe tbody tr th {\n",
       "        vertical-align: top;\n",
       "    }\n",
       "\n",
       "    .dataframe thead th {\n",
       "        text-align: right;\n",
       "    }\n",
       "</style>\n",
       "<table border=\"1\" class=\"dataframe\">\n",
       "  <thead>\n",
       "    <tr style=\"text-align: right;\">\n",
       "      <th></th>\n",
       "      <th>invoice_and_item_number</th>\n",
       "      <th>date</th>\n",
       "      <th>store_number</th>\n",
       "      <th>store_name</th>\n",
       "      <th>address</th>\n",
       "      <th>city</th>\n",
       "      <th>zip_code</th>\n",
       "      <th>store_location</th>\n",
       "      <th>county_number</th>\n",
       "      <th>county</th>\n",
       "      <th>category</th>\n",
       "      <th>category_name</th>\n",
       "      <th>vendor_number</th>\n",
       "      <th>vendor_name</th>\n",
       "      <th>item_number</th>\n",
       "      <th>item_description</th>\n",
       "      <th>pack</th>\n",
       "      <th>bottle_volume_ml</th>\n",
       "      <th>state_bottle_cost</th>\n",
       "      <th>state_bottle_retail</th>\n",
       "      <th>bottles_sold</th>\n",
       "      <th>sale_dollars</th>\n",
       "      <th>volume_sold_liters</th>\n",
       "      <th>volume_sold_gallons</th>\n",
       "    </tr>\n",
       "  </thead>\n",
       "  <tbody>\n",
       "    <tr>\n",
       "      <th>1075</th>\n",
       "      <td>S10479300051</td>\n",
       "      <td>2013-02-07</td>\n",
       "      <td>4614</td>\n",
       "      <td>Urban Liquor</td>\n",
       "      <td>6401 Douglas Ave Ste 1</td>\n",
       "      <td>Urbandale</td>\n",
       "      <td>50322</td>\n",
       "      <td>POINT (-93.705732 41.629411)</td>\n",
       "      <td>77.000</td>\n",
       "      <td>Polk</td>\n",
       "      <td>1031080.000</td>\n",
       "      <td>Vodka 80 Proof</td>\n",
       "      <td>260.000</td>\n",
       "      <td>DIAGEO AMERICAS</td>\n",
       "      <td>37418</td>\n",
       "      <td>Popov Vodka 80 Prf</td>\n",
       "      <td>6</td>\n",
       "      <td>1750</td>\n",
       "      <td>8.490</td>\n",
       "      <td>12.740</td>\n",
       "      <td>6</td>\n",
       "      <td>76.440</td>\n",
       "      <td>10.500</td>\n",
       "      <td>2.770</td>\n",
       "    </tr>\n",
       "    <tr>\n",
       "      <th>3580</th>\n",
       "      <td>S21810400006</td>\n",
       "      <td>2014-10-15</td>\n",
       "      <td>4939</td>\n",
       "      <td>Urban Liquor</td>\n",
       "      <td>6401 Douglas Ave   Ste 1</td>\n",
       "      <td>Urbandale</td>\n",
       "      <td>50322</td>\n",
       "      <td>POINT (-93.705732 41.629411)</td>\n",
       "      <td>77.000</td>\n",
       "      <td>Polk</td>\n",
       "      <td>1031080.000</td>\n",
       "      <td>Vodka 80 Proof</td>\n",
       "      <td>260.000</td>\n",
       "      <td>DIAGEO AMERICAS</td>\n",
       "      <td>38008</td>\n",
       "      <td>Smirnoff Vodka 80 Prf Pet</td>\n",
       "      <td>6</td>\n",
       "      <td>1750</td>\n",
       "      <td>14.750</td>\n",
       "      <td>22.130</td>\n",
       "      <td>2</td>\n",
       "      <td>44.260</td>\n",
       "      <td>3.500</td>\n",
       "      <td>0.920</td>\n",
       "    </tr>\n",
       "  </tbody>\n",
       "</table>\n",
       "</div>"
      ],
      "text/plain": [
       "     invoice_and_item_number        date  store_number    store_name  \\\n",
       "1075            S10479300051  2013-02-07          4614  Urban Liquor   \n",
       "3580            S21810400006  2014-10-15          4939  Urban Liquor   \n",
       "\n",
       "                       address       city zip_code  \\\n",
       "1075    6401 Douglas Ave Ste 1  Urbandale    50322   \n",
       "3580  6401 Douglas Ave   Ste 1  Urbandale    50322   \n",
       "\n",
       "                    store_location  county_number county    category  \\\n",
       "1075  POINT (-93.705732 41.629411)         77.000   Polk 1031080.000   \n",
       "3580  POINT (-93.705732 41.629411)         77.000   Polk 1031080.000   \n",
       "\n",
       "       category_name  vendor_number      vendor_name item_number  \\\n",
       "1075  Vodka 80 Proof        260.000  DIAGEO AMERICAS       37418   \n",
       "3580  Vodka 80 Proof        260.000  DIAGEO AMERICAS       38008   \n",
       "\n",
       "               item_description  pack  bottle_volume_ml  state_bottle_cost  \\\n",
       "1075         Popov Vodka 80 Prf     6              1750              8.490   \n",
       "3580  Smirnoff Vodka 80 Prf Pet     6              1750             14.750   \n",
       "\n",
       "      state_bottle_retail  bottles_sold  sale_dollars  volume_sold_liters  \\\n",
       "1075               12.740             6        76.440              10.500   \n",
       "3580               22.130             2        44.260               3.500   \n",
       "\n",
       "      volume_sold_gallons  \n",
       "1075                2.770  \n",
       "3580                0.920  "
      ]
     },
     "execution_count": 9,
     "metadata": {},
     "output_type": "execute_result"
    }
   ],
   "source": [
    "df[df['store_name'] == 'Urban Liquor'].head(2)"
   ]
  },
  {
   "cell_type": "markdown",
   "metadata": {},
   "source": [
    "As expected, store_name we must use carefully in our conclusions and split by store_number."
   ]
  },
  {
   "cell_type": "markdown",
   "metadata": {},
   "source": [
    "<h3 style=\"margin-left: 50px;\"><em>b). Analysis city</em></h3>"
   ]
  },
  {
   "cell_type": "markdown",
   "metadata": {},
   "source": [
    "Fill n/a city values based on store_number because it's unique.<br>\n",
    "For the first, check if the same shops have different city name."
   ]
  },
  {
   "cell_type": "code",
   "execution_count": 10,
   "metadata": {},
   "outputs": [
    {
     "name": "stderr",
     "output_type": "stream",
     "text": [
      "<ipython-input-10-8852135ee217>:3: UserWarning: Boolean Series key will be reindexed to match DataFrame index.\n",
      "  merge(df[['store_number', 'city']].drop_duplicates()[df['city'].notnull()], on='store_number', how='left')\n"
     ]
    },
    {
     "data": {
      "text/html": [
       "<div>\n",
       "<style scoped>\n",
       "    .dataframe tbody tr th:only-of-type {\n",
       "        vertical-align: middle;\n",
       "    }\n",
       "\n",
       "    .dataframe tbody tr th {\n",
       "        vertical-align: top;\n",
       "    }\n",
       "\n",
       "    .dataframe thead th {\n",
       "        text-align: right;\n",
       "    }\n",
       "</style>\n",
       "<table border=\"1\" class=\"dataframe\">\n",
       "  <thead>\n",
       "    <tr style=\"text-align: right;\">\n",
       "      <th></th>\n",
       "      <th>store_number</th>\n",
       "      <th>city</th>\n",
       "    </tr>\n",
       "  </thead>\n",
       "  <tbody>\n",
       "    <tr>\n",
       "      <th>0</th>\n",
       "      <td>3782</td>\n",
       "      <td>Guttenberg</td>\n",
       "    </tr>\n",
       "    <tr>\n",
       "      <th>1</th>\n",
       "      <td>3782</td>\n",
       "      <td>Guttenburg</td>\n",
       "    </tr>\n",
       "    <tr>\n",
       "      <th>2</th>\n",
       "      <td>2543</td>\n",
       "      <td>Ottuwma</td>\n",
       "    </tr>\n",
       "    <tr>\n",
       "      <th>3</th>\n",
       "      <td>2543</td>\n",
       "      <td>Ottumwa</td>\n",
       "    </tr>\n",
       "    <tr>\n",
       "      <th>4</th>\n",
       "      <td>4668</td>\n",
       "      <td>Clear Lake</td>\n",
       "    </tr>\n",
       "    <tr>\n",
       "      <th>5</th>\n",
       "      <td>4668</td>\n",
       "      <td>Clearlake</td>\n",
       "    </tr>\n",
       "    <tr>\n",
       "      <th>6</th>\n",
       "      <td>3456</td>\n",
       "      <td>Clear Lake</td>\n",
       "    </tr>\n",
       "    <tr>\n",
       "      <th>7</th>\n",
       "      <td>3456</td>\n",
       "      <td>Clearlake</td>\n",
       "    </tr>\n",
       "    <tr>\n",
       "      <th>8</th>\n",
       "      <td>3822</td>\n",
       "      <td>Swisher</td>\n",
       "    </tr>\n",
       "    <tr>\n",
       "      <th>9</th>\n",
       "      <td>3822</td>\n",
       "      <td>Shueyville</td>\n",
       "    </tr>\n",
       "    <tr>\n",
       "      <th>10</th>\n",
       "      <td>3742</td>\n",
       "      <td>Lemars</td>\n",
       "    </tr>\n",
       "    <tr>\n",
       "      <th>11</th>\n",
       "      <td>3742</td>\n",
       "      <td>Le Mars</td>\n",
       "    </tr>\n",
       "    <tr>\n",
       "      <th>12</th>\n",
       "      <td>5300</td>\n",
       "      <td>Otumwa</td>\n",
       "    </tr>\n",
       "    <tr>\n",
       "      <th>13</th>\n",
       "      <td>5300</td>\n",
       "      <td>Ottumwa</td>\n",
       "    </tr>\n",
       "    <tr>\n",
       "      <th>14</th>\n",
       "      <td>9911</td>\n",
       "      <td>Grimes</td>\n",
       "    </tr>\n",
       "    <tr>\n",
       "      <th>15</th>\n",
       "      <td>9911</td>\n",
       "      <td>Urbandale</td>\n",
       "    </tr>\n",
       "    <tr>\n",
       "      <th>16</th>\n",
       "      <td>2604</td>\n",
       "      <td>Lemars</td>\n",
       "    </tr>\n",
       "    <tr>\n",
       "      <th>17</th>\n",
       "      <td>2604</td>\n",
       "      <td>Le Mars</td>\n",
       "    </tr>\n",
       "  </tbody>\n",
       "</table>\n",
       "</div>"
      ],
      "text/plain": [
       "    store_number        city\n",
       "0           3782  Guttenberg\n",
       "1           3782  Guttenburg\n",
       "2           2543     Ottuwma\n",
       "3           2543     Ottumwa\n",
       "4           4668  Clear Lake\n",
       "5           4668   Clearlake\n",
       "6           3456  Clear Lake\n",
       "7           3456   Clearlake\n",
       "8           3822     Swisher\n",
       "9           3822  Shueyville\n",
       "10          3742      Lemars\n",
       "11          3742     Le Mars\n",
       "12          5300      Otumwa\n",
       "13          5300     Ottumwa\n",
       "14          9911      Grimes\n",
       "15          9911   Urbandale\n",
       "16          2604      Lemars\n",
       "17          2604     Le Mars"
      ]
     },
     "execution_count": 10,
     "metadata": {},
     "output_type": "execute_result"
    }
   ],
   "source": [
    "df.groupby('store_number').agg({'city': 'nunique'}).reset_index().\\\n",
    "                sort_values(by='city', ascending=False).query('city > 1').drop(columns='city').\\\n",
    "                merge(df[['store_number', 'city']].drop_duplicates()[df['city'].notnull()], on='store_number', how='left')"
   ]
  },
  {
   "cell_type": "markdown",
   "metadata": {},
   "source": [
    "As we can see, store '3822' and store '9911' have different city. Google it. Store '3822' located in Shueyville but store '9911' has the different adress into the different city. Fill n/a 50 rows randomly."
   ]
  },
  {
   "cell_type": "code",
   "execution_count": 11,
   "metadata": {},
   "outputs": [],
   "source": [
    "df['store_number'] = df['store_number'].astype('str')"
   ]
  },
  {
   "cell_type": "code",
   "execution_count": 12,
   "metadata": {},
   "outputs": [],
   "source": [
    "#For store #3822\n",
    "df.loc[df['store_number'] == '3822', 'city'] = 'Shueyville'\n",
    "#For store #9911\n",
    "df.loc[(df['store_number'] == '9911')&(df['city'].isnull()), 'city'] =\\\n",
    "                    df.loc[(df['store_number'] == '9911')&(df['city'].isnull()), 'city'].\\\n",
    "                    apply(lambda x: np.random.choice(['Grimes', 'Urbandale']))"
   ]
  },
  {
   "cell_type": "markdown",
   "metadata": {},
   "source": [
    "For the next, manually find mistake similar <em>'Guttenberg'</em> and <em>'Guttenburg'</em> based on same name and Zip_code."
   ]
  },
  {
   "cell_type": "code",
   "execution_count": 13,
   "metadata": {},
   "outputs": [],
   "source": [
    "df.loc[df['city'] == \"Arnold'S Park\",'city'] = df.loc[df['city'] == \"Arnold'S Park\",'city'].\\\n",
    "                                                         apply(lambda x: 'Arnolds Park')\n",
    "df.loc[df['city'] == \"Clearlake\",'city'] = df.loc[df['city'] == \"Clearlake\",'city'].apply(lambda x: 'Clear Lake')\n",
    "df.loc[df['city'] == \"Fort Atkinson\",'city'] = df.loc[df['city'] == \"Fort Atkinson\",'city'].apply(lambda x: 'Ft. Atkinson')\n",
    "df.loc[df['city'] == \"Grand Mounds\",'city'] = df.loc[df['city'] == \"Grand Mounds\",'city'].apply(lambda x: 'Grand Mound')\n",
    "df.loc[df['city'] == \"Guttenburg\",'city'] = df.loc[df['city'] == \"Guttenburg\",'city'].apply(lambda x: 'Guttenberg')\n",
    "df.loc[df['city'] == \"Leclaire\",'city'] = df.loc[df['city'] == \"Leclaire\",'city'].apply(lambda x: 'Le Claire')\n",
    "df.loc[df['city'] == \"Lemars\",'city'] = df.loc[df['city'] == \"Lemars\",'city'].apply(lambda x: 'Le Mars')\n",
    "df.loc[df['city'] == \"Mount Pleasant\",'city'] = df.loc[df['city'] == \"Mount Pleasant\",'city'].apply(lambda x: 'Mt Pleasant')\n",
    "df.loc[df['city'] == \"Mount Vernon\",'city'] = df.loc[df['city'] == \"Mount Vernon\",'city'].apply(lambda x: 'Mt Vernon')\n",
    "df.loc[df['city'] == \"Otumwa\",'city'] = df.loc[df['city'] == \"Otumwa\",'city'].apply(lambda x: 'Ottumwa')\n",
    "df.loc[df['city'] == \"Ottuwma\",'city'] = df.loc[df['city'] == \"Ottuwma\",'city'].apply(lambda x: 'Ottumwa')\n",
    "df.loc[df['city'] == \"Saint Ansgar\",'city'] = df.loc[df['city'] == \"Saint Ansgar\",'city'].apply(lambda x: 'St Ansgar')"
   ]
  },
  {
   "cell_type": "markdown",
   "metadata": {},
   "source": [
    "<strong>Split table df into two batches: with null city and not null. Create table from batch with not null city and use table as dictionary for table with null city. Fill n/a value and concat two batches.</strong>"
   ]
  },
  {
   "cell_type": "code",
   "execution_count": 118,
   "metadata": {},
   "outputs": [
    {
     "name": "stdout",
     "output_type": "stream",
     "text": [
      "(78420, 24)\n",
      "(78420, 24)\n"
     ]
    }
   ],
   "source": [
    "df_store_num_city = df[['store_number', 'city']][df['city'].notnull()].drop_duplicates().reset_index(drop=True)\n",
    "\n",
    "df_isnull = df.loc[df['city'].isnull()]\n",
    "print(df_isnull.shape)\n",
    "df_notnull = df.loc[~df['city'].isnull()]\n",
    "\n",
    "df_isnull = df_isnull.drop(columns='city')\n",
    "\n",
    "df_isnull = df_isnull.merge(df_store_num_city, how='left', on='store_number')\n",
    "print(df_isnull.shape)\n",
    "\n",
    "df_filled = pd.concat([df_notnull, df_isnull])"
   ]
  },
  {
   "cell_type": "code",
   "execution_count": 119,
   "metadata": {},
   "outputs": [
    {
     "data": {
      "text/html": [
       "<div>\n",
       "<style scoped>\n",
       "    .dataframe tbody tr th:only-of-type {\n",
       "        vertical-align: middle;\n",
       "    }\n",
       "\n",
       "    .dataframe tbody tr th {\n",
       "        vertical-align: top;\n",
       "    }\n",
       "\n",
       "    .dataframe thead th {\n",
       "        text-align: right;\n",
       "    }\n",
       "</style>\n",
       "<table border=\"1\" class=\"dataframe\">\n",
       "  <thead>\n",
       "    <tr style=\"text-align: right;\">\n",
       "      <th></th>\n",
       "      <th>store_number</th>\n",
       "    </tr>\n",
       "    <tr>\n",
       "      <th>store_number</th>\n",
       "      <th></th>\n",
       "    </tr>\n",
       "  </thead>\n",
       "  <tbody>\n",
       "    <tr>\n",
       "      <th>5320</th>\n",
       "      <td>1</td>\n",
       "    </tr>\n",
       "  </tbody>\n",
       "</table>\n",
       "</div>"
      ],
      "text/plain": [
       "              store_number\n",
       "store_number              \n",
       "5320                     1"
      ]
     },
     "execution_count": 119,
     "metadata": {},
     "output_type": "execute_result"
    }
   ],
   "source": [
    "df_filled[df_filled['city'].isnull()][['store_number']].groupby('store_number').agg({'store_number': 'nunique'})"
   ]
  },
  {
   "cell_type": "markdown",
   "metadata": {},
   "source": [
    "Drop this store, because we haven't valuable information by this invoices"
   ]
  },
  {
   "cell_type": "code",
   "execution_count": 120,
   "metadata": {},
   "outputs": [],
   "source": [
    "df_filled = df_filled[df_filled['store_number'] != '5320']\n",
    "df_filled = df_filled.reset_index(drop=True)"
   ]
  },
  {
   "cell_type": "code",
   "execution_count": 121,
   "metadata": {},
   "outputs": [
    {
     "data": {
      "text/plain": [
       "0"
      ]
     },
     "execution_count": 121,
     "metadata": {},
     "output_type": "execute_result"
    }
   ],
   "source": [
    "df_filled['city'].isnull().sum()"
   ]
  },
  {
   "cell_type": "markdown",
   "metadata": {},
   "source": [
    "<h3 style=\"margin-left: 50px;\"><em>c). Fillna address and zip_code</em></h3>"
   ]
  },
  {
   "cell_type": "code",
   "execution_count": 122,
   "metadata": {},
   "outputs": [
    {
     "name": "stdout",
     "output_type": "stream",
     "text": [
      "(79080, 24)\n",
      "(79080, 24)\n"
     ]
    }
   ],
   "source": [
    "df_store_num_city_address = df_filled[['store_number', 'city', 'address']][df_filled['address'].notnull()].\\\n",
    "                                        drop_duplicates(subset=['store_number', 'city'], keep='first').reset_index(drop=True)\n",
    "\n",
    "df_isnull = df_filled.loc[df_filled['address'].isnull()]\n",
    "print(df_isnull.shape)\n",
    "df_notnull = df_filled.loc[~df_filled['address'].isnull()]\n",
    "\n",
    "df_isnull = df_isnull.drop(columns='address')\n",
    "\n",
    "df_isnull = df_isnull.merge(df_store_num_city_address, how='left', on=['store_number', 'city'])\n",
    "print(df_isnull.shape)\n",
    "\n",
    "df_filled = pd.concat([df_notnull, df_isnull])"
   ]
  },
  {
   "cell_type": "code",
   "execution_count": 123,
   "metadata": {},
   "outputs": [
    {
     "data": {
      "text/plain": [
       "1"
      ]
     },
     "execution_count": 123,
     "metadata": {},
     "output_type": "execute_result"
    }
   ],
   "source": [
    "df_filled['address'].isnull().sum()"
   ]
  },
  {
   "cell_type": "code",
   "execution_count": 124,
   "metadata": {},
   "outputs": [
    {
     "data": {
      "text/html": [
       "<div>\n",
       "<style scoped>\n",
       "    .dataframe tbody tr th:only-of-type {\n",
       "        vertical-align: middle;\n",
       "    }\n",
       "\n",
       "    .dataframe tbody tr th {\n",
       "        vertical-align: top;\n",
       "    }\n",
       "\n",
       "    .dataframe thead th {\n",
       "        text-align: right;\n",
       "    }\n",
       "</style>\n",
       "<table border=\"1\" class=\"dataframe\">\n",
       "  <thead>\n",
       "    <tr style=\"text-align: right;\">\n",
       "      <th></th>\n",
       "      <th>invoice_and_item_number</th>\n",
       "      <th>date</th>\n",
       "      <th>store_number</th>\n",
       "      <th>store_name</th>\n",
       "      <th>address</th>\n",
       "      <th>city</th>\n",
       "      <th>zip_code</th>\n",
       "      <th>store_location</th>\n",
       "      <th>county_number</th>\n",
       "      <th>county</th>\n",
       "      <th>category</th>\n",
       "      <th>category_name</th>\n",
       "      <th>vendor_number</th>\n",
       "      <th>vendor_name</th>\n",
       "      <th>item_number</th>\n",
       "      <th>item_description</th>\n",
       "      <th>pack</th>\n",
       "      <th>bottle_volume_ml</th>\n",
       "      <th>state_bottle_cost</th>\n",
       "      <th>state_bottle_retail</th>\n",
       "      <th>bottles_sold</th>\n",
       "      <th>sale_dollars</th>\n",
       "      <th>volume_sold_liters</th>\n",
       "      <th>volume_sold_gallons</th>\n",
       "    </tr>\n",
       "  </thead>\n",
       "  <tbody>\n",
       "    <tr>\n",
       "      <th>499</th>\n",
       "      <td>INV-05674000001</td>\n",
       "      <td>2017-06-22</td>\n",
       "      <td>9932</td>\n",
       "      <td>3-Oaks Distillery, Llc</td>\n",
       "      <td>NaN</td>\n",
       "      <td>Dubuque</td>\n",
       "      <td>52002</td>\n",
       "      <td>POINT (-90.766335 42.516027)</td>\n",
       "      <td>31.000</td>\n",
       "      <td>Dubuque</td>\n",
       "      <td>1011100.000</td>\n",
       "      <td>Blended Whiskies</td>\n",
       "      <td>215.000</td>\n",
       "      <td>3-OAKS DISTILLERY, LLC</td>\n",
       "      <td>27890</td>\n",
       "      <td>3-Oaks Distillery Whiskey</td>\n",
       "      <td>12</td>\n",
       "      <td>750</td>\n",
       "      <td>21.600</td>\n",
       "      <td>32.400</td>\n",
       "      <td>1</td>\n",
       "      <td>388.800</td>\n",
       "      <td>0.750</td>\n",
       "      <td>0.190</td>\n",
       "    </tr>\n",
       "  </tbody>\n",
       "</table>\n",
       "</div>"
      ],
      "text/plain": [
       "    invoice_and_item_number        date store_number              store_name  \\\n",
       "499         INV-05674000001  2017-06-22         9932  3-Oaks Distillery, Llc   \n",
       "\n",
       "    address     city zip_code                store_location  county_number  \\\n",
       "499     NaN  Dubuque    52002  POINT (-90.766335 42.516027)         31.000   \n",
       "\n",
       "      county    category     category_name  vendor_number  \\\n",
       "499  Dubuque 1011100.000  Blended Whiskies        215.000   \n",
       "\n",
       "                vendor_name item_number           item_description  pack  \\\n",
       "499  3-OAKS DISTILLERY, LLC       27890  3-Oaks Distillery Whiskey    12   \n",
       "\n",
       "     bottle_volume_ml  state_bottle_cost  state_bottle_retail  bottles_sold  \\\n",
       "499               750             21.600               32.400             1   \n",
       "\n",
       "     sale_dollars  volume_sold_liters  volume_sold_gallons  \n",
       "499       388.800               0.750                0.190  "
      ]
     },
     "execution_count": 124,
     "metadata": {},
     "output_type": "execute_result"
    }
   ],
   "source": [
    "df_filled[df_filled['address'].isnull()]"
   ]
  },
  {
   "cell_type": "code",
   "execution_count": 125,
   "metadata": {},
   "outputs": [],
   "source": [
    "df_filled.loc[df_filled['store_number'] == '9932', 'address'] = 'address_9932'"
   ]
  },
  {
   "cell_type": "markdown",
   "metadata": {},
   "source": [
    "--------"
   ]
  },
  {
   "cell_type": "code",
   "execution_count": 126,
   "metadata": {},
   "outputs": [
    {
     "name": "stdout",
     "output_type": "stream",
     "text": [
      "(79124, 24)\n",
      "(79124, 24)\n"
     ]
    }
   ],
   "source": [
    "df_store_num_city_zip = df_filled[['store_number', 'city', 'zip_code']][df_filled['zip_code'].notnull()].\\\n",
    "                                        drop_duplicates(subset=['store_number', 'city'], keep='first').reset_index(drop=True)\n",
    "\n",
    "df_isnull = df_filled.loc[df_filled['zip_code'].isnull()]\n",
    "print(df_isnull.shape)\n",
    "df_notnull = df_filled.loc[~df_filled['zip_code'].isnull()]\n",
    "\n",
    "df_isnull = df_isnull.drop(columns='zip_code')\n",
    "\n",
    "df_isnull = df_isnull.merge(df_store_num_city_zip, how='left', on=['store_number', 'city'])\n",
    "print(df_isnull.shape)\n",
    "\n",
    "df_filled = pd.concat([df_notnull, df_isnull])"
   ]
  },
  {
   "cell_type": "code",
   "execution_count": 127,
   "metadata": {},
   "outputs": [
    {
     "data": {
      "text/plain": [
       "0"
      ]
     },
     "execution_count": 127,
     "metadata": {},
     "output_type": "execute_result"
    }
   ],
   "source": [
    "df_filled['zip_code'].isnull().sum()"
   ]
  },
  {
   "cell_type": "markdown",
   "metadata": {},
   "source": [
    "<h3 style=\"margin-left: 50px;\"><em>d). Fillna county and county_number</em></h3>"
   ]
  },
  {
   "cell_type": "markdown",
   "metadata": {},
   "source": [
    "Because county and county_number very valuable values, analyze naming of county."
   ]
  },
  {
   "cell_type": "code",
   "execution_count": 128,
   "metadata": {},
   "outputs": [
    {
     "data": {
      "text/html": [
       "<div>\n",
       "<style scoped>\n",
       "    .dataframe tbody tr th:only-of-type {\n",
       "        vertical-align: middle;\n",
       "    }\n",
       "\n",
       "    .dataframe tbody tr th {\n",
       "        vertical-align: top;\n",
       "    }\n",
       "\n",
       "    .dataframe thead th {\n",
       "        text-align: right;\n",
       "    }\n",
       "</style>\n",
       "<table border=\"1\" class=\"dataframe\">\n",
       "  <thead>\n",
       "    <tr style=\"text-align: right;\">\n",
       "      <th></th>\n",
       "      <th>store_number</th>\n",
       "      <th>county</th>\n",
       "    </tr>\n",
       "  </thead>\n",
       "  <tbody>\n",
       "    <tr>\n",
       "      <th>0</th>\n",
       "      <td>4867</td>\n",
       "      <td>Pottawattamie</td>\n",
       "    </tr>\n",
       "    <tr>\n",
       "      <th>1</th>\n",
       "      <td>4867</td>\n",
       "      <td>Pottawatta</td>\n",
       "    </tr>\n",
       "    <tr>\n",
       "      <th>2</th>\n",
       "      <td>4312</td>\n",
       "      <td>Pottawattamie</td>\n",
       "    </tr>\n",
       "    <tr>\n",
       "      <th>3</th>\n",
       "      <td>4312</td>\n",
       "      <td>Pottawatta</td>\n",
       "    </tr>\n",
       "    <tr>\n",
       "      <th>4</th>\n",
       "      <td>4982</td>\n",
       "      <td>Buena Vist</td>\n",
       "    </tr>\n",
       "    <tr>\n",
       "      <th>...</th>\n",
       "      <td>...</td>\n",
       "      <td>...</td>\n",
       "    </tr>\n",
       "    <tr>\n",
       "      <th>181</th>\n",
       "      <td>3629</td>\n",
       "      <td>Pottawattamie</td>\n",
       "    </tr>\n",
       "    <tr>\n",
       "      <th>182</th>\n",
       "      <td>5182</td>\n",
       "      <td>Pottawatta</td>\n",
       "    </tr>\n",
       "    <tr>\n",
       "      <th>183</th>\n",
       "      <td>5182</td>\n",
       "      <td>Pottawattamie</td>\n",
       "    </tr>\n",
       "    <tr>\n",
       "      <th>184</th>\n",
       "      <td>2290</td>\n",
       "      <td>Buena Vista</td>\n",
       "    </tr>\n",
       "    <tr>\n",
       "      <th>185</th>\n",
       "      <td>2290</td>\n",
       "      <td>Buena Vist</td>\n",
       "    </tr>\n",
       "  </tbody>\n",
       "</table>\n",
       "<p>186 rows × 2 columns</p>\n",
       "</div>"
      ],
      "text/plain": [
       "    store_number         county\n",
       "0           4867  Pottawattamie\n",
       "1           4867     Pottawatta\n",
       "2           4312  Pottawattamie\n",
       "3           4312     Pottawatta\n",
       "4           4982     Buena Vist\n",
       "..           ...            ...\n",
       "181         3629  Pottawattamie\n",
       "182         5182     Pottawatta\n",
       "183         5182  Pottawattamie\n",
       "184         2290    Buena Vista\n",
       "185         2290     Buena Vist\n",
       "\n",
       "[186 rows x 2 columns]"
      ]
     },
     "execution_count": 128,
     "metadata": {},
     "output_type": "execute_result"
    }
   ],
   "source": [
    "df_filled.groupby('store_number').agg({'county': 'nunique'}).reset_index().\\\n",
    "                sort_values(by='county', ascending=False).query('county > 1').drop(columns='county').\\\n",
    "                merge(df_filled[df_filled['county'].notnull()][['store_number', 'county']].\\\n",
    "                drop_duplicates(), on='store_number', how='left')"
   ]
  },
  {
   "cell_type": "markdown",
   "metadata": {},
   "source": [
    "As we can see, many county value have similar name but not the same, fix it."
   ]
  },
  {
   "cell_type": "code",
   "execution_count": 129,
   "metadata": {},
   "outputs": [],
   "source": [
    "df_filled.loc[df_filled['county'] == \"Cerro Gord\", 'county'] = \\\n",
    "                df_filled.loc[df_filled['county'] == \"Cerro Gord\", 'county'].apply(lambda x: 'Cerro Gordo')\n",
    "df_filled.loc[df_filled['county'] == \"Pottawatta\", 'county'] = \\\n",
    "                df_filled.loc[df_filled['county'] == \"Pottawatta\", 'county'].apply(lambda x: 'Pottawattamie')\n",
    "df_filled.loc[df_filled['county'] == \"Buena Vist\", 'county'] = \\\n",
    "                df_filled.loc[df_filled['county'] == \"Buena Vist\", 'county'].apply(lambda x: 'Buena Vista')\n",
    "df_filled.loc[df_filled['county'] == \"Obrien\", 'county'] = \\\n",
    "                df_filled.loc[df_filled['county'] == \"Obrien\", 'county'].apply(lambda x: \"O'Brien\")"
   ]
  },
  {
   "cell_type": "code",
   "execution_count": 130,
   "metadata": {},
   "outputs": [],
   "source": [
    "df_county = df_filled[(df_filled['county'].notnull())&(df_filled['county_number'].notnull())].\\\n",
    "                groupby(['store_number', 'city', 'county', 'county_number']).\\\n",
    "                agg({'store_name': 'count'}).sort_values(by='store_name', ascending=False).reset_index()\n",
    "df_county = df_county.drop_duplicates(subset=['store_number', 'city'], keep='first').reset_index(drop=True)\n",
    "df_county = df_county.drop(columns='store_name')"
   ]
  },
  {
   "cell_type": "code",
   "execution_count": 131,
   "metadata": {},
   "outputs": [
    {
     "name": "stdout",
     "output_type": "stream",
     "text": [
      "(155884, 24)\n",
      "(155884, 24)\n"
     ]
    }
   ],
   "source": [
    "df_isnull = df_filled.loc[(df_filled['county'].isnull())|(df_filled['county_number'].isnull())]\n",
    "print(df_isnull.shape)\n",
    "df_notnull = df_filled.loc[~((df_filled['county'].isnull())|(df_filled['county_number'].isnull()))]\n",
    "\n",
    "df_isnull = df_isnull.drop(columns=['county', 'county_number'])\n",
    "\n",
    "df_isnull = df_isnull.merge(df_county, how='left', on=['store_number', 'city'])\n",
    "print(df_isnull.shape)\n",
    "\n",
    "df_filled = pd.concat([df_notnull, df_isnull])"
   ]
  },
  {
   "cell_type": "code",
   "execution_count": 132,
   "metadata": {},
   "outputs": [
    {
     "data": {
      "text/html": [
       "<div>\n",
       "<style scoped>\n",
       "    .dataframe tbody tr th:only-of-type {\n",
       "        vertical-align: middle;\n",
       "    }\n",
       "\n",
       "    .dataframe tbody tr th {\n",
       "        vertical-align: top;\n",
       "    }\n",
       "\n",
       "    .dataframe thead th {\n",
       "        text-align: right;\n",
       "    }\n",
       "</style>\n",
       "<table border=\"1\" class=\"dataframe\">\n",
       "  <thead>\n",
       "    <tr style=\"text-align: right;\">\n",
       "      <th></th>\n",
       "      <th></th>\n",
       "      <th></th>\n",
       "      <th></th>\n",
       "      <th>store_number</th>\n",
       "    </tr>\n",
       "    <tr>\n",
       "      <th>store_number</th>\n",
       "      <th>address</th>\n",
       "      <th>city</th>\n",
       "      <th>store_name</th>\n",
       "      <th></th>\n",
       "    </tr>\n",
       "  </thead>\n",
       "  <tbody>\n",
       "    <tr>\n",
       "      <th>5220</th>\n",
       "      <th>2771, 4Th St Sw</th>\n",
       "      <th>Mason City</th>\n",
       "      <th>Liquor Tobacco &amp; Grocery / Mason Cit</th>\n",
       "      <td>1</td>\n",
       "    </tr>\n",
       "    <tr>\n",
       "      <th>9936</th>\n",
       "      <th>1685 W Uintah St. #101</th>\n",
       "      <th>Colorado Springs</th>\n",
       "      <th>Dash Events Llc</th>\n",
       "      <td>1</td>\n",
       "    </tr>\n",
       "  </tbody>\n",
       "</table>\n",
       "</div>"
      ],
      "text/plain": [
       "                                                                                           store_number\n",
       "store_number address                city             store_name                                        \n",
       "5220         2771, 4Th St Sw        Mason City       Liquor Tobacco & Grocery / Mason Cit             1\n",
       "9936         1685 W Uintah St. #101 Colorado Springs Dash Events Llc                                  1"
      ]
     },
     "execution_count": 132,
     "metadata": {},
     "output_type": "execute_result"
    }
   ],
   "source": [
    "df_filled[df_filled['county'].isnull()].\\\n",
    "            groupby(['store_number', 'address', 'city', 'store_name']).agg({'store_number': 'nunique'})"
   ]
  },
  {
   "cell_type": "markdown",
   "metadata": {},
   "source": [
    "Google it, and fill."
   ]
  },
  {
   "cell_type": "code",
   "execution_count": 133,
   "metadata": {},
   "outputs": [],
   "source": [
    "df_filled.loc[df_filled['store_number'] == '5220', 'county'] = 'Cerro Gordo'\n",
    "df_filled.loc[df_filled['store_number'] == '5220', 'county_number'] = '17'\n",
    "\n",
    "# And Colorado Springs not in IOWA, drop this rows.\n",
    "df_filled = df_filled[df_filled['city'] != 'Colorado Springs']"
   ]
  },
  {
   "cell_type": "code",
   "execution_count": 134,
   "metadata": {},
   "outputs": [
    {
     "name": "stdout",
     "output_type": "stream",
     "text": [
      "0\n",
      "0\n"
     ]
    }
   ],
   "source": [
    "print(df_filled['county'].isnull().sum())\n",
    "print(df_filled['county_number'].isnull().sum())"
   ]
  },
  {
   "cell_type": "code",
   "execution_count": 135,
   "metadata": {},
   "outputs": [
    {
     "data": {
      "text/plain": [
       "(20348689, 24)"
      ]
     },
     "execution_count": 135,
     "metadata": {},
     "output_type": "execute_result"
    }
   ],
   "source": [
    "# New shape\n",
    "df_filled.shape"
   ]
  },
  {
   "cell_type": "markdown",
   "metadata": {},
   "source": [
    "<h3 style=\"margin-left: 50px;\"><em>d). Fillna store_location</em></h3>"
   ]
  },
  {
   "cell_type": "markdown",
   "metadata": {},
   "source": [
    "<strong>Location is a quantitative feature so we must fill cells as much as possible.</strong>"
   ]
  },
  {
   "cell_type": "code",
   "execution_count": 136,
   "metadata": {},
   "outputs": [],
   "source": [
    "df_store_location = df_filled[df_filled['store_location'].notnull()]\\\n",
    "                        [['store_number', 'city', 'county', 'store_location']].drop_duplicates().reset_index()"
   ]
  },
  {
   "cell_type": "code",
   "execution_count": 137,
   "metadata": {},
   "outputs": [],
   "source": [
    "df_store_location['store_location_x'] = df_store_location['store_location'].apply(lambda x: x[7:-1].split(' ')[0])\n",
    "df_store_location['store_location_y'] = df_store_location['store_location'].apply(lambda x: x[7:-1].split(' ')[1])\n",
    "df_store_location['store_location_x'] = df_store_location['store_location_x'].astype('float')\n",
    "df_store_location['store_location_y'] = df_store_location['store_location_y'].astype('float')"
   ]
  },
  {
   "cell_type": "markdown",
   "metadata": {},
   "source": [
    "Check outliers"
   ]
  },
  {
   "cell_type": "code",
   "execution_count": 138,
   "metadata": {},
   "outputs": [
    {
     "data": {
      "text/html": [
       "<div>\n",
       "<style scoped>\n",
       "    .dataframe tbody tr th:only-of-type {\n",
       "        vertical-align: middle;\n",
       "    }\n",
       "\n",
       "    .dataframe tbody tr th {\n",
       "        vertical-align: top;\n",
       "    }\n",
       "\n",
       "    .dataframe thead th {\n",
       "        text-align: right;\n",
       "    }\n",
       "</style>\n",
       "<table border=\"1\" class=\"dataframe\">\n",
       "  <thead>\n",
       "    <tr style=\"text-align: right;\">\n",
       "      <th></th>\n",
       "      <th>index</th>\n",
       "      <th>store_number</th>\n",
       "      <th>city</th>\n",
       "      <th>county</th>\n",
       "      <th>store_location</th>\n",
       "      <th>store_location_x</th>\n",
       "      <th>store_location_y</th>\n",
       "    </tr>\n",
       "  </thead>\n",
       "  <tbody>\n",
       "    <tr>\n",
       "      <th>2229</th>\n",
       "      <td>165243</td>\n",
       "      <td>5876</td>\n",
       "      <td>West Bend</td>\n",
       "      <td>Palo Alto</td>\n",
       "      <td>POINT (-73.982421 40.305231000000006)</td>\n",
       "      <td>-73.982</td>\n",
       "      <td>40.305</td>\n",
       "    </tr>\n",
       "  </tbody>\n",
       "</table>\n",
       "</div>"
      ],
      "text/plain": [
       "       index store_number       city     county  \\\n",
       "2229  165243         5876  West Bend  Palo Alto   \n",
       "\n",
       "                             store_location  store_location_x  \\\n",
       "2229  POINT (-73.982421 40.305231000000006)           -73.982   \n",
       "\n",
       "      store_location_y  \n",
       "2229            40.305  "
      ]
     },
     "execution_count": 138,
     "metadata": {},
     "output_type": "execute_result"
    }
   ],
   "source": [
    "df_store_location[df_store_location['store_location_x'] > \\\n",
    "                  df_store_location['store_location_x'].mean() + 3 * df_store_location['store_location_x'].std()]"
   ]
  },
  {
   "cell_type": "code",
   "execution_count": 139,
   "metadata": {},
   "outputs": [
    {
     "data": {
      "text/html": [
       "<div>\n",
       "<style scoped>\n",
       "    .dataframe tbody tr th:only-of-type {\n",
       "        vertical-align: middle;\n",
       "    }\n",
       "\n",
       "    .dataframe tbody tr th {\n",
       "        vertical-align: top;\n",
       "    }\n",
       "\n",
       "    .dataframe thead th {\n",
       "        text-align: right;\n",
       "    }\n",
       "</style>\n",
       "<table border=\"1\" class=\"dataframe\">\n",
       "  <thead>\n",
       "    <tr style=\"text-align: right;\">\n",
       "      <th></th>\n",
       "      <th>index</th>\n",
       "      <th>store_number</th>\n",
       "      <th>city</th>\n",
       "      <th>county</th>\n",
       "      <th>store_location</th>\n",
       "      <th>store_location_x</th>\n",
       "      <th>store_location_y</th>\n",
       "    </tr>\n",
       "  </thead>\n",
       "  <tbody>\n",
       "    <tr>\n",
       "      <th>1235</th>\n",
       "      <td>6472</td>\n",
       "      <td>4722</td>\n",
       "      <td>Burlington</td>\n",
       "      <td>Des Moines</td>\n",
       "      <td>POINT (-95.79728 45.009612)</td>\n",
       "      <td>-95.797</td>\n",
       "      <td>45.010</td>\n",
       "    </tr>\n",
       "  </tbody>\n",
       "</table>\n",
       "</div>"
      ],
      "text/plain": [
       "      index store_number        city      county               store_location  \\\n",
       "1235   6472         4722  Burlington  Des Moines  POINT (-95.79728 45.009612)   \n",
       "\n",
       "      store_location_x  store_location_y  \n",
       "1235           -95.797            45.010  "
      ]
     },
     "execution_count": 139,
     "metadata": {},
     "output_type": "execute_result"
    }
   ],
   "source": [
    "df_store_location[df_store_location['store_location_y'] > \\\n",
    "                  df_store_location['store_location_y'].mean() + 3 * df_store_location['store_location_y'].std()]"
   ]
  },
  {
   "cell_type": "markdown",
   "metadata": {},
   "source": [
    "Google real coordinates and change values."
   ]
  },
  {
   "cell_type": "code",
   "execution_count": 140,
   "metadata": {},
   "outputs": [],
   "source": [
    "df_filled.loc[df_filled['store_number'] == '5876', 'store_location'] = 'POINT (-94.445100 42.960000)'\n",
    "df_filled.loc[df_filled['store_number'] == '4722', 'store_location'] = 'POINT (-91.112900 40.807700)'"
   ]
  },
  {
   "cell_type": "code",
   "execution_count": 141,
   "metadata": {},
   "outputs": [],
   "source": [
    "df_store_location = df_filled[df_filled['store_location'].notnull()]\\\n",
    "                        [['store_number', 'city', 'county', 'store_location']].drop_duplicates().reset_index(drop=True)\n",
    "df_store_location['store_location_x'] = df_store_location['store_location'].apply(lambda x: x[7:-1].split(' ')[0])\n",
    "df_store_location['store_location_y'] = df_store_location['store_location'].apply(lambda x: x[7:-1].split(' ')[1])\n",
    "df_store_location['store_location_x'] = df_store_location['store_location_x'].astype('float')\n",
    "df_store_location['store_location_y'] = df_store_location['store_location_y'].astype('float')"
   ]
  },
  {
   "cell_type": "code",
   "execution_count": 142,
   "metadata": {},
   "outputs": [],
   "source": [
    "df_isnull = df_filled.loc[(df_filled['store_location'].isnull())]\n",
    "df_notnull = df_filled.loc[~(df_filled['store_location'].isnull())]"
   ]
  },
  {
   "cell_type": "code",
   "execution_count": 143,
   "metadata": {},
   "outputs": [
    {
     "data": {
      "text/plain": [
       "(1951030, 24)"
      ]
     },
     "execution_count": 143,
     "metadata": {},
     "output_type": "execute_result"
    }
   ],
   "source": [
    "df_isnull.shape"
   ]
  },
  {
   "cell_type": "markdown",
   "metadata": {},
   "source": [
    "Join nulled by store_num. If we can see nulled field again then join by avg by city else join by avg by county"
   ]
  },
  {
   "cell_type": "code",
   "execution_count": 144,
   "metadata": {},
   "outputs": [
    {
     "name": "stdout",
     "output_type": "stream",
     "text": [
      "(1951030, 24)\n"
     ]
    }
   ],
   "source": [
    "df_store_location_by_store = df_store_location[['store_number', 'city', 'store_location']].\\\n",
    "                            drop_duplicates(subset=['store_number', 'city'], keep='first')\n",
    "df_isnull = df_isnull.drop(columns='store_location').\\\n",
    "                            merge(df_store_location_by_store, on=['store_number', 'city'], how='left')\n",
    "print(df_isnull.shape)\n",
    "df_isnull_container = df_isnull.loc[~(df_isnull['store_location'].isnull())]"
   ]
  },
  {
   "cell_type": "code",
   "execution_count": 145,
   "metadata": {},
   "outputs": [
    {
     "data": {
      "text/plain": [
       "(1758555, 24)"
      ]
     },
     "execution_count": 145,
     "metadata": {},
     "output_type": "execute_result"
    }
   ],
   "source": [
    "df_isnull = df_isnull.loc[(df_isnull['store_location'].isnull())]\n",
    "df_isnull.shape"
   ]
  },
  {
   "cell_type": "code",
   "execution_count": 146,
   "metadata": {},
   "outputs": [
    {
     "name": "stdout",
     "output_type": "stream",
     "text": [
      "(1758555, 24)\n"
     ]
    }
   ],
   "source": [
    "df_store_location_by_city = df_store_location[['city', 'store_location_x', 'store_location_y']].\\\n",
    "                            groupby('city').agg({'store_location_x': 'mean', 'store_location_y': 'mean'}).reset_index()\n",
    "df_store_location_by_city['store_location_x'] = df_store_location_by_city['store_location_x'].astype('str')\n",
    "df_store_location_by_city['store_location_y'] = df_store_location_by_city['store_location_y'].astype('str')\n",
    "df_store_location_by_city['store_location'] = df_store_location_by_city[['store_location_x', 'store_location_y']].\\\n",
    "                                        agg(' '.join, axis=1).apply(lambda x: 'POINT ('+x+')')\n",
    "df_store_location_by_city = df_store_location_by_city.drop(columns=['store_location_x', 'store_location_y'])\n",
    "df_isnull = df_isnull.drop(columns='store_location').\\\n",
    "                            merge(df_store_location_by_city, on=['city'], how='left')\n",
    "print(df_isnull.shape)\n",
    "df_isnull_container = pd.concat([df_isnull_container, df_isnull.loc[~(df_isnull['store_location'].isnull())]])"
   ]
  },
  {
   "cell_type": "code",
   "execution_count": 147,
   "metadata": {},
   "outputs": [
    {
     "data": {
      "text/plain": [
       "(14654, 24)"
      ]
     },
     "execution_count": 147,
     "metadata": {},
     "output_type": "execute_result"
    }
   ],
   "source": [
    "df_isnull = df_isnull.loc[(df_isnull['store_location'].isnull())]\n",
    "df_isnull.shape"
   ]
  },
  {
   "cell_type": "code",
   "execution_count": 148,
   "metadata": {},
   "outputs": [],
   "source": [
    "store_location = \\\n",
    "   'POINT (' + str(df_store_location['store_location_x'].mean()) +' '+ str(df_store_location['store_location_y'].mean()) +')'\n",
    "df_isnull['store_location'] = store_location\n",
    "df_isnull_container = pd.concat([df_isnull_container, df_isnull])"
   ]
  },
  {
   "cell_type": "code",
   "execution_count": 149,
   "metadata": {},
   "outputs": [
    {
     "name": "stdout",
     "output_type": "stream",
     "text": [
      "(1951030, 24)\n",
      "(20348689, 24)\n"
     ]
    }
   ],
   "source": [
    "print(df_isnull_container.shape)\n",
    "df_filled = pd.concat([df_notnull, df_isnull_container])\n",
    "print(df_filled.shape)"
   ]
  },
  {
   "cell_type": "code",
   "execution_count": 150,
   "metadata": {},
   "outputs": [
    {
     "name": "stdout",
     "output_type": "stream",
     "text": [
      "0\n"
     ]
    }
   ],
   "source": [
    "print(df_filled['store_location'].isnull().sum())"
   ]
  },
  {
   "cell_type": "code",
   "execution_count": 151,
   "metadata": {},
   "outputs": [],
   "source": [
    "df_filled = df_filled.reset_index(drop=True)"
   ]
  },
  {
   "cell_type": "markdown",
   "metadata": {},
   "source": [
    "<h3 style=\"margin-left: 50px;\"><em>e). Fillna vendor_number and vendor_name</em></h3>"
   ]
  },
  {
   "cell_type": "code",
   "execution_count": 152,
   "metadata": {},
   "outputs": [
    {
     "data": {
      "text/html": [
       "<div>\n",
       "<style scoped>\n",
       "    .dataframe tbody tr th:only-of-type {\n",
       "        vertical-align: middle;\n",
       "    }\n",
       "\n",
       "    .dataframe tbody tr th {\n",
       "        vertical-align: top;\n",
       "    }\n",
       "\n",
       "    .dataframe thead th {\n",
       "        text-align: right;\n",
       "    }\n",
       "</style>\n",
       "<table border=\"1\" class=\"dataframe\">\n",
       "  <thead>\n",
       "    <tr style=\"text-align: right;\">\n",
       "      <th></th>\n",
       "      <th>vendor_number</th>\n",
       "      <th>vendor_name</th>\n",
       "      <th>item_number</th>\n",
       "      <th>item_description</th>\n",
       "    </tr>\n",
       "  </thead>\n",
       "  <tbody>\n",
       "    <tr>\n",
       "      <th>654606</th>\n",
       "      <td>nan</td>\n",
       "      <td>RESERVOIR DISTILLERY</td>\n",
       "      <td>927565</td>\n",
       "      <td>Reservoir Wheat Whiskey</td>\n",
       "    </tr>\n",
       "    <tr>\n",
       "      <th>5104885</th>\n",
       "      <td>nan</td>\n",
       "      <td>NaN</td>\n",
       "      <td>973449</td>\n",
       "      <td>Dekuyper Blood Orange</td>\n",
       "    </tr>\n",
       "    <tr>\n",
       "      <th>8313089</th>\n",
       "      <td>nan</td>\n",
       "      <td>NaN</td>\n",
       "      <td>910621</td>\n",
       "      <td>Canadian Club Whisky Mini</td>\n",
       "    </tr>\n",
       "    <tr>\n",
       "      <th>16204295</th>\n",
       "      <td>nan</td>\n",
       "      <td>NaN</td>\n",
       "      <td>984151</td>\n",
       "      <td>99 Oranges</td>\n",
       "    </tr>\n",
       "    <tr>\n",
       "      <th>16708893</th>\n",
       "      <td>nan</td>\n",
       "      <td>RESERVOIR DISTILLERY</td>\n",
       "      <td>916456</td>\n",
       "      <td>Reservoir Bourbon Whiskey</td>\n",
       "    </tr>\n",
       "  </tbody>\n",
       "</table>\n",
       "</div>"
      ],
      "text/plain": [
       "          vendor_number           vendor_name item_number  \\\n",
       "654606              nan  RESERVOIR DISTILLERY      927565   \n",
       "5104885             nan                   NaN      973449   \n",
       "8313089             nan                   NaN      910621   \n",
       "16204295            nan                   NaN      984151   \n",
       "16708893            nan  RESERVOIR DISTILLERY      916456   \n",
       "\n",
       "                   item_description  \n",
       "654606      Reservoir Wheat Whiskey  \n",
       "5104885       Dekuyper Blood Orange  \n",
       "8313089   Canadian Club Whisky Mini  \n",
       "16204295                 99 Oranges  \n",
       "16708893  Reservoir Bourbon Whiskey  "
      ]
     },
     "execution_count": 152,
     "metadata": {},
     "output_type": "execute_result"
    }
   ],
   "source": [
    "df_filled[['vendor_number', 'vendor_name', 'item_number', 'item_description']]\\\n",
    "            [(df_filled['vendor_number'].isnull())|(df_filled['vendor_name'].isnull())]"
   ]
  },
  {
   "cell_type": "code",
   "execution_count": 153,
   "metadata": {},
   "outputs": [],
   "source": [
    "df_filled.loc[(df_filled['vendor_number'].isnull())|(df_filled['item_description'] == 'Reservoir Wheat Whiskey'),\\\n",
    "                                                         'vendor_number'] = '286.0'\n",
    "df_filled.loc[(df_filled['vendor_number'].isnull())|(df_filled['item_description'] == 'Dekuyper Blood Orange'),\\\n",
    "                                                         'vendor_number'] = '309.0'\n",
    "df_filled.loc[(df_filled['vendor_number'].isnull())|(df_filled['item_description'] == 'Dekuyper Blood Orange'),\\\n",
    "                                                         'vendor_name'] = 'Dekuyper'\n",
    "df_filled.loc[(df_filled['vendor_number'].isnull())|(df_filled['item_description'] == 'Canadian Club Whisky Mini'),\\\n",
    "                                                         'vendor_number'] = '65.0'\n",
    "df_filled.loc[(df_filled['vendor_number'].isnull())|(df_filled['item_description'] == 'Canadian Club Whisky Mini'),\\\n",
    "                                                         'vendor_name'] = 'JIM BEAM BRANDS'\n",
    "df_filled.loc[(df_filled['vendor_number'].isnull())|(df_filled['item_description'] == '99 Oranges'),\\\n",
    "                                                         'vendor_number'] = '55.0'\n",
    "df_filled.loc[(df_filled['vendor_number'].isnull())|(df_filled['item_description'] == '99 Oranges'),\\\n",
    "                                                         'vendor_name'] = 'SAZERAC NORTH AMERICA'"
   ]
  },
  {
   "cell_type": "code",
   "execution_count": 154,
   "metadata": {},
   "outputs": [],
   "source": [
    "df_filled = df_filled.reset_index(drop=True)"
   ]
  },
  {
   "cell_type": "markdown",
   "metadata": {},
   "source": [
    "<h3 style=\"margin-left: 50px;\"><em>f). Fillna category and category_name</em></h3>"
   ]
  },
  {
   "cell_type": "code",
   "execution_count": 155,
   "metadata": {},
   "outputs": [],
   "source": [
    "df_isnull = df_filled.loc[(df_filled['category'].isnull())|(df_filled['category_name'].isnull())]\n",
    "df_notnull = df_filled.loc[~((df_filled['category'].isnull())|(df_filled['category_name'].isnull()))]"
   ]
  },
  {
   "cell_type": "code",
   "execution_count": 156,
   "metadata": {},
   "outputs": [],
   "source": [
    "df_category = df_notnull[['item_description', 'category', 'category_name']].\\\n",
    "                        drop_duplicates(subset=['item_description'], keep='first')\n",
    "df_isnull = df_isnull.drop(columns=['category', 'category_name']).merge(df_category, how='left', on=['item_description'])"
   ]
  },
  {
   "cell_type": "markdown",
   "metadata": {},
   "source": [
    "Fill remaining categories as '-'"
   ]
  },
  {
   "cell_type": "code",
   "execution_count": 157,
   "metadata": {},
   "outputs": [],
   "source": [
    "df_isnull['category'] = df_isnull['category'].fillna('-')\n",
    "df_isnull['category_name'] = df_isnull['category_name'].fillna('-')"
   ]
  },
  {
   "cell_type": "code",
   "execution_count": 158,
   "metadata": {},
   "outputs": [],
   "source": [
    "df_filled = pd.concat([df_notnull, df_isnull])"
   ]
  },
  {
   "cell_type": "code",
   "execution_count": 159,
   "metadata": {},
   "outputs": [],
   "source": [
    "df_filled = df_filled.reset_index(drop=True)"
   ]
  },
  {
   "cell_type": "markdown",
   "metadata": {},
   "source": [
    "<h3 style=\"margin-left: 50px;\"><em>g). Fillna state_bottle_cost, state_bottle_retail, sale_dollars</em></h3>"
   ]
  },
  {
   "cell_type": "code",
   "execution_count": 160,
   "metadata": {},
   "outputs": [],
   "source": [
    "df_isnull = df_filled.loc[((df_filled['state_bottle_cost'].isnull())|\\\n",
    "              (df_filled['state_bottle_retail'].isnull())|(df_filled['sale_dollars'].isnull()))]\n",
    "df_notnull = df_filled.loc[~((df_filled['state_bottle_cost'].isnull())|\\\n",
    "              (df_filled['state_bottle_retail'].isnull())|(df_filled['sale_dollars'].isnull()))]"
   ]
  },
  {
   "cell_type": "code",
   "execution_count": 161,
   "metadata": {},
   "outputs": [],
   "source": [
    "df_bottle_cost = df_notnull[['item_description', 'store_number', 'state_bottle_cost', 'state_bottle_retail']].\\\n",
    "                        drop_duplicates(subset=['item_description', 'store_number'], keep='first')"
   ]
  },
  {
   "cell_type": "code",
   "execution_count": 162,
   "metadata": {},
   "outputs": [],
   "source": [
    "df_isnull = df_isnull.drop(columns=['state_bottle_cost', 'state_bottle_retail']).\\\n",
    "                merge(df_bottle_cost, on=['item_description', 'store_number'], how='left')\n",
    "df_isnull['state_bottle_cost'] = df_isnull['state_bottle_cost'].fillna(12.8)\n",
    "df_isnull['state_bottle_retail'] = df_isnull['state_bottle_cost'].fillna(19.2)\n",
    "df_isnull['sale_dollars'] = df_isnull['state_bottle_retail'] * df_isnull['bottles_sold']"
   ]
  },
  {
   "cell_type": "code",
   "execution_count": 163,
   "metadata": {},
   "outputs": [],
   "source": [
    "df_filled = pd.concat([df_notnull, df_isnull])\n",
    "df_filled = df_filled.reset_index(drop=True)"
   ]
  },
  {
   "cell_type": "code",
   "execution_count": 164,
   "metadata": {},
   "outputs": [
    {
     "data": {
      "text/plain": [
       "invoice_and_item_number    0\n",
       "date                       0\n",
       "store_number               0\n",
       "store_name                 0\n",
       "address                    0\n",
       "city                       0\n",
       "zip_code                   0\n",
       "store_location             0\n",
       "county_number              0\n",
       "county                     0\n",
       "category                   0\n",
       "category_name              0\n",
       "vendor_number              0\n",
       "vendor_name                0\n",
       "item_number                0\n",
       "item_description           0\n",
       "pack                       0\n",
       "bottle_volume_ml           0\n",
       "state_bottle_cost          0\n",
       "state_bottle_retail        0\n",
       "bottles_sold               0\n",
       "sale_dollars               0\n",
       "volume_sold_liters         0\n",
       "volume_sold_gallons        0\n",
       "dtype: int64"
      ]
     },
     "execution_count": 164,
     "metadata": {},
     "output_type": "execute_result"
    }
   ],
   "source": [
    "df_filled.isnull().sum()"
   ]
  },
  {
   "cell_type": "markdown",
   "metadata": {},
   "source": [
    "<h3 style=\"color: IndianRed\"><em><strong>Conclusions: \n",
    "    <ul>\n",
    "        <li>Dropped only two rows, beacause they didn't belong to the IOWA and only 847 without valuable informations</li>\n",
    "        <li>Well filled numerical variables and city</li>\n",
    "        <li>Store locations cleared of anomalies</li>\n",
    "        <li>Fixed some string mistakes county and this enables us to do analytics in the context county</li>\n",
    "    </ul>\n",
    "</strong></em></h3>"
   ]
  },
  {
   "cell_type": "markdown",
   "metadata": {},
   "source": [
    "<h2><ul><li><strong>Anomalies/Outliers</strong></li></ul></h2>"
   ]
  },
  {
   "cell_type": "markdown",
   "metadata": {},
   "source": [
    "<h3 style=\"margin-left: 50px;\"><em>a). Change all column with avaluable numeric information to date, float or int types</em></h3>"
   ]
  },
  {
   "cell_type": "code",
   "execution_count": 165,
   "metadata": {},
   "outputs": [],
   "source": [
    "df_filled['date'] = pd.to_datetime(df_filled['date'])\n",
    "df_filled['county_number'] = df_filled['county_number'].astype('int')\n",
    "df_filled['store_location_W'] = df_filled['store_location'].apply(lambda x: float(x[7:-1].split(' ')[0]))\n",
    "df_filled['store_location_N'] = df_filled['store_location'].apply(lambda x: float(x[7:-1].split(' ')[1]))\n",
    "df_filled['pack'] = df_filled['pack'].astype('int')\n",
    "df_filled['bottle_volume_ml'] = df_filled['bottle_volume_ml'].astype('int')\n",
    "df_filled['state_bottle_cost'] = df_filled['state_bottle_cost'].astype('float')\n",
    "df_filled['state_bottle_retail'] = df_filled['state_bottle_retail'].astype('float')\n",
    "df_filled['bottles_sold'] = df_filled['bottles_sold'].astype('float')\n",
    "df_filled['sale_dollars'] = df_filled['sale_dollars'].astype('float')\n",
    "df_filled['volume_sold_liters'] = df_filled['volume_sold_liters'].astype('float')\n",
    "df_filled['volume_sold_gallons'] = df_filled['volume_sold_gallons'].astype('float')"
   ]
  },
  {
   "cell_type": "markdown",
   "metadata": {},
   "source": [
    "In a zip_code we have \"invalid literal for int() with base 10: '712-2'\". Fix it with google"
   ]
  },
  {
   "cell_type": "code",
   "execution_count": 166,
   "metadata": {},
   "outputs": [],
   "source": [
    "df_filled.loc[df_filled['zip_code'] == '712-2', 'zip_code'] = '51529'\n",
    "df_filled['zip_code'] = df_filled['zip_code'].astype('int')"
   ]
  },
  {
   "cell_type": "markdown",
   "metadata": {},
   "source": [
    "<h3 style=\"margin-left: 50px;\"><em>b). Describe table and check nulled values </em></h3>"
   ]
  },
  {
   "cell_type": "code",
   "execution_count": 167,
   "metadata": {},
   "outputs": [
    {
     "data": {
      "text/html": [
       "<div>\n",
       "<style scoped>\n",
       "    .dataframe tbody tr th:only-of-type {\n",
       "        vertical-align: middle;\n",
       "    }\n",
       "\n",
       "    .dataframe tbody tr th {\n",
       "        vertical-align: top;\n",
       "    }\n",
       "\n",
       "    .dataframe thead th {\n",
       "        text-align: right;\n",
       "    }\n",
       "</style>\n",
       "<table border=\"1\" class=\"dataframe\">\n",
       "  <thead>\n",
       "    <tr style=\"text-align: right;\">\n",
       "      <th></th>\n",
       "      <th>zip_code</th>\n",
       "      <th>county_number</th>\n",
       "      <th>pack</th>\n",
       "      <th>bottle_volume_ml</th>\n",
       "      <th>state_bottle_cost</th>\n",
       "      <th>state_bottle_retail</th>\n",
       "      <th>bottles_sold</th>\n",
       "      <th>sale_dollars</th>\n",
       "      <th>volume_sold_liters</th>\n",
       "      <th>volume_sold_gallons</th>\n",
       "      <th>store_location_W</th>\n",
       "      <th>store_location_N</th>\n",
       "    </tr>\n",
       "  </thead>\n",
       "  <tbody>\n",
       "    <tr>\n",
       "      <th>count</th>\n",
       "      <td>20348689.000</td>\n",
       "      <td>20348689.000</td>\n",
       "      <td>20348689.000</td>\n",
       "      <td>20348689.000</td>\n",
       "      <td>20348689.000</td>\n",
       "      <td>20348689.000</td>\n",
       "      <td>20348689.000</td>\n",
       "      <td>20348689.000</td>\n",
       "      <td>20348689.000</td>\n",
       "      <td>20348689.000</td>\n",
       "      <td>20348689.000</td>\n",
       "      <td>20348689.000</td>\n",
       "    </tr>\n",
       "    <tr>\n",
       "      <th>mean</th>\n",
       "      <td>51265.876</td>\n",
       "      <td>57.306</td>\n",
       "      <td>12.269</td>\n",
       "      <td>908.884</td>\n",
       "      <td>9.975</td>\n",
       "      <td>14.977</td>\n",
       "      <td>10.363</td>\n",
       "      <td>135.747</td>\n",
       "      <td>9.136</td>\n",
       "      <td>2.412</td>\n",
       "      <td>-93.016</td>\n",
       "      <td>41.955</td>\n",
       "    </tr>\n",
       "    <tr>\n",
       "      <th>std</th>\n",
       "      <td>988.952</td>\n",
       "      <td>27.279</td>\n",
       "      <td>7.677</td>\n",
       "      <td>660.432</td>\n",
       "      <td>10.717</td>\n",
       "      <td>16.075</td>\n",
       "      <td>28.086</td>\n",
       "      <td>469.729</td>\n",
       "      <td>33.815</td>\n",
       "      <td>8.933</td>\n",
       "      <td>1.632</td>\n",
       "      <td>0.638</td>\n",
       "    </tr>\n",
       "    <tr>\n",
       "      <th>min</th>\n",
       "      <td>50002.000</td>\n",
       "      <td>1.000</td>\n",
       "      <td>1.000</td>\n",
       "      <td>0.000</td>\n",
       "      <td>0.000</td>\n",
       "      <td>0.000</td>\n",
       "      <td>0.000</td>\n",
       "      <td>0.000</td>\n",
       "      <td>0.000</td>\n",
       "      <td>0.000</td>\n",
       "      <td>-96.563</td>\n",
       "      <td>40.394</td>\n",
       "    </tr>\n",
       "    <tr>\n",
       "      <th>25%</th>\n",
       "      <td>50316.000</td>\n",
       "      <td>31.000</td>\n",
       "      <td>6.000</td>\n",
       "      <td>750.000</td>\n",
       "      <td>5.500</td>\n",
       "      <td>8.250</td>\n",
       "      <td>3.000</td>\n",
       "      <td>31.500</td>\n",
       "      <td>1.500</td>\n",
       "      <td>0.400</td>\n",
       "      <td>-93.790</td>\n",
       "      <td>41.562</td>\n",
       "    </tr>\n",
       "    <tr>\n",
       "      <th>50%</th>\n",
       "      <td>51101.000</td>\n",
       "      <td>62.000</td>\n",
       "      <td>12.000</td>\n",
       "      <td>750.000</td>\n",
       "      <td>8.250</td>\n",
       "      <td>12.370</td>\n",
       "      <td>6.000</td>\n",
       "      <td>72.000</td>\n",
       "      <td>5.000</td>\n",
       "      <td>1.320</td>\n",
       "      <td>-93.202</td>\n",
       "      <td>41.764</td>\n",
       "    </tr>\n",
       "    <tr>\n",
       "      <th>75%</th>\n",
       "      <td>52303.000</td>\n",
       "      <td>77.000</td>\n",
       "      <td>12.000</td>\n",
       "      <td>1000.000</td>\n",
       "      <td>12.070</td>\n",
       "      <td>18.120</td>\n",
       "      <td>12.000</td>\n",
       "      <td>140.640</td>\n",
       "      <td>10.500</td>\n",
       "      <td>2.770</td>\n",
       "      <td>-91.631</td>\n",
       "      <td>42.488</td>\n",
       "    </tr>\n",
       "    <tr>\n",
       "      <th>max</th>\n",
       "      <td>57222.000</td>\n",
       "      <td>99.000</td>\n",
       "      <td>336.000</td>\n",
       "      <td>378000.000</td>\n",
       "      <td>7680.000</td>\n",
       "      <td>11520.000</td>\n",
       "      <td>15000.000</td>\n",
       "      <td>279557.280</td>\n",
       "      <td>15000.000</td>\n",
       "      <td>3962.580</td>\n",
       "      <td>-90.182</td>\n",
       "      <td>43.491</td>\n",
       "    </tr>\n",
       "  </tbody>\n",
       "</table>\n",
       "</div>"
      ],
      "text/plain": [
       "          zip_code  county_number         pack  bottle_volume_ml  \\\n",
       "count 20348689.000   20348689.000 20348689.000      20348689.000   \n",
       "mean     51265.876         57.306       12.269           908.884   \n",
       "std        988.952         27.279        7.677           660.432   \n",
       "min      50002.000          1.000        1.000             0.000   \n",
       "25%      50316.000         31.000        6.000           750.000   \n",
       "50%      51101.000         62.000       12.000           750.000   \n",
       "75%      52303.000         77.000       12.000          1000.000   \n",
       "max      57222.000         99.000      336.000        378000.000   \n",
       "\n",
       "       state_bottle_cost  state_bottle_retail  bottles_sold  sale_dollars  \\\n",
       "count       20348689.000         20348689.000  20348689.000  20348689.000   \n",
       "mean               9.975               14.977        10.363       135.747   \n",
       "std               10.717               16.075        28.086       469.729   \n",
       "min                0.000                0.000         0.000         0.000   \n",
       "25%                5.500                8.250         3.000        31.500   \n",
       "50%                8.250               12.370         6.000        72.000   \n",
       "75%               12.070               18.120        12.000       140.640   \n",
       "max             7680.000            11520.000     15000.000    279557.280   \n",
       "\n",
       "       volume_sold_liters  volume_sold_gallons  store_location_W  \\\n",
       "count        20348689.000         20348689.000      20348689.000   \n",
       "mean                9.136                2.412           -93.016   \n",
       "std                33.815                8.933             1.632   \n",
       "min                 0.000                0.000           -96.563   \n",
       "25%                 1.500                0.400           -93.790   \n",
       "50%                 5.000                1.320           -93.202   \n",
       "75%                10.500                2.770           -91.631   \n",
       "max             15000.000             3962.580           -90.182   \n",
       "\n",
       "       store_location_N  \n",
       "count      20348689.000  \n",
       "mean             41.955  \n",
       "std               0.638  \n",
       "min              40.394  \n",
       "25%              41.562  \n",
       "50%              41.764  \n",
       "75%              42.488  \n",
       "max              43.491  "
      ]
     },
     "execution_count": 167,
     "metadata": {},
     "output_type": "execute_result"
    }
   ],
   "source": [
    "df_filled.describe()"
   ]
  },
  {
   "cell_type": "markdown",
   "metadata": {},
   "source": [
    "Fix some mistakes"
   ]
  },
  {
   "cell_type": "code",
   "execution_count": 168,
   "metadata": {},
   "outputs": [
    {
     "name": "stdout",
     "output_type": "stream",
     "text": [
      "(10, 26)\n"
     ]
    }
   ],
   "source": [
    "df_isnull = df_filled.loc[df_filled['bottle_volume_ml'] == 0]\n",
    "print(df_isnull.shape)\n",
    "df_notnull = df_filled.loc[~(df_filled['bottle_volume_ml'] == 0)]\n",
    "\n",
    "df_isnull = df_isnull.drop(columns='bottle_volume_ml').\\\n",
    "                merge(df_filled[['item_description', 'bottle_volume_ml']].\\\n",
    "                      drop_duplicates(subset='item_description', keep='first'), how='left', on='item_description')\n",
    "median_bottle_volume = df_filled['bottle_volume_ml'].median()\n",
    "df_isnull.loc[df_isnull['bottle_volume_ml'] == 0, 'bottle_volume_ml'] = median_bottle_volume\n",
    "df_isnull['volume_sold_liters'] = df_isnull['bottle_volume_ml']/1000*df_isnull['bottles_sold']\n",
    "df_filled = pd.concat([df_notnull, df_isnull])"
   ]
  },
  {
   "cell_type": "code",
   "execution_count": 169,
   "metadata": {},
   "outputs": [
    {
     "name": "stdout",
     "output_type": "stream",
     "text": [
      "(3084, 26)\n"
     ]
    }
   ],
   "source": [
    "df_isnull = df_filled.loc[df_filled['state_bottle_cost'] == 0]\n",
    "print(df_isnull.shape)\n",
    "df_notnull = df_filled.loc[~(df_filled['state_bottle_cost'] == 0)]\n",
    "\n",
    "df_isnull = df_isnull.drop(columns=['state_bottle_cost', 'state_bottle_retail']).\\\n",
    "                merge(df_filled[['item_description', 'state_bottle_cost', 'state_bottle_retail']].\\\n",
    "                      drop_duplicates(subset='item_description', keep='first'), how='left', on='item_description')\n",
    "median_bottle_cost = df_filled['state_bottle_cost'].median()\n",
    "median_bottle_retail = df_filled['state_bottle_retail'].median()\n",
    "df_isnull.loc[df_isnull['state_bottle_cost'] == 0, 'state_bottle_cost'] = median_bottle_cost\n",
    "df_isnull.loc[df_isnull['state_bottle_cost'] == 0, 'state_bottle_retail'] = median_bottle_retail\n",
    "df_filled = pd.concat([df_notnull, df_isnull])"
   ]
  },
  {
   "cell_type": "code",
   "execution_count": 170,
   "metadata": {},
   "outputs": [],
   "source": [
    "df_filled.loc[df_filled['bottles_sold'] == 0, 'bottles_sold'] = \\\n",
    "                    df_filled[df_filled['bottles_sold'] == 0]['volume_sold_liters']*1000/ \\\n",
    "                    df_filled[df_filled['bottles_sold'] == 0]['bottle_volume_ml']"
   ]
  },
  {
   "cell_type": "code",
   "execution_count": 171,
   "metadata": {},
   "outputs": [],
   "source": [
    "df_filled.loc[df_filled['sale_dollars'] == 0, 'sale_dollars'] = \\\n",
    "                    df_filled[df_filled['sale_dollars'] == 0]['state_bottle_retail']* \\\n",
    "                    df_filled[df_filled['sale_dollars'] == 0]['bottles_sold']"
   ]
  },
  {
   "cell_type": "code",
   "execution_count": 172,
   "metadata": {},
   "outputs": [],
   "source": [
    "df_filled.loc[df_filled['volume_sold_gallons'] == 0, 'volume_sold_gallons'] = \\\n",
    "                    df_filled[df_filled['volume_sold_gallons'] == 0]['volume_sold_liters'] / 3.79"
   ]
  },
  {
   "cell_type": "code",
   "execution_count": 173,
   "metadata": {},
   "outputs": [
    {
     "data": {
      "text/html": [
       "<div>\n",
       "<style scoped>\n",
       "    .dataframe tbody tr th:only-of-type {\n",
       "        vertical-align: middle;\n",
       "    }\n",
       "\n",
       "    .dataframe tbody tr th {\n",
       "        vertical-align: top;\n",
       "    }\n",
       "\n",
       "    .dataframe thead th {\n",
       "        text-align: right;\n",
       "    }\n",
       "</style>\n",
       "<table border=\"1\" class=\"dataframe\">\n",
       "  <thead>\n",
       "    <tr style=\"text-align: right;\">\n",
       "      <th></th>\n",
       "      <th>zip_code</th>\n",
       "      <th>county_number</th>\n",
       "      <th>pack</th>\n",
       "      <th>bottle_volume_ml</th>\n",
       "      <th>state_bottle_cost</th>\n",
       "      <th>state_bottle_retail</th>\n",
       "      <th>bottles_sold</th>\n",
       "      <th>sale_dollars</th>\n",
       "      <th>volume_sold_liters</th>\n",
       "      <th>volume_sold_gallons</th>\n",
       "      <th>store_location_W</th>\n",
       "      <th>store_location_N</th>\n",
       "    </tr>\n",
       "  </thead>\n",
       "  <tbody>\n",
       "    <tr>\n",
       "      <th>count</th>\n",
       "      <td>20348689.000</td>\n",
       "      <td>20348689.000</td>\n",
       "      <td>20348689.000</td>\n",
       "      <td>20348689.000</td>\n",
       "      <td>20348689.000</td>\n",
       "      <td>20348689.000</td>\n",
       "      <td>20348689.000</td>\n",
       "      <td>20348689.000</td>\n",
       "      <td>20348689.000</td>\n",
       "      <td>20348689.000</td>\n",
       "      <td>20348689.000</td>\n",
       "      <td>20348689.000</td>\n",
       "    </tr>\n",
       "    <tr>\n",
       "      <th>mean</th>\n",
       "      <td>51265.876</td>\n",
       "      <td>57.306</td>\n",
       "      <td>12.269</td>\n",
       "      <td>908.884</td>\n",
       "      <td>9.976</td>\n",
       "      <td>14.979</td>\n",
       "      <td>10.363</td>\n",
       "      <td>135.756</td>\n",
       "      <td>9.136</td>\n",
       "      <td>2.412</td>\n",
       "      <td>-93.016</td>\n",
       "      <td>41.955</td>\n",
       "    </tr>\n",
       "    <tr>\n",
       "      <th>std</th>\n",
       "      <td>988.952</td>\n",
       "      <td>27.279</td>\n",
       "      <td>7.677</td>\n",
       "      <td>660.432</td>\n",
       "      <td>10.716</td>\n",
       "      <td>16.074</td>\n",
       "      <td>28.086</td>\n",
       "      <td>469.728</td>\n",
       "      <td>33.815</td>\n",
       "      <td>8.933</td>\n",
       "      <td>1.632</td>\n",
       "      <td>0.638</td>\n",
       "    </tr>\n",
       "    <tr>\n",
       "      <th>min</th>\n",
       "      <td>50002.000</td>\n",
       "      <td>1.000</td>\n",
       "      <td>1.000</td>\n",
       "      <td>12.000</td>\n",
       "      <td>0.190</td>\n",
       "      <td>0.290</td>\n",
       "      <td>0.080</td>\n",
       "      <td>1.300</td>\n",
       "      <td>0.020</td>\n",
       "      <td>0.005</td>\n",
       "      <td>-96.563</td>\n",
       "      <td>40.394</td>\n",
       "    </tr>\n",
       "    <tr>\n",
       "      <th>25%</th>\n",
       "      <td>50316.000</td>\n",
       "      <td>31.000</td>\n",
       "      <td>6.000</td>\n",
       "      <td>750.000</td>\n",
       "      <td>5.500</td>\n",
       "      <td>8.250</td>\n",
       "      <td>3.000</td>\n",
       "      <td>31.500</td>\n",
       "      <td>1.500</td>\n",
       "      <td>0.400</td>\n",
       "      <td>-93.790</td>\n",
       "      <td>41.562</td>\n",
       "    </tr>\n",
       "    <tr>\n",
       "      <th>50%</th>\n",
       "      <td>51101.000</td>\n",
       "      <td>62.000</td>\n",
       "      <td>12.000</td>\n",
       "      <td>750.000</td>\n",
       "      <td>8.250</td>\n",
       "      <td>12.370</td>\n",
       "      <td>6.000</td>\n",
       "      <td>72.000</td>\n",
       "      <td>5.000</td>\n",
       "      <td>1.320</td>\n",
       "      <td>-93.202</td>\n",
       "      <td>41.764</td>\n",
       "    </tr>\n",
       "    <tr>\n",
       "      <th>75%</th>\n",
       "      <td>52303.000</td>\n",
       "      <td>77.000</td>\n",
       "      <td>12.000</td>\n",
       "      <td>1000.000</td>\n",
       "      <td>12.070</td>\n",
       "      <td>18.120</td>\n",
       "      <td>12.000</td>\n",
       "      <td>140.640</td>\n",
       "      <td>10.500</td>\n",
       "      <td>2.770</td>\n",
       "      <td>-91.631</td>\n",
       "      <td>42.488</td>\n",
       "    </tr>\n",
       "    <tr>\n",
       "      <th>max</th>\n",
       "      <td>57222.000</td>\n",
       "      <td>99.000</td>\n",
       "      <td>336.000</td>\n",
       "      <td>378000.000</td>\n",
       "      <td>7680.000</td>\n",
       "      <td>11520.000</td>\n",
       "      <td>15000.000</td>\n",
       "      <td>279557.280</td>\n",
       "      <td>15000.000</td>\n",
       "      <td>3962.580</td>\n",
       "      <td>-90.182</td>\n",
       "      <td>43.491</td>\n",
       "    </tr>\n",
       "  </tbody>\n",
       "</table>\n",
       "</div>"
      ],
      "text/plain": [
       "          zip_code  county_number         pack  bottle_volume_ml  \\\n",
       "count 20348689.000   20348689.000 20348689.000      20348689.000   \n",
       "mean     51265.876         57.306       12.269           908.884   \n",
       "std        988.952         27.279        7.677           660.432   \n",
       "min      50002.000          1.000        1.000            12.000   \n",
       "25%      50316.000         31.000        6.000           750.000   \n",
       "50%      51101.000         62.000       12.000           750.000   \n",
       "75%      52303.000         77.000       12.000          1000.000   \n",
       "max      57222.000         99.000      336.000        378000.000   \n",
       "\n",
       "       state_bottle_cost  state_bottle_retail  bottles_sold  sale_dollars  \\\n",
       "count       20348689.000         20348689.000  20348689.000  20348689.000   \n",
       "mean               9.976               14.979        10.363       135.756   \n",
       "std               10.716               16.074        28.086       469.728   \n",
       "min                0.190                0.290         0.080         1.300   \n",
       "25%                5.500                8.250         3.000        31.500   \n",
       "50%                8.250               12.370         6.000        72.000   \n",
       "75%               12.070               18.120        12.000       140.640   \n",
       "max             7680.000            11520.000     15000.000    279557.280   \n",
       "\n",
       "       volume_sold_liters  volume_sold_gallons  store_location_W  \\\n",
       "count        20348689.000         20348689.000      20348689.000   \n",
       "mean                9.136                2.412           -93.016   \n",
       "std                33.815                8.933             1.632   \n",
       "min                 0.020                0.005           -96.563   \n",
       "25%                 1.500                0.400           -93.790   \n",
       "50%                 5.000                1.320           -93.202   \n",
       "75%                10.500                2.770           -91.631   \n",
       "max             15000.000             3962.580           -90.182   \n",
       "\n",
       "       store_location_N  \n",
       "count      20348689.000  \n",
       "mean             41.955  \n",
       "std               0.638  \n",
       "min              40.394  \n",
       "25%              41.562  \n",
       "50%              41.764  \n",
       "75%              42.488  \n",
       "max              43.491  "
      ]
     },
     "execution_count": 173,
     "metadata": {},
     "output_type": "execute_result"
    }
   ],
   "source": [
    "df_filled.describe()"
   ]
  },
  {
   "cell_type": "markdown",
   "metadata": {},
   "source": [
    "Check date."
   ]
  },
  {
   "cell_type": "code",
   "execution_count": 174,
   "metadata": {},
   "outputs": [
    {
     "name": "stdout",
     "output_type": "stream",
     "text": [
      "2012-01-03 00:00:00\n",
      "2020-12-31 00:00:00\n"
     ]
    }
   ],
   "source": [
    "print(df_filled['date'].min())\n",
    "print(df_filled['date'].max())"
   ]
  },
  {
   "cell_type": "markdown",
   "metadata": {},
   "source": [
    "<h3 style=\"margin-left: 50px;\"><em>c). Univariate outliers analisys </em></h3>"
   ]
  },
  {
   "cell_type": "code",
   "execution_count": 175,
   "metadata": {},
   "outputs": [
    {
     "data": {
      "text/plain": [
       "<AxesSubplot:xlabel='volume_sold_gallons'>"
      ]
     },
     "execution_count": 175,
     "metadata": {},
     "output_type": "execute_result"
    },
    {
     "data": {
      "image/png": "[encoded data removed]",
      "text/plain": [
       "<Figure size 1296x864 with 9 Axes>"
      ]
     },
     "metadata": {
      "needs_background": "light"
     },
     "output_type": "display_data"
    }
   ],
   "source": [
    "fig, axes = plt.subplots(3, 3, figsize=(18, 12))\n",
    "\n",
    "fig.suptitle('Univariate analisys liquor sales')\n",
    "\n",
    "sns.boxplot(ax=axes[0, 0], data=df_filled, x='pack')\n",
    "sns.boxplot(ax=axes[0, 1], data=df_filled, x='bottle_volume_ml')\n",
    "sns.boxplot(ax=axes[0, 2], data=df_filled, x='state_bottle_cost')\n",
    "sns.boxplot(ax=axes[1, 0], data=df_filled, x='state_bottle_retail')\n",
    "sns.boxplot(ax=axes[1, 1], data=df_filled, x='bottles_sold')\n",
    "sns.boxplot(ax=axes[1, 2], data=df_filled, x='sale_dollars')\n",
    "sns.boxplot(ax=axes[2, 0], data=df_filled, x='volume_sold_liters')\n",
    "sns.boxplot(ax=axes[2, 1], data=df_filled, x='volume_sold_gallons')"
   ]
  },
  {
   "cell_type": "markdown",
   "metadata": {},
   "source": [
    "Data has some outliers, but its possible and this can be valid values. "
   ]
  },
  {
   "cell_type": "code",
   "execution_count": 176,
   "metadata": {},
   "outputs": [
    {
     "name": "stdout",
     "output_type": "stream",
     "text": [
      "pack: 3.207053860522872\n",
      "bottle_volume_ml: 229.9250279172752\n",
      "state_bottle_cost: 225.80996035374073\n",
      "state_bottle_retail: 225.82016057046675\n",
      "bottles_sold: 59.621721335510415\n",
      "sale_dollars: 81.51738957353342\n",
      "volume_sold_liters: 60.45622478588976\n",
      "volume_sold_gallons: 60.454912954927345\n"
     ]
    }
   ],
   "source": [
    "for column in ['pack', 'bottle_volume_ml', 'state_bottle_cost', 'state_bottle_retail', 'bottles_sold',\n",
    "               'sale_dollars', 'volume_sold_liters', 'volume_sold_gallons']:\n",
    "    print(column+':', df_filled[column].skew())"
   ]
  },
  {
   "cell_type": "markdown",
   "metadata": {},
   "source": [
    "Most of the variables have a pronounced asymmetry."
   ]
  },
  {
   "cell_type": "markdown",
   "metadata": {},
   "source": [
    "<h2><ul><li><strong>Univariate analysis</strong></li></ul></h2>"
   ]
  },
  {
   "cell_type": "markdown",
   "metadata": {},
   "source": [
    " Lets check 99 quantile and drop some outrange values to build histograms and boxplots."
   ]
  },
  {
   "cell_type": "code",
   "execution_count": 177,
   "metadata": {},
   "outputs": [],
   "source": [
    "df_analysis = df_filled[(df_filled['sale_dollars'] > df_filled['sale_dollars'].quantile(0.01))\\\n",
    "                        &(df_filled['sale_dollars'] < df_filled['sale_dollars'].quantile(0.99))&\\\n",
    "                        (df_filled['bottle_volume_ml'] > df_filled['bottle_volume_ml'].quantile(0.01))\\\n",
    "                        &(df_filled['bottle_volume_ml'] < df_filled['bottle_volume_ml'].quantile(0.99))&\\\n",
    "                        (df_filled['state_bottle_cost'] > df_filled['state_bottle_cost'].quantile(0.01))\\\n",
    "                        &(df_filled['state_bottle_cost'] < df_filled['state_bottle_cost'].quantile(0.99))]"
   ]
  },
  {
   "cell_type": "code",
   "execution_count": 178,
   "metadata": {},
   "outputs": [
    {
     "data": {
      "text/plain": [
       "<AxesSubplot:xlabel='volume_sold_gallons'>"
      ]
     },
     "execution_count": 178,
     "metadata": {},
     "output_type": "execute_result"
    },
    {
     "data": {
      "image/png": "[encoded data removed]",
      "text/plain": [
       "<Figure size 1296x864 with 9 Axes>"
      ]
     },
     "metadata": {
      "needs_background": "light"
     },
     "output_type": "display_data"
    }
   ],
   "source": [
    "fig, axes = plt.subplots(3, 3, figsize=(18, 12))\n",
    "\n",
    "fig.suptitle('Univariate analisys liquor sales (boxplot)')\n",
    "\n",
    "sns.boxplot(ax=axes[0, 0], data=df_analysis, x='pack')\n",
    "sns.boxplot(ax=axes[0, 1], data=df_analysis, x='bottle_volume_ml')\n",
    "sns.boxplot(ax=axes[0, 2], data=df_analysis, x='state_bottle_cost')\n",
    "sns.boxplot(ax=axes[1, 0], data=df_analysis, x='state_bottle_retail')\n",
    "sns.boxplot(ax=axes[1, 1], data=df_analysis, x='bottles_sold')\n",
    "sns.boxplot(ax=axes[1, 2], data=df_analysis, x='sale_dollars')\n",
    "sns.boxplot(ax=axes[2, 0], data=df_analysis, x='volume_sold_liters')\n",
    "sns.boxplot(ax=axes[2, 1], data=df_analysis, x='volume_sold_gallons')"
   ]
  },
  {
   "cell_type": "markdown",
   "metadata": {},
   "source": [
    "We can see some otliers in state_bottle_cost. Fix it."
   ]
  },
  {
   "cell_type": "code",
   "execution_count": 179,
   "metadata": {},
   "outputs": [],
   "source": [
    "df_filled.loc[df_filled['invoice_and_item_number'] == 'INV-22865900004', 'state_bottle_retail'] = 15\n",
    "df_filled.loc[df_filled['invoice_and_item_number'] == 'INV-22918500001', 'state_bottle_retail'] = 15\n",
    "df_analysis.loc[df_analysis['invoice_and_item_number'] == 'INV-22865900004', 'state_bottle_retail'] = 15\n",
    "df_analysis.loc[df_analysis['invoice_and_item_number'] == 'INV-22918500001', 'state_bottle_retail'] = 15"
   ]
  },
  {
   "cell_type": "code",
   "execution_count": 180,
   "metadata": {},
   "outputs": [],
   "source": [
    "df_filled = df_filled.reset_index(drop=True)"
   ]
  },
  {
   "cell_type": "markdown",
   "metadata": {},
   "source": [
    "Lets check distribution of variables."
   ]
  },
  {
   "cell_type": "code",
   "execution_count": 181,
   "metadata": {},
   "outputs": [
    {
     "data": {
      "text/plain": [
       "<AxesSubplot:>"
      ]
     },
     "execution_count": 181,
     "metadata": {},
     "output_type": "execute_result"
    },
    {
     "data": {
      "image/png": "[encoded data removed]",
      "text/plain": [
       "<Figure size 1296x864 with 9 Axes>"
      ]
     },
     "metadata": {
      "needs_background": "light"
     },
     "output_type": "display_data"
    }
   ],
   "source": [
    "fig, axes = plt.subplots(3, 3, figsize=(18, 12))\n",
    "\n",
    "fig.suptitle('Univariate analisys liquor sales (hist)')\n",
    "\n",
    "df_analysis['pack'].hist(ax=axes[0, 0], bins=24, legend=True)\n",
    "df_analysis['bottle_volume_ml'].hist(ax=axes[0, 1], bins=24, legend=True)\n",
    "df_analysis['state_bottle_cost'].hist(ax=axes[0, 2], bins=24, legend=True)\n",
    "df_analysis['state_bottle_retail'].hist(ax=axes[1, 0], bins=24, legend=True)\n",
    "df_analysis['bottles_sold'].hist(ax=axes[1, 1], bins=24, legend=True)\n",
    "df_analysis['sale_dollars'].hist(ax=axes[1, 2], bins=24, legend=True)\n",
    "df_analysis['volume_sold_liters'].hist(ax=axes[2, 0], bins=24, legend=True)\n",
    "df_analysis['volume_sold_gallons'].hist(ax=axes[2, 1], bins=24, legend=True)"
   ]
  },
  {
   "cell_type": "markdown",
   "metadata": {},
   "source": [
    "As we can see most distributions are skewed distributions with a cutoff on the left or gamma distributions. It differs from everyone only bottle_volume_ml distribution."
   ]
  },
  {
   "cell_type": "markdown",
   "metadata": {},
   "source": [
    "<h2><ul><li><strong>Bivariate analysis</strong></li></ul></h2>"
   ]
  },
  {
   "cell_type": "markdown",
   "metadata": {},
   "source": [
    "Lets create some new columns.  "
   ]
  },
  {
   "cell_type": "code",
   "execution_count": 182,
   "metadata": {},
   "outputs": [],
   "source": [
    "df_aggregate = df_filled.copy()\n",
    "df_aggregate['sale_dollars'] = df_aggregate['state_bottle_retail'] * df_aggregate['bottles_sold']\n",
    "df_aggregate['volume_sold_liters'] = df_aggregate['bottle_volume_ml']/1000 * df_aggregate['bottles_sold']\n",
    "df_aggregate['Year'] = df_aggregate['date'].apply(lambda x: x.year)\n",
    "df_aggregate['Month'] = df_aggregate['date'].apply(lambda x: x.month)\n",
    "df_aggregate['Weekday'] = df_aggregate['date'].apply(lambda x: x.strftime(\"%A\"))\n",
    "df_aggregate['store'] = df_aggregate['store_number'] + '|' + df_aggregate['store_name']\n",
    "df_aggregate['profit'] = df_aggregate['sale_dollars'] - \\\n",
    "                                            (df_aggregate['state_bottle_cost'] * df_aggregate['bottles_sold']) "
   ]
  },
  {
   "cell_type": "code",
   "execution_count": 183,
   "metadata": {},
   "outputs": [],
   "source": [
    "df_aggregate = df_aggregate[['date', 'Year', 'Month', 'Weekday', 'store', 'store_location_W', 'store_location_N',\n",
    "                             'city', 'zip_code', 'county_number','county', 'category_name', 'vendor_name',\n",
    "                             'item_description', 'bottle_volume_ml', 'state_bottle_cost', 'state_bottle_retail',\n",
    "                             'bottles_sold', 'volume_sold_liters', 'sale_dollars', 'profit']]"
   ]
  },
  {
   "cell_type": "code",
   "execution_count": 184,
   "metadata": {},
   "outputs": [
    {
     "data": {
      "text/html": [
       "<div>\n",
       "<style scoped>\n",
       "    .dataframe tbody tr th:only-of-type {\n",
       "        vertical-align: middle;\n",
       "    }\n",
       "\n",
       "    .dataframe tbody tr th {\n",
       "        vertical-align: top;\n",
       "    }\n",
       "\n",
       "    .dataframe thead th {\n",
       "        text-align: right;\n",
       "    }\n",
       "</style>\n",
       "<table border=\"1\" class=\"dataframe\">\n",
       "  <thead>\n",
       "    <tr style=\"text-align: right;\">\n",
       "      <th></th>\n",
       "      <th>date</th>\n",
       "      <th>Year</th>\n",
       "      <th>Month</th>\n",
       "      <th>Weekday</th>\n",
       "      <th>store</th>\n",
       "      <th>store_location_W</th>\n",
       "      <th>store_location_N</th>\n",
       "      <th>city</th>\n",
       "      <th>zip_code</th>\n",
       "      <th>county_number</th>\n",
       "      <th>county</th>\n",
       "      <th>category_name</th>\n",
       "      <th>vendor_name</th>\n",
       "      <th>item_description</th>\n",
       "      <th>bottle_volume_ml</th>\n",
       "      <th>state_bottle_cost</th>\n",
       "      <th>state_bottle_retail</th>\n",
       "      <th>bottles_sold</th>\n",
       "      <th>volume_sold_liters</th>\n",
       "      <th>sale_dollars</th>\n",
       "      <th>profit</th>\n",
       "    </tr>\n",
       "  </thead>\n",
       "  <tbody>\n",
       "    <tr>\n",
       "      <th>0</th>\n",
       "      <td>2017-02-03</td>\n",
       "      <td>2017</td>\n",
       "      <td>2</td>\n",
       "      <td>Friday</td>\n",
       "      <td>3443|Super Saver Iv</td>\n",
       "      <td>-95.837</td>\n",
       "      <td>41.271</td>\n",
       "      <td>Council Bluffs</td>\n",
       "      <td>51503</td>\n",
       "      <td>78</td>\n",
       "      <td>Pottawattamie</td>\n",
       "      <td>Flavored Rum</td>\n",
       "      <td>PERNOD RICARD USA</td>\n",
       "      <td>Malibu Coconut Rum</td>\n",
       "      <td>1750.000</td>\n",
       "      <td>16.490</td>\n",
       "      <td>24.740</td>\n",
       "      <td>6.000</td>\n",
       "      <td>10.500</td>\n",
       "      <td>148.440</td>\n",
       "      <td>49.500</td>\n",
       "    </tr>\n",
       "    <tr>\n",
       "      <th>1</th>\n",
       "      <td>2020-11-30</td>\n",
       "      <td>2020</td>\n",
       "      <td>11</td>\n",
       "      <td>Monday</td>\n",
       "      <td>5869|Tobacco Outlet Plus #507 - Urbandale</td>\n",
       "      <td>-93.712</td>\n",
       "      <td>41.629</td>\n",
       "      <td>Urbandale</td>\n",
       "      <td>50322</td>\n",
       "      <td>77</td>\n",
       "      <td>Polk</td>\n",
       "      <td>Flavored Rum</td>\n",
       "      <td>BACARDI USA INC</td>\n",
       "      <td>Bacardi Limon</td>\n",
       "      <td>1750.000</td>\n",
       "      <td>15.000</td>\n",
       "      <td>22.500</td>\n",
       "      <td>6.000</td>\n",
       "      <td>10.500</td>\n",
       "      <td>135.000</td>\n",
       "      <td>45.000</td>\n",
       "    </tr>\n",
       "    <tr>\n",
       "      <th>2</th>\n",
       "      <td>2019-01-22</td>\n",
       "      <td>2019</td>\n",
       "      <td>1</td>\n",
       "      <td>Tuesday</td>\n",
       "      <td>5326|Als Liquor</td>\n",
       "      <td>-95.202</td>\n",
       "      <td>42.647</td>\n",
       "      <td>Storm Lake</td>\n",
       "      <td>50588</td>\n",
       "      <td>11</td>\n",
       "      <td>Buena Vista</td>\n",
       "      <td>Flavored Rum</td>\n",
       "      <td>BACARDI USA INC</td>\n",
       "      <td>Bacardi Limon</td>\n",
       "      <td>1750.000</td>\n",
       "      <td>15.000</td>\n",
       "      <td>22.500</td>\n",
       "      <td>6.000</td>\n",
       "      <td>10.500</td>\n",
       "      <td>135.000</td>\n",
       "      <td>45.000</td>\n",
       "    </tr>\n",
       "    <tr>\n",
       "      <th>3</th>\n",
       "      <td>2020-08-05</td>\n",
       "      <td>2020</td>\n",
       "      <td>8</td>\n",
       "      <td>Wednesday</td>\n",
       "      <td>3443|Super Saver Iv</td>\n",
       "      <td>-95.837</td>\n",
       "      <td>41.271</td>\n",
       "      <td>Council Bluffs</td>\n",
       "      <td>51503</td>\n",
       "      <td>78</td>\n",
       "      <td>Pottawattamie</td>\n",
       "      <td>Flavored Rum</td>\n",
       "      <td>PERNOD RICARD USA</td>\n",
       "      <td>Malibu Coconut Rum</td>\n",
       "      <td>1750.000</td>\n",
       "      <td>16.990</td>\n",
       "      <td>25.490</td>\n",
       "      <td>6.000</td>\n",
       "      <td>10.500</td>\n",
       "      <td>152.940</td>\n",
       "      <td>51.000</td>\n",
       "    </tr>\n",
       "    <tr>\n",
       "      <th>4</th>\n",
       "      <td>2019-07-17</td>\n",
       "      <td>2019</td>\n",
       "      <td>7</td>\n",
       "      <td>Wednesday</td>\n",
       "      <td>4239|Fareway Stores #850 / Spirit Lake</td>\n",
       "      <td>-95.106</td>\n",
       "      <td>43.422</td>\n",
       "      <td>Spirit Lake</td>\n",
       "      <td>51360</td>\n",
       "      <td>30</td>\n",
       "      <td>Dickinson</td>\n",
       "      <td>Flavored Rum</td>\n",
       "      <td>PERNOD RICARD USA</td>\n",
       "      <td>Malibu Coconut Rum</td>\n",
       "      <td>1750.000</td>\n",
       "      <td>16.990</td>\n",
       "      <td>25.490</td>\n",
       "      <td>6.000</td>\n",
       "      <td>10.500</td>\n",
       "      <td>152.940</td>\n",
       "      <td>51.000</td>\n",
       "    </tr>\n",
       "  </tbody>\n",
       "</table>\n",
       "</div>"
      ],
      "text/plain": [
       "        date  Year  Month    Weekday  \\\n",
       "0 2017-02-03  2017      2     Friday   \n",
       "1 2020-11-30  2020     11     Monday   \n",
       "2 2019-01-22  2019      1    Tuesday   \n",
       "3 2020-08-05  2020      8  Wednesday   \n",
       "4 2019-07-17  2019      7  Wednesday   \n",
       "\n",
       "                                       store  store_location_W  \\\n",
       "0                        3443|Super Saver Iv           -95.837   \n",
       "1  5869|Tobacco Outlet Plus #507 - Urbandale           -93.712   \n",
       "2                            5326|Als Liquor           -95.202   \n",
       "3                        3443|Super Saver Iv           -95.837   \n",
       "4     4239|Fareway Stores #850 / Spirit Lake           -95.106   \n",
       "\n",
       "   store_location_N            city  zip_code  county_number         county  \\\n",
       "0            41.271  Council Bluffs     51503             78  Pottawattamie   \n",
       "1            41.629       Urbandale     50322             77           Polk   \n",
       "2            42.647      Storm Lake     50588             11    Buena Vista   \n",
       "3            41.271  Council Bluffs     51503             78  Pottawattamie   \n",
       "4            43.422     Spirit Lake     51360             30      Dickinson   \n",
       "\n",
       "  category_name        vendor_name    item_description  bottle_volume_ml  \\\n",
       "0  Flavored Rum  PERNOD RICARD USA  Malibu Coconut Rum          1750.000   \n",
       "1  Flavored Rum    BACARDI USA INC       Bacardi Limon          1750.000   \n",
       "2  Flavored Rum    BACARDI USA INC       Bacardi Limon          1750.000   \n",
       "3  Flavored Rum  PERNOD RICARD USA  Malibu Coconut Rum          1750.000   \n",
       "4  Flavored Rum  PERNOD RICARD USA  Malibu Coconut Rum          1750.000   \n",
       "\n",
       "   state_bottle_cost  state_bottle_retail  bottles_sold  volume_sold_liters  \\\n",
       "0             16.490               24.740         6.000              10.500   \n",
       "1             15.000               22.500         6.000              10.500   \n",
       "2             15.000               22.500         6.000              10.500   \n",
       "3             16.990               25.490         6.000              10.500   \n",
       "4             16.990               25.490         6.000              10.500   \n",
       "\n",
       "   sale_dollars  profit  \n",
       "0       148.440  49.500  \n",
       "1       135.000  45.000  \n",
       "2       135.000  45.000  \n",
       "3       152.940  51.000  \n",
       "4       152.940  51.000  "
      ]
     },
     "execution_count": 184,
     "metadata": {},
     "output_type": "execute_result"
    }
   ],
   "source": [
    "df_aggregate.head()"
   ]
  },
  {
   "cell_type": "code",
   "execution_count": 185,
   "metadata": {},
   "outputs": [
    {
     "data": {
      "text/plain": [
       "<AxesSubplot:>"
      ]
     },
     "execution_count": 185,
     "metadata": {},
     "output_type": "execute_result"
    },
    {
     "data": {
      "image/png": "[encoded data removed]",
      "text/plain": [
       "<Figure size 1440x720 with 2 Axes>"
      ]
     },
     "metadata": {
      "needs_background": "light"
     },
     "output_type": "display_data"
    }
   ],
   "source": [
    "fig, ax = plt.subplots(figsize=(20,10)) \n",
    "sns.heatmap(df_aggregate.corr(), annot=True)"
   ]
  },
  {
   "cell_type": "markdown",
   "metadata": {},
   "source": [
    "As we can see zip_code and county numeric values have a little bit correlation with location, bottle volume has some logic correlation with bottle cost, and of course the biggest correlation beatween sold liters and sale dollars."
   ]
  },
  {
   "cell_type": "markdown",
   "metadata": {},
   "source": [
    "<h2><ul><li><strong>Multivariate analysis</strong></li></ul></h2>"
   ]
  },
  {
   "cell_type": "markdown",
   "metadata": {},
   "source": [
    "<h3><em>a)Bar diagramms in aggregation summarize sales in dollars and sold liters</em></h3>"
   ]
  },
  {
   "cell_type": "code",
   "execution_count": 233,
   "metadata": {},
   "outputs": [],
   "source": [
    "import plotly.express as px\n",
    "import plotly.graph_objs as go\n",
    "from plotly.subplots import make_subplots\n",
    "\n",
    "def plot_bar(fig, df_aggregate, column, i, j):\n",
    "    '''Plot Bar'''\n",
    "    \n",
    "    df_plot = df_aggregate.groupby(column).agg({'sale_dollars': 'sum', 'volume_sold_liters': 'sum'}).\\\n",
    "                                        sort_values(by='sale_dollars', ascending=False).reset_index().head(10)\n",
    "    fig.add_traces([\n",
    "        go.Bar(name='Sale in dollars',x=df_plot[column], y=df_plot['sale_dollars']),\n",
    "        go.Bar(name='Volume in litres',x=df_plot[column], y=df_plot['volume_sold_liters'])\n",
    "    ], rows=i, cols=j)\n",
    "    return fig"
   ]
  },
  {
   "cell_type": "markdown",
   "metadata": {},
   "source": [
    "<ul><li><em>Store and City</em></li></ul>"
   ]
  },
  {
   "cell_type": "code",
   "execution_count": 229,
   "metadata": {},
   "outputs": [
    {
     "data": {
      "application/vnd.plotly.v1+json": {
       "config": {
        "plotlyServerURL": "https://plot.ly"
       },
       "data": [
        {
         "name": "Sale in dollars",
         "type": "bar",
         "x": [
          "2633|Hy-Vee #3 / Bdi / Des Moines",
          "4829|Central City 2",
          "2512|Hy-Vee Wine And Spirits / Iowa City",
          "3385|Sam'S Club 8162 / Cedar Rapids",
          "3420|Sam'S Club 6344 / Windsor Heights",
          "3952|Lot-A-Spirits",
          "3773|Benz Distributing",
          "3354|Sam'S Club 8238 / Davenport",
          "2190|Central City Liquor, Inc.",
          "3814|Costco Wholesale #788"
         ],
         "xaxis": "x",
         "y": [
          87987521.22999525,
          74899520.86000657,
          37558559.26000044,
          32833255.989999507,
          31296320.949999563,
          26405531.26999861,
          22220537.899999477,
          22211122.849999968,
          20530638.780003205,
          19295289.84160033
         ],
         "yaxis": "y"
        },
        {
         "name": "Volume in litres",
         "type": "bar",
         "x": [
          "2633|Hy-Vee #3 / Bdi / Des Moines",
          "4829|Central City 2",
          "2512|Hy-Vee Wine And Spirits / Iowa City",
          "3385|Sam'S Club 8162 / Cedar Rapids",
          "3420|Sam'S Club 6344 / Windsor Heights",
          "3952|Lot-A-Spirits",
          "3773|Benz Distributing",
          "3354|Sam'S Club 8238 / Davenport",
          "2190|Central City Liquor, Inc.",
          "3814|Costco Wholesale #788"
         ],
         "xaxis": "x",
         "y": [
          5138579.1850000005,
          4207828.4250000045,
          2428189.1350000487,
          2265200.4,
          2175249.45,
          1485566.345,
          1217633.7960000064,
          1520654.6500000001,
          1035931.8570000131,
          1070968.56
         ],
         "yaxis": "y"
        },
        {
         "name": "Sale in dollars",
         "type": "bar",
         "x": [
          "Des Moines",
          "Cedar Rapids",
          "Davenport",
          "West Des Moines",
          "Waterloo",
          "Iowa City",
          "Council Bluffs",
          "Sioux City",
          "Dubuque",
          "Ames"
         ],
         "xaxis": "x2",
         "y": [
          338915896.3494215,
          186464164.66980854,
          141448518.18996492,
          105848427.7815843,
          98254938.76617402,
          93110927.78998959,
          92277811.13998964,
          91568668.51999502,
          75584102.66000311,
          75043964.70000468
         ],
         "yaxis": "y2"
        },
        {
         "name": "Volume in litres",
         "type": "bar",
         "x": [
          "Des Moines",
          "Cedar Rapids",
          "Davenport",
          "West Des Moines",
          "Waterloo",
          "Iowa City",
          "Council Bluffs",
          "Sioux City",
          "Dubuque",
          "Ames"
         ],
         "xaxis": "x2",
         "y": [
          20300011.25701863,
          12459221.078996534,
          9159638.360993436,
          6462864.414998091,
          6246040.322994589,
          5976251.626998779,
          6032132.766999145,
          5970194.922998283,
          5093502.994999645,
          5087214.79899961
         ],
         "yaxis": "y2"
        }
       ],
       "layout": {
        "autosize": false,
        "height": 400,
        "template": {
         "data": {
          "bar": [
           {
            "error_x": {
             "color": "#2a3f5f"
            },
            "error_y": {
             "color": "#2a3f5f"
            },
            "marker": {
             "line": {
              "color": "#E5ECF6",
              "width": 0.5
             }
            },
            "type": "bar"
           }
          ],
          "barpolar": [
           {
            "marker": {
             "line": {
              "color": "#E5ECF6",
              "width": 0.5
             }
            },
            "type": "barpolar"
           }
          ],
          "carpet": [
           {
            "aaxis": {
             "endlinecolor": "#2a3f5f",
             "gridcolor": "white",
             "linecolor": "white",
             "minorgridcolor": "white",
             "startlinecolor": "#2a3f5f"
            },
            "baxis": {
             "endlinecolor": "#2a3f5f",
             "gridcolor": "white",
             "linecolor": "white",
             "minorgridcolor": "white",
             "startlinecolor": "#2a3f5f"
            },
            "type": "carpet"
           }
          ],
          "choropleth": [
           {
            "colorbar": {
             "outlinewidth": 0,
             "ticks": ""
            },
            "type": "choropleth"
           }
          ],
          "contour": [
           {
            "colorbar": {
             "outlinewidth": 0,
             "ticks": ""
            },
            "colorscale": [
             [
              0,
              "#0d0887"
             ],
             [
              0.1111111111111111,
              "#46039f"
             ],
             [
              0.2222222222222222,
              "#7201a8"
             ],
             [
              0.3333333333333333,
              "#9c179e"
             ],
             [
              0.4444444444444444,
              "#bd3786"
             ],
             [
              0.5555555555555556,
              "#d8576b"
             ],
             [
              0.6666666666666666,
              "#ed7953"
             ],
             [
              0.7777777777777778,
              "#fb9f3a"
             ],
             [
              0.8888888888888888,
              "#fdca26"
             ],
             [
              1,
              "#f0f921"
             ]
            ],
            "type": "contour"
           }
          ],
          "contourcarpet": [
           {
            "colorbar": {
             "outlinewidth": 0,
             "ticks": ""
            },
            "type": "contourcarpet"
           }
          ],
          "heatmap": [
           {
            "colorbar": {
             "outlinewidth": 0,
             "ticks": ""
            },
            "colorscale": [
             [
              0,
              "#0d0887"
             ],
             [
              0.1111111111111111,
              "#46039f"
             ],
             [
              0.2222222222222222,
              "#7201a8"
             ],
             [
              0.3333333333333333,
              "#9c179e"
             ],
             [
              0.4444444444444444,
              "#bd3786"
             ],
             [
              0.5555555555555556,
              "#d8576b"
             ],
             [
              0.6666666666666666,
              "#ed7953"
             ],
             [
              0.7777777777777778,
              "#fb9f3a"
             ],
             [
              0.8888888888888888,
              "#fdca26"
             ],
             [
              1,
              "#f0f921"
             ]
            ],
            "type": "heatmap"
           }
          ],
          "heatmapgl": [
           {
            "colorbar": {
             "outlinewidth": 0,
             "ticks": ""
            },
            "colorscale": [
             [
              0,
              "#0d0887"
             ],
             [
              0.1111111111111111,
              "#46039f"
             ],
             [
              0.2222222222222222,
              "#7201a8"
             ],
             [
              0.3333333333333333,
              "#9c179e"
             ],
             [
              0.4444444444444444,
              "#bd3786"
             ],
             [
              0.5555555555555556,
              "#d8576b"
             ],
             [
              0.6666666666666666,
              "#ed7953"
             ],
             [
              0.7777777777777778,
              "#fb9f3a"
             ],
             [
              0.8888888888888888,
              "#fdca26"
             ],
             [
              1,
              "#f0f921"
             ]
            ],
            "type": "heatmapgl"
           }
          ],
          "histogram": [
           {
            "marker": {
             "colorbar": {
              "outlinewidth": 0,
              "ticks": ""
             }
            },
            "type": "histogram"
           }
          ],
          "histogram2d": [
           {
            "colorbar": {
             "outlinewidth": 0,
             "ticks": ""
            },
            "colorscale": [
             [
              0,
              "#0d0887"
             ],
             [
              0.1111111111111111,
              "#46039f"
             ],
             [
              0.2222222222222222,
              "#7201a8"
             ],
             [
              0.3333333333333333,
              "#9c179e"
             ],
             [
              0.4444444444444444,
              "#bd3786"
             ],
             [
              0.5555555555555556,
              "#d8576b"
             ],
             [
              0.6666666666666666,
              "#ed7953"
             ],
             [
              0.7777777777777778,
              "#fb9f3a"
             ],
             [
              0.8888888888888888,
              "#fdca26"
             ],
             [
              1,
              "#f0f921"
             ]
            ],
            "type": "histogram2d"
           }
          ],
          "histogram2dcontour": [
           {
            "colorbar": {
             "outlinewidth": 0,
             "ticks": ""
            },
            "colorscale": [
             [
              0,
              "#0d0887"
             ],
             [
              0.1111111111111111,
              "#46039f"
             ],
             [
              0.2222222222222222,
              "#7201a8"
             ],
             [
              0.3333333333333333,
              "#9c179e"
             ],
             [
              0.4444444444444444,
              "#bd3786"
             ],
             [
              0.5555555555555556,
              "#d8576b"
             ],
             [
              0.6666666666666666,
              "#ed7953"
             ],
             [
              0.7777777777777778,
              "#fb9f3a"
             ],
             [
              0.8888888888888888,
              "#fdca26"
             ],
             [
              1,
              "#f0f921"
             ]
            ],
            "type": "histogram2dcontour"
           }
          ],
          "mesh3d": [
           {
            "colorbar": {
             "outlinewidth": 0,
             "ticks": ""
            },
            "type": "mesh3d"
           }
          ],
          "parcoords": [
           {
            "line": {
             "colorbar": {
              "outlinewidth": 0,
              "ticks": ""
             }
            },
            "type": "parcoords"
           }
          ],
          "pie": [
           {
            "automargin": true,
            "type": "pie"
           }
          ],
          "scatter": [
           {
            "marker": {
             "colorbar": {
              "outlinewidth": 0,
              "ticks": ""
             }
            },
            "type": "scatter"
           }
          ],
          "scatter3d": [
           {
            "line": {
             "colorbar": {
              "outlinewidth": 0,
              "ticks": ""
             }
            },
            "marker": {
             "colorbar": {
              "outlinewidth": 0,
              "ticks": ""
             }
            },
            "type": "scatter3d"
           }
          ],
          "scattercarpet": [
           {
            "marker": {
             "colorbar": {
              "outlinewidth": 0,
              "ticks": ""
             }
            },
            "type": "scattercarpet"
           }
          ],
          "scattergeo": [
           {
            "marker": {
             "colorbar": {
              "outlinewidth": 0,
              "ticks": ""
             }
            },
            "type": "scattergeo"
           }
          ],
          "scattergl": [
           {
            "marker": {
             "colorbar": {
              "outlinewidth": 0,
              "ticks": ""
             }
            },
            "type": "scattergl"
           }
          ],
          "scattermapbox": [
           {
            "marker": {
             "colorbar": {
              "outlinewidth": 0,
              "ticks": ""
             }
            },
            "type": "scattermapbox"
           }
          ],
          "scatterpolar": [
           {
            "marker": {
             "colorbar": {
              "outlinewidth": 0,
              "ticks": ""
             }
            },
            "type": "scatterpolar"
           }
          ],
          "scatterpolargl": [
           {
            "marker": {
             "colorbar": {
              "outlinewidth": 0,
              "ticks": ""
             }
            },
            "type": "scatterpolargl"
           }
          ],
          "scatterternary": [
           {
            "marker": {
             "colorbar": {
              "outlinewidth": 0,
              "ticks": ""
             }
            },
            "type": "scatterternary"
           }
          ],
          "surface": [
           {
            "colorbar": {
             "outlinewidth": 0,
             "ticks": ""
            },
            "colorscale": [
             [
              0,
              "#0d0887"
             ],
             [
              0.1111111111111111,
              "#46039f"
             ],
             [
              0.2222222222222222,
              "#7201a8"
             ],
             [
              0.3333333333333333,
              "#9c179e"
             ],
             [
              0.4444444444444444,
              "#bd3786"
             ],
             [
              0.5555555555555556,
              "#d8576b"
             ],
             [
              0.6666666666666666,
              "#ed7953"
             ],
             [
              0.7777777777777778,
              "#fb9f3a"
             ],
             [
              0.8888888888888888,
              "#fdca26"
             ],
             [
              1,
              "#f0f921"
             ]
            ],
            "type": "surface"
           }
          ],
          "table": [
           {
            "cells": {
             "fill": {
              "color": "#EBF0F8"
             },
             "line": {
              "color": "white"
             }
            },
            "header": {
             "fill": {
              "color": "#C8D4E3"
             },
             "line": {
              "color": "white"
             }
            },
            "type": "table"
           }
          ]
         },
         "layout": {
          "annotationdefaults": {
           "arrowcolor": "#2a3f5f",
           "arrowhead": 0,
           "arrowwidth": 1
          },
          "autotypenumbers": "strict",
          "coloraxis": {
           "colorbar": {
            "outlinewidth": 0,
            "ticks": ""
           }
          },
          "colorscale": {
           "diverging": [
            [
             0,
             "#8e0152"
            ],
            [
             0.1,
             "#c51b7d"
            ],
            [
             0.2,
             "#de77ae"
            ],
            [
             0.3,
             "#f1b6da"
            ],
            [
             0.4,
             "#fde0ef"
            ],
            [
             0.5,
             "#f7f7f7"
            ],
            [
             0.6,
             "#e6f5d0"
            ],
            [
             0.7,
             "#b8e186"
            ],
            [
             0.8,
             "#7fbc41"
            ],
            [
             0.9,
             "#4d9221"
            ],
            [
             1,
             "#276419"
            ]
           ],
           "sequential": [
            [
             0,
             "#0d0887"
            ],
            [
             0.1111111111111111,
             "#46039f"
            ],
            [
             0.2222222222222222,
             "#7201a8"
            ],
            [
             0.3333333333333333,
             "#9c179e"
            ],
            [
             0.4444444444444444,
             "#bd3786"
            ],
            [
             0.5555555555555556,
             "#d8576b"
            ],
            [
             0.6666666666666666,
             "#ed7953"
            ],
            [
             0.7777777777777778,
             "#fb9f3a"
            ],
            [
             0.8888888888888888,
             "#fdca26"
            ],
            [
             1,
             "#f0f921"
            ]
           ],
           "sequentialminus": [
            [
             0,
             "#0d0887"
            ],
            [
             0.1111111111111111,
             "#46039f"
            ],
            [
             0.2222222222222222,
             "#7201a8"
            ],
            [
             0.3333333333333333,
             "#9c179e"
            ],
            [
             0.4444444444444444,
             "#bd3786"
            ],
            [
             0.5555555555555556,
             "#d8576b"
            ],
            [
             0.6666666666666666,
             "#ed7953"
            ],
            [
             0.7777777777777778,
             "#fb9f3a"
            ],
            [
             0.8888888888888888,
             "#fdca26"
            ],
            [
             1,
             "#f0f921"
            ]
           ]
          },
          "colorway": [
           "#636efa",
           "#EF553B",
           "#00cc96",
           "#ab63fa",
           "#FFA15A",
           "#19d3f3",
           "#FF6692",
           "#B6E880",
           "#FF97FF",
           "#FECB52"
          ],
          "font": {
           "color": "#2a3f5f"
          },
          "geo": {
           "bgcolor": "white",
           "lakecolor": "white",
           "landcolor": "#E5ECF6",
           "showlakes": true,
           "showland": true,
           "subunitcolor": "white"
          },
          "hoverlabel": {
           "align": "left"
          },
          "hovermode": "closest",
          "mapbox": {
           "style": "light"
          },
          "paper_bgcolor": "white",
          "plot_bgcolor": "#E5ECF6",
          "polar": {
           "angularaxis": {
            "gridcolor": "white",
            "linecolor": "white",
            "ticks": ""
           },
           "bgcolor": "#E5ECF6",
           "radialaxis": {
            "gridcolor": "white",
            "linecolor": "white",
            "ticks": ""
           }
          },
          "scene": {
           "xaxis": {
            "backgroundcolor": "#E5ECF6",
            "gridcolor": "white",
            "gridwidth": 2,
            "linecolor": "white",
            "showbackground": true,
            "ticks": "",
            "zerolinecolor": "white"
           },
           "yaxis": {
            "backgroundcolor": "#E5ECF6",
            "gridcolor": "white",
            "gridwidth": 2,
            "linecolor": "white",
            "showbackground": true,
            "ticks": "",
            "zerolinecolor": "white"
           },
           "zaxis": {
            "backgroundcolor": "#E5ECF6",
            "gridcolor": "white",
            "gridwidth": 2,
            "linecolor": "white",
            "showbackground": true,
            "ticks": "",
            "zerolinecolor": "white"
           }
          },
          "shapedefaults": {
           "line": {
            "color": "#2a3f5f"
           }
          },
          "ternary": {
           "aaxis": {
            "gridcolor": "white",
            "linecolor": "white",
            "ticks": ""
           },
           "baxis": {
            "gridcolor": "white",
            "linecolor": "white",
            "ticks": ""
           },
           "bgcolor": "#E5ECF6",
           "caxis": {
            "gridcolor": "white",
            "linecolor": "white",
            "ticks": ""
           }
          },
          "title": {
           "x": 0.05
          },
          "xaxis": {
           "automargin": true,
           "gridcolor": "white",
           "linecolor": "white",
           "ticks": "",
           "title": {
            "standoff": 15
           },
           "zerolinecolor": "white",
           "zerolinewidth": 2
          },
          "yaxis": {
           "automargin": true,
           "gridcolor": "white",
           "linecolor": "white",
           "ticks": "",
           "title": {
            "standoff": 15
           },
           "zerolinecolor": "white",
           "zerolinewidth": 2
          }
         }
        },
        "width": 950,
        "xaxis": {
         "anchor": "y",
         "domain": [
          0,
          0.45
         ]
        },
        "xaxis2": {
         "anchor": "y2",
         "domain": [
          0.55,
          1
         ]
        },
        "yaxis": {
         "anchor": "x",
         "domain": [
          0,
          1
         ]
        },
        "yaxis2": {
         "anchor": "x2",
         "domain": [
          0,
          1
         ]
        }
       }
      },
      "text/html": [
       "<div>                            <div id=\"c788a7a2-c04f-4df4-9d00-ed66b460fbf3\" class=\"plotly-graph-div\" style=\"height:400px; width:950px;\"></div>            <script type=\"text/javascript\">                require([\"plotly\"], function(Plotly) {                    window.PLOTLYENV=window.PLOTLYENV || {};                                    if (document.getElementById(\"c788a7a2-c04f-4df4-9d00-ed66b460fbf3\")) {                    Plotly.newPlot(                        \"c788a7a2-c04f-4df4-9d00-ed66b460fbf3\",                        [{\"name\": \"Sale in dollars\", \"type\": \"bar\", \"x\": [\"2633|Hy-Vee #3 / Bdi / Des Moines\", \"4829|Central City 2\", \"2512|Hy-Vee Wine And Spirits / Iowa City\", \"3385|Sam'S Club 8162 / Cedar Rapids\", \"3420|Sam'S Club 6344 / Windsor Heights\", \"3952|Lot-A-Spirits\", \"3773|Benz Distributing\", \"3354|Sam'S Club 8238 / Davenport\", \"2190|Central City Liquor, Inc.\", \"3814|Costco Wholesale #788\"], \"xaxis\": \"x\", \"y\": [87987521.22999525, 74899520.86000657, 37558559.26000044, 32833255.989999507, 31296320.949999563, 26405531.26999861, 22220537.899999477, 22211122.849999968, 20530638.780003205, 19295289.84160033], \"yaxis\": \"y\"}, {\"name\": \"Volume in litres\", \"type\": \"bar\", \"x\": [\"2633|Hy-Vee #3 / Bdi / Des Moines\", \"4829|Central City 2\", \"2512|Hy-Vee Wine And Spirits / Iowa City\", \"3385|Sam'S Club 8162 / Cedar Rapids\", \"3420|Sam'S Club 6344 / Windsor Heights\", \"3952|Lot-A-Spirits\", \"3773|Benz Distributing\", \"3354|Sam'S Club 8238 / Davenport\", \"2190|Central City Liquor, Inc.\", \"3814|Costco Wholesale #788\"], \"xaxis\": \"x\", \"y\": [5138579.1850000005, 4207828.4250000045, 2428189.1350000487, 2265200.4, 2175249.45, 1485566.345, 1217633.7960000064, 1520654.6500000001, 1035931.8570000131, 1070968.56], \"yaxis\": \"y\"}, {\"name\": \"Sale in dollars\", \"type\": \"bar\", \"x\": [\"Des Moines\", \"Cedar Rapids\", \"Davenport\", \"West Des Moines\", \"Waterloo\", \"Iowa City\", \"Council Bluffs\", \"Sioux City\", \"Dubuque\", \"Ames\"], \"xaxis\": \"x2\", \"y\": [338915896.3494215, 186464164.66980854, 141448518.18996492, 105848427.7815843, 98254938.76617402, 93110927.78998959, 92277811.13998964, 91568668.51999502, 75584102.66000311, 75043964.70000468], \"yaxis\": \"y2\"}, {\"name\": \"Volume in litres\", \"type\": \"bar\", \"x\": [\"Des Moines\", \"Cedar Rapids\", \"Davenport\", \"West Des Moines\", \"Waterloo\", \"Iowa City\", \"Council Bluffs\", \"Sioux City\", \"Dubuque\", \"Ames\"], \"xaxis\": \"x2\", \"y\": [20300011.25701863, 12459221.078996534, 9159638.360993436, 6462864.414998091, 6246040.322994589, 5976251.626998779, 6032132.766999145, 5970194.922998283, 5093502.994999645, 5087214.79899961], \"yaxis\": \"y2\"}],                        {\"autosize\": false, \"height\": 400, \"template\": {\"data\": {\"bar\": [{\"error_x\": {\"color\": \"#2a3f5f\"}, \"error_y\": {\"color\": \"#2a3f5f\"}, \"marker\": {\"line\": {\"color\": \"#E5ECF6\", \"width\": 0.5}}, \"type\": \"bar\"}], \"barpolar\": [{\"marker\": {\"line\": {\"color\": \"#E5ECF6\", \"width\": 0.5}}, \"type\": \"barpolar\"}], \"carpet\": [{\"aaxis\": {\"endlinecolor\": \"#2a3f5f\", \"gridcolor\": \"white\", \"linecolor\": \"white\", \"minorgridcolor\": \"white\", \"startlinecolor\": \"#2a3f5f\"}, \"baxis\": {\"endlinecolor\": \"#2a3f5f\", \"gridcolor\": \"white\", \"linecolor\": \"white\", \"minorgridcolor\": \"white\", \"startlinecolor\": \"#2a3f5f\"}, \"type\": \"carpet\"}], \"choropleth\": [{\"colorbar\": {\"outlinewidth\": 0, \"ticks\": \"\"}, \"type\": \"choropleth\"}], \"contour\": [{\"colorbar\": {\"outlinewidth\": 0, \"ticks\": \"\"}, \"colorscale\": [[0.0, \"#0d0887\"], [0.1111111111111111, \"#46039f\"], [0.2222222222222222, \"#7201a8\"], [0.3333333333333333, \"#9c179e\"], [0.4444444444444444, \"#bd3786\"], [0.5555555555555556, \"#d8576b\"], [0.6666666666666666, \"#ed7953\"], [0.7777777777777778, \"#fb9f3a\"], [0.8888888888888888, \"#fdca26\"], [1.0, \"#f0f921\"]], \"type\": \"contour\"}], \"contourcarpet\": [{\"colorbar\": {\"outlinewidth\": 0, \"ticks\": \"\"}, \"type\": \"contourcarpet\"}], \"heatmap\": [{\"colorbar\": {\"outlinewidth\": 0, \"ticks\": \"\"}, \"colorscale\": [[0.0, \"#0d0887\"], [0.1111111111111111, \"#46039f\"], [0.2222222222222222, \"#7201a8\"], [0.3333333333333333, \"#9c179e\"], [0.4444444444444444, \"#bd3786\"], [0.5555555555555556, \"#d8576b\"], [0.6666666666666666, \"#ed7953\"], [0.7777777777777778, \"#fb9f3a\"], [0.8888888888888888, \"#fdca26\"], [1.0, \"#f0f921\"]], \"type\": \"heatmap\"}], \"heatmapgl\": [{\"colorbar\": {\"outlinewidth\": 0, \"ticks\": \"\"}, \"colorscale\": [[0.0, \"#0d0887\"], [0.1111111111111111, \"#46039f\"], [0.2222222222222222, \"#7201a8\"], [0.3333333333333333, \"#9c179e\"], [0.4444444444444444, \"#bd3786\"], [0.5555555555555556, \"#d8576b\"], [0.6666666666666666, \"#ed7953\"], [0.7777777777777778, \"#fb9f3a\"], [0.8888888888888888, \"#fdca26\"], [1.0, \"#f0f921\"]], \"type\": \"heatmapgl\"}], \"histogram\": [{\"marker\": {\"colorbar\": {\"outlinewidth\": 0, \"ticks\": \"\"}}, \"type\": \"histogram\"}], \"histogram2d\": [{\"colorbar\": {\"outlinewidth\": 0, \"ticks\": \"\"}, \"colorscale\": [[0.0, \"#0d0887\"], [0.1111111111111111, \"#46039f\"], [0.2222222222222222, \"#7201a8\"], [0.3333333333333333, \"#9c179e\"], [0.4444444444444444, \"#bd3786\"], [0.5555555555555556, \"#d8576b\"], [0.6666666666666666, \"#ed7953\"], [0.7777777777777778, \"#fb9f3a\"], [0.8888888888888888, \"#fdca26\"], [1.0, \"#f0f921\"]], \"type\": \"histogram2d\"}], \"histogram2dcontour\": [{\"colorbar\": {\"outlinewidth\": 0, \"ticks\": \"\"}, \"colorscale\": [[0.0, \"#0d0887\"], [0.1111111111111111, \"#46039f\"], [0.2222222222222222, \"#7201a8\"], [0.3333333333333333, \"#9c179e\"], [0.4444444444444444, \"#bd3786\"], [0.5555555555555556, \"#d8576b\"], [0.6666666666666666, \"#ed7953\"], [0.7777777777777778, \"#fb9f3a\"], [0.8888888888888888, \"#fdca26\"], [1.0, \"#f0f921\"]], \"type\": \"histogram2dcontour\"}], \"mesh3d\": [{\"colorbar\": {\"outlinewidth\": 0, \"ticks\": \"\"}, \"type\": \"mesh3d\"}], \"parcoords\": [{\"line\": {\"colorbar\": {\"outlinewidth\": 0, \"ticks\": \"\"}}, \"type\": \"parcoords\"}], \"pie\": [{\"automargin\": true, \"type\": \"pie\"}], \"scatter\": [{\"marker\": {\"colorbar\": {\"outlinewidth\": 0, \"ticks\": \"\"}}, \"type\": \"scatter\"}], \"scatter3d\": [{\"line\": {\"colorbar\": {\"outlinewidth\": 0, \"ticks\": \"\"}}, \"marker\": {\"colorbar\": {\"outlinewidth\": 0, \"ticks\": \"\"}}, \"type\": \"scatter3d\"}], \"scattercarpet\": [{\"marker\": {\"colorbar\": {\"outlinewidth\": 0, \"ticks\": \"\"}}, \"type\": \"scattercarpet\"}], \"scattergeo\": [{\"marker\": {\"colorbar\": {\"outlinewidth\": 0, \"ticks\": \"\"}}, \"type\": \"scattergeo\"}], \"scattergl\": [{\"marker\": {\"colorbar\": {\"outlinewidth\": 0, \"ticks\": \"\"}}, \"type\": \"scattergl\"}], \"scattermapbox\": [{\"marker\": {\"colorbar\": {\"outlinewidth\": 0, \"ticks\": \"\"}}, \"type\": \"scattermapbox\"}], \"scatterpolar\": [{\"marker\": {\"colorbar\": {\"outlinewidth\": 0, \"ticks\": \"\"}}, \"type\": \"scatterpolar\"}], \"scatterpolargl\": [{\"marker\": {\"colorbar\": {\"outlinewidth\": 0, \"ticks\": \"\"}}, \"type\": \"scatterpolargl\"}], \"scatterternary\": [{\"marker\": {\"colorbar\": {\"outlinewidth\": 0, \"ticks\": \"\"}}, \"type\": \"scatterternary\"}], \"surface\": [{\"colorbar\": {\"outlinewidth\": 0, \"ticks\": \"\"}, \"colorscale\": [[0.0, \"#0d0887\"], [0.1111111111111111, \"#46039f\"], [0.2222222222222222, \"#7201a8\"], [0.3333333333333333, \"#9c179e\"], [0.4444444444444444, \"#bd3786\"], [0.5555555555555556, \"#d8576b\"], [0.6666666666666666, \"#ed7953\"], [0.7777777777777778, \"#fb9f3a\"], [0.8888888888888888, \"#fdca26\"], [1.0, \"#f0f921\"]], \"type\": \"surface\"}], \"table\": [{\"cells\": {\"fill\": {\"color\": \"#EBF0F8\"}, \"line\": {\"color\": \"white\"}}, \"header\": {\"fill\": {\"color\": \"#C8D4E3\"}, \"line\": {\"color\": \"white\"}}, \"type\": \"table\"}]}, \"layout\": {\"annotationdefaults\": {\"arrowcolor\": \"#2a3f5f\", \"arrowhead\": 0, \"arrowwidth\": 1}, \"autotypenumbers\": \"strict\", \"coloraxis\": {\"colorbar\": {\"outlinewidth\": 0, \"ticks\": \"\"}}, \"colorscale\": {\"diverging\": [[0, \"#8e0152\"], [0.1, \"#c51b7d\"], [0.2, \"#de77ae\"], [0.3, \"#f1b6da\"], [0.4, \"#fde0ef\"], [0.5, \"#f7f7f7\"], [0.6, \"#e6f5d0\"], [0.7, \"#b8e186\"], [0.8, \"#7fbc41\"], [0.9, \"#4d9221\"], [1, \"#276419\"]], \"sequential\": [[0.0, \"#0d0887\"], [0.1111111111111111, \"#46039f\"], [0.2222222222222222, \"#7201a8\"], [0.3333333333333333, \"#9c179e\"], [0.4444444444444444, \"#bd3786\"], [0.5555555555555556, \"#d8576b\"], [0.6666666666666666, \"#ed7953\"], [0.7777777777777778, \"#fb9f3a\"], [0.8888888888888888, \"#fdca26\"], [1.0, \"#f0f921\"]], \"sequentialminus\": [[0.0, \"#0d0887\"], [0.1111111111111111, \"#46039f\"], [0.2222222222222222, \"#7201a8\"], [0.3333333333333333, \"#9c179e\"], [0.4444444444444444, \"#bd3786\"], [0.5555555555555556, \"#d8576b\"], [0.6666666666666666, \"#ed7953\"], [0.7777777777777778, \"#fb9f3a\"], [0.8888888888888888, \"#fdca26\"], [1.0, \"#f0f921\"]]}, \"colorway\": [\"#636efa\", \"#EF553B\", \"#00cc96\", \"#ab63fa\", \"#FFA15A\", \"#19d3f3\", \"#FF6692\", \"#B6E880\", \"#FF97FF\", \"#FECB52\"], \"font\": {\"color\": \"#2a3f5f\"}, \"geo\": {\"bgcolor\": \"white\", \"lakecolor\": \"white\", \"landcolor\": \"#E5ECF6\", \"showlakes\": true, \"showland\": true, \"subunitcolor\": \"white\"}, \"hoverlabel\": {\"align\": \"left\"}, \"hovermode\": \"closest\", \"mapbox\": {\"style\": \"light\"}, \"paper_bgcolor\": \"white\", \"plot_bgcolor\": \"#E5ECF6\", \"polar\": {\"angularaxis\": {\"gridcolor\": \"white\", \"linecolor\": \"white\", \"ticks\": \"\"}, \"bgcolor\": \"#E5ECF6\", \"radialaxis\": {\"gridcolor\": \"white\", \"linecolor\": \"white\", \"ticks\": \"\"}}, \"scene\": {\"xaxis\": {\"backgroundcolor\": \"#E5ECF6\", \"gridcolor\": \"white\", \"gridwidth\": 2, \"linecolor\": \"white\", \"showbackground\": true, \"ticks\": \"\", \"zerolinecolor\": \"white\"}, \"yaxis\": {\"backgroundcolor\": \"#E5ECF6\", \"gridcolor\": \"white\", \"gridwidth\": 2, \"linecolor\": \"white\", \"showbackground\": true, \"ticks\": \"\", \"zerolinecolor\": \"white\"}, \"zaxis\": {\"backgroundcolor\": \"#E5ECF6\", \"gridcolor\": \"white\", \"gridwidth\": 2, \"linecolor\": \"white\", \"showbackground\": true, \"ticks\": \"\", \"zerolinecolor\": \"white\"}}, \"shapedefaults\": {\"line\": {\"color\": \"#2a3f5f\"}}, \"ternary\": {\"aaxis\": {\"gridcolor\": \"white\", \"linecolor\": \"white\", \"ticks\": \"\"}, \"baxis\": {\"gridcolor\": \"white\", \"linecolor\": \"white\", \"ticks\": \"\"}, \"bgcolor\": \"#E5ECF6\", \"caxis\": {\"gridcolor\": \"white\", \"linecolor\": \"white\", \"ticks\": \"\"}}, \"title\": {\"x\": 0.05}, \"xaxis\": {\"automargin\": true, \"gridcolor\": \"white\", \"linecolor\": \"white\", \"ticks\": \"\", \"title\": {\"standoff\": 15}, \"zerolinecolor\": \"white\", \"zerolinewidth\": 2}, \"yaxis\": {\"automargin\": true, \"gridcolor\": \"white\", \"linecolor\": \"white\", \"ticks\": \"\", \"title\": {\"standoff\": 15}, \"zerolinecolor\": \"white\", \"zerolinewidth\": 2}}}, \"width\": 950, \"xaxis\": {\"anchor\": \"y\", \"domain\": [0.0, 0.45]}, \"xaxis2\": {\"anchor\": \"y2\", \"domain\": [0.55, 1.0]}, \"yaxis\": {\"anchor\": \"x\", \"domain\": [0.0, 1.0]}, \"yaxis2\": {\"anchor\": \"x2\", \"domain\": [0.0, 1.0]}},                        {\"responsive\": true}                    ).then(function(){\n",
       "                            \n",
       "var gd = document.getElementById('c788a7a2-c04f-4df4-9d00-ed66b460fbf3');\n",
       "var x = new MutationObserver(function (mutations, observer) {{\n",
       "        var display = window.getComputedStyle(gd).display;\n",
       "        if (!display || display === 'none') {{\n",
       "            console.log([gd, 'removed!']);\n",
       "            Plotly.purge(gd);\n",
       "            observer.disconnect();\n",
       "        }}\n",
       "}});\n",
       "\n",
       "// Listen for the removal of the full notebook cells\n",
       "var notebookContainer = gd.closest('#notebook-container');\n",
       "if (notebookContainer) {{\n",
       "    x.observe(notebookContainer, {childList: true});\n",
       "}}\n",
       "\n",
       "// Listen for the clearing of the current output cell\n",
       "var outputEl = gd.closest('.output');\n",
       "if (outputEl) {{\n",
       "    x.observe(outputEl, {childList: true});\n",
       "}}\n",
       "\n",
       "                        })                };                });            </script>        </div>"
      ]
     },
     "metadata": {},
     "output_type": "display_data"
    }
   ],
   "source": [
    "fig = make_subplots(rows=1, cols=2)\n",
    "fig = plot_bar(fig, df_aggregate, 'store', 1, 1)\n",
    "fig = plot_bar(fig, df_aggregate, 'city', 1, 2)\n",
    "fig.update_layout(autosize=False, width=950, height=400)\n",
    "fig.show()"
   ]
  },
  {
   "cell_type": "code",
   "execution_count": 231,
   "metadata": {},
   "outputs": [],
   "source": [
    "# Conclusions"
   ]
  },
  {
   "cell_type": "markdown",
   "metadata": {},
   "source": [
    "<ul><li><em>County and Category</em></li></ul>"
   ]
  },
  {
   "cell_type": "code",
   "execution_count": 235,
   "metadata": {},
   "outputs": [
    {
     "data": {
      "application/vnd.plotly.v1+json": {
       "config": {
        "plotlyServerURL": "https://plot.ly"
       },
       "data": [
        {
         "name": "Sale in dollars",
         "type": "bar",
         "x": [
          "Polk",
          "Linn",
          "Scott",
          "Johnson",
          "Black Hawk",
          "Pottawattamie",
          "Woodbury",
          "Dubuque",
          "Story",
          "Cerro Gordo"
         ],
         "xaxis": "x",
         "y": [
          628487589.0860251,
          241633388.2697487,
          199373150.98983648,
          165010325.1298756,
          156143453.49604556,
          98084428.23998785,
          95401093.63998981,
          83565179.25999634,
          83438395.59999666,
          57710709.03999562
         ],
         "yaxis": "y"
        },
        {
         "name": "Volume in litres",
         "type": "bar",
         "x": [
          "Polk",
          "Linn",
          "Scott",
          "Johnson",
          "Black Hawk",
          "Pottawattamie",
          "Woodbury",
          "Dubuque",
          "Story",
          "Cerro Gordo"
         ],
         "xaxis": "x",
         "y": [
          38805353.04805607,
          16413220.68899799,
          12683241.180997541,
          10272978.941997042,
          10201535.35199601,
          6440453.441998579,
          6243855.532998018,
          5749765.1949991435,
          5742092.508999127,
          4192114.194000099
         ],
         "yaxis": "y"
        },
        {
         "name": "Sale in dollars",
         "type": "bar",
         "x": [
          "Canadian Whiskies",
          "American Vodkas",
          "Spiced Rum",
          "Straight Bourbon Whiskies",
          "Vodka 80 Proof",
          "Whiskey Liqueur",
          "Tennessee Whiskies",
          "Blended Whiskies",
          "Imported Vodka",
          "Imported Vodkas"
         ],
         "xaxis": "x2",
         "y": [
          335644348.78886545,
          217965920.960787,
          196924659.78971148,
          166558709.77965656,
          145771914.57028538,
          134450272.20996115,
          120645240.66607565,
          79175742.2500325,
          77926425.81157508,
          71309343.3000252
         ],
         "yaxis": "y2"
        },
        {
         "name": "Volume in litres",
         "type": "bar",
         "x": [
          "Canadian Whiskies",
          "American Vodkas",
          "Spiced Rum",
          "Straight Bourbon Whiskies",
          "Vodka 80 Proof",
          "Whiskey Liqueur",
          "Tennessee Whiskies",
          "Blended Whiskies",
          "Imported Vodka",
          "Imported Vodkas"
         ],
         "xaxis": "x2",
         "y": [
          24436188.680031296,
          22220832.925013207,
          12836338.124996936,
          8291749.509997178,
          17797445.02499475,
          7661934.824993826,
          4265061.0400000205,
          7572867.347997641,
          3751975.547000737,
          3897122.925000419
         ],
         "yaxis": "y2"
        }
       ],
       "layout": {
        "autosize": false,
        "height": 400,
        "template": {
         "data": {
          "bar": [
           {
            "error_x": {
             "color": "#2a3f5f"
            },
            "error_y": {
             "color": "#2a3f5f"
            },
            "marker": {
             "line": {
              "color": "#E5ECF6",
              "width": 0.5
             }
            },
            "type": "bar"
           }
          ],
          "barpolar": [
           {
            "marker": {
             "line": {
              "color": "#E5ECF6",
              "width": 0.5
             }
            },
            "type": "barpolar"
           }
          ],
          "carpet": [
           {
            "aaxis": {
             "endlinecolor": "#2a3f5f",
             "gridcolor": "white",
             "linecolor": "white",
             "minorgridcolor": "white",
             "startlinecolor": "#2a3f5f"
            },
            "baxis": {
             "endlinecolor": "#2a3f5f",
             "gridcolor": "white",
             "linecolor": "white",
             "minorgridcolor": "white",
             "startlinecolor": "#2a3f5f"
            },
            "type": "carpet"
           }
          ],
          "choropleth": [
           {
            "colorbar": {
             "outlinewidth": 0,
             "ticks": ""
            },
            "type": "choropleth"
           }
          ],
          "contour": [
           {
            "colorbar": {
             "outlinewidth": 0,
             "ticks": ""
            },
            "colorscale": [
             [
              0,
              "#0d0887"
             ],
             [
              0.1111111111111111,
              "#46039f"
             ],
             [
              0.2222222222222222,
              "#7201a8"
             ],
             [
              0.3333333333333333,
              "#9c179e"
             ],
             [
              0.4444444444444444,
              "#bd3786"
             ],
             [
              0.5555555555555556,
              "#d8576b"
             ],
             [
              0.6666666666666666,
              "#ed7953"
             ],
             [
              0.7777777777777778,
              "#fb9f3a"
             ],
             [
              0.8888888888888888,
              "#fdca26"
             ],
             [
              1,
              "#f0f921"
             ]
            ],
            "type": "contour"
           }
          ],
          "contourcarpet": [
           {
            "colorbar": {
             "outlinewidth": 0,
             "ticks": ""
            },
            "type": "contourcarpet"
           }
          ],
          "heatmap": [
           {
            "colorbar": {
             "outlinewidth": 0,
             "ticks": ""
            },
            "colorscale": [
             [
              0,
              "#0d0887"
             ],
             [
              0.1111111111111111,
              "#46039f"
             ],
             [
              0.2222222222222222,
              "#7201a8"
             ],
             [
              0.3333333333333333,
              "#9c179e"
             ],
             [
              0.4444444444444444,
              "#bd3786"
             ],
             [
              0.5555555555555556,
              "#d8576b"
             ],
             [
              0.6666666666666666,
              "#ed7953"
             ],
             [
              0.7777777777777778,
              "#fb9f3a"
             ],
             [
              0.8888888888888888,
              "#fdca26"
             ],
             [
              1,
              "#f0f921"
             ]
            ],
            "type": "heatmap"
           }
          ],
          "heatmapgl": [
           {
            "colorbar": {
             "outlinewidth": 0,
             "ticks": ""
            },
            "colorscale": [
             [
              0,
              "#0d0887"
             ],
             [
              0.1111111111111111,
              "#46039f"
             ],
             [
              0.2222222222222222,
              "#7201a8"
             ],
             [
              0.3333333333333333,
              "#9c179e"
             ],
             [
              0.4444444444444444,
              "#bd3786"
             ],
             [
              0.5555555555555556,
              "#d8576b"
             ],
             [
              0.6666666666666666,
              "#ed7953"
             ],
             [
              0.7777777777777778,
              "#fb9f3a"
             ],
             [
              0.8888888888888888,
              "#fdca26"
             ],
             [
              1,
              "#f0f921"
             ]
            ],
            "type": "heatmapgl"
           }
          ],
          "histogram": [
           {
            "marker": {
             "colorbar": {
              "outlinewidth": 0,
              "ticks": ""
             }
            },
            "type": "histogram"
           }
          ],
          "histogram2d": [
           {
            "colorbar": {
             "outlinewidth": 0,
             "ticks": ""
            },
            "colorscale": [
             [
              0,
              "#0d0887"
             ],
             [
              0.1111111111111111,
              "#46039f"
             ],
             [
              0.2222222222222222,
              "#7201a8"
             ],
             [
              0.3333333333333333,
              "#9c179e"
             ],
             [
              0.4444444444444444,
              "#bd3786"
             ],
             [
              0.5555555555555556,
              "#d8576b"
             ],
             [
              0.6666666666666666,
              "#ed7953"
             ],
             [
              0.7777777777777778,
              "#fb9f3a"
             ],
             [
              0.8888888888888888,
              "#fdca26"
             ],
             [
              1,
              "#f0f921"
             ]
            ],
            "type": "histogram2d"
           }
          ],
          "histogram2dcontour": [
           {
            "colorbar": {
             "outlinewidth": 0,
             "ticks": ""
            },
            "colorscale": [
             [
              0,
              "#0d0887"
             ],
             [
              0.1111111111111111,
              "#46039f"
             ],
             [
              0.2222222222222222,
              "#7201a8"
             ],
             [
              0.3333333333333333,
              "#9c179e"
             ],
             [
              0.4444444444444444,
              "#bd3786"
             ],
             [
              0.5555555555555556,
              "#d8576b"
             ],
             [
              0.6666666666666666,
              "#ed7953"
             ],
             [
              0.7777777777777778,
              "#fb9f3a"
             ],
             [
              0.8888888888888888,
              "#fdca26"
             ],
             [
              1,
              "#f0f921"
             ]
            ],
            "type": "histogram2dcontour"
           }
          ],
          "mesh3d": [
           {
            "colorbar": {
             "outlinewidth": 0,
             "ticks": ""
            },
            "type": "mesh3d"
           }
          ],
          "parcoords": [
           {
            "line": {
             "colorbar": {
              "outlinewidth": 0,
              "ticks": ""
             }
            },
            "type": "parcoords"
           }
          ],
          "pie": [
           {
            "automargin": true,
            "type": "pie"
           }
          ],
          "scatter": [
           {
            "marker": {
             "colorbar": {
              "outlinewidth": 0,
              "ticks": ""
             }
            },
            "type": "scatter"
           }
          ],
          "scatter3d": [
           {
            "line": {
             "colorbar": {
              "outlinewidth": 0,
              "ticks": ""
             }
            },
            "marker": {
             "colorbar": {
              "outlinewidth": 0,
              "ticks": ""
             }
            },
            "type": "scatter3d"
           }
          ],
          "scattercarpet": [
           {
            "marker": {
             "colorbar": {
              "outlinewidth": 0,
              "ticks": ""
             }
            },
            "type": "scattercarpet"
           }
          ],
          "scattergeo": [
           {
            "marker": {
             "colorbar": {
              "outlinewidth": 0,
              "ticks": ""
             }
            },
            "type": "scattergeo"
           }
          ],
          "scattergl": [
           {
            "marker": {
             "colorbar": {
              "outlinewidth": 0,
              "ticks": ""
             }
            },
            "type": "scattergl"
           }
          ],
          "scattermapbox": [
           {
            "marker": {
             "colorbar": {
              "outlinewidth": 0,
              "ticks": ""
             }
            },
            "type": "scattermapbox"
           }
          ],
          "scatterpolar": [
           {
            "marker": {
             "colorbar": {
              "outlinewidth": 0,
              "ticks": ""
             }
            },
            "type": "scatterpolar"
           }
          ],
          "scatterpolargl": [
           {
            "marker": {
             "colorbar": {
              "outlinewidth": 0,
              "ticks": ""
             }
            },
            "type": "scatterpolargl"
           }
          ],
          "scatterternary": [
           {
            "marker": {
             "colorbar": {
              "outlinewidth": 0,
              "ticks": ""
             }
            },
            "type": "scatterternary"
           }
          ],
          "surface": [
           {
            "colorbar": {
             "outlinewidth": 0,
             "ticks": ""
            },
            "colorscale": [
             [
              0,
              "#0d0887"
             ],
             [
              0.1111111111111111,
              "#46039f"
             ],
             [
              0.2222222222222222,
              "#7201a8"
             ],
             [
              0.3333333333333333,
              "#9c179e"
             ],
             [
              0.4444444444444444,
              "#bd3786"
             ],
             [
              0.5555555555555556,
              "#d8576b"
             ],
             [
              0.6666666666666666,
              "#ed7953"
             ],
             [
              0.7777777777777778,
              "#fb9f3a"
             ],
             [
              0.8888888888888888,
              "#fdca26"
             ],
             [
              1,
              "#f0f921"
             ]
            ],
            "type": "surface"
           }
          ],
          "table": [
           {
            "cells": {
             "fill": {
              "color": "#EBF0F8"
             },
             "line": {
              "color": "white"
             }
            },
            "header": {
             "fill": {
              "color": "#C8D4E3"
             },
             "line": {
              "color": "white"
             }
            },
            "type": "table"
           }
          ]
         },
         "layout": {
          "annotationdefaults": {
           "arrowcolor": "#2a3f5f",
           "arrowhead": 0,
           "arrowwidth": 1
          },
          "autotypenumbers": "strict",
          "coloraxis": {
           "colorbar": {
            "outlinewidth": 0,
            "ticks": ""
           }
          },
          "colorscale": {
           "diverging": [
            [
             0,
             "#8e0152"
            ],
            [
             0.1,
             "#c51b7d"
            ],
            [
             0.2,
             "#de77ae"
            ],
            [
             0.3,
             "#f1b6da"
            ],
            [
             0.4,
             "#fde0ef"
            ],
            [
             0.5,
             "#f7f7f7"
            ],
            [
             0.6,
             "#e6f5d0"
            ],
            [
             0.7,
             "#b8e186"
            ],
            [
             0.8,
             "#7fbc41"
            ],
            [
             0.9,
             "#4d9221"
            ],
            [
             1,
             "#276419"
            ]
           ],
           "sequential": [
            [
             0,
             "#0d0887"
            ],
            [
             0.1111111111111111,
             "#46039f"
            ],
            [
             0.2222222222222222,
             "#7201a8"
            ],
            [
             0.3333333333333333,
             "#9c179e"
            ],
            [
             0.4444444444444444,
             "#bd3786"
            ],
            [
             0.5555555555555556,
             "#d8576b"
            ],
            [
             0.6666666666666666,
             "#ed7953"
            ],
            [
             0.7777777777777778,
             "#fb9f3a"
            ],
            [
             0.8888888888888888,
             "#fdca26"
            ],
            [
             1,
             "#f0f921"
            ]
           ],
           "sequentialminus": [
            [
             0,
             "#0d0887"
            ],
            [
             0.1111111111111111,
             "#46039f"
            ],
            [
             0.2222222222222222,
             "#7201a8"
            ],
            [
             0.3333333333333333,
             "#9c179e"
            ],
            [
             0.4444444444444444,
             "#bd3786"
            ],
            [
             0.5555555555555556,
             "#d8576b"
            ],
            [
             0.6666666666666666,
             "#ed7953"
            ],
            [
             0.7777777777777778,
             "#fb9f3a"
            ],
            [
             0.8888888888888888,
             "#fdca26"
            ],
            [
             1,
             "#f0f921"
            ]
           ]
          },
          "colorway": [
           "#636efa",
           "#EF553B",
           "#00cc96",
           "#ab63fa",
           "#FFA15A",
           "#19d3f3",
           "#FF6692",
           "#B6E880",
           "#FF97FF",
           "#FECB52"
          ],
          "font": {
           "color": "#2a3f5f"
          },
          "geo": {
           "bgcolor": "white",
           "lakecolor": "white",
           "landcolor": "#E5ECF6",
           "showlakes": true,
           "showland": true,
           "subunitcolor": "white"
          },
          "hoverlabel": {
           "align": "left"
          },
          "hovermode": "closest",
          "mapbox": {
           "style": "light"
          },
          "paper_bgcolor": "white",
          "plot_bgcolor": "#E5ECF6",
          "polar": {
           "angularaxis": {
            "gridcolor": "white",
            "linecolor": "white",
            "ticks": ""
           },
           "bgcolor": "#E5ECF6",
           "radialaxis": {
            "gridcolor": "white",
            "linecolor": "white",
            "ticks": ""
           }
          },
          "scene": {
           "xaxis": {
            "backgroundcolor": "#E5ECF6",
            "gridcolor": "white",
            "gridwidth": 2,
            "linecolor": "white",
            "showbackground": true,
            "ticks": "",
            "zerolinecolor": "white"
           },
           "yaxis": {
            "backgroundcolor": "#E5ECF6",
            "gridcolor": "white",
            "gridwidth": 2,
            "linecolor": "white",
            "showbackground": true,
            "ticks": "",
            "zerolinecolor": "white"
           },
           "zaxis": {
            "backgroundcolor": "#E5ECF6",
            "gridcolor": "white",
            "gridwidth": 2,
            "linecolor": "white",
            "showbackground": true,
            "ticks": "",
            "zerolinecolor": "white"
           }
          },
          "shapedefaults": {
           "line": {
            "color": "#2a3f5f"
           }
          },
          "ternary": {
           "aaxis": {
            "gridcolor": "white",
            "linecolor": "white",
            "ticks": ""
           },
           "baxis": {
            "gridcolor": "white",
            "linecolor": "white",
            "ticks": ""
           },
           "bgcolor": "#E5ECF6",
           "caxis": {
            "gridcolor": "white",
            "linecolor": "white",
            "ticks": ""
           }
          },
          "title": {
           "x": 0.05
          },
          "xaxis": {
           "automargin": true,
           "gridcolor": "white",
           "linecolor": "white",
           "ticks": "",
           "title": {
            "standoff": 15
           },
           "zerolinecolor": "white",
           "zerolinewidth": 2
          },
          "yaxis": {
           "automargin": true,
           "gridcolor": "white",
           "linecolor": "white",
           "ticks": "",
           "title": {
            "standoff": 15
           },
           "zerolinecolor": "white",
           "zerolinewidth": 2
          }
         }
        },
        "width": 950,
        "xaxis": {
         "anchor": "y",
         "domain": [
          0,
          0.45
         ]
        },
        "xaxis2": {
         "anchor": "y2",
         "domain": [
          0.55,
          1
         ]
        },
        "yaxis": {
         "anchor": "x",
         "domain": [
          0,
          1
         ]
        },
        "yaxis2": {
         "anchor": "x2",
         "domain": [
          0,
          1
         ]
        }
       }
      },
      "text/html": [
       "<div>                            <div id=\"acdcb464-f908-4bde-bd23-b97bcf4c2617\" class=\"plotly-graph-div\" style=\"height:400px; width:950px;\"></div>            <script type=\"text/javascript\">                require([\"plotly\"], function(Plotly) {                    window.PLOTLYENV=window.PLOTLYENV || {};                                    if (document.getElementById(\"acdcb464-f908-4bde-bd23-b97bcf4c2617\")) {                    Plotly.newPlot(                        \"acdcb464-f908-4bde-bd23-b97bcf4c2617\",                        [{\"name\": \"Sale in dollars\", \"type\": \"bar\", \"x\": [\"Polk\", \"Linn\", \"Scott\", \"Johnson\", \"Black Hawk\", \"Pottawattamie\", \"Woodbury\", \"Dubuque\", \"Story\", \"Cerro Gordo\"], \"xaxis\": \"x\", \"y\": [628487589.0860251, 241633388.2697487, 199373150.98983648, 165010325.1298756, 156143453.49604556, 98084428.23998785, 95401093.63998981, 83565179.25999634, 83438395.59999666, 57710709.03999562], \"yaxis\": \"y\"}, {\"name\": \"Volume in litres\", \"type\": \"bar\", \"x\": [\"Polk\", \"Linn\", \"Scott\", \"Johnson\", \"Black Hawk\", \"Pottawattamie\", \"Woodbury\", \"Dubuque\", \"Story\", \"Cerro Gordo\"], \"xaxis\": \"x\", \"y\": [38805353.04805607, 16413220.68899799, 12683241.180997541, 10272978.941997042, 10201535.35199601, 6440453.441998579, 6243855.532998018, 5749765.1949991435, 5742092.508999127, 4192114.194000099], \"yaxis\": \"y\"}, {\"name\": \"Sale in dollars\", \"type\": \"bar\", \"x\": [\"Canadian Whiskies\", \"American Vodkas\", \"Spiced Rum\", \"Straight Bourbon Whiskies\", \"Vodka 80 Proof\", \"Whiskey Liqueur\", \"Tennessee Whiskies\", \"Blended Whiskies\", \"Imported Vodka\", \"Imported Vodkas\"], \"xaxis\": \"x2\", \"y\": [335644348.78886545, 217965920.960787, 196924659.78971148, 166558709.77965656, 145771914.57028538, 134450272.20996115, 120645240.66607565, 79175742.2500325, 77926425.81157508, 71309343.3000252], \"yaxis\": \"y2\"}, {\"name\": \"Volume in litres\", \"type\": \"bar\", \"x\": [\"Canadian Whiskies\", \"American Vodkas\", \"Spiced Rum\", \"Straight Bourbon Whiskies\", \"Vodka 80 Proof\", \"Whiskey Liqueur\", \"Tennessee Whiskies\", \"Blended Whiskies\", \"Imported Vodka\", \"Imported Vodkas\"], \"xaxis\": \"x2\", \"y\": [24436188.680031296, 22220832.925013207, 12836338.124996936, 8291749.509997178, 17797445.02499475, 7661934.824993826, 4265061.0400000205, 7572867.347997641, 3751975.547000737, 3897122.925000419], \"yaxis\": \"y2\"}],                        {\"autosize\": false, \"height\": 400, \"template\": {\"data\": {\"bar\": [{\"error_x\": {\"color\": \"#2a3f5f\"}, \"error_y\": {\"color\": \"#2a3f5f\"}, \"marker\": {\"line\": {\"color\": \"#E5ECF6\", \"width\": 0.5}}, \"type\": \"bar\"}], \"barpolar\": [{\"marker\": {\"line\": {\"color\": \"#E5ECF6\", \"width\": 0.5}}, \"type\": \"barpolar\"}], \"carpet\": [{\"aaxis\": {\"endlinecolor\": \"#2a3f5f\", \"gridcolor\": \"white\", \"linecolor\": \"white\", \"minorgridcolor\": \"white\", \"startlinecolor\": \"#2a3f5f\"}, \"baxis\": {\"endlinecolor\": \"#2a3f5f\", \"gridcolor\": \"white\", \"linecolor\": \"white\", \"minorgridcolor\": \"white\", \"startlinecolor\": \"#2a3f5f\"}, \"type\": \"carpet\"}], \"choropleth\": [{\"colorbar\": {\"outlinewidth\": 0, \"ticks\": \"\"}, \"type\": \"choropleth\"}], \"contour\": [{\"colorbar\": {\"outlinewidth\": 0, \"ticks\": \"\"}, \"colorscale\": [[0.0, \"#0d0887\"], [0.1111111111111111, \"#46039f\"], [0.2222222222222222, \"#7201a8\"], [0.3333333333333333, \"#9c179e\"], [0.4444444444444444, \"#bd3786\"], [0.5555555555555556, \"#d8576b\"], [0.6666666666666666, \"#ed7953\"], [0.7777777777777778, \"#fb9f3a\"], [0.8888888888888888, \"#fdca26\"], [1.0, \"#f0f921\"]], \"type\": \"contour\"}], \"contourcarpet\": [{\"colorbar\": {\"outlinewidth\": 0, \"ticks\": \"\"}, \"type\": \"contourcarpet\"}], \"heatmap\": [{\"colorbar\": {\"outlinewidth\": 0, \"ticks\": \"\"}, \"colorscale\": [[0.0, \"#0d0887\"], [0.1111111111111111, \"#46039f\"], [0.2222222222222222, \"#7201a8\"], [0.3333333333333333, \"#9c179e\"], [0.4444444444444444, \"#bd3786\"], [0.5555555555555556, \"#d8576b\"], [0.6666666666666666, \"#ed7953\"], [0.7777777777777778, \"#fb9f3a\"], [0.8888888888888888, \"#fdca26\"], [1.0, \"#f0f921\"]], \"type\": \"heatmap\"}], \"heatmapgl\": [{\"colorbar\": {\"outlinewidth\": 0, \"ticks\": \"\"}, \"colorscale\": [[0.0, \"#0d0887\"], [0.1111111111111111, \"#46039f\"], [0.2222222222222222, \"#7201a8\"], [0.3333333333333333, \"#9c179e\"], [0.4444444444444444, \"#bd3786\"], [0.5555555555555556, \"#d8576b\"], [0.6666666666666666, \"#ed7953\"], [0.7777777777777778, \"#fb9f3a\"], [0.8888888888888888, \"#fdca26\"], [1.0, \"#f0f921\"]], \"type\": \"heatmapgl\"}], \"histogram\": [{\"marker\": {\"colorbar\": {\"outlinewidth\": 0, \"ticks\": \"\"}}, \"type\": \"histogram\"}], \"histogram2d\": [{\"colorbar\": {\"outlinewidth\": 0, \"ticks\": \"\"}, \"colorscale\": [[0.0, \"#0d0887\"], [0.1111111111111111, \"#46039f\"], [0.2222222222222222, \"#7201a8\"], [0.3333333333333333, \"#9c179e\"], [0.4444444444444444, \"#bd3786\"], [0.5555555555555556, \"#d8576b\"], [0.6666666666666666, \"#ed7953\"], [0.7777777777777778, \"#fb9f3a\"], [0.8888888888888888, \"#fdca26\"], [1.0, \"#f0f921\"]], \"type\": \"histogram2d\"}], \"histogram2dcontour\": [{\"colorbar\": {\"outlinewidth\": 0, \"ticks\": \"\"}, \"colorscale\": [[0.0, \"#0d0887\"], [0.1111111111111111, \"#46039f\"], [0.2222222222222222, \"#7201a8\"], [0.3333333333333333, \"#9c179e\"], [0.4444444444444444, \"#bd3786\"], [0.5555555555555556, \"#d8576b\"], [0.6666666666666666, \"#ed7953\"], [0.7777777777777778, \"#fb9f3a\"], [0.8888888888888888, \"#fdca26\"], [1.0, \"#f0f921\"]], \"type\": \"histogram2dcontour\"}], \"mesh3d\": [{\"colorbar\": {\"outlinewidth\": 0, \"ticks\": \"\"}, \"type\": \"mesh3d\"}], \"parcoords\": [{\"line\": {\"colorbar\": {\"outlinewidth\": 0, \"ticks\": \"\"}}, \"type\": \"parcoords\"}], \"pie\": [{\"automargin\": true, \"type\": \"pie\"}], \"scatter\": [{\"marker\": {\"colorbar\": {\"outlinewidth\": 0, \"ticks\": \"\"}}, \"type\": \"scatter\"}], \"scatter3d\": [{\"line\": {\"colorbar\": {\"outlinewidth\": 0, \"ticks\": \"\"}}, \"marker\": {\"colorbar\": {\"outlinewidth\": 0, \"ticks\": \"\"}}, \"type\": \"scatter3d\"}], \"scattercarpet\": [{\"marker\": {\"colorbar\": {\"outlinewidth\": 0, \"ticks\": \"\"}}, \"type\": \"scattercarpet\"}], \"scattergeo\": [{\"marker\": {\"colorbar\": {\"outlinewidth\": 0, \"ticks\": \"\"}}, \"type\": \"scattergeo\"}], \"scattergl\": [{\"marker\": {\"colorbar\": {\"outlinewidth\": 0, \"ticks\": \"\"}}, \"type\": \"scattergl\"}], \"scattermapbox\": [{\"marker\": {\"colorbar\": {\"outlinewidth\": 0, \"ticks\": \"\"}}, \"type\": \"scattermapbox\"}], \"scatterpolar\": [{\"marker\": {\"colorbar\": {\"outlinewidth\": 0, \"ticks\": \"\"}}, \"type\": \"scatterpolar\"}], \"scatterpolargl\": [{\"marker\": {\"colorbar\": {\"outlinewidth\": 0, \"ticks\": \"\"}}, \"type\": \"scatterpolargl\"}], \"scatterternary\": [{\"marker\": {\"colorbar\": {\"outlinewidth\": 0, \"ticks\": \"\"}}, \"type\": \"scatterternary\"}], \"surface\": [{\"colorbar\": {\"outlinewidth\": 0, \"ticks\": \"\"}, \"colorscale\": [[0.0, \"#0d0887\"], [0.1111111111111111, \"#46039f\"], [0.2222222222222222, \"#7201a8\"], [0.3333333333333333, \"#9c179e\"], [0.4444444444444444, \"#bd3786\"], [0.5555555555555556, \"#d8576b\"], [0.6666666666666666, \"#ed7953\"], [0.7777777777777778, \"#fb9f3a\"], [0.8888888888888888, \"#fdca26\"], [1.0, \"#f0f921\"]], \"type\": \"surface\"}], \"table\": [{\"cells\": {\"fill\": {\"color\": \"#EBF0F8\"}, \"line\": {\"color\": \"white\"}}, \"header\": {\"fill\": {\"color\": \"#C8D4E3\"}, \"line\": {\"color\": \"white\"}}, \"type\": \"table\"}]}, \"layout\": {\"annotationdefaults\": {\"arrowcolor\": \"#2a3f5f\", \"arrowhead\": 0, \"arrowwidth\": 1}, \"autotypenumbers\": \"strict\", \"coloraxis\": {\"colorbar\": {\"outlinewidth\": 0, \"ticks\": \"\"}}, \"colorscale\": {\"diverging\": [[0, \"#8e0152\"], [0.1, \"#c51b7d\"], [0.2, \"#de77ae\"], [0.3, \"#f1b6da\"], [0.4, \"#fde0ef\"], [0.5, \"#f7f7f7\"], [0.6, \"#e6f5d0\"], [0.7, \"#b8e186\"], [0.8, \"#7fbc41\"], [0.9, \"#4d9221\"], [1, \"#276419\"]], \"sequential\": [[0.0, \"#0d0887\"], [0.1111111111111111, \"#46039f\"], [0.2222222222222222, \"#7201a8\"], [0.3333333333333333, \"#9c179e\"], [0.4444444444444444, \"#bd3786\"], [0.5555555555555556, \"#d8576b\"], [0.6666666666666666, \"#ed7953\"], [0.7777777777777778, \"#fb9f3a\"], [0.8888888888888888, \"#fdca26\"], [1.0, \"#f0f921\"]], \"sequentialminus\": [[0.0, \"#0d0887\"], [0.1111111111111111, \"#46039f\"], [0.2222222222222222, \"#7201a8\"], [0.3333333333333333, \"#9c179e\"], [0.4444444444444444, \"#bd3786\"], [0.5555555555555556, \"#d8576b\"], [0.6666666666666666, \"#ed7953\"], [0.7777777777777778, \"#fb9f3a\"], [0.8888888888888888, \"#fdca26\"], [1.0, \"#f0f921\"]]}, \"colorway\": [\"#636efa\", \"#EF553B\", \"#00cc96\", \"#ab63fa\", \"#FFA15A\", \"#19d3f3\", \"#FF6692\", \"#B6E880\", \"#FF97FF\", \"#FECB52\"], \"font\": {\"color\": \"#2a3f5f\"}, \"geo\": {\"bgcolor\": \"white\", \"lakecolor\": \"white\", \"landcolor\": \"#E5ECF6\", \"showlakes\": true, \"showland\": true, \"subunitcolor\": \"white\"}, \"hoverlabel\": {\"align\": \"left\"}, \"hovermode\": \"closest\", \"mapbox\": {\"style\": \"light\"}, \"paper_bgcolor\": \"white\", \"plot_bgcolor\": \"#E5ECF6\", \"polar\": {\"angularaxis\": {\"gridcolor\": \"white\", \"linecolor\": \"white\", \"ticks\": \"\"}, \"bgcolor\": \"#E5ECF6\", \"radialaxis\": {\"gridcolor\": \"white\", \"linecolor\": \"white\", \"ticks\": \"\"}}, \"scene\": {\"xaxis\": {\"backgroundcolor\": \"#E5ECF6\", \"gridcolor\": \"white\", \"gridwidth\": 2, \"linecolor\": \"white\", \"showbackground\": true, \"ticks\": \"\", \"zerolinecolor\": \"white\"}, \"yaxis\": {\"backgroundcolor\": \"#E5ECF6\", \"gridcolor\": \"white\", \"gridwidth\": 2, \"linecolor\": \"white\", \"showbackground\": true, \"ticks\": \"\", \"zerolinecolor\": \"white\"}, \"zaxis\": {\"backgroundcolor\": \"#E5ECF6\", \"gridcolor\": \"white\", \"gridwidth\": 2, \"linecolor\": \"white\", \"showbackground\": true, \"ticks\": \"\", \"zerolinecolor\": \"white\"}}, \"shapedefaults\": {\"line\": {\"color\": \"#2a3f5f\"}}, \"ternary\": {\"aaxis\": {\"gridcolor\": \"white\", \"linecolor\": \"white\", \"ticks\": \"\"}, \"baxis\": {\"gridcolor\": \"white\", \"linecolor\": \"white\", \"ticks\": \"\"}, \"bgcolor\": \"#E5ECF6\", \"caxis\": {\"gridcolor\": \"white\", \"linecolor\": \"white\", \"ticks\": \"\"}}, \"title\": {\"x\": 0.05}, \"xaxis\": {\"automargin\": true, \"gridcolor\": \"white\", \"linecolor\": \"white\", \"ticks\": \"\", \"title\": {\"standoff\": 15}, \"zerolinecolor\": \"white\", \"zerolinewidth\": 2}, \"yaxis\": {\"automargin\": true, \"gridcolor\": \"white\", \"linecolor\": \"white\", \"ticks\": \"\", \"title\": {\"standoff\": 15}, \"zerolinecolor\": \"white\", \"zerolinewidth\": 2}}}, \"width\": 950, \"xaxis\": {\"anchor\": \"y\", \"domain\": [0.0, 0.45]}, \"xaxis2\": {\"anchor\": \"y2\", \"domain\": [0.55, 1.0]}, \"yaxis\": {\"anchor\": \"x\", \"domain\": [0.0, 1.0]}, \"yaxis2\": {\"anchor\": \"x2\", \"domain\": [0.0, 1.0]}},                        {\"responsive\": true}                    ).then(function(){\n",
       "                            \n",
       "var gd = document.getElementById('acdcb464-f908-4bde-bd23-b97bcf4c2617');\n",
       "var x = new MutationObserver(function (mutations, observer) {{\n",
       "        var display = window.getComputedStyle(gd).display;\n",
       "        if (!display || display === 'none') {{\n",
       "            console.log([gd, 'removed!']);\n",
       "            Plotly.purge(gd);\n",
       "            observer.disconnect();\n",
       "        }}\n",
       "}});\n",
       "\n",
       "// Listen for the removal of the full notebook cells\n",
       "var notebookContainer = gd.closest('#notebook-container');\n",
       "if (notebookContainer) {{\n",
       "    x.observe(notebookContainer, {childList: true});\n",
       "}}\n",
       "\n",
       "// Listen for the clearing of the current output cell\n",
       "var outputEl = gd.closest('.output');\n",
       "if (outputEl) {{\n",
       "    x.observe(outputEl, {childList: true});\n",
       "}}\n",
       "\n",
       "                        })                };                });            </script>        </div>"
      ]
     },
     "metadata": {},
     "output_type": "display_data"
    }
   ],
   "source": [
    "fig = make_subplots(rows=1, cols=2)\n",
    "fig = plot_bar(fig, df_aggregate, 'county', 1, 1)\n",
    "fig = plot_bar(fig, df_aggregate, 'category_name', 1, 2)\n",
    "fig.update_layout(autosize=False, width=950, height=400)\n",
    "fig.show()"
   ]
  },
  {
   "cell_type": "code",
   "execution_count": 236,
   "metadata": {},
   "outputs": [],
   "source": [
    "# Conclusions"
   ]
  },
  {
   "cell_type": "markdown",
   "metadata": {},
   "source": [
    "<ul><li><em>Vendor and Item</em></li></ul>"
   ]
  },
  {
   "cell_type": "code",
   "execution_count": 238,
   "metadata": {},
   "outputs": [
    {
     "data": {
      "application/vnd.plotly.v1+json": {
       "config": {
        "plotlyServerURL": "https://plot.ly"
       },
       "data": [
        {
         "name": "Sale in dollars",
         "type": "bar",
         "x": [
          "DIAGEO AMERICAS",
          "JIM BEAM BRANDS",
          "SAZERAC COMPANY  INC",
          "PERNOD RICARD USA",
          "SAZERAC NORTH AMERICA",
          "PROXIMO",
          "PERNOD RICARD USA/AUSTIN NICHOLS",
          "HEAVEN HILL BRANDS",
          "LUXCO-ST LOUIS",
          "BROWN-FORMAN CORPORATION"
         ],
         "xaxis": "x",
         "y": [
          591873174.2966383,
          213848397.88351429,
          132374140.68909127,
          106086364.55720666,
          94969761.38008057,
          93404450.08954717,
          92119352.22971767,
          89829393.65004821,
          87411457.1001452,
          80920461.61999635
         ],
         "yaxis": "y"
        },
        {
         "name": "Volume in litres",
         "type": "bar",
         "x": [
          "DIAGEO AMERICAS",
          "JIM BEAM BRANDS",
          "SAZERAC COMPANY  INC",
          "PERNOD RICARD USA",
          "SAZERAC NORTH AMERICA",
          "PROXIMO",
          "PERNOD RICARD USA/AUSTIN NICHOLS",
          "HEAVEN HILL BRANDS",
          "LUXCO-ST LOUIS",
          "BROWN-FORMAN CORPORATION"
         ],
         "xaxis": "x",
         "y": [
          29387936.705053825,
          14371380.079998668,
          9416876.809994271,
          4799519.814999447,
          13323411.255998088,
          6573160.549997791,
          4538137.828000629,
          7956902.199996922,
          11788906.025000008,
          3438186.885000261
         ],
         "yaxis": "y"
        },
        {
         "name": "Sale in dollars",
         "type": "bar",
         "x": [
          "Black Velvet",
          "Titos Handmade Vodka",
          "Captain Morgan Spiced Rum",
          "Jack Daniels Old #7 Black Lbl",
          "Fireball Cinnamon Whiskey",
          "Hawkeye Vodka",
          "Crown Royal",
          "Crown Royal Canadian Whisky",
          "Jameson",
          "Jagermeister Liqueur"
         ],
         "xaxis": "x2",
         "y": [
          111140532.5899138,
          76597547.08004849,
          73413602.89001223,
          67212027.8699821,
          60733653.98000039,
          50573874.81999228,
          47710744.379996695,
          45302553.25998601,
          39114737.40999844,
          36424646.5099853
         ],
         "yaxis": "y2"
        },
        {
         "name": "Volume in litres",
         "type": "bar",
         "x": [
          "Black Velvet",
          "Titos Handmade Vodka",
          "Captain Morgan Spiced Rum",
          "Jack Daniels Old #7 Black Lbl",
          "Fireball Cinnamon Whiskey",
          "Hawkeye Vodka",
          "Crown Royal",
          "Crown Royal Canadian Whisky",
          "Jameson",
          "Jagermeister Liqueur"
         ],
         "xaxis": "x2",
         "y": [
          11952039.174995812,
          4264657.199999909,
          4356623,
          2467164.6000002087,
          3777125.000000374,
          7983632.674999603,
          1594641.8750000396,
          1626438.474999996,
          1350358.5750000046,
          1517846.350000003
         ],
         "yaxis": "y2"
        }
       ],
       "layout": {
        "autosize": false,
        "height": 400,
        "template": {
         "data": {
          "bar": [
           {
            "error_x": {
             "color": "#2a3f5f"
            },
            "error_y": {
             "color": "#2a3f5f"
            },
            "marker": {
             "line": {
              "color": "#E5ECF6",
              "width": 0.5
             }
            },
            "type": "bar"
           }
          ],
          "barpolar": [
           {
            "marker": {
             "line": {
              "color": "#E5ECF6",
              "width": 0.5
             }
            },
            "type": "barpolar"
           }
          ],
          "carpet": [
           {
            "aaxis": {
             "endlinecolor": "#2a3f5f",
             "gridcolor": "white",
             "linecolor": "white",
             "minorgridcolor": "white",
             "startlinecolor": "#2a3f5f"
            },
            "baxis": {
             "endlinecolor": "#2a3f5f",
             "gridcolor": "white",
             "linecolor": "white",
             "minorgridcolor": "white",
             "startlinecolor": "#2a3f5f"
            },
            "type": "carpet"
           }
          ],
          "choropleth": [
           {
            "colorbar": {
             "outlinewidth": 0,
             "ticks": ""
            },
            "type": "choropleth"
           }
          ],
          "contour": [
           {
            "colorbar": {
             "outlinewidth": 0,
             "ticks": ""
            },
            "colorscale": [
             [
              0,
              "#0d0887"
             ],
             [
              0.1111111111111111,
              "#46039f"
             ],
             [
              0.2222222222222222,
              "#7201a8"
             ],
             [
              0.3333333333333333,
              "#9c179e"
             ],
             [
              0.4444444444444444,
              "#bd3786"
             ],
             [
              0.5555555555555556,
              "#d8576b"
             ],
             [
              0.6666666666666666,
              "#ed7953"
             ],
             [
              0.7777777777777778,
              "#fb9f3a"
             ],
             [
              0.8888888888888888,
              "#fdca26"
             ],
             [
              1,
              "#f0f921"
             ]
            ],
            "type": "contour"
           }
          ],
          "contourcarpet": [
           {
            "colorbar": {
             "outlinewidth": 0,
             "ticks": ""
            },
            "type": "contourcarpet"
           }
          ],
          "heatmap": [
           {
            "colorbar": {
             "outlinewidth": 0,
             "ticks": ""
            },
            "colorscale": [
             [
              0,
              "#0d0887"
             ],
             [
              0.1111111111111111,
              "#46039f"
             ],
             [
              0.2222222222222222,
              "#7201a8"
             ],
             [
              0.3333333333333333,
              "#9c179e"
             ],
             [
              0.4444444444444444,
              "#bd3786"
             ],
             [
              0.5555555555555556,
              "#d8576b"
             ],
             [
              0.6666666666666666,
              "#ed7953"
             ],
             [
              0.7777777777777778,
              "#fb9f3a"
             ],
             [
              0.8888888888888888,
              "#fdca26"
             ],
             [
              1,
              "#f0f921"
             ]
            ],
            "type": "heatmap"
           }
          ],
          "heatmapgl": [
           {
            "colorbar": {
             "outlinewidth": 0,
             "ticks": ""
            },
            "colorscale": [
             [
              0,
              "#0d0887"
             ],
             [
              0.1111111111111111,
              "#46039f"
             ],
             [
              0.2222222222222222,
              "#7201a8"
             ],
             [
              0.3333333333333333,
              "#9c179e"
             ],
             [
              0.4444444444444444,
              "#bd3786"
             ],
             [
              0.5555555555555556,
              "#d8576b"
             ],
             [
              0.6666666666666666,
              "#ed7953"
             ],
             [
              0.7777777777777778,
              "#fb9f3a"
             ],
             [
              0.8888888888888888,
              "#fdca26"
             ],
             [
              1,
              "#f0f921"
             ]
            ],
            "type": "heatmapgl"
           }
          ],
          "histogram": [
           {
            "marker": {
             "colorbar": {
              "outlinewidth": 0,
              "ticks": ""
             }
            },
            "type": "histogram"
           }
          ],
          "histogram2d": [
           {
            "colorbar": {
             "outlinewidth": 0,
             "ticks": ""
            },
            "colorscale": [
             [
              0,
              "#0d0887"
             ],
             [
              0.1111111111111111,
              "#46039f"
             ],
             [
              0.2222222222222222,
              "#7201a8"
             ],
             [
              0.3333333333333333,
              "#9c179e"
             ],
             [
              0.4444444444444444,
              "#bd3786"
             ],
             [
              0.5555555555555556,
              "#d8576b"
             ],
             [
              0.6666666666666666,
              "#ed7953"
             ],
             [
              0.7777777777777778,
              "#fb9f3a"
             ],
             [
              0.8888888888888888,
              "#fdca26"
             ],
             [
              1,
              "#f0f921"
             ]
            ],
            "type": "histogram2d"
           }
          ],
          "histogram2dcontour": [
           {
            "colorbar": {
             "outlinewidth": 0,
             "ticks": ""
            },
            "colorscale": [
             [
              0,
              "#0d0887"
             ],
             [
              0.1111111111111111,
              "#46039f"
             ],
             [
              0.2222222222222222,
              "#7201a8"
             ],
             [
              0.3333333333333333,
              "#9c179e"
             ],
             [
              0.4444444444444444,
              "#bd3786"
             ],
             [
              0.5555555555555556,
              "#d8576b"
             ],
             [
              0.6666666666666666,
              "#ed7953"
             ],
             [
              0.7777777777777778,
              "#fb9f3a"
             ],
             [
              0.8888888888888888,
              "#fdca26"
             ],
             [
              1,
              "#f0f921"
             ]
            ],
            "type": "histogram2dcontour"
           }
          ],
          "mesh3d": [
           {
            "colorbar": {
             "outlinewidth": 0,
             "ticks": ""
            },
            "type": "mesh3d"
           }
          ],
          "parcoords": [
           {
            "line": {
             "colorbar": {
              "outlinewidth": 0,
              "ticks": ""
             }
            },
            "type": "parcoords"
           }
          ],
          "pie": [
           {
            "automargin": true,
            "type": "pie"
           }
          ],
          "scatter": [
           {
            "marker": {
             "colorbar": {
              "outlinewidth": 0,
              "ticks": ""
             }
            },
            "type": "scatter"
           }
          ],
          "scatter3d": [
           {
            "line": {
             "colorbar": {
              "outlinewidth": 0,
              "ticks": ""
             }
            },
            "marker": {
             "colorbar": {
              "outlinewidth": 0,
              "ticks": ""
             }
            },
            "type": "scatter3d"
           }
          ],
          "scattercarpet": [
           {
            "marker": {
             "colorbar": {
              "outlinewidth": 0,
              "ticks": ""
             }
            },
            "type": "scattercarpet"
           }
          ],
          "scattergeo": [
           {
            "marker": {
             "colorbar": {
              "outlinewidth": 0,
              "ticks": ""
             }
            },
            "type": "scattergeo"
           }
          ],
          "scattergl": [
           {
            "marker": {
             "colorbar": {
              "outlinewidth": 0,
              "ticks": ""
             }
            },
            "type": "scattergl"
           }
          ],
          "scattermapbox": [
           {
            "marker": {
             "colorbar": {
              "outlinewidth": 0,
              "ticks": ""
             }
            },
            "type": "scattermapbox"
           }
          ],
          "scatterpolar": [
           {
            "marker": {
             "colorbar": {
              "outlinewidth": 0,
              "ticks": ""
             }
            },
            "type": "scatterpolar"
           }
          ],
          "scatterpolargl": [
           {
            "marker": {
             "colorbar": {
              "outlinewidth": 0,
              "ticks": ""
             }
            },
            "type": "scatterpolargl"
           }
          ],
          "scatterternary": [
           {
            "marker": {
             "colorbar": {
              "outlinewidth": 0,
              "ticks": ""
             }
            },
            "type": "scatterternary"
           }
          ],
          "surface": [
           {
            "colorbar": {
             "outlinewidth": 0,
             "ticks": ""
            },
            "colorscale": [
             [
              0,
              "#0d0887"
             ],
             [
              0.1111111111111111,
              "#46039f"
             ],
             [
              0.2222222222222222,
              "#7201a8"
             ],
             [
              0.3333333333333333,
              "#9c179e"
             ],
             [
              0.4444444444444444,
              "#bd3786"
             ],
             [
              0.5555555555555556,
              "#d8576b"
             ],
             [
              0.6666666666666666,
              "#ed7953"
             ],
             [
              0.7777777777777778,
              "#fb9f3a"
             ],
             [
              0.8888888888888888,
              "#fdca26"
             ],
             [
              1,
              "#f0f921"
             ]
            ],
            "type": "surface"
           }
          ],
          "table": [
           {
            "cells": {
             "fill": {
              "color": "#EBF0F8"
             },
             "line": {
              "color": "white"
             }
            },
            "header": {
             "fill": {
              "color": "#C8D4E3"
             },
             "line": {
              "color": "white"
             }
            },
            "type": "table"
           }
          ]
         },
         "layout": {
          "annotationdefaults": {
           "arrowcolor": "#2a3f5f",
           "arrowhead": 0,
           "arrowwidth": 1
          },
          "autotypenumbers": "strict",
          "coloraxis": {
           "colorbar": {
            "outlinewidth": 0,
            "ticks": ""
           }
          },
          "colorscale": {
           "diverging": [
            [
             0,
             "#8e0152"
            ],
            [
             0.1,
             "#c51b7d"
            ],
            [
             0.2,
             "#de77ae"
            ],
            [
             0.3,
             "#f1b6da"
            ],
            [
             0.4,
             "#fde0ef"
            ],
            [
             0.5,
             "#f7f7f7"
            ],
            [
             0.6,
             "#e6f5d0"
            ],
            [
             0.7,
             "#b8e186"
            ],
            [
             0.8,
             "#7fbc41"
            ],
            [
             0.9,
             "#4d9221"
            ],
            [
             1,
             "#276419"
            ]
           ],
           "sequential": [
            [
             0,
             "#0d0887"
            ],
            [
             0.1111111111111111,
             "#46039f"
            ],
            [
             0.2222222222222222,
             "#7201a8"
            ],
            [
             0.3333333333333333,
             "#9c179e"
            ],
            [
             0.4444444444444444,
             "#bd3786"
            ],
            [
             0.5555555555555556,
             "#d8576b"
            ],
            [
             0.6666666666666666,
             "#ed7953"
            ],
            [
             0.7777777777777778,
             "#fb9f3a"
            ],
            [
             0.8888888888888888,
             "#fdca26"
            ],
            [
             1,
             "#f0f921"
            ]
           ],
           "sequentialminus": [
            [
             0,
             "#0d0887"
            ],
            [
             0.1111111111111111,
             "#46039f"
            ],
            [
             0.2222222222222222,
             "#7201a8"
            ],
            [
             0.3333333333333333,
             "#9c179e"
            ],
            [
             0.4444444444444444,
             "#bd3786"
            ],
            [
             0.5555555555555556,
             "#d8576b"
            ],
            [
             0.6666666666666666,
             "#ed7953"
            ],
            [
             0.7777777777777778,
             "#fb9f3a"
            ],
            [
             0.8888888888888888,
             "#fdca26"
            ],
            [
             1,
             "#f0f921"
            ]
           ]
          },
          "colorway": [
           "#636efa",
           "#EF553B",
           "#00cc96",
           "#ab63fa",
           "#FFA15A",
           "#19d3f3",
           "#FF6692",
           "#B6E880",
           "#FF97FF",
           "#FECB52"
          ],
          "font": {
           "color": "#2a3f5f"
          },
          "geo": {
           "bgcolor": "white",
           "lakecolor": "white",
           "landcolor": "#E5ECF6",
           "showlakes": true,
           "showland": true,
           "subunitcolor": "white"
          },
          "hoverlabel": {
           "align": "left"
          },
          "hovermode": "closest",
          "mapbox": {
           "style": "light"
          },
          "paper_bgcolor": "white",
          "plot_bgcolor": "#E5ECF6",
          "polar": {
           "angularaxis": {
            "gridcolor": "white",
            "linecolor": "white",
            "ticks": ""
           },
           "bgcolor": "#E5ECF6",
           "radialaxis": {
            "gridcolor": "white",
            "linecolor": "white",
            "ticks": ""
           }
          },
          "scene": {
           "xaxis": {
            "backgroundcolor": "#E5ECF6",
            "gridcolor": "white",
            "gridwidth": 2,
            "linecolor": "white",
            "showbackground": true,
            "ticks": "",
            "zerolinecolor": "white"
           },
           "yaxis": {
            "backgroundcolor": "#E5ECF6",
            "gridcolor": "white",
            "gridwidth": 2,
            "linecolor": "white",
            "showbackground": true,
            "ticks": "",
            "zerolinecolor": "white"
           },
           "zaxis": {
            "backgroundcolor": "#E5ECF6",
            "gridcolor": "white",
            "gridwidth": 2,
            "linecolor": "white",
            "showbackground": true,
            "ticks": "",
            "zerolinecolor": "white"
           }
          },
          "shapedefaults": {
           "line": {
            "color": "#2a3f5f"
           }
          },
          "ternary": {
           "aaxis": {
            "gridcolor": "white",
            "linecolor": "white",
            "ticks": ""
           },
           "baxis": {
            "gridcolor": "white",
            "linecolor": "white",
            "ticks": ""
           },
           "bgcolor": "#E5ECF6",
           "caxis": {
            "gridcolor": "white",
            "linecolor": "white",
            "ticks": ""
           }
          },
          "title": {
           "x": 0.05
          },
          "xaxis": {
           "automargin": true,
           "gridcolor": "white",
           "linecolor": "white",
           "ticks": "",
           "title": {
            "standoff": 15
           },
           "zerolinecolor": "white",
           "zerolinewidth": 2
          },
          "yaxis": {
           "automargin": true,
           "gridcolor": "white",
           "linecolor": "white",
           "ticks": "",
           "title": {
            "standoff": 15
           },
           "zerolinecolor": "white",
           "zerolinewidth": 2
          }
         }
        },
        "width": 950,
        "xaxis": {
         "anchor": "y",
         "domain": [
          0,
          0.45
         ]
        },
        "xaxis2": {
         "anchor": "y2",
         "domain": [
          0.55,
          1
         ]
        },
        "yaxis": {
         "anchor": "x",
         "domain": [
          0,
          1
         ]
        },
        "yaxis2": {
         "anchor": "x2",
         "domain": [
          0,
          1
         ]
        }
       }
      },
      "text/html": [
       "<div>                            <div id=\"8c52697e-4aff-427c-b21c-1822542812c5\" class=\"plotly-graph-div\" style=\"height:400px; width:950px;\"></div>            <script type=\"text/javascript\">                require([\"plotly\"], function(Plotly) {                    window.PLOTLYENV=window.PLOTLYENV || {};                                    if (document.getElementById(\"8c52697e-4aff-427c-b21c-1822542812c5\")) {                    Plotly.newPlot(                        \"8c52697e-4aff-427c-b21c-1822542812c5\",                        [{\"name\": \"Sale in dollars\", \"type\": \"bar\", \"x\": [\"DIAGEO AMERICAS\", \"JIM BEAM BRANDS\", \"SAZERAC COMPANY  INC\", \"PERNOD RICARD USA\", \"SAZERAC NORTH AMERICA\", \"PROXIMO\", \"PERNOD RICARD USA/AUSTIN NICHOLS\", \"HEAVEN HILL BRANDS\", \"LUXCO-ST LOUIS\", \"BROWN-FORMAN CORPORATION\"], \"xaxis\": \"x\", \"y\": [591873174.2966383, 213848397.88351429, 132374140.68909127, 106086364.55720666, 94969761.38008057, 93404450.08954717, 92119352.22971767, 89829393.65004821, 87411457.1001452, 80920461.61999635], \"yaxis\": \"y\"}, {\"name\": \"Volume in litres\", \"type\": \"bar\", \"x\": [\"DIAGEO AMERICAS\", \"JIM BEAM BRANDS\", \"SAZERAC COMPANY  INC\", \"PERNOD RICARD USA\", \"SAZERAC NORTH AMERICA\", \"PROXIMO\", \"PERNOD RICARD USA/AUSTIN NICHOLS\", \"HEAVEN HILL BRANDS\", \"LUXCO-ST LOUIS\", \"BROWN-FORMAN CORPORATION\"], \"xaxis\": \"x\", \"y\": [29387936.705053825, 14371380.079998668, 9416876.809994271, 4799519.814999447, 13323411.255998088, 6573160.549997791, 4538137.828000629, 7956902.199996922, 11788906.025000008, 3438186.885000261], \"yaxis\": \"y\"}, {\"name\": \"Sale in dollars\", \"type\": \"bar\", \"x\": [\"Black Velvet\", \"Titos Handmade Vodka\", \"Captain Morgan Spiced Rum\", \"Jack Daniels Old #7 Black Lbl\", \"Fireball Cinnamon Whiskey\", \"Hawkeye Vodka\", \"Crown Royal\", \"Crown Royal Canadian Whisky\", \"Jameson\", \"Jagermeister Liqueur\"], \"xaxis\": \"x2\", \"y\": [111140532.5899138, 76597547.08004849, 73413602.89001223, 67212027.8699821, 60733653.98000039, 50573874.81999228, 47710744.379996695, 45302553.25998601, 39114737.40999844, 36424646.5099853], \"yaxis\": \"y2\"}, {\"name\": \"Volume in litres\", \"type\": \"bar\", \"x\": [\"Black Velvet\", \"Titos Handmade Vodka\", \"Captain Morgan Spiced Rum\", \"Jack Daniels Old #7 Black Lbl\", \"Fireball Cinnamon Whiskey\", \"Hawkeye Vodka\", \"Crown Royal\", \"Crown Royal Canadian Whisky\", \"Jameson\", \"Jagermeister Liqueur\"], \"xaxis\": \"x2\", \"y\": [11952039.174995812, 4264657.199999909, 4356623.0, 2467164.6000002087, 3777125.000000374, 7983632.674999603, 1594641.8750000396, 1626438.474999996, 1350358.5750000046, 1517846.350000003], \"yaxis\": \"y2\"}],                        {\"autosize\": false, \"height\": 400, \"template\": {\"data\": {\"bar\": [{\"error_x\": {\"color\": \"#2a3f5f\"}, \"error_y\": {\"color\": \"#2a3f5f\"}, \"marker\": {\"line\": {\"color\": \"#E5ECF6\", \"width\": 0.5}}, \"type\": \"bar\"}], \"barpolar\": [{\"marker\": {\"line\": {\"color\": \"#E5ECF6\", \"width\": 0.5}}, \"type\": \"barpolar\"}], \"carpet\": [{\"aaxis\": {\"endlinecolor\": \"#2a3f5f\", \"gridcolor\": \"white\", \"linecolor\": \"white\", \"minorgridcolor\": \"white\", \"startlinecolor\": \"#2a3f5f\"}, \"baxis\": {\"endlinecolor\": \"#2a3f5f\", \"gridcolor\": \"white\", \"linecolor\": \"white\", \"minorgridcolor\": \"white\", \"startlinecolor\": \"#2a3f5f\"}, \"type\": \"carpet\"}], \"choropleth\": [{\"colorbar\": {\"outlinewidth\": 0, \"ticks\": \"\"}, \"type\": \"choropleth\"}], \"contour\": [{\"colorbar\": {\"outlinewidth\": 0, \"ticks\": \"\"}, \"colorscale\": [[0.0, \"#0d0887\"], [0.1111111111111111, \"#46039f\"], [0.2222222222222222, \"#7201a8\"], [0.3333333333333333, \"#9c179e\"], [0.4444444444444444, \"#bd3786\"], [0.5555555555555556, \"#d8576b\"], [0.6666666666666666, \"#ed7953\"], [0.7777777777777778, \"#fb9f3a\"], [0.8888888888888888, \"#fdca26\"], [1.0, \"#f0f921\"]], \"type\": \"contour\"}], \"contourcarpet\": [{\"colorbar\": {\"outlinewidth\": 0, \"ticks\": \"\"}, \"type\": \"contourcarpet\"}], \"heatmap\": [{\"colorbar\": {\"outlinewidth\": 0, \"ticks\": \"\"}, \"colorscale\": [[0.0, \"#0d0887\"], [0.1111111111111111, \"#46039f\"], [0.2222222222222222, \"#7201a8\"], [0.3333333333333333, \"#9c179e\"], [0.4444444444444444, \"#bd3786\"], [0.5555555555555556, \"#d8576b\"], [0.6666666666666666, \"#ed7953\"], [0.7777777777777778, \"#fb9f3a\"], [0.8888888888888888, \"#fdca26\"], [1.0, \"#f0f921\"]], \"type\": \"heatmap\"}], \"heatmapgl\": [{\"colorbar\": {\"outlinewidth\": 0, \"ticks\": \"\"}, \"colorscale\": [[0.0, \"#0d0887\"], [0.1111111111111111, \"#46039f\"], [0.2222222222222222, \"#7201a8\"], [0.3333333333333333, \"#9c179e\"], [0.4444444444444444, \"#bd3786\"], [0.5555555555555556, \"#d8576b\"], [0.6666666666666666, \"#ed7953\"], [0.7777777777777778, \"#fb9f3a\"], [0.8888888888888888, \"#fdca26\"], [1.0, \"#f0f921\"]], \"type\": \"heatmapgl\"}], \"histogram\": [{\"marker\": {\"colorbar\": {\"outlinewidth\": 0, \"ticks\": \"\"}}, \"type\": \"histogram\"}], \"histogram2d\": [{\"colorbar\": {\"outlinewidth\": 0, \"ticks\": \"\"}, \"colorscale\": [[0.0, \"#0d0887\"], [0.1111111111111111, \"#46039f\"], [0.2222222222222222, \"#7201a8\"], [0.3333333333333333, \"#9c179e\"], [0.4444444444444444, \"#bd3786\"], [0.5555555555555556, \"#d8576b\"], [0.6666666666666666, \"#ed7953\"], [0.7777777777777778, \"#fb9f3a\"], [0.8888888888888888, \"#fdca26\"], [1.0, \"#f0f921\"]], \"type\": \"histogram2d\"}], \"histogram2dcontour\": [{\"colorbar\": {\"outlinewidth\": 0, \"ticks\": \"\"}, \"colorscale\": [[0.0, \"#0d0887\"], [0.1111111111111111, \"#46039f\"], [0.2222222222222222, \"#7201a8\"], [0.3333333333333333, \"#9c179e\"], [0.4444444444444444, \"#bd3786\"], [0.5555555555555556, \"#d8576b\"], [0.6666666666666666, \"#ed7953\"], [0.7777777777777778, \"#fb9f3a\"], [0.8888888888888888, \"#fdca26\"], [1.0, \"#f0f921\"]], \"type\": \"histogram2dcontour\"}], \"mesh3d\": [{\"colorbar\": {\"outlinewidth\": 0, \"ticks\": \"\"}, \"type\": \"mesh3d\"}], \"parcoords\": [{\"line\": {\"colorbar\": {\"outlinewidth\": 0, \"ticks\": \"\"}}, \"type\": \"parcoords\"}], \"pie\": [{\"automargin\": true, \"type\": \"pie\"}], \"scatter\": [{\"marker\": {\"colorbar\": {\"outlinewidth\": 0, \"ticks\": \"\"}}, \"type\": \"scatter\"}], \"scatter3d\": [{\"line\": {\"colorbar\": {\"outlinewidth\": 0, \"ticks\": \"\"}}, \"marker\": {\"colorbar\": {\"outlinewidth\": 0, \"ticks\": \"\"}}, \"type\": \"scatter3d\"}], \"scattercarpet\": [{\"marker\": {\"colorbar\": {\"outlinewidth\": 0, \"ticks\": \"\"}}, \"type\": \"scattercarpet\"}], \"scattergeo\": [{\"marker\": {\"colorbar\": {\"outlinewidth\": 0, \"ticks\": \"\"}}, \"type\": \"scattergeo\"}], \"scattergl\": [{\"marker\": {\"colorbar\": {\"outlinewidth\": 0, \"ticks\": \"\"}}, \"type\": \"scattergl\"}], \"scattermapbox\": [{\"marker\": {\"colorbar\": {\"outlinewidth\": 0, \"ticks\": \"\"}}, \"type\": \"scattermapbox\"}], \"scatterpolar\": [{\"marker\": {\"colorbar\": {\"outlinewidth\": 0, \"ticks\": \"\"}}, \"type\": \"scatterpolar\"}], \"scatterpolargl\": [{\"marker\": {\"colorbar\": {\"outlinewidth\": 0, \"ticks\": \"\"}}, \"type\": \"scatterpolargl\"}], \"scatterternary\": [{\"marker\": {\"colorbar\": {\"outlinewidth\": 0, \"ticks\": \"\"}}, \"type\": \"scatterternary\"}], \"surface\": [{\"colorbar\": {\"outlinewidth\": 0, \"ticks\": \"\"}, \"colorscale\": [[0.0, \"#0d0887\"], [0.1111111111111111, \"#46039f\"], [0.2222222222222222, \"#7201a8\"], [0.3333333333333333, \"#9c179e\"], [0.4444444444444444, \"#bd3786\"], [0.5555555555555556, \"#d8576b\"], [0.6666666666666666, \"#ed7953\"], [0.7777777777777778, \"#fb9f3a\"], [0.8888888888888888, \"#fdca26\"], [1.0, \"#f0f921\"]], \"type\": \"surface\"}], \"table\": [{\"cells\": {\"fill\": {\"color\": \"#EBF0F8\"}, \"line\": {\"color\": \"white\"}}, \"header\": {\"fill\": {\"color\": \"#C8D4E3\"}, \"line\": {\"color\": \"white\"}}, \"type\": \"table\"}]}, \"layout\": {\"annotationdefaults\": {\"arrowcolor\": \"#2a3f5f\", \"arrowhead\": 0, \"arrowwidth\": 1}, \"autotypenumbers\": \"strict\", \"coloraxis\": {\"colorbar\": {\"outlinewidth\": 0, \"ticks\": \"\"}}, \"colorscale\": {\"diverging\": [[0, \"#8e0152\"], [0.1, \"#c51b7d\"], [0.2, \"#de77ae\"], [0.3, \"#f1b6da\"], [0.4, \"#fde0ef\"], [0.5, \"#f7f7f7\"], [0.6, \"#e6f5d0\"], [0.7, \"#b8e186\"], [0.8, \"#7fbc41\"], [0.9, \"#4d9221\"], [1, \"#276419\"]], \"sequential\": [[0.0, \"#0d0887\"], [0.1111111111111111, \"#46039f\"], [0.2222222222222222, \"#7201a8\"], [0.3333333333333333, \"#9c179e\"], [0.4444444444444444, \"#bd3786\"], [0.5555555555555556, \"#d8576b\"], [0.6666666666666666, \"#ed7953\"], [0.7777777777777778, \"#fb9f3a\"], [0.8888888888888888, \"#fdca26\"], [1.0, \"#f0f921\"]], \"sequentialminus\": [[0.0, \"#0d0887\"], [0.1111111111111111, \"#46039f\"], [0.2222222222222222, \"#7201a8\"], [0.3333333333333333, \"#9c179e\"], [0.4444444444444444, \"#bd3786\"], [0.5555555555555556, \"#d8576b\"], [0.6666666666666666, \"#ed7953\"], [0.7777777777777778, \"#fb9f3a\"], [0.8888888888888888, \"#fdca26\"], [1.0, \"#f0f921\"]]}, \"colorway\": [\"#636efa\", \"#EF553B\", \"#00cc96\", \"#ab63fa\", \"#FFA15A\", \"#19d3f3\", \"#FF6692\", \"#B6E880\", \"#FF97FF\", \"#FECB52\"], \"font\": {\"color\": \"#2a3f5f\"}, \"geo\": {\"bgcolor\": \"white\", \"lakecolor\": \"white\", \"landcolor\": \"#E5ECF6\", \"showlakes\": true, \"showland\": true, \"subunitcolor\": \"white\"}, \"hoverlabel\": {\"align\": \"left\"}, \"hovermode\": \"closest\", \"mapbox\": {\"style\": \"light\"}, \"paper_bgcolor\": \"white\", \"plot_bgcolor\": \"#E5ECF6\", \"polar\": {\"angularaxis\": {\"gridcolor\": \"white\", \"linecolor\": \"white\", \"ticks\": \"\"}, \"bgcolor\": \"#E5ECF6\", \"radialaxis\": {\"gridcolor\": \"white\", \"linecolor\": \"white\", \"ticks\": \"\"}}, \"scene\": {\"xaxis\": {\"backgroundcolor\": \"#E5ECF6\", \"gridcolor\": \"white\", \"gridwidth\": 2, \"linecolor\": \"white\", \"showbackground\": true, \"ticks\": \"\", \"zerolinecolor\": \"white\"}, \"yaxis\": {\"backgroundcolor\": \"#E5ECF6\", \"gridcolor\": \"white\", \"gridwidth\": 2, \"linecolor\": \"white\", \"showbackground\": true, \"ticks\": \"\", \"zerolinecolor\": \"white\"}, \"zaxis\": {\"backgroundcolor\": \"#E5ECF6\", \"gridcolor\": \"white\", \"gridwidth\": 2, \"linecolor\": \"white\", \"showbackground\": true, \"ticks\": \"\", \"zerolinecolor\": \"white\"}}, \"shapedefaults\": {\"line\": {\"color\": \"#2a3f5f\"}}, \"ternary\": {\"aaxis\": {\"gridcolor\": \"white\", \"linecolor\": \"white\", \"ticks\": \"\"}, \"baxis\": {\"gridcolor\": \"white\", \"linecolor\": \"white\", \"ticks\": \"\"}, \"bgcolor\": \"#E5ECF6\", \"caxis\": {\"gridcolor\": \"white\", \"linecolor\": \"white\", \"ticks\": \"\"}}, \"title\": {\"x\": 0.05}, \"xaxis\": {\"automargin\": true, \"gridcolor\": \"white\", \"linecolor\": \"white\", \"ticks\": \"\", \"title\": {\"standoff\": 15}, \"zerolinecolor\": \"white\", \"zerolinewidth\": 2}, \"yaxis\": {\"automargin\": true, \"gridcolor\": \"white\", \"linecolor\": \"white\", \"ticks\": \"\", \"title\": {\"standoff\": 15}, \"zerolinecolor\": \"white\", \"zerolinewidth\": 2}}}, \"width\": 950, \"xaxis\": {\"anchor\": \"y\", \"domain\": [0.0, 0.45]}, \"xaxis2\": {\"anchor\": \"y2\", \"domain\": [0.55, 1.0]}, \"yaxis\": {\"anchor\": \"x\", \"domain\": [0.0, 1.0]}, \"yaxis2\": {\"anchor\": \"x2\", \"domain\": [0.0, 1.0]}},                        {\"responsive\": true}                    ).then(function(){\n",
       "                            \n",
       "var gd = document.getElementById('8c52697e-4aff-427c-b21c-1822542812c5');\n",
       "var x = new MutationObserver(function (mutations, observer) {{\n",
       "        var display = window.getComputedStyle(gd).display;\n",
       "        if (!display || display === 'none') {{\n",
       "            console.log([gd, 'removed!']);\n",
       "            Plotly.purge(gd);\n",
       "            observer.disconnect();\n",
       "        }}\n",
       "}});\n",
       "\n",
       "// Listen for the removal of the full notebook cells\n",
       "var notebookContainer = gd.closest('#notebook-container');\n",
       "if (notebookContainer) {{\n",
       "    x.observe(notebookContainer, {childList: true});\n",
       "}}\n",
       "\n",
       "// Listen for the clearing of the current output cell\n",
       "var outputEl = gd.closest('.output');\n",
       "if (outputEl) {{\n",
       "    x.observe(outputEl, {childList: true});\n",
       "}}\n",
       "\n",
       "                        })                };                });            </script>        </div>"
      ]
     },
     "metadata": {},
     "output_type": "display_data"
    }
   ],
   "source": [
    "fig = make_subplots(rows=1, cols=2)\n",
    "fig = plot_bar(fig, df_aggregate, 'vendor_name', 1, 1)\n",
    "fig = plot_bar(fig, df_aggregate, 'item_description', 1, 2)\n",
    "fig.update_layout(autosize=False, width=950, height=400)\n",
    "fig.show()"
   ]
  },
  {
   "cell_type": "code",
   "execution_count": 237,
   "metadata": {},
   "outputs": [],
   "source": [
    "# Conclusions"
   ]
  },
  {
   "cell_type": "markdown",
   "metadata": {},
   "source": [
    "<h3><em>b)Describe the typical bottle that was sold</em></h3>"
   ]
  },
  {
   "cell_type": "code",
   "execution_count": 264,
   "metadata": {},
   "outputs": [],
   "source": [
    "df_analysis['store'] = df_analysis['store_number'] + '|' + df_analysis['store_name']\n",
    "df_analysis['bottle_volume_l'] = df_analysis['bottle_volume_ml'] / 1000\n",
    "\n",
    "def plot_bar(fig, df_analysis, column, i, j):\n",
    "    '''Plot Bar'''\n",
    "    \n",
    "    df_plot = df_analysis.groupby(column).agg({'state_bottle_cost': 'mean', 'bottle_volume_l': 'mean', 'date': 'count'}).\\\n",
    "                                        rename(columns={'state_bottle_cost': 'avg_state_bottle_cost',\n",
    "                                                        'bottle_volume_l': 'avg_bottle_volume_l'}).\\\n",
    "                                        query('date > 1000').\\\n",
    "                                        sort_values(by='avg_state_bottle_cost', ascending=False).reset_index().head(10)\n",
    "    fig.add_traces([\n",
    "        go.Bar(name='Average bottle cost',x=df_plot[column], y=df_plot['avg_state_bottle_cost']),\n",
    "        go.Bar(name='Average bottle volume(litres)',x=df_plot[column], y=df_plot['avg_bottle_volume_l'])\n",
    "    ], rows=i, cols=j)\n",
    "    return fig"
   ]
  },
  {
   "cell_type": "code",
   "execution_count": 265,
   "metadata": {},
   "outputs": [
    {
     "data": {
      "application/vnd.plotly.v1+json": {
       "config": {
        "plotlyServerURL": "https://plot.ly"
       },
       "data": [
        {
         "name": "Average bottle cost",
         "type": "bar",
         "x": [
          "Balvenie 12Yr Doublewood Single Malt Scotch",
          "Don Julio Anejo Tequila",
          "Redbreast 12Yr",
          "Hennessy Vsop Privilege",
          "Patron Anejo",
          "Woodford Reserve Double Oaked",
          "Jagermeister Liqueur Mini",
          "Don Julio Reposado",
          "Macallan 12 Yr Single Malt Scotch",
          "Avion Anejo"
         ],
         "xaxis": "x",
         "y": [
          31.38408988763931,
          31.373298217180047,
          30.97482352941219,
          30.430504177046615,
          29.975726285861946,
          29.905442257530378,
          29.405316786420677,
          29.162994241841854,
          29.034693161894275,
          28.898855774348487
         ],
         "yaxis": "y"
        },
        {
         "name": "Average bottle volume(litres)",
         "type": "bar",
         "x": [
          "Balvenie 12Yr Doublewood Single Malt Scotch",
          "Don Julio Anejo Tequila",
          "Redbreast 12Yr",
          "Hennessy Vsop Privilege",
          "Patron Anejo",
          "Woodford Reserve Double Oaked",
          "Jagermeister Liqueur Mini",
          "Don Julio Reposado",
          "Macallan 12 Yr Single Malt Scotch",
          "Avion Anejo"
         ],
         "xaxis": "x",
         "y": [
          0.75,
          0.75,
          0.75,
          0.7477795691044994,
          0.7250904626518481,
          0.75,
          1.2000000000002506,
          0.7426823416506718,
          0.75,
          0.75
         ],
         "yaxis": "y"
        },
        {
         "name": "Average bottle cost",
         "type": "bar",
         "x": [
          "Shueyville",
          "Moravia",
          "Swisher",
          "Pacific Junction",
          "St Lucas",
          "Schleswig",
          "Larchwood",
          "Ireton",
          "Wesley",
          "Dunlap"
         ],
         "xaxis": "x2",
         "y": [
          12.486015450294936,
          12.046600701402777,
          12.03711286089235,
          11.581486090775863,
          11.216247075339258,
          11.172193071312885,
          10.849327471194533,
          10.843452797202765,
          10.83541759465468,
          10.82126355492699
         ],
         "yaxis": "y2"
        },
        {
         "name": "Average bottle volume(litres)",
         "type": "bar",
         "x": [
          "Shueyville",
          "Moravia",
          "Swisher",
          "Pacific Junction",
          "St Lucas",
          "Schleswig",
          "Larchwood",
          "Ireton",
          "Wesley",
          "Dunlap"
         ],
         "xaxis": "x2",
         "y": [
          0.8634351494206167,
          0.9046906312625251,
          0.7267857142857129,
          0.7948892752562208,
          0.9263219466541882,
          0.9613832050243113,
          0.829761976955733,
          0.8774475524475525,
          0.9212348273942094,
          0.820752789564672
         ],
         "yaxis": "y2"
        },
        {
         "name": "Average bottle cost",
         "type": "bar",
         "x": [
          "Winneshiek",
          "Dickinson",
          "Mahaska",
          "Sioux",
          "Kossuth",
          "Palo Alto",
          "Lyon",
          "Buena Vista",
          "Clarke",
          "Johnson"
         ],
         "xaxis": "x3",
         "y": [
          9.854619966511411,
          9.820518609134156,
          9.79249489969314,
          9.745093768753003,
          9.653051876643024,
          9.62762852074673,
          9.627036261507959,
          9.617478846980667,
          9.606758000816631,
          9.577170732764019
         ],
         "yaxis": "y3"
        },
        {
         "name": "Average bottle volume(litres)",
         "type": "bar",
         "x": [
          "Winneshiek",
          "Dickinson",
          "Mahaska",
          "Sioux",
          "Kossuth",
          "Palo Alto",
          "Lyon",
          "Buena Vista",
          "Clarke",
          "Johnson"
         ],
         "xaxis": "x3",
         "y": [
          0.7927829458428206,
          0.7581140696492205,
          0.7324230562166844,
          0.7781415658131555,
          0.7792853095864062,
          0.8129788962384543,
          0.7890742181008246,
          0.7388709911161018,
          0.7813271142584761,
          0.6995364139116362
         ],
         "yaxis": "y3"
        }
       ],
       "layout": {
        "autosize": false,
        "height": 600,
        "template": {
         "data": {
          "bar": [
           {
            "error_x": {
             "color": "#2a3f5f"
            },
            "error_y": {
             "color": "#2a3f5f"
            },
            "marker": {
             "line": {
              "color": "#E5ECF6",
              "width": 0.5
             }
            },
            "type": "bar"
           }
          ],
          "barpolar": [
           {
            "marker": {
             "line": {
              "color": "#E5ECF6",
              "width": 0.5
             }
            },
            "type": "barpolar"
           }
          ],
          "carpet": [
           {
            "aaxis": {
             "endlinecolor": "#2a3f5f",
             "gridcolor": "white",
             "linecolor": "white",
             "minorgridcolor": "white",
             "startlinecolor": "#2a3f5f"
            },
            "baxis": {
             "endlinecolor": "#2a3f5f",
             "gridcolor": "white",
             "linecolor": "white",
             "minorgridcolor": "white",
             "startlinecolor": "#2a3f5f"
            },
            "type": "carpet"
           }
          ],
          "choropleth": [
           {
            "colorbar": {
             "outlinewidth": 0,
             "ticks": ""
            },
            "type": "choropleth"
           }
          ],
          "contour": [
           {
            "colorbar": {
             "outlinewidth": 0,
             "ticks": ""
            },
            "colorscale": [
             [
              0,
              "#0d0887"
             ],
             [
              0.1111111111111111,
              "#46039f"
             ],
             [
              0.2222222222222222,
              "#7201a8"
             ],
             [
              0.3333333333333333,
              "#9c179e"
             ],
             [
              0.4444444444444444,
              "#bd3786"
             ],
             [
              0.5555555555555556,
              "#d8576b"
             ],
             [
              0.6666666666666666,
              "#ed7953"
             ],
             [
              0.7777777777777778,
              "#fb9f3a"
             ],
             [
              0.8888888888888888,
              "#fdca26"
             ],
             [
              1,
              "#f0f921"
             ]
            ],
            "type": "contour"
           }
          ],
          "contourcarpet": [
           {
            "colorbar": {
             "outlinewidth": 0,
             "ticks": ""
            },
            "type": "contourcarpet"
           }
          ],
          "heatmap": [
           {
            "colorbar": {
             "outlinewidth": 0,
             "ticks": ""
            },
            "colorscale": [
             [
              0,
              "#0d0887"
             ],
             [
              0.1111111111111111,
              "#46039f"
             ],
             [
              0.2222222222222222,
              "#7201a8"
             ],
             [
              0.3333333333333333,
              "#9c179e"
             ],
             [
              0.4444444444444444,
              "#bd3786"
             ],
             [
              0.5555555555555556,
              "#d8576b"
             ],
             [
              0.6666666666666666,
              "#ed7953"
             ],
             [
              0.7777777777777778,
              "#fb9f3a"
             ],
             [
              0.8888888888888888,
              "#fdca26"
             ],
             [
              1,
              "#f0f921"
             ]
            ],
            "type": "heatmap"
           }
          ],
          "heatmapgl": [
           {
            "colorbar": {
             "outlinewidth": 0,
             "ticks": ""
            },
            "colorscale": [
             [
              0,
              "#0d0887"
             ],
             [
              0.1111111111111111,
              "#46039f"
             ],
             [
              0.2222222222222222,
              "#7201a8"
             ],
             [
              0.3333333333333333,
              "#9c179e"
             ],
             [
              0.4444444444444444,
              "#bd3786"
             ],
             [
              0.5555555555555556,
              "#d8576b"
             ],
             [
              0.6666666666666666,
              "#ed7953"
             ],
             [
              0.7777777777777778,
              "#fb9f3a"
             ],
             [
              0.8888888888888888,
              "#fdca26"
             ],
             [
              1,
              "#f0f921"
             ]
            ],
            "type": "heatmapgl"
           }
          ],
          "histogram": [
           {
            "marker": {
             "colorbar": {
              "outlinewidth": 0,
              "ticks": ""
             }
            },
            "type": "histogram"
           }
          ],
          "histogram2d": [
           {
            "colorbar": {
             "outlinewidth": 0,
             "ticks": ""
            },
            "colorscale": [
             [
              0,
              "#0d0887"
             ],
             [
              0.1111111111111111,
              "#46039f"
             ],
             [
              0.2222222222222222,
              "#7201a8"
             ],
             [
              0.3333333333333333,
              "#9c179e"
             ],
             [
              0.4444444444444444,
              "#bd3786"
             ],
             [
              0.5555555555555556,
              "#d8576b"
             ],
             [
              0.6666666666666666,
              "#ed7953"
             ],
             [
              0.7777777777777778,
              "#fb9f3a"
             ],
             [
              0.8888888888888888,
              "#fdca26"
             ],
             [
              1,
              "#f0f921"
             ]
            ],
            "type": "histogram2d"
           }
          ],
          "histogram2dcontour": [
           {
            "colorbar": {
             "outlinewidth": 0,
             "ticks": ""
            },
            "colorscale": [
             [
              0,
              "#0d0887"
             ],
             [
              0.1111111111111111,
              "#46039f"
             ],
             [
              0.2222222222222222,
              "#7201a8"
             ],
             [
              0.3333333333333333,
              "#9c179e"
             ],
             [
              0.4444444444444444,
              "#bd3786"
             ],
             [
              0.5555555555555556,
              "#d8576b"
             ],
             [
              0.6666666666666666,
              "#ed7953"
             ],
             [
              0.7777777777777778,
              "#fb9f3a"
             ],
             [
              0.8888888888888888,
              "#fdca26"
             ],
             [
              1,
              "#f0f921"
             ]
            ],
            "type": "histogram2dcontour"
           }
          ],
          "mesh3d": [
           {
            "colorbar": {
             "outlinewidth": 0,
             "ticks": ""
            },
            "type": "mesh3d"
           }
          ],
          "parcoords": [
           {
            "line": {
             "colorbar": {
              "outlinewidth": 0,
              "ticks": ""
             }
            },
            "type": "parcoords"
           }
          ],
          "pie": [
           {
            "automargin": true,
            "type": "pie"
           }
          ],
          "scatter": [
           {
            "marker": {
             "colorbar": {
              "outlinewidth": 0,
              "ticks": ""
             }
            },
            "type": "scatter"
           }
          ],
          "scatter3d": [
           {
            "line": {
             "colorbar": {
              "outlinewidth": 0,
              "ticks": ""
             }
            },
            "marker": {
             "colorbar": {
              "outlinewidth": 0,
              "ticks": ""
             }
            },
            "type": "scatter3d"
           }
          ],
          "scattercarpet": [
           {
            "marker": {
             "colorbar": {
              "outlinewidth": 0,
              "ticks": ""
             }
            },
            "type": "scattercarpet"
           }
          ],
          "scattergeo": [
           {
            "marker": {
             "colorbar": {
              "outlinewidth": 0,
              "ticks": ""
             }
            },
            "type": "scattergeo"
           }
          ],
          "scattergl": [
           {
            "marker": {
             "colorbar": {
              "outlinewidth": 0,
              "ticks": ""
             }
            },
            "type": "scattergl"
           }
          ],
          "scattermapbox": [
           {
            "marker": {
             "colorbar": {
              "outlinewidth": 0,
              "ticks": ""
             }
            },
            "type": "scattermapbox"
           }
          ],
          "scatterpolar": [
           {
            "marker": {
             "colorbar": {
              "outlinewidth": 0,
              "ticks": ""
             }
            },
            "type": "scatterpolar"
           }
          ],
          "scatterpolargl": [
           {
            "marker": {
             "colorbar": {
              "outlinewidth": 0,
              "ticks": ""
             }
            },
            "type": "scatterpolargl"
           }
          ],
          "scatterternary": [
           {
            "marker": {
             "colorbar": {
              "outlinewidth": 0,
              "ticks": ""
             }
            },
            "type": "scatterternary"
           }
          ],
          "surface": [
           {
            "colorbar": {
             "outlinewidth": 0,
             "ticks": ""
            },
            "colorscale": [
             [
              0,
              "#0d0887"
             ],
             [
              0.1111111111111111,
              "#46039f"
             ],
             [
              0.2222222222222222,
              "#7201a8"
             ],
             [
              0.3333333333333333,
              "#9c179e"
             ],
             [
              0.4444444444444444,
              "#bd3786"
             ],
             [
              0.5555555555555556,
              "#d8576b"
             ],
             [
              0.6666666666666666,
              "#ed7953"
             ],
             [
              0.7777777777777778,
              "#fb9f3a"
             ],
             [
              0.8888888888888888,
              "#fdca26"
             ],
             [
              1,
              "#f0f921"
             ]
            ],
            "type": "surface"
           }
          ],
          "table": [
           {
            "cells": {
             "fill": {
              "color": "#EBF0F8"
             },
             "line": {
              "color": "white"
             }
            },
            "header": {
             "fill": {
              "color": "#C8D4E3"
             },
             "line": {
              "color": "white"
             }
            },
            "type": "table"
           }
          ]
         },
         "layout": {
          "annotationdefaults": {
           "arrowcolor": "#2a3f5f",
           "arrowhead": 0,
           "arrowwidth": 1
          },
          "autotypenumbers": "strict",
          "coloraxis": {
           "colorbar": {
            "outlinewidth": 0,
            "ticks": ""
           }
          },
          "colorscale": {
           "diverging": [
            [
             0,
             "#8e0152"
            ],
            [
             0.1,
             "#c51b7d"
            ],
            [
             0.2,
             "#de77ae"
            ],
            [
             0.3,
             "#f1b6da"
            ],
            [
             0.4,
             "#fde0ef"
            ],
            [
             0.5,
             "#f7f7f7"
            ],
            [
             0.6,
             "#e6f5d0"
            ],
            [
             0.7,
             "#b8e186"
            ],
            [
             0.8,
             "#7fbc41"
            ],
            [
             0.9,
             "#4d9221"
            ],
            [
             1,
             "#276419"
            ]
           ],
           "sequential": [
            [
             0,
             "#0d0887"
            ],
            [
             0.1111111111111111,
             "#46039f"
            ],
            [
             0.2222222222222222,
             "#7201a8"
            ],
            [
             0.3333333333333333,
             "#9c179e"
            ],
            [
             0.4444444444444444,
             "#bd3786"
            ],
            [
             0.5555555555555556,
             "#d8576b"
            ],
            [
             0.6666666666666666,
             "#ed7953"
            ],
            [
             0.7777777777777778,
             "#fb9f3a"
            ],
            [
             0.8888888888888888,
             "#fdca26"
            ],
            [
             1,
             "#f0f921"
            ]
           ],
           "sequentialminus": [
            [
             0,
             "#0d0887"
            ],
            [
             0.1111111111111111,
             "#46039f"
            ],
            [
             0.2222222222222222,
             "#7201a8"
            ],
            [
             0.3333333333333333,
             "#9c179e"
            ],
            [
             0.4444444444444444,
             "#bd3786"
            ],
            [
             0.5555555555555556,
             "#d8576b"
            ],
            [
             0.6666666666666666,
             "#ed7953"
            ],
            [
             0.7777777777777778,
             "#fb9f3a"
            ],
            [
             0.8888888888888888,
             "#fdca26"
            ],
            [
             1,
             "#f0f921"
            ]
           ]
          },
          "colorway": [
           "#636efa",
           "#EF553B",
           "#00cc96",
           "#ab63fa",
           "#FFA15A",
           "#19d3f3",
           "#FF6692",
           "#B6E880",
           "#FF97FF",
           "#FECB52"
          ],
          "font": {
           "color": "#2a3f5f"
          },
          "geo": {
           "bgcolor": "white",
           "lakecolor": "white",
           "landcolor": "#E5ECF6",
           "showlakes": true,
           "showland": true,
           "subunitcolor": "white"
          },
          "hoverlabel": {
           "align": "left"
          },
          "hovermode": "closest",
          "mapbox": {
           "style": "light"
          },
          "paper_bgcolor": "white",
          "plot_bgcolor": "#E5ECF6",
          "polar": {
           "angularaxis": {
            "gridcolor": "white",
            "linecolor": "white",
            "ticks": ""
           },
           "bgcolor": "#E5ECF6",
           "radialaxis": {
            "gridcolor": "white",
            "linecolor": "white",
            "ticks": ""
           }
          },
          "scene": {
           "xaxis": {
            "backgroundcolor": "#E5ECF6",
            "gridcolor": "white",
            "gridwidth": 2,
            "linecolor": "white",
            "showbackground": true,
            "ticks": "",
            "zerolinecolor": "white"
           },
           "yaxis": {
            "backgroundcolor": "#E5ECF6",
            "gridcolor": "white",
            "gridwidth": 2,
            "linecolor": "white",
            "showbackground": true,
            "ticks": "",
            "zerolinecolor": "white"
           },
           "zaxis": {
            "backgroundcolor": "#E5ECF6",
            "gridcolor": "white",
            "gridwidth": 2,
            "linecolor": "white",
            "showbackground": true,
            "ticks": "",
            "zerolinecolor": "white"
           }
          },
          "shapedefaults": {
           "line": {
            "color": "#2a3f5f"
           }
          },
          "ternary": {
           "aaxis": {
            "gridcolor": "white",
            "linecolor": "white",
            "ticks": ""
           },
           "baxis": {
            "gridcolor": "white",
            "linecolor": "white",
            "ticks": ""
           },
           "bgcolor": "#E5ECF6",
           "caxis": {
            "gridcolor": "white",
            "linecolor": "white",
            "ticks": ""
           }
          },
          "title": {
           "x": 0.05
          },
          "xaxis": {
           "automargin": true,
           "gridcolor": "white",
           "linecolor": "white",
           "ticks": "",
           "title": {
            "standoff": 15
           },
           "zerolinecolor": "white",
           "zerolinewidth": 2
          },
          "yaxis": {
           "automargin": true,
           "gridcolor": "white",
           "linecolor": "white",
           "ticks": "",
           "title": {
            "standoff": 15
           },
           "zerolinecolor": "white",
           "zerolinewidth": 2
          }
         }
        },
        "width": 950,
        "xaxis": {
         "anchor": "y",
         "domain": [
          0,
          0.2888888888888889
         ]
        },
        "xaxis2": {
         "anchor": "y2",
         "domain": [
          0.35555555555555557,
          0.6444444444444445
         ]
        },
        "xaxis3": {
         "anchor": "y3",
         "domain": [
          0.7111111111111111,
          1
         ]
        },
        "yaxis": {
         "anchor": "x",
         "domain": [
          0,
          1
         ]
        },
        "yaxis2": {
         "anchor": "x2",
         "domain": [
          0,
          1
         ]
        },
        "yaxis3": {
         "anchor": "x3",
         "domain": [
          0,
          1
         ]
        }
       }
      },
      "text/html": [
       "<div>                            <div id=\"005951f6-78f3-4023-a1c1-ac92e01a638c\" class=\"plotly-graph-div\" style=\"height:600px; width:950px;\"></div>            <script type=\"text/javascript\">                require([\"plotly\"], function(Plotly) {                    window.PLOTLYENV=window.PLOTLYENV || {};                                    if (document.getElementById(\"005951f6-78f3-4023-a1c1-ac92e01a638c\")) {                    Plotly.newPlot(                        \"005951f6-78f3-4023-a1c1-ac92e01a638c\",                        [{\"name\": \"Average bottle cost\", \"type\": \"bar\", \"x\": [\"Balvenie 12Yr Doublewood Single Malt Scotch\", \"Don Julio Anejo Tequila\", \"Redbreast 12Yr\", \"Hennessy Vsop Privilege\", \"Patron Anejo\", \"Woodford Reserve Double Oaked\", \"Jagermeister Liqueur Mini\", \"Don Julio Reposado\", \"Macallan 12 Yr Single Malt Scotch\", \"Avion Anejo\"], \"xaxis\": \"x\", \"y\": [31.38408988763931, 31.373298217180047, 30.97482352941219, 30.430504177046615, 29.975726285861946, 29.905442257530378, 29.405316786420677, 29.162994241841854, 29.034693161894275, 28.898855774348487], \"yaxis\": \"y\"}, {\"name\": \"Average bottle volume(litres)\", \"type\": \"bar\", \"x\": [\"Balvenie 12Yr Doublewood Single Malt Scotch\", \"Don Julio Anejo Tequila\", \"Redbreast 12Yr\", \"Hennessy Vsop Privilege\", \"Patron Anejo\", \"Woodford Reserve Double Oaked\", \"Jagermeister Liqueur Mini\", \"Don Julio Reposado\", \"Macallan 12 Yr Single Malt Scotch\", \"Avion Anejo\"], \"xaxis\": \"x\", \"y\": [0.75, 0.75, 0.75, 0.7477795691044994, 0.7250904626518481, 0.75, 1.2000000000002506, 0.7426823416506718, 0.75, 0.75], \"yaxis\": \"y\"}, {\"name\": \"Average bottle cost\", \"type\": \"bar\", \"x\": [\"Shueyville\", \"Moravia\", \"Swisher\", \"Pacific Junction\", \"St Lucas\", \"Schleswig\", \"Larchwood\", \"Ireton\", \"Wesley\", \"Dunlap\"], \"xaxis\": \"x2\", \"y\": [12.486015450294936, 12.046600701402777, 12.03711286089235, 11.581486090775863, 11.216247075339258, 11.172193071312885, 10.849327471194533, 10.843452797202765, 10.83541759465468, 10.82126355492699], \"yaxis\": \"y2\"}, {\"name\": \"Average bottle volume(litres)\", \"type\": \"bar\", \"x\": [\"Shueyville\", \"Moravia\", \"Swisher\", \"Pacific Junction\", \"St Lucas\", \"Schleswig\", \"Larchwood\", \"Ireton\", \"Wesley\", \"Dunlap\"], \"xaxis\": \"x2\", \"y\": [0.8634351494206167, 0.9046906312625251, 0.7267857142857129, 0.7948892752562208, 0.9263219466541882, 0.9613832050243113, 0.829761976955733, 0.8774475524475525, 0.9212348273942094, 0.820752789564672], \"yaxis\": \"y2\"}, {\"name\": \"Average bottle cost\", \"type\": \"bar\", \"x\": [\"Winneshiek\", \"Dickinson\", \"Mahaska\", \"Sioux\", \"Kossuth\", \"Palo Alto\", \"Lyon\", \"Buena Vista\", \"Clarke\", \"Johnson\"], \"xaxis\": \"x3\", \"y\": [9.854619966511411, 9.820518609134156, 9.79249489969314, 9.745093768753003, 9.653051876643024, 9.62762852074673, 9.627036261507959, 9.617478846980667, 9.606758000816631, 9.577170732764019], \"yaxis\": \"y3\"}, {\"name\": \"Average bottle volume(litres)\", \"type\": \"bar\", \"x\": [\"Winneshiek\", \"Dickinson\", \"Mahaska\", \"Sioux\", \"Kossuth\", \"Palo Alto\", \"Lyon\", \"Buena Vista\", \"Clarke\", \"Johnson\"], \"xaxis\": \"x3\", \"y\": [0.7927829458428206, 0.7581140696492205, 0.7324230562166844, 0.7781415658131555, 0.7792853095864062, 0.8129788962384543, 0.7890742181008246, 0.7388709911161018, 0.7813271142584761, 0.6995364139116362], \"yaxis\": \"y3\"}],                        {\"autosize\": false, \"height\": 600, \"template\": {\"data\": {\"bar\": [{\"error_x\": {\"color\": \"#2a3f5f\"}, \"error_y\": {\"color\": \"#2a3f5f\"}, \"marker\": {\"line\": {\"color\": \"#E5ECF6\", \"width\": 0.5}}, \"type\": \"bar\"}], \"barpolar\": [{\"marker\": {\"line\": {\"color\": \"#E5ECF6\", \"width\": 0.5}}, \"type\": \"barpolar\"}], \"carpet\": [{\"aaxis\": {\"endlinecolor\": \"#2a3f5f\", \"gridcolor\": \"white\", \"linecolor\": \"white\", \"minorgridcolor\": \"white\", \"startlinecolor\": \"#2a3f5f\"}, \"baxis\": {\"endlinecolor\": \"#2a3f5f\", \"gridcolor\": \"white\", \"linecolor\": \"white\", \"minorgridcolor\": \"white\", \"startlinecolor\": \"#2a3f5f\"}, \"type\": \"carpet\"}], \"choropleth\": [{\"colorbar\": {\"outlinewidth\": 0, \"ticks\": \"\"}, \"type\": \"choropleth\"}], \"contour\": [{\"colorbar\": {\"outlinewidth\": 0, \"ticks\": \"\"}, \"colorscale\": [[0.0, \"#0d0887\"], [0.1111111111111111, \"#46039f\"], [0.2222222222222222, \"#7201a8\"], [0.3333333333333333, \"#9c179e\"], [0.4444444444444444, \"#bd3786\"], [0.5555555555555556, \"#d8576b\"], [0.6666666666666666, \"#ed7953\"], [0.7777777777777778, \"#fb9f3a\"], [0.8888888888888888, \"#fdca26\"], [1.0, \"#f0f921\"]], \"type\": \"contour\"}], \"contourcarpet\": [{\"colorbar\": {\"outlinewidth\": 0, \"ticks\": \"\"}, \"type\": \"contourcarpet\"}], \"heatmap\": [{\"colorbar\": {\"outlinewidth\": 0, \"ticks\": \"\"}, \"colorscale\": [[0.0, \"#0d0887\"], [0.1111111111111111, \"#46039f\"], [0.2222222222222222, \"#7201a8\"], [0.3333333333333333, \"#9c179e\"], [0.4444444444444444, \"#bd3786\"], [0.5555555555555556, \"#d8576b\"], [0.6666666666666666, \"#ed7953\"], [0.7777777777777778, \"#fb9f3a\"], [0.8888888888888888, \"#fdca26\"], [1.0, \"#f0f921\"]], \"type\": \"heatmap\"}], \"heatmapgl\": [{\"colorbar\": {\"outlinewidth\": 0, \"ticks\": \"\"}, \"colorscale\": [[0.0, \"#0d0887\"], [0.1111111111111111, \"#46039f\"], [0.2222222222222222, \"#7201a8\"], [0.3333333333333333, \"#9c179e\"], [0.4444444444444444, \"#bd3786\"], [0.5555555555555556, \"#d8576b\"], [0.6666666666666666, \"#ed7953\"], [0.7777777777777778, \"#fb9f3a\"], [0.8888888888888888, \"#fdca26\"], [1.0, \"#f0f921\"]], \"type\": \"heatmapgl\"}], \"histogram\": [{\"marker\": {\"colorbar\": {\"outlinewidth\": 0, \"ticks\": \"\"}}, \"type\": \"histogram\"}], \"histogram2d\": [{\"colorbar\": {\"outlinewidth\": 0, \"ticks\": \"\"}, \"colorscale\": [[0.0, \"#0d0887\"], [0.1111111111111111, \"#46039f\"], [0.2222222222222222, \"#7201a8\"], [0.3333333333333333, \"#9c179e\"], [0.4444444444444444, \"#bd3786\"], [0.5555555555555556, \"#d8576b\"], [0.6666666666666666, \"#ed7953\"], [0.7777777777777778, \"#fb9f3a\"], [0.8888888888888888, \"#fdca26\"], [1.0, \"#f0f921\"]], \"type\": \"histogram2d\"}], \"histogram2dcontour\": [{\"colorbar\": {\"outlinewidth\": 0, \"ticks\": \"\"}, \"colorscale\": [[0.0, \"#0d0887\"], [0.1111111111111111, \"#46039f\"], [0.2222222222222222, \"#7201a8\"], [0.3333333333333333, \"#9c179e\"], [0.4444444444444444, \"#bd3786\"], [0.5555555555555556, \"#d8576b\"], [0.6666666666666666, \"#ed7953\"], [0.7777777777777778, \"#fb9f3a\"], [0.8888888888888888, \"#fdca26\"], [1.0, \"#f0f921\"]], \"type\": \"histogram2dcontour\"}], \"mesh3d\": [{\"colorbar\": {\"outlinewidth\": 0, \"ticks\": \"\"}, \"type\": \"mesh3d\"}], \"parcoords\": [{\"line\": {\"colorbar\": {\"outlinewidth\": 0, \"ticks\": \"\"}}, \"type\": \"parcoords\"}], \"pie\": [{\"automargin\": true, \"type\": \"pie\"}], \"scatter\": [{\"marker\": {\"colorbar\": {\"outlinewidth\": 0, \"ticks\": \"\"}}, \"type\": \"scatter\"}], \"scatter3d\": [{\"line\": {\"colorbar\": {\"outlinewidth\": 0, \"ticks\": \"\"}}, \"marker\": {\"colorbar\": {\"outlinewidth\": 0, \"ticks\": \"\"}}, \"type\": \"scatter3d\"}], \"scattercarpet\": [{\"marker\": {\"colorbar\": {\"outlinewidth\": 0, \"ticks\": \"\"}}, \"type\": \"scattercarpet\"}], \"scattergeo\": [{\"marker\": {\"colorbar\": {\"outlinewidth\": 0, \"ticks\": \"\"}}, \"type\": \"scattergeo\"}], \"scattergl\": [{\"marker\": {\"colorbar\": {\"outlinewidth\": 0, \"ticks\": \"\"}}, \"type\": \"scattergl\"}], \"scattermapbox\": [{\"marker\": {\"colorbar\": {\"outlinewidth\": 0, \"ticks\": \"\"}}, \"type\": \"scattermapbox\"}], \"scatterpolar\": [{\"marker\": {\"colorbar\": {\"outlinewidth\": 0, \"ticks\": \"\"}}, \"type\": \"scatterpolar\"}], \"scatterpolargl\": [{\"marker\": {\"colorbar\": {\"outlinewidth\": 0, \"ticks\": \"\"}}, \"type\": \"scatterpolargl\"}], \"scatterternary\": [{\"marker\": {\"colorbar\": {\"outlinewidth\": 0, \"ticks\": \"\"}}, \"type\": \"scatterternary\"}], \"surface\": [{\"colorbar\": {\"outlinewidth\": 0, \"ticks\": \"\"}, \"colorscale\": [[0.0, \"#0d0887\"], [0.1111111111111111, \"#46039f\"], [0.2222222222222222, \"#7201a8\"], [0.3333333333333333, \"#9c179e\"], [0.4444444444444444, \"#bd3786\"], [0.5555555555555556, \"#d8576b\"], [0.6666666666666666, \"#ed7953\"], [0.7777777777777778, \"#fb9f3a\"], [0.8888888888888888, \"#fdca26\"], [1.0, \"#f0f921\"]], \"type\": \"surface\"}], \"table\": [{\"cells\": {\"fill\": {\"color\": \"#EBF0F8\"}, \"line\": {\"color\": \"white\"}}, \"header\": {\"fill\": {\"color\": \"#C8D4E3\"}, \"line\": {\"color\": \"white\"}}, \"type\": \"table\"}]}, \"layout\": {\"annotationdefaults\": {\"arrowcolor\": \"#2a3f5f\", \"arrowhead\": 0, \"arrowwidth\": 1}, \"autotypenumbers\": \"strict\", \"coloraxis\": {\"colorbar\": {\"outlinewidth\": 0, \"ticks\": \"\"}}, \"colorscale\": {\"diverging\": [[0, \"#8e0152\"], [0.1, \"#c51b7d\"], [0.2, \"#de77ae\"], [0.3, \"#f1b6da\"], [0.4, \"#fde0ef\"], [0.5, \"#f7f7f7\"], [0.6, \"#e6f5d0\"], [0.7, \"#b8e186\"], [0.8, \"#7fbc41\"], [0.9, \"#4d9221\"], [1, \"#276419\"]], \"sequential\": [[0.0, \"#0d0887\"], [0.1111111111111111, \"#46039f\"], [0.2222222222222222, \"#7201a8\"], [0.3333333333333333, \"#9c179e\"], [0.4444444444444444, \"#bd3786\"], [0.5555555555555556, \"#d8576b\"], [0.6666666666666666, \"#ed7953\"], [0.7777777777777778, \"#fb9f3a\"], [0.8888888888888888, \"#fdca26\"], [1.0, \"#f0f921\"]], \"sequentialminus\": [[0.0, \"#0d0887\"], [0.1111111111111111, \"#46039f\"], [0.2222222222222222, \"#7201a8\"], [0.3333333333333333, \"#9c179e\"], [0.4444444444444444, \"#bd3786\"], [0.5555555555555556, \"#d8576b\"], [0.6666666666666666, \"#ed7953\"], [0.7777777777777778, \"#fb9f3a\"], [0.8888888888888888, \"#fdca26\"], [1.0, \"#f0f921\"]]}, \"colorway\": [\"#636efa\", \"#EF553B\", \"#00cc96\", \"#ab63fa\", \"#FFA15A\", \"#19d3f3\", \"#FF6692\", \"#B6E880\", \"#FF97FF\", \"#FECB52\"], \"font\": {\"color\": \"#2a3f5f\"}, \"geo\": {\"bgcolor\": \"white\", \"lakecolor\": \"white\", \"landcolor\": \"#E5ECF6\", \"showlakes\": true, \"showland\": true, \"subunitcolor\": \"white\"}, \"hoverlabel\": {\"align\": \"left\"}, \"hovermode\": \"closest\", \"mapbox\": {\"style\": \"light\"}, \"paper_bgcolor\": \"white\", \"plot_bgcolor\": \"#E5ECF6\", \"polar\": {\"angularaxis\": {\"gridcolor\": \"white\", \"linecolor\": \"white\", \"ticks\": \"\"}, \"bgcolor\": \"#E5ECF6\", \"radialaxis\": {\"gridcolor\": \"white\", \"linecolor\": \"white\", \"ticks\": \"\"}}, \"scene\": {\"xaxis\": {\"backgroundcolor\": \"#E5ECF6\", \"gridcolor\": \"white\", \"gridwidth\": 2, \"linecolor\": \"white\", \"showbackground\": true, \"ticks\": \"\", \"zerolinecolor\": \"white\"}, \"yaxis\": {\"backgroundcolor\": \"#E5ECF6\", \"gridcolor\": \"white\", \"gridwidth\": 2, \"linecolor\": \"white\", \"showbackground\": true, \"ticks\": \"\", \"zerolinecolor\": \"white\"}, \"zaxis\": {\"backgroundcolor\": \"#E5ECF6\", \"gridcolor\": \"white\", \"gridwidth\": 2, \"linecolor\": \"white\", \"showbackground\": true, \"ticks\": \"\", \"zerolinecolor\": \"white\"}}, \"shapedefaults\": {\"line\": {\"color\": \"#2a3f5f\"}}, \"ternary\": {\"aaxis\": {\"gridcolor\": \"white\", \"linecolor\": \"white\", \"ticks\": \"\"}, \"baxis\": {\"gridcolor\": \"white\", \"linecolor\": \"white\", \"ticks\": \"\"}, \"bgcolor\": \"#E5ECF6\", \"caxis\": {\"gridcolor\": \"white\", \"linecolor\": \"white\", \"ticks\": \"\"}}, \"title\": {\"x\": 0.05}, \"xaxis\": {\"automargin\": true, \"gridcolor\": \"white\", \"linecolor\": \"white\", \"ticks\": \"\", \"title\": {\"standoff\": 15}, \"zerolinecolor\": \"white\", \"zerolinewidth\": 2}, \"yaxis\": {\"automargin\": true, \"gridcolor\": \"white\", \"linecolor\": \"white\", \"ticks\": \"\", \"title\": {\"standoff\": 15}, \"zerolinecolor\": \"white\", \"zerolinewidth\": 2}}}, \"width\": 950, \"xaxis\": {\"anchor\": \"y\", \"domain\": [0.0, 0.2888888888888889]}, \"xaxis2\": {\"anchor\": \"y2\", \"domain\": [0.35555555555555557, 0.6444444444444445]}, \"xaxis3\": {\"anchor\": \"y3\", \"domain\": [0.7111111111111111, 1.0]}, \"yaxis\": {\"anchor\": \"x\", \"domain\": [0.0, 1.0]}, \"yaxis2\": {\"anchor\": \"x2\", \"domain\": [0.0, 1.0]}, \"yaxis3\": {\"anchor\": \"x3\", \"domain\": [0.0, 1.0]}},                        {\"responsive\": true}                    ).then(function(){\n",
       "                            \n",
       "var gd = document.getElementById('005951f6-78f3-4023-a1c1-ac92e01a638c');\n",
       "var x = new MutationObserver(function (mutations, observer) {{\n",
       "        var display = window.getComputedStyle(gd).display;\n",
       "        if (!display || display === 'none') {{\n",
       "            console.log([gd, 'removed!']);\n",
       "            Plotly.purge(gd);\n",
       "            observer.disconnect();\n",
       "        }}\n",
       "}});\n",
       "\n",
       "// Listen for the removal of the full notebook cells\n",
       "var notebookContainer = gd.closest('#notebook-container');\n",
       "if (notebookContainer) {{\n",
       "    x.observe(notebookContainer, {childList: true});\n",
       "}}\n",
       "\n",
       "// Listen for the clearing of the current output cell\n",
       "var outputEl = gd.closest('.output');\n",
       "if (outputEl) {{\n",
       "    x.observe(outputEl, {childList: true});\n",
       "}}\n",
       "\n",
       "                        })                };                });            </script>        </div>"
      ]
     },
     "metadata": {},
     "output_type": "display_data"
    }
   ],
   "source": [
    "fig = make_subplots(rows=1, cols=3)\n",
    "fig = plot_bar(fig, df_analysis, 'item_description', 1, 1)\n",
    "fig = plot_bar(fig, df_analysis, 'city', 1, 2)\n",
    "fig = plot_bar(fig, df_analysis, 'county', 1, 3)\n",
    "fig.update_layout(autosize=False, width=950, height=600)\n",
    "fig.show()"
   ]
  },
  {
   "cell_type": "code",
   "execution_count": null,
   "metadata": {},
   "outputs": [],
   "source": []
  },
  {
   "cell_type": "code",
   "execution_count": null,
   "metadata": {},
   "outputs": [],
   "source": [
    "df_analysis[(df_analysis['item_description']>30)&(df_analysis['item_description']<32)]"
   ]
  },
  {
   "cell_type": "code",
   "execution_count": null,
   "metadata": {},
   "outputs": [],
   "source": []
  },
  {
   "cell_type": "code",
   "execution_count": null,
   "metadata": {},
   "outputs": [],
   "source": []
  },
  {
   "cell_type": "code",
   "execution_count": null,
   "metadata": {},
   "outputs": [],
   "source": []
  },
  {
   "cell_type": "code",
   "execution_count": null,
   "metadata": {},
   "outputs": [],
   "source": []
  },
  {
   "cell_type": "code",
   "execution_count": null,
   "metadata": {},
   "outputs": [],
   "source": []
  },
  {
   "cell_type": "code",
   "execution_count": null,
   "metadata": {},
   "outputs": [],
   "source": []
  },
  {
   "cell_type": "code",
   "execution_count": null,
   "metadata": {},
   "outputs": [],
   "source": []
  },
  {
   "cell_type": "code",
   "execution_count": null,
   "metadata": {},
   "outputs": [],
   "source": []
  },
  {
   "cell_type": "code",
   "execution_count": null,
   "metadata": {},
   "outputs": [],
   "source": []
  },
  {
   "cell_type": "code",
   "execution_count": null,
   "metadata": {},
   "outputs": [],
   "source": []
  }
 ],
 "metadata": {
  "kernelspec": {
   "display_name": "Python 3",
   "language": "python",
   "name": "python3"
  },
  "language_info": {
   "codemirror_mode": {
    "name": "ipython",
    "version": 3
   },
   "file_extension": ".py",
   "mimetype": "text/x-python",
   "name": "python",
   "nbconvert_exporter": "python",
   "pygments_lexer": "ipython3",
   "version": "3.8.5"
  }
 },
 "nbformat": 4,
 "nbformat_minor": 4
}

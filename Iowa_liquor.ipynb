{
 "cells": [
  {
   "cell_type": "markdown",
   "metadata": {},
   "source": [
    "<h1><center>EDA Analysis public data \"Iowa liqour sales\"</center></h1>"
   ]
  },
  {
   "cell_type": "markdown",
   "metadata": {},
   "source": [
    "<p style=\"font-family: Monaco; font-size: 1.8em\"><a href=\"#Data_sourcing\">1. Data Sourcing</a></p>\n",
    "<p style=\"font-family: Monaco; font-size: 1.8em\"><a href=\"#Data_cleaning\">2. Data Cleaning</a></p>\n",
    "<p style=\"font-family: Monaco; font-size: 1.8em\"><a href=\"#Univariate_analysis\">3. Univariate Analysis</a></p>\n",
    "<p style=\"font-family: Monaco; font-size: 1.8em\"><a href=\"#Bivariate_analysis\">4. Bivariate Analysis</a></p>\n",
    "<p style=\"font-family: Monaco; font-size: 1.8em\"><a href=\"#Multivariate_analysis\">5. Multivariate Analysis</a></p>"
   ]
  },
  {
   "cell_type": "markdown",
   "metadata": {},
   "source": [
    "---------"
   ]
  },
  {
   "cell_type": "markdown",
   "metadata": {},
   "source": [
    "<p style=\"font-family: Monaco; font-size: 1.3em\">Import additional libraries</p>"
   ]
  },
  {
   "cell_type": "code",
   "execution_count": 101,
   "metadata": {},
   "outputs": [],
   "source": [
    "import pandas_gbq\n",
    "import pandas as pd\n",
    "import numpy as np\n",
    "pd.options.mode.chained_assignment = None\n",
    "pd.options.display.max_columns = 40\n",
    "import matplotlib.pyplot as plt\n",
    "import seaborn as sns\n",
    "import plotly.express as px\n",
    "import plotly.graph_objs as go\n",
    "from plotly.subplots import make_subplots\n",
    "pd.set_option('display.float_format', lambda x: '%.3f' % x)"
   ]
  },
  {
   "cell_type": "markdown",
   "metadata": {},
   "source": [
    "<a id='Data_sourcing'></a>\n",
    "<h2 id='another_cell'><em>1. Data Sourcing</em></h2>"
   ]
  },
  {
   "cell_type": "markdown",
   "metadata": {},
   "source": [
    "<p style=\"font-family: Monaco; font-size: 1.3em\">Load DataFrame from BigQuery public data and save to csv<p>"
   ]
  },
  {
   "cell_type": "code",
   "execution_count": 11,
   "metadata": {},
   "outputs": [
    {
     "name": "stderr",
     "output_type": "stream",
     "text": [
      "Downloading: 100%|██████████| 20349538/20349538 [1:12:07<00:00, 4702.71rows/s]\n"
     ]
    }
   ],
   "source": [
    "df = pandas_gbq.read_gbq('select * from bigquery-public-data.iowa_liquor_sales.sales', project_id='smarttender-273707')"
   ]
  },
  {
   "cell_type": "code",
   "execution_count": null,
   "metadata": {},
   "outputs": [],
   "source": [
    "df.to_csv(r'C:\\Users\\semeniuk\\Desktop\\Cases\\Case_Softconstruct\\dataset.csv')"
   ]
  },
  {
   "cell_type": "code",
   "execution_count": 4,
   "metadata": {},
   "outputs": [
    {
     "name": "stderr",
     "output_type": "stream",
     "text": [
      "C:\\Users\\semeniuk\\Anaconda3\\lib\\site-packages\\IPython\\core\\interactiveshell.py:3145: DtypeWarning: Columns (15) have mixed types.Specify dtype option on import or set low_memory=False.\n",
      "  has_raised = await self.run_ast_nodes(code_ast.body, cell_name,\n"
     ]
    }
   ],
   "source": [
    "df = pd.read_csv(r'C:\\Users\\semeniuk\\Desktop\\Cases\\Case_Softconstruct\\dataset.csv')"
   ]
  },
  {
   "cell_type": "code",
   "execution_count": 5,
   "metadata": {},
   "outputs": [],
   "source": [
    "df = df.drop(columns='Unnamed: 0')"
   ]
  },
  {
   "cell_type": "code",
   "execution_count": 6,
   "metadata": {},
   "outputs": [
    {
     "data": {
      "text/html": [
       "<div>\n",
       "<style scoped>\n",
       "    .dataframe tbody tr th:only-of-type {\n",
       "        vertical-align: middle;\n",
       "    }\n",
       "\n",
       "    .dataframe tbody tr th {\n",
       "        vertical-align: top;\n",
       "    }\n",
       "\n",
       "    .dataframe thead th {\n",
       "        text-align: right;\n",
       "    }\n",
       "</style>\n",
       "<table border=\"1\" class=\"dataframe\">\n",
       "  <thead>\n",
       "    <tr style=\"text-align: right;\">\n",
       "      <th></th>\n",
       "      <th>invoice_and_item_number</th>\n",
       "      <th>date</th>\n",
       "      <th>store_number</th>\n",
       "      <th>store_name</th>\n",
       "      <th>address</th>\n",
       "      <th>city</th>\n",
       "      <th>zip_code</th>\n",
       "      <th>store_location</th>\n",
       "      <th>county_number</th>\n",
       "      <th>county</th>\n",
       "      <th>category</th>\n",
       "      <th>category_name</th>\n",
       "      <th>vendor_number</th>\n",
       "      <th>vendor_name</th>\n",
       "      <th>item_number</th>\n",
       "      <th>item_description</th>\n",
       "      <th>pack</th>\n",
       "      <th>bottle_volume_ml</th>\n",
       "      <th>state_bottle_cost</th>\n",
       "      <th>state_bottle_retail</th>\n",
       "      <th>bottles_sold</th>\n",
       "      <th>sale_dollars</th>\n",
       "      <th>volume_sold_liters</th>\n",
       "      <th>volume_sold_gallons</th>\n",
       "    </tr>\n",
       "  </thead>\n",
       "  <tbody>\n",
       "    <tr>\n",
       "      <th>0</th>\n",
       "      <td>INV-03082000091</td>\n",
       "      <td>2017-02-03</td>\n",
       "      <td>3443</td>\n",
       "      <td>Super Saver Iv</td>\n",
       "      <td>1141 N Broadway</td>\n",
       "      <td>Council Bluffs</td>\n",
       "      <td>51503</td>\n",
       "      <td>POINT (-95.836515 41.270824)</td>\n",
       "      <td>78.000</td>\n",
       "      <td>POTTAWATTA</td>\n",
       "      <td>1062500.000</td>\n",
       "      <td>Flavored Rum</td>\n",
       "      <td>370.000</td>\n",
       "      <td>PERNOD RICARD USA</td>\n",
       "      <td>42718</td>\n",
       "      <td>Malibu Coconut Rum</td>\n",
       "      <td>6</td>\n",
       "      <td>1750</td>\n",
       "      <td>16.490</td>\n",
       "      <td>24.740</td>\n",
       "      <td>6</td>\n",
       "      <td>148.440</td>\n",
       "      <td>10.500</td>\n",
       "      <td>2.770</td>\n",
       "    </tr>\n",
       "    <tr>\n",
       "      <th>1</th>\n",
       "      <td>INV-32301500018</td>\n",
       "      <td>2020-11-30</td>\n",
       "      <td>5869</td>\n",
       "      <td>Tobacco Outlet Plus #507 - Urbandale</td>\n",
       "      <td>6941 Douglas Ave</td>\n",
       "      <td>Urbandale</td>\n",
       "      <td>50322</td>\n",
       "      <td>POINT (-93.711504 41.629416)</td>\n",
       "      <td>77.000</td>\n",
       "      <td>POLK</td>\n",
       "      <td>1062500.000</td>\n",
       "      <td>Flavored Rum</td>\n",
       "      <td>35.000</td>\n",
       "      <td>BACARDI USA INC</td>\n",
       "      <td>43138</td>\n",
       "      <td>Bacardi Limon</td>\n",
       "      <td>6</td>\n",
       "      <td>1750</td>\n",
       "      <td>15.000</td>\n",
       "      <td>22.500</td>\n",
       "      <td>6</td>\n",
       "      <td>135.000</td>\n",
       "      <td>10.500</td>\n",
       "      <td>2.770</td>\n",
       "    </tr>\n",
       "    <tr>\n",
       "      <th>2</th>\n",
       "      <td>INV-17059300006</td>\n",
       "      <td>2019-01-22</td>\n",
       "      <td>5326</td>\n",
       "      <td>Als Liquor</td>\n",
       "      <td>215 W. Milwaukee Ave</td>\n",
       "      <td>Storm Lake</td>\n",
       "      <td>50588</td>\n",
       "      <td>POINT (-95.202405 42.647492)</td>\n",
       "      <td>11.000</td>\n",
       "      <td>BUENA VIST</td>\n",
       "      <td>1062500.000</td>\n",
       "      <td>Flavored Rum</td>\n",
       "      <td>35.000</td>\n",
       "      <td>BACARDI USA INC</td>\n",
       "      <td>43138</td>\n",
       "      <td>Bacardi Limon</td>\n",
       "      <td>6</td>\n",
       "      <td>1750</td>\n",
       "      <td>15.000</td>\n",
       "      <td>22.500</td>\n",
       "      <td>6</td>\n",
       "      <td>135.000</td>\n",
       "      <td>10.500</td>\n",
       "      <td>2.770</td>\n",
       "    </tr>\n",
       "    <tr>\n",
       "      <th>3</th>\n",
       "      <td>INV-29255800079</td>\n",
       "      <td>2020-08-05</td>\n",
       "      <td>3443</td>\n",
       "      <td>Super Saver Iv</td>\n",
       "      <td>1141 N Broadway</td>\n",
       "      <td>Council Bluffs</td>\n",
       "      <td>51503</td>\n",
       "      <td>POINT (-95.836515 41.270824)</td>\n",
       "      <td>78.000</td>\n",
       "      <td>POTTAWATTA</td>\n",
       "      <td>1062500.000</td>\n",
       "      <td>Flavored Rum</td>\n",
       "      <td>370.000</td>\n",
       "      <td>PERNOD RICARD USA</td>\n",
       "      <td>42718</td>\n",
       "      <td>Malibu Coconut Rum</td>\n",
       "      <td>6</td>\n",
       "      <td>1750</td>\n",
       "      <td>16.990</td>\n",
       "      <td>25.490</td>\n",
       "      <td>6</td>\n",
       "      <td>152.940</td>\n",
       "      <td>10.500</td>\n",
       "      <td>2.770</td>\n",
       "    </tr>\n",
       "    <tr>\n",
       "      <th>4</th>\n",
       "      <td>INV-20691000018</td>\n",
       "      <td>2019-07-17</td>\n",
       "      <td>4239</td>\n",
       "      <td>Fareway Stores #850 / Spirit Lake</td>\n",
       "      <td>1906 Keokuk</td>\n",
       "      <td>Spirit Lake</td>\n",
       "      <td>51360</td>\n",
       "      <td>POINT (-95.106219 43.42157)</td>\n",
       "      <td>30.000</td>\n",
       "      <td>DICKINSON</td>\n",
       "      <td>1062500.000</td>\n",
       "      <td>Flavored Rum</td>\n",
       "      <td>370.000</td>\n",
       "      <td>PERNOD RICARD USA</td>\n",
       "      <td>42718</td>\n",
       "      <td>Malibu Coconut Rum</td>\n",
       "      <td>6</td>\n",
       "      <td>1750</td>\n",
       "      <td>16.990</td>\n",
       "      <td>25.490</td>\n",
       "      <td>6</td>\n",
       "      <td>148.440</td>\n",
       "      <td>10.500</td>\n",
       "      <td>2.770</td>\n",
       "    </tr>\n",
       "  </tbody>\n",
       "</table>\n",
       "</div>"
      ],
      "text/plain": [
       "  invoice_and_item_number        date  store_number  \\\n",
       "0         INV-03082000091  2017-02-03          3443   \n",
       "1         INV-32301500018  2020-11-30          5869   \n",
       "2         INV-17059300006  2019-01-22          5326   \n",
       "3         INV-29255800079  2020-08-05          3443   \n",
       "4         INV-20691000018  2019-07-17          4239   \n",
       "\n",
       "                             store_name               address            city  \\\n",
       "0                        Super Saver Iv       1141 N Broadway  Council Bluffs   \n",
       "1  Tobacco Outlet Plus #507 - Urbandale      6941 Douglas Ave       Urbandale   \n",
       "2                            Als Liquor  215 W. Milwaukee Ave      Storm Lake   \n",
       "3                        Super Saver Iv       1141 N Broadway  Council Bluffs   \n",
       "4     Fareway Stores #850 / Spirit Lake           1906 Keokuk     Spirit Lake   \n",
       "\n",
       "  zip_code                store_location  county_number      county  \\\n",
       "0    51503  POINT (-95.836515 41.270824)         78.000  POTTAWATTA   \n",
       "1    50322  POINT (-93.711504 41.629416)         77.000        POLK   \n",
       "2    50588  POINT (-95.202405 42.647492)         11.000  BUENA VIST   \n",
       "3    51503  POINT (-95.836515 41.270824)         78.000  POTTAWATTA   \n",
       "4    51360   POINT (-95.106219 43.42157)         30.000   DICKINSON   \n",
       "\n",
       "     category category_name  vendor_number        vendor_name item_number  \\\n",
       "0 1062500.000  Flavored Rum        370.000  PERNOD RICARD USA       42718   \n",
       "1 1062500.000  Flavored Rum         35.000    BACARDI USA INC       43138   \n",
       "2 1062500.000  Flavored Rum         35.000    BACARDI USA INC       43138   \n",
       "3 1062500.000  Flavored Rum        370.000  PERNOD RICARD USA       42718   \n",
       "4 1062500.000  Flavored Rum        370.000  PERNOD RICARD USA       42718   \n",
       "\n",
       "     item_description  pack  bottle_volume_ml  state_bottle_cost  \\\n",
       "0  Malibu Coconut Rum     6              1750             16.490   \n",
       "1       Bacardi Limon     6              1750             15.000   \n",
       "2       Bacardi Limon     6              1750             15.000   \n",
       "3  Malibu Coconut Rum     6              1750             16.990   \n",
       "4  Malibu Coconut Rum     6              1750             16.990   \n",
       "\n",
       "   state_bottle_retail  bottles_sold  sale_dollars  volume_sold_liters  \\\n",
       "0               24.740             6       148.440              10.500   \n",
       "1               22.500             6       135.000              10.500   \n",
       "2               22.500             6       135.000              10.500   \n",
       "3               25.490             6       152.940              10.500   \n",
       "4               25.490             6       148.440              10.500   \n",
       "\n",
       "   volume_sold_gallons  \n",
       "0                2.770  \n",
       "1                2.770  \n",
       "2                2.770  \n",
       "3                2.770  \n",
       "4                2.770  "
      ]
     },
     "execution_count": 6,
     "metadata": {},
     "output_type": "execute_result"
    }
   ],
   "source": [
    "df.head()"
   ]
  },
  {
   "cell_type": "markdown",
   "metadata": {},
   "source": [
    "<a id='Data_cleaning'></a>\n",
    "<h2><em>2. Data Cleaning</em></h2>"
   ]
  },
  {
   "cell_type": "markdown",
   "metadata": {},
   "source": [
    "<h2><ul><li><strong>Missing values</strong></li></ul></h2>"
   ]
  },
  {
   "cell_type": "code",
   "execution_count": 7,
   "metadata": {},
   "outputs": [
    {
     "data": {
      "text/plain": [
       "invoice_and_item_number          0\n",
       "date                             0\n",
       "store_number                     0\n",
       "store_name                       0\n",
       "address                      79927\n",
       "city                         79926\n",
       "zip_code                     79971\n",
       "store_location             1951877\n",
       "county_number               156731\n",
       "county                      156729\n",
       "category                     16974\n",
       "category_name                25040\n",
       "vendor_number                    5\n",
       "vendor_name                      3\n",
       "item_number                      0\n",
       "item_description                 0\n",
       "pack                             0\n",
       "bottle_volume_ml                 0\n",
       "state_bottle_cost               10\n",
       "state_bottle_retail             10\n",
       "bottles_sold                     0\n",
       "sale_dollars                    10\n",
       "volume_sold_liters               0\n",
       "volume_sold_gallons              0\n",
       "dtype: int64"
      ]
     },
     "execution_count": 7,
     "metadata": {},
     "output_type": "execute_result"
    }
   ],
   "source": [
    "df.isnull().sum()"
   ]
  },
  {
   "cell_type": "markdown",
   "metadata": {},
   "source": [
    "<p style=\"font-family: Monaco; font-size: 1.3em\">For all categorical string column apply lowercase and title functions to make the same register.<p/>"
   ]
  },
  {
   "cell_type": "code",
   "execution_count": 8,
   "metadata": {},
   "outputs": [],
   "source": [
    "df['store_name'] = df['store_name'].apply(lambda x: x.lower().title() if type(x) == str else x)\n",
    "df['address'] = df['address'].apply(lambda x: x.lower().title() if type(x) == str else x)\n",
    "df['city'] = df['city'].apply(lambda x: x.lower().title() if type(x) == str else x)\n",
    "df['county'] = df['county'].apply(lambda x: x.lower().title() if type(x) == str else x)\n",
    "df['category_name'] = df['category_name'].apply(lambda x: x.lower().title() if type(x) == str else x)\n",
    "df['vendor_name'] = df['vendor_name'].apply(lambda x: x.lower().upper() if type(x) == str else x)\n",
    "df['item_description'] = df['item_description'].apply(lambda x: x.lower().title() if type(x) == str else x)"
   ]
  },
  {
   "cell_type": "markdown",
   "metadata": {},
   "source": [
    "<p style=\"font-family: Monaco; font-size: 1.3em\">As we can see, probably 6 fields(address, city, zip_code, store_location, county_number, county) can be filled based on store_number. Check this hypothesis</p>"
   ]
  },
  {
   "cell_type": "markdown",
   "metadata": {},
   "source": [
    "<h3 style=\"margin-left: 50px;\"><em>a). Analysis store_name and store_location</em></h3>"
   ]
  },
  {
   "cell_type": "markdown",
   "metadata": {},
   "source": [
    "<p style=\"font-family: Monaco; font-size: 1.3em\">For the first, check one-to-one relation for columns \"store_number\" and \"store_name\"</p>"
   ]
  },
  {
   "cell_type": "code",
   "execution_count": 9,
   "metadata": {},
   "outputs": [
    {
     "name": "stdout",
     "output_type": "stream",
     "text": [
      "(2768, 2)\n",
      "(2521, 1)\n"
     ]
    }
   ],
   "source": [
    "print(df[['store_number', 'store_name']].drop_duplicates().shape)\n",
    "print(df[['store_number']].drop_duplicates().shape)"
   ]
  },
  {
   "cell_type": "markdown",
   "metadata": {},
   "source": [
    "<p style=\"font-family: Monaco; font-size: 1.3em\">It means that one store_number may have several store_name. \n",
    "Okay, then check reverse relations.</p>"
   ]
  },
  {
   "cell_type": "code",
   "execution_count": 10,
   "metadata": {},
   "outputs": [
    {
     "data": {
      "text/html": [
       "<div>\n",
       "<style scoped>\n",
       "    .dataframe tbody tr th:only-of-type {\n",
       "        vertical-align: middle;\n",
       "    }\n",
       "\n",
       "    .dataframe tbody tr th {\n",
       "        vertical-align: top;\n",
       "    }\n",
       "\n",
       "    .dataframe thead th {\n",
       "        text-align: right;\n",
       "    }\n",
       "</style>\n",
       "<table border=\"1\" class=\"dataframe\">\n",
       "  <thead>\n",
       "    <tr style=\"text-align: right;\">\n",
       "      <th></th>\n",
       "      <th>store_name</th>\n",
       "      <th>store_number</th>\n",
       "    </tr>\n",
       "  </thead>\n",
       "  <tbody>\n",
       "    <tr>\n",
       "      <th>2430</th>\n",
       "      <td>Urban Liquor</td>\n",
       "      <td>3</td>\n",
       "    </tr>\n",
       "    <tr>\n",
       "      <th>1212</th>\n",
       "      <td>Heartland Market</td>\n",
       "      <td>3</td>\n",
       "    </tr>\n",
       "    <tr>\n",
       "      <th>2109</th>\n",
       "      <td>Rolfe Area Market</td>\n",
       "      <td>3</td>\n",
       "    </tr>\n",
       "    <tr>\n",
       "      <th>2146</th>\n",
       "      <td>Sauce</td>\n",
       "      <td>3</td>\n",
       "    </tr>\n",
       "    <tr>\n",
       "      <th>1908</th>\n",
       "      <td>New Star / Fort Dodge</td>\n",
       "      <td>3</td>\n",
       "    </tr>\n",
       "    <tr>\n",
       "      <th>...</th>\n",
       "      <td>...</td>\n",
       "      <td>...</td>\n",
       "    </tr>\n",
       "    <tr>\n",
       "      <th>889</th>\n",
       "      <td>Dahl'S / Johnston</td>\n",
       "      <td>1</td>\n",
       "    </tr>\n",
       "    <tr>\n",
       "      <th>890</th>\n",
       "      <td>Dahl'S / Merle Hay</td>\n",
       "      <td>1</td>\n",
       "    </tr>\n",
       "    <tr>\n",
       "      <th>891</th>\n",
       "      <td>Dahl'S / Wdm</td>\n",
       "      <td>1</td>\n",
       "    </tr>\n",
       "    <tr>\n",
       "      <th>892</th>\n",
       "      <td>Dahl'S Foods / Ames</td>\n",
       "      <td>1</td>\n",
       "    </tr>\n",
       "    <tr>\n",
       "      <th>2641</th>\n",
       "      <td>Zapf'S Pronto Market</td>\n",
       "      <td>1</td>\n",
       "    </tr>\n",
       "  </tbody>\n",
       "</table>\n",
       "<p>2642 rows × 2 columns</p>\n",
       "</div>"
      ],
      "text/plain": [
       "                 store_name  store_number\n",
       "2430           Urban Liquor             3\n",
       "1212       Heartland Market             3\n",
       "2109      Rolfe Area Market             3\n",
       "2146                  Sauce             3\n",
       "1908  New Star / Fort Dodge             3\n",
       "...                     ...           ...\n",
       "889       Dahl'S / Johnston             1\n",
       "890      Dahl'S / Merle Hay             1\n",
       "891            Dahl'S / Wdm             1\n",
       "892     Dahl'S Foods / Ames             1\n",
       "2641   Zapf'S Pronto Market             1\n",
       "\n",
       "[2642 rows x 2 columns]"
      ]
     },
     "execution_count": 10,
     "metadata": {},
     "output_type": "execute_result"
    }
   ],
   "source": [
    "df.groupby('store_name').agg({'store_number': 'nunique'}).reset_index().sort_values(by='store_number', ascending=False)"
   ]
  },
  {
   "cell_type": "code",
   "execution_count": 11,
   "metadata": {},
   "outputs": [
    {
     "data": {
      "text/html": [
       "<div>\n",
       "<style scoped>\n",
       "    .dataframe tbody tr th:only-of-type {\n",
       "        vertical-align: middle;\n",
       "    }\n",
       "\n",
       "    .dataframe tbody tr th {\n",
       "        vertical-align: top;\n",
       "    }\n",
       "\n",
       "    .dataframe thead th {\n",
       "        text-align: right;\n",
       "    }\n",
       "</style>\n",
       "<table border=\"1\" class=\"dataframe\">\n",
       "  <thead>\n",
       "    <tr style=\"text-align: right;\">\n",
       "      <th></th>\n",
       "      <th>invoice_and_item_number</th>\n",
       "      <th>date</th>\n",
       "      <th>store_number</th>\n",
       "      <th>store_name</th>\n",
       "      <th>address</th>\n",
       "      <th>city</th>\n",
       "      <th>zip_code</th>\n",
       "      <th>store_location</th>\n",
       "      <th>county_number</th>\n",
       "      <th>county</th>\n",
       "      <th>category</th>\n",
       "      <th>category_name</th>\n",
       "      <th>vendor_number</th>\n",
       "      <th>vendor_name</th>\n",
       "      <th>item_number</th>\n",
       "      <th>item_description</th>\n",
       "      <th>pack</th>\n",
       "      <th>bottle_volume_ml</th>\n",
       "      <th>state_bottle_cost</th>\n",
       "      <th>state_bottle_retail</th>\n",
       "      <th>bottles_sold</th>\n",
       "      <th>sale_dollars</th>\n",
       "      <th>volume_sold_liters</th>\n",
       "      <th>volume_sold_gallons</th>\n",
       "    </tr>\n",
       "  </thead>\n",
       "  <tbody>\n",
       "    <tr>\n",
       "      <th>1075</th>\n",
       "      <td>S10479300051</td>\n",
       "      <td>2013-02-07</td>\n",
       "      <td>4614</td>\n",
       "      <td>Urban Liquor</td>\n",
       "      <td>6401 Douglas Ave Ste 1</td>\n",
       "      <td>Urbandale</td>\n",
       "      <td>50322</td>\n",
       "      <td>POINT (-93.705732 41.629411)</td>\n",
       "      <td>77.000</td>\n",
       "      <td>Polk</td>\n",
       "      <td>1031080.000</td>\n",
       "      <td>Vodka 80 Proof</td>\n",
       "      <td>260.000</td>\n",
       "      <td>DIAGEO AMERICAS</td>\n",
       "      <td>37418</td>\n",
       "      <td>Popov Vodka 80 Prf</td>\n",
       "      <td>6</td>\n",
       "      <td>1750</td>\n",
       "      <td>8.490</td>\n",
       "      <td>12.740</td>\n",
       "      <td>6</td>\n",
       "      <td>76.440</td>\n",
       "      <td>10.500</td>\n",
       "      <td>2.770</td>\n",
       "    </tr>\n",
       "    <tr>\n",
       "      <th>3580</th>\n",
       "      <td>S21810400006</td>\n",
       "      <td>2014-10-15</td>\n",
       "      <td>4939</td>\n",
       "      <td>Urban Liquor</td>\n",
       "      <td>6401 Douglas Ave   Ste 1</td>\n",
       "      <td>Urbandale</td>\n",
       "      <td>50322</td>\n",
       "      <td>POINT (-93.705732 41.629411)</td>\n",
       "      <td>77.000</td>\n",
       "      <td>Polk</td>\n",
       "      <td>1031080.000</td>\n",
       "      <td>Vodka 80 Proof</td>\n",
       "      <td>260.000</td>\n",
       "      <td>DIAGEO AMERICAS</td>\n",
       "      <td>38008</td>\n",
       "      <td>Smirnoff Vodka 80 Prf Pet</td>\n",
       "      <td>6</td>\n",
       "      <td>1750</td>\n",
       "      <td>14.750</td>\n",
       "      <td>22.130</td>\n",
       "      <td>2</td>\n",
       "      <td>44.260</td>\n",
       "      <td>3.500</td>\n",
       "      <td>0.920</td>\n",
       "    </tr>\n",
       "  </tbody>\n",
       "</table>\n",
       "</div>"
      ],
      "text/plain": [
       "     invoice_and_item_number        date  store_number    store_name  \\\n",
       "1075            S10479300051  2013-02-07          4614  Urban Liquor   \n",
       "3580            S21810400006  2014-10-15          4939  Urban Liquor   \n",
       "\n",
       "                       address       city zip_code  \\\n",
       "1075    6401 Douglas Ave Ste 1  Urbandale    50322   \n",
       "3580  6401 Douglas Ave   Ste 1  Urbandale    50322   \n",
       "\n",
       "                    store_location  county_number county    category  \\\n",
       "1075  POINT (-93.705732 41.629411)         77.000   Polk 1031080.000   \n",
       "3580  POINT (-93.705732 41.629411)         77.000   Polk 1031080.000   \n",
       "\n",
       "       category_name  vendor_number      vendor_name item_number  \\\n",
       "1075  Vodka 80 Proof        260.000  DIAGEO AMERICAS       37418   \n",
       "3580  Vodka 80 Proof        260.000  DIAGEO AMERICAS       38008   \n",
       "\n",
       "               item_description  pack  bottle_volume_ml  state_bottle_cost  \\\n",
       "1075         Popov Vodka 80 Prf     6              1750              8.490   \n",
       "3580  Smirnoff Vodka 80 Prf Pet     6              1750             14.750   \n",
       "\n",
       "      state_bottle_retail  bottles_sold  sale_dollars  volume_sold_liters  \\\n",
       "1075               12.740             6        76.440              10.500   \n",
       "3580               22.130             2        44.260               3.500   \n",
       "\n",
       "      volume_sold_gallons  \n",
       "1075                2.770  \n",
       "3580                0.920  "
      ]
     },
     "execution_count": 11,
     "metadata": {},
     "output_type": "execute_result"
    }
   ],
   "source": [
    "df[df['store_name'] == 'Urban Liquor'].head(2)"
   ]
  },
  {
   "cell_type": "markdown",
   "metadata": {},
   "source": [
    "<p style=\"font-family: Monaco; font-size: 1.3em\">As expected, store_name we must use carefully in our conclusions and split by store_number.</p>"
   ]
  },
  {
   "cell_type": "markdown",
   "metadata": {},
   "source": [
    "<h3 style=\"margin-left: 50px;\"><em>b). Analysis city</em></h3>"
   ]
  },
  {
   "cell_type": "markdown",
   "metadata": {},
   "source": [
    "<p style=\"font-family: Monaco; font-size: 1.3em\">Fill n/a city values based on store_number because it's unique.<br>\n",
    "For the first, check if the same shops have different city name.</p>"
   ]
  },
  {
   "cell_type": "code",
   "execution_count": 12,
   "metadata": {},
   "outputs": [
    {
     "name": "stderr",
     "output_type": "stream",
     "text": [
      "<ipython-input-12-8852135ee217>:3: UserWarning: Boolean Series key will be reindexed to match DataFrame index.\n",
      "  merge(df[['store_number', 'city']].drop_duplicates()[df['city'].notnull()], on='store_number', how='left')\n"
     ]
    },
    {
     "data": {
      "text/html": [
       "<div>\n",
       "<style scoped>\n",
       "    .dataframe tbody tr th:only-of-type {\n",
       "        vertical-align: middle;\n",
       "    }\n",
       "\n",
       "    .dataframe tbody tr th {\n",
       "        vertical-align: top;\n",
       "    }\n",
       "\n",
       "    .dataframe thead th {\n",
       "        text-align: right;\n",
       "    }\n",
       "</style>\n",
       "<table border=\"1\" class=\"dataframe\">\n",
       "  <thead>\n",
       "    <tr style=\"text-align: right;\">\n",
       "      <th></th>\n",
       "      <th>store_number</th>\n",
       "      <th>city</th>\n",
       "    </tr>\n",
       "  </thead>\n",
       "  <tbody>\n",
       "    <tr>\n",
       "      <th>0</th>\n",
       "      <td>3782</td>\n",
       "      <td>Guttenberg</td>\n",
       "    </tr>\n",
       "    <tr>\n",
       "      <th>1</th>\n",
       "      <td>3782</td>\n",
       "      <td>Guttenburg</td>\n",
       "    </tr>\n",
       "    <tr>\n",
       "      <th>2</th>\n",
       "      <td>2543</td>\n",
       "      <td>Ottuwma</td>\n",
       "    </tr>\n",
       "    <tr>\n",
       "      <th>3</th>\n",
       "      <td>2543</td>\n",
       "      <td>Ottumwa</td>\n",
       "    </tr>\n",
       "    <tr>\n",
       "      <th>4</th>\n",
       "      <td>4668</td>\n",
       "      <td>Clear Lake</td>\n",
       "    </tr>\n",
       "    <tr>\n",
       "      <th>5</th>\n",
       "      <td>4668</td>\n",
       "      <td>Clearlake</td>\n",
       "    </tr>\n",
       "    <tr>\n",
       "      <th>6</th>\n",
       "      <td>3456</td>\n",
       "      <td>Clear Lake</td>\n",
       "    </tr>\n",
       "    <tr>\n",
       "      <th>7</th>\n",
       "      <td>3456</td>\n",
       "      <td>Clearlake</td>\n",
       "    </tr>\n",
       "    <tr>\n",
       "      <th>8</th>\n",
       "      <td>3822</td>\n",
       "      <td>Swisher</td>\n",
       "    </tr>\n",
       "    <tr>\n",
       "      <th>9</th>\n",
       "      <td>3822</td>\n",
       "      <td>Shueyville</td>\n",
       "    </tr>\n",
       "    <tr>\n",
       "      <th>10</th>\n",
       "      <td>3742</td>\n",
       "      <td>Lemars</td>\n",
       "    </tr>\n",
       "    <tr>\n",
       "      <th>11</th>\n",
       "      <td>3742</td>\n",
       "      <td>Le Mars</td>\n",
       "    </tr>\n",
       "    <tr>\n",
       "      <th>12</th>\n",
       "      <td>5300</td>\n",
       "      <td>Otumwa</td>\n",
       "    </tr>\n",
       "    <tr>\n",
       "      <th>13</th>\n",
       "      <td>5300</td>\n",
       "      <td>Ottumwa</td>\n",
       "    </tr>\n",
       "    <tr>\n",
       "      <th>14</th>\n",
       "      <td>9911</td>\n",
       "      <td>Grimes</td>\n",
       "    </tr>\n",
       "    <tr>\n",
       "      <th>15</th>\n",
       "      <td>9911</td>\n",
       "      <td>Urbandale</td>\n",
       "    </tr>\n",
       "    <tr>\n",
       "      <th>16</th>\n",
       "      <td>2604</td>\n",
       "      <td>Lemars</td>\n",
       "    </tr>\n",
       "    <tr>\n",
       "      <th>17</th>\n",
       "      <td>2604</td>\n",
       "      <td>Le Mars</td>\n",
       "    </tr>\n",
       "  </tbody>\n",
       "</table>\n",
       "</div>"
      ],
      "text/plain": [
       "    store_number        city\n",
       "0           3782  Guttenberg\n",
       "1           3782  Guttenburg\n",
       "2           2543     Ottuwma\n",
       "3           2543     Ottumwa\n",
       "4           4668  Clear Lake\n",
       "5           4668   Clearlake\n",
       "6           3456  Clear Lake\n",
       "7           3456   Clearlake\n",
       "8           3822     Swisher\n",
       "9           3822  Shueyville\n",
       "10          3742      Lemars\n",
       "11          3742     Le Mars\n",
       "12          5300      Otumwa\n",
       "13          5300     Ottumwa\n",
       "14          9911      Grimes\n",
       "15          9911   Urbandale\n",
       "16          2604      Lemars\n",
       "17          2604     Le Mars"
      ]
     },
     "execution_count": 12,
     "metadata": {},
     "output_type": "execute_result"
    }
   ],
   "source": [
    "df.groupby('store_number').agg({'city': 'nunique'}).reset_index().\\\n",
    "                sort_values(by='city', ascending=False).query('city > 1').drop(columns='city').\\\n",
    "                merge(df[['store_number', 'city']].drop_duplicates()[df['city'].notnull()], on='store_number', how='left')"
   ]
  },
  {
   "cell_type": "markdown",
   "metadata": {},
   "source": [
    "<p style=\"font-family: Monaco; font-size: 1.3em\">As we can see, store '3822' and store '9911' have different city. Google it. Store '3822' located in Shueyville but store '9911' has the different adress into the different city. Fill n/a 50 rows randomly.</p>"
   ]
  },
  {
   "cell_type": "code",
   "execution_count": 13,
   "metadata": {},
   "outputs": [],
   "source": [
    "df['store_number'] = df['store_number'].astype('str')"
   ]
  },
  {
   "cell_type": "code",
   "execution_count": 14,
   "metadata": {},
   "outputs": [],
   "source": [
    "#For store #3822\n",
    "df.loc[df['store_number'] == '3822', 'city'] = 'Shueyville'\n",
    "#For store #9911\n",
    "df.loc[(df['store_number'] == '9911')&(df['city'].isnull()), 'city'] =\\\n",
    "                    df.loc[(df['store_number'] == '9911')&(df['city'].isnull()), 'city'].\\\n",
    "                    apply(lambda x: np.random.choice(['Grimes', 'Urbandale']))"
   ]
  },
  {
   "cell_type": "markdown",
   "metadata": {},
   "source": [
    "<p style=\"font-family: Monaco; font-size: 1.3em\">For the next, manually find mistake similar <em>'Guttenberg'</em> and <em>'Guttenburg'</em> based on same name and Zip_code.</p>"
   ]
  },
  {
   "cell_type": "code",
   "execution_count": 15,
   "metadata": {},
   "outputs": [],
   "source": [
    "df.loc[df['city'] == \"Arnold'S Park\",'city'] = df.loc[df['city'] == \"Arnold'S Park\",'city'].\\\n",
    "                                                         apply(lambda x: 'Arnolds Park')\n",
    "df.loc[df['city'] == \"Clearlake\",'city'] = df.loc[df['city'] == \"Clearlake\",'city'].apply(lambda x: 'Clear Lake')\n",
    "df.loc[df['city'] == \"Fort Atkinson\",'city'] = df.loc[df['city'] == \"Fort Atkinson\",'city'].apply(lambda x: 'Ft. Atkinson')\n",
    "df.loc[df['city'] == \"Grand Mounds\",'city'] = df.loc[df['city'] == \"Grand Mounds\",'city'].apply(lambda x: 'Grand Mound')\n",
    "df.loc[df['city'] == \"Guttenburg\",'city'] = df.loc[df['city'] == \"Guttenburg\",'city'].apply(lambda x: 'Guttenberg')\n",
    "df.loc[df['city'] == \"Leclaire\",'city'] = df.loc[df['city'] == \"Leclaire\",'city'].apply(lambda x: 'Le Claire')\n",
    "df.loc[df['city'] == \"Lemars\",'city'] = df.loc[df['city'] == \"Lemars\",'city'].apply(lambda x: 'Le Mars')\n",
    "df.loc[df['city'] == \"Mount Pleasant\",'city'] = df.loc[df['city'] == \"Mount Pleasant\",'city'].apply(lambda x: 'Mt Pleasant')\n",
    "df.loc[df['city'] == \"Mount Vernon\",'city'] = df.loc[df['city'] == \"Mount Vernon\",'city'].apply(lambda x: 'Mt Vernon')\n",
    "df.loc[df['city'] == \"Otumwa\",'city'] = df.loc[df['city'] == \"Otumwa\",'city'].apply(lambda x: 'Ottumwa')\n",
    "df.loc[df['city'] == \"Ottuwma\",'city'] = df.loc[df['city'] == \"Ottuwma\",'city'].apply(lambda x: 'Ottumwa')\n",
    "df.loc[df['city'] == \"Saint Ansgar\",'city'] = df.loc[df['city'] == \"Saint Ansgar\",'city'].apply(lambda x: 'St Ansgar')"
   ]
  },
  {
   "cell_type": "markdown",
   "metadata": {},
   "source": [
    "<p style=\"font-family: Monaco; font-size: 1.3em\"><strong>Split table df into two batches: with null city and not null. Create table from batch with not null city and use table as dictionary for table with null city. Fill n/a value and concat two batches.</strong></p>"
   ]
  },
  {
   "cell_type": "code",
   "execution_count": 16,
   "metadata": {},
   "outputs": [
    {
     "name": "stdout",
     "output_type": "stream",
     "text": [
      "(78420, 24)\n",
      "(78420, 24)\n"
     ]
    }
   ],
   "source": [
    "df_store_num_city = df[['store_number', 'city']][df['city'].notnull()].drop_duplicates().reset_index(drop=True)\n",
    "\n",
    "df_isnull = df.loc[df['city'].isnull()]\n",
    "print(df_isnull.shape)\n",
    "df_notnull = df.loc[~df['city'].isnull()]\n",
    "\n",
    "df_isnull = df_isnull.drop(columns='city')\n",
    "\n",
    "df_isnull = df_isnull.merge(df_store_num_city, how='left', on='store_number')\n",
    "print(df_isnull.shape)\n",
    "\n",
    "df_filled = pd.concat([df_notnull, df_isnull])"
   ]
  },
  {
   "cell_type": "code",
   "execution_count": 17,
   "metadata": {},
   "outputs": [
    {
     "data": {
      "text/html": [
       "<div>\n",
       "<style scoped>\n",
       "    .dataframe tbody tr th:only-of-type {\n",
       "        vertical-align: middle;\n",
       "    }\n",
       "\n",
       "    .dataframe tbody tr th {\n",
       "        vertical-align: top;\n",
       "    }\n",
       "\n",
       "    .dataframe thead th {\n",
       "        text-align: right;\n",
       "    }\n",
       "</style>\n",
       "<table border=\"1\" class=\"dataframe\">\n",
       "  <thead>\n",
       "    <tr style=\"text-align: right;\">\n",
       "      <th></th>\n",
       "      <th>store_number</th>\n",
       "    </tr>\n",
       "    <tr>\n",
       "      <th>store_number</th>\n",
       "      <th></th>\n",
       "    </tr>\n",
       "  </thead>\n",
       "  <tbody>\n",
       "    <tr>\n",
       "      <th>5320</th>\n",
       "      <td>1</td>\n",
       "    </tr>\n",
       "  </tbody>\n",
       "</table>\n",
       "</div>"
      ],
      "text/plain": [
       "              store_number\n",
       "store_number              \n",
       "5320                     1"
      ]
     },
     "execution_count": 17,
     "metadata": {},
     "output_type": "execute_result"
    }
   ],
   "source": [
    "df_filled[df_filled['city'].isnull()][['store_number']].groupby('store_number').agg({'store_number': 'nunique'})"
   ]
  },
  {
   "cell_type": "markdown",
   "metadata": {},
   "source": [
    "<p style=\"font-family: Monaco; font-size: 1.3em\">Drop this store, because we haven't valuable information by this invoices.</p>"
   ]
  },
  {
   "cell_type": "code",
   "execution_count": 18,
   "metadata": {},
   "outputs": [],
   "source": [
    "df_filled = df_filled[df_filled['store_number'] != '5320']\n",
    "df_filled = df_filled.reset_index(drop=True)"
   ]
  },
  {
   "cell_type": "code",
   "execution_count": 19,
   "metadata": {},
   "outputs": [
    {
     "data": {
      "text/plain": [
       "0"
      ]
     },
     "execution_count": 19,
     "metadata": {},
     "output_type": "execute_result"
    }
   ],
   "source": [
    "df_filled['city'].isnull().sum()"
   ]
  },
  {
   "cell_type": "markdown",
   "metadata": {},
   "source": [
    "<h3 style=\"margin-left: 50px;\"><em>c). Fillna address and zip_code</em></h3>"
   ]
  },
  {
   "cell_type": "code",
   "execution_count": 20,
   "metadata": {},
   "outputs": [
    {
     "name": "stdout",
     "output_type": "stream",
     "text": [
      "(79080, 24)\n",
      "(79080, 24)\n"
     ]
    }
   ],
   "source": [
    "df_store_num_city_address = df_filled[['store_number', 'city', 'address']][df_filled['address'].notnull()].\\\n",
    "                                        drop_duplicates(subset=['store_number', 'city'], keep='first').reset_index(drop=True)\n",
    "\n",
    "df_isnull = df_filled.loc[df_filled['address'].isnull()]\n",
    "print(df_isnull.shape)\n",
    "df_notnull = df_filled.loc[~df_filled['address'].isnull()]\n",
    "\n",
    "df_isnull = df_isnull.drop(columns='address')\n",
    "\n",
    "df_isnull = df_isnull.merge(df_store_num_city_address, how='left', on=['store_number', 'city'])\n",
    "print(df_isnull.shape)\n",
    "\n",
    "df_filled = pd.concat([df_notnull, df_isnull])"
   ]
  },
  {
   "cell_type": "code",
   "execution_count": 21,
   "metadata": {},
   "outputs": [
    {
     "data": {
      "text/plain": [
       "1"
      ]
     },
     "execution_count": 21,
     "metadata": {},
     "output_type": "execute_result"
    }
   ],
   "source": [
    "df_filled['address'].isnull().sum()"
   ]
  },
  {
   "cell_type": "code",
   "execution_count": 22,
   "metadata": {},
   "outputs": [
    {
     "data": {
      "text/html": [
       "<div>\n",
       "<style scoped>\n",
       "    .dataframe tbody tr th:only-of-type {\n",
       "        vertical-align: middle;\n",
       "    }\n",
       "\n",
       "    .dataframe tbody tr th {\n",
       "        vertical-align: top;\n",
       "    }\n",
       "\n",
       "    .dataframe thead th {\n",
       "        text-align: right;\n",
       "    }\n",
       "</style>\n",
       "<table border=\"1\" class=\"dataframe\">\n",
       "  <thead>\n",
       "    <tr style=\"text-align: right;\">\n",
       "      <th></th>\n",
       "      <th>invoice_and_item_number</th>\n",
       "      <th>date</th>\n",
       "      <th>store_number</th>\n",
       "      <th>store_name</th>\n",
       "      <th>address</th>\n",
       "      <th>city</th>\n",
       "      <th>zip_code</th>\n",
       "      <th>store_location</th>\n",
       "      <th>county_number</th>\n",
       "      <th>county</th>\n",
       "      <th>category</th>\n",
       "      <th>category_name</th>\n",
       "      <th>vendor_number</th>\n",
       "      <th>vendor_name</th>\n",
       "      <th>item_number</th>\n",
       "      <th>item_description</th>\n",
       "      <th>pack</th>\n",
       "      <th>bottle_volume_ml</th>\n",
       "      <th>state_bottle_cost</th>\n",
       "      <th>state_bottle_retail</th>\n",
       "      <th>bottles_sold</th>\n",
       "      <th>sale_dollars</th>\n",
       "      <th>volume_sold_liters</th>\n",
       "      <th>volume_sold_gallons</th>\n",
       "    </tr>\n",
       "  </thead>\n",
       "  <tbody>\n",
       "    <tr>\n",
       "      <th>499</th>\n",
       "      <td>INV-05674000001</td>\n",
       "      <td>2017-06-22</td>\n",
       "      <td>9932</td>\n",
       "      <td>3-Oaks Distillery, Llc</td>\n",
       "      <td>NaN</td>\n",
       "      <td>Dubuque</td>\n",
       "      <td>52002</td>\n",
       "      <td>POINT (-90.766335 42.516027)</td>\n",
       "      <td>31.000</td>\n",
       "      <td>Dubuque</td>\n",
       "      <td>1011100.000</td>\n",
       "      <td>Blended Whiskies</td>\n",
       "      <td>215.000</td>\n",
       "      <td>3-OAKS DISTILLERY, LLC</td>\n",
       "      <td>27890</td>\n",
       "      <td>3-Oaks Distillery Whiskey</td>\n",
       "      <td>12</td>\n",
       "      <td>750</td>\n",
       "      <td>21.600</td>\n",
       "      <td>32.400</td>\n",
       "      <td>1</td>\n",
       "      <td>388.800</td>\n",
       "      <td>0.750</td>\n",
       "      <td>0.190</td>\n",
       "    </tr>\n",
       "  </tbody>\n",
       "</table>\n",
       "</div>"
      ],
      "text/plain": [
       "    invoice_and_item_number        date store_number              store_name  \\\n",
       "499         INV-05674000001  2017-06-22         9932  3-Oaks Distillery, Llc   \n",
       "\n",
       "    address     city zip_code                store_location  county_number  \\\n",
       "499     NaN  Dubuque    52002  POINT (-90.766335 42.516027)         31.000   \n",
       "\n",
       "      county    category     category_name  vendor_number  \\\n",
       "499  Dubuque 1011100.000  Blended Whiskies        215.000   \n",
       "\n",
       "                vendor_name item_number           item_description  pack  \\\n",
       "499  3-OAKS DISTILLERY, LLC       27890  3-Oaks Distillery Whiskey    12   \n",
       "\n",
       "     bottle_volume_ml  state_bottle_cost  state_bottle_retail  bottles_sold  \\\n",
       "499               750             21.600               32.400             1   \n",
       "\n",
       "     sale_dollars  volume_sold_liters  volume_sold_gallons  \n",
       "499       388.800               0.750                0.190  "
      ]
     },
     "execution_count": 22,
     "metadata": {},
     "output_type": "execute_result"
    }
   ],
   "source": [
    "df_filled[df_filled['address'].isnull()]"
   ]
  },
  {
   "cell_type": "code",
   "execution_count": 23,
   "metadata": {},
   "outputs": [],
   "source": [
    "df_filled.loc[df_filled['store_number'] == '9932', 'address'] = 'address_9932'"
   ]
  },
  {
   "cell_type": "markdown",
   "metadata": {},
   "source": [
    "--------"
   ]
  },
  {
   "cell_type": "code",
   "execution_count": 24,
   "metadata": {},
   "outputs": [
    {
     "name": "stdout",
     "output_type": "stream",
     "text": [
      "(79124, 24)\n",
      "(79124, 24)\n"
     ]
    }
   ],
   "source": [
    "df_store_num_city_zip = df_filled[['store_number', 'city', 'zip_code']][df_filled['zip_code'].notnull()].\\\n",
    "                                        drop_duplicates(subset=['store_number', 'city'], keep='first').reset_index(drop=True)\n",
    "\n",
    "df_isnull = df_filled.loc[df_filled['zip_code'].isnull()]\n",
    "print(df_isnull.shape)\n",
    "df_notnull = df_filled.loc[~df_filled['zip_code'].isnull()]\n",
    "\n",
    "df_isnull = df_isnull.drop(columns='zip_code')\n",
    "\n",
    "df_isnull = df_isnull.merge(df_store_num_city_zip, how='left', on=['store_number', 'city'])\n",
    "print(df_isnull.shape)\n",
    "\n",
    "df_filled = pd.concat([df_notnull, df_isnull])"
   ]
  },
  {
   "cell_type": "code",
   "execution_count": 25,
   "metadata": {},
   "outputs": [
    {
     "data": {
      "text/plain": [
       "0"
      ]
     },
     "execution_count": 25,
     "metadata": {},
     "output_type": "execute_result"
    }
   ],
   "source": [
    "df_filled['zip_code'].isnull().sum()"
   ]
  },
  {
   "cell_type": "markdown",
   "metadata": {},
   "source": [
    "<h3 style=\"margin-left: 50px;\"><em>d). Fillna county and county_number</em></h3>"
   ]
  },
  {
   "cell_type": "markdown",
   "metadata": {},
   "source": [
    "<p style=\"font-family: Monaco; font-size: 1.3em\">Because county and county_number very valuable values, analyze naming of county.</p>"
   ]
  },
  {
   "cell_type": "code",
   "execution_count": 26,
   "metadata": {},
   "outputs": [
    {
     "data": {
      "text/html": [
       "<div>\n",
       "<style scoped>\n",
       "    .dataframe tbody tr th:only-of-type {\n",
       "        vertical-align: middle;\n",
       "    }\n",
       "\n",
       "    .dataframe tbody tr th {\n",
       "        vertical-align: top;\n",
       "    }\n",
       "\n",
       "    .dataframe thead th {\n",
       "        text-align: right;\n",
       "    }\n",
       "</style>\n",
       "<table border=\"1\" class=\"dataframe\">\n",
       "  <thead>\n",
       "    <tr style=\"text-align: right;\">\n",
       "      <th></th>\n",
       "      <th>store_number</th>\n",
       "      <th>county</th>\n",
       "    </tr>\n",
       "  </thead>\n",
       "  <tbody>\n",
       "    <tr>\n",
       "      <th>0</th>\n",
       "      <td>4867</td>\n",
       "      <td>Pottawattamie</td>\n",
       "    </tr>\n",
       "    <tr>\n",
       "      <th>1</th>\n",
       "      <td>4867</td>\n",
       "      <td>Pottawatta</td>\n",
       "    </tr>\n",
       "    <tr>\n",
       "      <th>2</th>\n",
       "      <td>4312</td>\n",
       "      <td>Pottawattamie</td>\n",
       "    </tr>\n",
       "    <tr>\n",
       "      <th>3</th>\n",
       "      <td>4312</td>\n",
       "      <td>Pottawatta</td>\n",
       "    </tr>\n",
       "    <tr>\n",
       "      <th>4</th>\n",
       "      <td>4982</td>\n",
       "      <td>Buena Vist</td>\n",
       "    </tr>\n",
       "    <tr>\n",
       "      <th>...</th>\n",
       "      <td>...</td>\n",
       "      <td>...</td>\n",
       "    </tr>\n",
       "    <tr>\n",
       "      <th>181</th>\n",
       "      <td>3629</td>\n",
       "      <td>Pottawattamie</td>\n",
       "    </tr>\n",
       "    <tr>\n",
       "      <th>182</th>\n",
       "      <td>5182</td>\n",
       "      <td>Pottawatta</td>\n",
       "    </tr>\n",
       "    <tr>\n",
       "      <th>183</th>\n",
       "      <td>5182</td>\n",
       "      <td>Pottawattamie</td>\n",
       "    </tr>\n",
       "    <tr>\n",
       "      <th>184</th>\n",
       "      <td>2290</td>\n",
       "      <td>Buena Vista</td>\n",
       "    </tr>\n",
       "    <tr>\n",
       "      <th>185</th>\n",
       "      <td>2290</td>\n",
       "      <td>Buena Vist</td>\n",
       "    </tr>\n",
       "  </tbody>\n",
       "</table>\n",
       "<p>186 rows × 2 columns</p>\n",
       "</div>"
      ],
      "text/plain": [
       "    store_number         county\n",
       "0           4867  Pottawattamie\n",
       "1           4867     Pottawatta\n",
       "2           4312  Pottawattamie\n",
       "3           4312     Pottawatta\n",
       "4           4982     Buena Vist\n",
       "..           ...            ...\n",
       "181         3629  Pottawattamie\n",
       "182         5182     Pottawatta\n",
       "183         5182  Pottawattamie\n",
       "184         2290    Buena Vista\n",
       "185         2290     Buena Vist\n",
       "\n",
       "[186 rows x 2 columns]"
      ]
     },
     "execution_count": 26,
     "metadata": {},
     "output_type": "execute_result"
    }
   ],
   "source": [
    "df_filled.groupby('store_number').agg({'county': 'nunique'}).reset_index().\\\n",
    "                sort_values(by='county', ascending=False).query('county > 1').drop(columns='county').\\\n",
    "                merge(df_filled[df_filled['county'].notnull()][['store_number', 'county']].\\\n",
    "                drop_duplicates(), on='store_number', how='left')"
   ]
  },
  {
   "cell_type": "markdown",
   "metadata": {},
   "source": [
    "<p style=\"font-family: Monaco; font-size: 1.3em\">As we can see, many county value have similar name but not the same, fix it.</p>"
   ]
  },
  {
   "cell_type": "code",
   "execution_count": 27,
   "metadata": {},
   "outputs": [],
   "source": [
    "df_filled.loc[df_filled['county'] == \"Cerro Gord\", 'county'] = \\\n",
    "                df_filled.loc[df_filled['county'] == \"Cerro Gord\", 'county'].apply(lambda x: 'Cerro Gordo')\n",
    "df_filled.loc[df_filled['county'] == \"Pottawatta\", 'county'] = \\\n",
    "                df_filled.loc[df_filled['county'] == \"Pottawatta\", 'county'].apply(lambda x: 'Pottawattamie')\n",
    "df_filled.loc[df_filled['county'] == \"Buena Vist\", 'county'] = \\\n",
    "                df_filled.loc[df_filled['county'] == \"Buena Vist\", 'county'].apply(lambda x: 'Buena Vista')\n",
    "df_filled.loc[df_filled['county'] == \"Obrien\", 'county'] = \\\n",
    "                df_filled.loc[df_filled['county'] == \"Obrien\", 'county'].apply(lambda x: \"O'Brien\")"
   ]
  },
  {
   "cell_type": "code",
   "execution_count": 28,
   "metadata": {},
   "outputs": [],
   "source": [
    "df_county = df_filled[(df_filled['county'].notnull())&(df_filled['county_number'].notnull())].\\\n",
    "                groupby(['store_number', 'city', 'county', 'county_number']).\\\n",
    "                agg({'store_name': 'count'}).sort_values(by='store_name', ascending=False).reset_index()\n",
    "df_county = df_county.drop_duplicates(subset=['store_number', 'city'], keep='first').reset_index(drop=True)\n",
    "df_county = df_county.drop(columns='store_name')"
   ]
  },
  {
   "cell_type": "code",
   "execution_count": 29,
   "metadata": {},
   "outputs": [
    {
     "name": "stdout",
     "output_type": "stream",
     "text": [
      "(155884, 24)\n",
      "(155884, 24)\n"
     ]
    }
   ],
   "source": [
    "df_isnull = df_filled.loc[(df_filled['county'].isnull())|(df_filled['county_number'].isnull())]\n",
    "print(df_isnull.shape)\n",
    "df_notnull = df_filled.loc[~((df_filled['county'].isnull())|(df_filled['county_number'].isnull()))]\n",
    "\n",
    "df_isnull = df_isnull.drop(columns=['county', 'county_number'])\n",
    "\n",
    "df_isnull = df_isnull.merge(df_county, how='left', on=['store_number', 'city'])\n",
    "print(df_isnull.shape)\n",
    "\n",
    "df_filled = pd.concat([df_notnull, df_isnull])"
   ]
  },
  {
   "cell_type": "code",
   "execution_count": 30,
   "metadata": {},
   "outputs": [
    {
     "data": {
      "text/html": [
       "<div>\n",
       "<style scoped>\n",
       "    .dataframe tbody tr th:only-of-type {\n",
       "        vertical-align: middle;\n",
       "    }\n",
       "\n",
       "    .dataframe tbody tr th {\n",
       "        vertical-align: top;\n",
       "    }\n",
       "\n",
       "    .dataframe thead th {\n",
       "        text-align: right;\n",
       "    }\n",
       "</style>\n",
       "<table border=\"1\" class=\"dataframe\">\n",
       "  <thead>\n",
       "    <tr style=\"text-align: right;\">\n",
       "      <th></th>\n",
       "      <th></th>\n",
       "      <th></th>\n",
       "      <th></th>\n",
       "      <th>store_number</th>\n",
       "    </tr>\n",
       "    <tr>\n",
       "      <th>store_number</th>\n",
       "      <th>address</th>\n",
       "      <th>city</th>\n",
       "      <th>store_name</th>\n",
       "      <th></th>\n",
       "    </tr>\n",
       "  </thead>\n",
       "  <tbody>\n",
       "    <tr>\n",
       "      <th>5220</th>\n",
       "      <th>2771, 4Th St Sw</th>\n",
       "      <th>Mason City</th>\n",
       "      <th>Liquor Tobacco &amp; Grocery / Mason Cit</th>\n",
       "      <td>1</td>\n",
       "    </tr>\n",
       "    <tr>\n",
       "      <th>9936</th>\n",
       "      <th>1685 W Uintah St. #101</th>\n",
       "      <th>Colorado Springs</th>\n",
       "      <th>Dash Events Llc</th>\n",
       "      <td>1</td>\n",
       "    </tr>\n",
       "  </tbody>\n",
       "</table>\n",
       "</div>"
      ],
      "text/plain": [
       "                                                                                           store_number\n",
       "store_number address                city             store_name                                        \n",
       "5220         2771, 4Th St Sw        Mason City       Liquor Tobacco & Grocery / Mason Cit             1\n",
       "9936         1685 W Uintah St. #101 Colorado Springs Dash Events Llc                                  1"
      ]
     },
     "execution_count": 30,
     "metadata": {},
     "output_type": "execute_result"
    }
   ],
   "source": [
    "df_filled[df_filled['county'].isnull()].\\\n",
    "            groupby(['store_number', 'address', 'city', 'store_name']).agg({'store_number': 'nunique'})"
   ]
  },
  {
   "cell_type": "markdown",
   "metadata": {},
   "source": [
    "<p style=\"font-family: Monaco; font-size: 1.3em\">Google it, and fill.</p>"
   ]
  },
  {
   "cell_type": "code",
   "execution_count": 31,
   "metadata": {},
   "outputs": [],
   "source": [
    "df_filled.loc[df_filled['store_number'] == '5220', 'county'] = 'Cerro Gordo'\n",
    "df_filled.loc[df_filled['store_number'] == '5220', 'county_number'] = '17'\n",
    "\n",
    "# And Colorado Springs not in IOWA, drop this rows.\n",
    "df_filled = df_filled[df_filled['city'] != 'Colorado Springs']"
   ]
  },
  {
   "cell_type": "code",
   "execution_count": 32,
   "metadata": {},
   "outputs": [
    {
     "name": "stdout",
     "output_type": "stream",
     "text": [
      "0\n",
      "0\n"
     ]
    }
   ],
   "source": [
    "print(df_filled['county'].isnull().sum())\n",
    "print(df_filled['county_number'].isnull().sum())"
   ]
  },
  {
   "cell_type": "code",
   "execution_count": 33,
   "metadata": {},
   "outputs": [
    {
     "data": {
      "text/plain": [
       "(20348689, 24)"
      ]
     },
     "execution_count": 33,
     "metadata": {},
     "output_type": "execute_result"
    }
   ],
   "source": [
    "# New shape\n",
    "df_filled.shape"
   ]
  },
  {
   "cell_type": "markdown",
   "metadata": {},
   "source": [
    "<h3 style=\"margin-left: 50px;\"><em>d). Fillna store_location</em></h3>"
   ]
  },
  {
   "cell_type": "markdown",
   "metadata": {},
   "source": [
    "<p style=\"font-family: Monaco; font-size: 1.3em\"><strong>Location is a quantitative feature so we must fill cells as much as possible.</strong></p>"
   ]
  },
  {
   "cell_type": "code",
   "execution_count": 34,
   "metadata": {},
   "outputs": [],
   "source": [
    "df_store_location = df_filled[df_filled['store_location'].notnull()]\\\n",
    "                        [['store_number', 'city', 'county', 'store_location']].drop_duplicates().reset_index()"
   ]
  },
  {
   "cell_type": "code",
   "execution_count": 35,
   "metadata": {},
   "outputs": [],
   "source": [
    "df_store_location['store_location_x'] = df_store_location['store_location'].apply(lambda x: x[7:-1].split(' ')[0])\n",
    "df_store_location['store_location_y'] = df_store_location['store_location'].apply(lambda x: x[7:-1].split(' ')[1])\n",
    "df_store_location['store_location_x'] = df_store_location['store_location_x'].astype('float')\n",
    "df_store_location['store_location_y'] = df_store_location['store_location_y'].astype('float')"
   ]
  },
  {
   "cell_type": "markdown",
   "metadata": {},
   "source": [
    "<p style=\"font-family: Monaco; font-size: 1.3em\">Check outliers</p>"
   ]
  },
  {
   "cell_type": "code",
   "execution_count": 36,
   "metadata": {},
   "outputs": [
    {
     "data": {
      "text/html": [
       "<div>\n",
       "<style scoped>\n",
       "    .dataframe tbody tr th:only-of-type {\n",
       "        vertical-align: middle;\n",
       "    }\n",
       "\n",
       "    .dataframe tbody tr th {\n",
       "        vertical-align: top;\n",
       "    }\n",
       "\n",
       "    .dataframe thead th {\n",
       "        text-align: right;\n",
       "    }\n",
       "</style>\n",
       "<table border=\"1\" class=\"dataframe\">\n",
       "  <thead>\n",
       "    <tr style=\"text-align: right;\">\n",
       "      <th></th>\n",
       "      <th>index</th>\n",
       "      <th>store_number</th>\n",
       "      <th>city</th>\n",
       "      <th>county</th>\n",
       "      <th>store_location</th>\n",
       "      <th>store_location_x</th>\n",
       "      <th>store_location_y</th>\n",
       "    </tr>\n",
       "  </thead>\n",
       "  <tbody>\n",
       "    <tr>\n",
       "      <th>2229</th>\n",
       "      <td>165243</td>\n",
       "      <td>5876</td>\n",
       "      <td>West Bend</td>\n",
       "      <td>Palo Alto</td>\n",
       "      <td>POINT (-73.982421 40.305231000000006)</td>\n",
       "      <td>-73.982</td>\n",
       "      <td>40.305</td>\n",
       "    </tr>\n",
       "  </tbody>\n",
       "</table>\n",
       "</div>"
      ],
      "text/plain": [
       "       index store_number       city     county  \\\n",
       "2229  165243         5876  West Bend  Palo Alto   \n",
       "\n",
       "                             store_location  store_location_x  \\\n",
       "2229  POINT (-73.982421 40.305231000000006)           -73.982   \n",
       "\n",
       "      store_location_y  \n",
       "2229            40.305  "
      ]
     },
     "execution_count": 36,
     "metadata": {},
     "output_type": "execute_result"
    }
   ],
   "source": [
    "df_store_location[df_store_location['store_location_x'] > \\\n",
    "                  df_store_location['store_location_x'].mean() + 3 * df_store_location['store_location_x'].std()]"
   ]
  },
  {
   "cell_type": "code",
   "execution_count": 37,
   "metadata": {},
   "outputs": [
    {
     "data": {
      "text/html": [
       "<div>\n",
       "<style scoped>\n",
       "    .dataframe tbody tr th:only-of-type {\n",
       "        vertical-align: middle;\n",
       "    }\n",
       "\n",
       "    .dataframe tbody tr th {\n",
       "        vertical-align: top;\n",
       "    }\n",
       "\n",
       "    .dataframe thead th {\n",
       "        text-align: right;\n",
       "    }\n",
       "</style>\n",
       "<table border=\"1\" class=\"dataframe\">\n",
       "  <thead>\n",
       "    <tr style=\"text-align: right;\">\n",
       "      <th></th>\n",
       "      <th>index</th>\n",
       "      <th>store_number</th>\n",
       "      <th>city</th>\n",
       "      <th>county</th>\n",
       "      <th>store_location</th>\n",
       "      <th>store_location_x</th>\n",
       "      <th>store_location_y</th>\n",
       "    </tr>\n",
       "  </thead>\n",
       "  <tbody>\n",
       "    <tr>\n",
       "      <th>1235</th>\n",
       "      <td>6472</td>\n",
       "      <td>4722</td>\n",
       "      <td>Burlington</td>\n",
       "      <td>Des Moines</td>\n",
       "      <td>POINT (-95.79728 45.009612)</td>\n",
       "      <td>-95.797</td>\n",
       "      <td>45.010</td>\n",
       "    </tr>\n",
       "  </tbody>\n",
       "</table>\n",
       "</div>"
      ],
      "text/plain": [
       "      index store_number        city      county               store_location  \\\n",
       "1235   6472         4722  Burlington  Des Moines  POINT (-95.79728 45.009612)   \n",
       "\n",
       "      store_location_x  store_location_y  \n",
       "1235           -95.797            45.010  "
      ]
     },
     "execution_count": 37,
     "metadata": {},
     "output_type": "execute_result"
    }
   ],
   "source": [
    "df_store_location[df_store_location['store_location_y'] > \\\n",
    "                  df_store_location['store_location_y'].mean() + 3 * df_store_location['store_location_y'].std()]"
   ]
  },
  {
   "cell_type": "markdown",
   "metadata": {},
   "source": [
    "<p style=\"font-family: Monaco; font-size: 1.3em\">Google real coordinates and change values.</p>"
   ]
  },
  {
   "cell_type": "code",
   "execution_count": 38,
   "metadata": {},
   "outputs": [],
   "source": [
    "df_filled.loc[df_filled['store_number'] == '5876', 'store_location'] = 'POINT (-94.445100 42.960000)'\n",
    "df_filled.loc[df_filled['store_number'] == '4722', 'store_location'] = 'POINT (-91.112900 40.807700)'"
   ]
  },
  {
   "cell_type": "code",
   "execution_count": 39,
   "metadata": {},
   "outputs": [],
   "source": [
    "df_store_location = df_filled[df_filled['store_location'].notnull()]\\\n",
    "                        [['store_number', 'city', 'county', 'store_location']].drop_duplicates().reset_index(drop=True)\n",
    "df_store_location['store_location_x'] = df_store_location['store_location'].apply(lambda x: x[7:-1].split(' ')[0])\n",
    "df_store_location['store_location_y'] = df_store_location['store_location'].apply(lambda x: x[7:-1].split(' ')[1])\n",
    "df_store_location['store_location_x'] = df_store_location['store_location_x'].astype('float')\n",
    "df_store_location['store_location_y'] = df_store_location['store_location_y'].astype('float')"
   ]
  },
  {
   "cell_type": "code",
   "execution_count": 40,
   "metadata": {},
   "outputs": [],
   "source": [
    "df_isnull = df_filled.loc[(df_filled['store_location'].isnull())]\n",
    "df_notnull = df_filled.loc[~(df_filled['store_location'].isnull())]"
   ]
  },
  {
   "cell_type": "code",
   "execution_count": 41,
   "metadata": {},
   "outputs": [
    {
     "data": {
      "text/plain": [
       "(1951030, 24)"
      ]
     },
     "execution_count": 41,
     "metadata": {},
     "output_type": "execute_result"
    }
   ],
   "source": [
    "df_isnull.shape"
   ]
  },
  {
   "cell_type": "markdown",
   "metadata": {},
   "source": [
    "<p style=\"font-family: Monaco; font-size: 1.3em\">Join nulled by store_num. If we can see nulled field again then join by avg by city else join by avg by county.</p>"
   ]
  },
  {
   "cell_type": "code",
   "execution_count": 42,
   "metadata": {},
   "outputs": [
    {
     "name": "stdout",
     "output_type": "stream",
     "text": [
      "(1951030, 24)\n"
     ]
    }
   ],
   "source": [
    "df_store_location_by_store = df_store_location[['store_number', 'city', 'store_location']].\\\n",
    "                            drop_duplicates(subset=['store_number', 'city'], keep='first')\n",
    "df_isnull = df_isnull.drop(columns='store_location').\\\n",
    "                            merge(df_store_location_by_store, on=['store_number', 'city'], how='left')\n",
    "print(df_isnull.shape)\n",
    "df_isnull_container = df_isnull.loc[~(df_isnull['store_location'].isnull())]"
   ]
  },
  {
   "cell_type": "code",
   "execution_count": 43,
   "metadata": {},
   "outputs": [
    {
     "data": {
      "text/plain": [
       "(1758555, 24)"
      ]
     },
     "execution_count": 43,
     "metadata": {},
     "output_type": "execute_result"
    }
   ],
   "source": [
    "df_isnull = df_isnull.loc[(df_isnull['store_location'].isnull())]\n",
    "df_isnull.shape"
   ]
  },
  {
   "cell_type": "code",
   "execution_count": 44,
   "metadata": {},
   "outputs": [
    {
     "name": "stdout",
     "output_type": "stream",
     "text": [
      "(1758555, 24)\n"
     ]
    }
   ],
   "source": [
    "df_store_location_by_city = df_store_location[['city', 'store_location_x', 'store_location_y']].\\\n",
    "                            groupby('city').agg({'store_location_x': 'mean', 'store_location_y': 'mean'}).reset_index()\n",
    "df_store_location_by_city['store_location_x'] = df_store_location_by_city['store_location_x'].astype('str')\n",
    "df_store_location_by_city['store_location_y'] = df_store_location_by_city['store_location_y'].astype('str')\n",
    "df_store_location_by_city['store_location'] = df_store_location_by_city[['store_location_x', 'store_location_y']].\\\n",
    "                                        agg(' '.join, axis=1).apply(lambda x: 'POINT ('+x+')')\n",
    "df_store_location_by_city = df_store_location_by_city.drop(columns=['store_location_x', 'store_location_y'])\n",
    "df_isnull = df_isnull.drop(columns='store_location').\\\n",
    "                            merge(df_store_location_by_city, on=['city'], how='left')\n",
    "print(df_isnull.shape)\n",
    "df_isnull_container = pd.concat([df_isnull_container, df_isnull.loc[~(df_isnull['store_location'].isnull())]])"
   ]
  },
  {
   "cell_type": "code",
   "execution_count": 45,
   "metadata": {},
   "outputs": [
    {
     "data": {
      "text/plain": [
       "(14654, 24)"
      ]
     },
     "execution_count": 45,
     "metadata": {},
     "output_type": "execute_result"
    }
   ],
   "source": [
    "df_isnull = df_isnull.loc[(df_isnull['store_location'].isnull())]\n",
    "df_isnull.shape"
   ]
  },
  {
   "cell_type": "code",
   "execution_count": 46,
   "metadata": {},
   "outputs": [],
   "source": [
    "store_location = \\\n",
    "   'POINT (' + str(df_store_location['store_location_x'].mean()) +' '+ str(df_store_location['store_location_y'].mean()) +')'\n",
    "df_isnull['store_location'] = store_location\n",
    "df_isnull_container = pd.concat([df_isnull_container, df_isnull])"
   ]
  },
  {
   "cell_type": "code",
   "execution_count": 47,
   "metadata": {},
   "outputs": [
    {
     "name": "stdout",
     "output_type": "stream",
     "text": [
      "(1951030, 24)\n",
      "(20348689, 24)\n"
     ]
    }
   ],
   "source": [
    "print(df_isnull_container.shape)\n",
    "df_filled = pd.concat([df_notnull, df_isnull_container])\n",
    "print(df_filled.shape)"
   ]
  },
  {
   "cell_type": "code",
   "execution_count": 48,
   "metadata": {},
   "outputs": [
    {
     "name": "stdout",
     "output_type": "stream",
     "text": [
      "0\n"
     ]
    }
   ],
   "source": [
    "print(df_filled['store_location'].isnull().sum())"
   ]
  },
  {
   "cell_type": "code",
   "execution_count": 49,
   "metadata": {},
   "outputs": [],
   "source": [
    "df_filled = df_filled.reset_index(drop=True)"
   ]
  },
  {
   "cell_type": "markdown",
   "metadata": {},
   "source": [
    "<h3 style=\"margin-left: 50px;\"><em>e). Fillna vendor_number and vendor_name</em></h3>"
   ]
  },
  {
   "cell_type": "code",
   "execution_count": 50,
   "metadata": {},
   "outputs": [
    {
     "data": {
      "text/html": [
       "<div>\n",
       "<style scoped>\n",
       "    .dataframe tbody tr th:only-of-type {\n",
       "        vertical-align: middle;\n",
       "    }\n",
       "\n",
       "    .dataframe tbody tr th {\n",
       "        vertical-align: top;\n",
       "    }\n",
       "\n",
       "    .dataframe thead th {\n",
       "        text-align: right;\n",
       "    }\n",
       "</style>\n",
       "<table border=\"1\" class=\"dataframe\">\n",
       "  <thead>\n",
       "    <tr style=\"text-align: right;\">\n",
       "      <th></th>\n",
       "      <th>vendor_number</th>\n",
       "      <th>vendor_name</th>\n",
       "      <th>item_number</th>\n",
       "      <th>item_description</th>\n",
       "    </tr>\n",
       "  </thead>\n",
       "  <tbody>\n",
       "    <tr>\n",
       "      <th>654606</th>\n",
       "      <td>nan</td>\n",
       "      <td>RESERVOIR DISTILLERY</td>\n",
       "      <td>927565</td>\n",
       "      <td>Reservoir Wheat Whiskey</td>\n",
       "    </tr>\n",
       "    <tr>\n",
       "      <th>5104885</th>\n",
       "      <td>nan</td>\n",
       "      <td>NaN</td>\n",
       "      <td>973449</td>\n",
       "      <td>Dekuyper Blood Orange</td>\n",
       "    </tr>\n",
       "    <tr>\n",
       "      <th>8313089</th>\n",
       "      <td>nan</td>\n",
       "      <td>NaN</td>\n",
       "      <td>910621</td>\n",
       "      <td>Canadian Club Whisky Mini</td>\n",
       "    </tr>\n",
       "    <tr>\n",
       "      <th>16204295</th>\n",
       "      <td>nan</td>\n",
       "      <td>NaN</td>\n",
       "      <td>984151</td>\n",
       "      <td>99 Oranges</td>\n",
       "    </tr>\n",
       "    <tr>\n",
       "      <th>16708893</th>\n",
       "      <td>nan</td>\n",
       "      <td>RESERVOIR DISTILLERY</td>\n",
       "      <td>916456</td>\n",
       "      <td>Reservoir Bourbon Whiskey</td>\n",
       "    </tr>\n",
       "  </tbody>\n",
       "</table>\n",
       "</div>"
      ],
      "text/plain": [
       "          vendor_number           vendor_name item_number  \\\n",
       "654606              nan  RESERVOIR DISTILLERY      927565   \n",
       "5104885             nan                   NaN      973449   \n",
       "8313089             nan                   NaN      910621   \n",
       "16204295            nan                   NaN      984151   \n",
       "16708893            nan  RESERVOIR DISTILLERY      916456   \n",
       "\n",
       "                   item_description  \n",
       "654606      Reservoir Wheat Whiskey  \n",
       "5104885       Dekuyper Blood Orange  \n",
       "8313089   Canadian Club Whisky Mini  \n",
       "16204295                 99 Oranges  \n",
       "16708893  Reservoir Bourbon Whiskey  "
      ]
     },
     "execution_count": 50,
     "metadata": {},
     "output_type": "execute_result"
    }
   ],
   "source": [
    "df_filled[['vendor_number', 'vendor_name', 'item_number', 'item_description']]\\\n",
    "            [(df_filled['vendor_number'].isnull())|(df_filled['vendor_name'].isnull())]"
   ]
  },
  {
   "cell_type": "code",
   "execution_count": 51,
   "metadata": {},
   "outputs": [],
   "source": [
    "df_filled.loc[(df_filled['vendor_number'].isnull())|(df_filled['item_description'] == 'Reservoir Wheat Whiskey'),\\\n",
    "                                                         'vendor_number'] = '286.0'\n",
    "df_filled.loc[(df_filled['vendor_number'].isnull())|(df_filled['item_description'] == 'Dekuyper Blood Orange'),\\\n",
    "                                                         'vendor_number'] = '309.0'\n",
    "df_filled.loc[(df_filled['vendor_number'].isnull())|(df_filled['item_description'] == 'Dekuyper Blood Orange'),\\\n",
    "                                                         'vendor_name'] = 'Dekuyper'\n",
    "df_filled.loc[(df_filled['vendor_number'].isnull())|(df_filled['item_description'] == 'Canadian Club Whisky Mini'),\\\n",
    "                                                         'vendor_number'] = '65.0'\n",
    "df_filled.loc[(df_filled['vendor_number'].isnull())|(df_filled['item_description'] == 'Canadian Club Whisky Mini'),\\\n",
    "                                                         'vendor_name'] = 'JIM BEAM BRANDS'\n",
    "df_filled.loc[(df_filled['vendor_number'].isnull())|(df_filled['item_description'] == '99 Oranges'),\\\n",
    "                                                         'vendor_number'] = '55.0'\n",
    "df_filled.loc[(df_filled['vendor_number'].isnull())|(df_filled['item_description'] == '99 Oranges'),\\\n",
    "                                                         'vendor_name'] = 'SAZERAC NORTH AMERICA'"
   ]
  },
  {
   "cell_type": "code",
   "execution_count": 52,
   "metadata": {},
   "outputs": [],
   "source": [
    "df_filled = df_filled.reset_index(drop=True)"
   ]
  },
  {
   "cell_type": "markdown",
   "metadata": {},
   "source": [
    "<h3 style=\"margin-left: 50px;\"><em>f). Fillna category and category_name</em></h3>"
   ]
  },
  {
   "cell_type": "code",
   "execution_count": 53,
   "metadata": {},
   "outputs": [],
   "source": [
    "df_isnull = df_filled.loc[(df_filled['category'].isnull())|(df_filled['category_name'].isnull())]\n",
    "df_notnull = df_filled.loc[~((df_filled['category'].isnull())|(df_filled['category_name'].isnull()))]"
   ]
  },
  {
   "cell_type": "code",
   "execution_count": 54,
   "metadata": {},
   "outputs": [],
   "source": [
    "df_category = df_notnull[['item_description', 'category', 'category_name']].\\\n",
    "                        drop_duplicates(subset=['item_description'], keep='first')\n",
    "df_isnull = df_isnull.drop(columns=['category', 'category_name']).merge(df_category, how='left', on=['item_description'])"
   ]
  },
  {
   "cell_type": "markdown",
   "metadata": {},
   "source": [
    "<p style=\"font-family: Monaco; font-size: 1.3em\">Fill remaining categories as '-'.</p>"
   ]
  },
  {
   "cell_type": "code",
   "execution_count": 55,
   "metadata": {},
   "outputs": [],
   "source": [
    "df_isnull['category'] = df_isnull['category'].fillna('-')\n",
    "df_isnull['category_name'] = df_isnull['category_name'].fillna('-')"
   ]
  },
  {
   "cell_type": "code",
   "execution_count": 56,
   "metadata": {},
   "outputs": [],
   "source": [
    "df_filled = pd.concat([df_notnull, df_isnull])"
   ]
  },
  {
   "cell_type": "code",
   "execution_count": 57,
   "metadata": {},
   "outputs": [],
   "source": [
    "df_filled = df_filled.reset_index(drop=True)"
   ]
  },
  {
   "cell_type": "markdown",
   "metadata": {},
   "source": [
    "<h3 style=\"margin-left: 50px;\"><em>g). Fillna state_bottle_cost, state_bottle_retail, sale_dollars</em></h3>"
   ]
  },
  {
   "cell_type": "code",
   "execution_count": 58,
   "metadata": {},
   "outputs": [],
   "source": [
    "df_isnull = df_filled.loc[((df_filled['state_bottle_cost'].isnull())|\\\n",
    "              (df_filled['state_bottle_retail'].isnull())|(df_filled['sale_dollars'].isnull()))]\n",
    "df_notnull = df_filled.loc[~((df_filled['state_bottle_cost'].isnull())|\\\n",
    "              (df_filled['state_bottle_retail'].isnull())|(df_filled['sale_dollars'].isnull()))]"
   ]
  },
  {
   "cell_type": "code",
   "execution_count": 59,
   "metadata": {},
   "outputs": [],
   "source": [
    "df_bottle_cost = df_notnull[['item_description', 'store_number', 'state_bottle_cost', 'state_bottle_retail']].\\\n",
    "                        drop_duplicates(subset=['item_description', 'store_number'], keep='first')"
   ]
  },
  {
   "cell_type": "code",
   "execution_count": 60,
   "metadata": {},
   "outputs": [],
   "source": [
    "df_isnull = df_isnull.drop(columns=['state_bottle_cost', 'state_bottle_retail']).\\\n",
    "                merge(df_bottle_cost, on=['item_description', 'store_number'], how='left')\n",
    "df_isnull['state_bottle_cost'] = df_isnull['state_bottle_cost'].fillna(12.8)\n",
    "df_isnull['state_bottle_retail'] = df_isnull['state_bottle_cost'].fillna(19.2)\n",
    "df_isnull['sale_dollars'] = df_isnull['state_bottle_retail'] * df_isnull['bottles_sold']"
   ]
  },
  {
   "cell_type": "code",
   "execution_count": 61,
   "metadata": {},
   "outputs": [],
   "source": [
    "df_filled = pd.concat([df_notnull, df_isnull])\n",
    "df_filled = df_filled.reset_index(drop=True)"
   ]
  },
  {
   "cell_type": "code",
   "execution_count": 62,
   "metadata": {},
   "outputs": [
    {
     "data": {
      "text/plain": [
       "invoice_and_item_number    0\n",
       "date                       0\n",
       "store_number               0\n",
       "store_name                 0\n",
       "address                    0\n",
       "city                       0\n",
       "zip_code                   0\n",
       "store_location             0\n",
       "county_number              0\n",
       "county                     0\n",
       "category                   0\n",
       "category_name              0\n",
       "vendor_number              0\n",
       "vendor_name                0\n",
       "item_number                0\n",
       "item_description           0\n",
       "pack                       0\n",
       "bottle_volume_ml           0\n",
       "state_bottle_cost          0\n",
       "state_bottle_retail        0\n",
       "bottles_sold               0\n",
       "sale_dollars               0\n",
       "volume_sold_liters         0\n",
       "volume_sold_gallons        0\n",
       "dtype: int64"
      ]
     },
     "execution_count": 62,
     "metadata": {},
     "output_type": "execute_result"
    }
   ],
   "source": [
    "df_filled.isnull().sum()"
   ]
  },
  {
   "cell_type": "markdown",
   "metadata": {},
   "source": [
    "<div style=\"font-family: Monaco; font-size: 1.1em\">\n",
    "    <h3 style=\"color: IndianRed\"><em><strong>Conclusions: \n",
    "        <ul>\n",
    "            <li>Dropped only two rows, beacause they didn't belong to the IOWA and only 847 without valuable informations</li>\n",
    "            <li>Well filled numerical variables and city</li>\n",
    "            <li>Store locations cleared of anomalies</li>\n",
    "            <li>Fixed some string mistakes county and this enables us to do analytics in the context county</li>\n",
    "        </ul>\n",
    "    </strong></em></h3>\n",
    "</div>"
   ]
  },
  {
   "cell_type": "markdown",
   "metadata": {},
   "source": [
    "<h2><ul><li><strong>Anomalies/Outliers</strong></li></ul></h2>"
   ]
  },
  {
   "cell_type": "markdown",
   "metadata": {},
   "source": [
    "<h3 style=\"margin-left: 50px;\"><em>a). Change all column with avaluable numeric information to date, float or int types</em></h3>"
   ]
  },
  {
   "cell_type": "code",
   "execution_count": 63,
   "metadata": {},
   "outputs": [],
   "source": [
    "df_filled['date'] = pd.to_datetime(df_filled['date'])\n",
    "df_filled['county_number'] = df_filled['county_number'].astype('int')\n",
    "df_filled['store_location_W'] = df_filled['store_location'].apply(lambda x: float(x[7:-1].split(' ')[0]))\n",
    "df_filled['store_location_N'] = df_filled['store_location'].apply(lambda x: float(x[7:-1].split(' ')[1]))\n",
    "df_filled['pack'] = df_filled['pack'].astype('int')\n",
    "df_filled['bottle_volume_ml'] = df_filled['bottle_volume_ml'].astype('int')\n",
    "df_filled['state_bottle_cost'] = df_filled['state_bottle_cost'].astype('float')\n",
    "df_filled['state_bottle_retail'] = df_filled['state_bottle_retail'].astype('float')\n",
    "df_filled['bottles_sold'] = df_filled['bottles_sold'].astype('float')\n",
    "df_filled['sale_dollars'] = df_filled['sale_dollars'].astype('float')\n",
    "df_filled['volume_sold_liters'] = df_filled['volume_sold_liters'].astype('float')\n",
    "df_filled['volume_sold_gallons'] = df_filled['volume_sold_gallons'].astype('float')"
   ]
  },
  {
   "cell_type": "markdown",
   "metadata": {},
   "source": [
    "<p style=\"font-family: Monaco; font-size: 1.3em\">In a zip_code we have \"invalid literal for int() with base 10: '712-2'\". Fix it with google.</p>"
   ]
  },
  {
   "cell_type": "code",
   "execution_count": 64,
   "metadata": {},
   "outputs": [],
   "source": [
    "df_filled.loc[df_filled['zip_code'] == '712-2', 'zip_code'] = '51529'\n",
    "df_filled['zip_code'] = df_filled['zip_code'].astype('int')"
   ]
  },
  {
   "cell_type": "markdown",
   "metadata": {},
   "source": [
    "<h3 style=\"margin-left: 50px;\"><em>b). Describe table and check nulled values </em></h3>"
   ]
  },
  {
   "cell_type": "code",
   "execution_count": 65,
   "metadata": {},
   "outputs": [
    {
     "data": {
      "text/html": [
       "<div>\n",
       "<style scoped>\n",
       "    .dataframe tbody tr th:only-of-type {\n",
       "        vertical-align: middle;\n",
       "    }\n",
       "\n",
       "    .dataframe tbody tr th {\n",
       "        vertical-align: top;\n",
       "    }\n",
       "\n",
       "    .dataframe thead th {\n",
       "        text-align: right;\n",
       "    }\n",
       "</style>\n",
       "<table border=\"1\" class=\"dataframe\">\n",
       "  <thead>\n",
       "    <tr style=\"text-align: right;\">\n",
       "      <th></th>\n",
       "      <th>zip_code</th>\n",
       "      <th>county_number</th>\n",
       "      <th>pack</th>\n",
       "      <th>bottle_volume_ml</th>\n",
       "      <th>state_bottle_cost</th>\n",
       "      <th>state_bottle_retail</th>\n",
       "      <th>bottles_sold</th>\n",
       "      <th>sale_dollars</th>\n",
       "      <th>volume_sold_liters</th>\n",
       "      <th>volume_sold_gallons</th>\n",
       "      <th>store_location_W</th>\n",
       "      <th>store_location_N</th>\n",
       "    </tr>\n",
       "  </thead>\n",
       "  <tbody>\n",
       "    <tr>\n",
       "      <th>count</th>\n",
       "      <td>20348689.000</td>\n",
       "      <td>20348689.000</td>\n",
       "      <td>20348689.000</td>\n",
       "      <td>20348689.000</td>\n",
       "      <td>20348689.000</td>\n",
       "      <td>20348689.000</td>\n",
       "      <td>20348689.000</td>\n",
       "      <td>20348689.000</td>\n",
       "      <td>20348689.000</td>\n",
       "      <td>20348689.000</td>\n",
       "      <td>20348689.000</td>\n",
       "      <td>20348689.000</td>\n",
       "    </tr>\n",
       "    <tr>\n",
       "      <th>mean</th>\n",
       "      <td>51265.876</td>\n",
       "      <td>57.306</td>\n",
       "      <td>12.269</td>\n",
       "      <td>908.884</td>\n",
       "      <td>9.975</td>\n",
       "      <td>14.977</td>\n",
       "      <td>10.363</td>\n",
       "      <td>135.747</td>\n",
       "      <td>9.136</td>\n",
       "      <td>2.412</td>\n",
       "      <td>-93.016</td>\n",
       "      <td>41.955</td>\n",
       "    </tr>\n",
       "    <tr>\n",
       "      <th>std</th>\n",
       "      <td>988.952</td>\n",
       "      <td>27.279</td>\n",
       "      <td>7.677</td>\n",
       "      <td>660.432</td>\n",
       "      <td>10.717</td>\n",
       "      <td>16.075</td>\n",
       "      <td>28.086</td>\n",
       "      <td>469.729</td>\n",
       "      <td>33.815</td>\n",
       "      <td>8.933</td>\n",
       "      <td>1.632</td>\n",
       "      <td>0.638</td>\n",
       "    </tr>\n",
       "    <tr>\n",
       "      <th>min</th>\n",
       "      <td>50002.000</td>\n",
       "      <td>1.000</td>\n",
       "      <td>1.000</td>\n",
       "      <td>0.000</td>\n",
       "      <td>0.000</td>\n",
       "      <td>0.000</td>\n",
       "      <td>0.000</td>\n",
       "      <td>0.000</td>\n",
       "      <td>0.000</td>\n",
       "      <td>0.000</td>\n",
       "      <td>-96.563</td>\n",
       "      <td>40.394</td>\n",
       "    </tr>\n",
       "    <tr>\n",
       "      <th>25%</th>\n",
       "      <td>50316.000</td>\n",
       "      <td>31.000</td>\n",
       "      <td>6.000</td>\n",
       "      <td>750.000</td>\n",
       "      <td>5.500</td>\n",
       "      <td>8.250</td>\n",
       "      <td>3.000</td>\n",
       "      <td>31.500</td>\n",
       "      <td>1.500</td>\n",
       "      <td>0.400</td>\n",
       "      <td>-93.790</td>\n",
       "      <td>41.562</td>\n",
       "    </tr>\n",
       "    <tr>\n",
       "      <th>50%</th>\n",
       "      <td>51101.000</td>\n",
       "      <td>62.000</td>\n",
       "      <td>12.000</td>\n",
       "      <td>750.000</td>\n",
       "      <td>8.250</td>\n",
       "      <td>12.370</td>\n",
       "      <td>6.000</td>\n",
       "      <td>72.000</td>\n",
       "      <td>5.000</td>\n",
       "      <td>1.320</td>\n",
       "      <td>-93.202</td>\n",
       "      <td>41.764</td>\n",
       "    </tr>\n",
       "    <tr>\n",
       "      <th>75%</th>\n",
       "      <td>52303.000</td>\n",
       "      <td>77.000</td>\n",
       "      <td>12.000</td>\n",
       "      <td>1000.000</td>\n",
       "      <td>12.070</td>\n",
       "      <td>18.120</td>\n",
       "      <td>12.000</td>\n",
       "      <td>140.640</td>\n",
       "      <td>10.500</td>\n",
       "      <td>2.770</td>\n",
       "      <td>-91.631</td>\n",
       "      <td>42.488</td>\n",
       "    </tr>\n",
       "    <tr>\n",
       "      <th>max</th>\n",
       "      <td>57222.000</td>\n",
       "      <td>99.000</td>\n",
       "      <td>336.000</td>\n",
       "      <td>378000.000</td>\n",
       "      <td>7680.000</td>\n",
       "      <td>11520.000</td>\n",
       "      <td>15000.000</td>\n",
       "      <td>279557.280</td>\n",
       "      <td>15000.000</td>\n",
       "      <td>3962.580</td>\n",
       "      <td>-90.182</td>\n",
       "      <td>43.491</td>\n",
       "    </tr>\n",
       "  </tbody>\n",
       "</table>\n",
       "</div>"
      ],
      "text/plain": [
       "          zip_code  county_number         pack  bottle_volume_ml  \\\n",
       "count 20348689.000   20348689.000 20348689.000      20348689.000   \n",
       "mean     51265.876         57.306       12.269           908.884   \n",
       "std        988.952         27.279        7.677           660.432   \n",
       "min      50002.000          1.000        1.000             0.000   \n",
       "25%      50316.000         31.000        6.000           750.000   \n",
       "50%      51101.000         62.000       12.000           750.000   \n",
       "75%      52303.000         77.000       12.000          1000.000   \n",
       "max      57222.000         99.000      336.000        378000.000   \n",
       "\n",
       "       state_bottle_cost  state_bottle_retail  bottles_sold  sale_dollars  \\\n",
       "count       20348689.000         20348689.000  20348689.000  20348689.000   \n",
       "mean               9.975               14.977        10.363       135.747   \n",
       "std               10.717               16.075        28.086       469.729   \n",
       "min                0.000                0.000         0.000         0.000   \n",
       "25%                5.500                8.250         3.000        31.500   \n",
       "50%                8.250               12.370         6.000        72.000   \n",
       "75%               12.070               18.120        12.000       140.640   \n",
       "max             7680.000            11520.000     15000.000    279557.280   \n",
       "\n",
       "       volume_sold_liters  volume_sold_gallons  store_location_W  \\\n",
       "count        20348689.000         20348689.000      20348689.000   \n",
       "mean                9.136                2.412           -93.016   \n",
       "std                33.815                8.933             1.632   \n",
       "min                 0.000                0.000           -96.563   \n",
       "25%                 1.500                0.400           -93.790   \n",
       "50%                 5.000                1.320           -93.202   \n",
       "75%                10.500                2.770           -91.631   \n",
       "max             15000.000             3962.580           -90.182   \n",
       "\n",
       "       store_location_N  \n",
       "count      20348689.000  \n",
       "mean             41.955  \n",
       "std               0.638  \n",
       "min              40.394  \n",
       "25%              41.562  \n",
       "50%              41.764  \n",
       "75%              42.488  \n",
       "max              43.491  "
      ]
     },
     "execution_count": 65,
     "metadata": {},
     "output_type": "execute_result"
    }
   ],
   "source": [
    "df_filled.describe()"
   ]
  },
  {
   "cell_type": "markdown",
   "metadata": {},
   "source": [
    "<p style=\"font-family: Monaco; font-size: 1.3em\">Fix some mistakes.</p>"
   ]
  },
  {
   "cell_type": "code",
   "execution_count": 66,
   "metadata": {},
   "outputs": [
    {
     "name": "stdout",
     "output_type": "stream",
     "text": [
      "(10, 26)\n"
     ]
    }
   ],
   "source": [
    "df_isnull = df_filled.loc[df_filled['bottle_volume_ml'] == 0]\n",
    "print(df_isnull.shape)\n",
    "df_notnull = df_filled.loc[~(df_filled['bottle_volume_ml'] == 0)]\n",
    "\n",
    "df_isnull = df_isnull.drop(columns='bottle_volume_ml').\\\n",
    "                merge(df_filled[['item_description', 'bottle_volume_ml']].\\\n",
    "                      drop_duplicates(subset='item_description', keep='first'), how='left', on='item_description')\n",
    "median_bottle_volume = df_filled['bottle_volume_ml'].median()\n",
    "df_isnull.loc[df_isnull['bottle_volume_ml'] == 0, 'bottle_volume_ml'] = median_bottle_volume\n",
    "df_isnull['volume_sold_liters'] = df_isnull['bottle_volume_ml']/1000*df_isnull['bottles_sold']\n",
    "df_filled = pd.concat([df_notnull, df_isnull])"
   ]
  },
  {
   "cell_type": "code",
   "execution_count": 67,
   "metadata": {},
   "outputs": [
    {
     "name": "stdout",
     "output_type": "stream",
     "text": [
      "(3084, 26)\n"
     ]
    }
   ],
   "source": [
    "df_isnull = df_filled.loc[df_filled['state_bottle_cost'] == 0]\n",
    "print(df_isnull.shape)\n",
    "df_notnull = df_filled.loc[~(df_filled['state_bottle_cost'] == 0)]\n",
    "\n",
    "df_isnull = df_isnull.drop(columns=['state_bottle_cost', 'state_bottle_retail']).\\\n",
    "                merge(df_filled[['item_description', 'state_bottle_cost', 'state_bottle_retail']].\\\n",
    "                      drop_duplicates(subset='item_description', keep='first'), how='left', on='item_description')\n",
    "median_bottle_cost = df_filled['state_bottle_cost'].median()\n",
    "median_bottle_retail = df_filled['state_bottle_retail'].median()\n",
    "df_isnull.loc[df_isnull['state_bottle_cost'] == 0, 'state_bottle_cost'] = median_bottle_cost\n",
    "df_isnull.loc[df_isnull['state_bottle_cost'] == 0, 'state_bottle_retail'] = median_bottle_retail\n",
    "df_filled = pd.concat([df_notnull, df_isnull])"
   ]
  },
  {
   "cell_type": "code",
   "execution_count": 68,
   "metadata": {},
   "outputs": [],
   "source": [
    "df_filled.loc[df_filled['bottles_sold'] == 0, 'bottles_sold'] = \\\n",
    "                    df_filled[df_filled['bottles_sold'] == 0]['volume_sold_liters']*1000/ \\\n",
    "                    df_filled[df_filled['bottles_sold'] == 0]['bottle_volume_ml']"
   ]
  },
  {
   "cell_type": "code",
   "execution_count": 69,
   "metadata": {},
   "outputs": [],
   "source": [
    "df_filled.loc[df_filled['sale_dollars'] == 0, 'sale_dollars'] = \\\n",
    "                    df_filled[df_filled['sale_dollars'] == 0]['state_bottle_retail']* \\\n",
    "                    df_filled[df_filled['sale_dollars'] == 0]['bottles_sold']"
   ]
  },
  {
   "cell_type": "code",
   "execution_count": 70,
   "metadata": {},
   "outputs": [],
   "source": [
    "df_filled.loc[df_filled['volume_sold_gallons'] == 0, 'volume_sold_gallons'] = \\\n",
    "                    df_filled[df_filled['volume_sold_gallons'] == 0]['volume_sold_liters'] / 3.79"
   ]
  },
  {
   "cell_type": "code",
   "execution_count": 71,
   "metadata": {},
   "outputs": [
    {
     "data": {
      "text/html": [
       "<div>\n",
       "<style scoped>\n",
       "    .dataframe tbody tr th:only-of-type {\n",
       "        vertical-align: middle;\n",
       "    }\n",
       "\n",
       "    .dataframe tbody tr th {\n",
       "        vertical-align: top;\n",
       "    }\n",
       "\n",
       "    .dataframe thead th {\n",
       "        text-align: right;\n",
       "    }\n",
       "</style>\n",
       "<table border=\"1\" class=\"dataframe\">\n",
       "  <thead>\n",
       "    <tr style=\"text-align: right;\">\n",
       "      <th></th>\n",
       "      <th>zip_code</th>\n",
       "      <th>county_number</th>\n",
       "      <th>pack</th>\n",
       "      <th>bottle_volume_ml</th>\n",
       "      <th>state_bottle_cost</th>\n",
       "      <th>state_bottle_retail</th>\n",
       "      <th>bottles_sold</th>\n",
       "      <th>sale_dollars</th>\n",
       "      <th>volume_sold_liters</th>\n",
       "      <th>volume_sold_gallons</th>\n",
       "      <th>store_location_W</th>\n",
       "      <th>store_location_N</th>\n",
       "    </tr>\n",
       "  </thead>\n",
       "  <tbody>\n",
       "    <tr>\n",
       "      <th>count</th>\n",
       "      <td>20348689.000</td>\n",
       "      <td>20348689.000</td>\n",
       "      <td>20348689.000</td>\n",
       "      <td>20348689.000</td>\n",
       "      <td>20348689.000</td>\n",
       "      <td>20348689.000</td>\n",
       "      <td>20348689.000</td>\n",
       "      <td>20348689.000</td>\n",
       "      <td>20348689.000</td>\n",
       "      <td>20348689.000</td>\n",
       "      <td>20348689.000</td>\n",
       "      <td>20348689.000</td>\n",
       "    </tr>\n",
       "    <tr>\n",
       "      <th>mean</th>\n",
       "      <td>51265.876</td>\n",
       "      <td>57.306</td>\n",
       "      <td>12.269</td>\n",
       "      <td>908.884</td>\n",
       "      <td>9.976</td>\n",
       "      <td>14.979</td>\n",
       "      <td>10.363</td>\n",
       "      <td>135.756</td>\n",
       "      <td>9.136</td>\n",
       "      <td>2.412</td>\n",
       "      <td>-93.016</td>\n",
       "      <td>41.955</td>\n",
       "    </tr>\n",
       "    <tr>\n",
       "      <th>std</th>\n",
       "      <td>988.952</td>\n",
       "      <td>27.279</td>\n",
       "      <td>7.677</td>\n",
       "      <td>660.432</td>\n",
       "      <td>10.716</td>\n",
       "      <td>16.074</td>\n",
       "      <td>28.086</td>\n",
       "      <td>469.728</td>\n",
       "      <td>33.815</td>\n",
       "      <td>8.933</td>\n",
       "      <td>1.632</td>\n",
       "      <td>0.638</td>\n",
       "    </tr>\n",
       "    <tr>\n",
       "      <th>min</th>\n",
       "      <td>50002.000</td>\n",
       "      <td>1.000</td>\n",
       "      <td>1.000</td>\n",
       "      <td>12.000</td>\n",
       "      <td>0.190</td>\n",
       "      <td>0.290</td>\n",
       "      <td>0.080</td>\n",
       "      <td>1.300</td>\n",
       "      <td>0.020</td>\n",
       "      <td>0.005</td>\n",
       "      <td>-96.563</td>\n",
       "      <td>40.394</td>\n",
       "    </tr>\n",
       "    <tr>\n",
       "      <th>25%</th>\n",
       "      <td>50316.000</td>\n",
       "      <td>31.000</td>\n",
       "      <td>6.000</td>\n",
       "      <td>750.000</td>\n",
       "      <td>5.500</td>\n",
       "      <td>8.250</td>\n",
       "      <td>3.000</td>\n",
       "      <td>31.500</td>\n",
       "      <td>1.500</td>\n",
       "      <td>0.400</td>\n",
       "      <td>-93.790</td>\n",
       "      <td>41.562</td>\n",
       "    </tr>\n",
       "    <tr>\n",
       "      <th>50%</th>\n",
       "      <td>51101.000</td>\n",
       "      <td>62.000</td>\n",
       "      <td>12.000</td>\n",
       "      <td>750.000</td>\n",
       "      <td>8.250</td>\n",
       "      <td>12.370</td>\n",
       "      <td>6.000</td>\n",
       "      <td>72.000</td>\n",
       "      <td>5.000</td>\n",
       "      <td>1.320</td>\n",
       "      <td>-93.202</td>\n",
       "      <td>41.764</td>\n",
       "    </tr>\n",
       "    <tr>\n",
       "      <th>75%</th>\n",
       "      <td>52303.000</td>\n",
       "      <td>77.000</td>\n",
       "      <td>12.000</td>\n",
       "      <td>1000.000</td>\n",
       "      <td>12.070</td>\n",
       "      <td>18.120</td>\n",
       "      <td>12.000</td>\n",
       "      <td>140.640</td>\n",
       "      <td>10.500</td>\n",
       "      <td>2.770</td>\n",
       "      <td>-91.631</td>\n",
       "      <td>42.488</td>\n",
       "    </tr>\n",
       "    <tr>\n",
       "      <th>max</th>\n",
       "      <td>57222.000</td>\n",
       "      <td>99.000</td>\n",
       "      <td>336.000</td>\n",
       "      <td>378000.000</td>\n",
       "      <td>7680.000</td>\n",
       "      <td>11520.000</td>\n",
       "      <td>15000.000</td>\n",
       "      <td>279557.280</td>\n",
       "      <td>15000.000</td>\n",
       "      <td>3962.580</td>\n",
       "      <td>-90.182</td>\n",
       "      <td>43.491</td>\n",
       "    </tr>\n",
       "  </tbody>\n",
       "</table>\n",
       "</div>"
      ],
      "text/plain": [
       "          zip_code  county_number         pack  bottle_volume_ml  \\\n",
       "count 20348689.000   20348689.000 20348689.000      20348689.000   \n",
       "mean     51265.876         57.306       12.269           908.884   \n",
       "std        988.952         27.279        7.677           660.432   \n",
       "min      50002.000          1.000        1.000            12.000   \n",
       "25%      50316.000         31.000        6.000           750.000   \n",
       "50%      51101.000         62.000       12.000           750.000   \n",
       "75%      52303.000         77.000       12.000          1000.000   \n",
       "max      57222.000         99.000      336.000        378000.000   \n",
       "\n",
       "       state_bottle_cost  state_bottle_retail  bottles_sold  sale_dollars  \\\n",
       "count       20348689.000         20348689.000  20348689.000  20348689.000   \n",
       "mean               9.976               14.979        10.363       135.756   \n",
       "std               10.716               16.074        28.086       469.728   \n",
       "min                0.190                0.290         0.080         1.300   \n",
       "25%                5.500                8.250         3.000        31.500   \n",
       "50%                8.250               12.370         6.000        72.000   \n",
       "75%               12.070               18.120        12.000       140.640   \n",
       "max             7680.000            11520.000     15000.000    279557.280   \n",
       "\n",
       "       volume_sold_liters  volume_sold_gallons  store_location_W  \\\n",
       "count        20348689.000         20348689.000      20348689.000   \n",
       "mean                9.136                2.412           -93.016   \n",
       "std                33.815                8.933             1.632   \n",
       "min                 0.020                0.005           -96.563   \n",
       "25%                 1.500                0.400           -93.790   \n",
       "50%                 5.000                1.320           -93.202   \n",
       "75%                10.500                2.770           -91.631   \n",
       "max             15000.000             3962.580           -90.182   \n",
       "\n",
       "       store_location_N  \n",
       "count      20348689.000  \n",
       "mean             41.955  \n",
       "std               0.638  \n",
       "min              40.394  \n",
       "25%              41.562  \n",
       "50%              41.764  \n",
       "75%              42.488  \n",
       "max              43.491  "
      ]
     },
     "execution_count": 71,
     "metadata": {},
     "output_type": "execute_result"
    }
   ],
   "source": [
    "df_filled.describe()"
   ]
  },
  {
   "cell_type": "markdown",
   "metadata": {},
   "source": [
    "<p style=\"font-family: Monaco; font-size: 1.3em\">Check date.</p>"
   ]
  },
  {
   "cell_type": "code",
   "execution_count": 72,
   "metadata": {},
   "outputs": [
    {
     "name": "stdout",
     "output_type": "stream",
     "text": [
      "2012-01-03 00:00:00\n",
      "2020-12-31 00:00:00\n"
     ]
    }
   ],
   "source": [
    "print(df_filled['date'].min())\n",
    "print(df_filled['date'].max())"
   ]
  },
  {
   "cell_type": "markdown",
   "metadata": {},
   "source": [
    "<h3 style=\"margin-left: 50px;\"><em>c). Univariate outliers analisys </em></h3>"
   ]
  },
  {
   "cell_type": "code",
   "execution_count": 73,
   "metadata": {},
   "outputs": [
    {
     "data": {
      "text/plain": [
       "<AxesSubplot:xlabel='volume_sold_gallons'>"
      ]
     },
     "execution_count": 73,
     "metadata": {},
     "output_type": "execute_result"
    },
    {
     "data": {
      "image/png": "[encoded data removed]",
      "text/plain": [
       "<Figure size 1296x864 with 9 Axes>"
      ]
     },
     "metadata": {
      "needs_background": "light"
     },
     "output_type": "display_data"
    }
   ],
   "source": [
    "fig, axes = plt.subplots(3, 3, figsize=(18, 12))\n",
    "\n",
    "fig.suptitle('Univariate analisys liquor sales')\n",
    "\n",
    "sns.boxplot(ax=axes[0, 0], data=df_filled, x='pack')\n",
    "sns.boxplot(ax=axes[0, 1], data=df_filled, x='bottle_volume_ml')\n",
    "sns.boxplot(ax=axes[0, 2], data=df_filled, x='state_bottle_cost')\n",
    "sns.boxplot(ax=axes[1, 0], data=df_filled, x='state_bottle_retail')\n",
    "sns.boxplot(ax=axes[1, 1], data=df_filled, x='bottles_sold')\n",
    "sns.boxplot(ax=axes[1, 2], data=df_filled, x='sale_dollars')\n",
    "sns.boxplot(ax=axes[2, 0], data=df_filled, x='volume_sold_liters')\n",
    "sns.boxplot(ax=axes[2, 1], data=df_filled, x='volume_sold_gallons')"
   ]
  },
  {
   "cell_type": "markdown",
   "metadata": {},
   "source": [
    "<p style=\"font-family: Monaco; font-size: 1.3em\">Data has some outliers, but its possible and this can be valid values.</p> "
   ]
  },
  {
   "cell_type": "code",
   "execution_count": 74,
   "metadata": {},
   "outputs": [
    {
     "name": "stdout",
     "output_type": "stream",
     "text": [
      "pack: 3.207053860522872\n",
      "bottle_volume_ml: 229.9250279172752\n",
      "state_bottle_cost: 225.80996035374073\n",
      "state_bottle_retail: 225.82016057046675\n",
      "bottles_sold: 59.621721335510415\n",
      "sale_dollars: 81.51738957353342\n",
      "volume_sold_liters: 60.45622478588976\n",
      "volume_sold_gallons: 60.454912954927345\n"
     ]
    }
   ],
   "source": [
    "for column in ['pack', 'bottle_volume_ml', 'state_bottle_cost', 'state_bottle_retail', 'bottles_sold',\n",
    "               'sale_dollars', 'volume_sold_liters', 'volume_sold_gallons']:\n",
    "    print(column+':', df_filled[column].skew())"
   ]
  },
  {
   "cell_type": "markdown",
   "metadata": {},
   "source": [
    "<p style=\"font-family: Monaco; font-size: 1.3em\">Most of the variables have a pronounced asymmetry.</p>"
   ]
  },
  {
   "cell_type": "markdown",
   "metadata": {},
   "source": [
    "<a id='Univariate_analysis'></a>\n",
    "<h2><em>3. Univariate analysis</em></h2>"
   ]
  },
  {
   "cell_type": "markdown",
   "metadata": {},
   "source": [
    "<p style=\"font-family: Monaco; font-size: 1.3em\">Lets check 99 quantile and drop some outrange values to build histograms and boxplots.</p>"
   ]
  },
  {
   "cell_type": "code",
   "execution_count": 75,
   "metadata": {},
   "outputs": [],
   "source": [
    "df_analysis = df_filled[(df_filled['sale_dollars'] > df_filled['sale_dollars'].quantile(0.01))\\\n",
    "                        &(df_filled['sale_dollars'] < df_filled['sale_dollars'].quantile(0.99))&\\\n",
    "                        (df_filled['bottle_volume_ml'] > df_filled['bottle_volume_ml'].quantile(0.01))\\\n",
    "                        &(df_filled['bottle_volume_ml'] < df_filled['bottle_volume_ml'].quantile(0.99))&\\\n",
    "                        (df_filled['state_bottle_cost'] > df_filled['state_bottle_cost'].quantile(0.01))\\\n",
    "                        &(df_filled['state_bottle_cost'] < df_filled['state_bottle_cost'].quantile(0.99))]"
   ]
  },
  {
   "cell_type": "code",
   "execution_count": 76,
   "metadata": {},
   "outputs": [
    {
     "data": {
      "text/plain": [
       "<AxesSubplot:xlabel='volume_sold_gallons'>"
      ]
     },
     "execution_count": 76,
     "metadata": {},
     "output_type": "execute_result"
    },
    {
     "data": {
      "image/png": "[encoded data removed]",
      "text/plain": [
       "<Figure size 1296x864 with 9 Axes>"
      ]
     },
     "metadata": {
      "needs_background": "light"
     },
     "output_type": "display_data"
    }
   ],
   "source": [
    "fig, axes = plt.subplots(3, 3, figsize=(18, 12))\n",
    "\n",
    "fig.suptitle('Univariate analisys liquor sales (boxplot)')\n",
    "\n",
    "sns.boxplot(ax=axes[0, 0], data=df_analysis, x='pack')\n",
    "sns.boxplot(ax=axes[0, 1], data=df_analysis, x='bottle_volume_ml')\n",
    "sns.boxplot(ax=axes[0, 2], data=df_analysis, x='state_bottle_cost')\n",
    "sns.boxplot(ax=axes[1, 0], data=df_analysis, x='state_bottle_retail')\n",
    "sns.boxplot(ax=axes[1, 1], data=df_analysis, x='bottles_sold')\n",
    "sns.boxplot(ax=axes[1, 2], data=df_analysis, x='sale_dollars')\n",
    "sns.boxplot(ax=axes[2, 0], data=df_analysis, x='volume_sold_liters')\n",
    "sns.boxplot(ax=axes[2, 1], data=df_analysis, x='volume_sold_gallons')"
   ]
  },
  {
   "cell_type": "markdown",
   "metadata": {},
   "source": [
    "<p style=\"font-family: Monaco; font-size: 1.3em\">We can see some otliers in state_bottle_cost. Fix it.</p>"
   ]
  },
  {
   "cell_type": "code",
   "execution_count": 77,
   "metadata": {},
   "outputs": [],
   "source": [
    "df_filled.loc[df_filled['invoice_and_item_number'] == 'INV-22865900004', 'state_bottle_retail'] = 15\n",
    "df_filled.loc[df_filled['invoice_and_item_number'] == 'INV-22918500001', 'state_bottle_retail'] = 15\n",
    "df_analysis.loc[df_analysis['invoice_and_item_number'] == 'INV-22865900004', 'state_bottle_retail'] = 15\n",
    "df_analysis.loc[df_analysis['invoice_and_item_number'] == 'INV-22918500001', 'state_bottle_retail'] = 15"
   ]
  },
  {
   "cell_type": "code",
   "execution_count": 78,
   "metadata": {},
   "outputs": [],
   "source": [
    "df_filled = df_filled.reset_index(drop=True)"
   ]
  },
  {
   "cell_type": "markdown",
   "metadata": {},
   "source": [
    "<p style=\"font-family: Monaco; font-size: 1.3em\">Lets check distribution of variables.</p>"
   ]
  },
  {
   "cell_type": "code",
   "execution_count": 79,
   "metadata": {},
   "outputs": [
    {
     "data": {
      "text/plain": [
       "<AxesSubplot:>"
      ]
     },
     "execution_count": 79,
     "metadata": {},
     "output_type": "execute_result"
    },
    {
     "data": {
      "image/png": "[encoded data removed]",
      "text/plain": [
       "<Figure size 1296x864 with 9 Axes>"
      ]
     },
     "metadata": {
      "needs_background": "light"
     },
     "output_type": "display_data"
    }
   ],
   "source": [
    "fig, axes = plt.subplots(3, 3, figsize=(18, 12))\n",
    "\n",
    "fig.suptitle('Univariate analisys liquor sales (hist)')\n",
    "\n",
    "df_analysis['pack'].hist(ax=axes[0, 0], bins=24, legend=True)\n",
    "df_analysis['bottle_volume_ml'].hist(ax=axes[0, 1], bins=24, legend=True)\n",
    "df_analysis['state_bottle_cost'].hist(ax=axes[0, 2], bins=24, legend=True)\n",
    "df_analysis['state_bottle_retail'].hist(ax=axes[1, 0], bins=24, legend=True)\n",
    "df_analysis['bottles_sold'].hist(ax=axes[1, 1], bins=24, legend=True)\n",
    "df_analysis['sale_dollars'].hist(ax=axes[1, 2], bins=24, legend=True)\n",
    "df_analysis['volume_sold_liters'].hist(ax=axes[2, 0], bins=24, legend=True)\n",
    "df_analysis['volume_sold_gallons'].hist(ax=axes[2, 1], bins=24, legend=True)"
   ]
  },
  {
   "cell_type": "markdown",
   "metadata": {},
   "source": [
    "<p style=\"font-family: Monaco; font-size: 1.3em\">As we can see most distributions are skewed distributions with a cutoff on the left or gamma distributions. It differs from everyone only bottle_volume_ml distribution.</p>"
   ]
  },
  {
   "cell_type": "markdown",
   "metadata": {},
   "source": [
    "<a id='Bivariate_analysis'></a>\n",
    "<h2><ul><li><strong>Bivariate analysis</strong></li></ul></h2>"
   ]
  },
  {
   "cell_type": "markdown",
   "metadata": {},
   "source": [
    "<p style=\"font-family: Monaco; font-size: 1.3em\">Lets create some new columns.</p>  "
   ]
  },
  {
   "cell_type": "code",
   "execution_count": 154,
   "metadata": {},
   "outputs": [],
   "source": [
    "df_aggregate = df_filled.copy()\n",
    "df_aggregate['sale_dollars'] = df_aggregate['state_bottle_retail'] * df_aggregate['bottles_sold']\n",
    "df_aggregate['volume_sold_liters'] = df_aggregate['bottle_volume_ml']/1000 * df_aggregate['bottles_sold']\n",
    "df_aggregate['Year'] = df_aggregate['date'].apply(lambda x: x.year)\n",
    "df_aggregate['Month'] = df_aggregate['date'].apply(lambda x: x.strftime(\"%B\"))\n",
    "df_aggregate['Weekday'] = df_aggregate['date'].apply(lambda x: x.strftime(\"%A\"))\n",
    "df_aggregate['store'] = df_aggregate['store_number'] + '|' + df_aggregate['store_name']\n",
    "df_aggregate['profit'] = df_aggregate['sale_dollars'] - \\\n",
    "                                            (df_aggregate['state_bottle_cost'] * df_aggregate['bottles_sold']) "
   ]
  },
  {
   "cell_type": "code",
   "execution_count": 155,
   "metadata": {},
   "outputs": [],
   "source": [
    "df_aggregate = df_aggregate[['date', 'Year', 'Month', 'Weekday', 'store', 'store_location_W', 'store_location_N',\n",
    "                             'city', 'zip_code', 'county_number','county', 'category_name', 'vendor_name',\n",
    "                             'item_description', 'bottle_volume_ml', 'state_bottle_cost', 'state_bottle_retail',\n",
    "                             'bottles_sold', 'volume_sold_liters', 'sale_dollars', 'profit']]"
   ]
  },
  {
   "cell_type": "code",
   "execution_count": 156,
   "metadata": {},
   "outputs": [
    {
     "data": {
      "text/html": [
       "<div>\n",
       "<style scoped>\n",
       "    .dataframe tbody tr th:only-of-type {\n",
       "        vertical-align: middle;\n",
       "    }\n",
       "\n",
       "    .dataframe tbody tr th {\n",
       "        vertical-align: top;\n",
       "    }\n",
       "\n",
       "    .dataframe thead th {\n",
       "        text-align: right;\n",
       "    }\n",
       "</style>\n",
       "<table border=\"1\" class=\"dataframe\">\n",
       "  <thead>\n",
       "    <tr style=\"text-align: right;\">\n",
       "      <th></th>\n",
       "      <th>date</th>\n",
       "      <th>Year</th>\n",
       "      <th>Month</th>\n",
       "      <th>Weekday</th>\n",
       "      <th>store</th>\n",
       "      <th>store_location_W</th>\n",
       "      <th>store_location_N</th>\n",
       "      <th>city</th>\n",
       "      <th>zip_code</th>\n",
       "      <th>county_number</th>\n",
       "      <th>county</th>\n",
       "      <th>category_name</th>\n",
       "      <th>vendor_name</th>\n",
       "      <th>item_description</th>\n",
       "      <th>bottle_volume_ml</th>\n",
       "      <th>state_bottle_cost</th>\n",
       "      <th>state_bottle_retail</th>\n",
       "      <th>bottles_sold</th>\n",
       "      <th>volume_sold_liters</th>\n",
       "      <th>sale_dollars</th>\n",
       "      <th>profit</th>\n",
       "    </tr>\n",
       "  </thead>\n",
       "  <tbody>\n",
       "    <tr>\n",
       "      <th>0</th>\n",
       "      <td>2017-02-03</td>\n",
       "      <td>2017</td>\n",
       "      <td>February</td>\n",
       "      <td>Friday</td>\n",
       "      <td>3443|Super Saver Iv</td>\n",
       "      <td>-95.837</td>\n",
       "      <td>41.271</td>\n",
       "      <td>Council Bluffs</td>\n",
       "      <td>51503</td>\n",
       "      <td>78</td>\n",
       "      <td>Pottawattamie</td>\n",
       "      <td>Flavored Rum</td>\n",
       "      <td>PERNOD RICARD USA</td>\n",
       "      <td>Malibu Coconut Rum</td>\n",
       "      <td>1750.000</td>\n",
       "      <td>16.490</td>\n",
       "      <td>24.740</td>\n",
       "      <td>6.000</td>\n",
       "      <td>10.500</td>\n",
       "      <td>148.440</td>\n",
       "      <td>49.500</td>\n",
       "    </tr>\n",
       "    <tr>\n",
       "      <th>1</th>\n",
       "      <td>2020-11-30</td>\n",
       "      <td>2020</td>\n",
       "      <td>November</td>\n",
       "      <td>Monday</td>\n",
       "      <td>5869|Tobacco Outlet Plus #507 - Urbandale</td>\n",
       "      <td>-93.712</td>\n",
       "      <td>41.629</td>\n",
       "      <td>Urbandale</td>\n",
       "      <td>50322</td>\n",
       "      <td>77</td>\n",
       "      <td>Polk</td>\n",
       "      <td>Flavored Rum</td>\n",
       "      <td>BACARDI USA INC</td>\n",
       "      <td>Bacardi Limon</td>\n",
       "      <td>1750.000</td>\n",
       "      <td>15.000</td>\n",
       "      <td>22.500</td>\n",
       "      <td>6.000</td>\n",
       "      <td>10.500</td>\n",
       "      <td>135.000</td>\n",
       "      <td>45.000</td>\n",
       "    </tr>\n",
       "    <tr>\n",
       "      <th>2</th>\n",
       "      <td>2019-01-22</td>\n",
       "      <td>2019</td>\n",
       "      <td>January</td>\n",
       "      <td>Tuesday</td>\n",
       "      <td>5326|Als Liquor</td>\n",
       "      <td>-95.202</td>\n",
       "      <td>42.647</td>\n",
       "      <td>Storm Lake</td>\n",
       "      <td>50588</td>\n",
       "      <td>11</td>\n",
       "      <td>Buena Vista</td>\n",
       "      <td>Flavored Rum</td>\n",
       "      <td>BACARDI USA INC</td>\n",
       "      <td>Bacardi Limon</td>\n",
       "      <td>1750.000</td>\n",
       "      <td>15.000</td>\n",
       "      <td>22.500</td>\n",
       "      <td>6.000</td>\n",
       "      <td>10.500</td>\n",
       "      <td>135.000</td>\n",
       "      <td>45.000</td>\n",
       "    </tr>\n",
       "    <tr>\n",
       "      <th>3</th>\n",
       "      <td>2020-08-05</td>\n",
       "      <td>2020</td>\n",
       "      <td>August</td>\n",
       "      <td>Wednesday</td>\n",
       "      <td>3443|Super Saver Iv</td>\n",
       "      <td>-95.837</td>\n",
       "      <td>41.271</td>\n",
       "      <td>Council Bluffs</td>\n",
       "      <td>51503</td>\n",
       "      <td>78</td>\n",
       "      <td>Pottawattamie</td>\n",
       "      <td>Flavored Rum</td>\n",
       "      <td>PERNOD RICARD USA</td>\n",
       "      <td>Malibu Coconut Rum</td>\n",
       "      <td>1750.000</td>\n",
       "      <td>16.990</td>\n",
       "      <td>25.490</td>\n",
       "      <td>6.000</td>\n",
       "      <td>10.500</td>\n",
       "      <td>152.940</td>\n",
       "      <td>51.000</td>\n",
       "    </tr>\n",
       "    <tr>\n",
       "      <th>4</th>\n",
       "      <td>2019-07-17</td>\n",
       "      <td>2019</td>\n",
       "      <td>July</td>\n",
       "      <td>Wednesday</td>\n",
       "      <td>4239|Fareway Stores #850 / Spirit Lake</td>\n",
       "      <td>-95.106</td>\n",
       "      <td>43.422</td>\n",
       "      <td>Spirit Lake</td>\n",
       "      <td>51360</td>\n",
       "      <td>30</td>\n",
       "      <td>Dickinson</td>\n",
       "      <td>Flavored Rum</td>\n",
       "      <td>PERNOD RICARD USA</td>\n",
       "      <td>Malibu Coconut Rum</td>\n",
       "      <td>1750.000</td>\n",
       "      <td>16.990</td>\n",
       "      <td>25.490</td>\n",
       "      <td>6.000</td>\n",
       "      <td>10.500</td>\n",
       "      <td>152.940</td>\n",
       "      <td>51.000</td>\n",
       "    </tr>\n",
       "  </tbody>\n",
       "</table>\n",
       "</div>"
      ],
      "text/plain": [
       "        date  Year     Month    Weekday  \\\n",
       "0 2017-02-03  2017  February     Friday   \n",
       "1 2020-11-30  2020  November     Monday   \n",
       "2 2019-01-22  2019   January    Tuesday   \n",
       "3 2020-08-05  2020    August  Wednesday   \n",
       "4 2019-07-17  2019      July  Wednesday   \n",
       "\n",
       "                                       store  store_location_W  \\\n",
       "0                        3443|Super Saver Iv           -95.837   \n",
       "1  5869|Tobacco Outlet Plus #507 - Urbandale           -93.712   \n",
       "2                            5326|Als Liquor           -95.202   \n",
       "3                        3443|Super Saver Iv           -95.837   \n",
       "4     4239|Fareway Stores #850 / Spirit Lake           -95.106   \n",
       "\n",
       "   store_location_N            city  zip_code  county_number         county  \\\n",
       "0            41.271  Council Bluffs     51503             78  Pottawattamie   \n",
       "1            41.629       Urbandale     50322             77           Polk   \n",
       "2            42.647      Storm Lake     50588             11    Buena Vista   \n",
       "3            41.271  Council Bluffs     51503             78  Pottawattamie   \n",
       "4            43.422     Spirit Lake     51360             30      Dickinson   \n",
       "\n",
       "  category_name        vendor_name    item_description  bottle_volume_ml  \\\n",
       "0  Flavored Rum  PERNOD RICARD USA  Malibu Coconut Rum          1750.000   \n",
       "1  Flavored Rum    BACARDI USA INC       Bacardi Limon          1750.000   \n",
       "2  Flavored Rum    BACARDI USA INC       Bacardi Limon          1750.000   \n",
       "3  Flavored Rum  PERNOD RICARD USA  Malibu Coconut Rum          1750.000   \n",
       "4  Flavored Rum  PERNOD RICARD USA  Malibu Coconut Rum          1750.000   \n",
       "\n",
       "   state_bottle_cost  state_bottle_retail  bottles_sold  volume_sold_liters  \\\n",
       "0             16.490               24.740         6.000              10.500   \n",
       "1             15.000               22.500         6.000              10.500   \n",
       "2             15.000               22.500         6.000              10.500   \n",
       "3             16.990               25.490         6.000              10.500   \n",
       "4             16.990               25.490         6.000              10.500   \n",
       "\n",
       "   sale_dollars  profit  \n",
       "0       148.440  49.500  \n",
       "1       135.000  45.000  \n",
       "2       135.000  45.000  \n",
       "3       152.940  51.000  \n",
       "4       152.940  51.000  "
      ]
     },
     "execution_count": 156,
     "metadata": {},
     "output_type": "execute_result"
    }
   ],
   "source": [
    "df_aggregate.head()"
   ]
  },
  {
   "cell_type": "code",
   "execution_count": 157,
   "metadata": {},
   "outputs": [
    {
     "data": {
      "text/plain": [
       "<AxesSubplot:>"
      ]
     },
     "execution_count": 157,
     "metadata": {},
     "output_type": "execute_result"
    },
    {
     "data": {
      "image/png": "[encoded data removed]",
      "text/plain": [
       "<Figure size 1440x720 with 2 Axes>"
      ]
     },
     "metadata": {
      "needs_background": "light"
     },
     "output_type": "display_data"
    }
   ],
   "source": [
    "fig, ax = plt.subplots(figsize=(20,10)) \n",
    "sns.heatmap(df_aggregate.corr(), annot=True)"
   ]
  },
  {
   "cell_type": "markdown",
   "metadata": {},
   "source": [
    "<p style=\"font-family: Monaco; font-size: 1.3em\">As we can see zip_code and county numeric values have a little bit correlation with location, bottle volume has some logic correlation with bottle cost, and of course the biggest correlation beatween sold liters and sale dollars.</p>"
   ]
  },
  {
   "cell_type": "markdown",
   "metadata": {},
   "source": [
    "<a id='Multivariate_analysis'></a>\n",
    "<h2><ul><li><strong>Multivariate analysis</strong></li></ul></h2>"
   ]
  },
  {
   "cell_type": "markdown",
   "metadata": {},
   "source": [
    "<h3><em>a)Bar diagramms in aggregation summarize sales in dollars and sold liters</em></h3>"
   ]
  },
  {
   "cell_type": "code",
   "execution_count": 158,
   "metadata": {},
   "outputs": [],
   "source": [
    "def plot_bar(fig, df_aggregate, column, i, j):\n",
    "    '''Plot Bar'''\n",
    "    \n",
    "    df_plot = df_aggregate.groupby(column).agg({'sale_dollars': 'sum', 'volume_sold_liters': 'sum'}).\\\n",
    "                                        sort_values(by='sale_dollars', ascending=False).reset_index().head(10)\n",
    "    fig.add_traces([\n",
    "        go.Bar(name='Sale in dollars',x=df_plot[column], y=df_plot['sale_dollars']),\n",
    "        go.Bar(name='Volume in litres',x=df_plot[column], y=df_plot['volume_sold_liters'])\n",
    "    ], rows=i, cols=j)\n",
    "    return fig"
   ]
  },
  {
   "cell_type": "markdown",
   "metadata": {},
   "source": [
    "<ul><li style=\"font-family: Monaco; font-size: 1.3em\"><em>Store and City</em></li></ul>"
   ]
  },
  {
   "cell_type": "code",
   "execution_count": 159,
   "metadata": {},
   "outputs": [
    {
     "data": {
      "application/vnd.plotly.v1+json": {
       "config": {
        "plotlyServerURL": "https://plot.ly"
       },
       "data": [
        {
         "name": "Sale in dollars",
         "type": "bar",
         "x": [
          "2633|Hy-Vee #3 / Bdi / Des Moines",
          "4829|Central City 2",
          "2512|Hy-Vee Wine And Spirits / Iowa City",
          "3385|Sam'S Club 8162 / Cedar Rapids",
          "3420|Sam'S Club 6344 / Windsor Heights",
          "3952|Lot-A-Spirits",
          "3773|Benz Distributing",
          "3354|Sam'S Club 8238 / Davenport",
          "2190|Central City Liquor, Inc.",
          "3814|Costco Wholesale #788"
         ],
         "xaxis": "x",
         "y": [
          87987521.22999525,
          74899520.86000657,
          37558559.26000044,
          32833255.989999507,
          31296320.949999563,
          26405531.26999861,
          22220537.899999477,
          22211122.849999968,
          20530638.780003205,
          19295289.84160033
         ],
         "yaxis": "y"
        },
        {
         "name": "Volume in litres",
         "type": "bar",
         "x": [
          "2633|Hy-Vee #3 / Bdi / Des Moines",
          "4829|Central City 2",
          "2512|Hy-Vee Wine And Spirits / Iowa City",
          "3385|Sam'S Club 8162 / Cedar Rapids",
          "3420|Sam'S Club 6344 / Windsor Heights",
          "3952|Lot-A-Spirits",
          "3773|Benz Distributing",
          "3354|Sam'S Club 8238 / Davenport",
          "2190|Central City Liquor, Inc.",
          "3814|Costco Wholesale #788"
         ],
         "xaxis": "x",
         "y": [
          5138579.1850000005,
          4207828.4250000045,
          2428189.1350000487,
          2265200.4,
          2175249.45,
          1485566.345,
          1217633.7960000064,
          1520654.6500000001,
          1035931.8570000131,
          1070968.56
         ],
         "yaxis": "y"
        },
        {
         "name": "Sale in dollars",
         "type": "bar",
         "x": [
          "Des Moines",
          "Cedar Rapids",
          "Davenport",
          "West Des Moines",
          "Waterloo",
          "Iowa City",
          "Council Bluffs",
          "Sioux City",
          "Dubuque",
          "Ames"
         ],
         "xaxis": "x2",
         "y": [
          338915896.3494215,
          186464164.66980854,
          141448518.18996492,
          105848427.7815843,
          98254938.76617402,
          93110927.78998959,
          92277811.13998964,
          91568668.51999502,
          75584102.66000311,
          75043964.70000468
         ],
         "yaxis": "y2"
        },
        {
         "name": "Volume in litres",
         "type": "bar",
         "x": [
          "Des Moines",
          "Cedar Rapids",
          "Davenport",
          "West Des Moines",
          "Waterloo",
          "Iowa City",
          "Council Bluffs",
          "Sioux City",
          "Dubuque",
          "Ames"
         ],
         "xaxis": "x2",
         "y": [
          20300011.25701863,
          12459221.078996534,
          9159638.360993436,
          6462864.414998091,
          6246040.322994589,
          5976251.626998779,
          6032132.766999145,
          5970194.922998283,
          5093502.994999645,
          5087214.79899961
         ],
         "yaxis": "y2"
        }
       ],
       "layout": {
        "autosize": false,
        "height": 400,
        "template": {
         "data": {
          "bar": [
           {
            "error_x": {
             "color": "#2a3f5f"
            },
            "error_y": {
             "color": "#2a3f5f"
            },
            "marker": {
             "line": {
              "color": "#E5ECF6",
              "width": 0.5
             }
            },
            "type": "bar"
           }
          ],
          "barpolar": [
           {
            "marker": {
             "line": {
              "color": "#E5ECF6",
              "width": 0.5
             }
            },
            "type": "barpolar"
           }
          ],
          "carpet": [
           {
            "aaxis": {
             "endlinecolor": "#2a3f5f",
             "gridcolor": "white",
             "linecolor": "white",
             "minorgridcolor": "white",
             "startlinecolor": "#2a3f5f"
            },
            "baxis": {
             "endlinecolor": "#2a3f5f",
             "gridcolor": "white",
             "linecolor": "white",
             "minorgridcolor": "white",
             "startlinecolor": "#2a3f5f"
            },
            "type": "carpet"
           }
          ],
          "choropleth": [
           {
            "colorbar": {
             "outlinewidth": 0,
             "ticks": ""
            },
            "type": "choropleth"
           }
          ],
          "contour": [
           {
            "colorbar": {
             "outlinewidth": 0,
             "ticks": ""
            },
            "colorscale": [
             [
              0,
              "#0d0887"
             ],
             [
              0.1111111111111111,
              "#46039f"
             ],
             [
              0.2222222222222222,
              "#7201a8"
             ],
             [
              0.3333333333333333,
              "#9c179e"
             ],
             [
              0.4444444444444444,
              "#bd3786"
             ],
             [
              0.5555555555555556,
              "#d8576b"
             ],
             [
              0.6666666666666666,
              "#ed7953"
             ],
             [
              0.7777777777777778,
              "#fb9f3a"
             ],
             [
              0.8888888888888888,
              "#fdca26"
             ],
             [
              1,
              "#f0f921"
             ]
            ],
            "type": "contour"
           }
          ],
          "contourcarpet": [
           {
            "colorbar": {
             "outlinewidth": 0,
             "ticks": ""
            },
            "type": "contourcarpet"
           }
          ],
          "heatmap": [
           {
            "colorbar": {
             "outlinewidth": 0,
             "ticks": ""
            },
            "colorscale": [
             [
              0,
              "#0d0887"
             ],
             [
              0.1111111111111111,
              "#46039f"
             ],
             [
              0.2222222222222222,
              "#7201a8"
             ],
             [
              0.3333333333333333,
              "#9c179e"
             ],
             [
              0.4444444444444444,
              "#bd3786"
             ],
             [
              0.5555555555555556,
              "#d8576b"
             ],
             [
              0.6666666666666666,
              "#ed7953"
             ],
             [
              0.7777777777777778,
              "#fb9f3a"
             ],
             [
              0.8888888888888888,
              "#fdca26"
             ],
             [
              1,
              "#f0f921"
             ]
            ],
            "type": "heatmap"
           }
          ],
          "heatmapgl": [
           {
            "colorbar": {
             "outlinewidth": 0,
             "ticks": ""
            },
            "colorscale": [
             [
              0,
              "#0d0887"
             ],
             [
              0.1111111111111111,
              "#46039f"
             ],
             [
              0.2222222222222222,
              "#7201a8"
             ],
             [
              0.3333333333333333,
              "#9c179e"
             ],
             [
              0.4444444444444444,
              "#bd3786"
             ],
             [
              0.5555555555555556,
              "#d8576b"
             ],
             [
              0.6666666666666666,
              "#ed7953"
             ],
             [
              0.7777777777777778,
              "#fb9f3a"
             ],
             [
              0.8888888888888888,
              "#fdca26"
             ],
             [
              1,
              "#f0f921"
             ]
            ],
            "type": "heatmapgl"
           }
          ],
          "histogram": [
           {
            "marker": {
             "colorbar": {
              "outlinewidth": 0,
              "ticks": ""
             }
            },
            "type": "histogram"
           }
          ],
          "histogram2d": [
           {
            "colorbar": {
             "outlinewidth": 0,
             "ticks": ""
            },
            "colorscale": [
             [
              0,
              "#0d0887"
             ],
             [
              0.1111111111111111,
              "#46039f"
             ],
             [
              0.2222222222222222,
              "#7201a8"
             ],
             [
              0.3333333333333333,
              "#9c179e"
             ],
             [
              0.4444444444444444,
              "#bd3786"
             ],
             [
              0.5555555555555556,
              "#d8576b"
             ],
             [
              0.6666666666666666,
              "#ed7953"
             ],
             [
              0.7777777777777778,
              "#fb9f3a"
             ],
             [
              0.8888888888888888,
              "#fdca26"
             ],
             [
              1,
              "#f0f921"
             ]
            ],
            "type": "histogram2d"
           }
          ],
          "histogram2dcontour": [
           {
            "colorbar": {
             "outlinewidth": 0,
             "ticks": ""
            },
            "colorscale": [
             [
              0,
              "#0d0887"
             ],
             [
              0.1111111111111111,
              "#46039f"
             ],
             [
              0.2222222222222222,
              "#7201a8"
             ],
             [
              0.3333333333333333,
              "#9c179e"
             ],
             [
              0.4444444444444444,
              "#bd3786"
             ],
             [
              0.5555555555555556,
              "#d8576b"
             ],
             [
              0.6666666666666666,
              "#ed7953"
             ],
             [
              0.7777777777777778,
              "#fb9f3a"
             ],
             [
              0.8888888888888888,
              "#fdca26"
             ],
             [
              1,
              "#f0f921"
             ]
            ],
            "type": "histogram2dcontour"
           }
          ],
          "mesh3d": [
           {
            "colorbar": {
             "outlinewidth": 0,
             "ticks": ""
            },
            "type": "mesh3d"
           }
          ],
          "parcoords": [
           {
            "line": {
             "colorbar": {
              "outlinewidth": 0,
              "ticks": ""
             }
            },
            "type": "parcoords"
           }
          ],
          "pie": [
           {
            "automargin": true,
            "type": "pie"
           }
          ],
          "scatter": [
           {
            "marker": {
             "colorbar": {
              "outlinewidth": 0,
              "ticks": ""
             }
            },
            "type": "scatter"
           }
          ],
          "scatter3d": [
           {
            "line": {
             "colorbar": {
              "outlinewidth": 0,
              "ticks": ""
             }
            },
            "marker": {
             "colorbar": {
              "outlinewidth": 0,
              "ticks": ""
             }
            },
            "type": "scatter3d"
           }
          ],
          "scattercarpet": [
           {
            "marker": {
             "colorbar": {
              "outlinewidth": 0,
              "ticks": ""
             }
            },
            "type": "scattercarpet"
           }
          ],
          "scattergeo": [
           {
            "marker": {
             "colorbar": {
              "outlinewidth": 0,
              "ticks": ""
             }
            },
            "type": "scattergeo"
           }
          ],
          "scattergl": [
           {
            "marker": {
             "colorbar": {
              "outlinewidth": 0,
              "ticks": ""
             }
            },
            "type": "scattergl"
           }
          ],
          "scattermapbox": [
           {
            "marker": {
             "colorbar": {
              "outlinewidth": 0,
              "ticks": ""
             }
            },
            "type": "scattermapbox"
           }
          ],
          "scatterpolar": [
           {
            "marker": {
             "colorbar": {
              "outlinewidth": 0,
              "ticks": ""
             }
            },
            "type": "scatterpolar"
           }
          ],
          "scatterpolargl": [
           {
            "marker": {
             "colorbar": {
              "outlinewidth": 0,
              "ticks": ""
             }
            },
            "type": "scatterpolargl"
           }
          ],
          "scatterternary": [
           {
            "marker": {
             "colorbar": {
              "outlinewidth": 0,
              "ticks": ""
             }
            },
            "type": "scatterternary"
           }
          ],
          "surface": [
           {
            "colorbar": {
             "outlinewidth": 0,
             "ticks": ""
            },
            "colorscale": [
             [
              0,
              "#0d0887"
             ],
             [
              0.1111111111111111,
              "#46039f"
             ],
             [
              0.2222222222222222,
              "#7201a8"
             ],
             [
              0.3333333333333333,
              "#9c179e"
             ],
             [
              0.4444444444444444,
              "#bd3786"
             ],
             [
              0.5555555555555556,
              "#d8576b"
             ],
             [
              0.6666666666666666,
              "#ed7953"
             ],
             [
              0.7777777777777778,
              "#fb9f3a"
             ],
             [
              0.8888888888888888,
              "#fdca26"
             ],
             [
              1,
              "#f0f921"
             ]
            ],
            "type": "surface"
           }
          ],
          "table": [
           {
            "cells": {
             "fill": {
              "color": "#EBF0F8"
             },
             "line": {
              "color": "white"
             }
            },
            "header": {
             "fill": {
              "color": "#C8D4E3"
             },
             "line": {
              "color": "white"
             }
            },
            "type": "table"
           }
          ]
         },
         "layout": {
          "annotationdefaults": {
           "arrowcolor": "#2a3f5f",
           "arrowhead": 0,
           "arrowwidth": 1
          },
          "autotypenumbers": "strict",
          "coloraxis": {
           "colorbar": {
            "outlinewidth": 0,
            "ticks": ""
           }
          },
          "colorscale": {
           "diverging": [
            [
             0,
             "#8e0152"
            ],
            [
             0.1,
             "#c51b7d"
            ],
            [
             0.2,
             "#de77ae"
            ],
            [
             0.3,
             "#f1b6da"
            ],
            [
             0.4,
             "#fde0ef"
            ],
            [
             0.5,
             "#f7f7f7"
            ],
            [
             0.6,
             "#e6f5d0"
            ],
            [
             0.7,
             "#b8e186"
            ],
            [
             0.8,
             "#7fbc41"
            ],
            [
             0.9,
             "#4d9221"
            ],
            [
             1,
             "#276419"
            ]
           ],
           "sequential": [
            [
             0,
             "#0d0887"
            ],
            [
             0.1111111111111111,
             "#46039f"
            ],
            [
             0.2222222222222222,
             "#7201a8"
            ],
            [
             0.3333333333333333,
             "#9c179e"
            ],
            [
             0.4444444444444444,
             "#bd3786"
            ],
            [
             0.5555555555555556,
             "#d8576b"
            ],
            [
             0.6666666666666666,
             "#ed7953"
            ],
            [
             0.7777777777777778,
             "#fb9f3a"
            ],
            [
             0.8888888888888888,
             "#fdca26"
            ],
            [
             1,
             "#f0f921"
            ]
           ],
           "sequentialminus": [
            [
             0,
             "#0d0887"
            ],
            [
             0.1111111111111111,
             "#46039f"
            ],
            [
             0.2222222222222222,
             "#7201a8"
            ],
            [
             0.3333333333333333,
             "#9c179e"
            ],
            [
             0.4444444444444444,
             "#bd3786"
            ],
            [
             0.5555555555555556,
             "#d8576b"
            ],
            [
             0.6666666666666666,
             "#ed7953"
            ],
            [
             0.7777777777777778,
             "#fb9f3a"
            ],
            [
             0.8888888888888888,
             "#fdca26"
            ],
            [
             1,
             "#f0f921"
            ]
           ]
          },
          "colorway": [
           "#636efa",
           "#EF553B",
           "#00cc96",
           "#ab63fa",
           "#FFA15A",
           "#19d3f3",
           "#FF6692",
           "#B6E880",
           "#FF97FF",
           "#FECB52"
          ],
          "font": {
           "color": "#2a3f5f"
          },
          "geo": {
           "bgcolor": "white",
           "lakecolor": "white",
           "landcolor": "#E5ECF6",
           "showlakes": true,
           "showland": true,
           "subunitcolor": "white"
          },
          "hoverlabel": {
           "align": "left"
          },
          "hovermode": "closest",
          "mapbox": {
           "style": "light"
          },
          "paper_bgcolor": "white",
          "plot_bgcolor": "#E5ECF6",
          "polar": {
           "angularaxis": {
            "gridcolor": "white",
            "linecolor": "white",
            "ticks": ""
           },
           "bgcolor": "#E5ECF6",
           "radialaxis": {
            "gridcolor": "white",
            "linecolor": "white",
            "ticks": ""
           }
          },
          "scene": {
           "xaxis": {
            "backgroundcolor": "#E5ECF6",
            "gridcolor": "white",
            "gridwidth": 2,
            "linecolor": "white",
            "showbackground": true,
            "ticks": "",
            "zerolinecolor": "white"
           },
           "yaxis": {
            "backgroundcolor": "#E5ECF6",
            "gridcolor": "white",
            "gridwidth": 2,
            "linecolor": "white",
            "showbackground": true,
            "ticks": "",
            "zerolinecolor": "white"
           },
           "zaxis": {
            "backgroundcolor": "#E5ECF6",
            "gridcolor": "white",
            "gridwidth": 2,
            "linecolor": "white",
            "showbackground": true,
            "ticks": "",
            "zerolinecolor": "white"
           }
          },
          "shapedefaults": {
           "line": {
            "color": "#2a3f5f"
           }
          },
          "ternary": {
           "aaxis": {
            "gridcolor": "white",
            "linecolor": "white",
            "ticks": ""
           },
           "baxis": {
            "gridcolor": "white",
            "linecolor": "white",
            "ticks": ""
           },
           "bgcolor": "#E5ECF6",
           "caxis": {
            "gridcolor": "white",
            "linecolor": "white",
            "ticks": ""
           }
          },
          "title": {
           "x": 0.05
          },
          "xaxis": {
           "automargin": true,
           "gridcolor": "white",
           "linecolor": "white",
           "ticks": "",
           "title": {
            "standoff": 15
           },
           "zerolinecolor": "white",
           "zerolinewidth": 2
          },
          "yaxis": {
           "automargin": true,
           "gridcolor": "white",
           "linecolor": "white",
           "ticks": "",
           "title": {
            "standoff": 15
           },
           "zerolinecolor": "white",
           "zerolinewidth": 2
          }
         }
        },
        "width": 950,
        "xaxis": {
         "anchor": "y",
         "domain": [
          0,
          0.45
         ]
        },
        "xaxis2": {
         "anchor": "y2",
         "domain": [
          0.55,
          1
         ]
        },
        "yaxis": {
         "anchor": "x",
         "domain": [
          0,
          1
         ]
        },
        "yaxis2": {
         "anchor": "x2",
         "domain": [
          0,
          1
         ]
        }
       }
      },
      "text/html": [
       "<div>                            <div id=\"8e632b76-9420-4878-8a6b-f5f9aa4145cd\" class=\"plotly-graph-div\" style=\"height:400px; width:950px;\"></div>            <script type=\"text/javascript\">                require([\"plotly\"], function(Plotly) {                    window.PLOTLYENV=window.PLOTLYENV || {};                                    if (document.getElementById(\"8e632b76-9420-4878-8a6b-f5f9aa4145cd\")) {                    Plotly.newPlot(                        \"8e632b76-9420-4878-8a6b-f5f9aa4145cd\",                        [{\"name\": \"Sale in dollars\", \"type\": \"bar\", \"x\": [\"2633|Hy-Vee #3 / Bdi / Des Moines\", \"4829|Central City 2\", \"2512|Hy-Vee Wine And Spirits / Iowa City\", \"3385|Sam'S Club 8162 / Cedar Rapids\", \"3420|Sam'S Club 6344 / Windsor Heights\", \"3952|Lot-A-Spirits\", \"3773|Benz Distributing\", \"3354|Sam'S Club 8238 / Davenport\", \"2190|Central City Liquor, Inc.\", \"3814|Costco Wholesale #788\"], \"xaxis\": \"x\", \"y\": [87987521.22999525, 74899520.86000657, 37558559.26000044, 32833255.989999507, 31296320.949999563, 26405531.26999861, 22220537.899999477, 22211122.849999968, 20530638.780003205, 19295289.84160033], \"yaxis\": \"y\"}, {\"name\": \"Volume in litres\", \"type\": \"bar\", \"x\": [\"2633|Hy-Vee #3 / Bdi / Des Moines\", \"4829|Central City 2\", \"2512|Hy-Vee Wine And Spirits / Iowa City\", \"3385|Sam'S Club 8162 / Cedar Rapids\", \"3420|Sam'S Club 6344 / Windsor Heights\", \"3952|Lot-A-Spirits\", \"3773|Benz Distributing\", \"3354|Sam'S Club 8238 / Davenport\", \"2190|Central City Liquor, Inc.\", \"3814|Costco Wholesale #788\"], \"xaxis\": \"x\", \"y\": [5138579.1850000005, 4207828.4250000045, 2428189.1350000487, 2265200.4, 2175249.45, 1485566.345, 1217633.7960000064, 1520654.6500000001, 1035931.8570000131, 1070968.56], \"yaxis\": \"y\"}, {\"name\": \"Sale in dollars\", \"type\": \"bar\", \"x\": [\"Des Moines\", \"Cedar Rapids\", \"Davenport\", \"West Des Moines\", \"Waterloo\", \"Iowa City\", \"Council Bluffs\", \"Sioux City\", \"Dubuque\", \"Ames\"], \"xaxis\": \"x2\", \"y\": [338915896.3494215, 186464164.66980854, 141448518.18996492, 105848427.7815843, 98254938.76617402, 93110927.78998959, 92277811.13998964, 91568668.51999502, 75584102.66000311, 75043964.70000468], \"yaxis\": \"y2\"}, {\"name\": \"Volume in litres\", \"type\": \"bar\", \"x\": [\"Des Moines\", \"Cedar Rapids\", \"Davenport\", \"West Des Moines\", \"Waterloo\", \"Iowa City\", \"Council Bluffs\", \"Sioux City\", \"Dubuque\", \"Ames\"], \"xaxis\": \"x2\", \"y\": [20300011.25701863, 12459221.078996534, 9159638.360993436, 6462864.414998091, 6246040.322994589, 5976251.626998779, 6032132.766999145, 5970194.922998283, 5093502.994999645, 5087214.79899961], \"yaxis\": \"y2\"}],                        {\"autosize\": false, \"height\": 400, \"template\": {\"data\": {\"bar\": [{\"error_x\": {\"color\": \"#2a3f5f\"}, \"error_y\": {\"color\": \"#2a3f5f\"}, \"marker\": {\"line\": {\"color\": \"#E5ECF6\", \"width\": 0.5}}, \"type\": \"bar\"}], \"barpolar\": [{\"marker\": {\"line\": {\"color\": \"#E5ECF6\", \"width\": 0.5}}, \"type\": \"barpolar\"}], \"carpet\": [{\"aaxis\": {\"endlinecolor\": \"#2a3f5f\", \"gridcolor\": \"white\", \"linecolor\": \"white\", \"minorgridcolor\": \"white\", \"startlinecolor\": \"#2a3f5f\"}, \"baxis\": {\"endlinecolor\": \"#2a3f5f\", \"gridcolor\": \"white\", \"linecolor\": \"white\", \"minorgridcolor\": \"white\", \"startlinecolor\": \"#2a3f5f\"}, \"type\": \"carpet\"}], \"choropleth\": [{\"colorbar\": {\"outlinewidth\": 0, \"ticks\": \"\"}, \"type\": \"choropleth\"}], \"contour\": [{\"colorbar\": {\"outlinewidth\": 0, \"ticks\": \"\"}, \"colorscale\": [[0.0, \"#0d0887\"], [0.1111111111111111, \"#46039f\"], [0.2222222222222222, \"#7201a8\"], [0.3333333333333333, \"#9c179e\"], [0.4444444444444444, \"#bd3786\"], [0.5555555555555556, \"#d8576b\"], [0.6666666666666666, \"#ed7953\"], [0.7777777777777778, \"#fb9f3a\"], [0.8888888888888888, \"#fdca26\"], [1.0, \"#f0f921\"]], \"type\": \"contour\"}], \"contourcarpet\": [{\"colorbar\": {\"outlinewidth\": 0, \"ticks\": \"\"}, \"type\": \"contourcarpet\"}], \"heatmap\": [{\"colorbar\": {\"outlinewidth\": 0, \"ticks\": \"\"}, \"colorscale\": [[0.0, \"#0d0887\"], [0.1111111111111111, \"#46039f\"], [0.2222222222222222, \"#7201a8\"], [0.3333333333333333, \"#9c179e\"], [0.4444444444444444, \"#bd3786\"], [0.5555555555555556, \"#d8576b\"], [0.6666666666666666, \"#ed7953\"], [0.7777777777777778, \"#fb9f3a\"], [0.8888888888888888, \"#fdca26\"], [1.0, \"#f0f921\"]], \"type\": \"heatmap\"}], \"heatmapgl\": [{\"colorbar\": {\"outlinewidth\": 0, \"ticks\": \"\"}, \"colorscale\": [[0.0, \"#0d0887\"], [0.1111111111111111, \"#46039f\"], [0.2222222222222222, \"#7201a8\"], [0.3333333333333333, \"#9c179e\"], [0.4444444444444444, \"#bd3786\"], [0.5555555555555556, \"#d8576b\"], [0.6666666666666666, \"#ed7953\"], [0.7777777777777778, \"#fb9f3a\"], [0.8888888888888888, \"#fdca26\"], [1.0, \"#f0f921\"]], \"type\": \"heatmapgl\"}], \"histogram\": [{\"marker\": {\"colorbar\": {\"outlinewidth\": 0, \"ticks\": \"\"}}, \"type\": \"histogram\"}], \"histogram2d\": [{\"colorbar\": {\"outlinewidth\": 0, \"ticks\": \"\"}, \"colorscale\": [[0.0, \"#0d0887\"], [0.1111111111111111, \"#46039f\"], [0.2222222222222222, \"#7201a8\"], [0.3333333333333333, \"#9c179e\"], [0.4444444444444444, \"#bd3786\"], [0.5555555555555556, \"#d8576b\"], [0.6666666666666666, \"#ed7953\"], [0.7777777777777778, \"#fb9f3a\"], [0.8888888888888888, \"#fdca26\"], [1.0, \"#f0f921\"]], \"type\": \"histogram2d\"}], \"histogram2dcontour\": [{\"colorbar\": {\"outlinewidth\": 0, \"ticks\": \"\"}, \"colorscale\": [[0.0, \"#0d0887\"], [0.1111111111111111, \"#46039f\"], [0.2222222222222222, \"#7201a8\"], [0.3333333333333333, \"#9c179e\"], [0.4444444444444444, \"#bd3786\"], [0.5555555555555556, \"#d8576b\"], [0.6666666666666666, \"#ed7953\"], [0.7777777777777778, \"#fb9f3a\"], [0.8888888888888888, \"#fdca26\"], [1.0, \"#f0f921\"]], \"type\": \"histogram2dcontour\"}], \"mesh3d\": [{\"colorbar\": {\"outlinewidth\": 0, \"ticks\": \"\"}, \"type\": \"mesh3d\"}], \"parcoords\": [{\"line\": {\"colorbar\": {\"outlinewidth\": 0, \"ticks\": \"\"}}, \"type\": \"parcoords\"}], \"pie\": [{\"automargin\": true, \"type\": \"pie\"}], \"scatter\": [{\"marker\": {\"colorbar\": {\"outlinewidth\": 0, \"ticks\": \"\"}}, \"type\": \"scatter\"}], \"scatter3d\": [{\"line\": {\"colorbar\": {\"outlinewidth\": 0, \"ticks\": \"\"}}, \"marker\": {\"colorbar\": {\"outlinewidth\": 0, \"ticks\": \"\"}}, \"type\": \"scatter3d\"}], \"scattercarpet\": [{\"marker\": {\"colorbar\": {\"outlinewidth\": 0, \"ticks\": \"\"}}, \"type\": \"scattercarpet\"}], \"scattergeo\": [{\"marker\": {\"colorbar\": {\"outlinewidth\": 0, \"ticks\": \"\"}}, \"type\": \"scattergeo\"}], \"scattergl\": [{\"marker\": {\"colorbar\": {\"outlinewidth\": 0, \"ticks\": \"\"}}, \"type\": \"scattergl\"}], \"scattermapbox\": [{\"marker\": {\"colorbar\": {\"outlinewidth\": 0, \"ticks\": \"\"}}, \"type\": \"scattermapbox\"}], \"scatterpolar\": [{\"marker\": {\"colorbar\": {\"outlinewidth\": 0, \"ticks\": \"\"}}, \"type\": \"scatterpolar\"}], \"scatterpolargl\": [{\"marker\": {\"colorbar\": {\"outlinewidth\": 0, \"ticks\": \"\"}}, \"type\": \"scatterpolargl\"}], \"scatterternary\": [{\"marker\": {\"colorbar\": {\"outlinewidth\": 0, \"ticks\": \"\"}}, \"type\": \"scatterternary\"}], \"surface\": [{\"colorbar\": {\"outlinewidth\": 0, \"ticks\": \"\"}, \"colorscale\": [[0.0, \"#0d0887\"], [0.1111111111111111, \"#46039f\"], [0.2222222222222222, \"#7201a8\"], [0.3333333333333333, \"#9c179e\"], [0.4444444444444444, \"#bd3786\"], [0.5555555555555556, \"#d8576b\"], [0.6666666666666666, \"#ed7953\"], [0.7777777777777778, \"#fb9f3a\"], [0.8888888888888888, \"#fdca26\"], [1.0, \"#f0f921\"]], \"type\": \"surface\"}], \"table\": [{\"cells\": {\"fill\": {\"color\": \"#EBF0F8\"}, \"line\": {\"color\": \"white\"}}, \"header\": {\"fill\": {\"color\": \"#C8D4E3\"}, \"line\": {\"color\": \"white\"}}, \"type\": \"table\"}]}, \"layout\": {\"annotationdefaults\": {\"arrowcolor\": \"#2a3f5f\", \"arrowhead\": 0, \"arrowwidth\": 1}, \"autotypenumbers\": \"strict\", \"coloraxis\": {\"colorbar\": {\"outlinewidth\": 0, \"ticks\": \"\"}}, \"colorscale\": {\"diverging\": [[0, \"#8e0152\"], [0.1, \"#c51b7d\"], [0.2, \"#de77ae\"], [0.3, \"#f1b6da\"], [0.4, \"#fde0ef\"], [0.5, \"#f7f7f7\"], [0.6, \"#e6f5d0\"], [0.7, \"#b8e186\"], [0.8, \"#7fbc41\"], [0.9, \"#4d9221\"], [1, \"#276419\"]], \"sequential\": [[0.0, \"#0d0887\"], [0.1111111111111111, \"#46039f\"], [0.2222222222222222, \"#7201a8\"], [0.3333333333333333, \"#9c179e\"], [0.4444444444444444, \"#bd3786\"], [0.5555555555555556, \"#d8576b\"], [0.6666666666666666, \"#ed7953\"], [0.7777777777777778, \"#fb9f3a\"], [0.8888888888888888, \"#fdca26\"], [1.0, \"#f0f921\"]], \"sequentialminus\": [[0.0, \"#0d0887\"], [0.1111111111111111, \"#46039f\"], [0.2222222222222222, \"#7201a8\"], [0.3333333333333333, \"#9c179e\"], [0.4444444444444444, \"#bd3786\"], [0.5555555555555556, \"#d8576b\"], [0.6666666666666666, \"#ed7953\"], [0.7777777777777778, \"#fb9f3a\"], [0.8888888888888888, \"#fdca26\"], [1.0, \"#f0f921\"]]}, \"colorway\": [\"#636efa\", \"#EF553B\", \"#00cc96\", \"#ab63fa\", \"#FFA15A\", \"#19d3f3\", \"#FF6692\", \"#B6E880\", \"#FF97FF\", \"#FECB52\"], \"font\": {\"color\": \"#2a3f5f\"}, \"geo\": {\"bgcolor\": \"white\", \"lakecolor\": \"white\", \"landcolor\": \"#E5ECF6\", \"showlakes\": true, \"showland\": true, \"subunitcolor\": \"white\"}, \"hoverlabel\": {\"align\": \"left\"}, \"hovermode\": \"closest\", \"mapbox\": {\"style\": \"light\"}, \"paper_bgcolor\": \"white\", \"plot_bgcolor\": \"#E5ECF6\", \"polar\": {\"angularaxis\": {\"gridcolor\": \"white\", \"linecolor\": \"white\", \"ticks\": \"\"}, \"bgcolor\": \"#E5ECF6\", \"radialaxis\": {\"gridcolor\": \"white\", \"linecolor\": \"white\", \"ticks\": \"\"}}, \"scene\": {\"xaxis\": {\"backgroundcolor\": \"#E5ECF6\", \"gridcolor\": \"white\", \"gridwidth\": 2, \"linecolor\": \"white\", \"showbackground\": true, \"ticks\": \"\", \"zerolinecolor\": \"white\"}, \"yaxis\": {\"backgroundcolor\": \"#E5ECF6\", \"gridcolor\": \"white\", \"gridwidth\": 2, \"linecolor\": \"white\", \"showbackground\": true, \"ticks\": \"\", \"zerolinecolor\": \"white\"}, \"zaxis\": {\"backgroundcolor\": \"#E5ECF6\", \"gridcolor\": \"white\", \"gridwidth\": 2, \"linecolor\": \"white\", \"showbackground\": true, \"ticks\": \"\", \"zerolinecolor\": \"white\"}}, \"shapedefaults\": {\"line\": {\"color\": \"#2a3f5f\"}}, \"ternary\": {\"aaxis\": {\"gridcolor\": \"white\", \"linecolor\": \"white\", \"ticks\": \"\"}, \"baxis\": {\"gridcolor\": \"white\", \"linecolor\": \"white\", \"ticks\": \"\"}, \"bgcolor\": \"#E5ECF6\", \"caxis\": {\"gridcolor\": \"white\", \"linecolor\": \"white\", \"ticks\": \"\"}}, \"title\": {\"x\": 0.05}, \"xaxis\": {\"automargin\": true, \"gridcolor\": \"white\", \"linecolor\": \"white\", \"ticks\": \"\", \"title\": {\"standoff\": 15}, \"zerolinecolor\": \"white\", \"zerolinewidth\": 2}, \"yaxis\": {\"automargin\": true, \"gridcolor\": \"white\", \"linecolor\": \"white\", \"ticks\": \"\", \"title\": {\"standoff\": 15}, \"zerolinecolor\": \"white\", \"zerolinewidth\": 2}}}, \"width\": 950, \"xaxis\": {\"anchor\": \"y\", \"domain\": [0.0, 0.45]}, \"xaxis2\": {\"anchor\": \"y2\", \"domain\": [0.55, 1.0]}, \"yaxis\": {\"anchor\": \"x\", \"domain\": [0.0, 1.0]}, \"yaxis2\": {\"anchor\": \"x2\", \"domain\": [0.0, 1.0]}},                        {\"responsive\": true}                    ).then(function(){\n",
       "                            \n",
       "var gd = document.getElementById('8e632b76-9420-4878-8a6b-f5f9aa4145cd');\n",
       "var x = new MutationObserver(function (mutations, observer) {{\n",
       "        var display = window.getComputedStyle(gd).display;\n",
       "        if (!display || display === 'none') {{\n",
       "            console.log([gd, 'removed!']);\n",
       "            Plotly.purge(gd);\n",
       "            observer.disconnect();\n",
       "        }}\n",
       "}});\n",
       "\n",
       "// Listen for the removal of the full notebook cells\n",
       "var notebookContainer = gd.closest('#notebook-container');\n",
       "if (notebookContainer) {{\n",
       "    x.observe(notebookContainer, {childList: true});\n",
       "}}\n",
       "\n",
       "// Listen for the clearing of the current output cell\n",
       "var outputEl = gd.closest('.output');\n",
       "if (outputEl) {{\n",
       "    x.observe(outputEl, {childList: true});\n",
       "}}\n",
       "\n",
       "                        })                };                });            </script>        </div>"
      ]
     },
     "metadata": {},
     "output_type": "display_data"
    }
   ],
   "source": [
    "fig = make_subplots(rows=1, cols=2)\n",
    "fig = plot_bar(fig, df_aggregate, 'store', 1, 1)\n",
    "fig = plot_bar(fig, df_aggregate, 'city', 1, 2)\n",
    "fig.update_layout(autosize=False, width=950, height=400)\n",
    "fig.show()"
   ]
  },
  {
   "cell_type": "markdown",
   "metadata": {},
   "source": [
    "<p style=\"font-family: Monaco; font-size: 1.3em; color: IndianRed\">As we see in the top-selling stores in the city of Des Moines, Cedar Rapids. 7 out of 10 stores from the top its Hy-Vee, Central City and Sam'S Club. The first three cities from the top of selling in the same proportions correspond to the population of these cities.</p>"
   ]
  },
  {
   "cell_type": "markdown",
   "metadata": {},
   "source": [
    "<ul><li style=\"font-family: Monaco; font-size: 1.3em\"><em>County and Category</em></li></ul>"
   ]
  },
  {
   "cell_type": "code",
   "execution_count": 161,
   "metadata": {},
   "outputs": [
    {
     "data": {
      "application/vnd.plotly.v1+json": {
       "config": {
        "plotlyServerURL": "https://plot.ly"
       },
       "data": [
        {
         "name": "Sale in dollars",
         "type": "bar",
         "x": [
          "Polk",
          "Linn",
          "Scott",
          "Johnson",
          "Black Hawk",
          "Pottawattamie",
          "Woodbury",
          "Dubuque",
          "Story",
          "Cerro Gordo"
         ],
         "xaxis": "x",
         "y": [
          628487589.0860251,
          241633388.2697487,
          199373150.98983648,
          165010325.1298756,
          156143453.49604556,
          98084428.23998785,
          95401093.63998981,
          83565179.25999634,
          83438395.59999666,
          57710709.03999562
         ],
         "yaxis": "y"
        },
        {
         "name": "Volume in litres",
         "type": "bar",
         "x": [
          "Polk",
          "Linn",
          "Scott",
          "Johnson",
          "Black Hawk",
          "Pottawattamie",
          "Woodbury",
          "Dubuque",
          "Story",
          "Cerro Gordo"
         ],
         "xaxis": "x",
         "y": [
          38805353.04805607,
          16413220.68899799,
          12683241.180997541,
          10272978.941997042,
          10201535.35199601,
          6440453.441998579,
          6243855.532998018,
          5749765.1949991435,
          5742092.508999127,
          4192114.194000099
         ],
         "yaxis": "y"
        },
        {
         "name": "Sale in dollars",
         "type": "bar",
         "x": [
          "Canadian Whiskies",
          "American Vodkas",
          "Spiced Rum",
          "Straight Bourbon Whiskies",
          "Vodka 80 Proof",
          "Whiskey Liqueur",
          "Tennessee Whiskies",
          "Blended Whiskies",
          "Imported Vodka",
          "Imported Vodkas"
         ],
         "xaxis": "x2",
         "y": [
          335644348.78886545,
          217965920.960787,
          196924659.78971148,
          166558709.77965656,
          145771914.57028538,
          134450272.20996115,
          120645240.66607565,
          79175742.2500325,
          77926425.81157508,
          71309343.3000252
         ],
         "yaxis": "y2"
        },
        {
         "name": "Volume in litres",
         "type": "bar",
         "x": [
          "Canadian Whiskies",
          "American Vodkas",
          "Spiced Rum",
          "Straight Bourbon Whiskies",
          "Vodka 80 Proof",
          "Whiskey Liqueur",
          "Tennessee Whiskies",
          "Blended Whiskies",
          "Imported Vodka",
          "Imported Vodkas"
         ],
         "xaxis": "x2",
         "y": [
          24436188.680031296,
          22220832.925013207,
          12836338.124996936,
          8291749.509997178,
          17797445.02499475,
          7661934.824993826,
          4265061.0400000205,
          7572867.347997641,
          3751975.547000737,
          3897122.925000419
         ],
         "yaxis": "y2"
        }
       ],
       "layout": {
        "autosize": false,
        "height": 400,
        "template": {
         "data": {
          "bar": [
           {
            "error_x": {
             "color": "#2a3f5f"
            },
            "error_y": {
             "color": "#2a3f5f"
            },
            "marker": {
             "line": {
              "color": "#E5ECF6",
              "width": 0.5
             }
            },
            "type": "bar"
           }
          ],
          "barpolar": [
           {
            "marker": {
             "line": {
              "color": "#E5ECF6",
              "width": 0.5
             }
            },
            "type": "barpolar"
           }
          ],
          "carpet": [
           {
            "aaxis": {
             "endlinecolor": "#2a3f5f",
             "gridcolor": "white",
             "linecolor": "white",
             "minorgridcolor": "white",
             "startlinecolor": "#2a3f5f"
            },
            "baxis": {
             "endlinecolor": "#2a3f5f",
             "gridcolor": "white",
             "linecolor": "white",
             "minorgridcolor": "white",
             "startlinecolor": "#2a3f5f"
            },
            "type": "carpet"
           }
          ],
          "choropleth": [
           {
            "colorbar": {
             "outlinewidth": 0,
             "ticks": ""
            },
            "type": "choropleth"
           }
          ],
          "contour": [
           {
            "colorbar": {
             "outlinewidth": 0,
             "ticks": ""
            },
            "colorscale": [
             [
              0,
              "#0d0887"
             ],
             [
              0.1111111111111111,
              "#46039f"
             ],
             [
              0.2222222222222222,
              "#7201a8"
             ],
             [
              0.3333333333333333,
              "#9c179e"
             ],
             [
              0.4444444444444444,
              "#bd3786"
             ],
             [
              0.5555555555555556,
              "#d8576b"
             ],
             [
              0.6666666666666666,
              "#ed7953"
             ],
             [
              0.7777777777777778,
              "#fb9f3a"
             ],
             [
              0.8888888888888888,
              "#fdca26"
             ],
             [
              1,
              "#f0f921"
             ]
            ],
            "type": "contour"
           }
          ],
          "contourcarpet": [
           {
            "colorbar": {
             "outlinewidth": 0,
             "ticks": ""
            },
            "type": "contourcarpet"
           }
          ],
          "heatmap": [
           {
            "colorbar": {
             "outlinewidth": 0,
             "ticks": ""
            },
            "colorscale": [
             [
              0,
              "#0d0887"
             ],
             [
              0.1111111111111111,
              "#46039f"
             ],
             [
              0.2222222222222222,
              "#7201a8"
             ],
             [
              0.3333333333333333,
              "#9c179e"
             ],
             [
              0.4444444444444444,
              "#bd3786"
             ],
             [
              0.5555555555555556,
              "#d8576b"
             ],
             [
              0.6666666666666666,
              "#ed7953"
             ],
             [
              0.7777777777777778,
              "#fb9f3a"
             ],
             [
              0.8888888888888888,
              "#fdca26"
             ],
             [
              1,
              "#f0f921"
             ]
            ],
            "type": "heatmap"
           }
          ],
          "heatmapgl": [
           {
            "colorbar": {
             "outlinewidth": 0,
             "ticks": ""
            },
            "colorscale": [
             [
              0,
              "#0d0887"
             ],
             [
              0.1111111111111111,
              "#46039f"
             ],
             [
              0.2222222222222222,
              "#7201a8"
             ],
             [
              0.3333333333333333,
              "#9c179e"
             ],
             [
              0.4444444444444444,
              "#bd3786"
             ],
             [
              0.5555555555555556,
              "#d8576b"
             ],
             [
              0.6666666666666666,
              "#ed7953"
             ],
             [
              0.7777777777777778,
              "#fb9f3a"
             ],
             [
              0.8888888888888888,
              "#fdca26"
             ],
             [
              1,
              "#f0f921"
             ]
            ],
            "type": "heatmapgl"
           }
          ],
          "histogram": [
           {
            "marker": {
             "colorbar": {
              "outlinewidth": 0,
              "ticks": ""
             }
            },
            "type": "histogram"
           }
          ],
          "histogram2d": [
           {
            "colorbar": {
             "outlinewidth": 0,
             "ticks": ""
            },
            "colorscale": [
             [
              0,
              "#0d0887"
             ],
             [
              0.1111111111111111,
              "#46039f"
             ],
             [
              0.2222222222222222,
              "#7201a8"
             ],
             [
              0.3333333333333333,
              "#9c179e"
             ],
             [
              0.4444444444444444,
              "#bd3786"
             ],
             [
              0.5555555555555556,
              "#d8576b"
             ],
             [
              0.6666666666666666,
              "#ed7953"
             ],
             [
              0.7777777777777778,
              "#fb9f3a"
             ],
             [
              0.8888888888888888,
              "#fdca26"
             ],
             [
              1,
              "#f0f921"
             ]
            ],
            "type": "histogram2d"
           }
          ],
          "histogram2dcontour": [
           {
            "colorbar": {
             "outlinewidth": 0,
             "ticks": ""
            },
            "colorscale": [
             [
              0,
              "#0d0887"
             ],
             [
              0.1111111111111111,
              "#46039f"
             ],
             [
              0.2222222222222222,
              "#7201a8"
             ],
             [
              0.3333333333333333,
              "#9c179e"
             ],
             [
              0.4444444444444444,
              "#bd3786"
             ],
             [
              0.5555555555555556,
              "#d8576b"
             ],
             [
              0.6666666666666666,
              "#ed7953"
             ],
             [
              0.7777777777777778,
              "#fb9f3a"
             ],
             [
              0.8888888888888888,
              "#fdca26"
             ],
             [
              1,
              "#f0f921"
             ]
            ],
            "type": "histogram2dcontour"
           }
          ],
          "mesh3d": [
           {
            "colorbar": {
             "outlinewidth": 0,
             "ticks": ""
            },
            "type": "mesh3d"
           }
          ],
          "parcoords": [
           {
            "line": {
             "colorbar": {
              "outlinewidth": 0,
              "ticks": ""
             }
            },
            "type": "parcoords"
           }
          ],
          "pie": [
           {
            "automargin": true,
            "type": "pie"
           }
          ],
          "scatter": [
           {
            "marker": {
             "colorbar": {
              "outlinewidth": 0,
              "ticks": ""
             }
            },
            "type": "scatter"
           }
          ],
          "scatter3d": [
           {
            "line": {
             "colorbar": {
              "outlinewidth": 0,
              "ticks": ""
             }
            },
            "marker": {
             "colorbar": {
              "outlinewidth": 0,
              "ticks": ""
             }
            },
            "type": "scatter3d"
           }
          ],
          "scattercarpet": [
           {
            "marker": {
             "colorbar": {
              "outlinewidth": 0,
              "ticks": ""
             }
            },
            "type": "scattercarpet"
           }
          ],
          "scattergeo": [
           {
            "marker": {
             "colorbar": {
              "outlinewidth": 0,
              "ticks": ""
             }
            },
            "type": "scattergeo"
           }
          ],
          "scattergl": [
           {
            "marker": {
             "colorbar": {
              "outlinewidth": 0,
              "ticks": ""
             }
            },
            "type": "scattergl"
           }
          ],
          "scattermapbox": [
           {
            "marker": {
             "colorbar": {
              "outlinewidth": 0,
              "ticks": ""
             }
            },
            "type": "scattermapbox"
           }
          ],
          "scatterpolar": [
           {
            "marker": {
             "colorbar": {
              "outlinewidth": 0,
              "ticks": ""
             }
            },
            "type": "scatterpolar"
           }
          ],
          "scatterpolargl": [
           {
            "marker": {
             "colorbar": {
              "outlinewidth": 0,
              "ticks": ""
             }
            },
            "type": "scatterpolargl"
           }
          ],
          "scatterternary": [
           {
            "marker": {
             "colorbar": {
              "outlinewidth": 0,
              "ticks": ""
             }
            },
            "type": "scatterternary"
           }
          ],
          "surface": [
           {
            "colorbar": {
             "outlinewidth": 0,
             "ticks": ""
            },
            "colorscale": [
             [
              0,
              "#0d0887"
             ],
             [
              0.1111111111111111,
              "#46039f"
             ],
             [
              0.2222222222222222,
              "#7201a8"
             ],
             [
              0.3333333333333333,
              "#9c179e"
             ],
             [
              0.4444444444444444,
              "#bd3786"
             ],
             [
              0.5555555555555556,
              "#d8576b"
             ],
             [
              0.6666666666666666,
              "#ed7953"
             ],
             [
              0.7777777777777778,
              "#fb9f3a"
             ],
             [
              0.8888888888888888,
              "#fdca26"
             ],
             [
              1,
              "#f0f921"
             ]
            ],
            "type": "surface"
           }
          ],
          "table": [
           {
            "cells": {
             "fill": {
              "color": "#EBF0F8"
             },
             "line": {
              "color": "white"
             }
            },
            "header": {
             "fill": {
              "color": "#C8D4E3"
             },
             "line": {
              "color": "white"
             }
            },
            "type": "table"
           }
          ]
         },
         "layout": {
          "annotationdefaults": {
           "arrowcolor": "#2a3f5f",
           "arrowhead": 0,
           "arrowwidth": 1
          },
          "autotypenumbers": "strict",
          "coloraxis": {
           "colorbar": {
            "outlinewidth": 0,
            "ticks": ""
           }
          },
          "colorscale": {
           "diverging": [
            [
             0,
             "#8e0152"
            ],
            [
             0.1,
             "#c51b7d"
            ],
            [
             0.2,
             "#de77ae"
            ],
            [
             0.3,
             "#f1b6da"
            ],
            [
             0.4,
             "#fde0ef"
            ],
            [
             0.5,
             "#f7f7f7"
            ],
            [
             0.6,
             "#e6f5d0"
            ],
            [
             0.7,
             "#b8e186"
            ],
            [
             0.8,
             "#7fbc41"
            ],
            [
             0.9,
             "#4d9221"
            ],
            [
             1,
             "#276419"
            ]
           ],
           "sequential": [
            [
             0,
             "#0d0887"
            ],
            [
             0.1111111111111111,
             "#46039f"
            ],
            [
             0.2222222222222222,
             "#7201a8"
            ],
            [
             0.3333333333333333,
             "#9c179e"
            ],
            [
             0.4444444444444444,
             "#bd3786"
            ],
            [
             0.5555555555555556,
             "#d8576b"
            ],
            [
             0.6666666666666666,
             "#ed7953"
            ],
            [
             0.7777777777777778,
             "#fb9f3a"
            ],
            [
             0.8888888888888888,
             "#fdca26"
            ],
            [
             1,
             "#f0f921"
            ]
           ],
           "sequentialminus": [
            [
             0,
             "#0d0887"
            ],
            [
             0.1111111111111111,
             "#46039f"
            ],
            [
             0.2222222222222222,
             "#7201a8"
            ],
            [
             0.3333333333333333,
             "#9c179e"
            ],
            [
             0.4444444444444444,
             "#bd3786"
            ],
            [
             0.5555555555555556,
             "#d8576b"
            ],
            [
             0.6666666666666666,
             "#ed7953"
            ],
            [
             0.7777777777777778,
             "#fb9f3a"
            ],
            [
             0.8888888888888888,
             "#fdca26"
            ],
            [
             1,
             "#f0f921"
            ]
           ]
          },
          "colorway": [
           "#636efa",
           "#EF553B",
           "#00cc96",
           "#ab63fa",
           "#FFA15A",
           "#19d3f3",
           "#FF6692",
           "#B6E880",
           "#FF97FF",
           "#FECB52"
          ],
          "font": {
           "color": "#2a3f5f"
          },
          "geo": {
           "bgcolor": "white",
           "lakecolor": "white",
           "landcolor": "#E5ECF6",
           "showlakes": true,
           "showland": true,
           "subunitcolor": "white"
          },
          "hoverlabel": {
           "align": "left"
          },
          "hovermode": "closest",
          "mapbox": {
           "style": "light"
          },
          "paper_bgcolor": "white",
          "plot_bgcolor": "#E5ECF6",
          "polar": {
           "angularaxis": {
            "gridcolor": "white",
            "linecolor": "white",
            "ticks": ""
           },
           "bgcolor": "#E5ECF6",
           "radialaxis": {
            "gridcolor": "white",
            "linecolor": "white",
            "ticks": ""
           }
          },
          "scene": {
           "xaxis": {
            "backgroundcolor": "#E5ECF6",
            "gridcolor": "white",
            "gridwidth": 2,
            "linecolor": "white",
            "showbackground": true,
            "ticks": "",
            "zerolinecolor": "white"
           },
           "yaxis": {
            "backgroundcolor": "#E5ECF6",
            "gridcolor": "white",
            "gridwidth": 2,
            "linecolor": "white",
            "showbackground": true,
            "ticks": "",
            "zerolinecolor": "white"
           },
           "zaxis": {
            "backgroundcolor": "#E5ECF6",
            "gridcolor": "white",
            "gridwidth": 2,
            "linecolor": "white",
            "showbackground": true,
            "ticks": "",
            "zerolinecolor": "white"
           }
          },
          "shapedefaults": {
           "line": {
            "color": "#2a3f5f"
           }
          },
          "ternary": {
           "aaxis": {
            "gridcolor": "white",
            "linecolor": "white",
            "ticks": ""
           },
           "baxis": {
            "gridcolor": "white",
            "linecolor": "white",
            "ticks": ""
           },
           "bgcolor": "#E5ECF6",
           "caxis": {
            "gridcolor": "white",
            "linecolor": "white",
            "ticks": ""
           }
          },
          "title": {
           "x": 0.05
          },
          "xaxis": {
           "automargin": true,
           "gridcolor": "white",
           "linecolor": "white",
           "ticks": "",
           "title": {
            "standoff": 15
           },
           "zerolinecolor": "white",
           "zerolinewidth": 2
          },
          "yaxis": {
           "automargin": true,
           "gridcolor": "white",
           "linecolor": "white",
           "ticks": "",
           "title": {
            "standoff": 15
           },
           "zerolinecolor": "white",
           "zerolinewidth": 2
          }
         }
        },
        "width": 950,
        "xaxis": {
         "anchor": "y",
         "domain": [
          0,
          0.45
         ]
        },
        "xaxis2": {
         "anchor": "y2",
         "domain": [
          0.55,
          1
         ]
        },
        "yaxis": {
         "anchor": "x",
         "domain": [
          0,
          1
         ]
        },
        "yaxis2": {
         "anchor": "x2",
         "domain": [
          0,
          1
         ]
        }
       }
      },
      "text/html": [
       "<div>                            <div id=\"2be8b267-0030-4bb5-8292-cb6981cbcb32\" class=\"plotly-graph-div\" style=\"height:400px; width:950px;\"></div>            <script type=\"text/javascript\">                require([\"plotly\"], function(Plotly) {                    window.PLOTLYENV=window.PLOTLYENV || {};                                    if (document.getElementById(\"2be8b267-0030-4bb5-8292-cb6981cbcb32\")) {                    Plotly.newPlot(                        \"2be8b267-0030-4bb5-8292-cb6981cbcb32\",                        [{\"name\": \"Sale in dollars\", \"type\": \"bar\", \"x\": [\"Polk\", \"Linn\", \"Scott\", \"Johnson\", \"Black Hawk\", \"Pottawattamie\", \"Woodbury\", \"Dubuque\", \"Story\", \"Cerro Gordo\"], \"xaxis\": \"x\", \"y\": [628487589.0860251, 241633388.2697487, 199373150.98983648, 165010325.1298756, 156143453.49604556, 98084428.23998785, 95401093.63998981, 83565179.25999634, 83438395.59999666, 57710709.03999562], \"yaxis\": \"y\"}, {\"name\": \"Volume in litres\", \"type\": \"bar\", \"x\": [\"Polk\", \"Linn\", \"Scott\", \"Johnson\", \"Black Hawk\", \"Pottawattamie\", \"Woodbury\", \"Dubuque\", \"Story\", \"Cerro Gordo\"], \"xaxis\": \"x\", \"y\": [38805353.04805607, 16413220.68899799, 12683241.180997541, 10272978.941997042, 10201535.35199601, 6440453.441998579, 6243855.532998018, 5749765.1949991435, 5742092.508999127, 4192114.194000099], \"yaxis\": \"y\"}, {\"name\": \"Sale in dollars\", \"type\": \"bar\", \"x\": [\"Canadian Whiskies\", \"American Vodkas\", \"Spiced Rum\", \"Straight Bourbon Whiskies\", \"Vodka 80 Proof\", \"Whiskey Liqueur\", \"Tennessee Whiskies\", \"Blended Whiskies\", \"Imported Vodka\", \"Imported Vodkas\"], \"xaxis\": \"x2\", \"y\": [335644348.78886545, 217965920.960787, 196924659.78971148, 166558709.77965656, 145771914.57028538, 134450272.20996115, 120645240.66607565, 79175742.2500325, 77926425.81157508, 71309343.3000252], \"yaxis\": \"y2\"}, {\"name\": \"Volume in litres\", \"type\": \"bar\", \"x\": [\"Canadian Whiskies\", \"American Vodkas\", \"Spiced Rum\", \"Straight Bourbon Whiskies\", \"Vodka 80 Proof\", \"Whiskey Liqueur\", \"Tennessee Whiskies\", \"Blended Whiskies\", \"Imported Vodka\", \"Imported Vodkas\"], \"xaxis\": \"x2\", \"y\": [24436188.680031296, 22220832.925013207, 12836338.124996936, 8291749.509997178, 17797445.02499475, 7661934.824993826, 4265061.0400000205, 7572867.347997641, 3751975.547000737, 3897122.925000419], \"yaxis\": \"y2\"}],                        {\"autosize\": false, \"height\": 400, \"template\": {\"data\": {\"bar\": [{\"error_x\": {\"color\": \"#2a3f5f\"}, \"error_y\": {\"color\": \"#2a3f5f\"}, \"marker\": {\"line\": {\"color\": \"#E5ECF6\", \"width\": 0.5}}, \"type\": \"bar\"}], \"barpolar\": [{\"marker\": {\"line\": {\"color\": \"#E5ECF6\", \"width\": 0.5}}, \"type\": \"barpolar\"}], \"carpet\": [{\"aaxis\": {\"endlinecolor\": \"#2a3f5f\", \"gridcolor\": \"white\", \"linecolor\": \"white\", \"minorgridcolor\": \"white\", \"startlinecolor\": \"#2a3f5f\"}, \"baxis\": {\"endlinecolor\": \"#2a3f5f\", \"gridcolor\": \"white\", \"linecolor\": \"white\", \"minorgridcolor\": \"white\", \"startlinecolor\": \"#2a3f5f\"}, \"type\": \"carpet\"}], \"choropleth\": [{\"colorbar\": {\"outlinewidth\": 0, \"ticks\": \"\"}, \"type\": \"choropleth\"}], \"contour\": [{\"colorbar\": {\"outlinewidth\": 0, \"ticks\": \"\"}, \"colorscale\": [[0.0, \"#0d0887\"], [0.1111111111111111, \"#46039f\"], [0.2222222222222222, \"#7201a8\"], [0.3333333333333333, \"#9c179e\"], [0.4444444444444444, \"#bd3786\"], [0.5555555555555556, \"#d8576b\"], [0.6666666666666666, \"#ed7953\"], [0.7777777777777778, \"#fb9f3a\"], [0.8888888888888888, \"#fdca26\"], [1.0, \"#f0f921\"]], \"type\": \"contour\"}], \"contourcarpet\": [{\"colorbar\": {\"outlinewidth\": 0, \"ticks\": \"\"}, \"type\": \"contourcarpet\"}], \"heatmap\": [{\"colorbar\": {\"outlinewidth\": 0, \"ticks\": \"\"}, \"colorscale\": [[0.0, \"#0d0887\"], [0.1111111111111111, \"#46039f\"], [0.2222222222222222, \"#7201a8\"], [0.3333333333333333, \"#9c179e\"], [0.4444444444444444, \"#bd3786\"], [0.5555555555555556, \"#d8576b\"], [0.6666666666666666, \"#ed7953\"], [0.7777777777777778, \"#fb9f3a\"], [0.8888888888888888, \"#fdca26\"], [1.0, \"#f0f921\"]], \"type\": \"heatmap\"}], \"heatmapgl\": [{\"colorbar\": {\"outlinewidth\": 0, \"ticks\": \"\"}, \"colorscale\": [[0.0, \"#0d0887\"], [0.1111111111111111, \"#46039f\"], [0.2222222222222222, \"#7201a8\"], [0.3333333333333333, \"#9c179e\"], [0.4444444444444444, \"#bd3786\"], [0.5555555555555556, \"#d8576b\"], [0.6666666666666666, \"#ed7953\"], [0.7777777777777778, \"#fb9f3a\"], [0.8888888888888888, \"#fdca26\"], [1.0, \"#f0f921\"]], \"type\": \"heatmapgl\"}], \"histogram\": [{\"marker\": {\"colorbar\": {\"outlinewidth\": 0, \"ticks\": \"\"}}, \"type\": \"histogram\"}], \"histogram2d\": [{\"colorbar\": {\"outlinewidth\": 0, \"ticks\": \"\"}, \"colorscale\": [[0.0, \"#0d0887\"], [0.1111111111111111, \"#46039f\"], [0.2222222222222222, \"#7201a8\"], [0.3333333333333333, \"#9c179e\"], [0.4444444444444444, \"#bd3786\"], [0.5555555555555556, \"#d8576b\"], [0.6666666666666666, \"#ed7953\"], [0.7777777777777778, \"#fb9f3a\"], [0.8888888888888888, \"#fdca26\"], [1.0, \"#f0f921\"]], \"type\": \"histogram2d\"}], \"histogram2dcontour\": [{\"colorbar\": {\"outlinewidth\": 0, \"ticks\": \"\"}, \"colorscale\": [[0.0, \"#0d0887\"], [0.1111111111111111, \"#46039f\"], [0.2222222222222222, \"#7201a8\"], [0.3333333333333333, \"#9c179e\"], [0.4444444444444444, \"#bd3786\"], [0.5555555555555556, \"#d8576b\"], [0.6666666666666666, \"#ed7953\"], [0.7777777777777778, \"#fb9f3a\"], [0.8888888888888888, \"#fdca26\"], [1.0, \"#f0f921\"]], \"type\": \"histogram2dcontour\"}], \"mesh3d\": [{\"colorbar\": {\"outlinewidth\": 0, \"ticks\": \"\"}, \"type\": \"mesh3d\"}], \"parcoords\": [{\"line\": {\"colorbar\": {\"outlinewidth\": 0, \"ticks\": \"\"}}, \"type\": \"parcoords\"}], \"pie\": [{\"automargin\": true, \"type\": \"pie\"}], \"scatter\": [{\"marker\": {\"colorbar\": {\"outlinewidth\": 0, \"ticks\": \"\"}}, \"type\": \"scatter\"}], \"scatter3d\": [{\"line\": {\"colorbar\": {\"outlinewidth\": 0, \"ticks\": \"\"}}, \"marker\": {\"colorbar\": {\"outlinewidth\": 0, \"ticks\": \"\"}}, \"type\": \"scatter3d\"}], \"scattercarpet\": [{\"marker\": {\"colorbar\": {\"outlinewidth\": 0, \"ticks\": \"\"}}, \"type\": \"scattercarpet\"}], \"scattergeo\": [{\"marker\": {\"colorbar\": {\"outlinewidth\": 0, \"ticks\": \"\"}}, \"type\": \"scattergeo\"}], \"scattergl\": [{\"marker\": {\"colorbar\": {\"outlinewidth\": 0, \"ticks\": \"\"}}, \"type\": \"scattergl\"}], \"scattermapbox\": [{\"marker\": {\"colorbar\": {\"outlinewidth\": 0, \"ticks\": \"\"}}, \"type\": \"scattermapbox\"}], \"scatterpolar\": [{\"marker\": {\"colorbar\": {\"outlinewidth\": 0, \"ticks\": \"\"}}, \"type\": \"scatterpolar\"}], \"scatterpolargl\": [{\"marker\": {\"colorbar\": {\"outlinewidth\": 0, \"ticks\": \"\"}}, \"type\": \"scatterpolargl\"}], \"scatterternary\": [{\"marker\": {\"colorbar\": {\"outlinewidth\": 0, \"ticks\": \"\"}}, \"type\": \"scatterternary\"}], \"surface\": [{\"colorbar\": {\"outlinewidth\": 0, \"ticks\": \"\"}, \"colorscale\": [[0.0, \"#0d0887\"], [0.1111111111111111, \"#46039f\"], [0.2222222222222222, \"#7201a8\"], [0.3333333333333333, \"#9c179e\"], [0.4444444444444444, \"#bd3786\"], [0.5555555555555556, \"#d8576b\"], [0.6666666666666666, \"#ed7953\"], [0.7777777777777778, \"#fb9f3a\"], [0.8888888888888888, \"#fdca26\"], [1.0, \"#f0f921\"]], \"type\": \"surface\"}], \"table\": [{\"cells\": {\"fill\": {\"color\": \"#EBF0F8\"}, \"line\": {\"color\": \"white\"}}, \"header\": {\"fill\": {\"color\": \"#C8D4E3\"}, \"line\": {\"color\": \"white\"}}, \"type\": \"table\"}]}, \"layout\": {\"annotationdefaults\": {\"arrowcolor\": \"#2a3f5f\", \"arrowhead\": 0, \"arrowwidth\": 1}, \"autotypenumbers\": \"strict\", \"coloraxis\": {\"colorbar\": {\"outlinewidth\": 0, \"ticks\": \"\"}}, \"colorscale\": {\"diverging\": [[0, \"#8e0152\"], [0.1, \"#c51b7d\"], [0.2, \"#de77ae\"], [0.3, \"#f1b6da\"], [0.4, \"#fde0ef\"], [0.5, \"#f7f7f7\"], [0.6, \"#e6f5d0\"], [0.7, \"#b8e186\"], [0.8, \"#7fbc41\"], [0.9, \"#4d9221\"], [1, \"#276419\"]], \"sequential\": [[0.0, \"#0d0887\"], [0.1111111111111111, \"#46039f\"], [0.2222222222222222, \"#7201a8\"], [0.3333333333333333, \"#9c179e\"], [0.4444444444444444, \"#bd3786\"], [0.5555555555555556, \"#d8576b\"], [0.6666666666666666, \"#ed7953\"], [0.7777777777777778, \"#fb9f3a\"], [0.8888888888888888, \"#fdca26\"], [1.0, \"#f0f921\"]], \"sequentialminus\": [[0.0, \"#0d0887\"], [0.1111111111111111, \"#46039f\"], [0.2222222222222222, \"#7201a8\"], [0.3333333333333333, \"#9c179e\"], [0.4444444444444444, \"#bd3786\"], [0.5555555555555556, \"#d8576b\"], [0.6666666666666666, \"#ed7953\"], [0.7777777777777778, \"#fb9f3a\"], [0.8888888888888888, \"#fdca26\"], [1.0, \"#f0f921\"]]}, \"colorway\": [\"#636efa\", \"#EF553B\", \"#00cc96\", \"#ab63fa\", \"#FFA15A\", \"#19d3f3\", \"#FF6692\", \"#B6E880\", \"#FF97FF\", \"#FECB52\"], \"font\": {\"color\": \"#2a3f5f\"}, \"geo\": {\"bgcolor\": \"white\", \"lakecolor\": \"white\", \"landcolor\": \"#E5ECF6\", \"showlakes\": true, \"showland\": true, \"subunitcolor\": \"white\"}, \"hoverlabel\": {\"align\": \"left\"}, \"hovermode\": \"closest\", \"mapbox\": {\"style\": \"light\"}, \"paper_bgcolor\": \"white\", \"plot_bgcolor\": \"#E5ECF6\", \"polar\": {\"angularaxis\": {\"gridcolor\": \"white\", \"linecolor\": \"white\", \"ticks\": \"\"}, \"bgcolor\": \"#E5ECF6\", \"radialaxis\": {\"gridcolor\": \"white\", \"linecolor\": \"white\", \"ticks\": \"\"}}, \"scene\": {\"xaxis\": {\"backgroundcolor\": \"#E5ECF6\", \"gridcolor\": \"white\", \"gridwidth\": 2, \"linecolor\": \"white\", \"showbackground\": true, \"ticks\": \"\", \"zerolinecolor\": \"white\"}, \"yaxis\": {\"backgroundcolor\": \"#E5ECF6\", \"gridcolor\": \"white\", \"gridwidth\": 2, \"linecolor\": \"white\", \"showbackground\": true, \"ticks\": \"\", \"zerolinecolor\": \"white\"}, \"zaxis\": {\"backgroundcolor\": \"#E5ECF6\", \"gridcolor\": \"white\", \"gridwidth\": 2, \"linecolor\": \"white\", \"showbackground\": true, \"ticks\": \"\", \"zerolinecolor\": \"white\"}}, \"shapedefaults\": {\"line\": {\"color\": \"#2a3f5f\"}}, \"ternary\": {\"aaxis\": {\"gridcolor\": \"white\", \"linecolor\": \"white\", \"ticks\": \"\"}, \"baxis\": {\"gridcolor\": \"white\", \"linecolor\": \"white\", \"ticks\": \"\"}, \"bgcolor\": \"#E5ECF6\", \"caxis\": {\"gridcolor\": \"white\", \"linecolor\": \"white\", \"ticks\": \"\"}}, \"title\": {\"x\": 0.05}, \"xaxis\": {\"automargin\": true, \"gridcolor\": \"white\", \"linecolor\": \"white\", \"ticks\": \"\", \"title\": {\"standoff\": 15}, \"zerolinecolor\": \"white\", \"zerolinewidth\": 2}, \"yaxis\": {\"automargin\": true, \"gridcolor\": \"white\", \"linecolor\": \"white\", \"ticks\": \"\", \"title\": {\"standoff\": 15}, \"zerolinecolor\": \"white\", \"zerolinewidth\": 2}}}, \"width\": 950, \"xaxis\": {\"anchor\": \"y\", \"domain\": [0.0, 0.45]}, \"xaxis2\": {\"anchor\": \"y2\", \"domain\": [0.55, 1.0]}, \"yaxis\": {\"anchor\": \"x\", \"domain\": [0.0, 1.0]}, \"yaxis2\": {\"anchor\": \"x2\", \"domain\": [0.0, 1.0]}},                        {\"responsive\": true}                    ).then(function(){\n",
       "                            \n",
       "var gd = document.getElementById('2be8b267-0030-4bb5-8292-cb6981cbcb32');\n",
       "var x = new MutationObserver(function (mutations, observer) {{\n",
       "        var display = window.getComputedStyle(gd).display;\n",
       "        if (!display || display === 'none') {{\n",
       "            console.log([gd, 'removed!']);\n",
       "            Plotly.purge(gd);\n",
       "            observer.disconnect();\n",
       "        }}\n",
       "}});\n",
       "\n",
       "// Listen for the removal of the full notebook cells\n",
       "var notebookContainer = gd.closest('#notebook-container');\n",
       "if (notebookContainer) {{\n",
       "    x.observe(notebookContainer, {childList: true});\n",
       "}}\n",
       "\n",
       "// Listen for the clearing of the current output cell\n",
       "var outputEl = gd.closest('.output');\n",
       "if (outputEl) {{\n",
       "    x.observe(outputEl, {childList: true});\n",
       "}}\n",
       "\n",
       "                        })                };                });            </script>        </div>"
      ]
     },
     "metadata": {},
     "output_type": "display_data"
    }
   ],
   "source": [
    "fig = make_subplots(rows=1, cols=2)\n",
    "fig = plot_bar(fig, df_aggregate, 'county', 1, 1)\n",
    "fig = plot_bar(fig, df_aggregate, 'category_name', 1, 2)\n",
    "fig.update_layout(autosize=False, width=950, height=400)\n",
    "fig.show()"
   ]
  },
  {
   "cell_type": "markdown",
   "metadata": {},
   "source": [
    "<p style=\"font-family: Monaco; font-size: 1.3em; color: IndianRed\">As expected Polk's county cas the biggest selling because it is the most populous and richest county. The next places of counties are in order of population. The most common category of drink was Canadian Whiskies.</p>"
   ]
  },
  {
   "cell_type": "markdown",
   "metadata": {},
   "source": [
    "<ul><li style=\"font-family: Monaco; font-size: 1.3em\"><em>Vendor and Item</em></li></ul>"
   ]
  },
  {
   "cell_type": "code",
   "execution_count": 163,
   "metadata": {},
   "outputs": [
    {
     "data": {
      "application/vnd.plotly.v1+json": {
       "config": {
        "plotlyServerURL": "https://plot.ly"
       },
       "data": [
        {
         "name": "Sale in dollars",
         "type": "bar",
         "x": [
          "DIAGEO AMERICAS",
          "JIM BEAM BRANDS",
          "SAZERAC COMPANY  INC",
          "PERNOD RICARD USA",
          "SAZERAC NORTH AMERICA",
          "PROXIMO",
          "PERNOD RICARD USA/AUSTIN NICHOLS",
          "HEAVEN HILL BRANDS",
          "LUXCO-ST LOUIS",
          "BROWN-FORMAN CORPORATION"
         ],
         "xaxis": "x",
         "y": [
          591873174.2966383,
          213848397.88351429,
          132374140.68909127,
          106086364.55720666,
          94969761.38008057,
          93404450.08954717,
          92119352.22971767,
          89829393.65004821,
          87411457.1001452,
          80920461.61999635
         ],
         "yaxis": "y"
        },
        {
         "name": "Volume in litres",
         "type": "bar",
         "x": [
          "DIAGEO AMERICAS",
          "JIM BEAM BRANDS",
          "SAZERAC COMPANY  INC",
          "PERNOD RICARD USA",
          "SAZERAC NORTH AMERICA",
          "PROXIMO",
          "PERNOD RICARD USA/AUSTIN NICHOLS",
          "HEAVEN HILL BRANDS",
          "LUXCO-ST LOUIS",
          "BROWN-FORMAN CORPORATION"
         ],
         "xaxis": "x",
         "y": [
          29387936.705053825,
          14371380.079998668,
          9416876.809994271,
          4799519.814999447,
          13323411.255998088,
          6573160.549997791,
          4538137.828000629,
          7956902.199996922,
          11788906.025000008,
          3438186.885000261
         ],
         "yaxis": "y"
        },
        {
         "name": "Sale in dollars",
         "type": "bar",
         "x": [
          "Black Velvet",
          "Titos Handmade Vodka",
          "Captain Morgan Spiced Rum",
          "Jack Daniels Old #7 Black Lbl",
          "Fireball Cinnamon Whiskey",
          "Hawkeye Vodka",
          "Crown Royal",
          "Crown Royal Canadian Whisky",
          "Jameson",
          "Jagermeister Liqueur"
         ],
         "xaxis": "x2",
         "y": [
          111140532.5899138,
          76597547.08004849,
          73413602.89001223,
          67212027.8699821,
          60733653.98000039,
          50573874.81999228,
          47710744.379996695,
          45302553.25998601,
          39114737.40999844,
          36424646.5099853
         ],
         "yaxis": "y2"
        },
        {
         "name": "Volume in litres",
         "type": "bar",
         "x": [
          "Black Velvet",
          "Titos Handmade Vodka",
          "Captain Morgan Spiced Rum",
          "Jack Daniels Old #7 Black Lbl",
          "Fireball Cinnamon Whiskey",
          "Hawkeye Vodka",
          "Crown Royal",
          "Crown Royal Canadian Whisky",
          "Jameson",
          "Jagermeister Liqueur"
         ],
         "xaxis": "x2",
         "y": [
          11952039.174995812,
          4264657.199999909,
          4356623,
          2467164.6000002087,
          3777125.000000374,
          7983632.674999603,
          1594641.8750000396,
          1626438.474999996,
          1350358.5750000046,
          1517846.350000003
         ],
         "yaxis": "y2"
        }
       ],
       "layout": {
        "autosize": false,
        "height": 400,
        "template": {
         "data": {
          "bar": [
           {
            "error_x": {
             "color": "#2a3f5f"
            },
            "error_y": {
             "color": "#2a3f5f"
            },
            "marker": {
             "line": {
              "color": "#E5ECF6",
              "width": 0.5
             }
            },
            "type": "bar"
           }
          ],
          "barpolar": [
           {
            "marker": {
             "line": {
              "color": "#E5ECF6",
              "width": 0.5
             }
            },
            "type": "barpolar"
           }
          ],
          "carpet": [
           {
            "aaxis": {
             "endlinecolor": "#2a3f5f",
             "gridcolor": "white",
             "linecolor": "white",
             "minorgridcolor": "white",
             "startlinecolor": "#2a3f5f"
            },
            "baxis": {
             "endlinecolor": "#2a3f5f",
             "gridcolor": "white",
             "linecolor": "white",
             "minorgridcolor": "white",
             "startlinecolor": "#2a3f5f"
            },
            "type": "carpet"
           }
          ],
          "choropleth": [
           {
            "colorbar": {
             "outlinewidth": 0,
             "ticks": ""
            },
            "type": "choropleth"
           }
          ],
          "contour": [
           {
            "colorbar": {
             "outlinewidth": 0,
             "ticks": ""
            },
            "colorscale": [
             [
              0,
              "#0d0887"
             ],
             [
              0.1111111111111111,
              "#46039f"
             ],
             [
              0.2222222222222222,
              "#7201a8"
             ],
             [
              0.3333333333333333,
              "#9c179e"
             ],
             [
              0.4444444444444444,
              "#bd3786"
             ],
             [
              0.5555555555555556,
              "#d8576b"
             ],
             [
              0.6666666666666666,
              "#ed7953"
             ],
             [
              0.7777777777777778,
              "#fb9f3a"
             ],
             [
              0.8888888888888888,
              "#fdca26"
             ],
             [
              1,
              "#f0f921"
             ]
            ],
            "type": "contour"
           }
          ],
          "contourcarpet": [
           {
            "colorbar": {
             "outlinewidth": 0,
             "ticks": ""
            },
            "type": "contourcarpet"
           }
          ],
          "heatmap": [
           {
            "colorbar": {
             "outlinewidth": 0,
             "ticks": ""
            },
            "colorscale": [
             [
              0,
              "#0d0887"
             ],
             [
              0.1111111111111111,
              "#46039f"
             ],
             [
              0.2222222222222222,
              "#7201a8"
             ],
             [
              0.3333333333333333,
              "#9c179e"
             ],
             [
              0.4444444444444444,
              "#bd3786"
             ],
             [
              0.5555555555555556,
              "#d8576b"
             ],
             [
              0.6666666666666666,
              "#ed7953"
             ],
             [
              0.7777777777777778,
              "#fb9f3a"
             ],
             [
              0.8888888888888888,
              "#fdca26"
             ],
             [
              1,
              "#f0f921"
             ]
            ],
            "type": "heatmap"
           }
          ],
          "heatmapgl": [
           {
            "colorbar": {
             "outlinewidth": 0,
             "ticks": ""
            },
            "colorscale": [
             [
              0,
              "#0d0887"
             ],
             [
              0.1111111111111111,
              "#46039f"
             ],
             [
              0.2222222222222222,
              "#7201a8"
             ],
             [
              0.3333333333333333,
              "#9c179e"
             ],
             [
              0.4444444444444444,
              "#bd3786"
             ],
             [
              0.5555555555555556,
              "#d8576b"
             ],
             [
              0.6666666666666666,
              "#ed7953"
             ],
             [
              0.7777777777777778,
              "#fb9f3a"
             ],
             [
              0.8888888888888888,
              "#fdca26"
             ],
             [
              1,
              "#f0f921"
             ]
            ],
            "type": "heatmapgl"
           }
          ],
          "histogram": [
           {
            "marker": {
             "colorbar": {
              "outlinewidth": 0,
              "ticks": ""
             }
            },
            "type": "histogram"
           }
          ],
          "histogram2d": [
           {
            "colorbar": {
             "outlinewidth": 0,
             "ticks": ""
            },
            "colorscale": [
             [
              0,
              "#0d0887"
             ],
             [
              0.1111111111111111,
              "#46039f"
             ],
             [
              0.2222222222222222,
              "#7201a8"
             ],
             [
              0.3333333333333333,
              "#9c179e"
             ],
             [
              0.4444444444444444,
              "#bd3786"
             ],
             [
              0.5555555555555556,
              "#d8576b"
             ],
             [
              0.6666666666666666,
              "#ed7953"
             ],
             [
              0.7777777777777778,
              "#fb9f3a"
             ],
             [
              0.8888888888888888,
              "#fdca26"
             ],
             [
              1,
              "#f0f921"
             ]
            ],
            "type": "histogram2d"
           }
          ],
          "histogram2dcontour": [
           {
            "colorbar": {
             "outlinewidth": 0,
             "ticks": ""
            },
            "colorscale": [
             [
              0,
              "#0d0887"
             ],
             [
              0.1111111111111111,
              "#46039f"
             ],
             [
              0.2222222222222222,
              "#7201a8"
             ],
             [
              0.3333333333333333,
              "#9c179e"
             ],
             [
              0.4444444444444444,
              "#bd3786"
             ],
             [
              0.5555555555555556,
              "#d8576b"
             ],
             [
              0.6666666666666666,
              "#ed7953"
             ],
             [
              0.7777777777777778,
              "#fb9f3a"
             ],
             [
              0.8888888888888888,
              "#fdca26"
             ],
             [
              1,
              "#f0f921"
             ]
            ],
            "type": "histogram2dcontour"
           }
          ],
          "mesh3d": [
           {
            "colorbar": {
             "outlinewidth": 0,
             "ticks": ""
            },
            "type": "mesh3d"
           }
          ],
          "parcoords": [
           {
            "line": {
             "colorbar": {
              "outlinewidth": 0,
              "ticks": ""
             }
            },
            "type": "parcoords"
           }
          ],
          "pie": [
           {
            "automargin": true,
            "type": "pie"
           }
          ],
          "scatter": [
           {
            "marker": {
             "colorbar": {
              "outlinewidth": 0,
              "ticks": ""
             }
            },
            "type": "scatter"
           }
          ],
          "scatter3d": [
           {
            "line": {
             "colorbar": {
              "outlinewidth": 0,
              "ticks": ""
             }
            },
            "marker": {
             "colorbar": {
              "outlinewidth": 0,
              "ticks": ""
             }
            },
            "type": "scatter3d"
           }
          ],
          "scattercarpet": [
           {
            "marker": {
             "colorbar": {
              "outlinewidth": 0,
              "ticks": ""
             }
            },
            "type": "scattercarpet"
           }
          ],
          "scattergeo": [
           {
            "marker": {
             "colorbar": {
              "outlinewidth": 0,
              "ticks": ""
             }
            },
            "type": "scattergeo"
           }
          ],
          "scattergl": [
           {
            "marker": {
             "colorbar": {
              "outlinewidth": 0,
              "ticks": ""
             }
            },
            "type": "scattergl"
           }
          ],
          "scattermapbox": [
           {
            "marker": {
             "colorbar": {
              "outlinewidth": 0,
              "ticks": ""
             }
            },
            "type": "scattermapbox"
           }
          ],
          "scatterpolar": [
           {
            "marker": {
             "colorbar": {
              "outlinewidth": 0,
              "ticks": ""
             }
            },
            "type": "scatterpolar"
           }
          ],
          "scatterpolargl": [
           {
            "marker": {
             "colorbar": {
              "outlinewidth": 0,
              "ticks": ""
             }
            },
            "type": "scatterpolargl"
           }
          ],
          "scatterternary": [
           {
            "marker": {
             "colorbar": {
              "outlinewidth": 0,
              "ticks": ""
             }
            },
            "type": "scatterternary"
           }
          ],
          "surface": [
           {
            "colorbar": {
             "outlinewidth": 0,
             "ticks": ""
            },
            "colorscale": [
             [
              0,
              "#0d0887"
             ],
             [
              0.1111111111111111,
              "#46039f"
             ],
             [
              0.2222222222222222,
              "#7201a8"
             ],
             [
              0.3333333333333333,
              "#9c179e"
             ],
             [
              0.4444444444444444,
              "#bd3786"
             ],
             [
              0.5555555555555556,
              "#d8576b"
             ],
             [
              0.6666666666666666,
              "#ed7953"
             ],
             [
              0.7777777777777778,
              "#fb9f3a"
             ],
             [
              0.8888888888888888,
              "#fdca26"
             ],
             [
              1,
              "#f0f921"
             ]
            ],
            "type": "surface"
           }
          ],
          "table": [
           {
            "cells": {
             "fill": {
              "color": "#EBF0F8"
             },
             "line": {
              "color": "white"
             }
            },
            "header": {
             "fill": {
              "color": "#C8D4E3"
             },
             "line": {
              "color": "white"
             }
            },
            "type": "table"
           }
          ]
         },
         "layout": {
          "annotationdefaults": {
           "arrowcolor": "#2a3f5f",
           "arrowhead": 0,
           "arrowwidth": 1
          },
          "autotypenumbers": "strict",
          "coloraxis": {
           "colorbar": {
            "outlinewidth": 0,
            "ticks": ""
           }
          },
          "colorscale": {
           "diverging": [
            [
             0,
             "#8e0152"
            ],
            [
             0.1,
             "#c51b7d"
            ],
            [
             0.2,
             "#de77ae"
            ],
            [
             0.3,
             "#f1b6da"
            ],
            [
             0.4,
             "#fde0ef"
            ],
            [
             0.5,
             "#f7f7f7"
            ],
            [
             0.6,
             "#e6f5d0"
            ],
            [
             0.7,
             "#b8e186"
            ],
            [
             0.8,
             "#7fbc41"
            ],
            [
             0.9,
             "#4d9221"
            ],
            [
             1,
             "#276419"
            ]
           ],
           "sequential": [
            [
             0,
             "#0d0887"
            ],
            [
             0.1111111111111111,
             "#46039f"
            ],
            [
             0.2222222222222222,
             "#7201a8"
            ],
            [
             0.3333333333333333,
             "#9c179e"
            ],
            [
             0.4444444444444444,
             "#bd3786"
            ],
            [
             0.5555555555555556,
             "#d8576b"
            ],
            [
             0.6666666666666666,
             "#ed7953"
            ],
            [
             0.7777777777777778,
             "#fb9f3a"
            ],
            [
             0.8888888888888888,
             "#fdca26"
            ],
            [
             1,
             "#f0f921"
            ]
           ],
           "sequentialminus": [
            [
             0,
             "#0d0887"
            ],
            [
             0.1111111111111111,
             "#46039f"
            ],
            [
             0.2222222222222222,
             "#7201a8"
            ],
            [
             0.3333333333333333,
             "#9c179e"
            ],
            [
             0.4444444444444444,
             "#bd3786"
            ],
            [
             0.5555555555555556,
             "#d8576b"
            ],
            [
             0.6666666666666666,
             "#ed7953"
            ],
            [
             0.7777777777777778,
             "#fb9f3a"
            ],
            [
             0.8888888888888888,
             "#fdca26"
            ],
            [
             1,
             "#f0f921"
            ]
           ]
          },
          "colorway": [
           "#636efa",
           "#EF553B",
           "#00cc96",
           "#ab63fa",
           "#FFA15A",
           "#19d3f3",
           "#FF6692",
           "#B6E880",
           "#FF97FF",
           "#FECB52"
          ],
          "font": {
           "color": "#2a3f5f"
          },
          "geo": {
           "bgcolor": "white",
           "lakecolor": "white",
           "landcolor": "#E5ECF6",
           "showlakes": true,
           "showland": true,
           "subunitcolor": "white"
          },
          "hoverlabel": {
           "align": "left"
          },
          "hovermode": "closest",
          "mapbox": {
           "style": "light"
          },
          "paper_bgcolor": "white",
          "plot_bgcolor": "#E5ECF6",
          "polar": {
           "angularaxis": {
            "gridcolor": "white",
            "linecolor": "white",
            "ticks": ""
           },
           "bgcolor": "#E5ECF6",
           "radialaxis": {
            "gridcolor": "white",
            "linecolor": "white",
            "ticks": ""
           }
          },
          "scene": {
           "xaxis": {
            "backgroundcolor": "#E5ECF6",
            "gridcolor": "white",
            "gridwidth": 2,
            "linecolor": "white",
            "showbackground": true,
            "ticks": "",
            "zerolinecolor": "white"
           },
           "yaxis": {
            "backgroundcolor": "#E5ECF6",
            "gridcolor": "white",
            "gridwidth": 2,
            "linecolor": "white",
            "showbackground": true,
            "ticks": "",
            "zerolinecolor": "white"
           },
           "zaxis": {
            "backgroundcolor": "#E5ECF6",
            "gridcolor": "white",
            "gridwidth": 2,
            "linecolor": "white",
            "showbackground": true,
            "ticks": "",
            "zerolinecolor": "white"
           }
          },
          "shapedefaults": {
           "line": {
            "color": "#2a3f5f"
           }
          },
          "ternary": {
           "aaxis": {
            "gridcolor": "white",
            "linecolor": "white",
            "ticks": ""
           },
           "baxis": {
            "gridcolor": "white",
            "linecolor": "white",
            "ticks": ""
           },
           "bgcolor": "#E5ECF6",
           "caxis": {
            "gridcolor": "white",
            "linecolor": "white",
            "ticks": ""
           }
          },
          "title": {
           "x": 0.05
          },
          "xaxis": {
           "automargin": true,
           "gridcolor": "white",
           "linecolor": "white",
           "ticks": "",
           "title": {
            "standoff": 15
           },
           "zerolinecolor": "white",
           "zerolinewidth": 2
          },
          "yaxis": {
           "automargin": true,
           "gridcolor": "white",
           "linecolor": "white",
           "ticks": "",
           "title": {
            "standoff": 15
           },
           "zerolinecolor": "white",
           "zerolinewidth": 2
          }
         }
        },
        "width": 950,
        "xaxis": {
         "anchor": "y",
         "domain": [
          0,
          0.45
         ]
        },
        "xaxis2": {
         "anchor": "y2",
         "domain": [
          0.55,
          1
         ]
        },
        "yaxis": {
         "anchor": "x",
         "domain": [
          0,
          1
         ]
        },
        "yaxis2": {
         "anchor": "x2",
         "domain": [
          0,
          1
         ]
        }
       }
      },
      "text/html": [
       "<div>                            <div id=\"435ec4f5-a875-4a72-a826-170d89999618\" class=\"plotly-graph-div\" style=\"height:400px; width:950px;\"></div>            <script type=\"text/javascript\">                require([\"plotly\"], function(Plotly) {                    window.PLOTLYENV=window.PLOTLYENV || {};                                    if (document.getElementById(\"435ec4f5-a875-4a72-a826-170d89999618\")) {                    Plotly.newPlot(                        \"435ec4f5-a875-4a72-a826-170d89999618\",                        [{\"name\": \"Sale in dollars\", \"type\": \"bar\", \"x\": [\"DIAGEO AMERICAS\", \"JIM BEAM BRANDS\", \"SAZERAC COMPANY  INC\", \"PERNOD RICARD USA\", \"SAZERAC NORTH AMERICA\", \"PROXIMO\", \"PERNOD RICARD USA/AUSTIN NICHOLS\", \"HEAVEN HILL BRANDS\", \"LUXCO-ST LOUIS\", \"BROWN-FORMAN CORPORATION\"], \"xaxis\": \"x\", \"y\": [591873174.2966383, 213848397.88351429, 132374140.68909127, 106086364.55720666, 94969761.38008057, 93404450.08954717, 92119352.22971767, 89829393.65004821, 87411457.1001452, 80920461.61999635], \"yaxis\": \"y\"}, {\"name\": \"Volume in litres\", \"type\": \"bar\", \"x\": [\"DIAGEO AMERICAS\", \"JIM BEAM BRANDS\", \"SAZERAC COMPANY  INC\", \"PERNOD RICARD USA\", \"SAZERAC NORTH AMERICA\", \"PROXIMO\", \"PERNOD RICARD USA/AUSTIN NICHOLS\", \"HEAVEN HILL BRANDS\", \"LUXCO-ST LOUIS\", \"BROWN-FORMAN CORPORATION\"], \"xaxis\": \"x\", \"y\": [29387936.705053825, 14371380.079998668, 9416876.809994271, 4799519.814999447, 13323411.255998088, 6573160.549997791, 4538137.828000629, 7956902.199996922, 11788906.025000008, 3438186.885000261], \"yaxis\": \"y\"}, {\"name\": \"Sale in dollars\", \"type\": \"bar\", \"x\": [\"Black Velvet\", \"Titos Handmade Vodka\", \"Captain Morgan Spiced Rum\", \"Jack Daniels Old #7 Black Lbl\", \"Fireball Cinnamon Whiskey\", \"Hawkeye Vodka\", \"Crown Royal\", \"Crown Royal Canadian Whisky\", \"Jameson\", \"Jagermeister Liqueur\"], \"xaxis\": \"x2\", \"y\": [111140532.5899138, 76597547.08004849, 73413602.89001223, 67212027.8699821, 60733653.98000039, 50573874.81999228, 47710744.379996695, 45302553.25998601, 39114737.40999844, 36424646.5099853], \"yaxis\": \"y2\"}, {\"name\": \"Volume in litres\", \"type\": \"bar\", \"x\": [\"Black Velvet\", \"Titos Handmade Vodka\", \"Captain Morgan Spiced Rum\", \"Jack Daniels Old #7 Black Lbl\", \"Fireball Cinnamon Whiskey\", \"Hawkeye Vodka\", \"Crown Royal\", \"Crown Royal Canadian Whisky\", \"Jameson\", \"Jagermeister Liqueur\"], \"xaxis\": \"x2\", \"y\": [11952039.174995812, 4264657.199999909, 4356623.0, 2467164.6000002087, 3777125.000000374, 7983632.674999603, 1594641.8750000396, 1626438.474999996, 1350358.5750000046, 1517846.350000003], \"yaxis\": \"y2\"}],                        {\"autosize\": false, \"height\": 400, \"template\": {\"data\": {\"bar\": [{\"error_x\": {\"color\": \"#2a3f5f\"}, \"error_y\": {\"color\": \"#2a3f5f\"}, \"marker\": {\"line\": {\"color\": \"#E5ECF6\", \"width\": 0.5}}, \"type\": \"bar\"}], \"barpolar\": [{\"marker\": {\"line\": {\"color\": \"#E5ECF6\", \"width\": 0.5}}, \"type\": \"barpolar\"}], \"carpet\": [{\"aaxis\": {\"endlinecolor\": \"#2a3f5f\", \"gridcolor\": \"white\", \"linecolor\": \"white\", \"minorgridcolor\": \"white\", \"startlinecolor\": \"#2a3f5f\"}, \"baxis\": {\"endlinecolor\": \"#2a3f5f\", \"gridcolor\": \"white\", \"linecolor\": \"white\", \"minorgridcolor\": \"white\", \"startlinecolor\": \"#2a3f5f\"}, \"type\": \"carpet\"}], \"choropleth\": [{\"colorbar\": {\"outlinewidth\": 0, \"ticks\": \"\"}, \"type\": \"choropleth\"}], \"contour\": [{\"colorbar\": {\"outlinewidth\": 0, \"ticks\": \"\"}, \"colorscale\": [[0.0, \"#0d0887\"], [0.1111111111111111, \"#46039f\"], [0.2222222222222222, \"#7201a8\"], [0.3333333333333333, \"#9c179e\"], [0.4444444444444444, \"#bd3786\"], [0.5555555555555556, \"#d8576b\"], [0.6666666666666666, \"#ed7953\"], [0.7777777777777778, \"#fb9f3a\"], [0.8888888888888888, \"#fdca26\"], [1.0, \"#f0f921\"]], \"type\": \"contour\"}], \"contourcarpet\": [{\"colorbar\": {\"outlinewidth\": 0, \"ticks\": \"\"}, \"type\": \"contourcarpet\"}], \"heatmap\": [{\"colorbar\": {\"outlinewidth\": 0, \"ticks\": \"\"}, \"colorscale\": [[0.0, \"#0d0887\"], [0.1111111111111111, \"#46039f\"], [0.2222222222222222, \"#7201a8\"], [0.3333333333333333, \"#9c179e\"], [0.4444444444444444, \"#bd3786\"], [0.5555555555555556, \"#d8576b\"], [0.6666666666666666, \"#ed7953\"], [0.7777777777777778, \"#fb9f3a\"], [0.8888888888888888, \"#fdca26\"], [1.0, \"#f0f921\"]], \"type\": \"heatmap\"}], \"heatmapgl\": [{\"colorbar\": {\"outlinewidth\": 0, \"ticks\": \"\"}, \"colorscale\": [[0.0, \"#0d0887\"], [0.1111111111111111, \"#46039f\"], [0.2222222222222222, \"#7201a8\"], [0.3333333333333333, \"#9c179e\"], [0.4444444444444444, \"#bd3786\"], [0.5555555555555556, \"#d8576b\"], [0.6666666666666666, \"#ed7953\"], [0.7777777777777778, \"#fb9f3a\"], [0.8888888888888888, \"#fdca26\"], [1.0, \"#f0f921\"]], \"type\": \"heatmapgl\"}], \"histogram\": [{\"marker\": {\"colorbar\": {\"outlinewidth\": 0, \"ticks\": \"\"}}, \"type\": \"histogram\"}], \"histogram2d\": [{\"colorbar\": {\"outlinewidth\": 0, \"ticks\": \"\"}, \"colorscale\": [[0.0, \"#0d0887\"], [0.1111111111111111, \"#46039f\"], [0.2222222222222222, \"#7201a8\"], [0.3333333333333333, \"#9c179e\"], [0.4444444444444444, \"#bd3786\"], [0.5555555555555556, \"#d8576b\"], [0.6666666666666666, \"#ed7953\"], [0.7777777777777778, \"#fb9f3a\"], [0.8888888888888888, \"#fdca26\"], [1.0, \"#f0f921\"]], \"type\": \"histogram2d\"}], \"histogram2dcontour\": [{\"colorbar\": {\"outlinewidth\": 0, \"ticks\": \"\"}, \"colorscale\": [[0.0, \"#0d0887\"], [0.1111111111111111, \"#46039f\"], [0.2222222222222222, \"#7201a8\"], [0.3333333333333333, \"#9c179e\"], [0.4444444444444444, \"#bd3786\"], [0.5555555555555556, \"#d8576b\"], [0.6666666666666666, \"#ed7953\"], [0.7777777777777778, \"#fb9f3a\"], [0.8888888888888888, \"#fdca26\"], [1.0, \"#f0f921\"]], \"type\": \"histogram2dcontour\"}], \"mesh3d\": [{\"colorbar\": {\"outlinewidth\": 0, \"ticks\": \"\"}, \"type\": \"mesh3d\"}], \"parcoords\": [{\"line\": {\"colorbar\": {\"outlinewidth\": 0, \"ticks\": \"\"}}, \"type\": \"parcoords\"}], \"pie\": [{\"automargin\": true, \"type\": \"pie\"}], \"scatter\": [{\"marker\": {\"colorbar\": {\"outlinewidth\": 0, \"ticks\": \"\"}}, \"type\": \"scatter\"}], \"scatter3d\": [{\"line\": {\"colorbar\": {\"outlinewidth\": 0, \"ticks\": \"\"}}, \"marker\": {\"colorbar\": {\"outlinewidth\": 0, \"ticks\": \"\"}}, \"type\": \"scatter3d\"}], \"scattercarpet\": [{\"marker\": {\"colorbar\": {\"outlinewidth\": 0, \"ticks\": \"\"}}, \"type\": \"scattercarpet\"}], \"scattergeo\": [{\"marker\": {\"colorbar\": {\"outlinewidth\": 0, \"ticks\": \"\"}}, \"type\": \"scattergeo\"}], \"scattergl\": [{\"marker\": {\"colorbar\": {\"outlinewidth\": 0, \"ticks\": \"\"}}, \"type\": \"scattergl\"}], \"scattermapbox\": [{\"marker\": {\"colorbar\": {\"outlinewidth\": 0, \"ticks\": \"\"}}, \"type\": \"scattermapbox\"}], \"scatterpolar\": [{\"marker\": {\"colorbar\": {\"outlinewidth\": 0, \"ticks\": \"\"}}, \"type\": \"scatterpolar\"}], \"scatterpolargl\": [{\"marker\": {\"colorbar\": {\"outlinewidth\": 0, \"ticks\": \"\"}}, \"type\": \"scatterpolargl\"}], \"scatterternary\": [{\"marker\": {\"colorbar\": {\"outlinewidth\": 0, \"ticks\": \"\"}}, \"type\": \"scatterternary\"}], \"surface\": [{\"colorbar\": {\"outlinewidth\": 0, \"ticks\": \"\"}, \"colorscale\": [[0.0, \"#0d0887\"], [0.1111111111111111, \"#46039f\"], [0.2222222222222222, \"#7201a8\"], [0.3333333333333333, \"#9c179e\"], [0.4444444444444444, \"#bd3786\"], [0.5555555555555556, \"#d8576b\"], [0.6666666666666666, \"#ed7953\"], [0.7777777777777778, \"#fb9f3a\"], [0.8888888888888888, \"#fdca26\"], [1.0, \"#f0f921\"]], \"type\": \"surface\"}], \"table\": [{\"cells\": {\"fill\": {\"color\": \"#EBF0F8\"}, \"line\": {\"color\": \"white\"}}, \"header\": {\"fill\": {\"color\": \"#C8D4E3\"}, \"line\": {\"color\": \"white\"}}, \"type\": \"table\"}]}, \"layout\": {\"annotationdefaults\": {\"arrowcolor\": \"#2a3f5f\", \"arrowhead\": 0, \"arrowwidth\": 1}, \"autotypenumbers\": \"strict\", \"coloraxis\": {\"colorbar\": {\"outlinewidth\": 0, \"ticks\": \"\"}}, \"colorscale\": {\"diverging\": [[0, \"#8e0152\"], [0.1, \"#c51b7d\"], [0.2, \"#de77ae\"], [0.3, \"#f1b6da\"], [0.4, \"#fde0ef\"], [0.5, \"#f7f7f7\"], [0.6, \"#e6f5d0\"], [0.7, \"#b8e186\"], [0.8, \"#7fbc41\"], [0.9, \"#4d9221\"], [1, \"#276419\"]], \"sequential\": [[0.0, \"#0d0887\"], [0.1111111111111111, \"#46039f\"], [0.2222222222222222, \"#7201a8\"], [0.3333333333333333, \"#9c179e\"], [0.4444444444444444, \"#bd3786\"], [0.5555555555555556, \"#d8576b\"], [0.6666666666666666, \"#ed7953\"], [0.7777777777777778, \"#fb9f3a\"], [0.8888888888888888, \"#fdca26\"], [1.0, \"#f0f921\"]], \"sequentialminus\": [[0.0, \"#0d0887\"], [0.1111111111111111, \"#46039f\"], [0.2222222222222222, \"#7201a8\"], [0.3333333333333333, \"#9c179e\"], [0.4444444444444444, \"#bd3786\"], [0.5555555555555556, \"#d8576b\"], [0.6666666666666666, \"#ed7953\"], [0.7777777777777778, \"#fb9f3a\"], [0.8888888888888888, \"#fdca26\"], [1.0, \"#f0f921\"]]}, \"colorway\": [\"#636efa\", \"#EF553B\", \"#00cc96\", \"#ab63fa\", \"#FFA15A\", \"#19d3f3\", \"#FF6692\", \"#B6E880\", \"#FF97FF\", \"#FECB52\"], \"font\": {\"color\": \"#2a3f5f\"}, \"geo\": {\"bgcolor\": \"white\", \"lakecolor\": \"white\", \"landcolor\": \"#E5ECF6\", \"showlakes\": true, \"showland\": true, \"subunitcolor\": \"white\"}, \"hoverlabel\": {\"align\": \"left\"}, \"hovermode\": \"closest\", \"mapbox\": {\"style\": \"light\"}, \"paper_bgcolor\": \"white\", \"plot_bgcolor\": \"#E5ECF6\", \"polar\": {\"angularaxis\": {\"gridcolor\": \"white\", \"linecolor\": \"white\", \"ticks\": \"\"}, \"bgcolor\": \"#E5ECF6\", \"radialaxis\": {\"gridcolor\": \"white\", \"linecolor\": \"white\", \"ticks\": \"\"}}, \"scene\": {\"xaxis\": {\"backgroundcolor\": \"#E5ECF6\", \"gridcolor\": \"white\", \"gridwidth\": 2, \"linecolor\": \"white\", \"showbackground\": true, \"ticks\": \"\", \"zerolinecolor\": \"white\"}, \"yaxis\": {\"backgroundcolor\": \"#E5ECF6\", \"gridcolor\": \"white\", \"gridwidth\": 2, \"linecolor\": \"white\", \"showbackground\": true, \"ticks\": \"\", \"zerolinecolor\": \"white\"}, \"zaxis\": {\"backgroundcolor\": \"#E5ECF6\", \"gridcolor\": \"white\", \"gridwidth\": 2, \"linecolor\": \"white\", \"showbackground\": true, \"ticks\": \"\", \"zerolinecolor\": \"white\"}}, \"shapedefaults\": {\"line\": {\"color\": \"#2a3f5f\"}}, \"ternary\": {\"aaxis\": {\"gridcolor\": \"white\", \"linecolor\": \"white\", \"ticks\": \"\"}, \"baxis\": {\"gridcolor\": \"white\", \"linecolor\": \"white\", \"ticks\": \"\"}, \"bgcolor\": \"#E5ECF6\", \"caxis\": {\"gridcolor\": \"white\", \"linecolor\": \"white\", \"ticks\": \"\"}}, \"title\": {\"x\": 0.05}, \"xaxis\": {\"automargin\": true, \"gridcolor\": \"white\", \"linecolor\": \"white\", \"ticks\": \"\", \"title\": {\"standoff\": 15}, \"zerolinecolor\": \"white\", \"zerolinewidth\": 2}, \"yaxis\": {\"automargin\": true, \"gridcolor\": \"white\", \"linecolor\": \"white\", \"ticks\": \"\", \"title\": {\"standoff\": 15}, \"zerolinecolor\": \"white\", \"zerolinewidth\": 2}}}, \"width\": 950, \"xaxis\": {\"anchor\": \"y\", \"domain\": [0.0, 0.45]}, \"xaxis2\": {\"anchor\": \"y2\", \"domain\": [0.55, 1.0]}, \"yaxis\": {\"anchor\": \"x\", \"domain\": [0.0, 1.0]}, \"yaxis2\": {\"anchor\": \"x2\", \"domain\": [0.0, 1.0]}},                        {\"responsive\": true}                    ).then(function(){\n",
       "                            \n",
       "var gd = document.getElementById('435ec4f5-a875-4a72-a826-170d89999618');\n",
       "var x = new MutationObserver(function (mutations, observer) {{\n",
       "        var display = window.getComputedStyle(gd).display;\n",
       "        if (!display || display === 'none') {{\n",
       "            console.log([gd, 'removed!']);\n",
       "            Plotly.purge(gd);\n",
       "            observer.disconnect();\n",
       "        }}\n",
       "}});\n",
       "\n",
       "// Listen for the removal of the full notebook cells\n",
       "var notebookContainer = gd.closest('#notebook-container');\n",
       "if (notebookContainer) {{\n",
       "    x.observe(notebookContainer, {childList: true});\n",
       "}}\n",
       "\n",
       "// Listen for the clearing of the current output cell\n",
       "var outputEl = gd.closest('.output');\n",
       "if (outputEl) {{\n",
       "    x.observe(outputEl, {childList: true});\n",
       "}}\n",
       "\n",
       "                        })                };                });            </script>        </div>"
      ]
     },
     "metadata": {},
     "output_type": "display_data"
    }
   ],
   "source": [
    "fig = make_subplots(rows=1, cols=2)\n",
    "fig = plot_bar(fig, df_aggregate, 'vendor_name', 1, 1)\n",
    "fig = plot_bar(fig, df_aggregate, 'item_description', 1, 2)\n",
    "fig.update_layout(autosize=False, width=950, height=400)\n",
    "fig.show()"
   ]
  },
  {
   "cell_type": "markdown",
   "metadata": {},
   "source": [
    "<p style=\"font-family: Monaco; font-size: 1.3em; color: IndianRed\">The largest sales in the context vendor were for Diego Americas and largest sales in the context drink were for Canadian whiskey Black Velvet.</p>"
   ]
  },
  {
   "cell_type": "markdown",
   "metadata": {},
   "source": [
    "<h3><em>b)Describe the typical bottle that was sold</em></h3>"
   ]
  },
  {
   "cell_type": "code",
   "execution_count": 165,
   "metadata": {},
   "outputs": [],
   "source": [
    "df_analysis['store'] = df_analysis['store_number'] + '|' + df_analysis['store_name']\n",
    "df_analysis['bottle_volume_l'] = df_analysis['bottle_volume_ml'] / 1000\n",
    "\n",
    "def plot_bar(fig, df_analysis, column, i, j, count):\n",
    "    '''Plot Bar'''\n",
    "    \n",
    "    df_plot = df_analysis.groupby(column).agg({'state_bottle_cost': 'mean', 'bottle_volume_l': 'mean', 'date': 'count'}).\\\n",
    "                                        rename(columns={'state_bottle_cost': 'avg_state_bottle_cost',\n",
    "                                                        'bottle_volume_l': 'avg_bottle_volume_l'}).\\\n",
    "                                        query('date > {}'.format(count)).\\\n",
    "                                        sort_values(by='avg_state_bottle_cost', ascending=False).reset_index().head(10)\n",
    "    fig.add_traces([\n",
    "        go.Bar(name='Average bottle cost',x=df_plot[column], y=df_plot['avg_state_bottle_cost']),\n",
    "        go.Bar(name='Average bottle volume(litres)',x=df_plot[column], y=df_plot['avg_bottle_volume_l'])\n",
    "    ], rows=i, cols=j)\n",
    "    return fig"
   ]
  },
  {
   "cell_type": "code",
   "execution_count": 166,
   "metadata": {},
   "outputs": [
    {
     "data": {
      "application/vnd.plotly.v1+json": {
       "config": {
        "plotlyServerURL": "https://plot.ly"
       },
       "data": [
        {
         "name": "Average bottle cost",
         "type": "bar",
         "x": [
          "Dalwhinnie 15 Yr Single Malt Scotch",
          "El Tesoro Reposado",
          "Balvenie 12Yr Doublewood Single Malt Scotch",
          "Don Julio Anejo Tequila",
          "Prichard'S Double Barreled",
          "Sooh Chartreuse Green French Liqueur",
          "Russells Reserve Single Barrel Bourbon",
          "Talisker 10Yr",
          "Casamigos Anejo",
          "Redbreast 12Yr"
         ],
         "xaxis": "x",
         "y": [
          31.546721311475384,
          31.5,
          31.38408988763931,
          31.373298217180047,
          31.19999999999991,
          31.130000000000084,
          31,
          31,
          31,
          30.97482352941219
         ],
         "yaxis": "y"
        },
        {
         "name": "Average bottle volume(litres)",
         "type": "bar",
         "x": [
          "Dalwhinnie 15 Yr Single Malt Scotch",
          "El Tesoro Reposado",
          "Balvenie 12Yr Doublewood Single Malt Scotch",
          "Don Julio Anejo Tequila",
          "Prichard'S Double Barreled",
          "Sooh Chartreuse Green French Liqueur",
          "Russells Reserve Single Barrel Bourbon",
          "Talisker 10Yr",
          "Casamigos Anejo",
          "Redbreast 12Yr"
         ],
         "xaxis": "x",
         "y": [
          0.75,
          0.75,
          0.75,
          0.75,
          0.75,
          0.75,
          0.75,
          0.75,
          0.75,
          0.75
         ],
         "yaxis": "y"
        },
        {
         "name": "Average bottle cost",
         "type": "bar",
         "x": [
          "Shueyville",
          "Moravia",
          "Swisher",
          "Pacific Junction",
          "St Lucas",
          "Schleswig",
          "Larchwood",
          "Ireton",
          "Wesley",
          "Dunlap"
         ],
         "xaxis": "x2",
         "y": [
          12.486015450294936,
          12.046600701402777,
          12.03711286089235,
          11.581486090775863,
          11.216247075339258,
          11.172193071312885,
          10.849327471194533,
          10.843452797202765,
          10.83541759465468,
          10.82126355492699
         ],
         "yaxis": "y2"
        },
        {
         "name": "Average bottle volume(litres)",
         "type": "bar",
         "x": [
          "Shueyville",
          "Moravia",
          "Swisher",
          "Pacific Junction",
          "St Lucas",
          "Schleswig",
          "Larchwood",
          "Ireton",
          "Wesley",
          "Dunlap"
         ],
         "xaxis": "x2",
         "y": [
          0.8634351494206167,
          0.9046906312625251,
          0.7267857142857129,
          0.7948892752562208,
          0.9263219466541882,
          0.9613832050243113,
          0.829761976955733,
          0.8774475524475525,
          0.9212348273942094,
          0.820752789564672
         ],
         "yaxis": "y2"
        },
        {
         "name": "Average bottle cost",
         "type": "bar",
         "x": [
          "Winneshiek",
          "Dickinson",
          "Mahaska",
          "Sioux",
          "Kossuth",
          "Palo Alto",
          "Lyon",
          "Buena Vista",
          "Clarke",
          "Johnson"
         ],
         "xaxis": "x3",
         "y": [
          9.854619966511411,
          9.820518609134156,
          9.79249489969314,
          9.745093768753003,
          9.653051876643024,
          9.62762852074673,
          9.627036261507959,
          9.617478846980667,
          9.606758000816631,
          9.577170732764019
         ],
         "yaxis": "y3"
        },
        {
         "name": "Average bottle volume(litres)",
         "type": "bar",
         "x": [
          "Winneshiek",
          "Dickinson",
          "Mahaska",
          "Sioux",
          "Kossuth",
          "Palo Alto",
          "Lyon",
          "Buena Vista",
          "Clarke",
          "Johnson"
         ],
         "xaxis": "x3",
         "y": [
          0.7927829458428206,
          0.7581140696492205,
          0.7324230562166844,
          0.7781415658131555,
          0.7792853095864062,
          0.8129788962384543,
          0.7890742181008246,
          0.7388709911161018,
          0.7813271142584761,
          0.6995364139116362
         ],
         "yaxis": "y3"
        }
       ],
       "layout": {
        "autosize": false,
        "height": 600,
        "template": {
         "data": {
          "bar": [
           {
            "error_x": {
             "color": "#2a3f5f"
            },
            "error_y": {
             "color": "#2a3f5f"
            },
            "marker": {
             "line": {
              "color": "#E5ECF6",
              "width": 0.5
             }
            },
            "type": "bar"
           }
          ],
          "barpolar": [
           {
            "marker": {
             "line": {
              "color": "#E5ECF6",
              "width": 0.5
             }
            },
            "type": "barpolar"
           }
          ],
          "carpet": [
           {
            "aaxis": {
             "endlinecolor": "#2a3f5f",
             "gridcolor": "white",
             "linecolor": "white",
             "minorgridcolor": "white",
             "startlinecolor": "#2a3f5f"
            },
            "baxis": {
             "endlinecolor": "#2a3f5f",
             "gridcolor": "white",
             "linecolor": "white",
             "minorgridcolor": "white",
             "startlinecolor": "#2a3f5f"
            },
            "type": "carpet"
           }
          ],
          "choropleth": [
           {
            "colorbar": {
             "outlinewidth": 0,
             "ticks": ""
            },
            "type": "choropleth"
           }
          ],
          "contour": [
           {
            "colorbar": {
             "outlinewidth": 0,
             "ticks": ""
            },
            "colorscale": [
             [
              0,
              "#0d0887"
             ],
             [
              0.1111111111111111,
              "#46039f"
             ],
             [
              0.2222222222222222,
              "#7201a8"
             ],
             [
              0.3333333333333333,
              "#9c179e"
             ],
             [
              0.4444444444444444,
              "#bd3786"
             ],
             [
              0.5555555555555556,
              "#d8576b"
             ],
             [
              0.6666666666666666,
              "#ed7953"
             ],
             [
              0.7777777777777778,
              "#fb9f3a"
             ],
             [
              0.8888888888888888,
              "#fdca26"
             ],
             [
              1,
              "#f0f921"
             ]
            ],
            "type": "contour"
           }
          ],
          "contourcarpet": [
           {
            "colorbar": {
             "outlinewidth": 0,
             "ticks": ""
            },
            "type": "contourcarpet"
           }
          ],
          "heatmap": [
           {
            "colorbar": {
             "outlinewidth": 0,
             "ticks": ""
            },
            "colorscale": [
             [
              0,
              "#0d0887"
             ],
             [
              0.1111111111111111,
              "#46039f"
             ],
             [
              0.2222222222222222,
              "#7201a8"
             ],
             [
              0.3333333333333333,
              "#9c179e"
             ],
             [
              0.4444444444444444,
              "#bd3786"
             ],
             [
              0.5555555555555556,
              "#d8576b"
             ],
             [
              0.6666666666666666,
              "#ed7953"
             ],
             [
              0.7777777777777778,
              "#fb9f3a"
             ],
             [
              0.8888888888888888,
              "#fdca26"
             ],
             [
              1,
              "#f0f921"
             ]
            ],
            "type": "heatmap"
           }
          ],
          "heatmapgl": [
           {
            "colorbar": {
             "outlinewidth": 0,
             "ticks": ""
            },
            "colorscale": [
             [
              0,
              "#0d0887"
             ],
             [
              0.1111111111111111,
              "#46039f"
             ],
             [
              0.2222222222222222,
              "#7201a8"
             ],
             [
              0.3333333333333333,
              "#9c179e"
             ],
             [
              0.4444444444444444,
              "#bd3786"
             ],
             [
              0.5555555555555556,
              "#d8576b"
             ],
             [
              0.6666666666666666,
              "#ed7953"
             ],
             [
              0.7777777777777778,
              "#fb9f3a"
             ],
             [
              0.8888888888888888,
              "#fdca26"
             ],
             [
              1,
              "#f0f921"
             ]
            ],
            "type": "heatmapgl"
           }
          ],
          "histogram": [
           {
            "marker": {
             "colorbar": {
              "outlinewidth": 0,
              "ticks": ""
             }
            },
            "type": "histogram"
           }
          ],
          "histogram2d": [
           {
            "colorbar": {
             "outlinewidth": 0,
             "ticks": ""
            },
            "colorscale": [
             [
              0,
              "#0d0887"
             ],
             [
              0.1111111111111111,
              "#46039f"
             ],
             [
              0.2222222222222222,
              "#7201a8"
             ],
             [
              0.3333333333333333,
              "#9c179e"
             ],
             [
              0.4444444444444444,
              "#bd3786"
             ],
             [
              0.5555555555555556,
              "#d8576b"
             ],
             [
              0.6666666666666666,
              "#ed7953"
             ],
             [
              0.7777777777777778,
              "#fb9f3a"
             ],
             [
              0.8888888888888888,
              "#fdca26"
             ],
             [
              1,
              "#f0f921"
             ]
            ],
            "type": "histogram2d"
           }
          ],
          "histogram2dcontour": [
           {
            "colorbar": {
             "outlinewidth": 0,
             "ticks": ""
            },
            "colorscale": [
             [
              0,
              "#0d0887"
             ],
             [
              0.1111111111111111,
              "#46039f"
             ],
             [
              0.2222222222222222,
              "#7201a8"
             ],
             [
              0.3333333333333333,
              "#9c179e"
             ],
             [
              0.4444444444444444,
              "#bd3786"
             ],
             [
              0.5555555555555556,
              "#d8576b"
             ],
             [
              0.6666666666666666,
              "#ed7953"
             ],
             [
              0.7777777777777778,
              "#fb9f3a"
             ],
             [
              0.8888888888888888,
              "#fdca26"
             ],
             [
              1,
              "#f0f921"
             ]
            ],
            "type": "histogram2dcontour"
           }
          ],
          "mesh3d": [
           {
            "colorbar": {
             "outlinewidth": 0,
             "ticks": ""
            },
            "type": "mesh3d"
           }
          ],
          "parcoords": [
           {
            "line": {
             "colorbar": {
              "outlinewidth": 0,
              "ticks": ""
             }
            },
            "type": "parcoords"
           }
          ],
          "pie": [
           {
            "automargin": true,
            "type": "pie"
           }
          ],
          "scatter": [
           {
            "marker": {
             "colorbar": {
              "outlinewidth": 0,
              "ticks": ""
             }
            },
            "type": "scatter"
           }
          ],
          "scatter3d": [
           {
            "line": {
             "colorbar": {
              "outlinewidth": 0,
              "ticks": ""
             }
            },
            "marker": {
             "colorbar": {
              "outlinewidth": 0,
              "ticks": ""
             }
            },
            "type": "scatter3d"
           }
          ],
          "scattercarpet": [
           {
            "marker": {
             "colorbar": {
              "outlinewidth": 0,
              "ticks": ""
             }
            },
            "type": "scattercarpet"
           }
          ],
          "scattergeo": [
           {
            "marker": {
             "colorbar": {
              "outlinewidth": 0,
              "ticks": ""
             }
            },
            "type": "scattergeo"
           }
          ],
          "scattergl": [
           {
            "marker": {
             "colorbar": {
              "outlinewidth": 0,
              "ticks": ""
             }
            },
            "type": "scattergl"
           }
          ],
          "scattermapbox": [
           {
            "marker": {
             "colorbar": {
              "outlinewidth": 0,
              "ticks": ""
             }
            },
            "type": "scattermapbox"
           }
          ],
          "scatterpolar": [
           {
            "marker": {
             "colorbar": {
              "outlinewidth": 0,
              "ticks": ""
             }
            },
            "type": "scatterpolar"
           }
          ],
          "scatterpolargl": [
           {
            "marker": {
             "colorbar": {
              "outlinewidth": 0,
              "ticks": ""
             }
            },
            "type": "scatterpolargl"
           }
          ],
          "scatterternary": [
           {
            "marker": {
             "colorbar": {
              "outlinewidth": 0,
              "ticks": ""
             }
            },
            "type": "scatterternary"
           }
          ],
          "surface": [
           {
            "colorbar": {
             "outlinewidth": 0,
             "ticks": ""
            },
            "colorscale": [
             [
              0,
              "#0d0887"
             ],
             [
              0.1111111111111111,
              "#46039f"
             ],
             [
              0.2222222222222222,
              "#7201a8"
             ],
             [
              0.3333333333333333,
              "#9c179e"
             ],
             [
              0.4444444444444444,
              "#bd3786"
             ],
             [
              0.5555555555555556,
              "#d8576b"
             ],
             [
              0.6666666666666666,
              "#ed7953"
             ],
             [
              0.7777777777777778,
              "#fb9f3a"
             ],
             [
              0.8888888888888888,
              "#fdca26"
             ],
             [
              1,
              "#f0f921"
             ]
            ],
            "type": "surface"
           }
          ],
          "table": [
           {
            "cells": {
             "fill": {
              "color": "#EBF0F8"
             },
             "line": {
              "color": "white"
             }
            },
            "header": {
             "fill": {
              "color": "#C8D4E3"
             },
             "line": {
              "color": "white"
             }
            },
            "type": "table"
           }
          ]
         },
         "layout": {
          "annotationdefaults": {
           "arrowcolor": "#2a3f5f",
           "arrowhead": 0,
           "arrowwidth": 1
          },
          "autotypenumbers": "strict",
          "coloraxis": {
           "colorbar": {
            "outlinewidth": 0,
            "ticks": ""
           }
          },
          "colorscale": {
           "diverging": [
            [
             0,
             "#8e0152"
            ],
            [
             0.1,
             "#c51b7d"
            ],
            [
             0.2,
             "#de77ae"
            ],
            [
             0.3,
             "#f1b6da"
            ],
            [
             0.4,
             "#fde0ef"
            ],
            [
             0.5,
             "#f7f7f7"
            ],
            [
             0.6,
             "#e6f5d0"
            ],
            [
             0.7,
             "#b8e186"
            ],
            [
             0.8,
             "#7fbc41"
            ],
            [
             0.9,
             "#4d9221"
            ],
            [
             1,
             "#276419"
            ]
           ],
           "sequential": [
            [
             0,
             "#0d0887"
            ],
            [
             0.1111111111111111,
             "#46039f"
            ],
            [
             0.2222222222222222,
             "#7201a8"
            ],
            [
             0.3333333333333333,
             "#9c179e"
            ],
            [
             0.4444444444444444,
             "#bd3786"
            ],
            [
             0.5555555555555556,
             "#d8576b"
            ],
            [
             0.6666666666666666,
             "#ed7953"
            ],
            [
             0.7777777777777778,
             "#fb9f3a"
            ],
            [
             0.8888888888888888,
             "#fdca26"
            ],
            [
             1,
             "#f0f921"
            ]
           ],
           "sequentialminus": [
            [
             0,
             "#0d0887"
            ],
            [
             0.1111111111111111,
             "#46039f"
            ],
            [
             0.2222222222222222,
             "#7201a8"
            ],
            [
             0.3333333333333333,
             "#9c179e"
            ],
            [
             0.4444444444444444,
             "#bd3786"
            ],
            [
             0.5555555555555556,
             "#d8576b"
            ],
            [
             0.6666666666666666,
             "#ed7953"
            ],
            [
             0.7777777777777778,
             "#fb9f3a"
            ],
            [
             0.8888888888888888,
             "#fdca26"
            ],
            [
             1,
             "#f0f921"
            ]
           ]
          },
          "colorway": [
           "#636efa",
           "#EF553B",
           "#00cc96",
           "#ab63fa",
           "#FFA15A",
           "#19d3f3",
           "#FF6692",
           "#B6E880",
           "#FF97FF",
           "#FECB52"
          ],
          "font": {
           "color": "#2a3f5f"
          },
          "geo": {
           "bgcolor": "white",
           "lakecolor": "white",
           "landcolor": "#E5ECF6",
           "showlakes": true,
           "showland": true,
           "subunitcolor": "white"
          },
          "hoverlabel": {
           "align": "left"
          },
          "hovermode": "closest",
          "mapbox": {
           "style": "light"
          },
          "paper_bgcolor": "white",
          "plot_bgcolor": "#E5ECF6",
          "polar": {
           "angularaxis": {
            "gridcolor": "white",
            "linecolor": "white",
            "ticks": ""
           },
           "bgcolor": "#E5ECF6",
           "radialaxis": {
            "gridcolor": "white",
            "linecolor": "white",
            "ticks": ""
           }
          },
          "scene": {
           "xaxis": {
            "backgroundcolor": "#E5ECF6",
            "gridcolor": "white",
            "gridwidth": 2,
            "linecolor": "white",
            "showbackground": true,
            "ticks": "",
            "zerolinecolor": "white"
           },
           "yaxis": {
            "backgroundcolor": "#E5ECF6",
            "gridcolor": "white",
            "gridwidth": 2,
            "linecolor": "white",
            "showbackground": true,
            "ticks": "",
            "zerolinecolor": "white"
           },
           "zaxis": {
            "backgroundcolor": "#E5ECF6",
            "gridcolor": "white",
            "gridwidth": 2,
            "linecolor": "white",
            "showbackground": true,
            "ticks": "",
            "zerolinecolor": "white"
           }
          },
          "shapedefaults": {
           "line": {
            "color": "#2a3f5f"
           }
          },
          "ternary": {
           "aaxis": {
            "gridcolor": "white",
            "linecolor": "white",
            "ticks": ""
           },
           "baxis": {
            "gridcolor": "white",
            "linecolor": "white",
            "ticks": ""
           },
           "bgcolor": "#E5ECF6",
           "caxis": {
            "gridcolor": "white",
            "linecolor": "white",
            "ticks": ""
           }
          },
          "title": {
           "x": 0.05
          },
          "xaxis": {
           "automargin": true,
           "gridcolor": "white",
           "linecolor": "white",
           "ticks": "",
           "title": {
            "standoff": 15
           },
           "zerolinecolor": "white",
           "zerolinewidth": 2
          },
          "yaxis": {
           "automargin": true,
           "gridcolor": "white",
           "linecolor": "white",
           "ticks": "",
           "title": {
            "standoff": 15
           },
           "zerolinecolor": "white",
           "zerolinewidth": 2
          }
         }
        },
        "width": 950,
        "xaxis": {
         "anchor": "y",
         "domain": [
          0,
          0.2888888888888889
         ]
        },
        "xaxis2": {
         "anchor": "y2",
         "domain": [
          0.35555555555555557,
          0.6444444444444445
         ]
        },
        "xaxis3": {
         "anchor": "y3",
         "domain": [
          0.7111111111111111,
          1
         ]
        },
        "yaxis": {
         "anchor": "x",
         "domain": [
          0,
          1
         ]
        },
        "yaxis2": {
         "anchor": "x2",
         "domain": [
          0,
          1
         ]
        },
        "yaxis3": {
         "anchor": "x3",
         "domain": [
          0,
          1
         ]
        }
       }
      },
      "text/html": [
       "<div>                            <div id=\"d15def3a-7d6a-4ef2-a240-d8fde611fd71\" class=\"plotly-graph-div\" style=\"height:600px; width:950px;\"></div>            <script type=\"text/javascript\">                require([\"plotly\"], function(Plotly) {                    window.PLOTLYENV=window.PLOTLYENV || {};                                    if (document.getElementById(\"d15def3a-7d6a-4ef2-a240-d8fde611fd71\")) {                    Plotly.newPlot(                        \"d15def3a-7d6a-4ef2-a240-d8fde611fd71\",                        [{\"name\": \"Average bottle cost\", \"type\": \"bar\", \"x\": [\"Dalwhinnie 15 Yr Single Malt Scotch\", \"El Tesoro Reposado\", \"Balvenie 12Yr Doublewood Single Malt Scotch\", \"Don Julio Anejo Tequila\", \"Prichard'S Double Barreled\", \"Sooh Chartreuse Green French Liqueur\", \"Russells Reserve Single Barrel Bourbon\", \"Talisker 10Yr\", \"Casamigos Anejo\", \"Redbreast 12Yr\"], \"xaxis\": \"x\", \"y\": [31.546721311475384, 31.5, 31.38408988763931, 31.373298217180047, 31.19999999999991, 31.130000000000084, 31.0, 31.0, 31.0, 30.97482352941219], \"yaxis\": \"y\"}, {\"name\": \"Average bottle volume(litres)\", \"type\": \"bar\", \"x\": [\"Dalwhinnie 15 Yr Single Malt Scotch\", \"El Tesoro Reposado\", \"Balvenie 12Yr Doublewood Single Malt Scotch\", \"Don Julio Anejo Tequila\", \"Prichard'S Double Barreled\", \"Sooh Chartreuse Green French Liqueur\", \"Russells Reserve Single Barrel Bourbon\", \"Talisker 10Yr\", \"Casamigos Anejo\", \"Redbreast 12Yr\"], \"xaxis\": \"x\", \"y\": [0.75, 0.75, 0.75, 0.75, 0.75, 0.75, 0.75, 0.75, 0.75, 0.75], \"yaxis\": \"y\"}, {\"name\": \"Average bottle cost\", \"type\": \"bar\", \"x\": [\"Shueyville\", \"Moravia\", \"Swisher\", \"Pacific Junction\", \"St Lucas\", \"Schleswig\", \"Larchwood\", \"Ireton\", \"Wesley\", \"Dunlap\"], \"xaxis\": \"x2\", \"y\": [12.486015450294936, 12.046600701402777, 12.03711286089235, 11.581486090775863, 11.216247075339258, 11.172193071312885, 10.849327471194533, 10.843452797202765, 10.83541759465468, 10.82126355492699], \"yaxis\": \"y2\"}, {\"name\": \"Average bottle volume(litres)\", \"type\": \"bar\", \"x\": [\"Shueyville\", \"Moravia\", \"Swisher\", \"Pacific Junction\", \"St Lucas\", \"Schleswig\", \"Larchwood\", \"Ireton\", \"Wesley\", \"Dunlap\"], \"xaxis\": \"x2\", \"y\": [0.8634351494206167, 0.9046906312625251, 0.7267857142857129, 0.7948892752562208, 0.9263219466541882, 0.9613832050243113, 0.829761976955733, 0.8774475524475525, 0.9212348273942094, 0.820752789564672], \"yaxis\": \"y2\"}, {\"name\": \"Average bottle cost\", \"type\": \"bar\", \"x\": [\"Winneshiek\", \"Dickinson\", \"Mahaska\", \"Sioux\", \"Kossuth\", \"Palo Alto\", \"Lyon\", \"Buena Vista\", \"Clarke\", \"Johnson\"], \"xaxis\": \"x3\", \"y\": [9.854619966511411, 9.820518609134156, 9.79249489969314, 9.745093768753003, 9.653051876643024, 9.62762852074673, 9.627036261507959, 9.617478846980667, 9.606758000816631, 9.577170732764019], \"yaxis\": \"y3\"}, {\"name\": \"Average bottle volume(litres)\", \"type\": \"bar\", \"x\": [\"Winneshiek\", \"Dickinson\", \"Mahaska\", \"Sioux\", \"Kossuth\", \"Palo Alto\", \"Lyon\", \"Buena Vista\", \"Clarke\", \"Johnson\"], \"xaxis\": \"x3\", \"y\": [0.7927829458428206, 0.7581140696492205, 0.7324230562166844, 0.7781415658131555, 0.7792853095864062, 0.8129788962384543, 0.7890742181008246, 0.7388709911161018, 0.7813271142584761, 0.6995364139116362], \"yaxis\": \"y3\"}],                        {\"autosize\": false, \"height\": 600, \"template\": {\"data\": {\"bar\": [{\"error_x\": {\"color\": \"#2a3f5f\"}, \"error_y\": {\"color\": \"#2a3f5f\"}, \"marker\": {\"line\": {\"color\": \"#E5ECF6\", \"width\": 0.5}}, \"type\": \"bar\"}], \"barpolar\": [{\"marker\": {\"line\": {\"color\": \"#E5ECF6\", \"width\": 0.5}}, \"type\": \"barpolar\"}], \"carpet\": [{\"aaxis\": {\"endlinecolor\": \"#2a3f5f\", \"gridcolor\": \"white\", \"linecolor\": \"white\", \"minorgridcolor\": \"white\", \"startlinecolor\": \"#2a3f5f\"}, \"baxis\": {\"endlinecolor\": \"#2a3f5f\", \"gridcolor\": \"white\", \"linecolor\": \"white\", \"minorgridcolor\": \"white\", \"startlinecolor\": \"#2a3f5f\"}, \"type\": \"carpet\"}], \"choropleth\": [{\"colorbar\": {\"outlinewidth\": 0, \"ticks\": \"\"}, \"type\": \"choropleth\"}], \"contour\": [{\"colorbar\": {\"outlinewidth\": 0, \"ticks\": \"\"}, \"colorscale\": [[0.0, \"#0d0887\"], [0.1111111111111111, \"#46039f\"], [0.2222222222222222, \"#7201a8\"], [0.3333333333333333, \"#9c179e\"], [0.4444444444444444, \"#bd3786\"], [0.5555555555555556, \"#d8576b\"], [0.6666666666666666, \"#ed7953\"], [0.7777777777777778, \"#fb9f3a\"], [0.8888888888888888, \"#fdca26\"], [1.0, \"#f0f921\"]], \"type\": \"contour\"}], \"contourcarpet\": [{\"colorbar\": {\"outlinewidth\": 0, \"ticks\": \"\"}, \"type\": \"contourcarpet\"}], \"heatmap\": [{\"colorbar\": {\"outlinewidth\": 0, \"ticks\": \"\"}, \"colorscale\": [[0.0, \"#0d0887\"], [0.1111111111111111, \"#46039f\"], [0.2222222222222222, \"#7201a8\"], [0.3333333333333333, \"#9c179e\"], [0.4444444444444444, \"#bd3786\"], [0.5555555555555556, \"#d8576b\"], [0.6666666666666666, \"#ed7953\"], [0.7777777777777778, \"#fb9f3a\"], [0.8888888888888888, \"#fdca26\"], [1.0, \"#f0f921\"]], \"type\": \"heatmap\"}], \"heatmapgl\": [{\"colorbar\": {\"outlinewidth\": 0, \"ticks\": \"\"}, \"colorscale\": [[0.0, \"#0d0887\"], [0.1111111111111111, \"#46039f\"], [0.2222222222222222, \"#7201a8\"], [0.3333333333333333, \"#9c179e\"], [0.4444444444444444, \"#bd3786\"], [0.5555555555555556, \"#d8576b\"], [0.6666666666666666, \"#ed7953\"], [0.7777777777777778, \"#fb9f3a\"], [0.8888888888888888, \"#fdca26\"], [1.0, \"#f0f921\"]], \"type\": \"heatmapgl\"}], \"histogram\": [{\"marker\": {\"colorbar\": {\"outlinewidth\": 0, \"ticks\": \"\"}}, \"type\": \"histogram\"}], \"histogram2d\": [{\"colorbar\": {\"outlinewidth\": 0, \"ticks\": \"\"}, \"colorscale\": [[0.0, \"#0d0887\"], [0.1111111111111111, \"#46039f\"], [0.2222222222222222, \"#7201a8\"], [0.3333333333333333, \"#9c179e\"], [0.4444444444444444, \"#bd3786\"], [0.5555555555555556, \"#d8576b\"], [0.6666666666666666, \"#ed7953\"], [0.7777777777777778, \"#fb9f3a\"], [0.8888888888888888, \"#fdca26\"], [1.0, \"#f0f921\"]], \"type\": \"histogram2d\"}], \"histogram2dcontour\": [{\"colorbar\": {\"outlinewidth\": 0, \"ticks\": \"\"}, \"colorscale\": [[0.0, \"#0d0887\"], [0.1111111111111111, \"#46039f\"], [0.2222222222222222, \"#7201a8\"], [0.3333333333333333, \"#9c179e\"], [0.4444444444444444, \"#bd3786\"], [0.5555555555555556, \"#d8576b\"], [0.6666666666666666, \"#ed7953\"], [0.7777777777777778, \"#fb9f3a\"], [0.8888888888888888, \"#fdca26\"], [1.0, \"#f0f921\"]], \"type\": \"histogram2dcontour\"}], \"mesh3d\": [{\"colorbar\": {\"outlinewidth\": 0, \"ticks\": \"\"}, \"type\": \"mesh3d\"}], \"parcoords\": [{\"line\": {\"colorbar\": {\"outlinewidth\": 0, \"ticks\": \"\"}}, \"type\": \"parcoords\"}], \"pie\": [{\"automargin\": true, \"type\": \"pie\"}], \"scatter\": [{\"marker\": {\"colorbar\": {\"outlinewidth\": 0, \"ticks\": \"\"}}, \"type\": \"scatter\"}], \"scatter3d\": [{\"line\": {\"colorbar\": {\"outlinewidth\": 0, \"ticks\": \"\"}}, \"marker\": {\"colorbar\": {\"outlinewidth\": 0, \"ticks\": \"\"}}, \"type\": \"scatter3d\"}], \"scattercarpet\": [{\"marker\": {\"colorbar\": {\"outlinewidth\": 0, \"ticks\": \"\"}}, \"type\": \"scattercarpet\"}], \"scattergeo\": [{\"marker\": {\"colorbar\": {\"outlinewidth\": 0, \"ticks\": \"\"}}, \"type\": \"scattergeo\"}], \"scattergl\": [{\"marker\": {\"colorbar\": {\"outlinewidth\": 0, \"ticks\": \"\"}}, \"type\": \"scattergl\"}], \"scattermapbox\": [{\"marker\": {\"colorbar\": {\"outlinewidth\": 0, \"ticks\": \"\"}}, \"type\": \"scattermapbox\"}], \"scatterpolar\": [{\"marker\": {\"colorbar\": {\"outlinewidth\": 0, \"ticks\": \"\"}}, \"type\": \"scatterpolar\"}], \"scatterpolargl\": [{\"marker\": {\"colorbar\": {\"outlinewidth\": 0, \"ticks\": \"\"}}, \"type\": \"scatterpolargl\"}], \"scatterternary\": [{\"marker\": {\"colorbar\": {\"outlinewidth\": 0, \"ticks\": \"\"}}, \"type\": \"scatterternary\"}], \"surface\": [{\"colorbar\": {\"outlinewidth\": 0, \"ticks\": \"\"}, \"colorscale\": [[0.0, \"#0d0887\"], [0.1111111111111111, \"#46039f\"], [0.2222222222222222, \"#7201a8\"], [0.3333333333333333, \"#9c179e\"], [0.4444444444444444, \"#bd3786\"], [0.5555555555555556, \"#d8576b\"], [0.6666666666666666, \"#ed7953\"], [0.7777777777777778, \"#fb9f3a\"], [0.8888888888888888, \"#fdca26\"], [1.0, \"#f0f921\"]], \"type\": \"surface\"}], \"table\": [{\"cells\": {\"fill\": {\"color\": \"#EBF0F8\"}, \"line\": {\"color\": \"white\"}}, \"header\": {\"fill\": {\"color\": \"#C8D4E3\"}, \"line\": {\"color\": \"white\"}}, \"type\": \"table\"}]}, \"layout\": {\"annotationdefaults\": {\"arrowcolor\": \"#2a3f5f\", \"arrowhead\": 0, \"arrowwidth\": 1}, \"autotypenumbers\": \"strict\", \"coloraxis\": {\"colorbar\": {\"outlinewidth\": 0, \"ticks\": \"\"}}, \"colorscale\": {\"diverging\": [[0, \"#8e0152\"], [0.1, \"#c51b7d\"], [0.2, \"#de77ae\"], [0.3, \"#f1b6da\"], [0.4, \"#fde0ef\"], [0.5, \"#f7f7f7\"], [0.6, \"#e6f5d0\"], [0.7, \"#b8e186\"], [0.8, \"#7fbc41\"], [0.9, \"#4d9221\"], [1, \"#276419\"]], \"sequential\": [[0.0, \"#0d0887\"], [0.1111111111111111, \"#46039f\"], [0.2222222222222222, \"#7201a8\"], [0.3333333333333333, \"#9c179e\"], [0.4444444444444444, \"#bd3786\"], [0.5555555555555556, \"#d8576b\"], [0.6666666666666666, \"#ed7953\"], [0.7777777777777778, \"#fb9f3a\"], [0.8888888888888888, \"#fdca26\"], [1.0, \"#f0f921\"]], \"sequentialminus\": [[0.0, \"#0d0887\"], [0.1111111111111111, \"#46039f\"], [0.2222222222222222, \"#7201a8\"], [0.3333333333333333, \"#9c179e\"], [0.4444444444444444, \"#bd3786\"], [0.5555555555555556, \"#d8576b\"], [0.6666666666666666, \"#ed7953\"], [0.7777777777777778, \"#fb9f3a\"], [0.8888888888888888, \"#fdca26\"], [1.0, \"#f0f921\"]]}, \"colorway\": [\"#636efa\", \"#EF553B\", \"#00cc96\", \"#ab63fa\", \"#FFA15A\", \"#19d3f3\", \"#FF6692\", \"#B6E880\", \"#FF97FF\", \"#FECB52\"], \"font\": {\"color\": \"#2a3f5f\"}, \"geo\": {\"bgcolor\": \"white\", \"lakecolor\": \"white\", \"landcolor\": \"#E5ECF6\", \"showlakes\": true, \"showland\": true, \"subunitcolor\": \"white\"}, \"hoverlabel\": {\"align\": \"left\"}, \"hovermode\": \"closest\", \"mapbox\": {\"style\": \"light\"}, \"paper_bgcolor\": \"white\", \"plot_bgcolor\": \"#E5ECF6\", \"polar\": {\"angularaxis\": {\"gridcolor\": \"white\", \"linecolor\": \"white\", \"ticks\": \"\"}, \"bgcolor\": \"#E5ECF6\", \"radialaxis\": {\"gridcolor\": \"white\", \"linecolor\": \"white\", \"ticks\": \"\"}}, \"scene\": {\"xaxis\": {\"backgroundcolor\": \"#E5ECF6\", \"gridcolor\": \"white\", \"gridwidth\": 2, \"linecolor\": \"white\", \"showbackground\": true, \"ticks\": \"\", \"zerolinecolor\": \"white\"}, \"yaxis\": {\"backgroundcolor\": \"#E5ECF6\", \"gridcolor\": \"white\", \"gridwidth\": 2, \"linecolor\": \"white\", \"showbackground\": true, \"ticks\": \"\", \"zerolinecolor\": \"white\"}, \"zaxis\": {\"backgroundcolor\": \"#E5ECF6\", \"gridcolor\": \"white\", \"gridwidth\": 2, \"linecolor\": \"white\", \"showbackground\": true, \"ticks\": \"\", \"zerolinecolor\": \"white\"}}, \"shapedefaults\": {\"line\": {\"color\": \"#2a3f5f\"}}, \"ternary\": {\"aaxis\": {\"gridcolor\": \"white\", \"linecolor\": \"white\", \"ticks\": \"\"}, \"baxis\": {\"gridcolor\": \"white\", \"linecolor\": \"white\", \"ticks\": \"\"}, \"bgcolor\": \"#E5ECF6\", \"caxis\": {\"gridcolor\": \"white\", \"linecolor\": \"white\", \"ticks\": \"\"}}, \"title\": {\"x\": 0.05}, \"xaxis\": {\"automargin\": true, \"gridcolor\": \"white\", \"linecolor\": \"white\", \"ticks\": \"\", \"title\": {\"standoff\": 15}, \"zerolinecolor\": \"white\", \"zerolinewidth\": 2}, \"yaxis\": {\"automargin\": true, \"gridcolor\": \"white\", \"linecolor\": \"white\", \"ticks\": \"\", \"title\": {\"standoff\": 15}, \"zerolinecolor\": \"white\", \"zerolinewidth\": 2}}}, \"width\": 950, \"xaxis\": {\"anchor\": \"y\", \"domain\": [0.0, 0.2888888888888889]}, \"xaxis2\": {\"anchor\": \"y2\", \"domain\": [0.35555555555555557, 0.6444444444444445]}, \"xaxis3\": {\"anchor\": \"y3\", \"domain\": [0.7111111111111111, 1.0]}, \"yaxis\": {\"anchor\": \"x\", \"domain\": [0.0, 1.0]}, \"yaxis2\": {\"anchor\": \"x2\", \"domain\": [0.0, 1.0]}, \"yaxis3\": {\"anchor\": \"x3\", \"domain\": [0.0, 1.0]}},                        {\"responsive\": true}                    ).then(function(){\n",
       "                            \n",
       "var gd = document.getElementById('d15def3a-7d6a-4ef2-a240-d8fde611fd71');\n",
       "var x = new MutationObserver(function (mutations, observer) {{\n",
       "        var display = window.getComputedStyle(gd).display;\n",
       "        if (!display || display === 'none') {{\n",
       "            console.log([gd, 'removed!']);\n",
       "            Plotly.purge(gd);\n",
       "            observer.disconnect();\n",
       "        }}\n",
       "}});\n",
       "\n",
       "// Listen for the removal of the full notebook cells\n",
       "var notebookContainer = gd.closest('#notebook-container');\n",
       "if (notebookContainer) {{\n",
       "    x.observe(notebookContainer, {childList: true});\n",
       "}}\n",
       "\n",
       "// Listen for the clearing of the current output cell\n",
       "var outputEl = gd.closest('.output');\n",
       "if (outputEl) {{\n",
       "    x.observe(outputEl, {childList: true});\n",
       "}}\n",
       "\n",
       "                        })                };                });            </script>        </div>"
      ]
     },
     "metadata": {},
     "output_type": "display_data"
    }
   ],
   "source": [
    "fig = make_subplots(rows=1, cols=3)\n",
    "fig = plot_bar(fig, df_analysis, 'item_description', 1, 1, 100)\n",
    "fig = plot_bar(fig, df_analysis, 'city', 1, 2, 1000)\n",
    "fig = plot_bar(fig, df_analysis, 'county', 1, 3, 10000)\n",
    "fig.update_layout(autosize=False, width=950, height=600)\n",
    "fig.show()"
   ]
  },
  {
   "cell_type": "markdown",
   "metadata": {},
   "source": [
    "<p style=\"font-family: Monaco; font-size: 1.3em; color: IndianRed\">In this block, we selected only common drinks that were sold in large quantities. The city that orders the most expensive drinks has become Shueyville. Google it, and as it turned out Shueyville has one of the biggest family income. The most expensive drink in general use was Dalwhinnie 15 Yr Single Malt Scotch.</p>"
   ]
  },
  {
   "cell_type": "markdown",
   "metadata": {},
   "source": [
    "<h3><em>c)Time series analysis</em></h3>"
   ]
  },
  {
   "cell_type": "markdown",
   "metadata": {},
   "source": [
    "<ul><li style=\"font-family: Monaco; font-size: 1.3em\"><em>Daily sales (dollars)</em></li></ul>"
   ]
  },
  {
   "cell_type": "code",
   "execution_count": 168,
   "metadata": {},
   "outputs": [
    {
     "data": {
      "application/vnd.plotly.v1+json": {
       "config": {
        "plotlyServerURL": "https://plot.ly"
       },
       "data": [
        {
         "type": "scatter",
         "x": [
          "2012-01-03T00:00:00",
          "2012-01-04T00:00:00",
          "2012-01-05T00:00:00",
          "2012-01-09T00:00:00",
          "2012-01-10T00:00:00",
          "2012-01-11T00:00:00",
          "2012-01-12T00:00:00",
          "2012-01-16T00:00:00",
          "2012-01-17T00:00:00",
          "2012-01-18T00:00:00",
          "2012-01-19T00:00:00",
          "2012-01-23T00:00:00",
          "2012-01-24T00:00:00",
          "2012-01-25T00:00:00",
          "2012-01-26T00:00:00",
          "2012-01-27T00:00:00",
          "2012-01-30T00:00:00",
          "2012-01-31T00:00:00",
          "2012-02-01T00:00:00",
          "2012-02-02T00:00:00",
          "2012-02-06T00:00:00",
          "2012-02-07T00:00:00",
          "2012-02-08T00:00:00",
          "2012-02-09T00:00:00",
          "2012-02-13T00:00:00",
          "2012-02-14T00:00:00",
          "2012-02-15T00:00:00",
          "2012-02-16T00:00:00",
          "2012-02-20T00:00:00",
          "2012-02-21T00:00:00",
          "2012-02-22T00:00:00",
          "2012-02-23T00:00:00",
          "2012-02-27T00:00:00",
          "2012-02-28T00:00:00",
          "2012-02-29T00:00:00",
          "2012-03-01T00:00:00",
          "2012-03-05T00:00:00",
          "2012-03-06T00:00:00",
          "2012-03-07T00:00:00",
          "2012-03-08T00:00:00",
          "2012-03-09T00:00:00",
          "2012-03-12T00:00:00",
          "2012-03-13T00:00:00",
          "2012-03-14T00:00:00",
          "2012-03-15T00:00:00",
          "2012-03-16T00:00:00",
          "2012-03-19T00:00:00",
          "2012-03-20T00:00:00",
          "2012-03-21T00:00:00",
          "2012-03-22T00:00:00",
          "2012-03-26T00:00:00",
          "2012-03-27T00:00:00",
          "2012-03-28T00:00:00",
          "2012-03-29T00:00:00",
          "2012-04-02T00:00:00",
          "2012-04-03T00:00:00",
          "2012-04-04T00:00:00",
          "2012-04-05T00:00:00",
          "2012-04-09T00:00:00",
          "2012-04-10T00:00:00",
          "2012-04-11T00:00:00",
          "2012-04-12T00:00:00",
          "2012-04-16T00:00:00",
          "2012-04-17T00:00:00",
          "2012-04-18T00:00:00",
          "2012-04-19T00:00:00",
          "2012-04-23T00:00:00",
          "2012-04-24T00:00:00",
          "2012-04-25T00:00:00",
          "2012-04-26T00:00:00",
          "2012-04-27T00:00:00",
          "2012-04-30T00:00:00",
          "2012-05-01T00:00:00",
          "2012-05-02T00:00:00",
          "2012-05-03T00:00:00",
          "2012-05-07T00:00:00",
          "2012-05-08T00:00:00",
          "2012-05-09T00:00:00",
          "2012-05-10T00:00:00",
          "2012-05-11T00:00:00",
          "2012-05-14T00:00:00",
          "2012-05-15T00:00:00",
          "2012-05-16T00:00:00",
          "2012-05-17T00:00:00",
          "2012-05-21T00:00:00",
          "2012-05-22T00:00:00",
          "2012-05-23T00:00:00",
          "2012-05-24T00:00:00",
          "2012-05-25T00:00:00",
          "2012-05-29T00:00:00",
          "2012-05-30T00:00:00",
          "2012-05-31T00:00:00",
          "2012-06-01T00:00:00",
          "2012-06-04T00:00:00",
          "2012-06-05T00:00:00",
          "2012-06-06T00:00:00",
          "2012-06-07T00:00:00",
          "2012-06-11T00:00:00",
          "2012-06-12T00:00:00",
          "2012-06-13T00:00:00",
          "2012-06-14T00:00:00",
          "2012-06-18T00:00:00",
          "2012-06-19T00:00:00",
          "2012-06-20T00:00:00",
          "2012-06-21T00:00:00",
          "2012-06-22T00:00:00",
          "2012-06-25T00:00:00",
          "2012-06-26T00:00:00",
          "2012-06-27T00:00:00",
          "2012-06-28T00:00:00",
          "2012-06-29T00:00:00",
          "2012-07-02T00:00:00",
          "2012-07-03T00:00:00",
          "2012-07-05T00:00:00",
          "2012-07-06T00:00:00",
          "2012-07-09T00:00:00",
          "2012-07-10T00:00:00",
          "2012-07-11T00:00:00",
          "2012-07-12T00:00:00",
          "2012-07-16T00:00:00",
          "2012-07-17T00:00:00",
          "2012-07-18T00:00:00",
          "2012-07-19T00:00:00",
          "2012-07-20T00:00:00",
          "2012-07-23T00:00:00",
          "2012-07-24T00:00:00",
          "2012-07-25T00:00:00",
          "2012-07-26T00:00:00",
          "2012-07-27T00:00:00",
          "2012-07-30T00:00:00",
          "2012-07-31T00:00:00",
          "2012-08-01T00:00:00",
          "2012-08-02T00:00:00",
          "2012-08-03T00:00:00",
          "2012-08-06T00:00:00",
          "2012-08-07T00:00:00",
          "2012-08-08T00:00:00",
          "2012-08-09T00:00:00",
          "2012-08-13T00:00:00",
          "2012-08-14T00:00:00",
          "2012-08-15T00:00:00",
          "2012-08-16T00:00:00",
          "2012-08-20T00:00:00",
          "2012-08-21T00:00:00",
          "2012-08-22T00:00:00",
          "2012-08-23T00:00:00",
          "2012-08-27T00:00:00",
          "2012-08-28T00:00:00",
          "2012-08-29T00:00:00",
          "2012-08-30T00:00:00",
          "2012-08-31T00:00:00",
          "2012-09-04T00:00:00",
          "2012-09-05T00:00:00",
          "2012-09-06T00:00:00",
          "2012-09-07T00:00:00",
          "2012-09-10T00:00:00",
          "2012-09-11T00:00:00",
          "2012-09-12T00:00:00",
          "2012-09-13T00:00:00",
          "2012-09-14T00:00:00",
          "2012-09-17T00:00:00",
          "2012-09-18T00:00:00",
          "2012-09-19T00:00:00",
          "2012-09-20T00:00:00",
          "2012-09-21T00:00:00",
          "2012-09-24T00:00:00",
          "2012-09-25T00:00:00",
          "2012-09-26T00:00:00",
          "2012-09-27T00:00:00",
          "2012-10-01T00:00:00",
          "2012-10-02T00:00:00",
          "2012-10-03T00:00:00",
          "2012-10-04T00:00:00",
          "2012-10-05T00:00:00",
          "2012-10-08T00:00:00",
          "2012-10-09T00:00:00",
          "2012-10-10T00:00:00",
          "2012-10-11T00:00:00",
          "2012-10-12T00:00:00",
          "2012-10-15T00:00:00",
          "2012-10-16T00:00:00",
          "2012-10-17T00:00:00",
          "2012-10-18T00:00:00",
          "2012-10-19T00:00:00",
          "2012-10-22T00:00:00",
          "2012-10-23T00:00:00",
          "2012-10-24T00:00:00",
          "2012-10-25T00:00:00",
          "2012-10-26T00:00:00",
          "2012-10-29T00:00:00",
          "2012-10-30T00:00:00",
          "2012-10-31T00:00:00",
          "2012-11-01T00:00:00",
          "2012-11-02T00:00:00",
          "2012-11-05T00:00:00",
          "2012-11-06T00:00:00",
          "2012-11-07T00:00:00",
          "2012-11-08T00:00:00",
          "2012-11-12T00:00:00",
          "2012-11-13T00:00:00",
          "2012-11-14T00:00:00",
          "2012-11-15T00:00:00",
          "2012-11-16T00:00:00",
          "2012-11-17T00:00:00",
          "2012-11-19T00:00:00",
          "2012-11-20T00:00:00",
          "2012-11-21T00:00:00",
          "2012-11-26T00:00:00",
          "2012-11-27T00:00:00",
          "2012-11-28T00:00:00",
          "2012-11-29T00:00:00",
          "2012-12-03T00:00:00",
          "2012-12-04T00:00:00",
          "2012-12-05T00:00:00",
          "2012-12-06T00:00:00",
          "2012-12-10T00:00:00",
          "2012-12-11T00:00:00",
          "2012-12-12T00:00:00",
          "2012-12-13T00:00:00",
          "2012-12-14T00:00:00",
          "2012-12-17T00:00:00",
          "2012-12-18T00:00:00",
          "2012-12-19T00:00:00",
          "2012-12-20T00:00:00",
          "2012-12-21T00:00:00",
          "2012-12-24T00:00:00",
          "2012-12-26T00:00:00",
          "2012-12-27T00:00:00",
          "2012-12-28T00:00:00",
          "2012-12-31T00:00:00",
          "2013-01-02T00:00:00",
          "2013-01-03T00:00:00",
          "2013-01-07T00:00:00",
          "2013-01-08T00:00:00",
          "2013-01-09T00:00:00",
          "2013-01-10T00:00:00",
          "2013-01-14T00:00:00",
          "2013-01-15T00:00:00",
          "2013-01-16T00:00:00",
          "2013-01-17T00:00:00",
          "2013-01-21T00:00:00",
          "2013-01-22T00:00:00",
          "2013-01-23T00:00:00",
          "2013-01-24T00:00:00",
          "2013-01-25T00:00:00",
          "2013-01-28T00:00:00",
          "2013-01-29T00:00:00",
          "2013-01-30T00:00:00",
          "2013-01-31T00:00:00",
          "2013-02-04T00:00:00",
          "2013-02-05T00:00:00",
          "2013-02-06T00:00:00",
          "2013-02-07T00:00:00",
          "2013-02-08T00:00:00",
          "2013-02-11T00:00:00",
          "2013-02-12T00:00:00",
          "2013-02-13T00:00:00",
          "2013-02-14T00:00:00",
          "2013-02-18T00:00:00",
          "2013-02-19T00:00:00",
          "2013-02-20T00:00:00",
          "2013-02-21T00:00:00",
          "2013-02-22T00:00:00",
          "2013-02-25T00:00:00",
          "2013-02-26T00:00:00",
          "2013-02-27T00:00:00",
          "2013-02-28T00:00:00",
          "2013-03-04T00:00:00",
          "2013-03-05T00:00:00",
          "2013-03-06T00:00:00",
          "2013-03-07T00:00:00",
          "2013-03-11T00:00:00",
          "2013-03-12T00:00:00",
          "2013-03-13T00:00:00",
          "2013-03-14T00:00:00",
          "2013-03-15T00:00:00",
          "2013-03-18T00:00:00",
          "2013-03-19T00:00:00",
          "2013-03-20T00:00:00",
          "2013-03-21T00:00:00",
          "2013-03-25T00:00:00",
          "2013-03-26T00:00:00",
          "2013-03-27T00:00:00",
          "2013-03-28T00:00:00",
          "2013-04-01T00:00:00",
          "2013-04-02T00:00:00",
          "2013-04-03T00:00:00",
          "2013-04-04T00:00:00",
          "2013-04-08T00:00:00",
          "2013-04-09T00:00:00",
          "2013-04-10T00:00:00",
          "2013-04-11T00:00:00",
          "2013-04-15T00:00:00",
          "2013-04-16T00:00:00",
          "2013-04-17T00:00:00",
          "2013-04-18T00:00:00",
          "2013-04-19T00:00:00",
          "2013-04-22T00:00:00",
          "2013-04-23T00:00:00",
          "2013-04-24T00:00:00",
          "2013-04-25T00:00:00",
          "2013-04-29T00:00:00",
          "2013-04-30T00:00:00",
          "2013-05-01T00:00:00",
          "2013-05-02T00:00:00",
          "2013-05-03T00:00:00",
          "2013-05-06T00:00:00",
          "2013-05-07T00:00:00",
          "2013-05-08T00:00:00",
          "2013-05-09T00:00:00",
          "2013-05-10T00:00:00",
          "2013-05-13T00:00:00",
          "2013-05-14T00:00:00",
          "2013-05-15T00:00:00",
          "2013-05-16T00:00:00",
          "2013-05-20T00:00:00",
          "2013-05-21T00:00:00",
          "2013-05-22T00:00:00",
          "2013-05-23T00:00:00",
          "2013-05-24T00:00:00",
          "2013-05-28T00:00:00",
          "2013-05-29T00:00:00",
          "2013-05-30T00:00:00",
          "2013-05-31T00:00:00",
          "2013-06-03T00:00:00",
          "2013-06-04T00:00:00",
          "2013-06-05T00:00:00",
          "2013-06-06T00:00:00",
          "2013-06-07T00:00:00",
          "2013-06-10T00:00:00",
          "2013-06-11T00:00:00",
          "2013-06-12T00:00:00",
          "2013-06-13T00:00:00",
          "2013-06-14T00:00:00",
          "2013-06-15T00:00:00",
          "2013-06-17T00:00:00",
          "2013-06-18T00:00:00",
          "2013-06-21T00:00:00",
          "2013-06-22T00:00:00",
          "2013-06-24T00:00:00",
          "2013-06-25T00:00:00",
          "2013-06-26T00:00:00",
          "2013-06-27T00:00:00",
          "2013-06-28T00:00:00",
          "2013-07-01T00:00:00",
          "2013-07-02T00:00:00",
          "2013-07-03T00:00:00",
          "2013-07-04T00:00:00",
          "2013-07-08T00:00:00",
          "2013-07-09T00:00:00",
          "2013-07-10T00:00:00",
          "2013-07-11T00:00:00",
          "2013-07-15T00:00:00",
          "2013-07-16T00:00:00",
          "2013-07-17T00:00:00",
          "2013-07-18T00:00:00",
          "2013-07-19T00:00:00",
          "2013-07-22T00:00:00",
          "2013-07-23T00:00:00",
          "2013-07-24T00:00:00",
          "2013-07-25T00:00:00",
          "2013-07-29T00:00:00",
          "2013-07-30T00:00:00",
          "2013-07-31T00:00:00",
          "2013-08-01T00:00:00",
          "2013-08-02T00:00:00",
          "2013-08-05T00:00:00",
          "2013-08-06T00:00:00",
          "2013-08-07T00:00:00",
          "2013-08-08T00:00:00",
          "2013-08-12T00:00:00",
          "2013-08-13T00:00:00",
          "2013-08-14T00:00:00",
          "2013-08-15T00:00:00",
          "2013-08-16T00:00:00",
          "2013-08-19T00:00:00",
          "2013-08-20T00:00:00",
          "2013-08-21T00:00:00",
          "2013-08-22T00:00:00",
          "2013-08-26T00:00:00",
          "2013-08-27T00:00:00",
          "2013-08-28T00:00:00",
          "2013-08-29T00:00:00",
          "2013-08-30T00:00:00",
          "2013-09-03T00:00:00",
          "2013-09-04T00:00:00",
          "2013-09-05T00:00:00",
          "2013-09-06T00:00:00",
          "2013-09-09T00:00:00",
          "2013-09-10T00:00:00",
          "2013-09-11T00:00:00",
          "2013-09-12T00:00:00",
          "2013-09-16T00:00:00",
          "2013-09-17T00:00:00",
          "2013-09-18T00:00:00",
          "2013-09-19T00:00:00",
          "2013-09-20T00:00:00",
          "2013-09-23T00:00:00",
          "2013-09-24T00:00:00",
          "2013-09-25T00:00:00",
          "2013-09-26T00:00:00",
          "2013-09-30T00:00:00",
          "2013-10-01T00:00:00",
          "2013-10-02T00:00:00",
          "2013-10-03T00:00:00",
          "2013-10-04T00:00:00",
          "2013-10-07T00:00:00",
          "2013-10-08T00:00:00",
          "2013-10-09T00:00:00",
          "2013-10-10T00:00:00",
          "2013-10-11T00:00:00",
          "2013-10-14T00:00:00",
          "2013-10-15T00:00:00",
          "2013-10-16T00:00:00",
          "2013-10-17T00:00:00",
          "2013-10-21T00:00:00",
          "2013-10-22T00:00:00",
          "2013-10-23T00:00:00",
          "2013-10-24T00:00:00",
          "2013-10-25T00:00:00",
          "2013-10-28T00:00:00",
          "2013-10-29T00:00:00",
          "2013-10-30T00:00:00",
          "2013-10-31T00:00:00",
          "2013-11-01T00:00:00",
          "2013-11-04T00:00:00",
          "2013-11-05T00:00:00",
          "2013-11-06T00:00:00",
          "2013-11-07T00:00:00",
          "2013-11-08T00:00:00",
          "2013-11-11T00:00:00",
          "2013-11-12T00:00:00",
          "2013-11-13T00:00:00",
          "2013-11-14T00:00:00",
          "2013-11-15T00:00:00",
          "2013-11-18T00:00:00",
          "2013-11-19T00:00:00",
          "2013-11-20T00:00:00",
          "2013-11-21T00:00:00",
          "2013-11-22T00:00:00",
          "2013-11-23T00:00:00",
          "2013-11-25T00:00:00",
          "2013-11-26T00:00:00",
          "2013-11-27T00:00:00",
          "2013-12-02T00:00:00",
          "2013-12-03T00:00:00",
          "2013-12-04T00:00:00",
          "2013-12-05T00:00:00",
          "2013-12-06T00:00:00",
          "2013-12-09T00:00:00",
          "2013-12-10T00:00:00",
          "2013-12-11T00:00:00",
          "2013-12-12T00:00:00",
          "2013-12-13T00:00:00",
          "2013-12-16T00:00:00",
          "2013-12-17T00:00:00",
          "2013-12-18T00:00:00",
          "2013-12-19T00:00:00",
          "2013-12-20T00:00:00",
          "2013-12-21T00:00:00",
          "2013-12-23T00:00:00",
          "2013-12-24T00:00:00",
          "2013-12-26T00:00:00",
          "2013-12-27T00:00:00",
          "2013-12-28T00:00:00",
          "2013-12-30T00:00:00",
          "2013-12-31T00:00:00",
          "2014-01-02T00:00:00",
          "2014-01-06T00:00:00",
          "2014-01-07T00:00:00",
          "2014-01-08T00:00:00",
          "2014-01-09T00:00:00",
          "2014-01-13T00:00:00",
          "2014-01-14T00:00:00",
          "2014-01-15T00:00:00",
          "2014-01-16T00:00:00",
          "2014-01-17T00:00:00",
          "2014-01-20T00:00:00",
          "2014-01-21T00:00:00",
          "2014-01-22T00:00:00",
          "2014-01-23T00:00:00",
          "2014-01-27T00:00:00",
          "2014-01-28T00:00:00",
          "2014-01-29T00:00:00",
          "2014-01-30T00:00:00",
          "2014-01-31T00:00:00",
          "2014-02-03T00:00:00",
          "2014-02-04T00:00:00",
          "2014-02-05T00:00:00",
          "2014-02-06T00:00:00",
          "2014-02-10T00:00:00",
          "2014-02-11T00:00:00",
          "2014-02-12T00:00:00",
          "2014-02-13T00:00:00",
          "2014-02-17T00:00:00",
          "2014-02-18T00:00:00",
          "2014-02-19T00:00:00",
          "2014-02-20T00:00:00",
          "2014-02-24T00:00:00",
          "2014-02-25T00:00:00",
          "2014-02-26T00:00:00",
          "2014-02-27T00:00:00",
          "2014-03-03T00:00:00",
          "2014-03-04T00:00:00",
          "2014-03-05T00:00:00",
          "2014-03-06T00:00:00",
          "2014-03-10T00:00:00",
          "2014-03-11T00:00:00",
          "2014-03-12T00:00:00",
          "2014-03-13T00:00:00",
          "2014-03-14T00:00:00",
          "2014-03-17T00:00:00",
          "2014-03-18T00:00:00",
          "2014-03-19T00:00:00",
          "2014-03-20T00:00:00",
          "2014-03-24T00:00:00",
          "2014-03-25T00:00:00",
          "2014-03-26T00:00:00",
          "2014-03-27T00:00:00",
          "2014-03-31T00:00:00",
          "2014-04-01T00:00:00",
          "2014-04-02T00:00:00",
          "2014-04-03T00:00:00",
          "2014-04-07T00:00:00",
          "2014-04-08T00:00:00",
          "2014-04-09T00:00:00",
          "2014-04-10T00:00:00",
          "2014-04-11T00:00:00",
          "2014-04-14T00:00:00",
          "2014-04-15T00:00:00",
          "2014-04-16T00:00:00",
          "2014-04-17T00:00:00",
          "2014-04-21T00:00:00",
          "2014-04-22T00:00:00",
          "2014-04-23T00:00:00",
          "2014-04-24T00:00:00",
          "2014-04-28T00:00:00",
          "2014-04-29T00:00:00",
          "2014-04-30T00:00:00",
          "2014-05-01T00:00:00",
          "2014-05-02T00:00:00",
          "2014-05-05T00:00:00",
          "2014-05-06T00:00:00",
          "2014-05-07T00:00:00",
          "2014-05-08T00:00:00",
          "2014-05-12T00:00:00",
          "2014-05-13T00:00:00",
          "2014-05-14T00:00:00",
          "2014-05-15T00:00:00",
          "2014-05-19T00:00:00",
          "2014-05-20T00:00:00",
          "2014-05-21T00:00:00",
          "2014-05-22T00:00:00",
          "2014-05-23T00:00:00",
          "2014-05-27T00:00:00",
          "2014-05-28T00:00:00",
          "2014-05-29T00:00:00",
          "2014-06-02T00:00:00",
          "2014-06-03T00:00:00",
          "2014-06-04T00:00:00",
          "2014-06-05T00:00:00",
          "2014-06-09T00:00:00",
          "2014-06-10T00:00:00",
          "2014-06-11T00:00:00",
          "2014-06-12T00:00:00",
          "2014-06-16T00:00:00",
          "2014-06-17T00:00:00",
          "2014-06-18T00:00:00",
          "2014-06-19T00:00:00",
          "2014-06-23T00:00:00",
          "2014-06-24T00:00:00",
          "2014-06-25T00:00:00",
          "2014-06-26T00:00:00",
          "2014-06-27T00:00:00",
          "2014-06-30T00:00:00",
          "2014-07-01T00:00:00",
          "2014-07-02T00:00:00",
          "2014-07-03T00:00:00",
          "2014-07-07T00:00:00",
          "2014-07-08T00:00:00",
          "2014-07-09T00:00:00",
          "2014-07-10T00:00:00",
          "2014-07-14T00:00:00",
          "2014-07-15T00:00:00",
          "2014-07-16T00:00:00",
          "2014-07-17T00:00:00",
          "2014-07-21T00:00:00",
          "2014-07-22T00:00:00",
          "2014-07-23T00:00:00",
          "2014-07-24T00:00:00",
          "2014-07-28T00:00:00",
          "2014-07-29T00:00:00",
          "2014-07-30T00:00:00",
          "2014-07-31T00:00:00",
          "2014-08-04T00:00:00",
          "2014-08-05T00:00:00",
          "2014-08-06T00:00:00",
          "2014-08-07T00:00:00",
          "2014-08-11T00:00:00",
          "2014-08-12T00:00:00",
          "2014-08-13T00:00:00",
          "2014-08-14T00:00:00",
          "2014-08-18T00:00:00",
          "2014-08-19T00:00:00",
          "2014-08-20T00:00:00",
          "2014-08-21T00:00:00",
          "2014-08-25T00:00:00",
          "2014-08-26T00:00:00",
          "2014-08-27T00:00:00",
          "2014-08-28T00:00:00",
          "2014-08-29T00:00:00",
          "2014-09-02T00:00:00",
          "2014-09-03T00:00:00",
          "2014-09-04T00:00:00",
          "2014-09-08T00:00:00",
          "2014-09-09T00:00:00",
          "2014-09-10T00:00:00",
          "2014-09-11T00:00:00",
          "2014-09-15T00:00:00",
          "2014-09-16T00:00:00",
          "2014-09-17T00:00:00",
          "2014-09-18T00:00:00",
          "2014-09-22T00:00:00",
          "2014-09-23T00:00:00",
          "2014-09-24T00:00:00",
          "2014-09-25T00:00:00",
          "2014-09-29T00:00:00",
          "2014-09-30T00:00:00",
          "2014-10-01T00:00:00",
          "2014-10-02T00:00:00",
          "2014-10-03T00:00:00",
          "2014-10-06T00:00:00",
          "2014-10-07T00:00:00",
          "2014-10-08T00:00:00",
          "2014-10-09T00:00:00",
          "2014-10-10T00:00:00",
          "2014-10-13T00:00:00",
          "2014-10-14T00:00:00",
          "2014-10-15T00:00:00",
          "2014-10-16T00:00:00",
          "2014-10-20T00:00:00",
          "2014-10-21T00:00:00",
          "2014-10-22T00:00:00",
          "2014-10-23T00:00:00",
          "2014-10-24T00:00:00",
          "2014-10-27T00:00:00",
          "2014-10-28T00:00:00",
          "2014-10-29T00:00:00",
          "2014-10-30T00:00:00",
          "2014-11-03T00:00:00",
          "2014-11-04T00:00:00",
          "2014-11-05T00:00:00",
          "2014-11-06T00:00:00",
          "2014-11-07T00:00:00",
          "2014-11-10T00:00:00",
          "2014-11-12T00:00:00",
          "2014-11-13T00:00:00",
          "2014-11-17T00:00:00",
          "2014-11-18T00:00:00",
          "2014-11-19T00:00:00",
          "2014-11-20T00:00:00",
          "2014-11-21T00:00:00",
          "2014-11-22T00:00:00",
          "2014-11-24T00:00:00",
          "2014-11-25T00:00:00",
          "2014-11-26T00:00:00",
          "2014-12-01T00:00:00",
          "2014-12-02T00:00:00",
          "2014-12-03T00:00:00",
          "2014-12-04T00:00:00",
          "2014-12-08T00:00:00",
          "2014-12-09T00:00:00",
          "2014-12-10T00:00:00",
          "2014-12-11T00:00:00",
          "2014-12-12T00:00:00",
          "2014-12-15T00:00:00",
          "2014-12-16T00:00:00",
          "2014-12-17T00:00:00",
          "2014-12-18T00:00:00",
          "2014-12-19T00:00:00",
          "2014-12-20T00:00:00",
          "2014-12-22T00:00:00",
          "2014-12-23T00:00:00",
          "2014-12-24T00:00:00",
          "2014-12-26T00:00:00",
          "2014-12-27T00:00:00",
          "2014-12-29T00:00:00",
          "2014-12-30T00:00:00",
          "2014-12-31T00:00:00",
          "2015-01-05T00:00:00",
          "2015-01-06T00:00:00",
          "2015-01-07T00:00:00",
          "2015-01-08T00:00:00",
          "2015-01-12T00:00:00",
          "2015-01-13T00:00:00",
          "2015-01-14T00:00:00",
          "2015-01-15T00:00:00",
          "2015-01-16T00:00:00",
          "2015-01-20T00:00:00",
          "2015-01-21T00:00:00",
          "2015-01-22T00:00:00",
          "2015-01-23T00:00:00",
          "2015-01-26T00:00:00",
          "2015-01-27T00:00:00",
          "2015-01-28T00:00:00",
          "2015-01-29T00:00:00",
          "2015-02-02T00:00:00",
          "2015-02-03T00:00:00",
          "2015-02-04T00:00:00",
          "2015-02-05T00:00:00",
          "2015-02-06T00:00:00",
          "2015-02-09T00:00:00",
          "2015-02-10T00:00:00",
          "2015-02-11T00:00:00",
          "2015-02-12T00:00:00",
          "2015-02-16T00:00:00",
          "2015-02-17T00:00:00",
          "2015-02-18T00:00:00",
          "2015-02-19T00:00:00",
          "2015-02-23T00:00:00",
          "2015-02-24T00:00:00",
          "2015-02-25T00:00:00",
          "2015-02-26T00:00:00",
          "2015-03-02T00:00:00",
          "2015-03-03T00:00:00",
          "2015-03-04T00:00:00",
          "2015-03-05T00:00:00",
          "2015-03-06T00:00:00",
          "2015-03-09T00:00:00",
          "2015-03-10T00:00:00",
          "2015-03-11T00:00:00",
          "2015-03-12T00:00:00",
          "2015-03-16T00:00:00",
          "2015-03-17T00:00:00",
          "2015-03-18T00:00:00",
          "2015-03-19T00:00:00",
          "2015-03-23T00:00:00",
          "2015-03-24T00:00:00",
          "2015-03-25T00:00:00",
          "2015-03-26T00:00:00",
          "2015-03-30T00:00:00",
          "2015-03-31T00:00:00",
          "2015-04-01T00:00:00",
          "2015-04-02T00:00:00",
          "2015-04-06T00:00:00",
          "2015-04-07T00:00:00",
          "2015-04-08T00:00:00",
          "2015-04-09T00:00:00",
          "2015-04-13T00:00:00",
          "2015-04-14T00:00:00",
          "2015-04-15T00:00:00",
          "2015-04-16T00:00:00",
          "2015-04-20T00:00:00",
          "2015-04-21T00:00:00",
          "2015-04-22T00:00:00",
          "2015-04-23T00:00:00",
          "2015-04-27T00:00:00",
          "2015-04-28T00:00:00",
          "2015-04-29T00:00:00",
          "2015-04-30T00:00:00",
          "2015-05-01T00:00:00",
          "2015-05-04T00:00:00",
          "2015-05-05T00:00:00",
          "2015-05-06T00:00:00",
          "2015-05-07T00:00:00",
          "2015-05-11T00:00:00",
          "2015-05-12T00:00:00",
          "2015-05-13T00:00:00",
          "2015-05-14T00:00:00",
          "2015-05-18T00:00:00",
          "2015-05-19T00:00:00",
          "2015-05-20T00:00:00",
          "2015-05-21T00:00:00",
          "2015-05-22T00:00:00",
          "2015-05-26T00:00:00",
          "2015-05-27T00:00:00",
          "2015-05-28T00:00:00",
          "2015-05-29T00:00:00",
          "2015-06-01T00:00:00",
          "2015-06-02T00:00:00",
          "2015-06-03T00:00:00",
          "2015-06-04T00:00:00",
          "2015-06-05T00:00:00",
          "2015-06-08T00:00:00",
          "2015-06-09T00:00:00",
          "2015-06-10T00:00:00",
          "2015-06-11T00:00:00",
          "2015-06-12T00:00:00",
          "2015-06-15T00:00:00",
          "2015-06-16T00:00:00",
          "2015-06-17T00:00:00",
          "2015-06-18T00:00:00",
          "2015-06-19T00:00:00",
          "2015-06-22T00:00:00",
          "2015-06-23T00:00:00",
          "2015-06-24T00:00:00",
          "2015-06-25T00:00:00",
          "2015-06-26T00:00:00",
          "2015-06-29T00:00:00",
          "2015-06-30T00:00:00",
          "2015-07-01T00:00:00",
          "2015-07-02T00:00:00",
          "2015-07-06T00:00:00",
          "2015-07-07T00:00:00",
          "2015-07-08T00:00:00",
          "2015-07-09T00:00:00",
          "2015-07-13T00:00:00",
          "2015-07-14T00:00:00",
          "2015-07-15T00:00:00",
          "2015-07-16T00:00:00",
          "2015-07-20T00:00:00",
          "2015-07-21T00:00:00",
          "2015-07-22T00:00:00",
          "2015-07-23T00:00:00",
          "2015-07-27T00:00:00",
          "2015-07-28T00:00:00",
          "2015-07-29T00:00:00",
          "2015-07-30T00:00:00",
          "2015-07-31T00:00:00",
          "2015-08-03T00:00:00",
          "2015-08-04T00:00:00",
          "2015-08-05T00:00:00",
          "2015-08-06T00:00:00",
          "2015-08-07T00:00:00",
          "2015-08-10T00:00:00",
          "2015-08-11T00:00:00",
          "2015-08-12T00:00:00",
          "2015-08-13T00:00:00",
          "2015-08-17T00:00:00",
          "2015-08-18T00:00:00",
          "2015-08-19T00:00:00",
          "2015-08-20T00:00:00",
          "2015-08-24T00:00:00",
          "2015-08-25T00:00:00",
          "2015-08-26T00:00:00",
          "2015-08-27T00:00:00",
          "2015-08-31T00:00:00",
          "2015-09-01T00:00:00",
          "2015-09-02T00:00:00",
          "2015-09-03T00:00:00",
          "2015-09-04T00:00:00",
          "2015-09-08T00:00:00",
          "2015-09-09T00:00:00",
          "2015-09-10T00:00:00",
          "2015-09-14T00:00:00",
          "2015-09-15T00:00:00",
          "2015-09-16T00:00:00",
          "2015-09-17T00:00:00",
          "2015-09-18T00:00:00",
          "2015-09-21T00:00:00",
          "2015-09-22T00:00:00",
          "2015-09-23T00:00:00",
          "2015-09-24T00:00:00",
          "2015-09-25T00:00:00",
          "2015-09-28T00:00:00",
          "2015-09-29T00:00:00",
          "2015-09-30T00:00:00",
          "2015-10-01T00:00:00",
          "2015-10-02T00:00:00",
          "2015-10-05T00:00:00",
          "2015-10-06T00:00:00",
          "2015-10-07T00:00:00",
          "2015-10-08T00:00:00",
          "2015-10-12T00:00:00",
          "2015-10-13T00:00:00",
          "2015-10-14T00:00:00",
          "2015-10-15T00:00:00",
          "2015-10-19T00:00:00",
          "2015-10-20T00:00:00",
          "2015-10-21T00:00:00",
          "2015-10-22T00:00:00",
          "2015-10-26T00:00:00",
          "2015-10-27T00:00:00",
          "2015-10-28T00:00:00",
          "2015-10-29T00:00:00",
          "2015-10-30T00:00:00",
          "2015-11-02T00:00:00",
          "2015-11-03T00:00:00",
          "2015-11-04T00:00:00",
          "2015-11-05T00:00:00",
          "2015-11-09T00:00:00",
          "2015-11-10T00:00:00",
          "2015-11-11T00:00:00",
          "2015-11-12T00:00:00",
          "2015-11-16T00:00:00",
          "2015-11-17T00:00:00",
          "2015-11-18T00:00:00",
          "2015-11-19T00:00:00",
          "2015-11-20T00:00:00",
          "2015-11-21T00:00:00",
          "2015-11-23T00:00:00",
          "2015-11-24T00:00:00",
          "2015-11-25T00:00:00",
          "2015-11-30T00:00:00",
          "2015-12-01T00:00:00",
          "2015-12-02T00:00:00",
          "2015-12-03T00:00:00",
          "2015-12-04T00:00:00",
          "2015-12-07T00:00:00",
          "2015-12-08T00:00:00",
          "2015-12-09T00:00:00",
          "2015-12-10T00:00:00",
          "2015-12-14T00:00:00",
          "2015-12-15T00:00:00",
          "2015-12-16T00:00:00",
          "2015-12-17T00:00:00",
          "2015-12-18T00:00:00",
          "2015-12-21T00:00:00",
          "2015-12-22T00:00:00",
          "2015-12-23T00:00:00",
          "2015-12-24T00:00:00",
          "2015-12-26T00:00:00",
          "2015-12-28T00:00:00",
          "2015-12-29T00:00:00",
          "2015-12-30T00:00:00",
          "2015-12-31T00:00:00",
          "2016-01-04T00:00:00",
          "2016-01-05T00:00:00",
          "2016-01-06T00:00:00",
          "2016-01-07T00:00:00",
          "2016-01-11T00:00:00",
          "2016-01-12T00:00:00",
          "2016-01-13T00:00:00",
          "2016-01-14T00:00:00",
          "2016-01-15T00:00:00",
          "2016-01-19T00:00:00",
          "2016-01-20T00:00:00",
          "2016-01-21T00:00:00",
          "2016-01-25T00:00:00",
          "2016-01-26T00:00:00",
          "2016-01-27T00:00:00",
          "2016-01-28T00:00:00",
          "2016-02-01T00:00:00",
          "2016-02-02T00:00:00",
          "2016-02-03T00:00:00",
          "2016-02-04T00:00:00",
          "2016-02-08T00:00:00",
          "2016-02-09T00:00:00",
          "2016-02-10T00:00:00",
          "2016-02-11T00:00:00",
          "2016-02-12T00:00:00",
          "2016-02-15T00:00:00",
          "2016-02-16T00:00:00",
          "2016-02-17T00:00:00",
          "2016-02-18T00:00:00",
          "2016-02-19T00:00:00",
          "2016-02-22T00:00:00",
          "2016-02-23T00:00:00",
          "2016-02-24T00:00:00",
          "2016-02-25T00:00:00",
          "2016-02-29T00:00:00",
          "2016-03-01T00:00:00",
          "2016-03-02T00:00:00",
          "2016-03-03T00:00:00",
          "2016-03-04T00:00:00",
          "2016-03-07T00:00:00",
          "2016-03-08T00:00:00",
          "2016-03-09T00:00:00",
          "2016-03-10T00:00:00",
          "2016-03-11T00:00:00",
          "2016-03-14T00:00:00",
          "2016-03-15T00:00:00",
          "2016-03-16T00:00:00",
          "2016-03-17T00:00:00",
          "2016-03-21T00:00:00",
          "2016-03-22T00:00:00",
          "2016-03-23T00:00:00",
          "2016-03-24T00:00:00",
          "2016-03-25T00:00:00",
          "2016-03-28T00:00:00",
          "2016-03-29T00:00:00",
          "2016-03-30T00:00:00",
          "2016-03-31T00:00:00",
          "2016-04-04T00:00:00",
          "2016-04-05T00:00:00",
          "2016-04-06T00:00:00",
          "2016-04-07T00:00:00",
          "2016-04-11T00:00:00",
          "2016-04-12T00:00:00",
          "2016-04-13T00:00:00",
          "2016-04-14T00:00:00",
          "2016-04-15T00:00:00",
          "2016-04-18T00:00:00",
          "2016-04-19T00:00:00",
          "2016-04-20T00:00:00",
          "2016-04-21T00:00:00",
          "2016-04-25T00:00:00",
          "2016-04-26T00:00:00",
          "2016-04-27T00:00:00",
          "2016-04-28T00:00:00",
          "2016-04-29T00:00:00",
          "2016-05-02T00:00:00",
          "2016-05-03T00:00:00",
          "2016-05-04T00:00:00",
          "2016-05-05T00:00:00",
          "2016-05-06T00:00:00",
          "2016-05-09T00:00:00",
          "2016-05-10T00:00:00",
          "2016-05-11T00:00:00",
          "2016-05-12T00:00:00",
          "2016-05-13T00:00:00",
          "2016-05-16T00:00:00",
          "2016-05-17T00:00:00",
          "2016-05-18T00:00:00",
          "2016-05-19T00:00:00",
          "2016-05-20T00:00:00",
          "2016-05-23T00:00:00",
          "2016-05-24T00:00:00",
          "2016-05-25T00:00:00",
          "2016-05-26T00:00:00",
          "2016-05-27T00:00:00",
          "2016-05-31T00:00:00",
          "2016-06-01T00:00:00",
          "2016-06-02T00:00:00",
          "2016-06-03T00:00:00",
          "2016-06-06T00:00:00",
          "2016-06-07T00:00:00",
          "2016-06-08T00:00:00",
          "2016-06-09T00:00:00",
          "2016-06-10T00:00:00",
          "2016-06-13T00:00:00",
          "2016-06-14T00:00:00",
          "2016-06-15T00:00:00",
          "2016-06-16T00:00:00",
          "2016-06-20T00:00:00",
          "2016-06-21T00:00:00",
          "2016-06-22T00:00:00",
          "2016-06-23T00:00:00",
          "2016-06-24T00:00:00",
          "2016-06-27T00:00:00",
          "2016-06-28T00:00:00",
          "2016-06-29T00:00:00",
          "2016-06-30T00:00:00",
          "2016-07-01T00:00:00",
          "2016-07-05T00:00:00",
          "2016-07-06T00:00:00",
          "2016-07-07T00:00:00",
          "2016-07-08T00:00:00",
          "2016-07-11T00:00:00",
          "2016-07-12T00:00:00",
          "2016-07-13T00:00:00",
          "2016-07-14T00:00:00",
          "2016-07-15T00:00:00",
          "2016-07-18T00:00:00",
          "2016-07-19T00:00:00",
          "2016-07-20T00:00:00",
          "2016-07-21T00:00:00",
          "2016-07-22T00:00:00",
          "2016-07-25T00:00:00",
          "2016-07-26T00:00:00",
          "2016-07-27T00:00:00",
          "2016-07-28T00:00:00",
          "2016-07-29T00:00:00",
          "2016-08-01T00:00:00",
          "2016-08-02T00:00:00",
          "2016-08-03T00:00:00",
          "2016-08-04T00:00:00",
          "2016-08-05T00:00:00",
          "2016-08-08T00:00:00",
          "2016-08-09T00:00:00",
          "2016-08-10T00:00:00",
          "2016-08-11T00:00:00",
          "2016-08-12T00:00:00",
          "2016-08-15T00:00:00",
          "2016-08-16T00:00:00",
          "2016-08-17T00:00:00",
          "2016-08-18T00:00:00",
          "2016-08-19T00:00:00",
          "2016-08-22T00:00:00",
          "2016-08-23T00:00:00",
          "2016-08-24T00:00:00",
          "2016-08-25T00:00:00",
          "2016-08-26T00:00:00",
          "2016-08-29T00:00:00",
          "2016-08-30T00:00:00",
          "2016-08-31T00:00:00",
          "2016-09-01T00:00:00",
          "2016-09-02T00:00:00",
          "2016-09-03T00:00:00",
          "2016-09-06T00:00:00",
          "2016-09-07T00:00:00",
          "2016-09-08T00:00:00",
          "2016-09-09T00:00:00",
          "2016-09-12T00:00:00",
          "2016-09-13T00:00:00",
          "2016-09-14T00:00:00",
          "2016-09-15T00:00:00",
          "2016-09-16T00:00:00",
          "2016-09-19T00:00:00",
          "2016-09-20T00:00:00",
          "2016-09-21T00:00:00",
          "2016-09-22T00:00:00",
          "2016-09-23T00:00:00",
          "2016-09-26T00:00:00",
          "2016-09-27T00:00:00",
          "2016-09-28T00:00:00",
          "2016-09-29T00:00:00",
          "2016-09-30T00:00:00",
          "2016-10-03T00:00:00",
          "2016-10-04T00:00:00",
          "2016-10-05T00:00:00",
          "2016-10-06T00:00:00",
          "2016-10-07T00:00:00",
          "2016-10-10T00:00:00",
          "2016-10-11T00:00:00",
          "2016-10-12T00:00:00",
          "2016-10-13T00:00:00",
          "2016-10-14T00:00:00",
          "2016-10-17T00:00:00",
          "2016-10-18T00:00:00",
          "2016-10-19T00:00:00",
          "2016-10-20T00:00:00",
          "2016-10-21T00:00:00",
          "2016-10-24T00:00:00",
          "2016-10-25T00:00:00",
          "2016-10-26T00:00:00",
          "2016-10-27T00:00:00",
          "2016-10-28T00:00:00",
          "2016-10-31T00:00:00",
          "2016-11-01T00:00:00",
          "2016-11-02T00:00:00",
          "2016-11-03T00:00:00",
          "2016-11-04T00:00:00",
          "2016-11-05T00:00:00",
          "2016-11-07T00:00:00",
          "2016-11-08T00:00:00",
          "2016-11-09T00:00:00",
          "2016-11-10T00:00:00",
          "2016-11-11T00:00:00",
          "2016-11-14T00:00:00",
          "2016-11-15T00:00:00",
          "2016-11-16T00:00:00",
          "2016-11-17T00:00:00",
          "2016-11-18T00:00:00",
          "2016-11-21T00:00:00",
          "2016-11-22T00:00:00",
          "2016-11-23T00:00:00",
          "2016-11-28T00:00:00",
          "2016-11-29T00:00:00",
          "2016-11-30T00:00:00",
          "2016-12-01T00:00:00",
          "2016-12-02T00:00:00",
          "2016-12-05T00:00:00",
          "2016-12-06T00:00:00",
          "2016-12-07T00:00:00",
          "2016-12-08T00:00:00",
          "2016-12-09T00:00:00",
          "2016-12-12T00:00:00",
          "2016-12-13T00:00:00",
          "2016-12-14T00:00:00",
          "2016-12-15T00:00:00",
          "2016-12-16T00:00:00",
          "2016-12-19T00:00:00",
          "2016-12-20T00:00:00",
          "2016-12-21T00:00:00",
          "2016-12-22T00:00:00",
          "2016-12-23T00:00:00",
          "2016-12-26T00:00:00",
          "2016-12-27T00:00:00",
          "2016-12-28T00:00:00",
          "2016-12-29T00:00:00",
          "2016-12-30T00:00:00",
          "2017-01-03T00:00:00",
          "2017-01-04T00:00:00",
          "2017-01-05T00:00:00",
          "2017-01-06T00:00:00",
          "2017-01-09T00:00:00",
          "2017-01-10T00:00:00",
          "2017-01-11T00:00:00",
          "2017-01-12T00:00:00",
          "2017-01-13T00:00:00",
          "2017-01-16T00:00:00",
          "2017-01-17T00:00:00",
          "2017-01-18T00:00:00",
          "2017-01-19T00:00:00",
          "2017-01-20T00:00:00",
          "2017-01-23T00:00:00",
          "2017-01-24T00:00:00",
          "2017-01-25T00:00:00",
          "2017-01-26T00:00:00",
          "2017-01-27T00:00:00",
          "2017-01-30T00:00:00",
          "2017-01-31T00:00:00",
          "2017-02-01T00:00:00",
          "2017-02-02T00:00:00",
          "2017-02-03T00:00:00",
          "2017-02-06T00:00:00",
          "2017-02-07T00:00:00",
          "2017-02-08T00:00:00",
          "2017-02-09T00:00:00",
          "2017-02-10T00:00:00",
          "2017-02-13T00:00:00",
          "2017-02-14T00:00:00",
          "2017-02-15T00:00:00",
          "2017-02-16T00:00:00",
          "2017-02-17T00:00:00",
          "2017-02-20T00:00:00",
          "2017-02-21T00:00:00",
          "2017-02-22T00:00:00",
          "2017-02-23T00:00:00",
          "2017-02-24T00:00:00",
          "2017-02-27T00:00:00",
          "2017-02-28T00:00:00",
          "2017-03-01T00:00:00",
          "2017-03-02T00:00:00",
          "2017-03-03T00:00:00",
          "2017-03-06T00:00:00",
          "2017-03-07T00:00:00",
          "2017-03-08T00:00:00",
          "2017-03-09T00:00:00",
          "2017-03-10T00:00:00",
          "2017-03-13T00:00:00",
          "2017-03-14T00:00:00",
          "2017-03-15T00:00:00",
          "2017-03-16T00:00:00",
          "2017-03-17T00:00:00",
          "2017-03-20T00:00:00",
          "2017-03-21T00:00:00",
          "2017-03-22T00:00:00",
          "2017-03-23T00:00:00",
          "2017-03-24T00:00:00",
          "2017-03-27T00:00:00",
          "2017-03-28T00:00:00",
          "2017-03-29T00:00:00",
          "2017-03-30T00:00:00",
          "2017-03-31T00:00:00",
          "2017-04-03T00:00:00",
          "2017-04-04T00:00:00",
          "2017-04-05T00:00:00",
          "2017-04-06T00:00:00",
          "2017-04-07T00:00:00",
          "2017-04-10T00:00:00",
          "2017-04-11T00:00:00",
          "2017-04-12T00:00:00",
          "2017-04-13T00:00:00",
          "2017-04-14T00:00:00",
          "2017-04-17T00:00:00",
          "2017-04-18T00:00:00",
          "2017-04-19T00:00:00",
          "2017-04-20T00:00:00",
          "2017-04-21T00:00:00",
          "2017-04-24T00:00:00",
          "2017-04-25T00:00:00",
          "2017-04-26T00:00:00",
          "2017-04-27T00:00:00",
          "2017-04-28T00:00:00",
          "2017-05-01T00:00:00",
          "2017-05-02T00:00:00",
          "2017-05-03T00:00:00",
          "2017-05-04T00:00:00",
          "2017-05-05T00:00:00",
          "2017-05-08T00:00:00",
          "2017-05-09T00:00:00",
          "2017-05-10T00:00:00",
          "2017-05-11T00:00:00",
          "2017-05-12T00:00:00",
          "2017-05-15T00:00:00",
          "2017-05-16T00:00:00",
          "2017-05-17T00:00:00",
          "2017-05-18T00:00:00",
          "2017-05-19T00:00:00",
          "2017-05-22T00:00:00",
          "2017-05-23T00:00:00",
          "2017-05-24T00:00:00",
          "2017-05-25T00:00:00",
          "2017-05-26T00:00:00",
          "2017-05-27T00:00:00",
          "2017-05-29T00:00:00",
          "2017-05-30T00:00:00",
          "2017-05-31T00:00:00",
          "2017-06-01T00:00:00",
          "2017-06-02T00:00:00",
          "2017-06-05T00:00:00",
          "2017-06-06T00:00:00",
          "2017-06-07T00:00:00",
          "2017-06-08T00:00:00",
          "2017-06-09T00:00:00",
          "2017-06-12T00:00:00",
          "2017-06-13T00:00:00",
          "2017-06-14T00:00:00",
          "2017-06-15T00:00:00",
          "2017-06-16T00:00:00",
          "2017-06-19T00:00:00",
          "2017-06-20T00:00:00",
          "2017-06-21T00:00:00",
          "2017-06-22T00:00:00",
          "2017-06-23T00:00:00",
          "2017-06-26T00:00:00",
          "2017-06-27T00:00:00",
          "2017-06-28T00:00:00",
          "2017-06-29T00:00:00",
          "2017-06-30T00:00:00",
          "2017-07-03T00:00:00",
          "2017-07-04T00:00:00",
          "2017-07-05T00:00:00",
          "2017-07-06T00:00:00",
          "2017-07-07T00:00:00",
          "2017-07-10T00:00:00",
          "2017-07-11T00:00:00",
          "2017-07-12T00:00:00",
          "2017-07-13T00:00:00",
          "2017-07-14T00:00:00",
          "2017-07-17T00:00:00",
          "2017-07-18T00:00:00",
          "2017-07-19T00:00:00",
          "2017-07-20T00:00:00",
          "2017-07-21T00:00:00",
          "2017-07-24T00:00:00",
          "2017-07-25T00:00:00",
          "2017-07-26T00:00:00",
          "2017-07-27T00:00:00",
          "2017-07-28T00:00:00",
          "2017-07-31T00:00:00",
          "2017-08-01T00:00:00",
          "2017-08-02T00:00:00",
          "2017-08-03T00:00:00",
          "2017-08-04T00:00:00",
          "2017-08-07T00:00:00",
          "2017-08-08T00:00:00",
          "2017-08-09T00:00:00",
          "2017-08-10T00:00:00",
          "2017-08-11T00:00:00",
          "2017-08-14T00:00:00",
          "2017-08-15T00:00:00",
          "2017-08-16T00:00:00",
          "2017-08-17T00:00:00",
          "2017-08-18T00:00:00",
          "2017-08-21T00:00:00",
          "2017-08-22T00:00:00",
          "2017-08-23T00:00:00",
          "2017-08-24T00:00:00",
          "2017-08-25T00:00:00",
          "2017-08-28T00:00:00",
          "2017-08-29T00:00:00",
          "2017-08-30T00:00:00",
          "2017-08-31T00:00:00",
          "2017-09-01T00:00:00",
          "2017-09-04T00:00:00",
          "2017-09-05T00:00:00",
          "2017-09-06T00:00:00",
          "2017-09-07T00:00:00",
          "2017-09-08T00:00:00",
          "2017-09-11T00:00:00",
          "2017-09-12T00:00:00",
          "2017-09-13T00:00:00",
          "2017-09-14T00:00:00",
          "2017-09-15T00:00:00",
          "2017-09-18T00:00:00",
          "2017-09-19T00:00:00",
          "2017-09-20T00:00:00",
          "2017-09-21T00:00:00",
          "2017-09-22T00:00:00",
          "2017-09-25T00:00:00",
          "2017-09-26T00:00:00",
          "2017-09-27T00:00:00",
          "2017-09-28T00:00:00",
          "2017-09-29T00:00:00",
          "2017-10-02T00:00:00",
          "2017-10-03T00:00:00",
          "2017-10-04T00:00:00",
          "2017-10-05T00:00:00",
          "2017-10-06T00:00:00",
          "2017-10-09T00:00:00",
          "2017-10-10T00:00:00",
          "2017-10-11T00:00:00",
          "2017-10-12T00:00:00",
          "2017-10-13T00:00:00",
          "2017-10-16T00:00:00",
          "2017-10-17T00:00:00",
          "2017-10-18T00:00:00",
          "2017-10-19T00:00:00",
          "2017-10-20T00:00:00",
          "2017-10-23T00:00:00",
          "2017-10-24T00:00:00",
          "2017-10-25T00:00:00",
          "2017-10-26T00:00:00",
          "2017-10-27T00:00:00",
          "2017-10-30T00:00:00",
          "2017-10-31T00:00:00",
          "2017-11-01T00:00:00",
          "2017-11-02T00:00:00",
          "2017-11-03T00:00:00",
          "2017-11-06T00:00:00",
          "2017-11-07T00:00:00",
          "2017-11-08T00:00:00",
          "2017-11-09T00:00:00",
          "2017-11-10T00:00:00",
          "2017-11-13T00:00:00",
          "2017-11-14T00:00:00",
          "2017-11-15T00:00:00",
          "2017-11-16T00:00:00",
          "2017-11-17T00:00:00",
          "2017-11-20T00:00:00",
          "2017-11-21T00:00:00",
          "2017-11-22T00:00:00",
          "2017-11-27T00:00:00",
          "2017-11-28T00:00:00",
          "2017-11-29T00:00:00",
          "2017-11-30T00:00:00",
          "2017-12-01T00:00:00",
          "2017-12-04T00:00:00",
          "2017-12-05T00:00:00",
          "2017-12-06T00:00:00",
          "2017-12-07T00:00:00",
          "2017-12-08T00:00:00",
          "2017-12-11T00:00:00",
          "2017-12-12T00:00:00",
          "2017-12-13T00:00:00",
          "2017-12-14T00:00:00",
          "2017-12-15T00:00:00",
          "2017-12-18T00:00:00",
          "2017-12-19T00:00:00",
          "2017-12-20T00:00:00",
          "2017-12-21T00:00:00",
          "2017-12-22T00:00:00",
          "2017-12-26T00:00:00",
          "2017-12-27T00:00:00",
          "2017-12-28T00:00:00",
          "2017-12-29T00:00:00",
          "2018-01-02T00:00:00",
          "2018-01-03T00:00:00",
          "2018-01-04T00:00:00",
          "2018-01-05T00:00:00",
          "2018-01-08T00:00:00",
          "2018-01-09T00:00:00",
          "2018-01-10T00:00:00",
          "2018-01-11T00:00:00",
          "2018-01-12T00:00:00",
          "2018-01-15T00:00:00",
          "2018-01-16T00:00:00",
          "2018-01-17T00:00:00",
          "2018-01-18T00:00:00",
          "2018-01-19T00:00:00",
          "2018-01-22T00:00:00",
          "2018-01-23T00:00:00",
          "2018-01-24T00:00:00",
          "2018-01-25T00:00:00",
          "2018-01-26T00:00:00",
          "2018-01-29T00:00:00",
          "2018-01-30T00:00:00",
          "2018-01-31T00:00:00",
          "2018-02-01T00:00:00",
          "2018-02-02T00:00:00",
          "2018-02-05T00:00:00",
          "2018-02-06T00:00:00",
          "2018-02-07T00:00:00",
          "2018-02-08T00:00:00",
          "2018-02-09T00:00:00",
          "2018-02-12T00:00:00",
          "2018-02-13T00:00:00",
          "2018-02-14T00:00:00",
          "2018-02-15T00:00:00",
          "2018-02-16T00:00:00",
          "2018-02-19T00:00:00",
          "2018-02-20T00:00:00",
          "2018-02-21T00:00:00",
          "2018-02-22T00:00:00",
          "2018-02-23T00:00:00",
          "2018-02-26T00:00:00",
          "2018-02-27T00:00:00",
          "2018-02-28T00:00:00",
          "2018-03-01T00:00:00",
          "2018-03-02T00:00:00",
          "2018-03-05T00:00:00",
          "2018-03-06T00:00:00",
          "2018-03-07T00:00:00",
          "2018-03-08T00:00:00",
          "2018-03-09T00:00:00",
          "2018-03-12T00:00:00",
          "2018-03-13T00:00:00",
          "2018-03-14T00:00:00",
          "2018-03-15T00:00:00",
          "2018-03-16T00:00:00",
          "2018-03-19T00:00:00",
          "2018-03-20T00:00:00",
          "2018-03-21T00:00:00",
          "2018-03-22T00:00:00",
          "2018-03-23T00:00:00",
          "2018-03-26T00:00:00",
          "2018-03-27T00:00:00",
          "2018-03-28T00:00:00",
          "2018-03-29T00:00:00",
          "2018-03-30T00:00:00",
          "2018-04-02T00:00:00",
          "2018-04-03T00:00:00",
          "2018-04-04T00:00:00",
          "2018-04-05T00:00:00",
          "2018-04-06T00:00:00",
          "2018-04-09T00:00:00",
          "2018-04-10T00:00:00",
          "2018-04-11T00:00:00",
          "2018-04-12T00:00:00",
          "2018-04-13T00:00:00",
          "2018-04-16T00:00:00",
          "2018-04-17T00:00:00",
          "2018-04-18T00:00:00",
          "2018-04-19T00:00:00",
          "2018-04-20T00:00:00",
          "2018-04-23T00:00:00",
          "2018-04-24T00:00:00",
          "2018-04-25T00:00:00",
          "2018-04-26T00:00:00",
          "2018-04-27T00:00:00",
          "2018-04-30T00:00:00",
          "2018-05-01T00:00:00",
          "2018-05-02T00:00:00",
          "2018-05-03T00:00:00",
          "2018-05-04T00:00:00",
          "2018-05-07T00:00:00",
          "2018-05-08T00:00:00",
          "2018-05-09T00:00:00",
          "2018-05-10T00:00:00",
          "2018-05-11T00:00:00",
          "2018-05-14T00:00:00",
          "2018-05-15T00:00:00",
          "2018-05-16T00:00:00",
          "2018-05-17T00:00:00",
          "2018-05-18T00:00:00",
          "2018-05-21T00:00:00",
          "2018-05-22T00:00:00",
          "2018-05-23T00:00:00",
          "2018-05-24T00:00:00",
          "2018-05-25T00:00:00",
          "2018-05-29T00:00:00",
          "2018-05-30T00:00:00",
          "2018-05-31T00:00:00",
          "2018-06-01T00:00:00",
          "2018-06-04T00:00:00",
          "2018-06-05T00:00:00",
          "2018-06-06T00:00:00",
          "2018-06-07T00:00:00",
          "2018-06-08T00:00:00",
          "2018-06-11T00:00:00",
          "2018-06-12T00:00:00",
          "2018-06-13T00:00:00",
          "2018-06-14T00:00:00",
          "2018-06-15T00:00:00",
          "2018-06-18T00:00:00",
          "2018-06-19T00:00:00",
          "2018-06-20T00:00:00",
          "2018-06-21T00:00:00",
          "2018-06-22T00:00:00",
          "2018-06-25T00:00:00",
          "2018-06-26T00:00:00",
          "2018-06-27T00:00:00",
          "2018-06-28T00:00:00",
          "2018-06-29T00:00:00",
          "2018-07-02T00:00:00",
          "2018-07-03T00:00:00",
          "2018-07-05T00:00:00",
          "2018-07-06T00:00:00",
          "2018-07-09T00:00:00",
          "2018-07-10T00:00:00",
          "2018-07-11T00:00:00",
          "2018-07-12T00:00:00",
          "2018-07-13T00:00:00",
          "2018-07-16T00:00:00",
          "2018-07-17T00:00:00",
          "2018-07-18T00:00:00",
          "2018-07-19T00:00:00",
          "2018-07-20T00:00:00",
          "2018-07-23T00:00:00",
          "2018-07-24T00:00:00",
          "2018-07-25T00:00:00",
          "2018-07-26T00:00:00",
          "2018-07-27T00:00:00",
          "2018-07-30T00:00:00",
          "2018-07-31T00:00:00",
          "2018-08-01T00:00:00",
          "2018-08-02T00:00:00",
          "2018-08-03T00:00:00",
          "2018-08-06T00:00:00",
          "2018-08-07T00:00:00",
          "2018-08-08T00:00:00",
          "2018-08-09T00:00:00",
          "2018-08-10T00:00:00",
          "2018-08-13T00:00:00",
          "2018-08-14T00:00:00",
          "2018-08-15T00:00:00",
          "2018-08-16T00:00:00",
          "2018-08-17T00:00:00",
          "2018-08-20T00:00:00",
          "2018-08-21T00:00:00",
          "2018-08-22T00:00:00",
          "2018-08-23T00:00:00",
          "2018-08-24T00:00:00",
          "2018-08-27T00:00:00",
          "2018-08-28T00:00:00",
          "2018-08-29T00:00:00",
          "2018-08-30T00:00:00",
          "2018-08-31T00:00:00",
          "2018-09-04T00:00:00",
          "2018-09-05T00:00:00",
          "2018-09-06T00:00:00",
          "2018-09-07T00:00:00",
          "2018-09-10T00:00:00",
          "2018-09-11T00:00:00",
          "2018-09-12T00:00:00",
          "2018-09-13T00:00:00",
          "2018-09-14T00:00:00",
          "2018-09-17T00:00:00",
          "2018-09-18T00:00:00",
          "2018-09-19T00:00:00",
          "2018-09-20T00:00:00",
          "2018-09-21T00:00:00",
          "2018-09-24T00:00:00",
          "2018-09-25T00:00:00",
          "2018-09-26T00:00:00",
          "2018-09-27T00:00:00",
          "2018-09-28T00:00:00",
          "2018-10-01T00:00:00",
          "2018-10-02T00:00:00",
          "2018-10-03T00:00:00",
          "2018-10-04T00:00:00",
          "2018-10-05T00:00:00",
          "2018-10-08T00:00:00",
          "2018-10-09T00:00:00",
          "2018-10-10T00:00:00",
          "2018-10-11T00:00:00",
          "2018-10-12T00:00:00",
          "2018-10-15T00:00:00",
          "2018-10-16T00:00:00",
          "2018-10-17T00:00:00",
          "2018-10-18T00:00:00",
          "2018-10-19T00:00:00",
          "2018-10-22T00:00:00",
          "2018-10-23T00:00:00",
          "2018-10-24T00:00:00",
          "2018-10-25T00:00:00",
          "2018-10-26T00:00:00",
          "2018-10-29T00:00:00",
          "2018-10-30T00:00:00",
          "2018-10-31T00:00:00",
          "2018-11-01T00:00:00",
          "2018-11-02T00:00:00",
          "2018-11-05T00:00:00",
          "2018-11-06T00:00:00",
          "2018-11-07T00:00:00",
          "2018-11-08T00:00:00",
          "2018-11-09T00:00:00",
          "2018-11-12T00:00:00",
          "2018-11-13T00:00:00",
          "2018-11-14T00:00:00",
          "2018-11-15T00:00:00",
          "2018-11-16T00:00:00",
          "2018-11-19T00:00:00",
          "2018-11-20T00:00:00",
          "2018-11-21T00:00:00",
          "2018-11-26T00:00:00",
          "2018-11-27T00:00:00",
          "2018-11-28T00:00:00",
          "2018-11-29T00:00:00",
          "2018-11-30T00:00:00",
          "2018-12-03T00:00:00",
          "2018-12-04T00:00:00",
          "2018-12-05T00:00:00",
          "2018-12-06T00:00:00",
          "2018-12-07T00:00:00",
          "2018-12-10T00:00:00",
          "2018-12-11T00:00:00",
          "2018-12-12T00:00:00",
          "2018-12-13T00:00:00",
          "2018-12-14T00:00:00",
          "2018-12-17T00:00:00",
          "2018-12-18T00:00:00",
          "2018-12-19T00:00:00",
          "2018-12-20T00:00:00",
          "2018-12-21T00:00:00",
          "2018-12-24T00:00:00",
          "2018-12-26T00:00:00",
          "2018-12-27T00:00:00",
          "2018-12-28T00:00:00",
          "2018-12-29T00:00:00",
          "2018-12-31T00:00:00",
          "2019-01-02T00:00:00",
          "2019-01-03T00:00:00",
          "2019-01-04T00:00:00",
          "2019-01-07T00:00:00",
          "2019-01-08T00:00:00",
          "2019-01-09T00:00:00",
          "2019-01-10T00:00:00",
          "2019-01-11T00:00:00",
          "2019-01-14T00:00:00",
          "2019-01-15T00:00:00",
          "2019-01-16T00:00:00",
          "2019-01-17T00:00:00",
          "2019-01-18T00:00:00",
          "2019-01-22T00:00:00",
          "2019-01-23T00:00:00",
          "2019-01-24T00:00:00",
          "2019-01-25T00:00:00",
          "2019-01-28T00:00:00",
          "2019-01-29T00:00:00",
          "2019-01-30T00:00:00",
          "2019-01-31T00:00:00",
          "2019-02-01T00:00:00",
          "2019-02-04T00:00:00",
          "2019-02-05T00:00:00",
          "2019-02-06T00:00:00",
          "2019-02-07T00:00:00",
          "2019-02-08T00:00:00",
          "2019-02-11T00:00:00",
          "2019-02-12T00:00:00",
          "2019-02-13T00:00:00",
          "2019-02-14T00:00:00",
          "2019-02-15T00:00:00",
          "2019-02-18T00:00:00",
          "2019-02-19T00:00:00",
          "2019-02-20T00:00:00",
          "2019-02-21T00:00:00",
          "2019-02-22T00:00:00",
          "2019-02-25T00:00:00",
          "2019-02-26T00:00:00",
          "2019-02-27T00:00:00",
          "2019-02-28T00:00:00",
          "2019-03-01T00:00:00",
          "2019-03-04T00:00:00",
          "2019-03-05T00:00:00",
          "2019-03-06T00:00:00",
          "2019-03-07T00:00:00",
          "2019-03-08T00:00:00",
          "2019-03-11T00:00:00",
          "2019-03-12T00:00:00",
          "2019-03-13T00:00:00",
          "2019-03-14T00:00:00",
          "2019-03-15T00:00:00",
          "2019-03-18T00:00:00",
          "2019-03-19T00:00:00",
          "2019-03-20T00:00:00",
          "2019-03-21T00:00:00",
          "2019-03-22T00:00:00",
          "2019-03-25T00:00:00",
          "2019-03-26T00:00:00",
          "2019-03-27T00:00:00",
          "2019-03-28T00:00:00",
          "2019-03-29T00:00:00",
          "2019-04-01T00:00:00",
          "2019-04-02T00:00:00",
          "2019-04-03T00:00:00",
          "2019-04-04T00:00:00",
          "2019-04-05T00:00:00",
          "2019-04-08T00:00:00",
          "2019-04-09T00:00:00",
          "2019-04-10T00:00:00",
          "2019-04-11T00:00:00",
          "2019-04-13T00:00:00",
          "2019-04-15T00:00:00",
          "2019-04-16T00:00:00",
          "2019-04-17T00:00:00",
          "2019-04-18T00:00:00",
          "2019-04-19T00:00:00",
          "2019-04-22T00:00:00",
          "2019-04-23T00:00:00",
          "2019-04-24T00:00:00",
          "2019-04-25T00:00:00",
          "2019-04-26T00:00:00",
          "2019-04-29T00:00:00",
          "2019-04-30T00:00:00",
          "2019-05-01T00:00:00",
          "2019-05-02T00:00:00",
          "2019-05-03T00:00:00",
          "2019-05-06T00:00:00",
          "2019-05-07T00:00:00",
          "2019-05-08T00:00:00",
          "2019-05-09T00:00:00",
          "2019-05-10T00:00:00",
          "2019-05-13T00:00:00",
          "2019-05-14T00:00:00",
          "2019-05-15T00:00:00",
          "2019-05-16T00:00:00",
          "2019-05-17T00:00:00",
          "2019-05-19T00:00:00",
          "2019-05-20T00:00:00",
          "2019-05-21T00:00:00",
          "2019-05-22T00:00:00",
          "2019-05-23T00:00:00",
          "2019-05-24T00:00:00",
          "2019-05-28T00:00:00",
          "2019-05-29T00:00:00",
          "2019-05-30T00:00:00",
          "2019-05-31T00:00:00",
          "2019-06-01T00:00:00",
          "2019-06-03T00:00:00",
          "2019-06-04T00:00:00",
          "2019-06-05T00:00:00",
          "2019-06-06T00:00:00",
          "2019-06-07T00:00:00",
          "2019-06-10T00:00:00",
          "2019-06-11T00:00:00",
          "2019-06-12T00:00:00",
          "2019-06-13T00:00:00",
          "2019-06-14T00:00:00",
          "2019-06-15T00:00:00",
          "2019-06-17T00:00:00",
          "2019-06-18T00:00:00",
          "2019-06-19T00:00:00",
          "2019-06-20T00:00:00",
          "2019-06-21T00:00:00",
          "2019-06-24T00:00:00",
          "2019-06-25T00:00:00",
          "2019-06-26T00:00:00",
          "2019-06-27T00:00:00",
          "2019-06-28T00:00:00",
          "2019-07-01T00:00:00",
          "2019-07-02T00:00:00",
          "2019-07-03T00:00:00",
          "2019-07-04T00:00:00",
          "2019-07-05T00:00:00",
          "2019-07-08T00:00:00",
          "2019-07-09T00:00:00",
          "2019-07-10T00:00:00",
          "2019-07-11T00:00:00",
          "2019-07-12T00:00:00",
          "2019-07-15T00:00:00",
          "2019-07-16T00:00:00",
          "2019-07-17T00:00:00",
          "2019-07-18T00:00:00",
          "2019-07-19T00:00:00",
          "2019-07-22T00:00:00",
          "2019-07-23T00:00:00",
          "2019-07-24T00:00:00",
          "2019-07-25T00:00:00",
          "2019-07-26T00:00:00",
          "2019-07-29T00:00:00",
          "2019-07-30T00:00:00",
          "2019-07-31T00:00:00",
          "2019-08-01T00:00:00",
          "2019-08-02T00:00:00",
          "2019-08-05T00:00:00",
          "2019-08-06T00:00:00",
          "2019-08-07T00:00:00",
          "2019-08-08T00:00:00",
          "2019-08-09T00:00:00",
          "2019-08-12T00:00:00",
          "2019-08-13T00:00:00",
          "2019-08-14T00:00:00",
          "2019-08-15T00:00:00",
          "2019-08-16T00:00:00",
          "2019-08-19T00:00:00",
          "2019-08-20T00:00:00",
          "2019-08-21T00:00:00",
          "2019-08-22T00:00:00",
          "2019-08-23T00:00:00",
          "2019-08-26T00:00:00",
          "2019-08-27T00:00:00",
          "2019-08-28T00:00:00",
          "2019-08-29T00:00:00",
          "2019-08-30T00:00:00",
          "2019-09-03T00:00:00",
          "2019-09-04T00:00:00",
          "2019-09-05T00:00:00",
          "2019-09-06T00:00:00",
          "2019-09-09T00:00:00",
          "2019-09-10T00:00:00",
          "2019-09-11T00:00:00",
          "2019-09-12T00:00:00",
          "2019-09-13T00:00:00",
          "2019-09-16T00:00:00",
          "2019-09-17T00:00:00",
          "2019-09-18T00:00:00",
          "2019-09-19T00:00:00",
          "2019-09-20T00:00:00",
          "2019-09-23T00:00:00",
          "2019-09-24T00:00:00",
          "2019-09-25T00:00:00",
          "2019-09-26T00:00:00",
          "2019-09-27T00:00:00",
          "2019-09-29T00:00:00",
          "2019-09-30T00:00:00",
          "2019-10-01T00:00:00",
          "2019-10-02T00:00:00",
          "2019-10-03T00:00:00",
          "2019-10-04T00:00:00",
          "2019-10-07T00:00:00",
          "2019-10-08T00:00:00",
          "2019-10-09T00:00:00",
          "2019-10-10T00:00:00",
          "2019-10-11T00:00:00",
          "2019-10-14T00:00:00",
          "2019-10-15T00:00:00",
          "2019-10-16T00:00:00",
          "2019-10-17T00:00:00",
          "2019-10-18T00:00:00",
          "2019-10-21T00:00:00",
          "2019-10-22T00:00:00",
          "2019-10-23T00:00:00",
          "2019-10-24T00:00:00",
          "2019-10-25T00:00:00",
          "2019-10-28T00:00:00",
          "2019-10-29T00:00:00",
          "2019-10-30T00:00:00",
          "2019-10-31T00:00:00",
          "2019-11-01T00:00:00",
          "2019-11-02T00:00:00",
          "2019-11-04T00:00:00",
          "2019-11-05T00:00:00",
          "2019-11-06T00:00:00",
          "2019-11-07T00:00:00",
          "2019-11-08T00:00:00",
          "2019-11-11T00:00:00",
          "2019-11-12T00:00:00",
          "2019-11-13T00:00:00",
          "2019-11-14T00:00:00",
          "2019-11-15T00:00:00",
          "2019-11-16T00:00:00",
          "2019-11-18T00:00:00",
          "2019-11-19T00:00:00",
          "2019-11-20T00:00:00",
          "2019-11-21T00:00:00",
          "2019-11-22T00:00:00",
          "2019-11-23T00:00:00",
          "2019-11-25T00:00:00",
          "2019-11-26T00:00:00",
          "2019-11-27T00:00:00",
          "2019-11-29T00:00:00",
          "2019-11-30T00:00:00",
          "2019-12-02T00:00:00",
          "2019-12-03T00:00:00",
          "2019-12-04T00:00:00",
          "2019-12-05T00:00:00",
          "2019-12-06T00:00:00",
          "2019-12-09T00:00:00",
          "2019-12-10T00:00:00",
          "2019-12-11T00:00:00",
          "2019-12-12T00:00:00",
          "2019-12-13T00:00:00",
          "2019-12-16T00:00:00",
          "2019-12-17T00:00:00",
          "2019-12-18T00:00:00",
          "2019-12-19T00:00:00",
          "2019-12-20T00:00:00",
          "2019-12-23T00:00:00",
          "2019-12-24T00:00:00",
          "2019-12-26T00:00:00",
          "2019-12-27T00:00:00",
          "2019-12-28T00:00:00",
          "2019-12-30T00:00:00",
          "2019-12-31T00:00:00",
          "2020-01-02T00:00:00",
          "2020-01-03T00:00:00",
          "2020-01-06T00:00:00",
          "2020-01-07T00:00:00",
          "2020-01-08T00:00:00",
          "2020-01-09T00:00:00",
          "2020-01-10T00:00:00",
          "2020-01-13T00:00:00",
          "2020-01-14T00:00:00",
          "2020-01-15T00:00:00",
          "2020-01-16T00:00:00",
          "2020-01-17T00:00:00",
          "2020-01-20T00:00:00",
          "2020-01-21T00:00:00",
          "2020-01-22T00:00:00",
          "2020-01-23T00:00:00",
          "2020-01-24T00:00:00",
          "2020-01-27T00:00:00",
          "2020-01-28T00:00:00",
          "2020-01-29T00:00:00",
          "2020-01-30T00:00:00",
          "2020-01-31T00:00:00",
          "2020-02-03T00:00:00",
          "2020-02-04T00:00:00",
          "2020-02-05T00:00:00",
          "2020-02-06T00:00:00",
          "2020-02-07T00:00:00",
          "2020-02-10T00:00:00",
          "2020-02-11T00:00:00",
          "2020-02-12T00:00:00",
          "2020-02-13T00:00:00",
          "2020-02-14T00:00:00",
          "2020-02-17T00:00:00",
          "2020-02-18T00:00:00",
          "2020-02-19T00:00:00",
          "2020-02-20T00:00:00",
          "2020-02-21T00:00:00",
          "2020-02-24T00:00:00",
          "2020-02-25T00:00:00",
          "2020-02-26T00:00:00",
          "2020-02-27T00:00:00",
          "2020-02-28T00:00:00",
          "2020-03-02T00:00:00",
          "2020-03-03T00:00:00",
          "2020-03-04T00:00:00",
          "2020-03-05T00:00:00",
          "2020-03-06T00:00:00",
          "2020-03-09T00:00:00",
          "2020-03-10T00:00:00",
          "2020-03-11T00:00:00",
          "2020-03-12T00:00:00",
          "2020-03-13T00:00:00",
          "2020-03-16T00:00:00",
          "2020-03-17T00:00:00",
          "2020-03-18T00:00:00",
          "2020-03-19T00:00:00",
          "2020-03-20T00:00:00",
          "2020-03-23T00:00:00",
          "2020-03-24T00:00:00",
          "2020-03-25T00:00:00",
          "2020-03-26T00:00:00",
          "2020-03-27T00:00:00",
          "2020-03-30T00:00:00",
          "2020-03-31T00:00:00",
          "2020-04-01T00:00:00",
          "2020-04-02T00:00:00",
          "2020-04-03T00:00:00",
          "2020-04-06T00:00:00",
          "2020-04-07T00:00:00",
          "2020-04-08T00:00:00",
          "2020-04-09T00:00:00",
          "2020-04-10T00:00:00",
          "2020-04-13T00:00:00",
          "2020-04-14T00:00:00",
          "2020-04-15T00:00:00",
          "2020-04-16T00:00:00",
          "2020-04-17T00:00:00",
          "2020-04-20T00:00:00",
          "2020-04-21T00:00:00",
          "2020-04-22T00:00:00",
          "2020-04-23T00:00:00",
          "2020-04-24T00:00:00",
          "2020-04-27T00:00:00",
          "2020-04-28T00:00:00",
          "2020-04-29T00:00:00",
          "2020-04-30T00:00:00",
          "2020-05-01T00:00:00",
          "2020-05-04T00:00:00",
          "2020-05-05T00:00:00",
          "2020-05-06T00:00:00",
          "2020-05-07T00:00:00",
          "2020-05-08T00:00:00",
          "2020-05-11T00:00:00",
          "2020-05-12T00:00:00",
          "2020-05-13T00:00:00",
          "2020-05-14T00:00:00",
          "2020-05-15T00:00:00",
          "2020-05-18T00:00:00",
          "2020-05-19T00:00:00",
          "2020-05-20T00:00:00",
          "2020-05-21T00:00:00",
          "2020-05-22T00:00:00",
          "2020-05-26T00:00:00",
          "2020-05-27T00:00:00",
          "2020-05-28T00:00:00",
          "2020-05-29T00:00:00",
          "2020-06-01T00:00:00",
          "2020-06-02T00:00:00",
          "2020-06-03T00:00:00",
          "2020-06-04T00:00:00",
          "2020-06-05T00:00:00",
          "2020-06-08T00:00:00",
          "2020-06-09T00:00:00",
          "2020-06-10T00:00:00",
          "2020-06-11T00:00:00",
          "2020-06-12T00:00:00",
          "2020-06-15T00:00:00",
          "2020-06-16T00:00:00",
          "2020-06-17T00:00:00",
          "2020-06-18T00:00:00",
          "2020-06-19T00:00:00",
          "2020-06-22T00:00:00",
          "2020-06-23T00:00:00",
          "2020-06-24T00:00:00",
          "2020-06-25T00:00:00",
          "2020-06-26T00:00:00",
          "2020-06-29T00:00:00",
          "2020-06-30T00:00:00",
          "2020-07-01T00:00:00",
          "2020-07-02T00:00:00",
          "2020-07-03T00:00:00",
          "2020-07-06T00:00:00",
          "2020-07-07T00:00:00",
          "2020-07-08T00:00:00",
          "2020-07-09T00:00:00",
          "2020-07-10T00:00:00",
          "2020-07-13T00:00:00",
          "2020-07-14T00:00:00",
          "2020-07-15T00:00:00",
          "2020-07-16T00:00:00",
          "2020-07-17T00:00:00",
          "2020-07-20T00:00:00",
          "2020-07-21T00:00:00",
          "2020-07-22T00:00:00",
          "2020-07-23T00:00:00",
          "2020-07-24T00:00:00",
          "2020-07-26T00:00:00",
          "2020-07-27T00:00:00",
          "2020-07-28T00:00:00",
          "2020-07-29T00:00:00",
          "2020-07-30T00:00:00",
          "2020-07-31T00:00:00",
          "2020-08-03T00:00:00",
          "2020-08-04T00:00:00",
          "2020-08-05T00:00:00",
          "2020-08-06T00:00:00",
          "2020-08-07T00:00:00",
          "2020-08-10T00:00:00",
          "2020-08-11T00:00:00",
          "2020-08-12T00:00:00",
          "2020-08-13T00:00:00",
          "2020-08-14T00:00:00",
          "2020-08-17T00:00:00",
          "2020-08-18T00:00:00",
          "2020-08-19T00:00:00",
          "2020-08-20T00:00:00",
          "2020-08-21T00:00:00",
          "2020-08-24T00:00:00",
          "2020-08-25T00:00:00",
          "2020-08-26T00:00:00",
          "2020-08-27T00:00:00",
          "2020-08-28T00:00:00",
          "2020-08-30T00:00:00",
          "2020-08-31T00:00:00",
          "2020-09-01T00:00:00",
          "2020-09-02T00:00:00",
          "2020-09-03T00:00:00",
          "2020-09-04T00:00:00",
          "2020-09-08T00:00:00",
          "2020-09-09T00:00:00",
          "2020-09-10T00:00:00",
          "2020-09-11T00:00:00",
          "2020-09-14T00:00:00",
          "2020-09-15T00:00:00",
          "2020-09-16T00:00:00",
          "2020-09-17T00:00:00",
          "2020-09-18T00:00:00",
          "2020-09-21T00:00:00",
          "2020-09-22T00:00:00",
          "2020-09-23T00:00:00",
          "2020-09-24T00:00:00",
          "2020-09-25T00:00:00",
          "2020-09-28T00:00:00",
          "2020-09-29T00:00:00",
          "2020-09-30T00:00:00",
          "2020-10-01T00:00:00",
          "2020-10-02T00:00:00",
          "2020-10-05T00:00:00",
          "2020-10-06T00:00:00",
          "2020-10-07T00:00:00",
          "2020-10-08T00:00:00",
          "2020-10-09T00:00:00",
          "2020-10-11T00:00:00",
          "2020-10-12T00:00:00",
          "2020-10-13T00:00:00",
          "2020-10-14T00:00:00",
          "2020-10-15T00:00:00",
          "2020-10-16T00:00:00",
          "2020-10-19T00:00:00",
          "2020-10-20T00:00:00",
          "2020-10-21T00:00:00",
          "2020-10-22T00:00:00",
          "2020-10-23T00:00:00",
          "2020-10-25T00:00:00",
          "2020-10-26T00:00:00",
          "2020-10-27T00:00:00",
          "2020-10-28T00:00:00",
          "2020-10-29T00:00:00",
          "2020-10-30T00:00:00",
          "2020-11-01T00:00:00",
          "2020-11-02T00:00:00",
          "2020-11-03T00:00:00",
          "2020-11-04T00:00:00",
          "2020-11-05T00:00:00",
          "2020-11-06T00:00:00",
          "2020-11-09T00:00:00",
          "2020-11-10T00:00:00",
          "2020-11-11T00:00:00",
          "2020-11-12T00:00:00",
          "2020-11-13T00:00:00",
          "2020-11-16T00:00:00",
          "2020-11-17T00:00:00",
          "2020-11-18T00:00:00",
          "2020-11-19T00:00:00",
          "2020-11-20T00:00:00",
          "2020-11-23T00:00:00",
          "2020-11-24T00:00:00",
          "2020-11-25T00:00:00",
          "2020-11-27T00:00:00",
          "2020-11-28T00:00:00",
          "2020-11-30T00:00:00",
          "2020-12-01T00:00:00",
          "2020-12-02T00:00:00",
          "2020-12-03T00:00:00",
          "2020-12-04T00:00:00",
          "2020-12-07T00:00:00",
          "2020-12-08T00:00:00",
          "2020-12-09T00:00:00",
          "2020-12-10T00:00:00",
          "2020-12-11T00:00:00",
          "2020-12-14T00:00:00",
          "2020-12-15T00:00:00",
          "2020-12-16T00:00:00",
          "2020-12-17T00:00:00",
          "2020-12-18T00:00:00",
          "2020-12-21T00:00:00",
          "2020-12-22T00:00:00",
          "2020-12-23T00:00:00",
          "2020-12-24T00:00:00",
          "2020-12-26T00:00:00",
          "2020-12-28T00:00:00",
          "2020-12-29T00:00:00",
          "2020-12-30T00:00:00",
          "2020-12-31T00:00:00"
         ],
         "y": [
          1012493.8099999881,
          860053.7299999925,
          940194.9299999886,
          933835.4999999886,
          900077.6099999942,
          773739.7299999979,
          927338.659999992,
          968646.5199999914,
          921105.5599999948,
          850387.4899999928,
          1021175.8999999878,
          985418.4099999954,
          1013018.2899999907,
          764709.3099999905,
          1016554.7899999904,
          796.36,
          986747.7299999935,
          1040086.289999994,
          915724.1299999957,
          1226217.4999999814,
          1174886.5999999843,
          1136335.4099999864,
          997618.7999999966,
          1157769.8099999824,
          1046049.9899999939,
          1025818.7199999925,
          970931.1299999908,
          1139833.9599999767,
          1144195.699999988,
          1113746.7799999823,
          1007040.3899999914,
          1173899.9699999806,
          1079130.2699999926,
          1036413.0699999876,
          912138.7299999893,
          1104030.0999999824,
          1140722.7499999898,
          1169223.9199999897,
          835542.5299999961,
          1222264.949999987,
          2886.2400000000007,
          1179680.4699999874,
          1158657.8899999848,
          977886.0599999941,
          1250720.7699999823,
          1050.84,
          1030487.2799999947,
          1102468.9899999865,
          1046650.1099999886,
          1066902.6699999843,
          1001267.1899999934,
          1022503.7699999941,
          821053.9199999942,
          1005545.2999999882,
          1142873.4999999914,
          1359746.0799999833,
          1080255.9199999946,
          1330857.2799999828,
          1169076.6399999878,
          1269591.6299999938,
          1187375.8499999852,
          1232872.569999983,
          1154192.3099999859,
          1195865.229999986,
          1116240.8599999943,
          1182052.4699999893,
          1042705.8999999958,
          1199155.2899999863,
          924659.8199999968,
          1117871.8499999875,
          36565.93,
          1263291.4499999762,
          1212779.9599999813,
          1003063.7399999904,
          1322831.9599999725,
          1220915.189999972,
          1200461.6599999778,
          970187.7099999881,
          1211077.4499999762,
          324,
          1072931.4799999828,
          1213046.7699999793,
          1057187.5999999864,
          1225797.079999975,
          1177429.4899999737,
          1418037.8399999633,
          1059972.5399999826,
          1340162.9199999785,
          872449.5499999946,
          1245606.7599999744,
          1011376.0499999846,
          1357881.4899999744,
          1607.52,
          1538532.0599999595,
          1292638.0799999805,
          1311727.2799999882,
          1218139.269999986,
          1440888.7899999768,
          1315053.3099999765,
          1546636.7099999762,
          1217510.609999973,
          1316962.9999999842,
          1410200.9099999685,
          910995.369999995,
          1165311.4099999813,
          5482.18,
          1404033.2199999753,
          1850000.1099999342,
          1379518.3699999647,
          1508343.9799999532,
          25320.88999999998,
          1231434.5599999668,
          1171510.9599999762,
          1026464.0199999908,
          1086736.0699999877,
          1209038.7599999884,
          1250884.6199999729,
          926596.909999994,
          1091996.0899999887,
          1239308.5199999793,
          1230606.4599999827,
          1137970.779999988,
          1267423.1499999762,
          674.4,
          1201978.869999983,
          1102184.9699999825,
          958471.0899999886,
          1030437.889999989,
          3279.7599999999998,
          1223242.959999976,
          1307122.9399999692,
          890090.3699999858,
          1195254.92999997,
          576.42,
          1147834.8899999722,
          1283068.4499999632,
          981060.1599999865,
          1176787.119999972,
          1195675.7499999788,
          1127417.2799999735,
          954955.5199999895,
          1166448.5599999772,
          1085723.8899999808,
          1159559.0399999756,
          1013038.9199999836,
          1135299.289999976,
          1166197.4299999764,
          1451140.2699999518,
          1118281.9199999776,
          1356271.5899999521,
          926601.0399999938,
          1454309.2299999485,
          1103036.9499999804,
          1486810.2699999537,
          152.04,
          1618074.2999999397,
          1430524.5999999484,
          1321205.0999999759,
          1232053.1399999757,
          854.73,
          1133464.7199999797,
          1183565.6699999752,
          872743.1099999929,
          1115748.8499999843,
          920.52,
          1039466.7099999868,
          1125510.8599999852,
          1023116.2499999867,
          1046948.059999988,
          1272966.409999969,
          1512145.239999945,
          1195072.169999978,
          1453418.3999999543,
          1954824.229999982,
          1436466.0499999644,
          1474293.739999954,
          1240659.2599999756,
          1426089.8299999654,
          1632339.9799999846,
          1408855.5499999677,
          1472465.4699999609,
          1576441.3199999584,
          1375042.2699999665,
          1921336.2099999902,
          1225686.2999999768,
          1215120.6299999745,
          1471443.629999956,
          1270153.2999999698,
          1846024.41999999,
          1204271.2699999837,
          1197675.4399999727,
          931294.9299999924,
          1023250.7899999875,
          198,
          1080014.8699999836,
          1170085.0299999772,
          1092897.38999998,
          1271036.6699999708,
          1202868.1299999778,
          1122437.7199999758,
          1088524.779999983,
          1364466.9999999627,
          856903.9199999929,
          1080276.9699999858,
          1062086.3699999864,
          1087900.659999983,
          47406.080000000075,
          1439202.8299999486,
          1440212.319999946,
          1075135.3399999877,
          1273610.04999996,
          1487537.7899999581,
          1190413.4599999732,
          1017236.9099999808,
          1270931.9599999709,
          1528430.6499999545,
          1559674.099999947,
          1745332.6099999526,
          1536578.9199999485,
          1912.8400000000004,
          1696519.5899999465,
          1660066.199999934,
          1528877.3199999435,
          1552564.6299999373,
          1217195.6999999755,
          1634365.6799999294,
          1266270.9199999566,
          1602321.5899999226,
          1360166.7599999546,
          1208181.999999967,
          826293.7199999848,
          1145793.1499999715,
          1139529.5599999726,
          1042754.6099999775,
          818801.3999999893,
          945299.6199999915,
          1036500.5699999896,
          943113.2399999885,
          849009.2799999918,
          1018633.4999999889,
          992762.0499999915,
          1020890.659999986,
          886708.319999992,
          1118493.5099999842,
          1974,
          1073388.0999999808,
          1053056.8799999806,
          851115.159999987,
          1074732.7899999795,
          1173355.499999971,
          1176898.51999997,
          979188.5399999871,
          1284407.059999959,
          1130.8799999999999,
          1111755.5099999788,
          1139808.429999973,
          1349704.139999962,
          1229363.3399999752,
          1141825.2399999762,
          1087255.5699999807,
          862261.3699999822,
          1183853.7599999718,
          2105.56,
          1203117.0199999688,
          1168684.7699999625,
          1028803.9499999837,
          1135086.5399999726,
          1203606.7999999672,
          1184093.9399999643,
          882481.1999999877,
          1273253.6199999612,
          1227524.1099999656,
          1304245.1699999622,
          1094880.5799999777,
          1330232.4799999539,
          6838.92,
          1157228.5099999693,
          1086065.5099999711,
          936591.9899999873,
          1127906.0999999754,
          1183278.1199999705,
          1124207.1799999732,
          962504.8599999865,
          1136604.44999997,
          1208604.3699999833,
          1299789.319999968,
          920394.2099999859,
          1293669.399999956,
          1383419.9999999572,
          1415541.3299999472,
          1235589.9899999702,
          1322607.099999957,
          1173363.0399999763,
          1195489.3999999724,
          871369.9699999904,
          1209664.0899999754,
          922.32,
          1287994.9099999662,
          1124117.2499999742,
          943615.3799999893,
          1367967.0699999633,
          1532049.739999943,
          1378787.7999999507,
          978562.8299999754,
          1211796.7899999619,
          847.4399999999999,
          1278555.5899999563,
          1405943.8899999552,
          1294787.179999962,
          1242454.089999955,
          4228.8,
          1275603.0599999665,
          1251087.5699999626,
          978561.6699999762,
          1264035.2899999637,
          1258532.2099999534,
          1416032.0099999472,
          1093872.0199999686,
          1391595.199999958,
          20809.67999999999,
          1370582.8399999586,
          1370904.8399999565,
          1008996.7799999742,
          1291534.7999999614,
          1126741.5899999682,
          1274891.8099999628,
          1112040.2299999737,
          1241798.4299999652,
          900,
          1283807.6599999594,
          1207442.159999964,
          1060579.2099999753,
          1151493.7399999727,
          941290.3299999879,
          1036931.1399999815,
          1019344.3399999822,
          1151548.4599999695,
          27389.760000000013,
          6042.809999999999,
          1636941.5899999382,
          1661535.1399999259,
          1206420.4399999653,
          1586056.1199999466,
          1426.14,
          1322177.7599999532,
          1476256.4599999378,
          995528.4499999768,
          1152507.0299999672,
          1352504.2499999553,
          991924.9899999707,
          1463348.9299999366,
          1201377.0099999665,
          1365678.1699999517,
          1099477.4799999695,
          967307.2099999782,
          1052865.119999982,
          1096.08,
          1276785.9199999573,
          942055.4199999766,
          1175363.729999963,
          941116.0099999848,
          1590140.8999999405,
          976905.6299999767,
          1293367.379999955,
          1008882.9699999827,
          399.17999999999995,
          1567227.6299999517,
          1082242.129999976,
          1320990.46999996,
          1111816.1199999829,
          1492418.0399999565,
          1107802.0799999665,
          1245167.749999959,
          1042621.9099999857,
          18157.210000000003,
          1492890.4199999548,
          1012086.6099999768,
          1292550.5299999632,
          1061597.4699999853,
          1690067.3799999484,
          1029494.6199999716,
          1550064.4099999343,
          1415632.7099999625,
          10709.99,
          1466300.9099999475,
          1072614.5599999705,
          1395236.1199999547,
          847396.5399999901,
          1450973.5899999514,
          837108.1599999857,
          1143729.9499999704,
          979188.019999991,
          1295256.999999973,
          925406.5099999801,
          1140703.9099999715,
          947288.7099999873,
          3135.7400000000007,
          1282532.2599999688,
          838238.0599999853,
          1168762.0799999735,
          933662.3799999893,
          1399158.3199999612,
          1093396.8099999763,
          1780246.2399999422,
          1537076.2099999513,
          3516318.0499999714,
          1888585.0399999558,
          893795.2299999839,
          1276530.3499999703,
          1320976.6499999722,
          3278998.009999969,
          1901715.5999999319,
          1191654.6599999804,
          1614926.3999999575,
          1113172.5099999846,
          1426510.4099999603,
          1006044.1799999813,
          1386542.779999963,
          1103631.4399999825,
          9224.089999999998,
          1425526.5299999625,
          955399.1999999847,
          1255024.0099999637,
          1170517.0399999856,
          4915.5700000000015,
          1337658.96999998,
          798777.6699999913,
          1124708.069999984,
          1070998.3099999959,
          17593.87999999999,
          1331748.729999971,
          878396.9199999956,
          1429341.3399999717,
          1006630.5699999937,
          5193.569999999999,
          1525358.4299999713,
          1008896.6999999877,
          1290716.039999977,
          1158050.3899999864,
          933165.0799999937,
          671281.8799999969,
          1055312.549999991,
          1078751.8599999927,
          73453.11000000006,
          1812807.6199999466,
          1197114.6699999731,
          1642175.0899999542,
          1331116.4399999792,
          18231.139999999996,
          1628951.7899999586,
          1082894.7099999893,
          1416655.2099999709,
          1273261.779999987,
          31238.440000000028,
          1683128.369999959,
          1170023.3599999815,
          1586955.5399999616,
          1447200.9599999744,
          1259531.0999999722,
          777239.5399999866,
          1205479.1299999768,
          62568.47000000002,
          1345888.3599999812,
          1750579.6599999466,
          989463.179999987,
          1407311.399999966,
          95071.01000000014,
          881751.739999993,
          1721282.469999956,
          970398.819999988,
          1461004.3699999815,
          1029326.7499999928,
          1220346.3899999869,
          823538.2399999937,
          1124422.4599999944,
          884646.4099999977,
          1971.2400000000002,
          1295526.3699999752,
          821258.1899999933,
          1237132.7499999811,
          1018463.3799999941,
          1779446.129999962,
          1091828.2199999886,
          1604100.009999972,
          1070225.029999994,
          9263.65,
          1454699.2799999744,
          899936.5099999912,
          1378061.579999979,
          1180867.5799999856,
          1749517.8599999617,
          910802.0499999914,
          1379417.009999968,
          1204226.7299999853,
          1291362.399999982,
          788110.6399999945,
          1155362.9299999787,
          1051512.3799999976,
          1553721.4899999746,
          860931.5599999919,
          1236498.5599999798,
          1088253.6999999927,
          1500462.07999997,
          832117.7299999951,
          1332013.0399999814,
          1114789.879999987,
          1637018.5599999654,
          911751.1499999907,
          1240523.659999979,
          1001529.9499999956,
          19053.320000000003,
          1434002.5399999765,
          894632.6499999908,
          1126451.7099999827,
          935542.8799999971,
          1220350.6899999832,
          741711.1499999949,
          1047010.1299999898,
          865290.3999999947,
          1474654.5899999656,
          887244.4099999925,
          1400016.7599999656,
          1187599.0999999805,
          1797363.109999962,
          1111934.5699999805,
          1571501.7599999679,
          1195609.149999991,
          6146.4800000000005,
          1584983.1799999725,
          892758.2899999957,
          1146830.9699999855,
          1185649.5399999875,
          1326110.4999999811,
          882152.22999999,
          1189573.349999974,
          1178021.4899999865,
          1763305.2599999688,
          1013147.519999988,
          1319224.6299999822,
          1071942.349999993,
          1039.33,
          1605358.4099999652,
          1146177.5499999812,
          1325206.2099999797,
          1145024.4699999928,
          1568025.0199999732,
          986231.5499999898,
          1239645.319999977,
          1048305.7599999972,
          1438630.0299999686,
          1047702.859999986,
          1364158.479999973,
          1091103.6299999894,
          1247358.5099999853,
          966384.1799999936,
          1426368.9799999723,
          1247601.5599999786,
          1732907.2199999476,
          996538.2699999865,
          1339763.7399999695,
          1066511.7599999914,
          1923382.2999999544,
          1216208.1599999683,
          1459411.9499999727,
          1106400.8699999913,
          1428920.6099999694,
          1024190.9499999894,
          1271342.839999975,
          1022515.6299999927,
          2086506.2199999446,
          1200342.919999978,
          1515237.1999999655,
          1480715.2799999698,
          1522537.1699999822,
          1036244.879999989,
          1254454.1099999803,
          1120640.6599999885,
          50469.21000000001,
          1648113.7099999504,
          1135393.1699999757,
          1374098.6099999726,
          1078264.729999993,
          1571238.1699999648,
          1018736.8099999843,
          1330835.6099999691,
          979511.0699999947,
          1487584.059999975,
          912319.1299999935,
          1203203.7799999798,
          1065008.7199999918,
          1410934.5699999658,
          957703.7699999871,
          1317533.7999999768,
          1031309.0499999956,
          1586785.7999999907,
          1023547.000000008,
          1493655.8699999945,
          1196250.3800000048,
          1648014.769999989,
          967576.9200000077,
          1260415.0500000012,
          972750.1200000102,
          1193232.6800000044,
          971950.910000009,
          1418669.4799999995,
          1003525.6200000101,
          1520525.5299999989,
          1130380.8900000069,
          1705128.5700000024,
          1074317.390000015,
          1004160.1000000096,
          1117338.5100000056,
          1829502.5999999887,
          1188700.3900000101,
          1971662.4799999893,
          1399237.2900000005,
          1830797.7599999956,
          1065662.1800000153,
          1534236.5400000075,
          1093168.480000005,
          1541910.339999996,
          997864.700000008,
          1351370.5299999989,
          1104710.2300000067,
          1313682.749999999,
          964356.840000007,
          1769598.9999999988,
          1361751.9400000004,
          1879638.6499999948,
          1303371.7700000121,
          307.08,
          1735352.1499999946,
          1517885.799999997,
          1666150.4799999974,
          1161701.6500000039,
          14417.419999999996,
          2000919.9299999985,
          1282293.2700000107,
          1868322.9099999932,
          1052932.050000009,
          1426464.150000006,
          1171366.150000001,
          1589882.2600000072,
          1127692.9000000139,
          157.5,
          1623357.6399999978,
          1286818.7000000067,
          1589177.5500000012,
          1244198.0800000033,
          1296369.6200000062,
          1109568.0800000064,
          1756067.479999994,
          991629.0000000129,
          1307231.930000007,
          864065.8300000081,
          1782969.1899999976,
          1119391.2200000128,
          1780714.7099999874,
          1384931.4100000025,
          1630158.8900000025,
          1092086.0800000106,
          1035402.7600000114,
          820830.3500000067,
          1308077.1100000022,
          972534.1300000091,
          20731.949999999997,
          1993370.879999994,
          1417302.3699999955,
          1792512.7799999865,
          1421430.4400000023,
          1836838.199999998,
          1508478.3899999992,
          1927412.5499999956,
          1279050.9700000016,
          17405.22,
          1718556.7700000016,
          1175237.5400000075,
          1800738.8899999873,
          1264565.6200000115,
          1242956.340000005,
          1001388.7500000063,
          1631525.509999992,
          1076891.9300000116,
          75213.17999999996,
          1701750.2100000002,
          1365251.159999999,
          2030639.3499999722,
          1276853.7500000051,
          70171.62000000001,
          1621501.7999999924,
          1149511.540000007,
          1469466.120000004,
          1019332.3100000104,
          1147093.1900000097,
          1202579.6700000034,
          825379.3100000047,
          931738.2800000131,
          941445.9800000091,
          1008364.6100000099,
          1420456.6499999966,
          1003176.9800000119,
          2608.3599999999988,
          1528847.419999992,
          900814.2800000092,
          1350540.1000000068,
          975651.7100000135,
          1478246.260000003,
          1100506.0800000057,
          1551772.310000004,
          1241992.400000005,
          1739.5200000000002,
          1774056.4899999956,
          1331928.2100000014,
          1855145.3599999903,
          1008147.6800000068,
          1413494.5599999991,
          1143801.9700000074,
          1276732.7200000053,
          1061228.2500000081,
          1404107.6400000027,
          1164233.1100000048,
          1334903.6600000057,
          1082316.1900000144,
          1391592.9600000049,
          1251984.539999994,
          1373371.1399999901,
          1116740.0800000075,
          1680.28,
          1625407.3799999878,
          1119824.7700000035,
          1291384.710000001,
          1097627.000000007,
          1933721.549999993,
          1582495.6699999757,
          1643429.9799999944,
          989498.3500000081,
          1213496.2400000023,
          982348.4900000092,
          1115798.4300000109,
          966668.5200000077,
          1383880.9700000102,
          1181418.6499999992,
          1322708.4800000007,
          1035950.4900000123,
          1475232.4599999986,
          1169869.400000005,
          1256737.760000009,
          977682.7100000111,
          1293197.150000006,
          1142418.230000001,
          1243910.6200000052,
          1023391.1000000071,
          1429471.3900000094,
          1021739.4400000096,
          1264526.7300000014,
          978767.0700000074,
          1834953.749999998,
          1503585.3499999964,
          1762226.9999999944,
          1120894.2000000114,
          447.9,
          1723452.359999996,
          1261416.3299999984,
          1432657.6999999974,
          1056131.2600000156,
          1443850.9600000088,
          1283687.270000001,
          1242910.5900000036,
          1400884.8600000017,
          1860118.4799999984,
          1939572.8999999834,
          1601447.0399999907,
          1206831.790000005,
          1100271.4300000113,
          1338108.8899999927,
          1415751.4699999942,
          1128029.8500000085,
          1799.88,
          1824835.2399999956,
          1268427.5399999984,
          1313717.680000012,
          1129701.3300000115,
          3856.55,
          1444765.6900000023,
          1320223.4199999983,
          1380308.0000000016,
          1052322.5400000105,
          2431.6800000000003,
          1997167.4999999858,
          1788798.9499999895,
          1659838.7599999916,
          1100722.7800000098,
          220.6,
          1548657.889999997,
          1389231.5899999966,
          1435911.6600000025,
          1290267.5500000087,
          1295475.260000005,
          1510274.3399999917,
          1332526.5799999987,
          1144628.7800000096,
          67478.34999999995,
          1497165.3299999936,
          1410850.2599999951,
          1365503.6800000065,
          1109700.700000012,
          1589230.790000006,
          1369961.1399999987,
          1308637.140000005,
          974687.4800000122,
          1394616.5499999986,
          1157432.840000005,
          1203938.2800000075,
          978240.5800000128,
          1643276.3399999957,
          1485162.3299999863,
          1557670.3900000015,
          1155134.9400000079,
          849.6,
          1599892.0699999954,
          1217479.360000001,
          1333731.7500000026,
          1096741.2400000133,
          8316.78,
          1312188.91000001,
          1186893.1500000008,
          1149033.780000006,
          1073879.0300000093,
          1405559.5499999963,
          1138243.4400000102,
          1381813.5499999926,
          1047115.050000015,
          1626610.52999999,
          1426777.29999999,
          1549701.139999987,
          1131291.9800000058,
          1431128.9399999932,
          1344662.850000005,
          1658918.6799999953,
          1271790.290000009,
          1200999.4400000065,
          1282477.759999998,
          1477395.249999992,
          1094993.4900000165,
          1756913.0599999921,
          1359339.0200000005,
          1219471.030000006,
          1034101.4400000114,
          4569.330000000001,
          1472361.020000006,
          1155461.1600000043,
          1369871.6800000044,
          976726.040000008,
          6050.399999999998,
          1645347.5199999944,
          1346297.1200000017,
          1435613.5900000064,
          1619710.4799999965,
          5186.54,
          1681203.089999995,
          1572074.5199999984,
          1561224.5199999923,
          1221182.570000005,
          1946626.6099999764,
          1633405.9099999887,
          1852181.7099999832,
          1262658.3400000024,
          1698777.8799999787,
          1607045.3799999985,
          1513646.2499999949,
          1101736.6700000067,
          1536830.0099999998,
          1396452.2500000014,
          1470821.2499999967,
          1232219.8500000045,
          264.24,
          1610574.3399999794,
          1234313.7500000072,
          1444461.809999993,
          1048052.4700000099,
          1644053.0599999863,
          1411690.2699999935,
          1397286.4099999976,
          1144243.9300000046,
          1602469.7799999942,
          1258836.0200000016,
          1982523.6799999808,
          1265565.1599999997,
          1406158.750000003,
          958084.8600000067,
          1261884.1200000031,
          1009775.7300000071,
          85415.43999999989,
          1953325.4799999741,
          1990001.5599999682,
          1699203.3399999784,
          1496925.6899999895,
          5208.849999999999,
          1893163.1299999778,
          1457864.8199999887,
          1774018.9799999816,
          1378871.8299999926,
          1801538.9099999801,
          1628488.8799999817,
          1619874.9599999876,
          1336313.6700000023,
          1407056.0099999914,
          1682710.2199999823,
          1868452.4799999737,
          1348003.2900000033,
          18752.999999999996,
          1778571.2799999833,
          1594419.8399999759,
          1565417.9999999884,
          1314665.72,
          23613.449999999993,
          1594658.2299999835,
          1174987.4700000037,
          1215470.8800000108,
          1042350.380000014,
          1233572.2699999993,
          1053016.900000009,
          1106050.710000002,
          878231.2600000052,
          1010663.7200000064,
          1062818.2000000074,
          1186966.9900000012,
          890906.1900000124,
          1629805.059999997,
          1313079.9799999977,
          1433498.8499999945,
          1191978.2700000063,
          1667068.9799999855,
          1483907.64999999,
          1432550.8399999936,
          1120044.4,
          1534156.3799999917,
          1200080.0699999982,
          1423229.899999994,
          1072858.2800000056,
          932.4000000000001,
          1416190.889999991,
          1334043.0599999893,
          1543665.9499999795,
          1048587.3100000082,
          40.64,
          1489320.989999982,
          1166548.490000001,
          1313995.9099999936,
          1208505.1999999958,
          1346115.1399999901,
          1156289.1800000076,
          1244331.7400000012,
          1063212.9800000056,
          4516.92,
          1700833.119999988,
          1164134.2900000012,
          1519300.499999996,
          1133863.970000003,
          668.88,
          1450750.9099999939,
          1126707.1899999995,
          1239363.1199999973,
          1136362.670000003,
          1543921.2899999905,
          1297912.7399999981,
          1278808.450000005,
          1070251.4200000055,
          3198.3,
          1368181.6300000013,
          1037876.7800000096,
          1211647.8400000029,
          954312.4200000094,
          1713227.2199999876,
          1318654.899999997,
          1666471.839999995,
          1199488.0200000047,
          1633486.8899999855,
          1241778.120000002,
          1380048.2200000044,
          1013020.1200000069,
          22612.56,
          1572773.8399999943,
          1328561.329999993,
          1299910.5600000017,
          1131382.980000008,
          1867768.8799999822,
          1434063.6899999885,
          1593341.7799999902,
          1246499.4799999986,
          3934.1800000000003,
          1620501.209999982,
          1501379.159999983,
          1566492.5599999954,
          1196262.160000003,
          15141.36,
          1658718.3099999856,
          1413433.909999992,
          1507130.8999999892,
          1153231.73,
          5904.720000000001,
          1572592.5599999845,
          1412265.3699999913,
          1485359.6899999909,
          1159757.320000005,
          4035.8399999999997,
          1622334.6999999892,
          1543874.9099999822,
          1484011.6499999883,
          1223944.3399999968,
          1298102.8099999977,
          1374700.9499999834,
          1426989.6899999927,
          1209373.1899999967,
          7465.98,
          2219798.2399999597,
          1480915.9799999832,
          1527941.499999979,
          1139157.2700000051,
          20410.2,
          1755614.28999997,
          1458645.3399999903,
          1368799.8999999976,
          1130429.8700000066,
          1569972.579999986,
          1635035.9599999813,
          1570444.8899999822,
          1146034.6000000038,
          11509.080000000002,
          1908342.0699999714,
          1801455.139999972,
          1658459.999999987,
          1291874.2199999937,
          968894.1200000065,
          1363731.7199999914,
          1407992.2099999974,
          1115964.4000000006,
          4848.240000000001,
          1813927.1799999725,
          1303189.569999996,
          1361995.2899999996,
          1212522.6699999995,
          731773.4200000013,
          1048128.2200000024,
          791877.830000007,
          1210653.9199999997,
          1232599.0799999996,
          516612.34000000125,
          1504872.0699999917,
          1051084.4800000063,
          1392801.979999992,
          1356516.1099999961,
          598280.7700000028,
          1235545.079999995,
          932732.6700000075,
          1439719.7799999928,
          1287225.4599999988,
          548365.2100000035,
          1480760.0399999926,
          1152568.550000004,
          1427518.3199999856,
          1408534.4399999913,
          624978.9700000029,
          1348383.1399999962,
          963675.6600000097,
          1224536.6299999997,
          1237149.2499999935,
          563531.9200000016,
          1365489.0999999873,
          928483.8400000075,
          1217445.4899999984,
          1158976.7199999997,
          572927.7800000034,
          264593.0000000004,
          263992.0353714294,
          392028.95306666876,
          1501249.049999993,
          566816.4500000019,
          1119428.8,
          1147495.6500000004,
          1498599.6599999913,
          1574839.039999994,
          631196.3100000034,
          1351544.680000002,
          1393838.869999999,
          1294199.809999997,
          1900186.0899999854,
          1167872.640000002,
          1349633.7299999963,
          1129971.1899999995,
          1180428.6400000043,
          1173446.240000002,
          522646.4600000018,
          1259236,
          952653.6300000022,
          1119201.080000003,
          1135002.7200000037,
          579041.0200000006,
          1574513.4599999853,
          1368132.4399999967,
          1607115.179999981,
          2017296.2815999785,
          809441.4100000042,
          1649760.4699999872,
          1056405.220000006,
          1344609.7099999913,
          1445575.3899999985,
          541730.4100000003,
          1542006.2499999919,
          1255647.009999999,
          1398830.6899999941,
          1672147.549999989,
          540412.530000002,
          1395852.1999999948,
          1198101.3100000059,
          1386637.619999992,
          1494157.7799999951,
          662598.9800000035,
          1615755.8399999868,
          1217627.5000000016,
          1419932.0799999922,
          1384119.1599999943,
          616143.6600000013,
          68.58,
          1492198.6399999985,
          1345660.6799999997,
          1417048.5999999824,
          1648003.1299999924,
          706228.4099999995,
          1476668.2099999932,
          1250932.4499999976,
          1699333.9799999865,
          1961085.4999999898,
          802696.4400000039,
          1718066.809999982,
          1258542.5699999982,
          1066110.0900000005,
          1538926.5199999837,
          1270850.849999993,
          1323968.9899999993,
          1912143.6999999904,
          886691.2100000025,
          1509650.219999999,
          1393319.600000002,
          1754548.769999994,
          1655871.0399999896,
          634329.350000002,
          1702277.0899999915,
          1357532.2800000012,
          1523818.6799999918,
          1647726.9799999918,
          847494.9000000019,
          2017299.9399999792,
          1645756.8899999848,
          2174044.5399999702,
          2292557.7599999756,
          874255.9300000011,
          1643006.039999979,
          1861930.899999982,
          1525952.549999987,
          1541745.389999986,
          475190.92000000074,
          1003882.480000002,
          1163870.1599999962,
          1171988.109999999,
          538449.1900000029,
          1551948.2699999816,
          919632.4200000028,
          1062032.7800000038,
          954396.7700000023,
          408487.3800000004,
          652488.9500000023,
          1130073.109999998,
          1282354.5299999993,
          1062791.8699999996,
          440487.43999999994,
          1144731.0900000029,
          937492.4500000007,
          1151540.7399999984,
          1112098.9700000044,
          458201.29000000143,
          1168720.7900000005,
          909798.6000000049,
          1295086.0999999975,
          1203053.1399999964,
          592152.0600000023,
          1620001.5899999894,
          1356533.2100000016,
          1432941.629999995,
          1615560.409999993,
          704916.1200000026,
          1448804.679999992,
          1199174.8299999987,
          1202762.959999995,
          1411804.1399999987,
          527792.4800000013,
          1377315.8899999987,
          962720.8800000054,
          1172137.5299999993,
          1257382.2900000005,
          556814.4100000015,
          1381515.4199999946,
          923104.370000006,
          1342993.88,
          1278435.3799999992,
          475639.2900000017,
          1599346.5599999866,
          1320116.199999994,
          1271136.029999997,
          1345634.730000001,
          507620.93,
          1549160.8599999936,
          942479.5900000036,
          1287553.8299999959,
          1396379.5300000005,
          596788.4600000012,
          1340668.7599999935,
          948060.3500000077,
          1142898.1799999967,
          1181914.1299999985,
          477785.1500000016,
          1360791.459999995,
          970969.8300000022,
          1125006.5599999998,
          1103728.770000001,
          539661.330000001,
          1435180.4899999984,
          1126940.4200000013,
          1335130.849999991,
          1513832.8799999952,
          589217.0800000024,
          1484530.7699999923,
          1347141.7399999925,
          1490921.4799999823,
          1444562.7499999935,
          612918.7500000003,
          1481275.069999993,
          1015061.3900000069,
          1229017.5600000008,
          1073232.1700000002,
          442869.0800000016,
          1364996.9599999941,
          1206926.48,
          1204788.6999999997,
          1346178.8899999983,
          526171.1000000001,
          1356165.2399999942,
          1145967.4099999985,
          1574504.8499999975,
          1323629.609999997,
          594388.5900000011,
          1506046.2399999897,
          1100254.580000002,
          1521412.759999993,
          1705186.9399999944,
          564204.8600000015,
          1466806.3499999887,
          1324042.859999993,
          1374817.8499999943,
          1484459.1799999936,
          574053.8700000023,
          1630450.139999981,
          1214823.0099999942,
          1404468.759999986,
          1304926.6799999974,
          1667171.3399999926,
          64.17999999999999,
          66,
          1074476.840000006,
          1440889.3699999908,
          1498823.9199999974,
          575331.280000002,
          1887621.8899999855,
          1312918.9699999932,
          1434220.349999987,
          1604936.1599999936,
          598919.510000002,
          1589769.0999999966,
          1265423.469999997,
          1531005.559999991,
          1607555.0399999947,
          646232.7600000001,
          1478503.1099999847,
          1104694.7700000007,
          1331629.4999999956,
          1159393.1699999995,
          734346.2100000007,
          1690318.2099999827,
          1393410.729999992,
          2088157.0599999784,
          1459322.6999999953,
          770774.4200000011,
          1380911.2199999979,
          1163502.7100000025,
          1370063.1799999902,
          1255450.5900000015,
          562756.6100000018,
          1531829.5099999963,
          1181653.3799999987,
          1479667.1499999904,
          1371983.670000002,
          649410.3300000001,
          1552524.4199999962,
          1205968.4800000002,
          1385939.889999991,
          1252666.8600000008,
          613013.670000002,
          1432746.0499999996,
          1125981.2600000037,
          1287936.879999996,
          1535877.8399999938,
          547646.5000000013,
          1434357.1899999904,
          1060771.4700000025,
          1405134.2399999956,
          1313369.29,
          515584.73000000144,
          1433233.5600000024,
          1113267.850000002,
          1364539.409999988,
          1307758.820000001,
          549431.1900000019,
          1555000.8299999959,
          1261219.6299999969,
          1335441.9199999955,
          1290937.1899999997,
          548256.1200000013,
          1479436.0099999944,
          1047094.2100000058,
          1282555.6799999939,
          1166937.1000000024,
          533360.0900000021,
          1988489.26999998,
          1268096.739999995,
          1526009.3199999896,
          1423376.3299999975,
          683365.3900000014,
          252,
          1364005.7399999897,
          1763247.5999999873,
          1474830.419999995,
          532598.3300000016,
          2003115.5099999788,
          1595505.9799999811,
          1606438.0099999895,
          1679353.1499999948,
          642984.860000001,
          1623936.949999994,
          1144089.2500000007,
          1339375.149999993,
          1243933.3099999966,
          485431.4500000018,
          1348994.459999994,
          1091959.900000001,
          1356880.8100000017,
          1011177.0400000024,
          551425.3300000016,
          1874976.9299999864,
          1780518.5399999837,
          1513974.1699999927,
          1954726.4699999876,
          720302.8400000032,
          1547680.0199999947,
          1632594.9599999855,
          1568783.0099999905,
          1825220.789999988,
          655689.2200000011,
          1420661.0099999951,
          1616208.7899999903,
          1457375.2999999963,
          1551409.6899999992,
          673255.900000001,
          1656992.2599999907,
          1685217.069999989,
          1506386.8499999887,
          1285915.639999996,
          648518.940000001,
          1571750.0199999998,
          315383.51320000034,
          1454415.8099999917,
          1223727.0299999937,
          638486.6500000019,
          1422859.6300000001,
          1627537.9899999774,
          1660249.6999999809,
          1513669.6899999955,
          681138.6800000016,
          1366834.8899999915,
          1405686.6300000004,
          1598764.2199999855,
          1631739.6599999883,
          851797.5800000014,
          1640459.5299999868,
          1291574.0899999945,
          695909.8100000006,
          1504980.0299999884,
          1401716.1699999885,
          1443170.0099999933,
          1919516.9799999848,
          798703.4399999991,
          2095877.5899999877,
          2117348.56999999,
          1657314.4699999783,
          2097032.7099999879,
          767343.2200000024,
          1591973.0499999907,
          1772581.8099999898,
          1628303.0399999921,
          1567226.1399999922,
          705238.2700000016,
          1780549.9899999874,
          1552498.4599999874,
          1698704.8899999796,
          1511568.2599999853,
          2192632.0399999833,
          1721390.6199999817,
          1758534.1099999803,
          1825974.289999984,
          685682.0800000031,
          975676.4100000067,
          1208830.229999996,
          1128526.0300000007,
          555611.940000002,
          1631168.1699999839,
          1339010.5899999905,
          1090479.6100000031,
          1100928.7900000075,
          489674.9000000016,
          1261628.320000004,
          965994.590000008,
          1112124.2799999996,
          937308.7400000016,
          490122.10000000097,
          1133961.220000004,
          1064104.0100000054,
          1229083.7699999989,
          1072558.460000006,
          483084.7200000007,
          1194677.9299999978,
          1063208.750000004,
          1179232.249999998,
          1202335.2199999983,
          510739.3400000004,
          1495112.2099999979,
          1514533.6699999918,
          1430188.8599999947,
          1485610.2000000004,
          652031.3600000014,
          1210236.3599999978,
          1295783.7099999993,
          1224991.2999999993,
          1214141.2699999968,
          546647.6500000006,
          1172459.5299999993,
          1117729.8199999998,
          1235535.4399999985,
          1298842.530000002,
          524848.7200000011,
          1371356.6599999988,
          1163979.1499999964,
          1258423.2900000012,
          1154129.9000000013,
          512187.67000000185,
          1511439.2999999938,
          1425806.8599999952,
          1371919.7899999935,
          1450984.1099999992,
          540228.280000002,
          1403160.3700000015,
          1213785.4599999995,
          1253921.6899999955,
          1179824.1600000001,
          523407.6600000001,
          1409175.129999999,
          1067026.4600000025,
          1224627.249999996,
          1204607.1299999955,
          509252.540000001,
          1367621.8799999924,
          1345780.1600000001,
          1328949.2999999905,
          1385127.8999999994,
          530395.6800000017,
          1402946.7899999984,
          1415473.889999992,
          1425863.7899999926,
          1478626.6999999941,
          519525.06000000186,
          1531602.1099999957,
          1424520.5499999968,
          1537747.379999993,
          1544066.6399999906,
          686084.0100000005,
          1312999.9299999953,
          1240539.3099999994,
          1283607.699999999,
          1251387.149999998,
          522687.3300000019,
          1385401.3899999987,
          1330818.6299999922,
          1356733.1999999934,
          1325316.1299999976,
          609666.6900000005,
          1667737.4499999906,
          1511478.4899999879,
          1757887.6999999862,
          1508456.3999999946,
          769131.8800000034,
          1544663.0199999942,
          1544511.0999999873,
          1484549.6599999876,
          1428649.049999997,
          581118.42,
          1530850.209999991,
          844320.6900000004,
          1837453.4299999839,
          1362660.9099999922,
          608230.9700000016,
          1384994.4099999922,
          1441825.069999992,
          1580054.329999986,
          1283442.5599999975,
          1640248.129999983,
          1462714.089999986,
          1610511.1099999903,
          1472692.049999991,
          685271.450000001,
          1805060.2799999833,
          1511527.3976000028,
          1577680.3499999926,
          1467358.03,
          566758.370000003,
          1450457.289999994,
          1493807.6499999925,
          1538773.6199999892,
          1605120.8899999883,
          730632.8200000038,
          1333715.789999999,
          1247897.8399999968,
          1323654.499999992,
          1298499.3000000017,
          493787.54000000004,
          1623859.6099999878,
          1555957.9799999928,
          1842972.5799999852,
          1629574.2899999972,
          1823526.4799999848,
          1054647.2700000044,
          1201607.0999999999,
          1341251.729999997,
          568466.9000000021,
          1436033.849999995,
          1570296.3899999887,
          1737908.4299999843,
          1287555.259999998,
          606391.5000000013,
          1387495.7800000003,
          1297567.1700000018,
          1501910.199999992,
          1322231.62,
          609221.6900000017,
          1440173.9999999907,
          1254386.040000002,
          1413405.7500000044,
          1570303.439999992,
          611989.3500000014,
          1599176.9999999898,
          1389109.059999997,
          1620193.0999999898,
          1762639.6599999953,
          658902.5600000017,
          1495621.6099999975,
          1509701.5399999898,
          1468077.4399999937,
          1459868.5599999994,
          719075.0400000026,
          1400895.0299999984,
          1448819.5999999957,
          1447521.3999999932,
          1366186.0700000005,
          594670.4100000024,
          1490946.859999991,
          1299065.2100000032,
          1282543.5699999887,
          1184917.060000001,
          570736.4800000032,
          1631074.309999989,
          1558048.7599999912,
          1529656.979999993,
          1337255.6699999967,
          1684978.909999992,
          1530822.4399999967,
          1697590.4899999828,
          1659398.869999989,
          647554.1400000011,
          1568376.3699999948,
          1488555.9799999902,
          1363515.7499999981,
          1363198.4399999937,
          580319.3700000012,
          1437388.619999994,
          1236590.140000003,
          1438297.4999999872,
          1270551.9599999955,
          581899.0900000009,
          1400845.0199999942,
          1376167.8799999962,
          1350614.849999987,
          1295546.3299999924,
          501278.10000000213,
          1536850.3799999866,
          2073403.9199999804,
          1658544.9499999988,
          1878638.1999999925,
          642030.1100000049,
          1603996.0599999907,
          1715649.6999999932,
          1945595.9099999887,
          1571989.199999994,
          741637.8700000012,
          1692431.969999993,
          1344660.439999999,
          1691936.8399999884,
          1735883.179999997,
          873249.3100000045,
          1573762.1799999932,
          1773029.7299999841,
          1761308.979999997,
          1458448.9899999944,
          667529.2700000004,
          1562900.6799999962,
          1688183.5699999926,
          1444701.9599999944,
          1207951.71,
          576620.8600000022,
          1682149.0799999908,
          1712634.4599999902,
          1688495.0199999828,
          1530170.62,
          731447.6100000035,
          1673204.1299999887,
          1489595.1999999937,
          1957949.3199999777,
          1855567.5299999835,
          722299.5800000015,
          1736751.439999984,
          1512430.5099999919,
          748296.7500000005,
          1775773.169999983,
          1652791.2499999842,
          1727887.549999987,
          1915619.9199999948,
          862837.9400000039,
          1841113.1599999997,
          1759232.4199999995,
          1991339.4699999848,
          2138325.6899999967,
          881260.5000000049,
          1880526.619999991,
          1771416.049999994,
          1924912.1099999913,
          2168609.809999984,
          809838.9600000046,
          2011664.5099999825,
          1814776.0499999942,
          1857755.1499999869,
          2007864.9399999857,
          2171666.3299999773,
          75549.58999999998,
          1845493.0799999812,
          1945622.9999999898,
          1914804.9299999857,
          583969.0300000022,
          1649524.709999991,
          1072008.3100000047,
          1167466.7999999996,
          1380498.3700000034,
          1401308.3200000005,
          974691.350000004,
          1067987.120000005,
          1217128.8100000038,
          548646.1100000003,
          1121578.7300000032,
          1027059.6000000059,
          1133763.650000005,
          1079487.390000006,
          812064.280000002,
          1241721.489999998,
          939011.6400000047,
          1644893.0399999903,
          893655.910000004,
          1564223.829999995,
          1079535.8800000066,
          985052.6800000031,
          1107970.330000004,
          620272.7800000008,
          1528988.3599999952,
          1355355.1300000015,
          1420629.7099999976,
          1635440.2499999946,
          621951.0100000021,
          1647495.7599999986,
          1284114.8800000066,
          1313556.2999999993,
          1254648.200000004,
          569537.9500000024,
          1405229.7899999989,
          1205890.480000001,
          1393708.2200000007,
          1391931.8000000045,
          627646.8900000041,
          1431500.1500000055,
          1382298.25,
          1292201.6599999997,
          1279051.5999999992,
          633516.0800000001,
          1572227.8799999943,
          1542113.080000005,
          1741787.9799999942,
          1738690.3999999953,
          700519.4000000034,
          1472113.7699999919,
          1572714.5599999984,
          1497374.789999995,
          1409560.2899999998,
          513500.340000001,
          1377244.460000001,
          992787.8200000069,
          1209264.5900000029,
          1135339.5000000044,
          506403.6300000021,
          1252493.1299999985,
          1047090.7400000066,
          1163260.840000009,
          1288570.9200000064,
          608586.1300000013,
          1380872.979999994,
          1252911.710000001,
          1391296.3899999969,
          1485322.9900000005,
          674817.3500000038,
          1409654.9500000014,
          1248689.03,
          1442652.790000002,
          1337998.390000004,
          724640.9100000028,
          1061192.4700000037,
          1108480.1300000057,
          1403772.1900000016,
          1199979.760000004,
          1162405.7700000072,
          1261866.2700000086,
          1252621.5400000026,
          1803260.2699999965,
          1282448.3899999969,
          1375170.16000001,
          1333954.4400000037,
          1205827.6700000041,
          1162843.0100000037,
          1447407.2600000014,
          1277502.1500000027,
          1376289.2200000028,
          1765508.9800000014,
          1363534.9000000032,
          1166908.4900000016,
          1350057.5199999975,
          1327125.1400000018,
          1647285.9599999962,
          1792599.85000001,
          1218074.860000005,
          1606299.049999998,
          1811.6399999999999,
          1429440.0000000016,
          1457409.4700000065,
          1629499.7399999995,
          1381981.5999999954,
          1388963.5700000029,
          1760732.4999999956,
          1919117.8199999998,
          1446735.8399999985,
          1850866.939999996,
          117028.68000000001,
          1569267.530000001,
          1432444.5599999996,
          1403760.069999997,
          1300039.4699999965,
          1229100.0700000047,
          1306282.2200000016,
          1444250.9099999974,
          1433082.369999996,
          1380385.3699999969,
          1131821.970000005,
          341132.7400000005,
          1232819.7600000012,
          1374915.8499999975,
          1444502.9699999925,
          1012206.5400000033,
          1308429.6500000022,
          1735022.1999999955,
          1699578.3400000045,
          2163522.8099999875,
          1458461.9199999992,
          1417338.940000008,
          1614024.570000001,
          1469868.6099999952,
          1268493.38,
          106750.11999999997,
          2117251.5199999865,
          1338613.8800000027,
          1261764.1100000034,
          1441507.1399999983,
          1045891.8300000019,
          1399091.9800000011,
          1324834.430000005,
          1273609.370000002,
          1312083.9799999965,
          1003156.3900000049,
          1148531.5500000033,
          1218678.9400000041,
          1113641.230000004,
          1261386.919999999,
          1077682.6500000027,
          1630141.3900000006,
          1638323.2499999965,
          1551788.2599999937,
          2358016.83,
          1387705.3500000043,
          1123998.2100000016,
          1343492.1000000043,
          1218178.4900000077,
          1364092.0200000056,
          1034713.3400000046,
          1131632.6000000054,
          1331404.9999999965,
          1337728.4899999998,
          1151366.2100000046,
          1006655.5900000075,
          1204360.0800000106,
          1255568.0800000115,
          1164749.8900000057,
          1306111.4,
          1055164.960000001,
          1350727.5799999968,
          1662739.0399999986,
          1626670.6199999999,
          1698377.1100000015,
          1417747.669999992,
          1263654.410000001,
          1500534.4600000028,
          1285855.6499999964,
          2289287.500000008,
          1314640.1900000086,
          1330688.3700000073,
          1339260.5800000024,
          1353051.230000003,
          1139641.100000001,
          1242840.0100000065,
          1268610.4000000043,
          1466278.450000002,
          1238359.0300000003,
          1044579.2200000058,
          1186602.2200000042,
          1170367.1400000015,
          2056990.109999998,
          1524997.5000000051,
          1460625.89,
          1326984.5600000052,
          117541.50000000006,
          1410318.3800000048,
          1431216.3499999992,
          1445491.959999998,
          1388670.2100000037,
          1422935.740000006,
          1617559.8599999917,
          1888068.6500000043,
          1616286.7499999949,
          1476255.51,
          1490257.9000000046,
          1785421.3200000008,
          1730356.7099999983,
          1758967.1499999973,
          1455631.2999999989,
          1391633.4400000006,
          1349588.779999995,
          1484634.389999998,
          1289941.9500000074,
          1223426.0800000005,
          1326231.8300000047,
          1410200.9700000007,
          1520283.0100000016,
          1630793.4799999935,
          1249985.6700000025,
          1342431.190000003,
          4110.530000000001,
          1454407.1500000043,
          1529644.3500000015,
          1605396.1900000004,
          1216297.940000002,
          1457572.0599999928,
          1402303.9100000013,
          1330775.4499999913,
          1721966.5399999917,
          1329371.739999999,
          397482.2100000004,
          1183214.050000002,
          1334190.670000004,
          1660383.4700000016,
          1774597.8999999953,
          1246601.0799999987,
          391441.0900000012,
          1240661.55,
          1768680.6199999982,
          1671273.3199999975,
          1383057.3699999962,
          1346695.6299999955,
          477175.43000000104,
          1226348.770000002,
          1687055.1799999943,
          1575578.3299999954,
          1431318.5599999968,
          1561842.5400000028,
          1580431.5600000005,
          1682119.6699999978,
          1621325.1199999978,
          1242369.1100000013,
          1514588.9999999967,
          1689429.1599999936,
          1825221.4999999802,
          1815232.9499999923,
          1460046.739999996,
          1880298.0799999908,
          1377264.6899999946,
          1778007.1999999937,
          1942630.2099999895,
          1803461.4199999943,
          1060921.9700000056,
          1415321.1599999995,
          1336931.479999993,
          1312833.449999995,
          1663430.3599999824,
          1181909.800000001,
          1337040.4999999953,
          1101333.7300000035,
          939569.4800000034,
          965227.4700000042,
          1124504.480000001,
          897890.8200000023,
          1113440.639999997,
          869939.6300000008,
          1042507.9400000013,
          1150071.8900000027,
          1133937.8399999966,
          1293184.8699999957,
          976931.6900000018,
          1189699.8900000006,
          1246513.2300000002,
          1162970.8099999998,
          1122022.9099999985,
          1031826.570000003,
          1071286.820000002,
          1455117.3300000005,
          1516584.5999999933,
          1302347.0399999986,
          1174135.03,
          1270337.029999998,
          1318492.7999999986,
          1251412.6499999985,
          1433409.2099999923,
          935181.1000000004,
          1071773.120000002,
          1225477.5000000028,
          1269580.9099999957,
          1580541.2599999928,
          1149076.6199999987,
          1252405.990000001,
          1387715.2900000056,
          1550159.869999987,
          1298799.3599999952,
          1075006.0600000003,
          1214700.7899999942,
          1423197.8499999985,
          1391147.149999995,
          1467536.0499999952,
          1142203.1200000024,
          1372480.9899999993,
          1598418.3599999906,
          1542858.6799999936,
          1523630.9499999932,
          1121623.7499999981,
          1348155.1600000027,
          1564672.8099999938,
          1446535.8199999824,
          1531037.489999992,
          1080855.279999998,
          1618499.9399999958,
          1434209.9899999895,
          1617062.9299999909,
          1744399.1099999887,
          1101127.079999997,
          1471460.8099999975,
          1240882.4399999974,
          1456281.359999996,
          1184955.539999997,
          857684.7800000013,
          1594145.919999998,
          1343790.9999999986,
          1813818.7499999823,
          1694303.469999984,
          1114963.1599999978,
          1756675.989999983,
          1553677.269999991,
          1908639.4699999832,
          1211737.7500000016,
          964927.27,
          1574769.24999999,
          1431620.979999994,
          1632817.7799999889,
          1367878.089999994,
          998689.980000002,
          1792864.2899999872,
          1585986.2199999948,
          1811216.9199999825,
          1622084.479999998,
          1189997.0699999975,
          1514994.3199999896,
          1588835.7899999938,
          1887515.389999987,
          1563142.3099999947,
          1217880.3499999992,
          1723230.2499999886,
          1516416.3299999903,
          1849271.9699999783,
          1459119.3199999894,
          1234600.0899999933,
          1752637.6499999897,
          1613260.7000000004,
          1775482.5199999795,
          1488591.8899999845,
          1024824.0799999996,
          1473476.359999989,
          1535775.1099999908,
          1746138.919999992,
          1952746.4499999802,
          2193887.629999982,
          1619996.5299999937,
          1911231.6199999899,
          1449543.1899999974,
          1307975.4899999953,
          1578508.2800000007,
          1643633.749999998,
          1781753.4599999904,
          1530605.7999999865,
          1114978,
          1514320.5599999926,
          1617616.79999999,
          1817218.379999976,
          1663160.6599999988,
          1160206.68,
          1664263.2099999918,
          1840870.9899999874,
          1853754.7799999875,
          1879528.939999991,
          1496997.639999989,
          1779545.5499999963,
          1785935.3299999938,
          2016760.979999994,
          1884851.3099999868,
          1435229.2999999975,
          1549553.850000002,
          1527037.5600000008,
          1603226.8299999898,
          1619081.5499999942,
          1142285.1700000013,
          1355985.87,
          1507942.1699999948,
          1622093.0199999823,
          1609057.3699999957,
          1153712.8200000017,
          1373575.8600000073,
          1482829.770000006,
          1622204.1199999969,
          1457422.9899999972,
          1062460.5400000047,
          1430853.300000001,
          911.8900000000001,
          1485104.6599999997,
          1811581.6799999916,
          1714071.6499999878,
          1380015.0099999972,
          1434929.019999993,
          1463026.6899999985,
          1769472.7099999918,
          1649898.299999994,
          1248860.18,
          1563043.2899999975,
          1621574.5599999998,
          1413450.5699999942,
          1788530.329999996,
          1287615.1099999975,
          1447877.800000002,
          1487991.109999996,
          1885870.2299999946,
          1583599.11999999,
          1382312.3699999996,
          1583553.8999999962,
          1635616.6299999976,
          2124858.459999989,
          2031703.259999991,
          1363986.1299999985,
          1827137.2599999923,
          3836.16,
          1581338.9699999967,
          1797101.989999993,
          1731673.819999993,
          1337315.8799999994,
          1621294.5199999933,
          1741464.4299999957,
          2188004.809999985,
          1754184.7299999946,
          1929533.229999988,
          1631301.0799999963,
          1703354.5099999874,
          1515792.9099999953,
          1220734.4399999992,
          1857262.9299999948,
          1624049.0699999954,
          2103516.5699999826,
          2237379.859999991,
          1520794.139999992,
          1607011.1399999969,
          1701822.859999994,
          2417669.260000007,
          1488290.0399999951,
          2044011.1099999915,
          1575572.0599999982,
          1695400.709999999,
          2093350.9199999925,
          1903592.0999999933,
          1617137.7199999965,
          1583596.2000000048,
          9059.179999999998,
          1608209.3900000006,
          1819274.4899999849,
          1797794.7199999955,
          1518737.27999999,
          1768060.5799999896,
          1742317.9099999939,
          1754337.8699999875,
          1520753.1899999953,
          1199292.7799999982,
          1590066.729999995,
          166.5,
          1934375.7799999898,
          1885774.539999989,
          1798777.479999994,
          1413474.1599999988,
          1622507.2799999963,
          7983.2699999999995,
          1599210.9099999992,
          1991263.8899999873,
          1684256.7999999959,
          1299206.4499999944,
          1667660.1599999971,
          1492086.5999999954,
          1579623.1199999969,
          1477524.3599999985,
          1219325.6899999983,
          1573043.7499999944,
          1631027.7299999928,
          2029787.9499999823,
          1610670.4299999902,
          1293877.739999997,
          1682048.8299999912,
          1547100.7499999977,
          1796849.5599999898,
          1314761.1900000025,
          1854169.519999983,
          38465.830000000016,
          1429786.6499999908,
          1543820.4999999835,
          1411734.8199999945,
          1330139.7799999982,
          1720142.4699999834,
          1605478.0399999917,
          2084614.079999977,
          2120044.0399999856,
          1351784.1799999927,
          1843722.5699999963,
          1696413.679999992,
          2041697.4299999846,
          1944332.3799999803,
          1581251.169999993,
          1886086.6099999836,
          1635196.5699999866,
          3103110.159999975,
          1548088.409999991,
          1693546.8299999922,
          1850935.4099999818,
          1403586.1399999934,
          2722249.1999999927,
          1234922.3899999976,
          1511023.369999991
         ]
        }
       ],
       "layout": {
        "template": {
         "data": {
          "bar": [
           {
            "error_x": {
             "color": "#2a3f5f"
            },
            "error_y": {
             "color": "#2a3f5f"
            },
            "marker": {
             "line": {
              "color": "#E5ECF6",
              "width": 0.5
             }
            },
            "type": "bar"
           }
          ],
          "barpolar": [
           {
            "marker": {
             "line": {
              "color": "#E5ECF6",
              "width": 0.5
             }
            },
            "type": "barpolar"
           }
          ],
          "carpet": [
           {
            "aaxis": {
             "endlinecolor": "#2a3f5f",
             "gridcolor": "white",
             "linecolor": "white",
             "minorgridcolor": "white",
             "startlinecolor": "#2a3f5f"
            },
            "baxis": {
             "endlinecolor": "#2a3f5f",
             "gridcolor": "white",
             "linecolor": "white",
             "minorgridcolor": "white",
             "startlinecolor": "#2a3f5f"
            },
            "type": "carpet"
           }
          ],
          "choropleth": [
           {
            "colorbar": {
             "outlinewidth": 0,
             "ticks": ""
            },
            "type": "choropleth"
           }
          ],
          "contour": [
           {
            "colorbar": {
             "outlinewidth": 0,
             "ticks": ""
            },
            "colorscale": [
             [
              0,
              "#0d0887"
             ],
             [
              0.1111111111111111,
              "#46039f"
             ],
             [
              0.2222222222222222,
              "#7201a8"
             ],
             [
              0.3333333333333333,
              "#9c179e"
             ],
             [
              0.4444444444444444,
              "#bd3786"
             ],
             [
              0.5555555555555556,
              "#d8576b"
             ],
             [
              0.6666666666666666,
              "#ed7953"
             ],
             [
              0.7777777777777778,
              "#fb9f3a"
             ],
             [
              0.8888888888888888,
              "#fdca26"
             ],
             [
              1,
              "#f0f921"
             ]
            ],
            "type": "contour"
           }
          ],
          "contourcarpet": [
           {
            "colorbar": {
             "outlinewidth": 0,
             "ticks": ""
            },
            "type": "contourcarpet"
           }
          ],
          "heatmap": [
           {
            "colorbar": {
             "outlinewidth": 0,
             "ticks": ""
            },
            "colorscale": [
             [
              0,
              "#0d0887"
             ],
             [
              0.1111111111111111,
              "#46039f"
             ],
             [
              0.2222222222222222,
              "#7201a8"
             ],
             [
              0.3333333333333333,
              "#9c179e"
             ],
             [
              0.4444444444444444,
              "#bd3786"
             ],
             [
              0.5555555555555556,
              "#d8576b"
             ],
             [
              0.6666666666666666,
              "#ed7953"
             ],
             [
              0.7777777777777778,
              "#fb9f3a"
             ],
             [
              0.8888888888888888,
              "#fdca26"
             ],
             [
              1,
              "#f0f921"
             ]
            ],
            "type": "heatmap"
           }
          ],
          "heatmapgl": [
           {
            "colorbar": {
             "outlinewidth": 0,
             "ticks": ""
            },
            "colorscale": [
             [
              0,
              "#0d0887"
             ],
             [
              0.1111111111111111,
              "#46039f"
             ],
             [
              0.2222222222222222,
              "#7201a8"
             ],
             [
              0.3333333333333333,
              "#9c179e"
             ],
             [
              0.4444444444444444,
              "#bd3786"
             ],
             [
              0.5555555555555556,
              "#d8576b"
             ],
             [
              0.6666666666666666,
              "#ed7953"
             ],
             [
              0.7777777777777778,
              "#fb9f3a"
             ],
             [
              0.8888888888888888,
              "#fdca26"
             ],
             [
              1,
              "#f0f921"
             ]
            ],
            "type": "heatmapgl"
           }
          ],
          "histogram": [
           {
            "marker": {
             "colorbar": {
              "outlinewidth": 0,
              "ticks": ""
             }
            },
            "type": "histogram"
           }
          ],
          "histogram2d": [
           {
            "colorbar": {
             "outlinewidth": 0,
             "ticks": ""
            },
            "colorscale": [
             [
              0,
              "#0d0887"
             ],
             [
              0.1111111111111111,
              "#46039f"
             ],
             [
              0.2222222222222222,
              "#7201a8"
             ],
             [
              0.3333333333333333,
              "#9c179e"
             ],
             [
              0.4444444444444444,
              "#bd3786"
             ],
             [
              0.5555555555555556,
              "#d8576b"
             ],
             [
              0.6666666666666666,
              "#ed7953"
             ],
             [
              0.7777777777777778,
              "#fb9f3a"
             ],
             [
              0.8888888888888888,
              "#fdca26"
             ],
             [
              1,
              "#f0f921"
             ]
            ],
            "type": "histogram2d"
           }
          ],
          "histogram2dcontour": [
           {
            "colorbar": {
             "outlinewidth": 0,
             "ticks": ""
            },
            "colorscale": [
             [
              0,
              "#0d0887"
             ],
             [
              0.1111111111111111,
              "#46039f"
             ],
             [
              0.2222222222222222,
              "#7201a8"
             ],
             [
              0.3333333333333333,
              "#9c179e"
             ],
             [
              0.4444444444444444,
              "#bd3786"
             ],
             [
              0.5555555555555556,
              "#d8576b"
             ],
             [
              0.6666666666666666,
              "#ed7953"
             ],
             [
              0.7777777777777778,
              "#fb9f3a"
             ],
             [
              0.8888888888888888,
              "#fdca26"
             ],
             [
              1,
              "#f0f921"
             ]
            ],
            "type": "histogram2dcontour"
           }
          ],
          "mesh3d": [
           {
            "colorbar": {
             "outlinewidth": 0,
             "ticks": ""
            },
            "type": "mesh3d"
           }
          ],
          "parcoords": [
           {
            "line": {
             "colorbar": {
              "outlinewidth": 0,
              "ticks": ""
             }
            },
            "type": "parcoords"
           }
          ],
          "pie": [
           {
            "automargin": true,
            "type": "pie"
           }
          ],
          "scatter": [
           {
            "marker": {
             "colorbar": {
              "outlinewidth": 0,
              "ticks": ""
             }
            },
            "type": "scatter"
           }
          ],
          "scatter3d": [
           {
            "line": {
             "colorbar": {
              "outlinewidth": 0,
              "ticks": ""
             }
            },
            "marker": {
             "colorbar": {
              "outlinewidth": 0,
              "ticks": ""
             }
            },
            "type": "scatter3d"
           }
          ],
          "scattercarpet": [
           {
            "marker": {
             "colorbar": {
              "outlinewidth": 0,
              "ticks": ""
             }
            },
            "type": "scattercarpet"
           }
          ],
          "scattergeo": [
           {
            "marker": {
             "colorbar": {
              "outlinewidth": 0,
              "ticks": ""
             }
            },
            "type": "scattergeo"
           }
          ],
          "scattergl": [
           {
            "marker": {
             "colorbar": {
              "outlinewidth": 0,
              "ticks": ""
             }
            },
            "type": "scattergl"
           }
          ],
          "scattermapbox": [
           {
            "marker": {
             "colorbar": {
              "outlinewidth": 0,
              "ticks": ""
             }
            },
            "type": "scattermapbox"
           }
          ],
          "scatterpolar": [
           {
            "marker": {
             "colorbar": {
              "outlinewidth": 0,
              "ticks": ""
             }
            },
            "type": "scatterpolar"
           }
          ],
          "scatterpolargl": [
           {
            "marker": {
             "colorbar": {
              "outlinewidth": 0,
              "ticks": ""
             }
            },
            "type": "scatterpolargl"
           }
          ],
          "scatterternary": [
           {
            "marker": {
             "colorbar": {
              "outlinewidth": 0,
              "ticks": ""
             }
            },
            "type": "scatterternary"
           }
          ],
          "surface": [
           {
            "colorbar": {
             "outlinewidth": 0,
             "ticks": ""
            },
            "colorscale": [
             [
              0,
              "#0d0887"
             ],
             [
              0.1111111111111111,
              "#46039f"
             ],
             [
              0.2222222222222222,
              "#7201a8"
             ],
             [
              0.3333333333333333,
              "#9c179e"
             ],
             [
              0.4444444444444444,
              "#bd3786"
             ],
             [
              0.5555555555555556,
              "#d8576b"
             ],
             [
              0.6666666666666666,
              "#ed7953"
             ],
             [
              0.7777777777777778,
              "#fb9f3a"
             ],
             [
              0.8888888888888888,
              "#fdca26"
             ],
             [
              1,
              "#f0f921"
             ]
            ],
            "type": "surface"
           }
          ],
          "table": [
           {
            "cells": {
             "fill": {
              "color": "#EBF0F8"
             },
             "line": {
              "color": "white"
             }
            },
            "header": {
             "fill": {
              "color": "#C8D4E3"
             },
             "line": {
              "color": "white"
             }
            },
            "type": "table"
           }
          ]
         },
         "layout": {
          "annotationdefaults": {
           "arrowcolor": "#2a3f5f",
           "arrowhead": 0,
           "arrowwidth": 1
          },
          "autotypenumbers": "strict",
          "coloraxis": {
           "colorbar": {
            "outlinewidth": 0,
            "ticks": ""
           }
          },
          "colorscale": {
           "diverging": [
            [
             0,
             "#8e0152"
            ],
            [
             0.1,
             "#c51b7d"
            ],
            [
             0.2,
             "#de77ae"
            ],
            [
             0.3,
             "#f1b6da"
            ],
            [
             0.4,
             "#fde0ef"
            ],
            [
             0.5,
             "#f7f7f7"
            ],
            [
             0.6,
             "#e6f5d0"
            ],
            [
             0.7,
             "#b8e186"
            ],
            [
             0.8,
             "#7fbc41"
            ],
            [
             0.9,
             "#4d9221"
            ],
            [
             1,
             "#276419"
            ]
           ],
           "sequential": [
            [
             0,
             "#0d0887"
            ],
            [
             0.1111111111111111,
             "#46039f"
            ],
            [
             0.2222222222222222,
             "#7201a8"
            ],
            [
             0.3333333333333333,
             "#9c179e"
            ],
            [
             0.4444444444444444,
             "#bd3786"
            ],
            [
             0.5555555555555556,
             "#d8576b"
            ],
            [
             0.6666666666666666,
             "#ed7953"
            ],
            [
             0.7777777777777778,
             "#fb9f3a"
            ],
            [
             0.8888888888888888,
             "#fdca26"
            ],
            [
             1,
             "#f0f921"
            ]
           ],
           "sequentialminus": [
            [
             0,
             "#0d0887"
            ],
            [
             0.1111111111111111,
             "#46039f"
            ],
            [
             0.2222222222222222,
             "#7201a8"
            ],
            [
             0.3333333333333333,
             "#9c179e"
            ],
            [
             0.4444444444444444,
             "#bd3786"
            ],
            [
             0.5555555555555556,
             "#d8576b"
            ],
            [
             0.6666666666666666,
             "#ed7953"
            ],
            [
             0.7777777777777778,
             "#fb9f3a"
            ],
            [
             0.8888888888888888,
             "#fdca26"
            ],
            [
             1,
             "#f0f921"
            ]
           ]
          },
          "colorway": [
           "#636efa",
           "#EF553B",
           "#00cc96",
           "#ab63fa",
           "#FFA15A",
           "#19d3f3",
           "#FF6692",
           "#B6E880",
           "#FF97FF",
           "#FECB52"
          ],
          "font": {
           "color": "#2a3f5f"
          },
          "geo": {
           "bgcolor": "white",
           "lakecolor": "white",
           "landcolor": "#E5ECF6",
           "showlakes": true,
           "showland": true,
           "subunitcolor": "white"
          },
          "hoverlabel": {
           "align": "left"
          },
          "hovermode": "closest",
          "mapbox": {
           "style": "light"
          },
          "paper_bgcolor": "white",
          "plot_bgcolor": "#E5ECF6",
          "polar": {
           "angularaxis": {
            "gridcolor": "white",
            "linecolor": "white",
            "ticks": ""
           },
           "bgcolor": "#E5ECF6",
           "radialaxis": {
            "gridcolor": "white",
            "linecolor": "white",
            "ticks": ""
           }
          },
          "scene": {
           "xaxis": {
            "backgroundcolor": "#E5ECF6",
            "gridcolor": "white",
            "gridwidth": 2,
            "linecolor": "white",
            "showbackground": true,
            "ticks": "",
            "zerolinecolor": "white"
           },
           "yaxis": {
            "backgroundcolor": "#E5ECF6",
            "gridcolor": "white",
            "gridwidth": 2,
            "linecolor": "white",
            "showbackground": true,
            "ticks": "",
            "zerolinecolor": "white"
           },
           "zaxis": {
            "backgroundcolor": "#E5ECF6",
            "gridcolor": "white",
            "gridwidth": 2,
            "linecolor": "white",
            "showbackground": true,
            "ticks": "",
            "zerolinecolor": "white"
           }
          },
          "shapedefaults": {
           "line": {
            "color": "#2a3f5f"
           }
          },
          "ternary": {
           "aaxis": {
            "gridcolor": "white",
            "linecolor": "white",
            "ticks": ""
           },
           "baxis": {
            "gridcolor": "white",
            "linecolor": "white",
            "ticks": ""
           },
           "bgcolor": "#E5ECF6",
           "caxis": {
            "gridcolor": "white",
            "linecolor": "white",
            "ticks": ""
           }
          },
          "title": {
           "x": 0.05
          },
          "xaxis": {
           "automargin": true,
           "gridcolor": "white",
           "linecolor": "white",
           "ticks": "",
           "title": {
            "standoff": 15
           },
           "zerolinecolor": "white",
           "zerolinewidth": 2
          },
          "yaxis": {
           "automargin": true,
           "gridcolor": "white",
           "linecolor": "white",
           "ticks": "",
           "title": {
            "standoff": 15
           },
           "zerolinecolor": "white",
           "zerolinewidth": 2
          }
         }
        },
        "title": {
         "text": "Daily sales (dollars)"
        },
        "xaxis": {
         "title": {
          "text": "Date"
         }
        },
        "yaxis": {
         "title": {
          "text": "Sales (dollars)"
         }
        }
       }
      },
      "text/html": [
       "<div>                            <div id=\"5adab81f-b7a1-47a4-b5de-dd942e1e54ff\" class=\"plotly-graph-div\" style=\"height:525px; width:100%;\"></div>            <script type=\"text/javascript\">                require([\"plotly\"], function(Plotly) {                    window.PLOTLYENV=window.PLOTLYENV || {};                                    if (document.getElementById(\"5adab81f-b7a1-47a4-b5de-dd942e1e54ff\")) {                    Plotly.newPlot(                        \"5adab81f-b7a1-47a4-b5de-dd942e1e54ff\",                        [{\"type\": \"scatter\", \"x\": [\"2012-01-03T00:00:00\", \"2012-01-04T00:00:00\", \"2012-01-05T00:00:00\", \"2012-01-09T00:00:00\", \"2012-01-10T00:00:00\", \"2012-01-11T00:00:00\", \"2012-01-12T00:00:00\", \"2012-01-16T00:00:00\", \"2012-01-17T00:00:00\", \"2012-01-18T00:00:00\", \"2012-01-19T00:00:00\", \"2012-01-23T00:00:00\", \"2012-01-24T00:00:00\", \"2012-01-25T00:00:00\", \"2012-01-26T00:00:00\", \"2012-01-27T00:00:00\", \"2012-01-30T00:00:00\", \"2012-01-31T00:00:00\", \"2012-02-01T00:00:00\", \"2012-02-02T00:00:00\", \"2012-02-06T00:00:00\", \"2012-02-07T00:00:00\", \"2012-02-08T00:00:00\", \"2012-02-09T00:00:00\", \"2012-02-13T00:00:00\", \"2012-02-14T00:00:00\", \"2012-02-15T00:00:00\", \"2012-02-16T00:00:00\", \"2012-02-20T00:00:00\", \"2012-02-21T00:00:00\", \"2012-02-22T00:00:00\", \"2012-02-23T00:00:00\", \"2012-02-27T00:00:00\", \"2012-02-28T00:00:00\", \"2012-02-29T00:00:00\", \"2012-03-01T00:00:00\", \"2012-03-05T00:00:00\", \"2012-03-06T00:00:00\", \"2012-03-07T00:00:00\", \"2012-03-08T00:00:00\", \"2012-03-09T00:00:00\", \"2012-03-12T00:00:00\", \"2012-03-13T00:00:00\", \"2012-03-14T00:00:00\", \"2012-03-15T00:00:00\", \"2012-03-16T00:00:00\", \"2012-03-19T00:00:00\", \"2012-03-20T00:00:00\", \"2012-03-21T00:00:00\", \"2012-03-22T00:00:00\", \"2012-03-26T00:00:00\", \"2012-03-27T00:00:00\", \"2012-03-28T00:00:00\", \"2012-03-29T00:00:00\", \"2012-04-02T00:00:00\", \"2012-04-03T00:00:00\", \"2012-04-04T00:00:00\", \"2012-04-05T00:00:00\", \"2012-04-09T00:00:00\", \"2012-04-10T00:00:00\", \"2012-04-11T00:00:00\", \"2012-04-12T00:00:00\", \"2012-04-16T00:00:00\", \"2012-04-17T00:00:00\", \"2012-04-18T00:00:00\", \"2012-04-19T00:00:00\", \"2012-04-23T00:00:00\", \"2012-04-24T00:00:00\", \"2012-04-25T00:00:00\", \"2012-04-26T00:00:00\", \"2012-04-27T00:00:00\", \"2012-04-30T00:00:00\", \"2012-05-01T00:00:00\", \"2012-05-02T00:00:00\", \"2012-05-03T00:00:00\", \"2012-05-07T00:00:00\", \"2012-05-08T00:00:00\", \"2012-05-09T00:00:00\", \"2012-05-10T00:00:00\", \"2012-05-11T00:00:00\", \"2012-05-14T00:00:00\", \"2012-05-15T00:00:00\", \"2012-05-16T00:00:00\", \"2012-05-17T00:00:00\", \"2012-05-21T00:00:00\", \"2012-05-22T00:00:00\", \"2012-05-23T00:00:00\", \"2012-05-24T00:00:00\", \"2012-05-25T00:00:00\", \"2012-05-29T00:00:00\", \"2012-05-30T00:00:00\", \"2012-05-31T00:00:00\", \"2012-06-01T00:00:00\", \"2012-06-04T00:00:00\", \"2012-06-05T00:00:00\", \"2012-06-06T00:00:00\", \"2012-06-07T00:00:00\", \"2012-06-11T00:00:00\", \"2012-06-12T00:00:00\", \"2012-06-13T00:00:00\", \"2012-06-14T00:00:00\", \"2012-06-18T00:00:00\", \"2012-06-19T00:00:00\", \"2012-06-20T00:00:00\", \"2012-06-21T00:00:00\", \"2012-06-22T00:00:00\", \"2012-06-25T00:00:00\", \"2012-06-26T00:00:00\", \"2012-06-27T00:00:00\", \"2012-06-28T00:00:00\", \"2012-06-29T00:00:00\", \"2012-07-02T00:00:00\", \"2012-07-03T00:00:00\", \"2012-07-05T00:00:00\", \"2012-07-06T00:00:00\", \"2012-07-09T00:00:00\", \"2012-07-10T00:00:00\", \"2012-07-11T00:00:00\", \"2012-07-12T00:00:00\", \"2012-07-16T00:00:00\", \"2012-07-17T00:00:00\", \"2012-07-18T00:00:00\", \"2012-07-19T00:00:00\", \"2012-07-20T00:00:00\", \"2012-07-23T00:00:00\", \"2012-07-24T00:00:00\", \"2012-07-25T00:00:00\", \"2012-07-26T00:00:00\", \"2012-07-27T00:00:00\", \"2012-07-30T00:00:00\", \"2012-07-31T00:00:00\", \"2012-08-01T00:00:00\", \"2012-08-02T00:00:00\", \"2012-08-03T00:00:00\", \"2012-08-06T00:00:00\", \"2012-08-07T00:00:00\", \"2012-08-08T00:00:00\", \"2012-08-09T00:00:00\", \"2012-08-13T00:00:00\", \"2012-08-14T00:00:00\", \"2012-08-15T00:00:00\", \"2012-08-16T00:00:00\", \"2012-08-20T00:00:00\", \"2012-08-21T00:00:00\", \"2012-08-22T00:00:00\", \"2012-08-23T00:00:00\", \"2012-08-27T00:00:00\", \"2012-08-28T00:00:00\", \"2012-08-29T00:00:00\", \"2012-08-30T00:00:00\", \"2012-08-31T00:00:00\", \"2012-09-04T00:00:00\", \"2012-09-05T00:00:00\", \"2012-09-06T00:00:00\", \"2012-09-07T00:00:00\", \"2012-09-10T00:00:00\", \"2012-09-11T00:00:00\", \"2012-09-12T00:00:00\", \"2012-09-13T00:00:00\", \"2012-09-14T00:00:00\", \"2012-09-17T00:00:00\", \"2012-09-18T00:00:00\", \"2012-09-19T00:00:00\", \"2012-09-20T00:00:00\", \"2012-09-21T00:00:00\", \"2012-09-24T00:00:00\", \"2012-09-25T00:00:00\", \"2012-09-26T00:00:00\", \"2012-09-27T00:00:00\", \"2012-10-01T00:00:00\", \"2012-10-02T00:00:00\", \"2012-10-03T00:00:00\", \"2012-10-04T00:00:00\", \"2012-10-05T00:00:00\", \"2012-10-08T00:00:00\", \"2012-10-09T00:00:00\", \"2012-10-10T00:00:00\", \"2012-10-11T00:00:00\", \"2012-10-12T00:00:00\", \"2012-10-15T00:00:00\", \"2012-10-16T00:00:00\", \"2012-10-17T00:00:00\", \"2012-10-18T00:00:00\", \"2012-10-19T00:00:00\", \"2012-10-22T00:00:00\", \"2012-10-23T00:00:00\", \"2012-10-24T00:00:00\", \"2012-10-25T00:00:00\", \"2012-10-26T00:00:00\", \"2012-10-29T00:00:00\", \"2012-10-30T00:00:00\", \"2012-10-31T00:00:00\", \"2012-11-01T00:00:00\", \"2012-11-02T00:00:00\", \"2012-11-05T00:00:00\", \"2012-11-06T00:00:00\", \"2012-11-07T00:00:00\", \"2012-11-08T00:00:00\", \"2012-11-12T00:00:00\", \"2012-11-13T00:00:00\", \"2012-11-14T00:00:00\", \"2012-11-15T00:00:00\", \"2012-11-16T00:00:00\", \"2012-11-17T00:00:00\", \"2012-11-19T00:00:00\", \"2012-11-20T00:00:00\", \"2012-11-21T00:00:00\", \"2012-11-26T00:00:00\", \"2012-11-27T00:00:00\", \"2012-11-28T00:00:00\", \"2012-11-29T00:00:00\", \"2012-12-03T00:00:00\", \"2012-12-04T00:00:00\", \"2012-12-05T00:00:00\", \"2012-12-06T00:00:00\", \"2012-12-10T00:00:00\", \"2012-12-11T00:00:00\", \"2012-12-12T00:00:00\", \"2012-12-13T00:00:00\", \"2012-12-14T00:00:00\", \"2012-12-17T00:00:00\", \"2012-12-18T00:00:00\", \"2012-12-19T00:00:00\", \"2012-12-20T00:00:00\", \"2012-12-21T00:00:00\", \"2012-12-24T00:00:00\", \"2012-12-26T00:00:00\", \"2012-12-27T00:00:00\", \"2012-12-28T00:00:00\", \"2012-12-31T00:00:00\", \"2013-01-02T00:00:00\", \"2013-01-03T00:00:00\", \"2013-01-07T00:00:00\", \"2013-01-08T00:00:00\", \"2013-01-09T00:00:00\", \"2013-01-10T00:00:00\", \"2013-01-14T00:00:00\", \"2013-01-15T00:00:00\", \"2013-01-16T00:00:00\", \"2013-01-17T00:00:00\", \"2013-01-21T00:00:00\", \"2013-01-22T00:00:00\", \"2013-01-23T00:00:00\", \"2013-01-24T00:00:00\", \"2013-01-25T00:00:00\", \"2013-01-28T00:00:00\", \"2013-01-29T00:00:00\", \"2013-01-30T00:00:00\", \"2013-01-31T00:00:00\", \"2013-02-04T00:00:00\", \"2013-02-05T00:00:00\", \"2013-02-06T00:00:00\", \"2013-02-07T00:00:00\", \"2013-02-08T00:00:00\", \"2013-02-11T00:00:00\", \"2013-02-12T00:00:00\", \"2013-02-13T00:00:00\", \"2013-02-14T00:00:00\", \"2013-02-18T00:00:00\", \"2013-02-19T00:00:00\", \"2013-02-20T00:00:00\", \"2013-02-21T00:00:00\", \"2013-02-22T00:00:00\", \"2013-02-25T00:00:00\", \"2013-02-26T00:00:00\", \"2013-02-27T00:00:00\", \"2013-02-28T00:00:00\", \"2013-03-04T00:00:00\", \"2013-03-05T00:00:00\", \"2013-03-06T00:00:00\", \"2013-03-07T00:00:00\", \"2013-03-11T00:00:00\", \"2013-03-12T00:00:00\", \"2013-03-13T00:00:00\", \"2013-03-14T00:00:00\", \"2013-03-15T00:00:00\", \"2013-03-18T00:00:00\", \"2013-03-19T00:00:00\", \"2013-03-20T00:00:00\", \"2013-03-21T00:00:00\", \"2013-03-25T00:00:00\", \"2013-03-26T00:00:00\", \"2013-03-27T00:00:00\", \"2013-03-28T00:00:00\", \"2013-04-01T00:00:00\", \"2013-04-02T00:00:00\", \"2013-04-03T00:00:00\", \"2013-04-04T00:00:00\", \"2013-04-08T00:00:00\", \"2013-04-09T00:00:00\", \"2013-04-10T00:00:00\", \"2013-04-11T00:00:00\", \"2013-04-15T00:00:00\", \"2013-04-16T00:00:00\", \"2013-04-17T00:00:00\", \"2013-04-18T00:00:00\", \"2013-04-19T00:00:00\", \"2013-04-22T00:00:00\", \"2013-04-23T00:00:00\", \"2013-04-24T00:00:00\", \"2013-04-25T00:00:00\", \"2013-04-29T00:00:00\", \"2013-04-30T00:00:00\", \"2013-05-01T00:00:00\", \"2013-05-02T00:00:00\", \"2013-05-03T00:00:00\", \"2013-05-06T00:00:00\", \"2013-05-07T00:00:00\", \"2013-05-08T00:00:00\", \"2013-05-09T00:00:00\", \"2013-05-10T00:00:00\", \"2013-05-13T00:00:00\", \"2013-05-14T00:00:00\", \"2013-05-15T00:00:00\", \"2013-05-16T00:00:00\", \"2013-05-20T00:00:00\", \"2013-05-21T00:00:00\", \"2013-05-22T00:00:00\", \"2013-05-23T00:00:00\", \"2013-05-24T00:00:00\", \"2013-05-28T00:00:00\", \"2013-05-29T00:00:00\", \"2013-05-30T00:00:00\", \"2013-05-31T00:00:00\", \"2013-06-03T00:00:00\", \"2013-06-04T00:00:00\", \"2013-06-05T00:00:00\", \"2013-06-06T00:00:00\", \"2013-06-07T00:00:00\", \"2013-06-10T00:00:00\", \"2013-06-11T00:00:00\", \"2013-06-12T00:00:00\", \"2013-06-13T00:00:00\", \"2013-06-14T00:00:00\", \"2013-06-15T00:00:00\", \"2013-06-17T00:00:00\", \"2013-06-18T00:00:00\", \"2013-06-21T00:00:00\", \"2013-06-22T00:00:00\", \"2013-06-24T00:00:00\", \"2013-06-25T00:00:00\", \"2013-06-26T00:00:00\", \"2013-06-27T00:00:00\", \"2013-06-28T00:00:00\", \"2013-07-01T00:00:00\", \"2013-07-02T00:00:00\", \"2013-07-03T00:00:00\", \"2013-07-04T00:00:00\", \"2013-07-08T00:00:00\", \"2013-07-09T00:00:00\", \"2013-07-10T00:00:00\", \"2013-07-11T00:00:00\", \"2013-07-15T00:00:00\", \"2013-07-16T00:00:00\", \"2013-07-17T00:00:00\", \"2013-07-18T00:00:00\", \"2013-07-19T00:00:00\", \"2013-07-22T00:00:00\", \"2013-07-23T00:00:00\", \"2013-07-24T00:00:00\", \"2013-07-25T00:00:00\", \"2013-07-29T00:00:00\", \"2013-07-30T00:00:00\", \"2013-07-31T00:00:00\", \"2013-08-01T00:00:00\", \"2013-08-02T00:00:00\", \"2013-08-05T00:00:00\", \"2013-08-06T00:00:00\", \"2013-08-07T00:00:00\", \"2013-08-08T00:00:00\", \"2013-08-12T00:00:00\", \"2013-08-13T00:00:00\", \"2013-08-14T00:00:00\", \"2013-08-15T00:00:00\", \"2013-08-16T00:00:00\", \"2013-08-19T00:00:00\", \"2013-08-20T00:00:00\", \"2013-08-21T00:00:00\", \"2013-08-22T00:00:00\", \"2013-08-26T00:00:00\", \"2013-08-27T00:00:00\", \"2013-08-28T00:00:00\", \"2013-08-29T00:00:00\", \"2013-08-30T00:00:00\", \"2013-09-03T00:00:00\", \"2013-09-04T00:00:00\", \"2013-09-05T00:00:00\", \"2013-09-06T00:00:00\", \"2013-09-09T00:00:00\", \"2013-09-10T00:00:00\", \"2013-09-11T00:00:00\", \"2013-09-12T00:00:00\", \"2013-09-16T00:00:00\", \"2013-09-17T00:00:00\", \"2013-09-18T00:00:00\", \"2013-09-19T00:00:00\", \"2013-09-20T00:00:00\", \"2013-09-23T00:00:00\", \"2013-09-24T00:00:00\", \"2013-09-25T00:00:00\", \"2013-09-26T00:00:00\", \"2013-09-30T00:00:00\", \"2013-10-01T00:00:00\", \"2013-10-02T00:00:00\", \"2013-10-03T00:00:00\", \"2013-10-04T00:00:00\", \"2013-10-07T00:00:00\", \"2013-10-08T00:00:00\", \"2013-10-09T00:00:00\", \"2013-10-10T00:00:00\", \"2013-10-11T00:00:00\", \"2013-10-14T00:00:00\", \"2013-10-15T00:00:00\", \"2013-10-16T00:00:00\", \"2013-10-17T00:00:00\", \"2013-10-21T00:00:00\", \"2013-10-22T00:00:00\", \"2013-10-23T00:00:00\", \"2013-10-24T00:00:00\", \"2013-10-25T00:00:00\", \"2013-10-28T00:00:00\", \"2013-10-29T00:00:00\", \"2013-10-30T00:00:00\", \"2013-10-31T00:00:00\", \"2013-11-01T00:00:00\", \"2013-11-04T00:00:00\", \"2013-11-05T00:00:00\", \"2013-11-06T00:00:00\", \"2013-11-07T00:00:00\", \"2013-11-08T00:00:00\", \"2013-11-11T00:00:00\", \"2013-11-12T00:00:00\", \"2013-11-13T00:00:00\", \"2013-11-14T00:00:00\", \"2013-11-15T00:00:00\", \"2013-11-18T00:00:00\", \"2013-11-19T00:00:00\", \"2013-11-20T00:00:00\", \"2013-11-21T00:00:00\", \"2013-11-22T00:00:00\", \"2013-11-23T00:00:00\", \"2013-11-25T00:00:00\", \"2013-11-26T00:00:00\", \"2013-11-27T00:00:00\", \"2013-12-02T00:00:00\", \"2013-12-03T00:00:00\", \"2013-12-04T00:00:00\", \"2013-12-05T00:00:00\", \"2013-12-06T00:00:00\", \"2013-12-09T00:00:00\", \"2013-12-10T00:00:00\", \"2013-12-11T00:00:00\", \"2013-12-12T00:00:00\", \"2013-12-13T00:00:00\", \"2013-12-16T00:00:00\", \"2013-12-17T00:00:00\", \"2013-12-18T00:00:00\", \"2013-12-19T00:00:00\", \"2013-12-20T00:00:00\", \"2013-12-21T00:00:00\", \"2013-12-23T00:00:00\", \"2013-12-24T00:00:00\", \"2013-12-26T00:00:00\", \"2013-12-27T00:00:00\", \"2013-12-28T00:00:00\", \"2013-12-30T00:00:00\", \"2013-12-31T00:00:00\", \"2014-01-02T00:00:00\", \"2014-01-06T00:00:00\", \"2014-01-07T00:00:00\", \"2014-01-08T00:00:00\", \"2014-01-09T00:00:00\", \"2014-01-13T00:00:00\", \"2014-01-14T00:00:00\", \"2014-01-15T00:00:00\", \"2014-01-16T00:00:00\", \"2014-01-17T00:00:00\", \"2014-01-20T00:00:00\", \"2014-01-21T00:00:00\", \"2014-01-22T00:00:00\", \"2014-01-23T00:00:00\", \"2014-01-27T00:00:00\", \"2014-01-28T00:00:00\", \"2014-01-29T00:00:00\", \"2014-01-30T00:00:00\", \"2014-01-31T00:00:00\", \"2014-02-03T00:00:00\", \"2014-02-04T00:00:00\", \"2014-02-05T00:00:00\", \"2014-02-06T00:00:00\", \"2014-02-10T00:00:00\", \"2014-02-11T00:00:00\", \"2014-02-12T00:00:00\", \"2014-02-13T00:00:00\", \"2014-02-17T00:00:00\", \"2014-02-18T00:00:00\", \"2014-02-19T00:00:00\", \"2014-02-20T00:00:00\", \"2014-02-24T00:00:00\", \"2014-02-25T00:00:00\", \"2014-02-26T00:00:00\", \"2014-02-27T00:00:00\", \"2014-03-03T00:00:00\", \"2014-03-04T00:00:00\", \"2014-03-05T00:00:00\", \"2014-03-06T00:00:00\", \"2014-03-10T00:00:00\", \"2014-03-11T00:00:00\", \"2014-03-12T00:00:00\", \"2014-03-13T00:00:00\", \"2014-03-14T00:00:00\", \"2014-03-17T00:00:00\", \"2014-03-18T00:00:00\", \"2014-03-19T00:00:00\", \"2014-03-20T00:00:00\", \"2014-03-24T00:00:00\", \"2014-03-25T00:00:00\", \"2014-03-26T00:00:00\", \"2014-03-27T00:00:00\", \"2014-03-31T00:00:00\", \"2014-04-01T00:00:00\", \"2014-04-02T00:00:00\", \"2014-04-03T00:00:00\", \"2014-04-07T00:00:00\", \"2014-04-08T00:00:00\", \"2014-04-09T00:00:00\", \"2014-04-10T00:00:00\", \"2014-04-11T00:00:00\", \"2014-04-14T00:00:00\", \"2014-04-15T00:00:00\", \"2014-04-16T00:00:00\", \"2014-04-17T00:00:00\", \"2014-04-21T00:00:00\", \"2014-04-22T00:00:00\", \"2014-04-23T00:00:00\", \"2014-04-24T00:00:00\", \"2014-04-28T00:00:00\", \"2014-04-29T00:00:00\", \"2014-04-30T00:00:00\", \"2014-05-01T00:00:00\", \"2014-05-02T00:00:00\", \"2014-05-05T00:00:00\", \"2014-05-06T00:00:00\", \"2014-05-07T00:00:00\", \"2014-05-08T00:00:00\", \"2014-05-12T00:00:00\", \"2014-05-13T00:00:00\", \"2014-05-14T00:00:00\", \"2014-05-15T00:00:00\", \"2014-05-19T00:00:00\", \"2014-05-20T00:00:00\", \"2014-05-21T00:00:00\", \"2014-05-22T00:00:00\", \"2014-05-23T00:00:00\", \"2014-05-27T00:00:00\", \"2014-05-28T00:00:00\", \"2014-05-29T00:00:00\", \"2014-06-02T00:00:00\", \"2014-06-03T00:00:00\", \"2014-06-04T00:00:00\", \"2014-06-05T00:00:00\", \"2014-06-09T00:00:00\", \"2014-06-10T00:00:00\", \"2014-06-11T00:00:00\", \"2014-06-12T00:00:00\", \"2014-06-16T00:00:00\", \"2014-06-17T00:00:00\", \"2014-06-18T00:00:00\", \"2014-06-19T00:00:00\", \"2014-06-23T00:00:00\", \"2014-06-24T00:00:00\", \"2014-06-25T00:00:00\", \"2014-06-26T00:00:00\", \"2014-06-27T00:00:00\", \"2014-06-30T00:00:00\", \"2014-07-01T00:00:00\", \"2014-07-02T00:00:00\", \"2014-07-03T00:00:00\", \"2014-07-07T00:00:00\", \"2014-07-08T00:00:00\", \"2014-07-09T00:00:00\", \"2014-07-10T00:00:00\", \"2014-07-14T00:00:00\", \"2014-07-15T00:00:00\", \"2014-07-16T00:00:00\", \"2014-07-17T00:00:00\", \"2014-07-21T00:00:00\", \"2014-07-22T00:00:00\", \"2014-07-23T00:00:00\", \"2014-07-24T00:00:00\", \"2014-07-28T00:00:00\", \"2014-07-29T00:00:00\", \"2014-07-30T00:00:00\", \"2014-07-31T00:00:00\", \"2014-08-04T00:00:00\", \"2014-08-05T00:00:00\", \"2014-08-06T00:00:00\", \"2014-08-07T00:00:00\", \"2014-08-11T00:00:00\", \"2014-08-12T00:00:00\", \"2014-08-13T00:00:00\", \"2014-08-14T00:00:00\", \"2014-08-18T00:00:00\", \"2014-08-19T00:00:00\", \"2014-08-20T00:00:00\", \"2014-08-21T00:00:00\", \"2014-08-25T00:00:00\", \"2014-08-26T00:00:00\", \"2014-08-27T00:00:00\", \"2014-08-28T00:00:00\", \"2014-08-29T00:00:00\", \"2014-09-02T00:00:00\", \"2014-09-03T00:00:00\", \"2014-09-04T00:00:00\", \"2014-09-08T00:00:00\", \"2014-09-09T00:00:00\", \"2014-09-10T00:00:00\", \"2014-09-11T00:00:00\", \"2014-09-15T00:00:00\", \"2014-09-16T00:00:00\", \"2014-09-17T00:00:00\", \"2014-09-18T00:00:00\", \"2014-09-22T00:00:00\", \"2014-09-23T00:00:00\", \"2014-09-24T00:00:00\", \"2014-09-25T00:00:00\", \"2014-09-29T00:00:00\", \"2014-09-30T00:00:00\", \"2014-10-01T00:00:00\", \"2014-10-02T00:00:00\", \"2014-10-03T00:00:00\", \"2014-10-06T00:00:00\", \"2014-10-07T00:00:00\", \"2014-10-08T00:00:00\", \"2014-10-09T00:00:00\", \"2014-10-10T00:00:00\", \"2014-10-13T00:00:00\", \"2014-10-14T00:00:00\", \"2014-10-15T00:00:00\", \"2014-10-16T00:00:00\", \"2014-10-20T00:00:00\", \"2014-10-21T00:00:00\", \"2014-10-22T00:00:00\", \"2014-10-23T00:00:00\", \"2014-10-24T00:00:00\", \"2014-10-27T00:00:00\", \"2014-10-28T00:00:00\", \"2014-10-29T00:00:00\", \"2014-10-30T00:00:00\", \"2014-11-03T00:00:00\", \"2014-11-04T00:00:00\", \"2014-11-05T00:00:00\", \"2014-11-06T00:00:00\", \"2014-11-07T00:00:00\", \"2014-11-10T00:00:00\", \"2014-11-12T00:00:00\", \"2014-11-13T00:00:00\", \"2014-11-17T00:00:00\", \"2014-11-18T00:00:00\", \"2014-11-19T00:00:00\", \"2014-11-20T00:00:00\", \"2014-11-21T00:00:00\", \"2014-11-22T00:00:00\", \"2014-11-24T00:00:00\", \"2014-11-25T00:00:00\", \"2014-11-26T00:00:00\", \"2014-12-01T00:00:00\", \"2014-12-02T00:00:00\", \"2014-12-03T00:00:00\", \"2014-12-04T00:00:00\", \"2014-12-08T00:00:00\", \"2014-12-09T00:00:00\", \"2014-12-10T00:00:00\", \"2014-12-11T00:00:00\", \"2014-12-12T00:00:00\", \"2014-12-15T00:00:00\", \"2014-12-16T00:00:00\", \"2014-12-17T00:00:00\", \"2014-12-18T00:00:00\", \"2014-12-19T00:00:00\", \"2014-12-20T00:00:00\", \"2014-12-22T00:00:00\", \"2014-12-23T00:00:00\", \"2014-12-24T00:00:00\", \"2014-12-26T00:00:00\", \"2014-12-27T00:00:00\", \"2014-12-29T00:00:00\", \"2014-12-30T00:00:00\", \"2014-12-31T00:00:00\", \"2015-01-05T00:00:00\", \"2015-01-06T00:00:00\", \"2015-01-07T00:00:00\", \"2015-01-08T00:00:00\", \"2015-01-12T00:00:00\", \"2015-01-13T00:00:00\", \"2015-01-14T00:00:00\", \"2015-01-15T00:00:00\", \"2015-01-16T00:00:00\", \"2015-01-20T00:00:00\", \"2015-01-21T00:00:00\", \"2015-01-22T00:00:00\", \"2015-01-23T00:00:00\", \"2015-01-26T00:00:00\", \"2015-01-27T00:00:00\", \"2015-01-28T00:00:00\", \"2015-01-29T00:00:00\", \"2015-02-02T00:00:00\", \"2015-02-03T00:00:00\", \"2015-02-04T00:00:00\", \"2015-02-05T00:00:00\", \"2015-02-06T00:00:00\", \"2015-02-09T00:00:00\", \"2015-02-10T00:00:00\", \"2015-02-11T00:00:00\", \"2015-02-12T00:00:00\", \"2015-02-16T00:00:00\", \"2015-02-17T00:00:00\", \"2015-02-18T00:00:00\", \"2015-02-19T00:00:00\", \"2015-02-23T00:00:00\", \"2015-02-24T00:00:00\", \"2015-02-25T00:00:00\", \"2015-02-26T00:00:00\", \"2015-03-02T00:00:00\", \"2015-03-03T00:00:00\", \"2015-03-04T00:00:00\", \"2015-03-05T00:00:00\", \"2015-03-06T00:00:00\", \"2015-03-09T00:00:00\", \"2015-03-10T00:00:00\", \"2015-03-11T00:00:00\", \"2015-03-12T00:00:00\", \"2015-03-16T00:00:00\", \"2015-03-17T00:00:00\", \"2015-03-18T00:00:00\", \"2015-03-19T00:00:00\", \"2015-03-23T00:00:00\", \"2015-03-24T00:00:00\", \"2015-03-25T00:00:00\", \"2015-03-26T00:00:00\", \"2015-03-30T00:00:00\", \"2015-03-31T00:00:00\", \"2015-04-01T00:00:00\", \"2015-04-02T00:00:00\", \"2015-04-06T00:00:00\", \"2015-04-07T00:00:00\", \"2015-04-08T00:00:00\", \"2015-04-09T00:00:00\", \"2015-04-13T00:00:00\", \"2015-04-14T00:00:00\", \"2015-04-15T00:00:00\", \"2015-04-16T00:00:00\", \"2015-04-20T00:00:00\", \"2015-04-21T00:00:00\", \"2015-04-22T00:00:00\", \"2015-04-23T00:00:00\", \"2015-04-27T00:00:00\", \"2015-04-28T00:00:00\", \"2015-04-29T00:00:00\", \"2015-04-30T00:00:00\", \"2015-05-01T00:00:00\", \"2015-05-04T00:00:00\", \"2015-05-05T00:00:00\", \"2015-05-06T00:00:00\", \"2015-05-07T00:00:00\", \"2015-05-11T00:00:00\", \"2015-05-12T00:00:00\", \"2015-05-13T00:00:00\", \"2015-05-14T00:00:00\", \"2015-05-18T00:00:00\", \"2015-05-19T00:00:00\", \"2015-05-20T00:00:00\", \"2015-05-21T00:00:00\", \"2015-05-22T00:00:00\", \"2015-05-26T00:00:00\", \"2015-05-27T00:00:00\", \"2015-05-28T00:00:00\", \"2015-05-29T00:00:00\", \"2015-06-01T00:00:00\", \"2015-06-02T00:00:00\", \"2015-06-03T00:00:00\", \"2015-06-04T00:00:00\", \"2015-06-05T00:00:00\", \"2015-06-08T00:00:00\", \"2015-06-09T00:00:00\", \"2015-06-10T00:00:00\", \"2015-06-11T00:00:00\", \"2015-06-12T00:00:00\", \"2015-06-15T00:00:00\", \"2015-06-16T00:00:00\", \"2015-06-17T00:00:00\", \"2015-06-18T00:00:00\", \"2015-06-19T00:00:00\", \"2015-06-22T00:00:00\", \"2015-06-23T00:00:00\", \"2015-06-24T00:00:00\", \"2015-06-25T00:00:00\", \"2015-06-26T00:00:00\", \"2015-06-29T00:00:00\", \"2015-06-30T00:00:00\", \"2015-07-01T00:00:00\", \"2015-07-02T00:00:00\", \"2015-07-06T00:00:00\", \"2015-07-07T00:00:00\", \"2015-07-08T00:00:00\", \"2015-07-09T00:00:00\", \"2015-07-13T00:00:00\", \"2015-07-14T00:00:00\", \"2015-07-15T00:00:00\", \"2015-07-16T00:00:00\", \"2015-07-20T00:00:00\", \"2015-07-21T00:00:00\", \"2015-07-22T00:00:00\", \"2015-07-23T00:00:00\", \"2015-07-27T00:00:00\", \"2015-07-28T00:00:00\", \"2015-07-29T00:00:00\", \"2015-07-30T00:00:00\", \"2015-07-31T00:00:00\", \"2015-08-03T00:00:00\", \"2015-08-04T00:00:00\", \"2015-08-05T00:00:00\", \"2015-08-06T00:00:00\", \"2015-08-07T00:00:00\", \"2015-08-10T00:00:00\", \"2015-08-11T00:00:00\", \"2015-08-12T00:00:00\", \"2015-08-13T00:00:00\", \"2015-08-17T00:00:00\", \"2015-08-18T00:00:00\", \"2015-08-19T00:00:00\", \"2015-08-20T00:00:00\", \"2015-08-24T00:00:00\", \"2015-08-25T00:00:00\", \"2015-08-26T00:00:00\", \"2015-08-27T00:00:00\", \"2015-08-31T00:00:00\", \"2015-09-01T00:00:00\", \"2015-09-02T00:00:00\", \"2015-09-03T00:00:00\", \"2015-09-04T00:00:00\", \"2015-09-08T00:00:00\", \"2015-09-09T00:00:00\", \"2015-09-10T00:00:00\", \"2015-09-14T00:00:00\", \"2015-09-15T00:00:00\", \"2015-09-16T00:00:00\", \"2015-09-17T00:00:00\", \"2015-09-18T00:00:00\", \"2015-09-21T00:00:00\", \"2015-09-22T00:00:00\", \"2015-09-23T00:00:00\", \"2015-09-24T00:00:00\", \"2015-09-25T00:00:00\", \"2015-09-28T00:00:00\", \"2015-09-29T00:00:00\", \"2015-09-30T00:00:00\", \"2015-10-01T00:00:00\", \"2015-10-02T00:00:00\", \"2015-10-05T00:00:00\", \"2015-10-06T00:00:00\", \"2015-10-07T00:00:00\", \"2015-10-08T00:00:00\", \"2015-10-12T00:00:00\", \"2015-10-13T00:00:00\", \"2015-10-14T00:00:00\", \"2015-10-15T00:00:00\", \"2015-10-19T00:00:00\", \"2015-10-20T00:00:00\", \"2015-10-21T00:00:00\", \"2015-10-22T00:00:00\", \"2015-10-26T00:00:00\", \"2015-10-27T00:00:00\", \"2015-10-28T00:00:00\", \"2015-10-29T00:00:00\", \"2015-10-30T00:00:00\", \"2015-11-02T00:00:00\", \"2015-11-03T00:00:00\", \"2015-11-04T00:00:00\", \"2015-11-05T00:00:00\", \"2015-11-09T00:00:00\", \"2015-11-10T00:00:00\", \"2015-11-11T00:00:00\", \"2015-11-12T00:00:00\", \"2015-11-16T00:00:00\", \"2015-11-17T00:00:00\", \"2015-11-18T00:00:00\", \"2015-11-19T00:00:00\", \"2015-11-20T00:00:00\", \"2015-11-21T00:00:00\", \"2015-11-23T00:00:00\", \"2015-11-24T00:00:00\", \"2015-11-25T00:00:00\", \"2015-11-30T00:00:00\", \"2015-12-01T00:00:00\", \"2015-12-02T00:00:00\", \"2015-12-03T00:00:00\", \"2015-12-04T00:00:00\", \"2015-12-07T00:00:00\", \"2015-12-08T00:00:00\", \"2015-12-09T00:00:00\", \"2015-12-10T00:00:00\", \"2015-12-14T00:00:00\", \"2015-12-15T00:00:00\", \"2015-12-16T00:00:00\", \"2015-12-17T00:00:00\", \"2015-12-18T00:00:00\", \"2015-12-21T00:00:00\", \"2015-12-22T00:00:00\", \"2015-12-23T00:00:00\", \"2015-12-24T00:00:00\", \"2015-12-26T00:00:00\", \"2015-12-28T00:00:00\", \"2015-12-29T00:00:00\", \"2015-12-30T00:00:00\", \"2015-12-31T00:00:00\", \"2016-01-04T00:00:00\", \"2016-01-05T00:00:00\", \"2016-01-06T00:00:00\", \"2016-01-07T00:00:00\", \"2016-01-11T00:00:00\", \"2016-01-12T00:00:00\", \"2016-01-13T00:00:00\", \"2016-01-14T00:00:00\", \"2016-01-15T00:00:00\", \"2016-01-19T00:00:00\", \"2016-01-20T00:00:00\", \"2016-01-21T00:00:00\", \"2016-01-25T00:00:00\", \"2016-01-26T00:00:00\", \"2016-01-27T00:00:00\", \"2016-01-28T00:00:00\", \"2016-02-01T00:00:00\", \"2016-02-02T00:00:00\", \"2016-02-03T00:00:00\", \"2016-02-04T00:00:00\", \"2016-02-08T00:00:00\", \"2016-02-09T00:00:00\", \"2016-02-10T00:00:00\", \"2016-02-11T00:00:00\", \"2016-02-12T00:00:00\", \"2016-02-15T00:00:00\", \"2016-02-16T00:00:00\", \"2016-02-17T00:00:00\", \"2016-02-18T00:00:00\", \"2016-02-19T00:00:00\", \"2016-02-22T00:00:00\", \"2016-02-23T00:00:00\", \"2016-02-24T00:00:00\", \"2016-02-25T00:00:00\", \"2016-02-29T00:00:00\", \"2016-03-01T00:00:00\", \"2016-03-02T00:00:00\", \"2016-03-03T00:00:00\", \"2016-03-04T00:00:00\", \"2016-03-07T00:00:00\", \"2016-03-08T00:00:00\", \"2016-03-09T00:00:00\", \"2016-03-10T00:00:00\", \"2016-03-11T00:00:00\", \"2016-03-14T00:00:00\", \"2016-03-15T00:00:00\", \"2016-03-16T00:00:00\", \"2016-03-17T00:00:00\", \"2016-03-21T00:00:00\", \"2016-03-22T00:00:00\", \"2016-03-23T00:00:00\", \"2016-03-24T00:00:00\", \"2016-03-25T00:00:00\", \"2016-03-28T00:00:00\", \"2016-03-29T00:00:00\", \"2016-03-30T00:00:00\", \"2016-03-31T00:00:00\", \"2016-04-04T00:00:00\", \"2016-04-05T00:00:00\", \"2016-04-06T00:00:00\", \"2016-04-07T00:00:00\", \"2016-04-11T00:00:00\", \"2016-04-12T00:00:00\", \"2016-04-13T00:00:00\", \"2016-04-14T00:00:00\", \"2016-04-15T00:00:00\", \"2016-04-18T00:00:00\", \"2016-04-19T00:00:00\", \"2016-04-20T00:00:00\", \"2016-04-21T00:00:00\", \"2016-04-25T00:00:00\", \"2016-04-26T00:00:00\", \"2016-04-27T00:00:00\", \"2016-04-28T00:00:00\", \"2016-04-29T00:00:00\", \"2016-05-02T00:00:00\", \"2016-05-03T00:00:00\", \"2016-05-04T00:00:00\", \"2016-05-05T00:00:00\", \"2016-05-06T00:00:00\", \"2016-05-09T00:00:00\", \"2016-05-10T00:00:00\", \"2016-05-11T00:00:00\", \"2016-05-12T00:00:00\", \"2016-05-13T00:00:00\", \"2016-05-16T00:00:00\", \"2016-05-17T00:00:00\", \"2016-05-18T00:00:00\", \"2016-05-19T00:00:00\", \"2016-05-20T00:00:00\", \"2016-05-23T00:00:00\", \"2016-05-24T00:00:00\", \"2016-05-25T00:00:00\", \"2016-05-26T00:00:00\", \"2016-05-27T00:00:00\", \"2016-05-31T00:00:00\", \"2016-06-01T00:00:00\", \"2016-06-02T00:00:00\", \"2016-06-03T00:00:00\", \"2016-06-06T00:00:00\", \"2016-06-07T00:00:00\", \"2016-06-08T00:00:00\", \"2016-06-09T00:00:00\", \"2016-06-10T00:00:00\", \"2016-06-13T00:00:00\", \"2016-06-14T00:00:00\", \"2016-06-15T00:00:00\", \"2016-06-16T00:00:00\", \"2016-06-20T00:00:00\", \"2016-06-21T00:00:00\", \"2016-06-22T00:00:00\", \"2016-06-23T00:00:00\", \"2016-06-24T00:00:00\", \"2016-06-27T00:00:00\", \"2016-06-28T00:00:00\", \"2016-06-29T00:00:00\", \"2016-06-30T00:00:00\", \"2016-07-01T00:00:00\", \"2016-07-05T00:00:00\", \"2016-07-06T00:00:00\", \"2016-07-07T00:00:00\", \"2016-07-08T00:00:00\", \"2016-07-11T00:00:00\", \"2016-07-12T00:00:00\", \"2016-07-13T00:00:00\", \"2016-07-14T00:00:00\", \"2016-07-15T00:00:00\", \"2016-07-18T00:00:00\", \"2016-07-19T00:00:00\", \"2016-07-20T00:00:00\", \"2016-07-21T00:00:00\", \"2016-07-22T00:00:00\", \"2016-07-25T00:00:00\", \"2016-07-26T00:00:00\", \"2016-07-27T00:00:00\", \"2016-07-28T00:00:00\", \"2016-07-29T00:00:00\", \"2016-08-01T00:00:00\", \"2016-08-02T00:00:00\", \"2016-08-03T00:00:00\", \"2016-08-04T00:00:00\", \"2016-08-05T00:00:00\", \"2016-08-08T00:00:00\", \"2016-08-09T00:00:00\", \"2016-08-10T00:00:00\", \"2016-08-11T00:00:00\", \"2016-08-12T00:00:00\", \"2016-08-15T00:00:00\", \"2016-08-16T00:00:00\", \"2016-08-17T00:00:00\", \"2016-08-18T00:00:00\", \"2016-08-19T00:00:00\", \"2016-08-22T00:00:00\", \"2016-08-23T00:00:00\", \"2016-08-24T00:00:00\", \"2016-08-25T00:00:00\", \"2016-08-26T00:00:00\", \"2016-08-29T00:00:00\", \"2016-08-30T00:00:00\", \"2016-08-31T00:00:00\", \"2016-09-01T00:00:00\", \"2016-09-02T00:00:00\", \"2016-09-03T00:00:00\", \"2016-09-06T00:00:00\", \"2016-09-07T00:00:00\", \"2016-09-08T00:00:00\", \"2016-09-09T00:00:00\", \"2016-09-12T00:00:00\", \"2016-09-13T00:00:00\", \"2016-09-14T00:00:00\", \"2016-09-15T00:00:00\", \"2016-09-16T00:00:00\", \"2016-09-19T00:00:00\", \"2016-09-20T00:00:00\", \"2016-09-21T00:00:00\", \"2016-09-22T00:00:00\", \"2016-09-23T00:00:00\", \"2016-09-26T00:00:00\", \"2016-09-27T00:00:00\", \"2016-09-28T00:00:00\", \"2016-09-29T00:00:00\", \"2016-09-30T00:00:00\", \"2016-10-03T00:00:00\", \"2016-10-04T00:00:00\", \"2016-10-05T00:00:00\", \"2016-10-06T00:00:00\", \"2016-10-07T00:00:00\", \"2016-10-10T00:00:00\", \"2016-10-11T00:00:00\", \"2016-10-12T00:00:00\", \"2016-10-13T00:00:00\", \"2016-10-14T00:00:00\", \"2016-10-17T00:00:00\", \"2016-10-18T00:00:00\", \"2016-10-19T00:00:00\", \"2016-10-20T00:00:00\", \"2016-10-21T00:00:00\", \"2016-10-24T00:00:00\", \"2016-10-25T00:00:00\", \"2016-10-26T00:00:00\", \"2016-10-27T00:00:00\", \"2016-10-28T00:00:00\", \"2016-10-31T00:00:00\", \"2016-11-01T00:00:00\", \"2016-11-02T00:00:00\", \"2016-11-03T00:00:00\", \"2016-11-04T00:00:00\", \"2016-11-05T00:00:00\", \"2016-11-07T00:00:00\", \"2016-11-08T00:00:00\", \"2016-11-09T00:00:00\", \"2016-11-10T00:00:00\", \"2016-11-11T00:00:00\", \"2016-11-14T00:00:00\", \"2016-11-15T00:00:00\", \"2016-11-16T00:00:00\", \"2016-11-17T00:00:00\", \"2016-11-18T00:00:00\", \"2016-11-21T00:00:00\", \"2016-11-22T00:00:00\", \"2016-11-23T00:00:00\", \"2016-11-28T00:00:00\", \"2016-11-29T00:00:00\", \"2016-11-30T00:00:00\", \"2016-12-01T00:00:00\", \"2016-12-02T00:00:00\", \"2016-12-05T00:00:00\", \"2016-12-06T00:00:00\", \"2016-12-07T00:00:00\", \"2016-12-08T00:00:00\", \"2016-12-09T00:00:00\", \"2016-12-12T00:00:00\", \"2016-12-13T00:00:00\", \"2016-12-14T00:00:00\", \"2016-12-15T00:00:00\", \"2016-12-16T00:00:00\", \"2016-12-19T00:00:00\", \"2016-12-20T00:00:00\", \"2016-12-21T00:00:00\", \"2016-12-22T00:00:00\", \"2016-12-23T00:00:00\", \"2016-12-26T00:00:00\", \"2016-12-27T00:00:00\", \"2016-12-28T00:00:00\", \"2016-12-29T00:00:00\", \"2016-12-30T00:00:00\", \"2017-01-03T00:00:00\", \"2017-01-04T00:00:00\", \"2017-01-05T00:00:00\", \"2017-01-06T00:00:00\", \"2017-01-09T00:00:00\", \"2017-01-10T00:00:00\", \"2017-01-11T00:00:00\", \"2017-01-12T00:00:00\", \"2017-01-13T00:00:00\", \"2017-01-16T00:00:00\", \"2017-01-17T00:00:00\", \"2017-01-18T00:00:00\", \"2017-01-19T00:00:00\", \"2017-01-20T00:00:00\", \"2017-01-23T00:00:00\", \"2017-01-24T00:00:00\", \"2017-01-25T00:00:00\", \"2017-01-26T00:00:00\", \"2017-01-27T00:00:00\", \"2017-01-30T00:00:00\", \"2017-01-31T00:00:00\", \"2017-02-01T00:00:00\", \"2017-02-02T00:00:00\", \"2017-02-03T00:00:00\", \"2017-02-06T00:00:00\", \"2017-02-07T00:00:00\", \"2017-02-08T00:00:00\", \"2017-02-09T00:00:00\", \"2017-02-10T00:00:00\", \"2017-02-13T00:00:00\", \"2017-02-14T00:00:00\", \"2017-02-15T00:00:00\", \"2017-02-16T00:00:00\", \"2017-02-17T00:00:00\", \"2017-02-20T00:00:00\", \"2017-02-21T00:00:00\", \"2017-02-22T00:00:00\", \"2017-02-23T00:00:00\", \"2017-02-24T00:00:00\", \"2017-02-27T00:00:00\", \"2017-02-28T00:00:00\", \"2017-03-01T00:00:00\", \"2017-03-02T00:00:00\", \"2017-03-03T00:00:00\", \"2017-03-06T00:00:00\", \"2017-03-07T00:00:00\", \"2017-03-08T00:00:00\", \"2017-03-09T00:00:00\", \"2017-03-10T00:00:00\", \"2017-03-13T00:00:00\", \"2017-03-14T00:00:00\", \"2017-03-15T00:00:00\", \"2017-03-16T00:00:00\", \"2017-03-17T00:00:00\", \"2017-03-20T00:00:00\", \"2017-03-21T00:00:00\", \"2017-03-22T00:00:00\", \"2017-03-23T00:00:00\", \"2017-03-24T00:00:00\", \"2017-03-27T00:00:00\", \"2017-03-28T00:00:00\", \"2017-03-29T00:00:00\", \"2017-03-30T00:00:00\", \"2017-03-31T00:00:00\", \"2017-04-03T00:00:00\", \"2017-04-04T00:00:00\", \"2017-04-05T00:00:00\", \"2017-04-06T00:00:00\", \"2017-04-07T00:00:00\", \"2017-04-10T00:00:00\", \"2017-04-11T00:00:00\", \"2017-04-12T00:00:00\", \"2017-04-13T00:00:00\", \"2017-04-14T00:00:00\", \"2017-04-17T00:00:00\", \"2017-04-18T00:00:00\", \"2017-04-19T00:00:00\", \"2017-04-20T00:00:00\", \"2017-04-21T00:00:00\", \"2017-04-24T00:00:00\", \"2017-04-25T00:00:00\", \"2017-04-26T00:00:00\", \"2017-04-27T00:00:00\", \"2017-04-28T00:00:00\", \"2017-05-01T00:00:00\", \"2017-05-02T00:00:00\", \"2017-05-03T00:00:00\", \"2017-05-04T00:00:00\", \"2017-05-05T00:00:00\", \"2017-05-08T00:00:00\", \"2017-05-09T00:00:00\", \"2017-05-10T00:00:00\", \"2017-05-11T00:00:00\", \"2017-05-12T00:00:00\", \"2017-05-15T00:00:00\", \"2017-05-16T00:00:00\", \"2017-05-17T00:00:00\", \"2017-05-18T00:00:00\", \"2017-05-19T00:00:00\", \"2017-05-22T00:00:00\", \"2017-05-23T00:00:00\", \"2017-05-24T00:00:00\", \"2017-05-25T00:00:00\", \"2017-05-26T00:00:00\", \"2017-05-27T00:00:00\", \"2017-05-29T00:00:00\", \"2017-05-30T00:00:00\", \"2017-05-31T00:00:00\", \"2017-06-01T00:00:00\", \"2017-06-02T00:00:00\", \"2017-06-05T00:00:00\", \"2017-06-06T00:00:00\", \"2017-06-07T00:00:00\", \"2017-06-08T00:00:00\", \"2017-06-09T00:00:00\", \"2017-06-12T00:00:00\", \"2017-06-13T00:00:00\", \"2017-06-14T00:00:00\", \"2017-06-15T00:00:00\", \"2017-06-16T00:00:00\", \"2017-06-19T00:00:00\", \"2017-06-20T00:00:00\", \"2017-06-21T00:00:00\", \"2017-06-22T00:00:00\", \"2017-06-23T00:00:00\", \"2017-06-26T00:00:00\", \"2017-06-27T00:00:00\", \"2017-06-28T00:00:00\", \"2017-06-29T00:00:00\", \"2017-06-30T00:00:00\", \"2017-07-03T00:00:00\", \"2017-07-04T00:00:00\", \"2017-07-05T00:00:00\", \"2017-07-06T00:00:00\", \"2017-07-07T00:00:00\", \"2017-07-10T00:00:00\", \"2017-07-11T00:00:00\", \"2017-07-12T00:00:00\", \"2017-07-13T00:00:00\", \"2017-07-14T00:00:00\", \"2017-07-17T00:00:00\", \"2017-07-18T00:00:00\", \"2017-07-19T00:00:00\", \"2017-07-20T00:00:00\", \"2017-07-21T00:00:00\", \"2017-07-24T00:00:00\", \"2017-07-25T00:00:00\", \"2017-07-26T00:00:00\", \"2017-07-27T00:00:00\", \"2017-07-28T00:00:00\", \"2017-07-31T00:00:00\", \"2017-08-01T00:00:00\", \"2017-08-02T00:00:00\", \"2017-08-03T00:00:00\", \"2017-08-04T00:00:00\", \"2017-08-07T00:00:00\", \"2017-08-08T00:00:00\", \"2017-08-09T00:00:00\", \"2017-08-10T00:00:00\", \"2017-08-11T00:00:00\", \"2017-08-14T00:00:00\", \"2017-08-15T00:00:00\", \"2017-08-16T00:00:00\", \"2017-08-17T00:00:00\", \"2017-08-18T00:00:00\", \"2017-08-21T00:00:00\", \"2017-08-22T00:00:00\", \"2017-08-23T00:00:00\", \"2017-08-24T00:00:00\", \"2017-08-25T00:00:00\", \"2017-08-28T00:00:00\", \"2017-08-29T00:00:00\", \"2017-08-30T00:00:00\", \"2017-08-31T00:00:00\", \"2017-09-01T00:00:00\", \"2017-09-04T00:00:00\", \"2017-09-05T00:00:00\", \"2017-09-06T00:00:00\", \"2017-09-07T00:00:00\", \"2017-09-08T00:00:00\", \"2017-09-11T00:00:00\", \"2017-09-12T00:00:00\", \"2017-09-13T00:00:00\", \"2017-09-14T00:00:00\", \"2017-09-15T00:00:00\", \"2017-09-18T00:00:00\", \"2017-09-19T00:00:00\", \"2017-09-20T00:00:00\", \"2017-09-21T00:00:00\", \"2017-09-22T00:00:00\", \"2017-09-25T00:00:00\", \"2017-09-26T00:00:00\", \"2017-09-27T00:00:00\", \"2017-09-28T00:00:00\", \"2017-09-29T00:00:00\", \"2017-10-02T00:00:00\", \"2017-10-03T00:00:00\", \"2017-10-04T00:00:00\", \"2017-10-05T00:00:00\", \"2017-10-06T00:00:00\", \"2017-10-09T00:00:00\", \"2017-10-10T00:00:00\", \"2017-10-11T00:00:00\", \"2017-10-12T00:00:00\", \"2017-10-13T00:00:00\", \"2017-10-16T00:00:00\", \"2017-10-17T00:00:00\", \"2017-10-18T00:00:00\", \"2017-10-19T00:00:00\", \"2017-10-20T00:00:00\", \"2017-10-23T00:00:00\", \"2017-10-24T00:00:00\", \"2017-10-25T00:00:00\", \"2017-10-26T00:00:00\", \"2017-10-27T00:00:00\", \"2017-10-30T00:00:00\", \"2017-10-31T00:00:00\", \"2017-11-01T00:00:00\", \"2017-11-02T00:00:00\", \"2017-11-03T00:00:00\", \"2017-11-06T00:00:00\", \"2017-11-07T00:00:00\", \"2017-11-08T00:00:00\", \"2017-11-09T00:00:00\", \"2017-11-10T00:00:00\", \"2017-11-13T00:00:00\", \"2017-11-14T00:00:00\", \"2017-11-15T00:00:00\", \"2017-11-16T00:00:00\", \"2017-11-17T00:00:00\", \"2017-11-20T00:00:00\", \"2017-11-21T00:00:00\", \"2017-11-22T00:00:00\", \"2017-11-27T00:00:00\", \"2017-11-28T00:00:00\", \"2017-11-29T00:00:00\", \"2017-11-30T00:00:00\", \"2017-12-01T00:00:00\", \"2017-12-04T00:00:00\", \"2017-12-05T00:00:00\", \"2017-12-06T00:00:00\", \"2017-12-07T00:00:00\", \"2017-12-08T00:00:00\", \"2017-12-11T00:00:00\", \"2017-12-12T00:00:00\", \"2017-12-13T00:00:00\", \"2017-12-14T00:00:00\", \"2017-12-15T00:00:00\", \"2017-12-18T00:00:00\", \"2017-12-19T00:00:00\", \"2017-12-20T00:00:00\", \"2017-12-21T00:00:00\", \"2017-12-22T00:00:00\", \"2017-12-26T00:00:00\", \"2017-12-27T00:00:00\", \"2017-12-28T00:00:00\", \"2017-12-29T00:00:00\", \"2018-01-02T00:00:00\", \"2018-01-03T00:00:00\", \"2018-01-04T00:00:00\", \"2018-01-05T00:00:00\", \"2018-01-08T00:00:00\", \"2018-01-09T00:00:00\", \"2018-01-10T00:00:00\", \"2018-01-11T00:00:00\", \"2018-01-12T00:00:00\", \"2018-01-15T00:00:00\", \"2018-01-16T00:00:00\", \"2018-01-17T00:00:00\", \"2018-01-18T00:00:00\", \"2018-01-19T00:00:00\", \"2018-01-22T00:00:00\", \"2018-01-23T00:00:00\", \"2018-01-24T00:00:00\", \"2018-01-25T00:00:00\", \"2018-01-26T00:00:00\", \"2018-01-29T00:00:00\", \"2018-01-30T00:00:00\", \"2018-01-31T00:00:00\", \"2018-02-01T00:00:00\", \"2018-02-02T00:00:00\", \"2018-02-05T00:00:00\", \"2018-02-06T00:00:00\", \"2018-02-07T00:00:00\", \"2018-02-08T00:00:00\", \"2018-02-09T00:00:00\", \"2018-02-12T00:00:00\", \"2018-02-13T00:00:00\", \"2018-02-14T00:00:00\", \"2018-02-15T00:00:00\", \"2018-02-16T00:00:00\", \"2018-02-19T00:00:00\", \"2018-02-20T00:00:00\", \"2018-02-21T00:00:00\", \"2018-02-22T00:00:00\", \"2018-02-23T00:00:00\", \"2018-02-26T00:00:00\", \"2018-02-27T00:00:00\", \"2018-02-28T00:00:00\", \"2018-03-01T00:00:00\", \"2018-03-02T00:00:00\", \"2018-03-05T00:00:00\", \"2018-03-06T00:00:00\", \"2018-03-07T00:00:00\", \"2018-03-08T00:00:00\", \"2018-03-09T00:00:00\", \"2018-03-12T00:00:00\", \"2018-03-13T00:00:00\", \"2018-03-14T00:00:00\", \"2018-03-15T00:00:00\", \"2018-03-16T00:00:00\", \"2018-03-19T00:00:00\", \"2018-03-20T00:00:00\", \"2018-03-21T00:00:00\", \"2018-03-22T00:00:00\", \"2018-03-23T00:00:00\", \"2018-03-26T00:00:00\", \"2018-03-27T00:00:00\", \"2018-03-28T00:00:00\", \"2018-03-29T00:00:00\", \"2018-03-30T00:00:00\", \"2018-04-02T00:00:00\", \"2018-04-03T00:00:00\", \"2018-04-04T00:00:00\", \"2018-04-05T00:00:00\", \"2018-04-06T00:00:00\", \"2018-04-09T00:00:00\", \"2018-04-10T00:00:00\", \"2018-04-11T00:00:00\", \"2018-04-12T00:00:00\", \"2018-04-13T00:00:00\", \"2018-04-16T00:00:00\", \"2018-04-17T00:00:00\", \"2018-04-18T00:00:00\", \"2018-04-19T00:00:00\", \"2018-04-20T00:00:00\", \"2018-04-23T00:00:00\", \"2018-04-24T00:00:00\", \"2018-04-25T00:00:00\", \"2018-04-26T00:00:00\", \"2018-04-27T00:00:00\", \"2018-04-30T00:00:00\", \"2018-05-01T00:00:00\", \"2018-05-02T00:00:00\", \"2018-05-03T00:00:00\", \"2018-05-04T00:00:00\", \"2018-05-07T00:00:00\", \"2018-05-08T00:00:00\", \"2018-05-09T00:00:00\", \"2018-05-10T00:00:00\", \"2018-05-11T00:00:00\", \"2018-05-14T00:00:00\", \"2018-05-15T00:00:00\", \"2018-05-16T00:00:00\", \"2018-05-17T00:00:00\", \"2018-05-18T00:00:00\", \"2018-05-21T00:00:00\", \"2018-05-22T00:00:00\", \"2018-05-23T00:00:00\", \"2018-05-24T00:00:00\", \"2018-05-25T00:00:00\", \"2018-05-29T00:00:00\", \"2018-05-30T00:00:00\", \"2018-05-31T00:00:00\", \"2018-06-01T00:00:00\", \"2018-06-04T00:00:00\", \"2018-06-05T00:00:00\", \"2018-06-06T00:00:00\", \"2018-06-07T00:00:00\", \"2018-06-08T00:00:00\", \"2018-06-11T00:00:00\", \"2018-06-12T00:00:00\", \"2018-06-13T00:00:00\", \"2018-06-14T00:00:00\", \"2018-06-15T00:00:00\", \"2018-06-18T00:00:00\", \"2018-06-19T00:00:00\", \"2018-06-20T00:00:00\", \"2018-06-21T00:00:00\", \"2018-06-22T00:00:00\", \"2018-06-25T00:00:00\", \"2018-06-26T00:00:00\", \"2018-06-27T00:00:00\", \"2018-06-28T00:00:00\", \"2018-06-29T00:00:00\", \"2018-07-02T00:00:00\", \"2018-07-03T00:00:00\", \"2018-07-05T00:00:00\", \"2018-07-06T00:00:00\", \"2018-07-09T00:00:00\", \"2018-07-10T00:00:00\", \"2018-07-11T00:00:00\", \"2018-07-12T00:00:00\", \"2018-07-13T00:00:00\", \"2018-07-16T00:00:00\", \"2018-07-17T00:00:00\", \"2018-07-18T00:00:00\", \"2018-07-19T00:00:00\", \"2018-07-20T00:00:00\", \"2018-07-23T00:00:00\", \"2018-07-24T00:00:00\", \"2018-07-25T00:00:00\", \"2018-07-26T00:00:00\", \"2018-07-27T00:00:00\", \"2018-07-30T00:00:00\", \"2018-07-31T00:00:00\", \"2018-08-01T00:00:00\", \"2018-08-02T00:00:00\", \"2018-08-03T00:00:00\", \"2018-08-06T00:00:00\", \"2018-08-07T00:00:00\", \"2018-08-08T00:00:00\", \"2018-08-09T00:00:00\", \"2018-08-10T00:00:00\", \"2018-08-13T00:00:00\", \"2018-08-14T00:00:00\", \"2018-08-15T00:00:00\", \"2018-08-16T00:00:00\", \"2018-08-17T00:00:00\", \"2018-08-20T00:00:00\", \"2018-08-21T00:00:00\", \"2018-08-22T00:00:00\", \"2018-08-23T00:00:00\", \"2018-08-24T00:00:00\", \"2018-08-27T00:00:00\", \"2018-08-28T00:00:00\", \"2018-08-29T00:00:00\", \"2018-08-30T00:00:00\", \"2018-08-31T00:00:00\", \"2018-09-04T00:00:00\", \"2018-09-05T00:00:00\", \"2018-09-06T00:00:00\", \"2018-09-07T00:00:00\", \"2018-09-10T00:00:00\", \"2018-09-11T00:00:00\", \"2018-09-12T00:00:00\", \"2018-09-13T00:00:00\", \"2018-09-14T00:00:00\", \"2018-09-17T00:00:00\", \"2018-09-18T00:00:00\", \"2018-09-19T00:00:00\", \"2018-09-20T00:00:00\", \"2018-09-21T00:00:00\", \"2018-09-24T00:00:00\", \"2018-09-25T00:00:00\", \"2018-09-26T00:00:00\", \"2018-09-27T00:00:00\", \"2018-09-28T00:00:00\", \"2018-10-01T00:00:00\", \"2018-10-02T00:00:00\", \"2018-10-03T00:00:00\", \"2018-10-04T00:00:00\", \"2018-10-05T00:00:00\", \"2018-10-08T00:00:00\", \"2018-10-09T00:00:00\", \"2018-10-10T00:00:00\", \"2018-10-11T00:00:00\", \"2018-10-12T00:00:00\", \"2018-10-15T00:00:00\", \"2018-10-16T00:00:00\", \"2018-10-17T00:00:00\", \"2018-10-18T00:00:00\", \"2018-10-19T00:00:00\", \"2018-10-22T00:00:00\", \"2018-10-23T00:00:00\", \"2018-10-24T00:00:00\", \"2018-10-25T00:00:00\", \"2018-10-26T00:00:00\", \"2018-10-29T00:00:00\", \"2018-10-30T00:00:00\", \"2018-10-31T00:00:00\", \"2018-11-01T00:00:00\", \"2018-11-02T00:00:00\", \"2018-11-05T00:00:00\", \"2018-11-06T00:00:00\", \"2018-11-07T00:00:00\", \"2018-11-08T00:00:00\", \"2018-11-09T00:00:00\", \"2018-11-12T00:00:00\", \"2018-11-13T00:00:00\", \"2018-11-14T00:00:00\", \"2018-11-15T00:00:00\", \"2018-11-16T00:00:00\", \"2018-11-19T00:00:00\", \"2018-11-20T00:00:00\", \"2018-11-21T00:00:00\", \"2018-11-26T00:00:00\", \"2018-11-27T00:00:00\", \"2018-11-28T00:00:00\", \"2018-11-29T00:00:00\", \"2018-11-30T00:00:00\", \"2018-12-03T00:00:00\", \"2018-12-04T00:00:00\", \"2018-12-05T00:00:00\", \"2018-12-06T00:00:00\", \"2018-12-07T00:00:00\", \"2018-12-10T00:00:00\", \"2018-12-11T00:00:00\", \"2018-12-12T00:00:00\", \"2018-12-13T00:00:00\", \"2018-12-14T00:00:00\", \"2018-12-17T00:00:00\", \"2018-12-18T00:00:00\", \"2018-12-19T00:00:00\", \"2018-12-20T00:00:00\", \"2018-12-21T00:00:00\", \"2018-12-24T00:00:00\", \"2018-12-26T00:00:00\", \"2018-12-27T00:00:00\", \"2018-12-28T00:00:00\", \"2018-12-29T00:00:00\", \"2018-12-31T00:00:00\", \"2019-01-02T00:00:00\", \"2019-01-03T00:00:00\", \"2019-01-04T00:00:00\", \"2019-01-07T00:00:00\", \"2019-01-08T00:00:00\", \"2019-01-09T00:00:00\", \"2019-01-10T00:00:00\", \"2019-01-11T00:00:00\", \"2019-01-14T00:00:00\", \"2019-01-15T00:00:00\", \"2019-01-16T00:00:00\", \"2019-01-17T00:00:00\", \"2019-01-18T00:00:00\", \"2019-01-22T00:00:00\", \"2019-01-23T00:00:00\", \"2019-01-24T00:00:00\", \"2019-01-25T00:00:00\", \"2019-01-28T00:00:00\", \"2019-01-29T00:00:00\", \"2019-01-30T00:00:00\", \"2019-01-31T00:00:00\", \"2019-02-01T00:00:00\", \"2019-02-04T00:00:00\", \"2019-02-05T00:00:00\", \"2019-02-06T00:00:00\", \"2019-02-07T00:00:00\", \"2019-02-08T00:00:00\", \"2019-02-11T00:00:00\", \"2019-02-12T00:00:00\", \"2019-02-13T00:00:00\", \"2019-02-14T00:00:00\", \"2019-02-15T00:00:00\", \"2019-02-18T00:00:00\", \"2019-02-19T00:00:00\", \"2019-02-20T00:00:00\", \"2019-02-21T00:00:00\", \"2019-02-22T00:00:00\", \"2019-02-25T00:00:00\", \"2019-02-26T00:00:00\", \"2019-02-27T00:00:00\", \"2019-02-28T00:00:00\", \"2019-03-01T00:00:00\", \"2019-03-04T00:00:00\", \"2019-03-05T00:00:00\", \"2019-03-06T00:00:00\", \"2019-03-07T00:00:00\", \"2019-03-08T00:00:00\", \"2019-03-11T00:00:00\", \"2019-03-12T00:00:00\", \"2019-03-13T00:00:00\", \"2019-03-14T00:00:00\", \"2019-03-15T00:00:00\", \"2019-03-18T00:00:00\", \"2019-03-19T00:00:00\", \"2019-03-20T00:00:00\", \"2019-03-21T00:00:00\", \"2019-03-22T00:00:00\", \"2019-03-25T00:00:00\", \"2019-03-26T00:00:00\", \"2019-03-27T00:00:00\", \"2019-03-28T00:00:00\", \"2019-03-29T00:00:00\", \"2019-04-01T00:00:00\", \"2019-04-02T00:00:00\", \"2019-04-03T00:00:00\", \"2019-04-04T00:00:00\", \"2019-04-05T00:00:00\", \"2019-04-08T00:00:00\", \"2019-04-09T00:00:00\", \"2019-04-10T00:00:00\", \"2019-04-11T00:00:00\", \"2019-04-13T00:00:00\", \"2019-04-15T00:00:00\", \"2019-04-16T00:00:00\", \"2019-04-17T00:00:00\", \"2019-04-18T00:00:00\", \"2019-04-19T00:00:00\", \"2019-04-22T00:00:00\", \"2019-04-23T00:00:00\", \"2019-04-24T00:00:00\", \"2019-04-25T00:00:00\", \"2019-04-26T00:00:00\", \"2019-04-29T00:00:00\", \"2019-04-30T00:00:00\", \"2019-05-01T00:00:00\", \"2019-05-02T00:00:00\", \"2019-05-03T00:00:00\", \"2019-05-06T00:00:00\", \"2019-05-07T00:00:00\", \"2019-05-08T00:00:00\", \"2019-05-09T00:00:00\", \"2019-05-10T00:00:00\", \"2019-05-13T00:00:00\", \"2019-05-14T00:00:00\", \"2019-05-15T00:00:00\", \"2019-05-16T00:00:00\", \"2019-05-17T00:00:00\", \"2019-05-19T00:00:00\", \"2019-05-20T00:00:00\", \"2019-05-21T00:00:00\", \"2019-05-22T00:00:00\", \"2019-05-23T00:00:00\", \"2019-05-24T00:00:00\", \"2019-05-28T00:00:00\", \"2019-05-29T00:00:00\", \"2019-05-30T00:00:00\", \"2019-05-31T00:00:00\", \"2019-06-01T00:00:00\", \"2019-06-03T00:00:00\", \"2019-06-04T00:00:00\", \"2019-06-05T00:00:00\", \"2019-06-06T00:00:00\", \"2019-06-07T00:00:00\", \"2019-06-10T00:00:00\", \"2019-06-11T00:00:00\", \"2019-06-12T00:00:00\", \"2019-06-13T00:00:00\", \"2019-06-14T00:00:00\", \"2019-06-15T00:00:00\", \"2019-06-17T00:00:00\", \"2019-06-18T00:00:00\", \"2019-06-19T00:00:00\", \"2019-06-20T00:00:00\", \"2019-06-21T00:00:00\", \"2019-06-24T00:00:00\", \"2019-06-25T00:00:00\", \"2019-06-26T00:00:00\", \"2019-06-27T00:00:00\", \"2019-06-28T00:00:00\", \"2019-07-01T00:00:00\", \"2019-07-02T00:00:00\", \"2019-07-03T00:00:00\", \"2019-07-04T00:00:00\", \"2019-07-05T00:00:00\", \"2019-07-08T00:00:00\", \"2019-07-09T00:00:00\", \"2019-07-10T00:00:00\", \"2019-07-11T00:00:00\", \"2019-07-12T00:00:00\", \"2019-07-15T00:00:00\", \"2019-07-16T00:00:00\", \"2019-07-17T00:00:00\", \"2019-07-18T00:00:00\", \"2019-07-19T00:00:00\", \"2019-07-22T00:00:00\", \"2019-07-23T00:00:00\", \"2019-07-24T00:00:00\", \"2019-07-25T00:00:00\", \"2019-07-26T00:00:00\", \"2019-07-29T00:00:00\", \"2019-07-30T00:00:00\", \"2019-07-31T00:00:00\", \"2019-08-01T00:00:00\", \"2019-08-02T00:00:00\", \"2019-08-05T00:00:00\", \"2019-08-06T00:00:00\", \"2019-08-07T00:00:00\", \"2019-08-08T00:00:00\", \"2019-08-09T00:00:00\", \"2019-08-12T00:00:00\", \"2019-08-13T00:00:00\", \"2019-08-14T00:00:00\", \"2019-08-15T00:00:00\", \"2019-08-16T00:00:00\", \"2019-08-19T00:00:00\", \"2019-08-20T00:00:00\", \"2019-08-21T00:00:00\", \"2019-08-22T00:00:00\", \"2019-08-23T00:00:00\", \"2019-08-26T00:00:00\", \"2019-08-27T00:00:00\", \"2019-08-28T00:00:00\", \"2019-08-29T00:00:00\", \"2019-08-30T00:00:00\", \"2019-09-03T00:00:00\", \"2019-09-04T00:00:00\", \"2019-09-05T00:00:00\", \"2019-09-06T00:00:00\", \"2019-09-09T00:00:00\", \"2019-09-10T00:00:00\", \"2019-09-11T00:00:00\", \"2019-09-12T00:00:00\", \"2019-09-13T00:00:00\", \"2019-09-16T00:00:00\", \"2019-09-17T00:00:00\", \"2019-09-18T00:00:00\", \"2019-09-19T00:00:00\", \"2019-09-20T00:00:00\", \"2019-09-23T00:00:00\", \"2019-09-24T00:00:00\", \"2019-09-25T00:00:00\", \"2019-09-26T00:00:00\", \"2019-09-27T00:00:00\", \"2019-09-29T00:00:00\", \"2019-09-30T00:00:00\", \"2019-10-01T00:00:00\", \"2019-10-02T00:00:00\", \"2019-10-03T00:00:00\", \"2019-10-04T00:00:00\", \"2019-10-07T00:00:00\", \"2019-10-08T00:00:00\", \"2019-10-09T00:00:00\", \"2019-10-10T00:00:00\", \"2019-10-11T00:00:00\", \"2019-10-14T00:00:00\", \"2019-10-15T00:00:00\", \"2019-10-16T00:00:00\", \"2019-10-17T00:00:00\", \"2019-10-18T00:00:00\", \"2019-10-21T00:00:00\", \"2019-10-22T00:00:00\", \"2019-10-23T00:00:00\", \"2019-10-24T00:00:00\", \"2019-10-25T00:00:00\", \"2019-10-28T00:00:00\", \"2019-10-29T00:00:00\", \"2019-10-30T00:00:00\", \"2019-10-31T00:00:00\", \"2019-11-01T00:00:00\", \"2019-11-02T00:00:00\", \"2019-11-04T00:00:00\", \"2019-11-05T00:00:00\", \"2019-11-06T00:00:00\", \"2019-11-07T00:00:00\", \"2019-11-08T00:00:00\", \"2019-11-11T00:00:00\", \"2019-11-12T00:00:00\", \"2019-11-13T00:00:00\", \"2019-11-14T00:00:00\", \"2019-11-15T00:00:00\", \"2019-11-16T00:00:00\", \"2019-11-18T00:00:00\", \"2019-11-19T00:00:00\", \"2019-11-20T00:00:00\", \"2019-11-21T00:00:00\", \"2019-11-22T00:00:00\", \"2019-11-23T00:00:00\", \"2019-11-25T00:00:00\", \"2019-11-26T00:00:00\", \"2019-11-27T00:00:00\", \"2019-11-29T00:00:00\", \"2019-11-30T00:00:00\", \"2019-12-02T00:00:00\", \"2019-12-03T00:00:00\", \"2019-12-04T00:00:00\", \"2019-12-05T00:00:00\", \"2019-12-06T00:00:00\", \"2019-12-09T00:00:00\", \"2019-12-10T00:00:00\", \"2019-12-11T00:00:00\", \"2019-12-12T00:00:00\", \"2019-12-13T00:00:00\", \"2019-12-16T00:00:00\", \"2019-12-17T00:00:00\", \"2019-12-18T00:00:00\", \"2019-12-19T00:00:00\", \"2019-12-20T00:00:00\", \"2019-12-23T00:00:00\", \"2019-12-24T00:00:00\", \"2019-12-26T00:00:00\", \"2019-12-27T00:00:00\", \"2019-12-28T00:00:00\", \"2019-12-30T00:00:00\", \"2019-12-31T00:00:00\", \"2020-01-02T00:00:00\", \"2020-01-03T00:00:00\", \"2020-01-06T00:00:00\", \"2020-01-07T00:00:00\", \"2020-01-08T00:00:00\", \"2020-01-09T00:00:00\", \"2020-01-10T00:00:00\", \"2020-01-13T00:00:00\", \"2020-01-14T00:00:00\", \"2020-01-15T00:00:00\", \"2020-01-16T00:00:00\", \"2020-01-17T00:00:00\", \"2020-01-20T00:00:00\", \"2020-01-21T00:00:00\", \"2020-01-22T00:00:00\", \"2020-01-23T00:00:00\", \"2020-01-24T00:00:00\", \"2020-01-27T00:00:00\", \"2020-01-28T00:00:00\", \"2020-01-29T00:00:00\", \"2020-01-30T00:00:00\", \"2020-01-31T00:00:00\", \"2020-02-03T00:00:00\", \"2020-02-04T00:00:00\", \"2020-02-05T00:00:00\", \"2020-02-06T00:00:00\", \"2020-02-07T00:00:00\", \"2020-02-10T00:00:00\", \"2020-02-11T00:00:00\", \"2020-02-12T00:00:00\", \"2020-02-13T00:00:00\", \"2020-02-14T00:00:00\", \"2020-02-17T00:00:00\", \"2020-02-18T00:00:00\", \"2020-02-19T00:00:00\", \"2020-02-20T00:00:00\", \"2020-02-21T00:00:00\", \"2020-02-24T00:00:00\", \"2020-02-25T00:00:00\", \"2020-02-26T00:00:00\", \"2020-02-27T00:00:00\", \"2020-02-28T00:00:00\", \"2020-03-02T00:00:00\", \"2020-03-03T00:00:00\", \"2020-03-04T00:00:00\", \"2020-03-05T00:00:00\", \"2020-03-06T00:00:00\", \"2020-03-09T00:00:00\", \"2020-03-10T00:00:00\", \"2020-03-11T00:00:00\", \"2020-03-12T00:00:00\", \"2020-03-13T00:00:00\", \"2020-03-16T00:00:00\", \"2020-03-17T00:00:00\", \"2020-03-18T00:00:00\", \"2020-03-19T00:00:00\", \"2020-03-20T00:00:00\", \"2020-03-23T00:00:00\", \"2020-03-24T00:00:00\", \"2020-03-25T00:00:00\", \"2020-03-26T00:00:00\", \"2020-03-27T00:00:00\", \"2020-03-30T00:00:00\", \"2020-03-31T00:00:00\", \"2020-04-01T00:00:00\", \"2020-04-02T00:00:00\", \"2020-04-03T00:00:00\", \"2020-04-06T00:00:00\", \"2020-04-07T00:00:00\", \"2020-04-08T00:00:00\", \"2020-04-09T00:00:00\", \"2020-04-10T00:00:00\", \"2020-04-13T00:00:00\", \"2020-04-14T00:00:00\", \"2020-04-15T00:00:00\", \"2020-04-16T00:00:00\", \"2020-04-17T00:00:00\", \"2020-04-20T00:00:00\", \"2020-04-21T00:00:00\", \"2020-04-22T00:00:00\", \"2020-04-23T00:00:00\", \"2020-04-24T00:00:00\", \"2020-04-27T00:00:00\", \"2020-04-28T00:00:00\", \"2020-04-29T00:00:00\", \"2020-04-30T00:00:00\", \"2020-05-01T00:00:00\", \"2020-05-04T00:00:00\", \"2020-05-05T00:00:00\", \"2020-05-06T00:00:00\", \"2020-05-07T00:00:00\", \"2020-05-08T00:00:00\", \"2020-05-11T00:00:00\", \"2020-05-12T00:00:00\", \"2020-05-13T00:00:00\", \"2020-05-14T00:00:00\", \"2020-05-15T00:00:00\", \"2020-05-18T00:00:00\", \"2020-05-19T00:00:00\", \"2020-05-20T00:00:00\", \"2020-05-21T00:00:00\", \"2020-05-22T00:00:00\", \"2020-05-26T00:00:00\", \"2020-05-27T00:00:00\", \"2020-05-28T00:00:00\", \"2020-05-29T00:00:00\", \"2020-06-01T00:00:00\", \"2020-06-02T00:00:00\", \"2020-06-03T00:00:00\", \"2020-06-04T00:00:00\", \"2020-06-05T00:00:00\", \"2020-06-08T00:00:00\", \"2020-06-09T00:00:00\", \"2020-06-10T00:00:00\", \"2020-06-11T00:00:00\", \"2020-06-12T00:00:00\", \"2020-06-15T00:00:00\", \"2020-06-16T00:00:00\", \"2020-06-17T00:00:00\", \"2020-06-18T00:00:00\", \"2020-06-19T00:00:00\", \"2020-06-22T00:00:00\", \"2020-06-23T00:00:00\", \"2020-06-24T00:00:00\", \"2020-06-25T00:00:00\", \"2020-06-26T00:00:00\", \"2020-06-29T00:00:00\", \"2020-06-30T00:00:00\", \"2020-07-01T00:00:00\", \"2020-07-02T00:00:00\", \"2020-07-03T00:00:00\", \"2020-07-06T00:00:00\", \"2020-07-07T00:00:00\", \"2020-07-08T00:00:00\", \"2020-07-09T00:00:00\", \"2020-07-10T00:00:00\", \"2020-07-13T00:00:00\", \"2020-07-14T00:00:00\", \"2020-07-15T00:00:00\", \"2020-07-16T00:00:00\", \"2020-07-17T00:00:00\", \"2020-07-20T00:00:00\", \"2020-07-21T00:00:00\", \"2020-07-22T00:00:00\", \"2020-07-23T00:00:00\", \"2020-07-24T00:00:00\", \"2020-07-26T00:00:00\", \"2020-07-27T00:00:00\", \"2020-07-28T00:00:00\", \"2020-07-29T00:00:00\", \"2020-07-30T00:00:00\", \"2020-07-31T00:00:00\", \"2020-08-03T00:00:00\", \"2020-08-04T00:00:00\", \"2020-08-05T00:00:00\", \"2020-08-06T00:00:00\", \"2020-08-07T00:00:00\", \"2020-08-10T00:00:00\", \"2020-08-11T00:00:00\", \"2020-08-12T00:00:00\", \"2020-08-13T00:00:00\", \"2020-08-14T00:00:00\", \"2020-08-17T00:00:00\", \"2020-08-18T00:00:00\", \"2020-08-19T00:00:00\", \"2020-08-20T00:00:00\", \"2020-08-21T00:00:00\", \"2020-08-24T00:00:00\", \"2020-08-25T00:00:00\", \"2020-08-26T00:00:00\", \"2020-08-27T00:00:00\", \"2020-08-28T00:00:00\", \"2020-08-30T00:00:00\", \"2020-08-31T00:00:00\", \"2020-09-01T00:00:00\", \"2020-09-02T00:00:00\", \"2020-09-03T00:00:00\", \"2020-09-04T00:00:00\", \"2020-09-08T00:00:00\", \"2020-09-09T00:00:00\", \"2020-09-10T00:00:00\", \"2020-09-11T00:00:00\", \"2020-09-14T00:00:00\", \"2020-09-15T00:00:00\", \"2020-09-16T00:00:00\", \"2020-09-17T00:00:00\", \"2020-09-18T00:00:00\", \"2020-09-21T00:00:00\", \"2020-09-22T00:00:00\", \"2020-09-23T00:00:00\", \"2020-09-24T00:00:00\", \"2020-09-25T00:00:00\", \"2020-09-28T00:00:00\", \"2020-09-29T00:00:00\", \"2020-09-30T00:00:00\", \"2020-10-01T00:00:00\", \"2020-10-02T00:00:00\", \"2020-10-05T00:00:00\", \"2020-10-06T00:00:00\", \"2020-10-07T00:00:00\", \"2020-10-08T00:00:00\", \"2020-10-09T00:00:00\", \"2020-10-11T00:00:00\", \"2020-10-12T00:00:00\", \"2020-10-13T00:00:00\", \"2020-10-14T00:00:00\", \"2020-10-15T00:00:00\", \"2020-10-16T00:00:00\", \"2020-10-19T00:00:00\", \"2020-10-20T00:00:00\", \"2020-10-21T00:00:00\", \"2020-10-22T00:00:00\", \"2020-10-23T00:00:00\", \"2020-10-25T00:00:00\", \"2020-10-26T00:00:00\", \"2020-10-27T00:00:00\", \"2020-10-28T00:00:00\", \"2020-10-29T00:00:00\", \"2020-10-30T00:00:00\", \"2020-11-01T00:00:00\", \"2020-11-02T00:00:00\", \"2020-11-03T00:00:00\", \"2020-11-04T00:00:00\", \"2020-11-05T00:00:00\", \"2020-11-06T00:00:00\", \"2020-11-09T00:00:00\", \"2020-11-10T00:00:00\", \"2020-11-11T00:00:00\", \"2020-11-12T00:00:00\", \"2020-11-13T00:00:00\", \"2020-11-16T00:00:00\", \"2020-11-17T00:00:00\", \"2020-11-18T00:00:00\", \"2020-11-19T00:00:00\", \"2020-11-20T00:00:00\", \"2020-11-23T00:00:00\", \"2020-11-24T00:00:00\", \"2020-11-25T00:00:00\", \"2020-11-27T00:00:00\", \"2020-11-28T00:00:00\", \"2020-11-30T00:00:00\", \"2020-12-01T00:00:00\", \"2020-12-02T00:00:00\", \"2020-12-03T00:00:00\", \"2020-12-04T00:00:00\", \"2020-12-07T00:00:00\", \"2020-12-08T00:00:00\", \"2020-12-09T00:00:00\", \"2020-12-10T00:00:00\", \"2020-12-11T00:00:00\", \"2020-12-14T00:00:00\", \"2020-12-15T00:00:00\", \"2020-12-16T00:00:00\", \"2020-12-17T00:00:00\", \"2020-12-18T00:00:00\", \"2020-12-21T00:00:00\", \"2020-12-22T00:00:00\", \"2020-12-23T00:00:00\", \"2020-12-24T00:00:00\", \"2020-12-26T00:00:00\", \"2020-12-28T00:00:00\", \"2020-12-29T00:00:00\", \"2020-12-30T00:00:00\", \"2020-12-31T00:00:00\"], \"y\": [1012493.8099999881, 860053.7299999925, 940194.9299999886, 933835.4999999886, 900077.6099999942, 773739.7299999979, 927338.659999992, 968646.5199999914, 921105.5599999948, 850387.4899999928, 1021175.8999999878, 985418.4099999954, 1013018.2899999907, 764709.3099999905, 1016554.7899999904, 796.36, 986747.7299999935, 1040086.289999994, 915724.1299999957, 1226217.4999999814, 1174886.5999999843, 1136335.4099999864, 997618.7999999966, 1157769.8099999824, 1046049.9899999939, 1025818.7199999925, 970931.1299999908, 1139833.9599999767, 1144195.699999988, 1113746.7799999823, 1007040.3899999914, 1173899.9699999806, 1079130.2699999926, 1036413.0699999876, 912138.7299999893, 1104030.0999999824, 1140722.7499999898, 1169223.9199999897, 835542.5299999961, 1222264.949999987, 2886.2400000000007, 1179680.4699999874, 1158657.8899999848, 977886.0599999941, 1250720.7699999823, 1050.84, 1030487.2799999947, 1102468.9899999865, 1046650.1099999886, 1066902.6699999843, 1001267.1899999934, 1022503.7699999941, 821053.9199999942, 1005545.2999999882, 1142873.4999999914, 1359746.0799999833, 1080255.9199999946, 1330857.2799999828, 1169076.6399999878, 1269591.6299999938, 1187375.8499999852, 1232872.569999983, 1154192.3099999859, 1195865.229999986, 1116240.8599999943, 1182052.4699999893, 1042705.8999999958, 1199155.2899999863, 924659.8199999968, 1117871.8499999875, 36565.93, 1263291.4499999762, 1212779.9599999813, 1003063.7399999904, 1322831.9599999725, 1220915.189999972, 1200461.6599999778, 970187.7099999881, 1211077.4499999762, 324.0, 1072931.4799999828, 1213046.7699999793, 1057187.5999999864, 1225797.079999975, 1177429.4899999737, 1418037.8399999633, 1059972.5399999826, 1340162.9199999785, 872449.5499999946, 1245606.7599999744, 1011376.0499999846, 1357881.4899999744, 1607.52, 1538532.0599999595, 1292638.0799999805, 1311727.2799999882, 1218139.269999986, 1440888.7899999768, 1315053.3099999765, 1546636.7099999762, 1217510.609999973, 1316962.9999999842, 1410200.9099999685, 910995.369999995, 1165311.4099999813, 5482.18, 1404033.2199999753, 1850000.1099999342, 1379518.3699999647, 1508343.9799999532, 25320.88999999998, 1231434.5599999668, 1171510.9599999762, 1026464.0199999908, 1086736.0699999877, 1209038.7599999884, 1250884.6199999729, 926596.909999994, 1091996.0899999887, 1239308.5199999793, 1230606.4599999827, 1137970.779999988, 1267423.1499999762, 674.4, 1201978.869999983, 1102184.9699999825, 958471.0899999886, 1030437.889999989, 3279.7599999999998, 1223242.959999976, 1307122.9399999692, 890090.3699999858, 1195254.92999997, 576.42, 1147834.8899999722, 1283068.4499999632, 981060.1599999865, 1176787.119999972, 1195675.7499999788, 1127417.2799999735, 954955.5199999895, 1166448.5599999772, 1085723.8899999808, 1159559.0399999756, 1013038.9199999836, 1135299.289999976, 1166197.4299999764, 1451140.2699999518, 1118281.9199999776, 1356271.5899999521, 926601.0399999938, 1454309.2299999485, 1103036.9499999804, 1486810.2699999537, 152.04, 1618074.2999999397, 1430524.5999999484, 1321205.0999999759, 1232053.1399999757, 854.73, 1133464.7199999797, 1183565.6699999752, 872743.1099999929, 1115748.8499999843, 920.52, 1039466.7099999868, 1125510.8599999852, 1023116.2499999867, 1046948.059999988, 1272966.409999969, 1512145.239999945, 1195072.169999978, 1453418.3999999543, 1954824.229999982, 1436466.0499999644, 1474293.739999954, 1240659.2599999756, 1426089.8299999654, 1632339.9799999846, 1408855.5499999677, 1472465.4699999609, 1576441.3199999584, 1375042.2699999665, 1921336.2099999902, 1225686.2999999768, 1215120.6299999745, 1471443.629999956, 1270153.2999999698, 1846024.41999999, 1204271.2699999837, 1197675.4399999727, 931294.9299999924, 1023250.7899999875, 198.0, 1080014.8699999836, 1170085.0299999772, 1092897.38999998, 1271036.6699999708, 1202868.1299999778, 1122437.7199999758, 1088524.779999983, 1364466.9999999627, 856903.9199999929, 1080276.9699999858, 1062086.3699999864, 1087900.659999983, 47406.080000000075, 1439202.8299999486, 1440212.319999946, 1075135.3399999877, 1273610.04999996, 1487537.7899999581, 1190413.4599999732, 1017236.9099999808, 1270931.9599999709, 1528430.6499999545, 1559674.099999947, 1745332.6099999526, 1536578.9199999485, 1912.8400000000004, 1696519.5899999465, 1660066.199999934, 1528877.3199999435, 1552564.6299999373, 1217195.6999999755, 1634365.6799999294, 1266270.9199999566, 1602321.5899999226, 1360166.7599999546, 1208181.999999967, 826293.7199999848, 1145793.1499999715, 1139529.5599999726, 1042754.6099999775, 818801.3999999893, 945299.6199999915, 1036500.5699999896, 943113.2399999885, 849009.2799999918, 1018633.4999999889, 992762.0499999915, 1020890.659999986, 886708.319999992, 1118493.5099999842, 1974.0, 1073388.0999999808, 1053056.8799999806, 851115.159999987, 1074732.7899999795, 1173355.499999971, 1176898.51999997, 979188.5399999871, 1284407.059999959, 1130.8799999999999, 1111755.5099999788, 1139808.429999973, 1349704.139999962, 1229363.3399999752, 1141825.2399999762, 1087255.5699999807, 862261.3699999822, 1183853.7599999718, 2105.56, 1203117.0199999688, 1168684.7699999625, 1028803.9499999837, 1135086.5399999726, 1203606.7999999672, 1184093.9399999643, 882481.1999999877, 1273253.6199999612, 1227524.1099999656, 1304245.1699999622, 1094880.5799999777, 1330232.4799999539, 6838.92, 1157228.5099999693, 1086065.5099999711, 936591.9899999873, 1127906.0999999754, 1183278.1199999705, 1124207.1799999732, 962504.8599999865, 1136604.44999997, 1208604.3699999833, 1299789.319999968, 920394.2099999859, 1293669.399999956, 1383419.9999999572, 1415541.3299999472, 1235589.9899999702, 1322607.099999957, 1173363.0399999763, 1195489.3999999724, 871369.9699999904, 1209664.0899999754, 922.32, 1287994.9099999662, 1124117.2499999742, 943615.3799999893, 1367967.0699999633, 1532049.739999943, 1378787.7999999507, 978562.8299999754, 1211796.7899999619, 847.4399999999999, 1278555.5899999563, 1405943.8899999552, 1294787.179999962, 1242454.089999955, 4228.8, 1275603.0599999665, 1251087.5699999626, 978561.6699999762, 1264035.2899999637, 1258532.2099999534, 1416032.0099999472, 1093872.0199999686, 1391595.199999958, 20809.67999999999, 1370582.8399999586, 1370904.8399999565, 1008996.7799999742, 1291534.7999999614, 1126741.5899999682, 1274891.8099999628, 1112040.2299999737, 1241798.4299999652, 900.0, 1283807.6599999594, 1207442.159999964, 1060579.2099999753, 1151493.7399999727, 941290.3299999879, 1036931.1399999815, 1019344.3399999822, 1151548.4599999695, 27389.760000000013, 6042.809999999999, 1636941.5899999382, 1661535.1399999259, 1206420.4399999653, 1586056.1199999466, 1426.14, 1322177.7599999532, 1476256.4599999378, 995528.4499999768, 1152507.0299999672, 1352504.2499999553, 991924.9899999707, 1463348.9299999366, 1201377.0099999665, 1365678.1699999517, 1099477.4799999695, 967307.2099999782, 1052865.119999982, 1096.08, 1276785.9199999573, 942055.4199999766, 1175363.729999963, 941116.0099999848, 1590140.8999999405, 976905.6299999767, 1293367.379999955, 1008882.9699999827, 399.17999999999995, 1567227.6299999517, 1082242.129999976, 1320990.46999996, 1111816.1199999829, 1492418.0399999565, 1107802.0799999665, 1245167.749999959, 1042621.9099999857, 18157.210000000003, 1492890.4199999548, 1012086.6099999768, 1292550.5299999632, 1061597.4699999853, 1690067.3799999484, 1029494.6199999716, 1550064.4099999343, 1415632.7099999625, 10709.99, 1466300.9099999475, 1072614.5599999705, 1395236.1199999547, 847396.5399999901, 1450973.5899999514, 837108.1599999857, 1143729.9499999704, 979188.019999991, 1295256.999999973, 925406.5099999801, 1140703.9099999715, 947288.7099999873, 3135.7400000000007, 1282532.2599999688, 838238.0599999853, 1168762.0799999735, 933662.3799999893, 1399158.3199999612, 1093396.8099999763, 1780246.2399999422, 1537076.2099999513, 3516318.0499999714, 1888585.0399999558, 893795.2299999839, 1276530.3499999703, 1320976.6499999722, 3278998.009999969, 1901715.5999999319, 1191654.6599999804, 1614926.3999999575, 1113172.5099999846, 1426510.4099999603, 1006044.1799999813, 1386542.779999963, 1103631.4399999825, 9224.089999999998, 1425526.5299999625, 955399.1999999847, 1255024.0099999637, 1170517.0399999856, 4915.5700000000015, 1337658.96999998, 798777.6699999913, 1124708.069999984, 1070998.3099999959, 17593.87999999999, 1331748.729999971, 878396.9199999956, 1429341.3399999717, 1006630.5699999937, 5193.569999999999, 1525358.4299999713, 1008896.6999999877, 1290716.039999977, 1158050.3899999864, 933165.0799999937, 671281.8799999969, 1055312.549999991, 1078751.8599999927, 73453.11000000006, 1812807.6199999466, 1197114.6699999731, 1642175.0899999542, 1331116.4399999792, 18231.139999999996, 1628951.7899999586, 1082894.7099999893, 1416655.2099999709, 1273261.779999987, 31238.440000000028, 1683128.369999959, 1170023.3599999815, 1586955.5399999616, 1447200.9599999744, 1259531.0999999722, 777239.5399999866, 1205479.1299999768, 62568.47000000002, 1345888.3599999812, 1750579.6599999466, 989463.179999987, 1407311.399999966, 95071.01000000014, 881751.739999993, 1721282.469999956, 970398.819999988, 1461004.3699999815, 1029326.7499999928, 1220346.3899999869, 823538.2399999937, 1124422.4599999944, 884646.4099999977, 1971.2400000000002, 1295526.3699999752, 821258.1899999933, 1237132.7499999811, 1018463.3799999941, 1779446.129999962, 1091828.2199999886, 1604100.009999972, 1070225.029999994, 9263.65, 1454699.2799999744, 899936.5099999912, 1378061.579999979, 1180867.5799999856, 1749517.8599999617, 910802.0499999914, 1379417.009999968, 1204226.7299999853, 1291362.399999982, 788110.6399999945, 1155362.9299999787, 1051512.3799999976, 1553721.4899999746, 860931.5599999919, 1236498.5599999798, 1088253.6999999927, 1500462.07999997, 832117.7299999951, 1332013.0399999814, 1114789.879999987, 1637018.5599999654, 911751.1499999907, 1240523.659999979, 1001529.9499999956, 19053.320000000003, 1434002.5399999765, 894632.6499999908, 1126451.7099999827, 935542.8799999971, 1220350.6899999832, 741711.1499999949, 1047010.1299999898, 865290.3999999947, 1474654.5899999656, 887244.4099999925, 1400016.7599999656, 1187599.0999999805, 1797363.109999962, 1111934.5699999805, 1571501.7599999679, 1195609.149999991, 6146.4800000000005, 1584983.1799999725, 892758.2899999957, 1146830.9699999855, 1185649.5399999875, 1326110.4999999811, 882152.22999999, 1189573.349999974, 1178021.4899999865, 1763305.2599999688, 1013147.519999988, 1319224.6299999822, 1071942.349999993, 1039.33, 1605358.4099999652, 1146177.5499999812, 1325206.2099999797, 1145024.4699999928, 1568025.0199999732, 986231.5499999898, 1239645.319999977, 1048305.7599999972, 1438630.0299999686, 1047702.859999986, 1364158.479999973, 1091103.6299999894, 1247358.5099999853, 966384.1799999936, 1426368.9799999723, 1247601.5599999786, 1732907.2199999476, 996538.2699999865, 1339763.7399999695, 1066511.7599999914, 1923382.2999999544, 1216208.1599999683, 1459411.9499999727, 1106400.8699999913, 1428920.6099999694, 1024190.9499999894, 1271342.839999975, 1022515.6299999927, 2086506.2199999446, 1200342.919999978, 1515237.1999999655, 1480715.2799999698, 1522537.1699999822, 1036244.879999989, 1254454.1099999803, 1120640.6599999885, 50469.21000000001, 1648113.7099999504, 1135393.1699999757, 1374098.6099999726, 1078264.729999993, 1571238.1699999648, 1018736.8099999843, 1330835.6099999691, 979511.0699999947, 1487584.059999975, 912319.1299999935, 1203203.7799999798, 1065008.7199999918, 1410934.5699999658, 957703.7699999871, 1317533.7999999768, 1031309.0499999956, 1586785.7999999907, 1023547.000000008, 1493655.8699999945, 1196250.3800000048, 1648014.769999989, 967576.9200000077, 1260415.0500000012, 972750.1200000102, 1193232.6800000044, 971950.910000009, 1418669.4799999995, 1003525.6200000101, 1520525.5299999989, 1130380.8900000069, 1705128.5700000024, 1074317.390000015, 1004160.1000000096, 1117338.5100000056, 1829502.5999999887, 1188700.3900000101, 1971662.4799999893, 1399237.2900000005, 1830797.7599999956, 1065662.1800000153, 1534236.5400000075, 1093168.480000005, 1541910.339999996, 997864.700000008, 1351370.5299999989, 1104710.2300000067, 1313682.749999999, 964356.840000007, 1769598.9999999988, 1361751.9400000004, 1879638.6499999948, 1303371.7700000121, 307.08, 1735352.1499999946, 1517885.799999997, 1666150.4799999974, 1161701.6500000039, 14417.419999999996, 2000919.9299999985, 1282293.2700000107, 1868322.9099999932, 1052932.050000009, 1426464.150000006, 1171366.150000001, 1589882.2600000072, 1127692.9000000139, 157.5, 1623357.6399999978, 1286818.7000000067, 1589177.5500000012, 1244198.0800000033, 1296369.6200000062, 1109568.0800000064, 1756067.479999994, 991629.0000000129, 1307231.930000007, 864065.8300000081, 1782969.1899999976, 1119391.2200000128, 1780714.7099999874, 1384931.4100000025, 1630158.8900000025, 1092086.0800000106, 1035402.7600000114, 820830.3500000067, 1308077.1100000022, 972534.1300000091, 20731.949999999997, 1993370.879999994, 1417302.3699999955, 1792512.7799999865, 1421430.4400000023, 1836838.199999998, 1508478.3899999992, 1927412.5499999956, 1279050.9700000016, 17405.22, 1718556.7700000016, 1175237.5400000075, 1800738.8899999873, 1264565.6200000115, 1242956.340000005, 1001388.7500000063, 1631525.509999992, 1076891.9300000116, 75213.17999999996, 1701750.2100000002, 1365251.159999999, 2030639.3499999722, 1276853.7500000051, 70171.62000000001, 1621501.7999999924, 1149511.540000007, 1469466.120000004, 1019332.3100000104, 1147093.1900000097, 1202579.6700000034, 825379.3100000047, 931738.2800000131, 941445.9800000091, 1008364.6100000099, 1420456.6499999966, 1003176.9800000119, 2608.3599999999988, 1528847.419999992, 900814.2800000092, 1350540.1000000068, 975651.7100000135, 1478246.260000003, 1100506.0800000057, 1551772.310000004, 1241992.400000005, 1739.5200000000002, 1774056.4899999956, 1331928.2100000014, 1855145.3599999903, 1008147.6800000068, 1413494.5599999991, 1143801.9700000074, 1276732.7200000053, 1061228.2500000081, 1404107.6400000027, 1164233.1100000048, 1334903.6600000057, 1082316.1900000144, 1391592.9600000049, 1251984.539999994, 1373371.1399999901, 1116740.0800000075, 1680.28, 1625407.3799999878, 1119824.7700000035, 1291384.710000001, 1097627.000000007, 1933721.549999993, 1582495.6699999757, 1643429.9799999944, 989498.3500000081, 1213496.2400000023, 982348.4900000092, 1115798.4300000109, 966668.5200000077, 1383880.9700000102, 1181418.6499999992, 1322708.4800000007, 1035950.4900000123, 1475232.4599999986, 1169869.400000005, 1256737.760000009, 977682.7100000111, 1293197.150000006, 1142418.230000001, 1243910.6200000052, 1023391.1000000071, 1429471.3900000094, 1021739.4400000096, 1264526.7300000014, 978767.0700000074, 1834953.749999998, 1503585.3499999964, 1762226.9999999944, 1120894.2000000114, 447.9, 1723452.359999996, 1261416.3299999984, 1432657.6999999974, 1056131.2600000156, 1443850.9600000088, 1283687.270000001, 1242910.5900000036, 1400884.8600000017, 1860118.4799999984, 1939572.8999999834, 1601447.0399999907, 1206831.790000005, 1100271.4300000113, 1338108.8899999927, 1415751.4699999942, 1128029.8500000085, 1799.88, 1824835.2399999956, 1268427.5399999984, 1313717.680000012, 1129701.3300000115, 3856.55, 1444765.6900000023, 1320223.4199999983, 1380308.0000000016, 1052322.5400000105, 2431.6800000000003, 1997167.4999999858, 1788798.9499999895, 1659838.7599999916, 1100722.7800000098, 220.6, 1548657.889999997, 1389231.5899999966, 1435911.6600000025, 1290267.5500000087, 1295475.260000005, 1510274.3399999917, 1332526.5799999987, 1144628.7800000096, 67478.34999999995, 1497165.3299999936, 1410850.2599999951, 1365503.6800000065, 1109700.700000012, 1589230.790000006, 1369961.1399999987, 1308637.140000005, 974687.4800000122, 1394616.5499999986, 1157432.840000005, 1203938.2800000075, 978240.5800000128, 1643276.3399999957, 1485162.3299999863, 1557670.3900000015, 1155134.9400000079, 849.6, 1599892.0699999954, 1217479.360000001, 1333731.7500000026, 1096741.2400000133, 8316.78, 1312188.91000001, 1186893.1500000008, 1149033.780000006, 1073879.0300000093, 1405559.5499999963, 1138243.4400000102, 1381813.5499999926, 1047115.050000015, 1626610.52999999, 1426777.29999999, 1549701.139999987, 1131291.9800000058, 1431128.9399999932, 1344662.850000005, 1658918.6799999953, 1271790.290000009, 1200999.4400000065, 1282477.759999998, 1477395.249999992, 1094993.4900000165, 1756913.0599999921, 1359339.0200000005, 1219471.030000006, 1034101.4400000114, 4569.330000000001, 1472361.020000006, 1155461.1600000043, 1369871.6800000044, 976726.040000008, 6050.399999999998, 1645347.5199999944, 1346297.1200000017, 1435613.5900000064, 1619710.4799999965, 5186.54, 1681203.089999995, 1572074.5199999984, 1561224.5199999923, 1221182.570000005, 1946626.6099999764, 1633405.9099999887, 1852181.7099999832, 1262658.3400000024, 1698777.8799999787, 1607045.3799999985, 1513646.2499999949, 1101736.6700000067, 1536830.0099999998, 1396452.2500000014, 1470821.2499999967, 1232219.8500000045, 264.24, 1610574.3399999794, 1234313.7500000072, 1444461.809999993, 1048052.4700000099, 1644053.0599999863, 1411690.2699999935, 1397286.4099999976, 1144243.9300000046, 1602469.7799999942, 1258836.0200000016, 1982523.6799999808, 1265565.1599999997, 1406158.750000003, 958084.8600000067, 1261884.1200000031, 1009775.7300000071, 85415.43999999989, 1953325.4799999741, 1990001.5599999682, 1699203.3399999784, 1496925.6899999895, 5208.849999999999, 1893163.1299999778, 1457864.8199999887, 1774018.9799999816, 1378871.8299999926, 1801538.9099999801, 1628488.8799999817, 1619874.9599999876, 1336313.6700000023, 1407056.0099999914, 1682710.2199999823, 1868452.4799999737, 1348003.2900000033, 18752.999999999996, 1778571.2799999833, 1594419.8399999759, 1565417.9999999884, 1314665.72, 23613.449999999993, 1594658.2299999835, 1174987.4700000037, 1215470.8800000108, 1042350.380000014, 1233572.2699999993, 1053016.900000009, 1106050.710000002, 878231.2600000052, 1010663.7200000064, 1062818.2000000074, 1186966.9900000012, 890906.1900000124, 1629805.059999997, 1313079.9799999977, 1433498.8499999945, 1191978.2700000063, 1667068.9799999855, 1483907.64999999, 1432550.8399999936, 1120044.4, 1534156.3799999917, 1200080.0699999982, 1423229.899999994, 1072858.2800000056, 932.4000000000001, 1416190.889999991, 1334043.0599999893, 1543665.9499999795, 1048587.3100000082, 40.64, 1489320.989999982, 1166548.490000001, 1313995.9099999936, 1208505.1999999958, 1346115.1399999901, 1156289.1800000076, 1244331.7400000012, 1063212.9800000056, 4516.92, 1700833.119999988, 1164134.2900000012, 1519300.499999996, 1133863.970000003, 668.88, 1450750.9099999939, 1126707.1899999995, 1239363.1199999973, 1136362.670000003, 1543921.2899999905, 1297912.7399999981, 1278808.450000005, 1070251.4200000055, 3198.3, 1368181.6300000013, 1037876.7800000096, 1211647.8400000029, 954312.4200000094, 1713227.2199999876, 1318654.899999997, 1666471.839999995, 1199488.0200000047, 1633486.8899999855, 1241778.120000002, 1380048.2200000044, 1013020.1200000069, 22612.56, 1572773.8399999943, 1328561.329999993, 1299910.5600000017, 1131382.980000008, 1867768.8799999822, 1434063.6899999885, 1593341.7799999902, 1246499.4799999986, 3934.1800000000003, 1620501.209999982, 1501379.159999983, 1566492.5599999954, 1196262.160000003, 15141.36, 1658718.3099999856, 1413433.909999992, 1507130.8999999892, 1153231.73, 5904.720000000001, 1572592.5599999845, 1412265.3699999913, 1485359.6899999909, 1159757.320000005, 4035.8399999999997, 1622334.6999999892, 1543874.9099999822, 1484011.6499999883, 1223944.3399999968, 1298102.8099999977, 1374700.9499999834, 1426989.6899999927, 1209373.1899999967, 7465.98, 2219798.2399999597, 1480915.9799999832, 1527941.499999979, 1139157.2700000051, 20410.2, 1755614.28999997, 1458645.3399999903, 1368799.8999999976, 1130429.8700000066, 1569972.579999986, 1635035.9599999813, 1570444.8899999822, 1146034.6000000038, 11509.080000000002, 1908342.0699999714, 1801455.139999972, 1658459.999999987, 1291874.2199999937, 968894.1200000065, 1363731.7199999914, 1407992.2099999974, 1115964.4000000006, 4848.240000000001, 1813927.1799999725, 1303189.569999996, 1361995.2899999996, 1212522.6699999995, 731773.4200000013, 1048128.2200000024, 791877.830000007, 1210653.9199999997, 1232599.0799999996, 516612.34000000125, 1504872.0699999917, 1051084.4800000063, 1392801.979999992, 1356516.1099999961, 598280.7700000028, 1235545.079999995, 932732.6700000075, 1439719.7799999928, 1287225.4599999988, 548365.2100000035, 1480760.0399999926, 1152568.550000004, 1427518.3199999856, 1408534.4399999913, 624978.9700000029, 1348383.1399999962, 963675.6600000097, 1224536.6299999997, 1237149.2499999935, 563531.9200000016, 1365489.0999999873, 928483.8400000075, 1217445.4899999984, 1158976.7199999997, 572927.7800000034, 264593.0000000004, 263992.0353714294, 392028.95306666876, 1501249.049999993, 566816.4500000019, 1119428.8, 1147495.6500000004, 1498599.6599999913, 1574839.039999994, 631196.3100000034, 1351544.680000002, 1393838.869999999, 1294199.809999997, 1900186.0899999854, 1167872.640000002, 1349633.7299999963, 1129971.1899999995, 1180428.6400000043, 1173446.240000002, 522646.4600000018, 1259236.0, 952653.6300000022, 1119201.080000003, 1135002.7200000037, 579041.0200000006, 1574513.4599999853, 1368132.4399999967, 1607115.179999981, 2017296.2815999785, 809441.4100000042, 1649760.4699999872, 1056405.220000006, 1344609.7099999913, 1445575.3899999985, 541730.4100000003, 1542006.2499999919, 1255647.009999999, 1398830.6899999941, 1672147.549999989, 540412.530000002, 1395852.1999999948, 1198101.3100000059, 1386637.619999992, 1494157.7799999951, 662598.9800000035, 1615755.8399999868, 1217627.5000000016, 1419932.0799999922, 1384119.1599999943, 616143.6600000013, 68.58, 1492198.6399999985, 1345660.6799999997, 1417048.5999999824, 1648003.1299999924, 706228.4099999995, 1476668.2099999932, 1250932.4499999976, 1699333.9799999865, 1961085.4999999898, 802696.4400000039, 1718066.809999982, 1258542.5699999982, 1066110.0900000005, 1538926.5199999837, 1270850.849999993, 1323968.9899999993, 1912143.6999999904, 886691.2100000025, 1509650.219999999, 1393319.600000002, 1754548.769999994, 1655871.0399999896, 634329.350000002, 1702277.0899999915, 1357532.2800000012, 1523818.6799999918, 1647726.9799999918, 847494.9000000019, 2017299.9399999792, 1645756.8899999848, 2174044.5399999702, 2292557.7599999756, 874255.9300000011, 1643006.039999979, 1861930.899999982, 1525952.549999987, 1541745.389999986, 475190.92000000074, 1003882.480000002, 1163870.1599999962, 1171988.109999999, 538449.1900000029, 1551948.2699999816, 919632.4200000028, 1062032.7800000038, 954396.7700000023, 408487.3800000004, 652488.9500000023, 1130073.109999998, 1282354.5299999993, 1062791.8699999996, 440487.43999999994, 1144731.0900000029, 937492.4500000007, 1151540.7399999984, 1112098.9700000044, 458201.29000000143, 1168720.7900000005, 909798.6000000049, 1295086.0999999975, 1203053.1399999964, 592152.0600000023, 1620001.5899999894, 1356533.2100000016, 1432941.629999995, 1615560.409999993, 704916.1200000026, 1448804.679999992, 1199174.8299999987, 1202762.959999995, 1411804.1399999987, 527792.4800000013, 1377315.8899999987, 962720.8800000054, 1172137.5299999993, 1257382.2900000005, 556814.4100000015, 1381515.4199999946, 923104.370000006, 1342993.88, 1278435.3799999992, 475639.2900000017, 1599346.5599999866, 1320116.199999994, 1271136.029999997, 1345634.730000001, 507620.93, 1549160.8599999936, 942479.5900000036, 1287553.8299999959, 1396379.5300000005, 596788.4600000012, 1340668.7599999935, 948060.3500000077, 1142898.1799999967, 1181914.1299999985, 477785.1500000016, 1360791.459999995, 970969.8300000022, 1125006.5599999998, 1103728.770000001, 539661.330000001, 1435180.4899999984, 1126940.4200000013, 1335130.849999991, 1513832.8799999952, 589217.0800000024, 1484530.7699999923, 1347141.7399999925, 1490921.4799999823, 1444562.7499999935, 612918.7500000003, 1481275.069999993, 1015061.3900000069, 1229017.5600000008, 1073232.1700000002, 442869.0800000016, 1364996.9599999941, 1206926.48, 1204788.6999999997, 1346178.8899999983, 526171.1000000001, 1356165.2399999942, 1145967.4099999985, 1574504.8499999975, 1323629.609999997, 594388.5900000011, 1506046.2399999897, 1100254.580000002, 1521412.759999993, 1705186.9399999944, 564204.8600000015, 1466806.3499999887, 1324042.859999993, 1374817.8499999943, 1484459.1799999936, 574053.8700000023, 1630450.139999981, 1214823.0099999942, 1404468.759999986, 1304926.6799999974, 1667171.3399999926, 64.17999999999999, 66.0, 1074476.840000006, 1440889.3699999908, 1498823.9199999974, 575331.280000002, 1887621.8899999855, 1312918.9699999932, 1434220.349999987, 1604936.1599999936, 598919.510000002, 1589769.0999999966, 1265423.469999997, 1531005.559999991, 1607555.0399999947, 646232.7600000001, 1478503.1099999847, 1104694.7700000007, 1331629.4999999956, 1159393.1699999995, 734346.2100000007, 1690318.2099999827, 1393410.729999992, 2088157.0599999784, 1459322.6999999953, 770774.4200000011, 1380911.2199999979, 1163502.7100000025, 1370063.1799999902, 1255450.5900000015, 562756.6100000018, 1531829.5099999963, 1181653.3799999987, 1479667.1499999904, 1371983.670000002, 649410.3300000001, 1552524.4199999962, 1205968.4800000002, 1385939.889999991, 1252666.8600000008, 613013.670000002, 1432746.0499999996, 1125981.2600000037, 1287936.879999996, 1535877.8399999938, 547646.5000000013, 1434357.1899999904, 1060771.4700000025, 1405134.2399999956, 1313369.29, 515584.73000000144, 1433233.5600000024, 1113267.850000002, 1364539.409999988, 1307758.820000001, 549431.1900000019, 1555000.8299999959, 1261219.6299999969, 1335441.9199999955, 1290937.1899999997, 548256.1200000013, 1479436.0099999944, 1047094.2100000058, 1282555.6799999939, 1166937.1000000024, 533360.0900000021, 1988489.26999998, 1268096.739999995, 1526009.3199999896, 1423376.3299999975, 683365.3900000014, 252.0, 1364005.7399999897, 1763247.5999999873, 1474830.419999995, 532598.3300000016, 2003115.5099999788, 1595505.9799999811, 1606438.0099999895, 1679353.1499999948, 642984.860000001, 1623936.949999994, 1144089.2500000007, 1339375.149999993, 1243933.3099999966, 485431.4500000018, 1348994.459999994, 1091959.900000001, 1356880.8100000017, 1011177.0400000024, 551425.3300000016, 1874976.9299999864, 1780518.5399999837, 1513974.1699999927, 1954726.4699999876, 720302.8400000032, 1547680.0199999947, 1632594.9599999855, 1568783.0099999905, 1825220.789999988, 655689.2200000011, 1420661.0099999951, 1616208.7899999903, 1457375.2999999963, 1551409.6899999992, 673255.900000001, 1656992.2599999907, 1685217.069999989, 1506386.8499999887, 1285915.639999996, 648518.940000001, 1571750.0199999998, 315383.51320000034, 1454415.8099999917, 1223727.0299999937, 638486.6500000019, 1422859.6300000001, 1627537.9899999774, 1660249.6999999809, 1513669.6899999955, 681138.6800000016, 1366834.8899999915, 1405686.6300000004, 1598764.2199999855, 1631739.6599999883, 851797.5800000014, 1640459.5299999868, 1291574.0899999945, 695909.8100000006, 1504980.0299999884, 1401716.1699999885, 1443170.0099999933, 1919516.9799999848, 798703.4399999991, 2095877.5899999877, 2117348.56999999, 1657314.4699999783, 2097032.7099999879, 767343.2200000024, 1591973.0499999907, 1772581.8099999898, 1628303.0399999921, 1567226.1399999922, 705238.2700000016, 1780549.9899999874, 1552498.4599999874, 1698704.8899999796, 1511568.2599999853, 2192632.0399999833, 1721390.6199999817, 1758534.1099999803, 1825974.289999984, 685682.0800000031, 975676.4100000067, 1208830.229999996, 1128526.0300000007, 555611.940000002, 1631168.1699999839, 1339010.5899999905, 1090479.6100000031, 1100928.7900000075, 489674.9000000016, 1261628.320000004, 965994.590000008, 1112124.2799999996, 937308.7400000016, 490122.10000000097, 1133961.220000004, 1064104.0100000054, 1229083.7699999989, 1072558.460000006, 483084.7200000007, 1194677.9299999978, 1063208.750000004, 1179232.249999998, 1202335.2199999983, 510739.3400000004, 1495112.2099999979, 1514533.6699999918, 1430188.8599999947, 1485610.2000000004, 652031.3600000014, 1210236.3599999978, 1295783.7099999993, 1224991.2999999993, 1214141.2699999968, 546647.6500000006, 1172459.5299999993, 1117729.8199999998, 1235535.4399999985, 1298842.530000002, 524848.7200000011, 1371356.6599999988, 1163979.1499999964, 1258423.2900000012, 1154129.9000000013, 512187.67000000185, 1511439.2999999938, 1425806.8599999952, 1371919.7899999935, 1450984.1099999992, 540228.280000002, 1403160.3700000015, 1213785.4599999995, 1253921.6899999955, 1179824.1600000001, 523407.6600000001, 1409175.129999999, 1067026.4600000025, 1224627.249999996, 1204607.1299999955, 509252.540000001, 1367621.8799999924, 1345780.1600000001, 1328949.2999999905, 1385127.8999999994, 530395.6800000017, 1402946.7899999984, 1415473.889999992, 1425863.7899999926, 1478626.6999999941, 519525.06000000186, 1531602.1099999957, 1424520.5499999968, 1537747.379999993, 1544066.6399999906, 686084.0100000005, 1312999.9299999953, 1240539.3099999994, 1283607.699999999, 1251387.149999998, 522687.3300000019, 1385401.3899999987, 1330818.6299999922, 1356733.1999999934, 1325316.1299999976, 609666.6900000005, 1667737.4499999906, 1511478.4899999879, 1757887.6999999862, 1508456.3999999946, 769131.8800000034, 1544663.0199999942, 1544511.0999999873, 1484549.6599999876, 1428649.049999997, 581118.42, 1530850.209999991, 844320.6900000004, 1837453.4299999839, 1362660.9099999922, 608230.9700000016, 1384994.4099999922, 1441825.069999992, 1580054.329999986, 1283442.5599999975, 1640248.129999983, 1462714.089999986, 1610511.1099999903, 1472692.049999991, 685271.450000001, 1805060.2799999833, 1511527.3976000028, 1577680.3499999926, 1467358.03, 566758.370000003, 1450457.289999994, 1493807.6499999925, 1538773.6199999892, 1605120.8899999883, 730632.8200000038, 1333715.789999999, 1247897.8399999968, 1323654.499999992, 1298499.3000000017, 493787.54000000004, 1623859.6099999878, 1555957.9799999928, 1842972.5799999852, 1629574.2899999972, 1823526.4799999848, 1054647.2700000044, 1201607.0999999999, 1341251.729999997, 568466.9000000021, 1436033.849999995, 1570296.3899999887, 1737908.4299999843, 1287555.259999998, 606391.5000000013, 1387495.7800000003, 1297567.1700000018, 1501910.199999992, 1322231.62, 609221.6900000017, 1440173.9999999907, 1254386.040000002, 1413405.7500000044, 1570303.439999992, 611989.3500000014, 1599176.9999999898, 1389109.059999997, 1620193.0999999898, 1762639.6599999953, 658902.5600000017, 1495621.6099999975, 1509701.5399999898, 1468077.4399999937, 1459868.5599999994, 719075.0400000026, 1400895.0299999984, 1448819.5999999957, 1447521.3999999932, 1366186.0700000005, 594670.4100000024, 1490946.859999991, 1299065.2100000032, 1282543.5699999887, 1184917.060000001, 570736.4800000032, 1631074.309999989, 1558048.7599999912, 1529656.979999993, 1337255.6699999967, 1684978.909999992, 1530822.4399999967, 1697590.4899999828, 1659398.869999989, 647554.1400000011, 1568376.3699999948, 1488555.9799999902, 1363515.7499999981, 1363198.4399999937, 580319.3700000012, 1437388.619999994, 1236590.140000003, 1438297.4999999872, 1270551.9599999955, 581899.0900000009, 1400845.0199999942, 1376167.8799999962, 1350614.849999987, 1295546.3299999924, 501278.10000000213, 1536850.3799999866, 2073403.9199999804, 1658544.9499999988, 1878638.1999999925, 642030.1100000049, 1603996.0599999907, 1715649.6999999932, 1945595.9099999887, 1571989.199999994, 741637.8700000012, 1692431.969999993, 1344660.439999999, 1691936.8399999884, 1735883.179999997, 873249.3100000045, 1573762.1799999932, 1773029.7299999841, 1761308.979999997, 1458448.9899999944, 667529.2700000004, 1562900.6799999962, 1688183.5699999926, 1444701.9599999944, 1207951.71, 576620.8600000022, 1682149.0799999908, 1712634.4599999902, 1688495.0199999828, 1530170.62, 731447.6100000035, 1673204.1299999887, 1489595.1999999937, 1957949.3199999777, 1855567.5299999835, 722299.5800000015, 1736751.439999984, 1512430.5099999919, 748296.7500000005, 1775773.169999983, 1652791.2499999842, 1727887.549999987, 1915619.9199999948, 862837.9400000039, 1841113.1599999997, 1759232.4199999995, 1991339.4699999848, 2138325.6899999967, 881260.5000000049, 1880526.619999991, 1771416.049999994, 1924912.1099999913, 2168609.809999984, 809838.9600000046, 2011664.5099999825, 1814776.0499999942, 1857755.1499999869, 2007864.9399999857, 2171666.3299999773, 75549.58999999998, 1845493.0799999812, 1945622.9999999898, 1914804.9299999857, 583969.0300000022, 1649524.709999991, 1072008.3100000047, 1167466.7999999996, 1380498.3700000034, 1401308.3200000005, 974691.350000004, 1067987.120000005, 1217128.8100000038, 548646.1100000003, 1121578.7300000032, 1027059.6000000059, 1133763.650000005, 1079487.390000006, 812064.280000002, 1241721.489999998, 939011.6400000047, 1644893.0399999903, 893655.910000004, 1564223.829999995, 1079535.8800000066, 985052.6800000031, 1107970.330000004, 620272.7800000008, 1528988.3599999952, 1355355.1300000015, 1420629.7099999976, 1635440.2499999946, 621951.0100000021, 1647495.7599999986, 1284114.8800000066, 1313556.2999999993, 1254648.200000004, 569537.9500000024, 1405229.7899999989, 1205890.480000001, 1393708.2200000007, 1391931.8000000045, 627646.8900000041, 1431500.1500000055, 1382298.25, 1292201.6599999997, 1279051.5999999992, 633516.0800000001, 1572227.8799999943, 1542113.080000005, 1741787.9799999942, 1738690.3999999953, 700519.4000000034, 1472113.7699999919, 1572714.5599999984, 1497374.789999995, 1409560.2899999998, 513500.340000001, 1377244.460000001, 992787.8200000069, 1209264.5900000029, 1135339.5000000044, 506403.6300000021, 1252493.1299999985, 1047090.7400000066, 1163260.840000009, 1288570.9200000064, 608586.1300000013, 1380872.979999994, 1252911.710000001, 1391296.3899999969, 1485322.9900000005, 674817.3500000038, 1409654.9500000014, 1248689.03, 1442652.790000002, 1337998.390000004, 724640.9100000028, 1061192.4700000037, 1108480.1300000057, 1403772.1900000016, 1199979.760000004, 1162405.7700000072, 1261866.2700000086, 1252621.5400000026, 1803260.2699999965, 1282448.3899999969, 1375170.16000001, 1333954.4400000037, 1205827.6700000041, 1162843.0100000037, 1447407.2600000014, 1277502.1500000027, 1376289.2200000028, 1765508.9800000014, 1363534.9000000032, 1166908.4900000016, 1350057.5199999975, 1327125.1400000018, 1647285.9599999962, 1792599.85000001, 1218074.860000005, 1606299.049999998, 1811.6399999999999, 1429440.0000000016, 1457409.4700000065, 1629499.7399999995, 1381981.5999999954, 1388963.5700000029, 1760732.4999999956, 1919117.8199999998, 1446735.8399999985, 1850866.939999996, 117028.68000000001, 1569267.530000001, 1432444.5599999996, 1403760.069999997, 1300039.4699999965, 1229100.0700000047, 1306282.2200000016, 1444250.9099999974, 1433082.369999996, 1380385.3699999969, 1131821.970000005, 341132.7400000005, 1232819.7600000012, 1374915.8499999975, 1444502.9699999925, 1012206.5400000033, 1308429.6500000022, 1735022.1999999955, 1699578.3400000045, 2163522.8099999875, 1458461.9199999992, 1417338.940000008, 1614024.570000001, 1469868.6099999952, 1268493.38, 106750.11999999997, 2117251.5199999865, 1338613.8800000027, 1261764.1100000034, 1441507.1399999983, 1045891.8300000019, 1399091.9800000011, 1324834.430000005, 1273609.370000002, 1312083.9799999965, 1003156.3900000049, 1148531.5500000033, 1218678.9400000041, 1113641.230000004, 1261386.919999999, 1077682.6500000027, 1630141.3900000006, 1638323.2499999965, 1551788.2599999937, 2358016.83, 1387705.3500000043, 1123998.2100000016, 1343492.1000000043, 1218178.4900000077, 1364092.0200000056, 1034713.3400000046, 1131632.6000000054, 1331404.9999999965, 1337728.4899999998, 1151366.2100000046, 1006655.5900000075, 1204360.0800000106, 1255568.0800000115, 1164749.8900000057, 1306111.4, 1055164.960000001, 1350727.5799999968, 1662739.0399999986, 1626670.6199999999, 1698377.1100000015, 1417747.669999992, 1263654.410000001, 1500534.4600000028, 1285855.6499999964, 2289287.500000008, 1314640.1900000086, 1330688.3700000073, 1339260.5800000024, 1353051.230000003, 1139641.100000001, 1242840.0100000065, 1268610.4000000043, 1466278.450000002, 1238359.0300000003, 1044579.2200000058, 1186602.2200000042, 1170367.1400000015, 2056990.109999998, 1524997.5000000051, 1460625.89, 1326984.5600000052, 117541.50000000006, 1410318.3800000048, 1431216.3499999992, 1445491.959999998, 1388670.2100000037, 1422935.740000006, 1617559.8599999917, 1888068.6500000043, 1616286.7499999949, 1476255.51, 1490257.9000000046, 1785421.3200000008, 1730356.7099999983, 1758967.1499999973, 1455631.2999999989, 1391633.4400000006, 1349588.779999995, 1484634.389999998, 1289941.9500000074, 1223426.0800000005, 1326231.8300000047, 1410200.9700000007, 1520283.0100000016, 1630793.4799999935, 1249985.6700000025, 1342431.190000003, 4110.530000000001, 1454407.1500000043, 1529644.3500000015, 1605396.1900000004, 1216297.940000002, 1457572.0599999928, 1402303.9100000013, 1330775.4499999913, 1721966.5399999917, 1329371.739999999, 397482.2100000004, 1183214.050000002, 1334190.670000004, 1660383.4700000016, 1774597.8999999953, 1246601.0799999987, 391441.0900000012, 1240661.55, 1768680.6199999982, 1671273.3199999975, 1383057.3699999962, 1346695.6299999955, 477175.43000000104, 1226348.770000002, 1687055.1799999943, 1575578.3299999954, 1431318.5599999968, 1561842.5400000028, 1580431.5600000005, 1682119.6699999978, 1621325.1199999978, 1242369.1100000013, 1514588.9999999967, 1689429.1599999936, 1825221.4999999802, 1815232.9499999923, 1460046.739999996, 1880298.0799999908, 1377264.6899999946, 1778007.1999999937, 1942630.2099999895, 1803461.4199999943, 1060921.9700000056, 1415321.1599999995, 1336931.479999993, 1312833.449999995, 1663430.3599999824, 1181909.800000001, 1337040.4999999953, 1101333.7300000035, 939569.4800000034, 965227.4700000042, 1124504.480000001, 897890.8200000023, 1113440.639999997, 869939.6300000008, 1042507.9400000013, 1150071.8900000027, 1133937.8399999966, 1293184.8699999957, 976931.6900000018, 1189699.8900000006, 1246513.2300000002, 1162970.8099999998, 1122022.9099999985, 1031826.570000003, 1071286.820000002, 1455117.3300000005, 1516584.5999999933, 1302347.0399999986, 1174135.03, 1270337.029999998, 1318492.7999999986, 1251412.6499999985, 1433409.2099999923, 935181.1000000004, 1071773.120000002, 1225477.5000000028, 1269580.9099999957, 1580541.2599999928, 1149076.6199999987, 1252405.990000001, 1387715.2900000056, 1550159.869999987, 1298799.3599999952, 1075006.0600000003, 1214700.7899999942, 1423197.8499999985, 1391147.149999995, 1467536.0499999952, 1142203.1200000024, 1372480.9899999993, 1598418.3599999906, 1542858.6799999936, 1523630.9499999932, 1121623.7499999981, 1348155.1600000027, 1564672.8099999938, 1446535.8199999824, 1531037.489999992, 1080855.279999998, 1618499.9399999958, 1434209.9899999895, 1617062.9299999909, 1744399.1099999887, 1101127.079999997, 1471460.8099999975, 1240882.4399999974, 1456281.359999996, 1184955.539999997, 857684.7800000013, 1594145.919999998, 1343790.9999999986, 1813818.7499999823, 1694303.469999984, 1114963.1599999978, 1756675.989999983, 1553677.269999991, 1908639.4699999832, 1211737.7500000016, 964927.27, 1574769.24999999, 1431620.979999994, 1632817.7799999889, 1367878.089999994, 998689.980000002, 1792864.2899999872, 1585986.2199999948, 1811216.9199999825, 1622084.479999998, 1189997.0699999975, 1514994.3199999896, 1588835.7899999938, 1887515.389999987, 1563142.3099999947, 1217880.3499999992, 1723230.2499999886, 1516416.3299999903, 1849271.9699999783, 1459119.3199999894, 1234600.0899999933, 1752637.6499999897, 1613260.7000000004, 1775482.5199999795, 1488591.8899999845, 1024824.0799999996, 1473476.359999989, 1535775.1099999908, 1746138.919999992, 1952746.4499999802, 2193887.629999982, 1619996.5299999937, 1911231.6199999899, 1449543.1899999974, 1307975.4899999953, 1578508.2800000007, 1643633.749999998, 1781753.4599999904, 1530605.7999999865, 1114978.0, 1514320.5599999926, 1617616.79999999, 1817218.379999976, 1663160.6599999988, 1160206.68, 1664263.2099999918, 1840870.9899999874, 1853754.7799999875, 1879528.939999991, 1496997.639999989, 1779545.5499999963, 1785935.3299999938, 2016760.979999994, 1884851.3099999868, 1435229.2999999975, 1549553.850000002, 1527037.5600000008, 1603226.8299999898, 1619081.5499999942, 1142285.1700000013, 1355985.87, 1507942.1699999948, 1622093.0199999823, 1609057.3699999957, 1153712.8200000017, 1373575.8600000073, 1482829.770000006, 1622204.1199999969, 1457422.9899999972, 1062460.5400000047, 1430853.300000001, 911.8900000000001, 1485104.6599999997, 1811581.6799999916, 1714071.6499999878, 1380015.0099999972, 1434929.019999993, 1463026.6899999985, 1769472.7099999918, 1649898.299999994, 1248860.18, 1563043.2899999975, 1621574.5599999998, 1413450.5699999942, 1788530.329999996, 1287615.1099999975, 1447877.800000002, 1487991.109999996, 1885870.2299999946, 1583599.11999999, 1382312.3699999996, 1583553.8999999962, 1635616.6299999976, 2124858.459999989, 2031703.259999991, 1363986.1299999985, 1827137.2599999923, 3836.16, 1581338.9699999967, 1797101.989999993, 1731673.819999993, 1337315.8799999994, 1621294.5199999933, 1741464.4299999957, 2188004.809999985, 1754184.7299999946, 1929533.229999988, 1631301.0799999963, 1703354.5099999874, 1515792.9099999953, 1220734.4399999992, 1857262.9299999948, 1624049.0699999954, 2103516.5699999826, 2237379.859999991, 1520794.139999992, 1607011.1399999969, 1701822.859999994, 2417669.260000007, 1488290.0399999951, 2044011.1099999915, 1575572.0599999982, 1695400.709999999, 2093350.9199999925, 1903592.0999999933, 1617137.7199999965, 1583596.2000000048, 9059.179999999998, 1608209.3900000006, 1819274.4899999849, 1797794.7199999955, 1518737.27999999, 1768060.5799999896, 1742317.9099999939, 1754337.8699999875, 1520753.1899999953, 1199292.7799999982, 1590066.729999995, 166.5, 1934375.7799999898, 1885774.539999989, 1798777.479999994, 1413474.1599999988, 1622507.2799999963, 7983.2699999999995, 1599210.9099999992, 1991263.8899999873, 1684256.7999999959, 1299206.4499999944, 1667660.1599999971, 1492086.5999999954, 1579623.1199999969, 1477524.3599999985, 1219325.6899999983, 1573043.7499999944, 1631027.7299999928, 2029787.9499999823, 1610670.4299999902, 1293877.739999997, 1682048.8299999912, 1547100.7499999977, 1796849.5599999898, 1314761.1900000025, 1854169.519999983, 38465.830000000016, 1429786.6499999908, 1543820.4999999835, 1411734.8199999945, 1330139.7799999982, 1720142.4699999834, 1605478.0399999917, 2084614.079999977, 2120044.0399999856, 1351784.1799999927, 1843722.5699999963, 1696413.679999992, 2041697.4299999846, 1944332.3799999803, 1581251.169999993, 1886086.6099999836, 1635196.5699999866, 3103110.159999975, 1548088.409999991, 1693546.8299999922, 1850935.4099999818, 1403586.1399999934, 2722249.1999999927, 1234922.3899999976, 1511023.369999991]}],                        {\"template\": {\"data\": {\"bar\": [{\"error_x\": {\"color\": \"#2a3f5f\"}, \"error_y\": {\"color\": \"#2a3f5f\"}, \"marker\": {\"line\": {\"color\": \"#E5ECF6\", \"width\": 0.5}}, \"type\": \"bar\"}], \"barpolar\": [{\"marker\": {\"line\": {\"color\": \"#E5ECF6\", \"width\": 0.5}}, \"type\": \"barpolar\"}], \"carpet\": [{\"aaxis\": {\"endlinecolor\": \"#2a3f5f\", \"gridcolor\": \"white\", \"linecolor\": \"white\", \"minorgridcolor\": \"white\", \"startlinecolor\": \"#2a3f5f\"}, \"baxis\": {\"endlinecolor\": \"#2a3f5f\", \"gridcolor\": \"white\", \"linecolor\": \"white\", \"minorgridcolor\": \"white\", \"startlinecolor\": \"#2a3f5f\"}, \"type\": \"carpet\"}], \"choropleth\": [{\"colorbar\": {\"outlinewidth\": 0, \"ticks\": \"\"}, \"type\": \"choropleth\"}], \"contour\": [{\"colorbar\": {\"outlinewidth\": 0, \"ticks\": \"\"}, \"colorscale\": [[0.0, \"#0d0887\"], [0.1111111111111111, \"#46039f\"], [0.2222222222222222, \"#7201a8\"], [0.3333333333333333, \"#9c179e\"], [0.4444444444444444, \"#bd3786\"], [0.5555555555555556, \"#d8576b\"], [0.6666666666666666, \"#ed7953\"], [0.7777777777777778, \"#fb9f3a\"], [0.8888888888888888, \"#fdca26\"], [1.0, \"#f0f921\"]], \"type\": \"contour\"}], \"contourcarpet\": [{\"colorbar\": {\"outlinewidth\": 0, \"ticks\": \"\"}, \"type\": \"contourcarpet\"}], \"heatmap\": [{\"colorbar\": {\"outlinewidth\": 0, \"ticks\": \"\"}, \"colorscale\": [[0.0, \"#0d0887\"], [0.1111111111111111, \"#46039f\"], [0.2222222222222222, \"#7201a8\"], [0.3333333333333333, \"#9c179e\"], [0.4444444444444444, \"#bd3786\"], [0.5555555555555556, \"#d8576b\"], [0.6666666666666666, \"#ed7953\"], [0.7777777777777778, \"#fb9f3a\"], [0.8888888888888888, \"#fdca26\"], [1.0, \"#f0f921\"]], \"type\": \"heatmap\"}], \"heatmapgl\": [{\"colorbar\": {\"outlinewidth\": 0, \"ticks\": \"\"}, \"colorscale\": [[0.0, \"#0d0887\"], [0.1111111111111111, \"#46039f\"], [0.2222222222222222, \"#7201a8\"], [0.3333333333333333, \"#9c179e\"], [0.4444444444444444, \"#bd3786\"], [0.5555555555555556, \"#d8576b\"], [0.6666666666666666, \"#ed7953\"], [0.7777777777777778, \"#fb9f3a\"], [0.8888888888888888, \"#fdca26\"], [1.0, \"#f0f921\"]], \"type\": \"heatmapgl\"}], \"histogram\": [{\"marker\": {\"colorbar\": {\"outlinewidth\": 0, \"ticks\": \"\"}}, \"type\": \"histogram\"}], \"histogram2d\": [{\"colorbar\": {\"outlinewidth\": 0, \"ticks\": \"\"}, \"colorscale\": [[0.0, \"#0d0887\"], [0.1111111111111111, \"#46039f\"], [0.2222222222222222, \"#7201a8\"], [0.3333333333333333, \"#9c179e\"], [0.4444444444444444, \"#bd3786\"], [0.5555555555555556, \"#d8576b\"], [0.6666666666666666, \"#ed7953\"], [0.7777777777777778, \"#fb9f3a\"], [0.8888888888888888, \"#fdca26\"], [1.0, \"#f0f921\"]], \"type\": \"histogram2d\"}], \"histogram2dcontour\": [{\"colorbar\": {\"outlinewidth\": 0, \"ticks\": \"\"}, \"colorscale\": [[0.0, \"#0d0887\"], [0.1111111111111111, \"#46039f\"], [0.2222222222222222, \"#7201a8\"], [0.3333333333333333, \"#9c179e\"], [0.4444444444444444, \"#bd3786\"], [0.5555555555555556, \"#d8576b\"], [0.6666666666666666, \"#ed7953\"], [0.7777777777777778, \"#fb9f3a\"], [0.8888888888888888, \"#fdca26\"], [1.0, \"#f0f921\"]], \"type\": \"histogram2dcontour\"}], \"mesh3d\": [{\"colorbar\": {\"outlinewidth\": 0, \"ticks\": \"\"}, \"type\": \"mesh3d\"}], \"parcoords\": [{\"line\": {\"colorbar\": {\"outlinewidth\": 0, \"ticks\": \"\"}}, \"type\": \"parcoords\"}], \"pie\": [{\"automargin\": true, \"type\": \"pie\"}], \"scatter\": [{\"marker\": {\"colorbar\": {\"outlinewidth\": 0, \"ticks\": \"\"}}, \"type\": \"scatter\"}], \"scatter3d\": [{\"line\": {\"colorbar\": {\"outlinewidth\": 0, \"ticks\": \"\"}}, \"marker\": {\"colorbar\": {\"outlinewidth\": 0, \"ticks\": \"\"}}, \"type\": \"scatter3d\"}], \"scattercarpet\": [{\"marker\": {\"colorbar\": {\"outlinewidth\": 0, \"ticks\": \"\"}}, \"type\": \"scattercarpet\"}], \"scattergeo\": [{\"marker\": {\"colorbar\": {\"outlinewidth\": 0, \"ticks\": \"\"}}, \"type\": \"scattergeo\"}], \"scattergl\": [{\"marker\": {\"colorbar\": {\"outlinewidth\": 0, \"ticks\": \"\"}}, \"type\": \"scattergl\"}], \"scattermapbox\": [{\"marker\": {\"colorbar\": {\"outlinewidth\": 0, \"ticks\": \"\"}}, \"type\": \"scattermapbox\"}], \"scatterpolar\": [{\"marker\": {\"colorbar\": {\"outlinewidth\": 0, \"ticks\": \"\"}}, \"type\": \"scatterpolar\"}], \"scatterpolargl\": [{\"marker\": {\"colorbar\": {\"outlinewidth\": 0, \"ticks\": \"\"}}, \"type\": \"scatterpolargl\"}], \"scatterternary\": [{\"marker\": {\"colorbar\": {\"outlinewidth\": 0, \"ticks\": \"\"}}, \"type\": \"scatterternary\"}], \"surface\": [{\"colorbar\": {\"outlinewidth\": 0, \"ticks\": \"\"}, \"colorscale\": [[0.0, \"#0d0887\"], [0.1111111111111111, \"#46039f\"], [0.2222222222222222, \"#7201a8\"], [0.3333333333333333, \"#9c179e\"], [0.4444444444444444, \"#bd3786\"], [0.5555555555555556, \"#d8576b\"], [0.6666666666666666, \"#ed7953\"], [0.7777777777777778, \"#fb9f3a\"], [0.8888888888888888, \"#fdca26\"], [1.0, \"#f0f921\"]], \"type\": \"surface\"}], \"table\": [{\"cells\": {\"fill\": {\"color\": \"#EBF0F8\"}, \"line\": {\"color\": \"white\"}}, \"header\": {\"fill\": {\"color\": \"#C8D4E3\"}, \"line\": {\"color\": \"white\"}}, \"type\": \"table\"}]}, \"layout\": {\"annotationdefaults\": {\"arrowcolor\": \"#2a3f5f\", \"arrowhead\": 0, \"arrowwidth\": 1}, \"autotypenumbers\": \"strict\", \"coloraxis\": {\"colorbar\": {\"outlinewidth\": 0, \"ticks\": \"\"}}, \"colorscale\": {\"diverging\": [[0, \"#8e0152\"], [0.1, \"#c51b7d\"], [0.2, \"#de77ae\"], [0.3, \"#f1b6da\"], [0.4, \"#fde0ef\"], [0.5, \"#f7f7f7\"], [0.6, \"#e6f5d0\"], [0.7, \"#b8e186\"], [0.8, \"#7fbc41\"], [0.9, \"#4d9221\"], [1, \"#276419\"]], \"sequential\": [[0.0, \"#0d0887\"], [0.1111111111111111, \"#46039f\"], [0.2222222222222222, \"#7201a8\"], [0.3333333333333333, \"#9c179e\"], [0.4444444444444444, \"#bd3786\"], [0.5555555555555556, \"#d8576b\"], [0.6666666666666666, \"#ed7953\"], [0.7777777777777778, \"#fb9f3a\"], [0.8888888888888888, \"#fdca26\"], [1.0, \"#f0f921\"]], \"sequentialminus\": [[0.0, \"#0d0887\"], [0.1111111111111111, \"#46039f\"], [0.2222222222222222, \"#7201a8\"], [0.3333333333333333, \"#9c179e\"], [0.4444444444444444, \"#bd3786\"], [0.5555555555555556, \"#d8576b\"], [0.6666666666666666, \"#ed7953\"], [0.7777777777777778, \"#fb9f3a\"], [0.8888888888888888, \"#fdca26\"], [1.0, \"#f0f921\"]]}, \"colorway\": [\"#636efa\", \"#EF553B\", \"#00cc96\", \"#ab63fa\", \"#FFA15A\", \"#19d3f3\", \"#FF6692\", \"#B6E880\", \"#FF97FF\", \"#FECB52\"], \"font\": {\"color\": \"#2a3f5f\"}, \"geo\": {\"bgcolor\": \"white\", \"lakecolor\": \"white\", \"landcolor\": \"#E5ECF6\", \"showlakes\": true, \"showland\": true, \"subunitcolor\": \"white\"}, \"hoverlabel\": {\"align\": \"left\"}, \"hovermode\": \"closest\", \"mapbox\": {\"style\": \"light\"}, \"paper_bgcolor\": \"white\", \"plot_bgcolor\": \"#E5ECF6\", \"polar\": {\"angularaxis\": {\"gridcolor\": \"white\", \"linecolor\": \"white\", \"ticks\": \"\"}, \"bgcolor\": \"#E5ECF6\", \"radialaxis\": {\"gridcolor\": \"white\", \"linecolor\": \"white\", \"ticks\": \"\"}}, \"scene\": {\"xaxis\": {\"backgroundcolor\": \"#E5ECF6\", \"gridcolor\": \"white\", \"gridwidth\": 2, \"linecolor\": \"white\", \"showbackground\": true, \"ticks\": \"\", \"zerolinecolor\": \"white\"}, \"yaxis\": {\"backgroundcolor\": \"#E5ECF6\", \"gridcolor\": \"white\", \"gridwidth\": 2, \"linecolor\": \"white\", \"showbackground\": true, \"ticks\": \"\", \"zerolinecolor\": \"white\"}, \"zaxis\": {\"backgroundcolor\": \"#E5ECF6\", \"gridcolor\": \"white\", \"gridwidth\": 2, \"linecolor\": \"white\", \"showbackground\": true, \"ticks\": \"\", \"zerolinecolor\": \"white\"}}, \"shapedefaults\": {\"line\": {\"color\": \"#2a3f5f\"}}, \"ternary\": {\"aaxis\": {\"gridcolor\": \"white\", \"linecolor\": \"white\", \"ticks\": \"\"}, \"baxis\": {\"gridcolor\": \"white\", \"linecolor\": \"white\", \"ticks\": \"\"}, \"bgcolor\": \"#E5ECF6\", \"caxis\": {\"gridcolor\": \"white\", \"linecolor\": \"white\", \"ticks\": \"\"}}, \"title\": {\"x\": 0.05}, \"xaxis\": {\"automargin\": true, \"gridcolor\": \"white\", \"linecolor\": \"white\", \"ticks\": \"\", \"title\": {\"standoff\": 15}, \"zerolinecolor\": \"white\", \"zerolinewidth\": 2}, \"yaxis\": {\"automargin\": true, \"gridcolor\": \"white\", \"linecolor\": \"white\", \"ticks\": \"\", \"title\": {\"standoff\": 15}, \"zerolinecolor\": \"white\", \"zerolinewidth\": 2}}}, \"title\": {\"text\": \"Daily sales (dollars)\"}, \"xaxis\": {\"title\": {\"text\": \"Date\"}}, \"yaxis\": {\"title\": {\"text\": \"Sales (dollars)\"}}},                        {\"responsive\": true}                    ).then(function(){\n",
       "                            \n",
       "var gd = document.getElementById('5adab81f-b7a1-47a4-b5de-dd942e1e54ff');\n",
       "var x = new MutationObserver(function (mutations, observer) {{\n",
       "        var display = window.getComputedStyle(gd).display;\n",
       "        if (!display || display === 'none') {{\n",
       "            console.log([gd, 'removed!']);\n",
       "            Plotly.purge(gd);\n",
       "            observer.disconnect();\n",
       "        }}\n",
       "}});\n",
       "\n",
       "// Listen for the removal of the full notebook cells\n",
       "var notebookContainer = gd.closest('#notebook-container');\n",
       "if (notebookContainer) {{\n",
       "    x.observe(notebookContainer, {childList: true});\n",
       "}}\n",
       "\n",
       "// Listen for the clearing of the current output cell\n",
       "var outputEl = gd.closest('.output');\n",
       "if (outputEl) {{\n",
       "    x.observe(outputEl, {childList: true});\n",
       "}}\n",
       "\n",
       "                        })                };                });            </script>        </div>"
      ]
     },
     "metadata": {},
     "output_type": "display_data"
    }
   ],
   "source": [
    "df_daily_sales = df_aggregate.groupby('date').agg({'sale_dollars': 'sum'}).reset_index()\n",
    "fig = go.Figure(data=go.Scatter(x=df_daily_sales['date'], y=df_daily_sales['sale_dollars']))\n",
    "fig.update_layout(\n",
    "    title=\"Daily sales (dollars)\",\n",
    "    xaxis_title=\"Date\",\n",
    "    yaxis_title=\"Sales (dollars)\",\n",
    "    )\n",
    "fig.show()"
   ]
  },
  {
   "cell_type": "markdown",
   "metadata": {},
   "source": [
    "<p style=\"font-family: Monaco; font-size: 1.3em; color: IndianRed\">In this block, we can see diagramm of the daily sales. Best selling day was 2013-10-04, we are Google it and found some information about big October Fest in Iowa in 2013.</p>"
   ]
  },
  {
   "cell_type": "markdown",
   "metadata": {},
   "source": [
    "<ul><li style=\"font-family: Monaco; font-size: 1.3em\"><em>Weekly sales (dollars)</em></li></ul>"
   ]
  },
  {
   "cell_type": "code",
   "execution_count": 179,
   "metadata": {},
   "outputs": [
    {
     "data": {
      "application/vnd.plotly.v1+json": {
       "config": {
        "plotlyServerURL": "https://plot.ly"
       },
       "data": [
        {
         "type": "bar",
         "x": [
          "Monday",
          "Wednesday",
          "Tuesday",
          "Thursday",
          "Friday",
          "Saturday",
          "Sunday"
         ],
         "y": [
          589413962.6287299,
          579799080.3620368,
          548363836.1649289,
          512745947.0605851,
          259720746.09987465,
          18146902.640002366,
          141310.14000000016
         ]
        }
       ],
       "layout": {
        "template": {
         "data": {
          "bar": [
           {
            "error_x": {
             "color": "#2a3f5f"
            },
            "error_y": {
             "color": "#2a3f5f"
            },
            "marker": {
             "line": {
              "color": "#E5ECF6",
              "width": 0.5
             }
            },
            "type": "bar"
           }
          ],
          "barpolar": [
           {
            "marker": {
             "line": {
              "color": "#E5ECF6",
              "width": 0.5
             }
            },
            "type": "barpolar"
           }
          ],
          "carpet": [
           {
            "aaxis": {
             "endlinecolor": "#2a3f5f",
             "gridcolor": "white",
             "linecolor": "white",
             "minorgridcolor": "white",
             "startlinecolor": "#2a3f5f"
            },
            "baxis": {
             "endlinecolor": "#2a3f5f",
             "gridcolor": "white",
             "linecolor": "white",
             "minorgridcolor": "white",
             "startlinecolor": "#2a3f5f"
            },
            "type": "carpet"
           }
          ],
          "choropleth": [
           {
            "colorbar": {
             "outlinewidth": 0,
             "ticks": ""
            },
            "type": "choropleth"
           }
          ],
          "contour": [
           {
            "colorbar": {
             "outlinewidth": 0,
             "ticks": ""
            },
            "colorscale": [
             [
              0,
              "#0d0887"
             ],
             [
              0.1111111111111111,
              "#46039f"
             ],
             [
              0.2222222222222222,
              "#7201a8"
             ],
             [
              0.3333333333333333,
              "#9c179e"
             ],
             [
              0.4444444444444444,
              "#bd3786"
             ],
             [
              0.5555555555555556,
              "#d8576b"
             ],
             [
              0.6666666666666666,
              "#ed7953"
             ],
             [
              0.7777777777777778,
              "#fb9f3a"
             ],
             [
              0.8888888888888888,
              "#fdca26"
             ],
             [
              1,
              "#f0f921"
             ]
            ],
            "type": "contour"
           }
          ],
          "contourcarpet": [
           {
            "colorbar": {
             "outlinewidth": 0,
             "ticks": ""
            },
            "type": "contourcarpet"
           }
          ],
          "heatmap": [
           {
            "colorbar": {
             "outlinewidth": 0,
             "ticks": ""
            },
            "colorscale": [
             [
              0,
              "#0d0887"
             ],
             [
              0.1111111111111111,
              "#46039f"
             ],
             [
              0.2222222222222222,
              "#7201a8"
             ],
             [
              0.3333333333333333,
              "#9c179e"
             ],
             [
              0.4444444444444444,
              "#bd3786"
             ],
             [
              0.5555555555555556,
              "#d8576b"
             ],
             [
              0.6666666666666666,
              "#ed7953"
             ],
             [
              0.7777777777777778,
              "#fb9f3a"
             ],
             [
              0.8888888888888888,
              "#fdca26"
             ],
             [
              1,
              "#f0f921"
             ]
            ],
            "type": "heatmap"
           }
          ],
          "heatmapgl": [
           {
            "colorbar": {
             "outlinewidth": 0,
             "ticks": ""
            },
            "colorscale": [
             [
              0,
              "#0d0887"
             ],
             [
              0.1111111111111111,
              "#46039f"
             ],
             [
              0.2222222222222222,
              "#7201a8"
             ],
             [
              0.3333333333333333,
              "#9c179e"
             ],
             [
              0.4444444444444444,
              "#bd3786"
             ],
             [
              0.5555555555555556,
              "#d8576b"
             ],
             [
              0.6666666666666666,
              "#ed7953"
             ],
             [
              0.7777777777777778,
              "#fb9f3a"
             ],
             [
              0.8888888888888888,
              "#fdca26"
             ],
             [
              1,
              "#f0f921"
             ]
            ],
            "type": "heatmapgl"
           }
          ],
          "histogram": [
           {
            "marker": {
             "colorbar": {
              "outlinewidth": 0,
              "ticks": ""
             }
            },
            "type": "histogram"
           }
          ],
          "histogram2d": [
           {
            "colorbar": {
             "outlinewidth": 0,
             "ticks": ""
            },
            "colorscale": [
             [
              0,
              "#0d0887"
             ],
             [
              0.1111111111111111,
              "#46039f"
             ],
             [
              0.2222222222222222,
              "#7201a8"
             ],
             [
              0.3333333333333333,
              "#9c179e"
             ],
             [
              0.4444444444444444,
              "#bd3786"
             ],
             [
              0.5555555555555556,
              "#d8576b"
             ],
             [
              0.6666666666666666,
              "#ed7953"
             ],
             [
              0.7777777777777778,
              "#fb9f3a"
             ],
             [
              0.8888888888888888,
              "#fdca26"
             ],
             [
              1,
              "#f0f921"
             ]
            ],
            "type": "histogram2d"
           }
          ],
          "histogram2dcontour": [
           {
            "colorbar": {
             "outlinewidth": 0,
             "ticks": ""
            },
            "colorscale": [
             [
              0,
              "#0d0887"
             ],
             [
              0.1111111111111111,
              "#46039f"
             ],
             [
              0.2222222222222222,
              "#7201a8"
             ],
             [
              0.3333333333333333,
              "#9c179e"
             ],
             [
              0.4444444444444444,
              "#bd3786"
             ],
             [
              0.5555555555555556,
              "#d8576b"
             ],
             [
              0.6666666666666666,
              "#ed7953"
             ],
             [
              0.7777777777777778,
              "#fb9f3a"
             ],
             [
              0.8888888888888888,
              "#fdca26"
             ],
             [
              1,
              "#f0f921"
             ]
            ],
            "type": "histogram2dcontour"
           }
          ],
          "mesh3d": [
           {
            "colorbar": {
             "outlinewidth": 0,
             "ticks": ""
            },
            "type": "mesh3d"
           }
          ],
          "parcoords": [
           {
            "line": {
             "colorbar": {
              "outlinewidth": 0,
              "ticks": ""
             }
            },
            "type": "parcoords"
           }
          ],
          "pie": [
           {
            "automargin": true,
            "type": "pie"
           }
          ],
          "scatter": [
           {
            "marker": {
             "colorbar": {
              "outlinewidth": 0,
              "ticks": ""
             }
            },
            "type": "scatter"
           }
          ],
          "scatter3d": [
           {
            "line": {
             "colorbar": {
              "outlinewidth": 0,
              "ticks": ""
             }
            },
            "marker": {
             "colorbar": {
              "outlinewidth": 0,
              "ticks": ""
             }
            },
            "type": "scatter3d"
           }
          ],
          "scattercarpet": [
           {
            "marker": {
             "colorbar": {
              "outlinewidth": 0,
              "ticks": ""
             }
            },
            "type": "scattercarpet"
           }
          ],
          "scattergeo": [
           {
            "marker": {
             "colorbar": {
              "outlinewidth": 0,
              "ticks": ""
             }
            },
            "type": "scattergeo"
           }
          ],
          "scattergl": [
           {
            "marker": {
             "colorbar": {
              "outlinewidth": 0,
              "ticks": ""
             }
            },
            "type": "scattergl"
           }
          ],
          "scattermapbox": [
           {
            "marker": {
             "colorbar": {
              "outlinewidth": 0,
              "ticks": ""
             }
            },
            "type": "scattermapbox"
           }
          ],
          "scatterpolar": [
           {
            "marker": {
             "colorbar": {
              "outlinewidth": 0,
              "ticks": ""
             }
            },
            "type": "scatterpolar"
           }
          ],
          "scatterpolargl": [
           {
            "marker": {
             "colorbar": {
              "outlinewidth": 0,
              "ticks": ""
             }
            },
            "type": "scatterpolargl"
           }
          ],
          "scatterternary": [
           {
            "marker": {
             "colorbar": {
              "outlinewidth": 0,
              "ticks": ""
             }
            },
            "type": "scatterternary"
           }
          ],
          "surface": [
           {
            "colorbar": {
             "outlinewidth": 0,
             "ticks": ""
            },
            "colorscale": [
             [
              0,
              "#0d0887"
             ],
             [
              0.1111111111111111,
              "#46039f"
             ],
             [
              0.2222222222222222,
              "#7201a8"
             ],
             [
              0.3333333333333333,
              "#9c179e"
             ],
             [
              0.4444444444444444,
              "#bd3786"
             ],
             [
              0.5555555555555556,
              "#d8576b"
             ],
             [
              0.6666666666666666,
              "#ed7953"
             ],
             [
              0.7777777777777778,
              "#fb9f3a"
             ],
             [
              0.8888888888888888,
              "#fdca26"
             ],
             [
              1,
              "#f0f921"
             ]
            ],
            "type": "surface"
           }
          ],
          "table": [
           {
            "cells": {
             "fill": {
              "color": "#EBF0F8"
             },
             "line": {
              "color": "white"
             }
            },
            "header": {
             "fill": {
              "color": "#C8D4E3"
             },
             "line": {
              "color": "white"
             }
            },
            "type": "table"
           }
          ]
         },
         "layout": {
          "annotationdefaults": {
           "arrowcolor": "#2a3f5f",
           "arrowhead": 0,
           "arrowwidth": 1
          },
          "autotypenumbers": "strict",
          "coloraxis": {
           "colorbar": {
            "outlinewidth": 0,
            "ticks": ""
           }
          },
          "colorscale": {
           "diverging": [
            [
             0,
             "#8e0152"
            ],
            [
             0.1,
             "#c51b7d"
            ],
            [
             0.2,
             "#de77ae"
            ],
            [
             0.3,
             "#f1b6da"
            ],
            [
             0.4,
             "#fde0ef"
            ],
            [
             0.5,
             "#f7f7f7"
            ],
            [
             0.6,
             "#e6f5d0"
            ],
            [
             0.7,
             "#b8e186"
            ],
            [
             0.8,
             "#7fbc41"
            ],
            [
             0.9,
             "#4d9221"
            ],
            [
             1,
             "#276419"
            ]
           ],
           "sequential": [
            [
             0,
             "#0d0887"
            ],
            [
             0.1111111111111111,
             "#46039f"
            ],
            [
             0.2222222222222222,
             "#7201a8"
            ],
            [
             0.3333333333333333,
             "#9c179e"
            ],
            [
             0.4444444444444444,
             "#bd3786"
            ],
            [
             0.5555555555555556,
             "#d8576b"
            ],
            [
             0.6666666666666666,
             "#ed7953"
            ],
            [
             0.7777777777777778,
             "#fb9f3a"
            ],
            [
             0.8888888888888888,
             "#fdca26"
            ],
            [
             1,
             "#f0f921"
            ]
           ],
           "sequentialminus": [
            [
             0,
             "#0d0887"
            ],
            [
             0.1111111111111111,
             "#46039f"
            ],
            [
             0.2222222222222222,
             "#7201a8"
            ],
            [
             0.3333333333333333,
             "#9c179e"
            ],
            [
             0.4444444444444444,
             "#bd3786"
            ],
            [
             0.5555555555555556,
             "#d8576b"
            ],
            [
             0.6666666666666666,
             "#ed7953"
            ],
            [
             0.7777777777777778,
             "#fb9f3a"
            ],
            [
             0.8888888888888888,
             "#fdca26"
            ],
            [
             1,
             "#f0f921"
            ]
           ]
          },
          "colorway": [
           "#636efa",
           "#EF553B",
           "#00cc96",
           "#ab63fa",
           "#FFA15A",
           "#19d3f3",
           "#FF6692",
           "#B6E880",
           "#FF97FF",
           "#FECB52"
          ],
          "font": {
           "color": "#2a3f5f"
          },
          "geo": {
           "bgcolor": "white",
           "lakecolor": "white",
           "landcolor": "#E5ECF6",
           "showlakes": true,
           "showland": true,
           "subunitcolor": "white"
          },
          "hoverlabel": {
           "align": "left"
          },
          "hovermode": "closest",
          "mapbox": {
           "style": "light"
          },
          "paper_bgcolor": "white",
          "plot_bgcolor": "#E5ECF6",
          "polar": {
           "angularaxis": {
            "gridcolor": "white",
            "linecolor": "white",
            "ticks": ""
           },
           "bgcolor": "#E5ECF6",
           "radialaxis": {
            "gridcolor": "white",
            "linecolor": "white",
            "ticks": ""
           }
          },
          "scene": {
           "xaxis": {
            "backgroundcolor": "#E5ECF6",
            "gridcolor": "white",
            "gridwidth": 2,
            "linecolor": "white",
            "showbackground": true,
            "ticks": "",
            "zerolinecolor": "white"
           },
           "yaxis": {
            "backgroundcolor": "#E5ECF6",
            "gridcolor": "white",
            "gridwidth": 2,
            "linecolor": "white",
            "showbackground": true,
            "ticks": "",
            "zerolinecolor": "white"
           },
           "zaxis": {
            "backgroundcolor": "#E5ECF6",
            "gridcolor": "white",
            "gridwidth": 2,
            "linecolor": "white",
            "showbackground": true,
            "ticks": "",
            "zerolinecolor": "white"
           }
          },
          "shapedefaults": {
           "line": {
            "color": "#2a3f5f"
           }
          },
          "ternary": {
           "aaxis": {
            "gridcolor": "white",
            "linecolor": "white",
            "ticks": ""
           },
           "baxis": {
            "gridcolor": "white",
            "linecolor": "white",
            "ticks": ""
           },
           "bgcolor": "#E5ECF6",
           "caxis": {
            "gridcolor": "white",
            "linecolor": "white",
            "ticks": ""
           }
          },
          "title": {
           "x": 0.05
          },
          "xaxis": {
           "automargin": true,
           "gridcolor": "white",
           "linecolor": "white",
           "ticks": "",
           "title": {
            "standoff": 15
           },
           "zerolinecolor": "white",
           "zerolinewidth": 2
          },
          "yaxis": {
           "automargin": true,
           "gridcolor": "white",
           "linecolor": "white",
           "ticks": "",
           "title": {
            "standoff": 15
           },
           "zerolinecolor": "white",
           "zerolinewidth": 2
          }
         }
        },
        "title": {
         "text": "Weekly sales (dollars)"
        },
        "xaxis": {
         "title": {
          "text": "Weekday"
         }
        },
        "yaxis": {
         "title": {
          "text": "Sales (dollars)"
         }
        }
       }
      },
      "text/html": [
       "<div>                            <div id=\"17455c24-a35f-48d5-981b-819b478232a4\" class=\"plotly-graph-div\" style=\"height:525px; width:100%;\"></div>            <script type=\"text/javascript\">                require([\"plotly\"], function(Plotly) {                    window.PLOTLYENV=window.PLOTLYENV || {};                                    if (document.getElementById(\"17455c24-a35f-48d5-981b-819b478232a4\")) {                    Plotly.newPlot(                        \"17455c24-a35f-48d5-981b-819b478232a4\",                        [{\"type\": \"bar\", \"x\": [\"Monday\", \"Wednesday\", \"Tuesday\", \"Thursday\", \"Friday\", \"Saturday\", \"Sunday\"], \"y\": [589413962.6287299, 579799080.3620368, 548363836.1649289, 512745947.0605851, 259720746.09987465, 18146902.640002366, 141310.14000000016]}],                        {\"template\": {\"data\": {\"bar\": [{\"error_x\": {\"color\": \"#2a3f5f\"}, \"error_y\": {\"color\": \"#2a3f5f\"}, \"marker\": {\"line\": {\"color\": \"#E5ECF6\", \"width\": 0.5}}, \"type\": \"bar\"}], \"barpolar\": [{\"marker\": {\"line\": {\"color\": \"#E5ECF6\", \"width\": 0.5}}, \"type\": \"barpolar\"}], \"carpet\": [{\"aaxis\": {\"endlinecolor\": \"#2a3f5f\", \"gridcolor\": \"white\", \"linecolor\": \"white\", \"minorgridcolor\": \"white\", \"startlinecolor\": \"#2a3f5f\"}, \"baxis\": {\"endlinecolor\": \"#2a3f5f\", \"gridcolor\": \"white\", \"linecolor\": \"white\", \"minorgridcolor\": \"white\", \"startlinecolor\": \"#2a3f5f\"}, \"type\": \"carpet\"}], \"choropleth\": [{\"colorbar\": {\"outlinewidth\": 0, \"ticks\": \"\"}, \"type\": \"choropleth\"}], \"contour\": [{\"colorbar\": {\"outlinewidth\": 0, \"ticks\": \"\"}, \"colorscale\": [[0.0, \"#0d0887\"], [0.1111111111111111, \"#46039f\"], [0.2222222222222222, \"#7201a8\"], [0.3333333333333333, \"#9c179e\"], [0.4444444444444444, \"#bd3786\"], [0.5555555555555556, \"#d8576b\"], [0.6666666666666666, \"#ed7953\"], [0.7777777777777778, \"#fb9f3a\"], [0.8888888888888888, \"#fdca26\"], [1.0, \"#f0f921\"]], \"type\": \"contour\"}], \"contourcarpet\": [{\"colorbar\": {\"outlinewidth\": 0, \"ticks\": \"\"}, \"type\": \"contourcarpet\"}], \"heatmap\": [{\"colorbar\": {\"outlinewidth\": 0, \"ticks\": \"\"}, \"colorscale\": [[0.0, \"#0d0887\"], [0.1111111111111111, \"#46039f\"], [0.2222222222222222, \"#7201a8\"], [0.3333333333333333, \"#9c179e\"], [0.4444444444444444, \"#bd3786\"], [0.5555555555555556, \"#d8576b\"], [0.6666666666666666, \"#ed7953\"], [0.7777777777777778, \"#fb9f3a\"], [0.8888888888888888, \"#fdca26\"], [1.0, \"#f0f921\"]], \"type\": \"heatmap\"}], \"heatmapgl\": [{\"colorbar\": {\"outlinewidth\": 0, \"ticks\": \"\"}, \"colorscale\": [[0.0, \"#0d0887\"], [0.1111111111111111, \"#46039f\"], [0.2222222222222222, \"#7201a8\"], [0.3333333333333333, \"#9c179e\"], [0.4444444444444444, \"#bd3786\"], [0.5555555555555556, \"#d8576b\"], [0.6666666666666666, \"#ed7953\"], [0.7777777777777778, \"#fb9f3a\"], [0.8888888888888888, \"#fdca26\"], [1.0, \"#f0f921\"]], \"type\": \"heatmapgl\"}], \"histogram\": [{\"marker\": {\"colorbar\": {\"outlinewidth\": 0, \"ticks\": \"\"}}, \"type\": \"histogram\"}], \"histogram2d\": [{\"colorbar\": {\"outlinewidth\": 0, \"ticks\": \"\"}, \"colorscale\": [[0.0, \"#0d0887\"], [0.1111111111111111, \"#46039f\"], [0.2222222222222222, \"#7201a8\"], [0.3333333333333333, \"#9c179e\"], [0.4444444444444444, \"#bd3786\"], [0.5555555555555556, \"#d8576b\"], [0.6666666666666666, \"#ed7953\"], [0.7777777777777778, \"#fb9f3a\"], [0.8888888888888888, \"#fdca26\"], [1.0, \"#f0f921\"]], \"type\": \"histogram2d\"}], \"histogram2dcontour\": [{\"colorbar\": {\"outlinewidth\": 0, \"ticks\": \"\"}, \"colorscale\": [[0.0, \"#0d0887\"], [0.1111111111111111, \"#46039f\"], [0.2222222222222222, \"#7201a8\"], [0.3333333333333333, \"#9c179e\"], [0.4444444444444444, \"#bd3786\"], [0.5555555555555556, \"#d8576b\"], [0.6666666666666666, \"#ed7953\"], [0.7777777777777778, \"#fb9f3a\"], [0.8888888888888888, \"#fdca26\"], [1.0, \"#f0f921\"]], \"type\": \"histogram2dcontour\"}], \"mesh3d\": [{\"colorbar\": {\"outlinewidth\": 0, \"ticks\": \"\"}, \"type\": \"mesh3d\"}], \"parcoords\": [{\"line\": {\"colorbar\": {\"outlinewidth\": 0, \"ticks\": \"\"}}, \"type\": \"parcoords\"}], \"pie\": [{\"automargin\": true, \"type\": \"pie\"}], \"scatter\": [{\"marker\": {\"colorbar\": {\"outlinewidth\": 0, \"ticks\": \"\"}}, \"type\": \"scatter\"}], \"scatter3d\": [{\"line\": {\"colorbar\": {\"outlinewidth\": 0, \"ticks\": \"\"}}, \"marker\": {\"colorbar\": {\"outlinewidth\": 0, \"ticks\": \"\"}}, \"type\": \"scatter3d\"}], \"scattercarpet\": [{\"marker\": {\"colorbar\": {\"outlinewidth\": 0, \"ticks\": \"\"}}, \"type\": \"scattercarpet\"}], \"scattergeo\": [{\"marker\": {\"colorbar\": {\"outlinewidth\": 0, \"ticks\": \"\"}}, \"type\": \"scattergeo\"}], \"scattergl\": [{\"marker\": {\"colorbar\": {\"outlinewidth\": 0, \"ticks\": \"\"}}, \"type\": \"scattergl\"}], \"scattermapbox\": [{\"marker\": {\"colorbar\": {\"outlinewidth\": 0, \"ticks\": \"\"}}, \"type\": \"scattermapbox\"}], \"scatterpolar\": [{\"marker\": {\"colorbar\": {\"outlinewidth\": 0, \"ticks\": \"\"}}, \"type\": \"scatterpolar\"}], \"scatterpolargl\": [{\"marker\": {\"colorbar\": {\"outlinewidth\": 0, \"ticks\": \"\"}}, \"type\": \"scatterpolargl\"}], \"scatterternary\": [{\"marker\": {\"colorbar\": {\"outlinewidth\": 0, \"ticks\": \"\"}}, \"type\": \"scatterternary\"}], \"surface\": [{\"colorbar\": {\"outlinewidth\": 0, \"ticks\": \"\"}, \"colorscale\": [[0.0, \"#0d0887\"], [0.1111111111111111, \"#46039f\"], [0.2222222222222222, \"#7201a8\"], [0.3333333333333333, \"#9c179e\"], [0.4444444444444444, \"#bd3786\"], [0.5555555555555556, \"#d8576b\"], [0.6666666666666666, \"#ed7953\"], [0.7777777777777778, \"#fb9f3a\"], [0.8888888888888888, \"#fdca26\"], [1.0, \"#f0f921\"]], \"type\": \"surface\"}], \"table\": [{\"cells\": {\"fill\": {\"color\": \"#EBF0F8\"}, \"line\": {\"color\": \"white\"}}, \"header\": {\"fill\": {\"color\": \"#C8D4E3\"}, \"line\": {\"color\": \"white\"}}, \"type\": \"table\"}]}, \"layout\": {\"annotationdefaults\": {\"arrowcolor\": \"#2a3f5f\", \"arrowhead\": 0, \"arrowwidth\": 1}, \"autotypenumbers\": \"strict\", \"coloraxis\": {\"colorbar\": {\"outlinewidth\": 0, \"ticks\": \"\"}}, \"colorscale\": {\"diverging\": [[0, \"#8e0152\"], [0.1, \"#c51b7d\"], [0.2, \"#de77ae\"], [0.3, \"#f1b6da\"], [0.4, \"#fde0ef\"], [0.5, \"#f7f7f7\"], [0.6, \"#e6f5d0\"], [0.7, \"#b8e186\"], [0.8, \"#7fbc41\"], [0.9, \"#4d9221\"], [1, \"#276419\"]], \"sequential\": [[0.0, \"#0d0887\"], [0.1111111111111111, \"#46039f\"], [0.2222222222222222, \"#7201a8\"], [0.3333333333333333, \"#9c179e\"], [0.4444444444444444, \"#bd3786\"], [0.5555555555555556, \"#d8576b\"], [0.6666666666666666, \"#ed7953\"], [0.7777777777777778, \"#fb9f3a\"], [0.8888888888888888, \"#fdca26\"], [1.0, \"#f0f921\"]], \"sequentialminus\": [[0.0, \"#0d0887\"], [0.1111111111111111, \"#46039f\"], [0.2222222222222222, \"#7201a8\"], [0.3333333333333333, \"#9c179e\"], [0.4444444444444444, \"#bd3786\"], [0.5555555555555556, \"#d8576b\"], [0.6666666666666666, \"#ed7953\"], [0.7777777777777778, \"#fb9f3a\"], [0.8888888888888888, \"#fdca26\"], [1.0, \"#f0f921\"]]}, \"colorway\": [\"#636efa\", \"#EF553B\", \"#00cc96\", \"#ab63fa\", \"#FFA15A\", \"#19d3f3\", \"#FF6692\", \"#B6E880\", \"#FF97FF\", \"#FECB52\"], \"font\": {\"color\": \"#2a3f5f\"}, \"geo\": {\"bgcolor\": \"white\", \"lakecolor\": \"white\", \"landcolor\": \"#E5ECF6\", \"showlakes\": true, \"showland\": true, \"subunitcolor\": \"white\"}, \"hoverlabel\": {\"align\": \"left\"}, \"hovermode\": \"closest\", \"mapbox\": {\"style\": \"light\"}, \"paper_bgcolor\": \"white\", \"plot_bgcolor\": \"#E5ECF6\", \"polar\": {\"angularaxis\": {\"gridcolor\": \"white\", \"linecolor\": \"white\", \"ticks\": \"\"}, \"bgcolor\": \"#E5ECF6\", \"radialaxis\": {\"gridcolor\": \"white\", \"linecolor\": \"white\", \"ticks\": \"\"}}, \"scene\": {\"xaxis\": {\"backgroundcolor\": \"#E5ECF6\", \"gridcolor\": \"white\", \"gridwidth\": 2, \"linecolor\": \"white\", \"showbackground\": true, \"ticks\": \"\", \"zerolinecolor\": \"white\"}, \"yaxis\": {\"backgroundcolor\": \"#E5ECF6\", \"gridcolor\": \"white\", \"gridwidth\": 2, \"linecolor\": \"white\", \"showbackground\": true, \"ticks\": \"\", \"zerolinecolor\": \"white\"}, \"zaxis\": {\"backgroundcolor\": \"#E5ECF6\", \"gridcolor\": \"white\", \"gridwidth\": 2, \"linecolor\": \"white\", \"showbackground\": true, \"ticks\": \"\", \"zerolinecolor\": \"white\"}}, \"shapedefaults\": {\"line\": {\"color\": \"#2a3f5f\"}}, \"ternary\": {\"aaxis\": {\"gridcolor\": \"white\", \"linecolor\": \"white\", \"ticks\": \"\"}, \"baxis\": {\"gridcolor\": \"white\", \"linecolor\": \"white\", \"ticks\": \"\"}, \"bgcolor\": \"#E5ECF6\", \"caxis\": {\"gridcolor\": \"white\", \"linecolor\": \"white\", \"ticks\": \"\"}}, \"title\": {\"x\": 0.05}, \"xaxis\": {\"automargin\": true, \"gridcolor\": \"white\", \"linecolor\": \"white\", \"ticks\": \"\", \"title\": {\"standoff\": 15}, \"zerolinecolor\": \"white\", \"zerolinewidth\": 2}, \"yaxis\": {\"automargin\": true, \"gridcolor\": \"white\", \"linecolor\": \"white\", \"ticks\": \"\", \"title\": {\"standoff\": 15}, \"zerolinecolor\": \"white\", \"zerolinewidth\": 2}}}, \"title\": {\"text\": \"Weekly sales (dollars)\"}, \"xaxis\": {\"title\": {\"text\": \"Weekday\"}}, \"yaxis\": {\"title\": {\"text\": \"Sales (dollars)\"}}},                        {\"responsive\": true}                    ).then(function(){\n",
       "                            \n",
       "var gd = document.getElementById('17455c24-a35f-48d5-981b-819b478232a4');\n",
       "var x = new MutationObserver(function (mutations, observer) {{\n",
       "        var display = window.getComputedStyle(gd).display;\n",
       "        if (!display || display === 'none') {{\n",
       "            console.log([gd, 'removed!']);\n",
       "            Plotly.purge(gd);\n",
       "            observer.disconnect();\n",
       "        }}\n",
       "}});\n",
       "\n",
       "// Listen for the removal of the full notebook cells\n",
       "var notebookContainer = gd.closest('#notebook-container');\n",
       "if (notebookContainer) {{\n",
       "    x.observe(notebookContainer, {childList: true});\n",
       "}}\n",
       "\n",
       "// Listen for the clearing of the current output cell\n",
       "var outputEl = gd.closest('.output');\n",
       "if (outputEl) {{\n",
       "    x.observe(outputEl, {childList: true});\n",
       "}}\n",
       "\n",
       "                        })                };                });            </script>        </div>"
      ]
     },
     "metadata": {},
     "output_type": "display_data"
    }
   ],
   "source": [
    "df_aggregate_week = df_aggregate_dates.groupby('Weekday').agg({'sale_dollars': 'sum'}).reset_index().\\\n",
    "                                                sort_values(by='sale_dollars', ascending=False)\n",
    "fig = go.Figure(data=go.Bar(x=df_aggregate_week['Weekday'], y=df_aggregate_week['sale_dollars']))\n",
    "fig.update_layout(\n",
    "    title=\"Weekly sales (dollars)\",\n",
    "    xaxis_title=\"Weekday\",\n",
    "    yaxis_title=\"Sales (dollars)\",\n",
    "    )\n",
    "fig.show()"
   ]
  },
  {
   "cell_type": "markdown",
   "metadata": {},
   "source": [
    "<p style=\"font-family: Monaco; font-size: 1.3em; color: IndianRed\">As expected, selling in liquor business similar to selling in any other business. The largest purchases are made during the week, starting with the largest on Monday.</p>"
   ]
  },
  {
   "cell_type": "markdown",
   "metadata": {},
   "source": [
    "<ul><li style=\"font-family: Monaco; font-size: 1.3em\"><em>Sales by year</em></li></ul>"
   ]
  },
  {
   "cell_type": "code",
   "execution_count": 182,
   "metadata": {},
   "outputs": [
    {
     "data": {
      "application/vnd.plotly.v1+json": {
       "config": {
        "plotlyServerURL": "https://plot.ly"
       },
       "data": [
        {
         "type": "bar",
         "x": [
          2020,
          2019,
          2018,
          2017,
          2016,
          2015,
          2014,
          2013
         ],
         "y": [
          396966099.7395007,
          349240929.0496279,
          334548710.20719624,
          315557634.1228935,
          298995255.61954474,
          284328572.10941964,
          270587738.08962405,
          258106846.15941873
         ]
        }
       ],
       "layout": {
        "template": {
         "data": {
          "bar": [
           {
            "error_x": {
             "color": "#2a3f5f"
            },
            "error_y": {
             "color": "#2a3f5f"
            },
            "marker": {
             "line": {
              "color": "#E5ECF6",
              "width": 0.5
             }
            },
            "type": "bar"
           }
          ],
          "barpolar": [
           {
            "marker": {
             "line": {
              "color": "#E5ECF6",
              "width": 0.5
             }
            },
            "type": "barpolar"
           }
          ],
          "carpet": [
           {
            "aaxis": {
             "endlinecolor": "#2a3f5f",
             "gridcolor": "white",
             "linecolor": "white",
             "minorgridcolor": "white",
             "startlinecolor": "#2a3f5f"
            },
            "baxis": {
             "endlinecolor": "#2a3f5f",
             "gridcolor": "white",
             "linecolor": "white",
             "minorgridcolor": "white",
             "startlinecolor": "#2a3f5f"
            },
            "type": "carpet"
           }
          ],
          "choropleth": [
           {
            "colorbar": {
             "outlinewidth": 0,
             "ticks": ""
            },
            "type": "choropleth"
           }
          ],
          "contour": [
           {
            "colorbar": {
             "outlinewidth": 0,
             "ticks": ""
            },
            "colorscale": [
             [
              0,
              "#0d0887"
             ],
             [
              0.1111111111111111,
              "#46039f"
             ],
             [
              0.2222222222222222,
              "#7201a8"
             ],
             [
              0.3333333333333333,
              "#9c179e"
             ],
             [
              0.4444444444444444,
              "#bd3786"
             ],
             [
              0.5555555555555556,
              "#d8576b"
             ],
             [
              0.6666666666666666,
              "#ed7953"
             ],
             [
              0.7777777777777778,
              "#fb9f3a"
             ],
             [
              0.8888888888888888,
              "#fdca26"
             ],
             [
              1,
              "#f0f921"
             ]
            ],
            "type": "contour"
           }
          ],
          "contourcarpet": [
           {
            "colorbar": {
             "outlinewidth": 0,
             "ticks": ""
            },
            "type": "contourcarpet"
           }
          ],
          "heatmap": [
           {
            "colorbar": {
             "outlinewidth": 0,
             "ticks": ""
            },
            "colorscale": [
             [
              0,
              "#0d0887"
             ],
             [
              0.1111111111111111,
              "#46039f"
             ],
             [
              0.2222222222222222,
              "#7201a8"
             ],
             [
              0.3333333333333333,
              "#9c179e"
             ],
             [
              0.4444444444444444,
              "#bd3786"
             ],
             [
              0.5555555555555556,
              "#d8576b"
             ],
             [
              0.6666666666666666,
              "#ed7953"
             ],
             [
              0.7777777777777778,
              "#fb9f3a"
             ],
             [
              0.8888888888888888,
              "#fdca26"
             ],
             [
              1,
              "#f0f921"
             ]
            ],
            "type": "heatmap"
           }
          ],
          "heatmapgl": [
           {
            "colorbar": {
             "outlinewidth": 0,
             "ticks": ""
            },
            "colorscale": [
             [
              0,
              "#0d0887"
             ],
             [
              0.1111111111111111,
              "#46039f"
             ],
             [
              0.2222222222222222,
              "#7201a8"
             ],
             [
              0.3333333333333333,
              "#9c179e"
             ],
             [
              0.4444444444444444,
              "#bd3786"
             ],
             [
              0.5555555555555556,
              "#d8576b"
             ],
             [
              0.6666666666666666,
              "#ed7953"
             ],
             [
              0.7777777777777778,
              "#fb9f3a"
             ],
             [
              0.8888888888888888,
              "#fdca26"
             ],
             [
              1,
              "#f0f921"
             ]
            ],
            "type": "heatmapgl"
           }
          ],
          "histogram": [
           {
            "marker": {
             "colorbar": {
              "outlinewidth": 0,
              "ticks": ""
             }
            },
            "type": "histogram"
           }
          ],
          "histogram2d": [
           {
            "colorbar": {
             "outlinewidth": 0,
             "ticks": ""
            },
            "colorscale": [
             [
              0,
              "#0d0887"
             ],
             [
              0.1111111111111111,
              "#46039f"
             ],
             [
              0.2222222222222222,
              "#7201a8"
             ],
             [
              0.3333333333333333,
              "#9c179e"
             ],
             [
              0.4444444444444444,
              "#bd3786"
             ],
             [
              0.5555555555555556,
              "#d8576b"
             ],
             [
              0.6666666666666666,
              "#ed7953"
             ],
             [
              0.7777777777777778,
              "#fb9f3a"
             ],
             [
              0.8888888888888888,
              "#fdca26"
             ],
             [
              1,
              "#f0f921"
             ]
            ],
            "type": "histogram2d"
           }
          ],
          "histogram2dcontour": [
           {
            "colorbar": {
             "outlinewidth": 0,
             "ticks": ""
            },
            "colorscale": [
             [
              0,
              "#0d0887"
             ],
             [
              0.1111111111111111,
              "#46039f"
             ],
             [
              0.2222222222222222,
              "#7201a8"
             ],
             [
              0.3333333333333333,
              "#9c179e"
             ],
             [
              0.4444444444444444,
              "#bd3786"
             ],
             [
              0.5555555555555556,
              "#d8576b"
             ],
             [
              0.6666666666666666,
              "#ed7953"
             ],
             [
              0.7777777777777778,
              "#fb9f3a"
             ],
             [
              0.8888888888888888,
              "#fdca26"
             ],
             [
              1,
              "#f0f921"
             ]
            ],
            "type": "histogram2dcontour"
           }
          ],
          "mesh3d": [
           {
            "colorbar": {
             "outlinewidth": 0,
             "ticks": ""
            },
            "type": "mesh3d"
           }
          ],
          "parcoords": [
           {
            "line": {
             "colorbar": {
              "outlinewidth": 0,
              "ticks": ""
             }
            },
            "type": "parcoords"
           }
          ],
          "pie": [
           {
            "automargin": true,
            "type": "pie"
           }
          ],
          "scatter": [
           {
            "marker": {
             "colorbar": {
              "outlinewidth": 0,
              "ticks": ""
             }
            },
            "type": "scatter"
           }
          ],
          "scatter3d": [
           {
            "line": {
             "colorbar": {
              "outlinewidth": 0,
              "ticks": ""
             }
            },
            "marker": {
             "colorbar": {
              "outlinewidth": 0,
              "ticks": ""
             }
            },
            "type": "scatter3d"
           }
          ],
          "scattercarpet": [
           {
            "marker": {
             "colorbar": {
              "outlinewidth": 0,
              "ticks": ""
             }
            },
            "type": "scattercarpet"
           }
          ],
          "scattergeo": [
           {
            "marker": {
             "colorbar": {
              "outlinewidth": 0,
              "ticks": ""
             }
            },
            "type": "scattergeo"
           }
          ],
          "scattergl": [
           {
            "marker": {
             "colorbar": {
              "outlinewidth": 0,
              "ticks": ""
             }
            },
            "type": "scattergl"
           }
          ],
          "scattermapbox": [
           {
            "marker": {
             "colorbar": {
              "outlinewidth": 0,
              "ticks": ""
             }
            },
            "type": "scattermapbox"
           }
          ],
          "scatterpolar": [
           {
            "marker": {
             "colorbar": {
              "outlinewidth": 0,
              "ticks": ""
             }
            },
            "type": "scatterpolar"
           }
          ],
          "scatterpolargl": [
           {
            "marker": {
             "colorbar": {
              "outlinewidth": 0,
              "ticks": ""
             }
            },
            "type": "scatterpolargl"
           }
          ],
          "scatterternary": [
           {
            "marker": {
             "colorbar": {
              "outlinewidth": 0,
              "ticks": ""
             }
            },
            "type": "scatterternary"
           }
          ],
          "surface": [
           {
            "colorbar": {
             "outlinewidth": 0,
             "ticks": ""
            },
            "colorscale": [
             [
              0,
              "#0d0887"
             ],
             [
              0.1111111111111111,
              "#46039f"
             ],
             [
              0.2222222222222222,
              "#7201a8"
             ],
             [
              0.3333333333333333,
              "#9c179e"
             ],
             [
              0.4444444444444444,
              "#bd3786"
             ],
             [
              0.5555555555555556,
              "#d8576b"
             ],
             [
              0.6666666666666666,
              "#ed7953"
             ],
             [
              0.7777777777777778,
              "#fb9f3a"
             ],
             [
              0.8888888888888888,
              "#fdca26"
             ],
             [
              1,
              "#f0f921"
             ]
            ],
            "type": "surface"
           }
          ],
          "table": [
           {
            "cells": {
             "fill": {
              "color": "#EBF0F8"
             },
             "line": {
              "color": "white"
             }
            },
            "header": {
             "fill": {
              "color": "#C8D4E3"
             },
             "line": {
              "color": "white"
             }
            },
            "type": "table"
           }
          ]
         },
         "layout": {
          "annotationdefaults": {
           "arrowcolor": "#2a3f5f",
           "arrowhead": 0,
           "arrowwidth": 1
          },
          "autotypenumbers": "strict",
          "coloraxis": {
           "colorbar": {
            "outlinewidth": 0,
            "ticks": ""
           }
          },
          "colorscale": {
           "diverging": [
            [
             0,
             "#8e0152"
            ],
            [
             0.1,
             "#c51b7d"
            ],
            [
             0.2,
             "#de77ae"
            ],
            [
             0.3,
             "#f1b6da"
            ],
            [
             0.4,
             "#fde0ef"
            ],
            [
             0.5,
             "#f7f7f7"
            ],
            [
             0.6,
             "#e6f5d0"
            ],
            [
             0.7,
             "#b8e186"
            ],
            [
             0.8,
             "#7fbc41"
            ],
            [
             0.9,
             "#4d9221"
            ],
            [
             1,
             "#276419"
            ]
           ],
           "sequential": [
            [
             0,
             "#0d0887"
            ],
            [
             0.1111111111111111,
             "#46039f"
            ],
            [
             0.2222222222222222,
             "#7201a8"
            ],
            [
             0.3333333333333333,
             "#9c179e"
            ],
            [
             0.4444444444444444,
             "#bd3786"
            ],
            [
             0.5555555555555556,
             "#d8576b"
            ],
            [
             0.6666666666666666,
             "#ed7953"
            ],
            [
             0.7777777777777778,
             "#fb9f3a"
            ],
            [
             0.8888888888888888,
             "#fdca26"
            ],
            [
             1,
             "#f0f921"
            ]
           ],
           "sequentialminus": [
            [
             0,
             "#0d0887"
            ],
            [
             0.1111111111111111,
             "#46039f"
            ],
            [
             0.2222222222222222,
             "#7201a8"
            ],
            [
             0.3333333333333333,
             "#9c179e"
            ],
            [
             0.4444444444444444,
             "#bd3786"
            ],
            [
             0.5555555555555556,
             "#d8576b"
            ],
            [
             0.6666666666666666,
             "#ed7953"
            ],
            [
             0.7777777777777778,
             "#fb9f3a"
            ],
            [
             0.8888888888888888,
             "#fdca26"
            ],
            [
             1,
             "#f0f921"
            ]
           ]
          },
          "colorway": [
           "#636efa",
           "#EF553B",
           "#00cc96",
           "#ab63fa",
           "#FFA15A",
           "#19d3f3",
           "#FF6692",
           "#B6E880",
           "#FF97FF",
           "#FECB52"
          ],
          "font": {
           "color": "#2a3f5f"
          },
          "geo": {
           "bgcolor": "white",
           "lakecolor": "white",
           "landcolor": "#E5ECF6",
           "showlakes": true,
           "showland": true,
           "subunitcolor": "white"
          },
          "hoverlabel": {
           "align": "left"
          },
          "hovermode": "closest",
          "mapbox": {
           "style": "light"
          },
          "paper_bgcolor": "white",
          "plot_bgcolor": "#E5ECF6",
          "polar": {
           "angularaxis": {
            "gridcolor": "white",
            "linecolor": "white",
            "ticks": ""
           },
           "bgcolor": "#E5ECF6",
           "radialaxis": {
            "gridcolor": "white",
            "linecolor": "white",
            "ticks": ""
           }
          },
          "scene": {
           "xaxis": {
            "backgroundcolor": "#E5ECF6",
            "gridcolor": "white",
            "gridwidth": 2,
            "linecolor": "white",
            "showbackground": true,
            "ticks": "",
            "zerolinecolor": "white"
           },
           "yaxis": {
            "backgroundcolor": "#E5ECF6",
            "gridcolor": "white",
            "gridwidth": 2,
            "linecolor": "white",
            "showbackground": true,
            "ticks": "",
            "zerolinecolor": "white"
           },
           "zaxis": {
            "backgroundcolor": "#E5ECF6",
            "gridcolor": "white",
            "gridwidth": 2,
            "linecolor": "white",
            "showbackground": true,
            "ticks": "",
            "zerolinecolor": "white"
           }
          },
          "shapedefaults": {
           "line": {
            "color": "#2a3f5f"
           }
          },
          "ternary": {
           "aaxis": {
            "gridcolor": "white",
            "linecolor": "white",
            "ticks": ""
           },
           "baxis": {
            "gridcolor": "white",
            "linecolor": "white",
            "ticks": ""
           },
           "bgcolor": "#E5ECF6",
           "caxis": {
            "gridcolor": "white",
            "linecolor": "white",
            "ticks": ""
           }
          },
          "title": {
           "x": 0.05
          },
          "xaxis": {
           "automargin": true,
           "gridcolor": "white",
           "linecolor": "white",
           "ticks": "",
           "title": {
            "standoff": 15
           },
           "zerolinecolor": "white",
           "zerolinewidth": 2
          },
          "yaxis": {
           "automargin": true,
           "gridcolor": "white",
           "linecolor": "white",
           "ticks": "",
           "title": {
            "standoff": 15
           },
           "zerolinecolor": "white",
           "zerolinewidth": 2
          }
         }
        },
        "title": {
         "text": "Sales by year (dollars)"
        },
        "xaxis": {
         "title": {
          "text": "Yaer"
         }
        },
        "yaxis": {
         "title": {
          "text": "Sales (dollars)"
         }
        }
       }
      },
      "text/html": [
       "<div>                            <div id=\"1ac14ee1-ac74-471a-9033-96647fc68a13\" class=\"plotly-graph-div\" style=\"height:525px; width:100%;\"></div>            <script type=\"text/javascript\">                require([\"plotly\"], function(Plotly) {                    window.PLOTLYENV=window.PLOTLYENV || {};                                    if (document.getElementById(\"1ac14ee1-ac74-471a-9033-96647fc68a13\")) {                    Plotly.newPlot(                        \"1ac14ee1-ac74-471a-9033-96647fc68a13\",                        [{\"type\": \"bar\", \"x\": [2020, 2019, 2018, 2017, 2016, 2015, 2014, 2013], \"y\": [396966099.7395007, 349240929.0496279, 334548710.20719624, 315557634.1228935, 298995255.61954474, 284328572.10941964, 270587738.08962405, 258106846.15941873]}],                        {\"template\": {\"data\": {\"bar\": [{\"error_x\": {\"color\": \"#2a3f5f\"}, \"error_y\": {\"color\": \"#2a3f5f\"}, \"marker\": {\"line\": {\"color\": \"#E5ECF6\", \"width\": 0.5}}, \"type\": \"bar\"}], \"barpolar\": [{\"marker\": {\"line\": {\"color\": \"#E5ECF6\", \"width\": 0.5}}, \"type\": \"barpolar\"}], \"carpet\": [{\"aaxis\": {\"endlinecolor\": \"#2a3f5f\", \"gridcolor\": \"white\", \"linecolor\": \"white\", \"minorgridcolor\": \"white\", \"startlinecolor\": \"#2a3f5f\"}, \"baxis\": {\"endlinecolor\": \"#2a3f5f\", \"gridcolor\": \"white\", \"linecolor\": \"white\", \"minorgridcolor\": \"white\", \"startlinecolor\": \"#2a3f5f\"}, \"type\": \"carpet\"}], \"choropleth\": [{\"colorbar\": {\"outlinewidth\": 0, \"ticks\": \"\"}, \"type\": \"choropleth\"}], \"contour\": [{\"colorbar\": {\"outlinewidth\": 0, \"ticks\": \"\"}, \"colorscale\": [[0.0, \"#0d0887\"], [0.1111111111111111, \"#46039f\"], [0.2222222222222222, \"#7201a8\"], [0.3333333333333333, \"#9c179e\"], [0.4444444444444444, \"#bd3786\"], [0.5555555555555556, \"#d8576b\"], [0.6666666666666666, \"#ed7953\"], [0.7777777777777778, \"#fb9f3a\"], [0.8888888888888888, \"#fdca26\"], [1.0, \"#f0f921\"]], \"type\": \"contour\"}], \"contourcarpet\": [{\"colorbar\": {\"outlinewidth\": 0, \"ticks\": \"\"}, \"type\": \"contourcarpet\"}], \"heatmap\": [{\"colorbar\": {\"outlinewidth\": 0, \"ticks\": \"\"}, \"colorscale\": [[0.0, \"#0d0887\"], [0.1111111111111111, \"#46039f\"], [0.2222222222222222, \"#7201a8\"], [0.3333333333333333, \"#9c179e\"], [0.4444444444444444, \"#bd3786\"], [0.5555555555555556, \"#d8576b\"], [0.6666666666666666, \"#ed7953\"], [0.7777777777777778, \"#fb9f3a\"], [0.8888888888888888, \"#fdca26\"], [1.0, \"#f0f921\"]], \"type\": \"heatmap\"}], \"heatmapgl\": [{\"colorbar\": {\"outlinewidth\": 0, \"ticks\": \"\"}, \"colorscale\": [[0.0, \"#0d0887\"], [0.1111111111111111, \"#46039f\"], [0.2222222222222222, \"#7201a8\"], [0.3333333333333333, \"#9c179e\"], [0.4444444444444444, \"#bd3786\"], [0.5555555555555556, \"#d8576b\"], [0.6666666666666666, \"#ed7953\"], [0.7777777777777778, \"#fb9f3a\"], [0.8888888888888888, \"#fdca26\"], [1.0, \"#f0f921\"]], \"type\": \"heatmapgl\"}], \"histogram\": [{\"marker\": {\"colorbar\": {\"outlinewidth\": 0, \"ticks\": \"\"}}, \"type\": \"histogram\"}], \"histogram2d\": [{\"colorbar\": {\"outlinewidth\": 0, \"ticks\": \"\"}, \"colorscale\": [[0.0, \"#0d0887\"], [0.1111111111111111, \"#46039f\"], [0.2222222222222222, \"#7201a8\"], [0.3333333333333333, \"#9c179e\"], [0.4444444444444444, \"#bd3786\"], [0.5555555555555556, \"#d8576b\"], [0.6666666666666666, \"#ed7953\"], [0.7777777777777778, \"#fb9f3a\"], [0.8888888888888888, \"#fdca26\"], [1.0, \"#f0f921\"]], \"type\": \"histogram2d\"}], \"histogram2dcontour\": [{\"colorbar\": {\"outlinewidth\": 0, \"ticks\": \"\"}, \"colorscale\": [[0.0, \"#0d0887\"], [0.1111111111111111, \"#46039f\"], [0.2222222222222222, \"#7201a8\"], [0.3333333333333333, \"#9c179e\"], [0.4444444444444444, \"#bd3786\"], [0.5555555555555556, \"#d8576b\"], [0.6666666666666666, \"#ed7953\"], [0.7777777777777778, \"#fb9f3a\"], [0.8888888888888888, \"#fdca26\"], [1.0, \"#f0f921\"]], \"type\": \"histogram2dcontour\"}], \"mesh3d\": [{\"colorbar\": {\"outlinewidth\": 0, \"ticks\": \"\"}, \"type\": \"mesh3d\"}], \"parcoords\": [{\"line\": {\"colorbar\": {\"outlinewidth\": 0, \"ticks\": \"\"}}, \"type\": \"parcoords\"}], \"pie\": [{\"automargin\": true, \"type\": \"pie\"}], \"scatter\": [{\"marker\": {\"colorbar\": {\"outlinewidth\": 0, \"ticks\": \"\"}}, \"type\": \"scatter\"}], \"scatter3d\": [{\"line\": {\"colorbar\": {\"outlinewidth\": 0, \"ticks\": \"\"}}, \"marker\": {\"colorbar\": {\"outlinewidth\": 0, \"ticks\": \"\"}}, \"type\": \"scatter3d\"}], \"scattercarpet\": [{\"marker\": {\"colorbar\": {\"outlinewidth\": 0, \"ticks\": \"\"}}, \"type\": \"scattercarpet\"}], \"scattergeo\": [{\"marker\": {\"colorbar\": {\"outlinewidth\": 0, \"ticks\": \"\"}}, \"type\": \"scattergeo\"}], \"scattergl\": [{\"marker\": {\"colorbar\": {\"outlinewidth\": 0, \"ticks\": \"\"}}, \"type\": \"scattergl\"}], \"scattermapbox\": [{\"marker\": {\"colorbar\": {\"outlinewidth\": 0, \"ticks\": \"\"}}, \"type\": \"scattermapbox\"}], \"scatterpolar\": [{\"marker\": {\"colorbar\": {\"outlinewidth\": 0, \"ticks\": \"\"}}, \"type\": \"scatterpolar\"}], \"scatterpolargl\": [{\"marker\": {\"colorbar\": {\"outlinewidth\": 0, \"ticks\": \"\"}}, \"type\": \"scatterpolargl\"}], \"scatterternary\": [{\"marker\": {\"colorbar\": {\"outlinewidth\": 0, \"ticks\": \"\"}}, \"type\": \"scatterternary\"}], \"surface\": [{\"colorbar\": {\"outlinewidth\": 0, \"ticks\": \"\"}, \"colorscale\": [[0.0, \"#0d0887\"], [0.1111111111111111, \"#46039f\"], [0.2222222222222222, \"#7201a8\"], [0.3333333333333333, \"#9c179e\"], [0.4444444444444444, \"#bd3786\"], [0.5555555555555556, \"#d8576b\"], [0.6666666666666666, \"#ed7953\"], [0.7777777777777778, \"#fb9f3a\"], [0.8888888888888888, \"#fdca26\"], [1.0, \"#f0f921\"]], \"type\": \"surface\"}], \"table\": [{\"cells\": {\"fill\": {\"color\": \"#EBF0F8\"}, \"line\": {\"color\": \"white\"}}, \"header\": {\"fill\": {\"color\": \"#C8D4E3\"}, \"line\": {\"color\": \"white\"}}, \"type\": \"table\"}]}, \"layout\": {\"annotationdefaults\": {\"arrowcolor\": \"#2a3f5f\", \"arrowhead\": 0, \"arrowwidth\": 1}, \"autotypenumbers\": \"strict\", \"coloraxis\": {\"colorbar\": {\"outlinewidth\": 0, \"ticks\": \"\"}}, \"colorscale\": {\"diverging\": [[0, \"#8e0152\"], [0.1, \"#c51b7d\"], [0.2, \"#de77ae\"], [0.3, \"#f1b6da\"], [0.4, \"#fde0ef\"], [0.5, \"#f7f7f7\"], [0.6, \"#e6f5d0\"], [0.7, \"#b8e186\"], [0.8, \"#7fbc41\"], [0.9, \"#4d9221\"], [1, \"#276419\"]], \"sequential\": [[0.0, \"#0d0887\"], [0.1111111111111111, \"#46039f\"], [0.2222222222222222, \"#7201a8\"], [0.3333333333333333, \"#9c179e\"], [0.4444444444444444, \"#bd3786\"], [0.5555555555555556, \"#d8576b\"], [0.6666666666666666, \"#ed7953\"], [0.7777777777777778, \"#fb9f3a\"], [0.8888888888888888, \"#fdca26\"], [1.0, \"#f0f921\"]], \"sequentialminus\": [[0.0, \"#0d0887\"], [0.1111111111111111, \"#46039f\"], [0.2222222222222222, \"#7201a8\"], [0.3333333333333333, \"#9c179e\"], [0.4444444444444444, \"#bd3786\"], [0.5555555555555556, \"#d8576b\"], [0.6666666666666666, \"#ed7953\"], [0.7777777777777778, \"#fb9f3a\"], [0.8888888888888888, \"#fdca26\"], [1.0, \"#f0f921\"]]}, \"colorway\": [\"#636efa\", \"#EF553B\", \"#00cc96\", \"#ab63fa\", \"#FFA15A\", \"#19d3f3\", \"#FF6692\", \"#B6E880\", \"#FF97FF\", \"#FECB52\"], \"font\": {\"color\": \"#2a3f5f\"}, \"geo\": {\"bgcolor\": \"white\", \"lakecolor\": \"white\", \"landcolor\": \"#E5ECF6\", \"showlakes\": true, \"showland\": true, \"subunitcolor\": \"white\"}, \"hoverlabel\": {\"align\": \"left\"}, \"hovermode\": \"closest\", \"mapbox\": {\"style\": \"light\"}, \"paper_bgcolor\": \"white\", \"plot_bgcolor\": \"#E5ECF6\", \"polar\": {\"angularaxis\": {\"gridcolor\": \"white\", \"linecolor\": \"white\", \"ticks\": \"\"}, \"bgcolor\": \"#E5ECF6\", \"radialaxis\": {\"gridcolor\": \"white\", \"linecolor\": \"white\", \"ticks\": \"\"}}, \"scene\": {\"xaxis\": {\"backgroundcolor\": \"#E5ECF6\", \"gridcolor\": \"white\", \"gridwidth\": 2, \"linecolor\": \"white\", \"showbackground\": true, \"ticks\": \"\", \"zerolinecolor\": \"white\"}, \"yaxis\": {\"backgroundcolor\": \"#E5ECF6\", \"gridcolor\": \"white\", \"gridwidth\": 2, \"linecolor\": \"white\", \"showbackground\": true, \"ticks\": \"\", \"zerolinecolor\": \"white\"}, \"zaxis\": {\"backgroundcolor\": \"#E5ECF6\", \"gridcolor\": \"white\", \"gridwidth\": 2, \"linecolor\": \"white\", \"showbackground\": true, \"ticks\": \"\", \"zerolinecolor\": \"white\"}}, \"shapedefaults\": {\"line\": {\"color\": \"#2a3f5f\"}}, \"ternary\": {\"aaxis\": {\"gridcolor\": \"white\", \"linecolor\": \"white\", \"ticks\": \"\"}, \"baxis\": {\"gridcolor\": \"white\", \"linecolor\": \"white\", \"ticks\": \"\"}, \"bgcolor\": \"#E5ECF6\", \"caxis\": {\"gridcolor\": \"white\", \"linecolor\": \"white\", \"ticks\": \"\"}}, \"title\": {\"x\": 0.05}, \"xaxis\": {\"automargin\": true, \"gridcolor\": \"white\", \"linecolor\": \"white\", \"ticks\": \"\", \"title\": {\"standoff\": 15}, \"zerolinecolor\": \"white\", \"zerolinewidth\": 2}, \"yaxis\": {\"automargin\": true, \"gridcolor\": \"white\", \"linecolor\": \"white\", \"ticks\": \"\", \"title\": {\"standoff\": 15}, \"zerolinecolor\": \"white\", \"zerolinewidth\": 2}}}, \"title\": {\"text\": \"Sales by year (dollars)\"}, \"xaxis\": {\"title\": {\"text\": \"Yaer\"}}, \"yaxis\": {\"title\": {\"text\": \"Sales (dollars)\"}}},                        {\"responsive\": true}                    ).then(function(){\n",
       "                            \n",
       "var gd = document.getElementById('1ac14ee1-ac74-471a-9033-96647fc68a13');\n",
       "var x = new MutationObserver(function (mutations, observer) {{\n",
       "        var display = window.getComputedStyle(gd).display;\n",
       "        if (!display || display === 'none') {{\n",
       "            console.log([gd, 'removed!']);\n",
       "            Plotly.purge(gd);\n",
       "            observer.disconnect();\n",
       "        }}\n",
       "}});\n",
       "\n",
       "// Listen for the removal of the full notebook cells\n",
       "var notebookContainer = gd.closest('#notebook-container');\n",
       "if (notebookContainer) {{\n",
       "    x.observe(notebookContainer, {childList: true});\n",
       "}}\n",
       "\n",
       "// Listen for the clearing of the current output cell\n",
       "var outputEl = gd.closest('.output');\n",
       "if (outputEl) {{\n",
       "    x.observe(outputEl, {childList: true});\n",
       "}}\n",
       "\n",
       "                        })                };                });            </script>        </div>"
      ]
     },
     "metadata": {},
     "output_type": "display_data"
    }
   ],
   "source": [
    "df_aggregate_week = df_aggregate_dates.groupby('Year').agg({'sale_dollars': 'sum'}).reset_index().\\\n",
    "                                                sort_values(by='sale_dollars', ascending=False)\n",
    "fig = go.Figure(data=go.Bar(x=df_aggregate_week['Year'], y=df_aggregate_week['sale_dollars']))\n",
    "fig.update_layout(\n",
    "    title=\"Sales by year (dollars)\",\n",
    "    xaxis_title=\"Yaer\",\n",
    "    yaxis_title=\"Sales (dollars)\",\n",
    "    )\n",
    "fig.show()"
   ]
  },
  {
   "cell_type": "markdown",
   "metadata": {},
   "source": [
    "<p style=\"font-family: Monaco; font-size: 1.3em; color: IndianRed\">In this block we can see that the selling per year increase every year by 10-20M, but in 2020 we can see the biggest growth despite the coronavirus.</p>"
   ]
  },
  {
   "cell_type": "markdown",
   "metadata": {},
   "source": [
    "<ul><li style=\"font-family: Monaco; font-size: 1.3em\"><em>Seasonality. Month-year sales (dollars)</em></li></ul>"
   ]
  },
  {
   "cell_type": "code",
   "execution_count": 213,
   "metadata": {},
   "outputs": [],
   "source": [
    "df_aggregate['Year_month'] = df_aggregate['date'].dt.strftime('%Y-%m')"
   ]
  },
  {
   "cell_type": "code",
   "execution_count": 247,
   "metadata": {},
   "outputs": [
    {
     "data": {
      "application/vnd.plotly.v1+json": {
       "config": {
        "plotlyServerURL": "https://plot.ly"
       },
       "data": [
        {
         "line": {
          "color": "blue"
         },
         "type": "scattergl",
         "x": [
          "2012-01",
          "2012-02",
          "2012-03",
          "2012-04",
          "2012-05",
          "2012-06",
          "2012-07",
          "2012-08",
          "2012-09",
          "2012-10",
          "2012-11",
          "2012-12",
          "2013-01",
          "2013-02",
          "2013-03",
          "2013-04",
          "2013-05",
          "2013-06",
          "2013-07",
          "2013-08",
          "2013-09",
          "2013-10",
          "2013-11",
          "2013-12",
          "2014-01",
          "2014-02",
          "2014-03",
          "2014-04",
          "2014-05",
          "2014-06",
          "2014-07",
          "2014-08",
          "2014-09",
          "2014-10",
          "2014-11",
          "2014-12",
          "2015-01",
          "2015-02",
          "2015-03",
          "2015-04",
          "2015-05",
          "2015-06",
          "2015-07",
          "2015-08",
          "2015-09",
          "2015-10",
          "2015-11",
          "2015-12",
          "2016-01",
          "2016-02",
          "2016-03",
          "2016-04",
          "2016-05",
          "2016-06",
          "2016-07",
          "2016-08",
          "2016-09",
          "2016-10",
          "2016-11",
          "2016-12",
          "2017-01",
          "2017-02",
          "2017-03",
          "2017-04",
          "2017-05",
          "2017-06",
          "2017-07",
          "2017-08",
          "2017-09",
          "2017-10",
          "2017-11",
          "2017-12",
          "2018-01",
          "2018-02",
          "2018-03",
          "2018-04",
          "2018-05",
          "2018-06",
          "2018-07",
          "2018-08",
          "2018-09",
          "2018-10",
          "2018-11",
          "2018-12",
          "2019-01",
          "2019-02",
          "2019-03",
          "2019-04",
          "2019-05",
          "2019-06",
          "2019-07",
          "2019-08",
          "2019-09",
          "2019-10",
          "2019-11",
          "2019-12",
          "2020-01",
          "2020-02",
          "2020-03",
          "2020-04",
          "2020-05",
          "2020-06",
          "2020-07",
          "2020-08",
          "2020-09",
          "2020-10",
          "2020-11",
          "2020-12"
         ],
         "y": [
          15916380.620003376,
          18257750.960003477,
          18139545.75000346,
          20005250.580002334,
          22193521.24000363,
          21858903.07000314,
          20697363.780003738,
          21531282.840004172,
          18188505.110004954,
          32714086.04999661,
          19778514.92000516,
          26064579.630001545,
          17838850.120006047,
          18258605.70000572,
          18221543.540005494,
          22164956.690004498,
          22409324.580001168,
          19734621.10000315,
          22637783.93000121,
          21552819.63000166,
          19126692.82000294,
          32145811.439997856,
          17800949.640002485,
          26214886.970000565,
          20045932.62000255,
          19183282.260003008,
          19328906.110003334,
          22639172.300002206,
          20966264.200002726,
          24429677.970001895,
          21947352.740003143,
          21170887.080002125,
          23435552.56000151,
          26542408.090000957,
          20272759.740002465,
          30625542.420001138,
          18498508.310002375,
          21224352.410001535,
          23262369.7100025,
          22857263.33000122,
          22437370.960001424,
          27089683.130000606,
          22414165.50000222,
          22116397.55000169,
          24113360.17000124,
          25913248.070001483,
          23718715.060001113,
          30683137.909999117,
          19018055.36000274,
          22801842.480000105,
          23706446.340001542,
          22667024.610001046,
          25819176.160000995,
          27338669.98999986,
          21988265.62000185,
          23039162.038439002,
          25548527.759997983,
          27576727.73159829,
          26614212.84999823,
          32877144.679995775,
          20225467.39000087,
          23241574.139999,
          25104769.789998606,
          23270894.610000294,
          28353277.509997673,
          28763307.88999747,
          25321887.389998656,
          27769300.99999856,
          24542900.63999925,
          30463541.933197834,
          26974234.779999144,
          31526477.049997088,
          22706995.810000136,
          22925526.290000767,
          24913358.679999076,
          26253351.829999335,
          30190443.679997962,
          28605894.057598263,
          26201129.529999226,
          30521395.829998247,
          23788511.34000045,
          34636363.399996266,
          28760473.649999138,
          35045266.10999582,
          23459753.639999192,
          24661449.169998582,
          24975160.32999897,
          27799836.549998563,
          32767995.509996094,
          28935394.939998556,
          30975132.329998024,
          28436838.239997804,
          28068053.489998456,
          34383839.00999691,
          30269731.439998038,
          34507744.39999696,
          24928074.819999944,
          25732253.560000483,
          31238277.11999863,
          32007245.429999758,
          32111827.42999896,
          36028406.61999722,
          34266017.30999787,
          33745153.139997676,
          36729552.21999717,
          37495640.67999782,
          31819731.179998413,
          40863920.22999446
         ]
        }
       ],
       "layout": {
        "template": {
         "data": {
          "bar": [
           {
            "error_x": {
             "color": "#2a3f5f"
            },
            "error_y": {
             "color": "#2a3f5f"
            },
            "marker": {
             "line": {
              "color": "#E5ECF6",
              "width": 0.5
             }
            },
            "type": "bar"
           }
          ],
          "barpolar": [
           {
            "marker": {
             "line": {
              "color": "#E5ECF6",
              "width": 0.5
             }
            },
            "type": "barpolar"
           }
          ],
          "carpet": [
           {
            "aaxis": {
             "endlinecolor": "#2a3f5f",
             "gridcolor": "white",
             "linecolor": "white",
             "minorgridcolor": "white",
             "startlinecolor": "#2a3f5f"
            },
            "baxis": {
             "endlinecolor": "#2a3f5f",
             "gridcolor": "white",
             "linecolor": "white",
             "minorgridcolor": "white",
             "startlinecolor": "#2a3f5f"
            },
            "type": "carpet"
           }
          ],
          "choropleth": [
           {
            "colorbar": {
             "outlinewidth": 0,
             "ticks": ""
            },
            "type": "choropleth"
           }
          ],
          "contour": [
           {
            "colorbar": {
             "outlinewidth": 0,
             "ticks": ""
            },
            "colorscale": [
             [
              0,
              "#0d0887"
             ],
             [
              0.1111111111111111,
              "#46039f"
             ],
             [
              0.2222222222222222,
              "#7201a8"
             ],
             [
              0.3333333333333333,
              "#9c179e"
             ],
             [
              0.4444444444444444,
              "#bd3786"
             ],
             [
              0.5555555555555556,
              "#d8576b"
             ],
             [
              0.6666666666666666,
              "#ed7953"
             ],
             [
              0.7777777777777778,
              "#fb9f3a"
             ],
             [
              0.8888888888888888,
              "#fdca26"
             ],
             [
              1,
              "#f0f921"
             ]
            ],
            "type": "contour"
           }
          ],
          "contourcarpet": [
           {
            "colorbar": {
             "outlinewidth": 0,
             "ticks": ""
            },
            "type": "contourcarpet"
           }
          ],
          "heatmap": [
           {
            "colorbar": {
             "outlinewidth": 0,
             "ticks": ""
            },
            "colorscale": [
             [
              0,
              "#0d0887"
             ],
             [
              0.1111111111111111,
              "#46039f"
             ],
             [
              0.2222222222222222,
              "#7201a8"
             ],
             [
              0.3333333333333333,
              "#9c179e"
             ],
             [
              0.4444444444444444,
              "#bd3786"
             ],
             [
              0.5555555555555556,
              "#d8576b"
             ],
             [
              0.6666666666666666,
              "#ed7953"
             ],
             [
              0.7777777777777778,
              "#fb9f3a"
             ],
             [
              0.8888888888888888,
              "#fdca26"
             ],
             [
              1,
              "#f0f921"
             ]
            ],
            "type": "heatmap"
           }
          ],
          "heatmapgl": [
           {
            "colorbar": {
             "outlinewidth": 0,
             "ticks": ""
            },
            "colorscale": [
             [
              0,
              "#0d0887"
             ],
             [
              0.1111111111111111,
              "#46039f"
             ],
             [
              0.2222222222222222,
              "#7201a8"
             ],
             [
              0.3333333333333333,
              "#9c179e"
             ],
             [
              0.4444444444444444,
              "#bd3786"
             ],
             [
              0.5555555555555556,
              "#d8576b"
             ],
             [
              0.6666666666666666,
              "#ed7953"
             ],
             [
              0.7777777777777778,
              "#fb9f3a"
             ],
             [
              0.8888888888888888,
              "#fdca26"
             ],
             [
              1,
              "#f0f921"
             ]
            ],
            "type": "heatmapgl"
           }
          ],
          "histogram": [
           {
            "marker": {
             "colorbar": {
              "outlinewidth": 0,
              "ticks": ""
             }
            },
            "type": "histogram"
           }
          ],
          "histogram2d": [
           {
            "colorbar": {
             "outlinewidth": 0,
             "ticks": ""
            },
            "colorscale": [
             [
              0,
              "#0d0887"
             ],
             [
              0.1111111111111111,
              "#46039f"
             ],
             [
              0.2222222222222222,
              "#7201a8"
             ],
             [
              0.3333333333333333,
              "#9c179e"
             ],
             [
              0.4444444444444444,
              "#bd3786"
             ],
             [
              0.5555555555555556,
              "#d8576b"
             ],
             [
              0.6666666666666666,
              "#ed7953"
             ],
             [
              0.7777777777777778,
              "#fb9f3a"
             ],
             [
              0.8888888888888888,
              "#fdca26"
             ],
             [
              1,
              "#f0f921"
             ]
            ],
            "type": "histogram2d"
           }
          ],
          "histogram2dcontour": [
           {
            "colorbar": {
             "outlinewidth": 0,
             "ticks": ""
            },
            "colorscale": [
             [
              0,
              "#0d0887"
             ],
             [
              0.1111111111111111,
              "#46039f"
             ],
             [
              0.2222222222222222,
              "#7201a8"
             ],
             [
              0.3333333333333333,
              "#9c179e"
             ],
             [
              0.4444444444444444,
              "#bd3786"
             ],
             [
              0.5555555555555556,
              "#d8576b"
             ],
             [
              0.6666666666666666,
              "#ed7953"
             ],
             [
              0.7777777777777778,
              "#fb9f3a"
             ],
             [
              0.8888888888888888,
              "#fdca26"
             ],
             [
              1,
              "#f0f921"
             ]
            ],
            "type": "histogram2dcontour"
           }
          ],
          "mesh3d": [
           {
            "colorbar": {
             "outlinewidth": 0,
             "ticks": ""
            },
            "type": "mesh3d"
           }
          ],
          "parcoords": [
           {
            "line": {
             "colorbar": {
              "outlinewidth": 0,
              "ticks": ""
             }
            },
            "type": "parcoords"
           }
          ],
          "pie": [
           {
            "automargin": true,
            "type": "pie"
           }
          ],
          "scatter": [
           {
            "marker": {
             "colorbar": {
              "outlinewidth": 0,
              "ticks": ""
             }
            },
            "type": "scatter"
           }
          ],
          "scatter3d": [
           {
            "line": {
             "colorbar": {
              "outlinewidth": 0,
              "ticks": ""
             }
            },
            "marker": {
             "colorbar": {
              "outlinewidth": 0,
              "ticks": ""
             }
            },
            "type": "scatter3d"
           }
          ],
          "scattercarpet": [
           {
            "marker": {
             "colorbar": {
              "outlinewidth": 0,
              "ticks": ""
             }
            },
            "type": "scattercarpet"
           }
          ],
          "scattergeo": [
           {
            "marker": {
             "colorbar": {
              "outlinewidth": 0,
              "ticks": ""
             }
            },
            "type": "scattergeo"
           }
          ],
          "scattergl": [
           {
            "marker": {
             "colorbar": {
              "outlinewidth": 0,
              "ticks": ""
             }
            },
            "type": "scattergl"
           }
          ],
          "scattermapbox": [
           {
            "marker": {
             "colorbar": {
              "outlinewidth": 0,
              "ticks": ""
             }
            },
            "type": "scattermapbox"
           }
          ],
          "scatterpolar": [
           {
            "marker": {
             "colorbar": {
              "outlinewidth": 0,
              "ticks": ""
             }
            },
            "type": "scatterpolar"
           }
          ],
          "scatterpolargl": [
           {
            "marker": {
             "colorbar": {
              "outlinewidth": 0,
              "ticks": ""
             }
            },
            "type": "scatterpolargl"
           }
          ],
          "scatterternary": [
           {
            "marker": {
             "colorbar": {
              "outlinewidth": 0,
              "ticks": ""
             }
            },
            "type": "scatterternary"
           }
          ],
          "surface": [
           {
            "colorbar": {
             "outlinewidth": 0,
             "ticks": ""
            },
            "colorscale": [
             [
              0,
              "#0d0887"
             ],
             [
              0.1111111111111111,
              "#46039f"
             ],
             [
              0.2222222222222222,
              "#7201a8"
             ],
             [
              0.3333333333333333,
              "#9c179e"
             ],
             [
              0.4444444444444444,
              "#bd3786"
             ],
             [
              0.5555555555555556,
              "#d8576b"
             ],
             [
              0.6666666666666666,
              "#ed7953"
             ],
             [
              0.7777777777777778,
              "#fb9f3a"
             ],
             [
              0.8888888888888888,
              "#fdca26"
             ],
             [
              1,
              "#f0f921"
             ]
            ],
            "type": "surface"
           }
          ],
          "table": [
           {
            "cells": {
             "fill": {
              "color": "#EBF0F8"
             },
             "line": {
              "color": "white"
             }
            },
            "header": {
             "fill": {
              "color": "#C8D4E3"
             },
             "line": {
              "color": "white"
             }
            },
            "type": "table"
           }
          ]
         },
         "layout": {
          "annotationdefaults": {
           "arrowcolor": "#2a3f5f",
           "arrowhead": 0,
           "arrowwidth": 1
          },
          "autotypenumbers": "strict",
          "coloraxis": {
           "colorbar": {
            "outlinewidth": 0,
            "ticks": ""
           }
          },
          "colorscale": {
           "diverging": [
            [
             0,
             "#8e0152"
            ],
            [
             0.1,
             "#c51b7d"
            ],
            [
             0.2,
             "#de77ae"
            ],
            [
             0.3,
             "#f1b6da"
            ],
            [
             0.4,
             "#fde0ef"
            ],
            [
             0.5,
             "#f7f7f7"
            ],
            [
             0.6,
             "#e6f5d0"
            ],
            [
             0.7,
             "#b8e186"
            ],
            [
             0.8,
             "#7fbc41"
            ],
            [
             0.9,
             "#4d9221"
            ],
            [
             1,
             "#276419"
            ]
           ],
           "sequential": [
            [
             0,
             "#0d0887"
            ],
            [
             0.1111111111111111,
             "#46039f"
            ],
            [
             0.2222222222222222,
             "#7201a8"
            ],
            [
             0.3333333333333333,
             "#9c179e"
            ],
            [
             0.4444444444444444,
             "#bd3786"
            ],
            [
             0.5555555555555556,
             "#d8576b"
            ],
            [
             0.6666666666666666,
             "#ed7953"
            ],
            [
             0.7777777777777778,
             "#fb9f3a"
            ],
            [
             0.8888888888888888,
             "#fdca26"
            ],
            [
             1,
             "#f0f921"
            ]
           ],
           "sequentialminus": [
            [
             0,
             "#0d0887"
            ],
            [
             0.1111111111111111,
             "#46039f"
            ],
            [
             0.2222222222222222,
             "#7201a8"
            ],
            [
             0.3333333333333333,
             "#9c179e"
            ],
            [
             0.4444444444444444,
             "#bd3786"
            ],
            [
             0.5555555555555556,
             "#d8576b"
            ],
            [
             0.6666666666666666,
             "#ed7953"
            ],
            [
             0.7777777777777778,
             "#fb9f3a"
            ],
            [
             0.8888888888888888,
             "#fdca26"
            ],
            [
             1,
             "#f0f921"
            ]
           ]
          },
          "colorway": [
           "#636efa",
           "#EF553B",
           "#00cc96",
           "#ab63fa",
           "#FFA15A",
           "#19d3f3",
           "#FF6692",
           "#B6E880",
           "#FF97FF",
           "#FECB52"
          ],
          "font": {
           "color": "#2a3f5f"
          },
          "geo": {
           "bgcolor": "white",
           "lakecolor": "white",
           "landcolor": "#E5ECF6",
           "showlakes": true,
           "showland": true,
           "subunitcolor": "white"
          },
          "hoverlabel": {
           "align": "left"
          },
          "hovermode": "closest",
          "mapbox": {
           "style": "light"
          },
          "paper_bgcolor": "white",
          "plot_bgcolor": "#E5ECF6",
          "polar": {
           "angularaxis": {
            "gridcolor": "white",
            "linecolor": "white",
            "ticks": ""
           },
           "bgcolor": "#E5ECF6",
           "radialaxis": {
            "gridcolor": "white",
            "linecolor": "white",
            "ticks": ""
           }
          },
          "scene": {
           "xaxis": {
            "backgroundcolor": "#E5ECF6",
            "gridcolor": "white",
            "gridwidth": 2,
            "linecolor": "white",
            "showbackground": true,
            "ticks": "",
            "zerolinecolor": "white"
           },
           "yaxis": {
            "backgroundcolor": "#E5ECF6",
            "gridcolor": "white",
            "gridwidth": 2,
            "linecolor": "white",
            "showbackground": true,
            "ticks": "",
            "zerolinecolor": "white"
           },
           "zaxis": {
            "backgroundcolor": "#E5ECF6",
            "gridcolor": "white",
            "gridwidth": 2,
            "linecolor": "white",
            "showbackground": true,
            "ticks": "",
            "zerolinecolor": "white"
           }
          },
          "shapedefaults": {
           "line": {
            "color": "#2a3f5f"
           }
          },
          "ternary": {
           "aaxis": {
            "gridcolor": "white",
            "linecolor": "white",
            "ticks": ""
           },
           "baxis": {
            "gridcolor": "white",
            "linecolor": "white",
            "ticks": ""
           },
           "bgcolor": "#E5ECF6",
           "caxis": {
            "gridcolor": "white",
            "linecolor": "white",
            "ticks": ""
           }
          },
          "title": {
           "x": 0.05
          },
          "xaxis": {
           "automargin": true,
           "gridcolor": "white",
           "linecolor": "white",
           "ticks": "",
           "title": {
            "standoff": 15
           },
           "zerolinecolor": "white",
           "zerolinewidth": 2
          },
          "yaxis": {
           "automargin": true,
           "gridcolor": "white",
           "linecolor": "white",
           "ticks": "",
           "title": {
            "standoff": 15
           },
           "zerolinecolor": "white",
           "zerolinewidth": 2
          }
         }
        },
        "title": {
         "text": "Sales by year (dollars)"
        },
        "xaxis": {
         "title": {
          "text": "Yaer"
         }
        },
        "yaxis": {
         "title": {
          "text": "Sales (dollars)"
         }
        }
       }
      },
      "text/html": [
       "<div>                            <div id=\"d879a0d5-ccd3-4c57-964c-cdab7313d4b3\" class=\"plotly-graph-div\" style=\"height:525px; width:100%;\"></div>            <script type=\"text/javascript\">                require([\"plotly\"], function(Plotly) {                    window.PLOTLYENV=window.PLOTLYENV || {};                                    if (document.getElementById(\"d879a0d5-ccd3-4c57-964c-cdab7313d4b3\")) {                    Plotly.newPlot(                        \"d879a0d5-ccd3-4c57-964c-cdab7313d4b3\",                        [{\"line\": {\"color\": \"blue\"}, \"type\": \"scattergl\", \"x\": [\"2012-01\", \"2012-02\", \"2012-03\", \"2012-04\", \"2012-05\", \"2012-06\", \"2012-07\", \"2012-08\", \"2012-09\", \"2012-10\", \"2012-11\", \"2012-12\", \"2013-01\", \"2013-02\", \"2013-03\", \"2013-04\", \"2013-05\", \"2013-06\", \"2013-07\", \"2013-08\", \"2013-09\", \"2013-10\", \"2013-11\", \"2013-12\", \"2014-01\", \"2014-02\", \"2014-03\", \"2014-04\", \"2014-05\", \"2014-06\", \"2014-07\", \"2014-08\", \"2014-09\", \"2014-10\", \"2014-11\", \"2014-12\", \"2015-01\", \"2015-02\", \"2015-03\", \"2015-04\", \"2015-05\", \"2015-06\", \"2015-07\", \"2015-08\", \"2015-09\", \"2015-10\", \"2015-11\", \"2015-12\", \"2016-01\", \"2016-02\", \"2016-03\", \"2016-04\", \"2016-05\", \"2016-06\", \"2016-07\", \"2016-08\", \"2016-09\", \"2016-10\", \"2016-11\", \"2016-12\", \"2017-01\", \"2017-02\", \"2017-03\", \"2017-04\", \"2017-05\", \"2017-06\", \"2017-07\", \"2017-08\", \"2017-09\", \"2017-10\", \"2017-11\", \"2017-12\", \"2018-01\", \"2018-02\", \"2018-03\", \"2018-04\", \"2018-05\", \"2018-06\", \"2018-07\", \"2018-08\", \"2018-09\", \"2018-10\", \"2018-11\", \"2018-12\", \"2019-01\", \"2019-02\", \"2019-03\", \"2019-04\", \"2019-05\", \"2019-06\", \"2019-07\", \"2019-08\", \"2019-09\", \"2019-10\", \"2019-11\", \"2019-12\", \"2020-01\", \"2020-02\", \"2020-03\", \"2020-04\", \"2020-05\", \"2020-06\", \"2020-07\", \"2020-08\", \"2020-09\", \"2020-10\", \"2020-11\", \"2020-12\"], \"y\": [15916380.620003376, 18257750.960003477, 18139545.75000346, 20005250.580002334, 22193521.24000363, 21858903.07000314, 20697363.780003738, 21531282.840004172, 18188505.110004954, 32714086.04999661, 19778514.92000516, 26064579.630001545, 17838850.120006047, 18258605.70000572, 18221543.540005494, 22164956.690004498, 22409324.580001168, 19734621.10000315, 22637783.93000121, 21552819.63000166, 19126692.82000294, 32145811.439997856, 17800949.640002485, 26214886.970000565, 20045932.62000255, 19183282.260003008, 19328906.110003334, 22639172.300002206, 20966264.200002726, 24429677.970001895, 21947352.740003143, 21170887.080002125, 23435552.56000151, 26542408.090000957, 20272759.740002465, 30625542.420001138, 18498508.310002375, 21224352.410001535, 23262369.7100025, 22857263.33000122, 22437370.960001424, 27089683.130000606, 22414165.50000222, 22116397.55000169, 24113360.17000124, 25913248.070001483, 23718715.060001113, 30683137.909999117, 19018055.36000274, 22801842.480000105, 23706446.340001542, 22667024.610001046, 25819176.160000995, 27338669.98999986, 21988265.62000185, 23039162.038439002, 25548527.759997983, 27576727.73159829, 26614212.84999823, 32877144.679995775, 20225467.39000087, 23241574.139999, 25104769.789998606, 23270894.610000294, 28353277.509997673, 28763307.88999747, 25321887.389998656, 27769300.99999856, 24542900.63999925, 30463541.933197834, 26974234.779999144, 31526477.049997088, 22706995.810000136, 22925526.290000767, 24913358.679999076, 26253351.829999335, 30190443.679997962, 28605894.057598263, 26201129.529999226, 30521395.829998247, 23788511.34000045, 34636363.399996266, 28760473.649999138, 35045266.10999582, 23459753.639999192, 24661449.169998582, 24975160.32999897, 27799836.549998563, 32767995.509996094, 28935394.939998556, 30975132.329998024, 28436838.239997804, 28068053.489998456, 34383839.00999691, 30269731.439998038, 34507744.39999696, 24928074.819999944, 25732253.560000483, 31238277.11999863, 32007245.429999758, 32111827.42999896, 36028406.61999722, 34266017.30999787, 33745153.139997676, 36729552.21999717, 37495640.67999782, 31819731.179998413, 40863920.22999446]}],                        {\"template\": {\"data\": {\"bar\": [{\"error_x\": {\"color\": \"#2a3f5f\"}, \"error_y\": {\"color\": \"#2a3f5f\"}, \"marker\": {\"line\": {\"color\": \"#E5ECF6\", \"width\": 0.5}}, \"type\": \"bar\"}], \"barpolar\": [{\"marker\": {\"line\": {\"color\": \"#E5ECF6\", \"width\": 0.5}}, \"type\": \"barpolar\"}], \"carpet\": [{\"aaxis\": {\"endlinecolor\": \"#2a3f5f\", \"gridcolor\": \"white\", \"linecolor\": \"white\", \"minorgridcolor\": \"white\", \"startlinecolor\": \"#2a3f5f\"}, \"baxis\": {\"endlinecolor\": \"#2a3f5f\", \"gridcolor\": \"white\", \"linecolor\": \"white\", \"minorgridcolor\": \"white\", \"startlinecolor\": \"#2a3f5f\"}, \"type\": \"carpet\"}], \"choropleth\": [{\"colorbar\": {\"outlinewidth\": 0, \"ticks\": \"\"}, \"type\": \"choropleth\"}], \"contour\": [{\"colorbar\": {\"outlinewidth\": 0, \"ticks\": \"\"}, \"colorscale\": [[0.0, \"#0d0887\"], [0.1111111111111111, \"#46039f\"], [0.2222222222222222, \"#7201a8\"], [0.3333333333333333, \"#9c179e\"], [0.4444444444444444, \"#bd3786\"], [0.5555555555555556, \"#d8576b\"], [0.6666666666666666, \"#ed7953\"], [0.7777777777777778, \"#fb9f3a\"], [0.8888888888888888, \"#fdca26\"], [1.0, \"#f0f921\"]], \"type\": \"contour\"}], \"contourcarpet\": [{\"colorbar\": {\"outlinewidth\": 0, \"ticks\": \"\"}, \"type\": \"contourcarpet\"}], \"heatmap\": [{\"colorbar\": {\"outlinewidth\": 0, \"ticks\": \"\"}, \"colorscale\": [[0.0, \"#0d0887\"], [0.1111111111111111, \"#46039f\"], [0.2222222222222222, \"#7201a8\"], [0.3333333333333333, \"#9c179e\"], [0.4444444444444444, \"#bd3786\"], [0.5555555555555556, \"#d8576b\"], [0.6666666666666666, \"#ed7953\"], [0.7777777777777778, \"#fb9f3a\"], [0.8888888888888888, \"#fdca26\"], [1.0, \"#f0f921\"]], \"type\": \"heatmap\"}], \"heatmapgl\": [{\"colorbar\": {\"outlinewidth\": 0, \"ticks\": \"\"}, \"colorscale\": [[0.0, \"#0d0887\"], [0.1111111111111111, \"#46039f\"], [0.2222222222222222, \"#7201a8\"], [0.3333333333333333, \"#9c179e\"], [0.4444444444444444, \"#bd3786\"], [0.5555555555555556, \"#d8576b\"], [0.6666666666666666, \"#ed7953\"], [0.7777777777777778, \"#fb9f3a\"], [0.8888888888888888, \"#fdca26\"], [1.0, \"#f0f921\"]], \"type\": \"heatmapgl\"}], \"histogram\": [{\"marker\": {\"colorbar\": {\"outlinewidth\": 0, \"ticks\": \"\"}}, \"type\": \"histogram\"}], \"histogram2d\": [{\"colorbar\": {\"outlinewidth\": 0, \"ticks\": \"\"}, \"colorscale\": [[0.0, \"#0d0887\"], [0.1111111111111111, \"#46039f\"], [0.2222222222222222, \"#7201a8\"], [0.3333333333333333, \"#9c179e\"], [0.4444444444444444, \"#bd3786\"], [0.5555555555555556, \"#d8576b\"], [0.6666666666666666, \"#ed7953\"], [0.7777777777777778, \"#fb9f3a\"], [0.8888888888888888, \"#fdca26\"], [1.0, \"#f0f921\"]], \"type\": \"histogram2d\"}], \"histogram2dcontour\": [{\"colorbar\": {\"outlinewidth\": 0, \"ticks\": \"\"}, \"colorscale\": [[0.0, \"#0d0887\"], [0.1111111111111111, \"#46039f\"], [0.2222222222222222, \"#7201a8\"], [0.3333333333333333, \"#9c179e\"], [0.4444444444444444, \"#bd3786\"], [0.5555555555555556, \"#d8576b\"], [0.6666666666666666, \"#ed7953\"], [0.7777777777777778, \"#fb9f3a\"], [0.8888888888888888, \"#fdca26\"], [1.0, \"#f0f921\"]], \"type\": \"histogram2dcontour\"}], \"mesh3d\": [{\"colorbar\": {\"outlinewidth\": 0, \"ticks\": \"\"}, \"type\": \"mesh3d\"}], \"parcoords\": [{\"line\": {\"colorbar\": {\"outlinewidth\": 0, \"ticks\": \"\"}}, \"type\": \"parcoords\"}], \"pie\": [{\"automargin\": true, \"type\": \"pie\"}], \"scatter\": [{\"marker\": {\"colorbar\": {\"outlinewidth\": 0, \"ticks\": \"\"}}, \"type\": \"scatter\"}], \"scatter3d\": [{\"line\": {\"colorbar\": {\"outlinewidth\": 0, \"ticks\": \"\"}}, \"marker\": {\"colorbar\": {\"outlinewidth\": 0, \"ticks\": \"\"}}, \"type\": \"scatter3d\"}], \"scattercarpet\": [{\"marker\": {\"colorbar\": {\"outlinewidth\": 0, \"ticks\": \"\"}}, \"type\": \"scattercarpet\"}], \"scattergeo\": [{\"marker\": {\"colorbar\": {\"outlinewidth\": 0, \"ticks\": \"\"}}, \"type\": \"scattergeo\"}], \"scattergl\": [{\"marker\": {\"colorbar\": {\"outlinewidth\": 0, \"ticks\": \"\"}}, \"type\": \"scattergl\"}], \"scattermapbox\": [{\"marker\": {\"colorbar\": {\"outlinewidth\": 0, \"ticks\": \"\"}}, \"type\": \"scattermapbox\"}], \"scatterpolar\": [{\"marker\": {\"colorbar\": {\"outlinewidth\": 0, \"ticks\": \"\"}}, \"type\": \"scatterpolar\"}], \"scatterpolargl\": [{\"marker\": {\"colorbar\": {\"outlinewidth\": 0, \"ticks\": \"\"}}, \"type\": \"scatterpolargl\"}], \"scatterternary\": [{\"marker\": {\"colorbar\": {\"outlinewidth\": 0, \"ticks\": \"\"}}, \"type\": \"scatterternary\"}], \"surface\": [{\"colorbar\": {\"outlinewidth\": 0, \"ticks\": \"\"}, \"colorscale\": [[0.0, \"#0d0887\"], [0.1111111111111111, \"#46039f\"], [0.2222222222222222, \"#7201a8\"], [0.3333333333333333, \"#9c179e\"], [0.4444444444444444, \"#bd3786\"], [0.5555555555555556, \"#d8576b\"], [0.6666666666666666, \"#ed7953\"], [0.7777777777777778, \"#fb9f3a\"], [0.8888888888888888, \"#fdca26\"], [1.0, \"#f0f921\"]], \"type\": \"surface\"}], \"table\": [{\"cells\": {\"fill\": {\"color\": \"#EBF0F8\"}, \"line\": {\"color\": \"white\"}}, \"header\": {\"fill\": {\"color\": \"#C8D4E3\"}, \"line\": {\"color\": \"white\"}}, \"type\": \"table\"}]}, \"layout\": {\"annotationdefaults\": {\"arrowcolor\": \"#2a3f5f\", \"arrowhead\": 0, \"arrowwidth\": 1}, \"autotypenumbers\": \"strict\", \"coloraxis\": {\"colorbar\": {\"outlinewidth\": 0, \"ticks\": \"\"}}, \"colorscale\": {\"diverging\": [[0, \"#8e0152\"], [0.1, \"#c51b7d\"], [0.2, \"#de77ae\"], [0.3, \"#f1b6da\"], [0.4, \"#fde0ef\"], [0.5, \"#f7f7f7\"], [0.6, \"#e6f5d0\"], [0.7, \"#b8e186\"], [0.8, \"#7fbc41\"], [0.9, \"#4d9221\"], [1, \"#276419\"]], \"sequential\": [[0.0, \"#0d0887\"], [0.1111111111111111, \"#46039f\"], [0.2222222222222222, \"#7201a8\"], [0.3333333333333333, \"#9c179e\"], [0.4444444444444444, \"#bd3786\"], [0.5555555555555556, \"#d8576b\"], [0.6666666666666666, \"#ed7953\"], [0.7777777777777778, \"#fb9f3a\"], [0.8888888888888888, \"#fdca26\"], [1.0, \"#f0f921\"]], \"sequentialminus\": [[0.0, \"#0d0887\"], [0.1111111111111111, \"#46039f\"], [0.2222222222222222, \"#7201a8\"], [0.3333333333333333, \"#9c179e\"], [0.4444444444444444, \"#bd3786\"], [0.5555555555555556, \"#d8576b\"], [0.6666666666666666, \"#ed7953\"], [0.7777777777777778, \"#fb9f3a\"], [0.8888888888888888, \"#fdca26\"], [1.0, \"#f0f921\"]]}, \"colorway\": [\"#636efa\", \"#EF553B\", \"#00cc96\", \"#ab63fa\", \"#FFA15A\", \"#19d3f3\", \"#FF6692\", \"#B6E880\", \"#FF97FF\", \"#FECB52\"], \"font\": {\"color\": \"#2a3f5f\"}, \"geo\": {\"bgcolor\": \"white\", \"lakecolor\": \"white\", \"landcolor\": \"#E5ECF6\", \"showlakes\": true, \"showland\": true, \"subunitcolor\": \"white\"}, \"hoverlabel\": {\"align\": \"left\"}, \"hovermode\": \"closest\", \"mapbox\": {\"style\": \"light\"}, \"paper_bgcolor\": \"white\", \"plot_bgcolor\": \"#E5ECF6\", \"polar\": {\"angularaxis\": {\"gridcolor\": \"white\", \"linecolor\": \"white\", \"ticks\": \"\"}, \"bgcolor\": \"#E5ECF6\", \"radialaxis\": {\"gridcolor\": \"white\", \"linecolor\": \"white\", \"ticks\": \"\"}}, \"scene\": {\"xaxis\": {\"backgroundcolor\": \"#E5ECF6\", \"gridcolor\": \"white\", \"gridwidth\": 2, \"linecolor\": \"white\", \"showbackground\": true, \"ticks\": \"\", \"zerolinecolor\": \"white\"}, \"yaxis\": {\"backgroundcolor\": \"#E5ECF6\", \"gridcolor\": \"white\", \"gridwidth\": 2, \"linecolor\": \"white\", \"showbackground\": true, \"ticks\": \"\", \"zerolinecolor\": \"white\"}, \"zaxis\": {\"backgroundcolor\": \"#E5ECF6\", \"gridcolor\": \"white\", \"gridwidth\": 2, \"linecolor\": \"white\", \"showbackground\": true, \"ticks\": \"\", \"zerolinecolor\": \"white\"}}, \"shapedefaults\": {\"line\": {\"color\": \"#2a3f5f\"}}, \"ternary\": {\"aaxis\": {\"gridcolor\": \"white\", \"linecolor\": \"white\", \"ticks\": \"\"}, \"baxis\": {\"gridcolor\": \"white\", \"linecolor\": \"white\", \"ticks\": \"\"}, \"bgcolor\": \"#E5ECF6\", \"caxis\": {\"gridcolor\": \"white\", \"linecolor\": \"white\", \"ticks\": \"\"}}, \"title\": {\"x\": 0.05}, \"xaxis\": {\"automargin\": true, \"gridcolor\": \"white\", \"linecolor\": \"white\", \"ticks\": \"\", \"title\": {\"standoff\": 15}, \"zerolinecolor\": \"white\", \"zerolinewidth\": 2}, \"yaxis\": {\"automargin\": true, \"gridcolor\": \"white\", \"linecolor\": \"white\", \"ticks\": \"\", \"title\": {\"standoff\": 15}, \"zerolinecolor\": \"white\", \"zerolinewidth\": 2}}}, \"title\": {\"text\": \"Sales by year (dollars)\"}, \"xaxis\": {\"title\": {\"text\": \"Yaer\"}}, \"yaxis\": {\"title\": {\"text\": \"Sales (dollars)\"}}},                        {\"responsive\": true}                    ).then(function(){\n",
       "                            \n",
       "var gd = document.getElementById('d879a0d5-ccd3-4c57-964c-cdab7313d4b3');\n",
       "var x = new MutationObserver(function (mutations, observer) {{\n",
       "        var display = window.getComputedStyle(gd).display;\n",
       "        if (!display || display === 'none') {{\n",
       "            console.log([gd, 'removed!']);\n",
       "            Plotly.purge(gd);\n",
       "            observer.disconnect();\n",
       "        }}\n",
       "}});\n",
       "\n",
       "// Listen for the removal of the full notebook cells\n",
       "var notebookContainer = gd.closest('#notebook-container');\n",
       "if (notebookContainer) {{\n",
       "    x.observe(notebookContainer, {childList: true});\n",
       "}}\n",
       "\n",
       "// Listen for the clearing of the current output cell\n",
       "var outputEl = gd.closest('.output');\n",
       "if (outputEl) {{\n",
       "    x.observe(outputEl, {childList: true});\n",
       "}}\n",
       "\n",
       "                        })                };                });            </script>        </div>"
      ]
     },
     "metadata": {},
     "output_type": "display_data"
    }
   ],
   "source": [
    "df_aggregate_month = df_aggregate.groupby(['Year_month']).agg({'sale_dollars': 'sum'}).reset_index()\n",
    "\n",
    "fig = go.Figure()\n",
    "fig.add_scattergl(x=df_aggregate_month['Year_month'],\n",
    "                  y=df_aggregate_month['sale_dollars'], line={'color': 'blue'})\n",
    "fig.update_layout(\n",
    "    title=\"Sales by year (dollars)\",\n",
    "    xaxis_title=\"Yaer\",\n",
    "    yaxis_title=\"Sales (dollars)\",\n",
    "    )\n",
    "fig.show()"
   ]
  },
  {
   "cell_type": "markdown",
   "metadata": {},
   "source": [
    "<p style=\"font-family: Monaco; font-size: 1.3em\">Try to predict time series trend for 2021 year</p>"
   ]
  },
  {
   "cell_type": "code",
   "execution_count": 249,
   "metadata": {},
   "outputs": [],
   "source": [
    "df_aggregate_month['Month'] = df_aggregate_month['Year_month'].apply(lambda x: int(x[5:]))"
   ]
  },
  {
   "cell_type": "code",
   "execution_count": 311,
   "metadata": {},
   "outputs": [],
   "source": [
    "df_aggregate_month = df_aggregate_month[df_aggregate_month['Year_month'] >= '2014-01']"
   ]
  },
  {
   "cell_type": "code",
   "execution_count": 316,
   "metadata": {},
   "outputs": [],
   "source": [
    "from sklearn.linear_model import LinearRegression\n",
    "\n",
    "def LenReg(df):\n",
    "    df['numerate'] = df.groupby(['Month']).cumcount()+1\n",
    "    df = df[['numerate', 'sale_dollars']]\n",
    "    X = df.iloc[:, 0:1].values\n",
    "    y = df.iloc[:, 1:2].values\n",
    "    lin_reg = LinearRegression()\n",
    "    lin_reg.fit(X, y)\n",
    "    \n",
    "    return lin_reg.predict([[8]])[0]   "
   ]
  },
  {
   "cell_type": "code",
   "execution_count": 320,
   "metadata": {},
   "outputs": [],
   "source": [
    "series_months = df_aggregate_month['Year_month'].apply(lambda x: x[5:]).drop_duplicates()\n",
    "index = 1\n",
    "df_months_pred = pd.DataFrame(columns=['Year_month'])\n",
    "\n",
    "for i in series_months:\n",
    "    df_months_pred.loc[index, 'Year_month'] = '2021' + '-' + i\n",
    "    index += 1\n",
    "    \n",
    "for j in range(1, 13):\n",
    "    df_monthly = df_aggregate_month[df_aggregate_month['Month'] == j]\n",
    "    pred = LenReg(df_monthly)\n",
    "    df_months_pred.loc[j, 'sale_dollars'] = pred"
   ]
  },
  {
   "cell_type": "code",
   "execution_count": 318,
   "metadata": {},
   "outputs": [],
   "source": [
    "df_pred = pd.concat([df_aggregate_month[['Year_month', 'sale_dollars']], df_months_pred]).reset_index(drop=True)"
   ]
  },
  {
   "cell_type": "code",
   "execution_count": 335,
   "metadata": {},
   "outputs": [
    {
     "data": {
      "application/vnd.plotly.v1+json": {
       "config": {
        "plotlyServerURL": "https://plot.ly"
       },
       "data": [
        {
         "line": {
          "color": "blue"
         },
         "name": "Historical",
         "type": "scatter",
         "x": [
          "2014-01",
          "2014-02",
          "2014-03",
          "2014-04",
          "2014-05",
          "2014-06",
          "2014-07",
          "2014-08",
          "2014-09",
          "2014-10",
          "2014-11",
          "2014-12",
          "2015-01",
          "2015-02",
          "2015-03",
          "2015-04",
          "2015-05",
          "2015-06",
          "2015-07",
          "2015-08",
          "2015-09",
          "2015-10",
          "2015-11",
          "2015-12",
          "2016-01",
          "2016-02",
          "2016-03",
          "2016-04",
          "2016-05",
          "2016-06",
          "2016-07",
          "2016-08",
          "2016-09",
          "2016-10",
          "2016-11",
          "2016-12",
          "2017-01",
          "2017-02",
          "2017-03",
          "2017-04",
          "2017-05",
          "2017-06",
          "2017-07",
          "2017-08",
          "2017-09",
          "2017-10",
          "2017-11",
          "2017-12",
          "2018-01",
          "2018-02",
          "2018-03",
          "2018-04",
          "2018-05",
          "2018-06",
          "2018-07",
          "2018-08",
          "2018-09",
          "2018-10",
          "2018-11",
          "2018-12",
          "2019-01",
          "2019-02",
          "2019-03",
          "2019-04",
          "2019-05",
          "2019-06",
          "2019-07",
          "2019-08",
          "2019-09",
          "2019-10",
          "2019-11",
          "2019-12",
          "2020-01",
          "2020-02",
          "2020-03",
          "2020-04",
          "2020-05",
          "2020-06",
          "2020-07",
          "2020-08",
          "2020-09",
          "2020-10",
          "2020-11",
          "2020-12",
          null,
          null,
          null,
          null,
          null,
          null,
          null,
          null,
          null,
          null,
          null,
          null
         ],
         "y": [
          20045932.62000255,
          19183282.260003008,
          19328906.110003334,
          22639172.300002206,
          20966264.200002726,
          24429677.970001895,
          21947352.740003143,
          21170887.080002125,
          23435552.56000151,
          26542408.090000957,
          20272759.740002465,
          30625542.420001138,
          18498508.310002375,
          21224352.410001535,
          23262369.7100025,
          22857263.33000122,
          22437370.960001424,
          27089683.130000606,
          22414165.50000222,
          22116397.55000169,
          24113360.17000124,
          25913248.070001483,
          23718715.060001113,
          30683137.909999117,
          19018055.36000274,
          22801842.480000105,
          23706446.340001542,
          22667024.610001046,
          25819176.160000995,
          27338669.98999986,
          21988265.62000185,
          23039162.038439002,
          25548527.759997983,
          27576727.73159829,
          26614212.84999823,
          32877144.679995775,
          20225467.39000087,
          23241574.139999,
          25104769.789998606,
          23270894.610000294,
          28353277.509997673,
          28763307.88999747,
          25321887.389998656,
          27769300.99999856,
          24542900.63999925,
          30463541.933197834,
          26974234.779999144,
          31526477.049997088,
          22706995.810000136,
          22925526.290000767,
          24913358.679999076,
          26253351.829999335,
          30190443.679997962,
          28605894.057598263,
          26201129.529999226,
          30521395.829998247,
          23788511.34000045,
          34636363.399996266,
          28760473.649999138,
          35045266.10999582,
          23459753.639999192,
          24661449.169998582,
          24975160.32999897,
          27799836.549998563,
          32767995.509996094,
          28935394.939998556,
          30975132.329998024,
          28436838.239997804,
          28068053.489998456,
          34383839.00999691,
          30269731.439998038,
          34507744.39999696,
          24928074.819999944,
          25732253.560000483,
          31238277.11999863,
          32007245.429999758,
          32111827.42999896,
          36028406.61999722,
          34266017.30999787,
          33745153.139997676,
          36729552.21999717,
          37495640.67999782,
          31819731.179998413,
          40863920.22999446,
          25305806.52285586,
          26630724.50571295,
          30412842.098568432,
          31295783.101426862,
          35873651.679995835,
          34420838.31931059,
          34486391.67142487,
          34949292.60428188,
          33179689.62571142,
          39124612.03330985,
          34045580.93999702,
          39523100.09142229
         ]
        },
        {
         "line": {
          "color": "red",
          "dash": "dot"
         },
         "name": "Forecast",
         "type": "scatter",
         "x": [
          null,
          null,
          null,
          null,
          null,
          null,
          null,
          null,
          null,
          null,
          null,
          null,
          null,
          null,
          null,
          null,
          null,
          null,
          null,
          null,
          null,
          null,
          null,
          null,
          null,
          null,
          null,
          null,
          null,
          null,
          null,
          null,
          null,
          null,
          null,
          null,
          null,
          null,
          null,
          null,
          null,
          null,
          null,
          null,
          null,
          null,
          null,
          null,
          null,
          null,
          null,
          null,
          null,
          null,
          null,
          null,
          null,
          null,
          null,
          null,
          null,
          null,
          null,
          null,
          null,
          null,
          null,
          null,
          null,
          null,
          null,
          null,
          null,
          null,
          null,
          null,
          null,
          null,
          null,
          null,
          null,
          null,
          null,
          null,
          "2021-01",
          "2021-02",
          "2021-03",
          "2021-04",
          "2021-05",
          "2021-06",
          "2021-07",
          "2021-08",
          "2021-09",
          "2021-10",
          "2021-11",
          "2021-12"
         ],
         "y": [
          20045932.62000255,
          19183282.260003008,
          19328906.110003334,
          22639172.300002206,
          20966264.200002726,
          24429677.970001895,
          21947352.740003143,
          21170887.080002125,
          23435552.56000151,
          26542408.090000957,
          20272759.740002465,
          30625542.420001138,
          18498508.310002375,
          21224352.410001535,
          23262369.7100025,
          22857263.33000122,
          22437370.960001424,
          27089683.130000606,
          22414165.50000222,
          22116397.55000169,
          24113360.17000124,
          25913248.070001483,
          23718715.060001113,
          30683137.909999117,
          19018055.36000274,
          22801842.480000105,
          23706446.340001542,
          22667024.610001046,
          25819176.160000995,
          27338669.98999986,
          21988265.62000185,
          23039162.038439002,
          25548527.759997983,
          27576727.73159829,
          26614212.84999823,
          32877144.679995775,
          20225467.39000087,
          23241574.139999,
          25104769.789998606,
          23270894.610000294,
          28353277.509997673,
          28763307.88999747,
          25321887.389998656,
          27769300.99999856,
          24542900.63999925,
          30463541.933197834,
          26974234.779999144,
          31526477.049997088,
          22706995.810000136,
          22925526.290000767,
          24913358.679999076,
          26253351.829999335,
          30190443.679997962,
          28605894.057598263,
          26201129.529999226,
          30521395.829998247,
          23788511.34000045,
          34636363.399996266,
          28760473.649999138,
          35045266.10999582,
          23459753.639999192,
          24661449.169998582,
          24975160.32999897,
          27799836.549998563,
          32767995.509996094,
          28935394.939998556,
          30975132.329998024,
          28436838.239997804,
          28068053.489998456,
          34383839.00999691,
          30269731.439998038,
          34507744.39999696,
          24928074.819999944,
          25732253.560000483,
          31238277.11999863,
          32007245.429999758,
          32111827.42999896,
          36028406.61999722,
          34266017.30999787,
          33745153.139997676,
          36729552.21999717,
          37495640.67999782,
          31819731.179998413,
          40863920.22999446,
          25305806.52285586,
          26630724.50571295,
          30412842.098568432,
          31295783.101426862,
          35873651.679995835,
          34420838.31931059,
          34486391.67142487,
          34949292.60428188,
          33179689.62571142,
          39124612.03330985,
          34045580.93999702,
          39523100.09142229
         ]
        }
       ],
       "layout": {
        "legend": {},
        "template": {
         "data": {
          "bar": [
           {
            "error_x": {
             "color": "#2a3f5f"
            },
            "error_y": {
             "color": "#2a3f5f"
            },
            "marker": {
             "line": {
              "color": "#E5ECF6",
              "width": 0.5
             }
            },
            "type": "bar"
           }
          ],
          "barpolar": [
           {
            "marker": {
             "line": {
              "color": "#E5ECF6",
              "width": 0.5
             }
            },
            "type": "barpolar"
           }
          ],
          "carpet": [
           {
            "aaxis": {
             "endlinecolor": "#2a3f5f",
             "gridcolor": "white",
             "linecolor": "white",
             "minorgridcolor": "white",
             "startlinecolor": "#2a3f5f"
            },
            "baxis": {
             "endlinecolor": "#2a3f5f",
             "gridcolor": "white",
             "linecolor": "white",
             "minorgridcolor": "white",
             "startlinecolor": "#2a3f5f"
            },
            "type": "carpet"
           }
          ],
          "choropleth": [
           {
            "colorbar": {
             "outlinewidth": 0,
             "ticks": ""
            },
            "type": "choropleth"
           }
          ],
          "contour": [
           {
            "colorbar": {
             "outlinewidth": 0,
             "ticks": ""
            },
            "colorscale": [
             [
              0,
              "#0d0887"
             ],
             [
              0.1111111111111111,
              "#46039f"
             ],
             [
              0.2222222222222222,
              "#7201a8"
             ],
             [
              0.3333333333333333,
              "#9c179e"
             ],
             [
              0.4444444444444444,
              "#bd3786"
             ],
             [
              0.5555555555555556,
              "#d8576b"
             ],
             [
              0.6666666666666666,
              "#ed7953"
             ],
             [
              0.7777777777777778,
              "#fb9f3a"
             ],
             [
              0.8888888888888888,
              "#fdca26"
             ],
             [
              1,
              "#f0f921"
             ]
            ],
            "type": "contour"
           }
          ],
          "contourcarpet": [
           {
            "colorbar": {
             "outlinewidth": 0,
             "ticks": ""
            },
            "type": "contourcarpet"
           }
          ],
          "heatmap": [
           {
            "colorbar": {
             "outlinewidth": 0,
             "ticks": ""
            },
            "colorscale": [
             [
              0,
              "#0d0887"
             ],
             [
              0.1111111111111111,
              "#46039f"
             ],
             [
              0.2222222222222222,
              "#7201a8"
             ],
             [
              0.3333333333333333,
              "#9c179e"
             ],
             [
              0.4444444444444444,
              "#bd3786"
             ],
             [
              0.5555555555555556,
              "#d8576b"
             ],
             [
              0.6666666666666666,
              "#ed7953"
             ],
             [
              0.7777777777777778,
              "#fb9f3a"
             ],
             [
              0.8888888888888888,
              "#fdca26"
             ],
             [
              1,
              "#f0f921"
             ]
            ],
            "type": "heatmap"
           }
          ],
          "heatmapgl": [
           {
            "colorbar": {
             "outlinewidth": 0,
             "ticks": ""
            },
            "colorscale": [
             [
              0,
              "#0d0887"
             ],
             [
              0.1111111111111111,
              "#46039f"
             ],
             [
              0.2222222222222222,
              "#7201a8"
             ],
             [
              0.3333333333333333,
              "#9c179e"
             ],
             [
              0.4444444444444444,
              "#bd3786"
             ],
             [
              0.5555555555555556,
              "#d8576b"
             ],
             [
              0.6666666666666666,
              "#ed7953"
             ],
             [
              0.7777777777777778,
              "#fb9f3a"
             ],
             [
              0.8888888888888888,
              "#fdca26"
             ],
             [
              1,
              "#f0f921"
             ]
            ],
            "type": "heatmapgl"
           }
          ],
          "histogram": [
           {
            "marker": {
             "colorbar": {
              "outlinewidth": 0,
              "ticks": ""
             }
            },
            "type": "histogram"
           }
          ],
          "histogram2d": [
           {
            "colorbar": {
             "outlinewidth": 0,
             "ticks": ""
            },
            "colorscale": [
             [
              0,
              "#0d0887"
             ],
             [
              0.1111111111111111,
              "#46039f"
             ],
             [
              0.2222222222222222,
              "#7201a8"
             ],
             [
              0.3333333333333333,
              "#9c179e"
             ],
             [
              0.4444444444444444,
              "#bd3786"
             ],
             [
              0.5555555555555556,
              "#d8576b"
             ],
             [
              0.6666666666666666,
              "#ed7953"
             ],
             [
              0.7777777777777778,
              "#fb9f3a"
             ],
             [
              0.8888888888888888,
              "#fdca26"
             ],
             [
              1,
              "#f0f921"
             ]
            ],
            "type": "histogram2d"
           }
          ],
          "histogram2dcontour": [
           {
            "colorbar": {
             "outlinewidth": 0,
             "ticks": ""
            },
            "colorscale": [
             [
              0,
              "#0d0887"
             ],
             [
              0.1111111111111111,
              "#46039f"
             ],
             [
              0.2222222222222222,
              "#7201a8"
             ],
             [
              0.3333333333333333,
              "#9c179e"
             ],
             [
              0.4444444444444444,
              "#bd3786"
             ],
             [
              0.5555555555555556,
              "#d8576b"
             ],
             [
              0.6666666666666666,
              "#ed7953"
             ],
             [
              0.7777777777777778,
              "#fb9f3a"
             ],
             [
              0.8888888888888888,
              "#fdca26"
             ],
             [
              1,
              "#f0f921"
             ]
            ],
            "type": "histogram2dcontour"
           }
          ],
          "mesh3d": [
           {
            "colorbar": {
             "outlinewidth": 0,
             "ticks": ""
            },
            "type": "mesh3d"
           }
          ],
          "parcoords": [
           {
            "line": {
             "colorbar": {
              "outlinewidth": 0,
              "ticks": ""
             }
            },
            "type": "parcoords"
           }
          ],
          "pie": [
           {
            "automargin": true,
            "type": "pie"
           }
          ],
          "scatter": [
           {
            "marker": {
             "colorbar": {
              "outlinewidth": 0,
              "ticks": ""
             }
            },
            "type": "scatter"
           }
          ],
          "scatter3d": [
           {
            "line": {
             "colorbar": {
              "outlinewidth": 0,
              "ticks": ""
             }
            },
            "marker": {
             "colorbar": {
              "outlinewidth": 0,
              "ticks": ""
             }
            },
            "type": "scatter3d"
           }
          ],
          "scattercarpet": [
           {
            "marker": {
             "colorbar": {
              "outlinewidth": 0,
              "ticks": ""
             }
            },
            "type": "scattercarpet"
           }
          ],
          "scattergeo": [
           {
            "marker": {
             "colorbar": {
              "outlinewidth": 0,
              "ticks": ""
             }
            },
            "type": "scattergeo"
           }
          ],
          "scattergl": [
           {
            "marker": {
             "colorbar": {
              "outlinewidth": 0,
              "ticks": ""
             }
            },
            "type": "scattergl"
           }
          ],
          "scattermapbox": [
           {
            "marker": {
             "colorbar": {
              "outlinewidth": 0,
              "ticks": ""
             }
            },
            "type": "scattermapbox"
           }
          ],
          "scatterpolar": [
           {
            "marker": {
             "colorbar": {
              "outlinewidth": 0,
              "ticks": ""
             }
            },
            "type": "scatterpolar"
           }
          ],
          "scatterpolargl": [
           {
            "marker": {
             "colorbar": {
              "outlinewidth": 0,
              "ticks": ""
             }
            },
            "type": "scatterpolargl"
           }
          ],
          "scatterternary": [
           {
            "marker": {
             "colorbar": {
              "outlinewidth": 0,
              "ticks": ""
             }
            },
            "type": "scatterternary"
           }
          ],
          "surface": [
           {
            "colorbar": {
             "outlinewidth": 0,
             "ticks": ""
            },
            "colorscale": [
             [
              0,
              "#0d0887"
             ],
             [
              0.1111111111111111,
              "#46039f"
             ],
             [
              0.2222222222222222,
              "#7201a8"
             ],
             [
              0.3333333333333333,
              "#9c179e"
             ],
             [
              0.4444444444444444,
              "#bd3786"
             ],
             [
              0.5555555555555556,
              "#d8576b"
             ],
             [
              0.6666666666666666,
              "#ed7953"
             ],
             [
              0.7777777777777778,
              "#fb9f3a"
             ],
             [
              0.8888888888888888,
              "#fdca26"
             ],
             [
              1,
              "#f0f921"
             ]
            ],
            "type": "surface"
           }
          ],
          "table": [
           {
            "cells": {
             "fill": {
              "color": "#EBF0F8"
             },
             "line": {
              "color": "white"
             }
            },
            "header": {
             "fill": {
              "color": "#C8D4E3"
             },
             "line": {
              "color": "white"
             }
            },
            "type": "table"
           }
          ]
         },
         "layout": {
          "annotationdefaults": {
           "arrowcolor": "#2a3f5f",
           "arrowhead": 0,
           "arrowwidth": 1
          },
          "autotypenumbers": "strict",
          "coloraxis": {
           "colorbar": {
            "outlinewidth": 0,
            "ticks": ""
           }
          },
          "colorscale": {
           "diverging": [
            [
             0,
             "#8e0152"
            ],
            [
             0.1,
             "#c51b7d"
            ],
            [
             0.2,
             "#de77ae"
            ],
            [
             0.3,
             "#f1b6da"
            ],
            [
             0.4,
             "#fde0ef"
            ],
            [
             0.5,
             "#f7f7f7"
            ],
            [
             0.6,
             "#e6f5d0"
            ],
            [
             0.7,
             "#b8e186"
            ],
            [
             0.8,
             "#7fbc41"
            ],
            [
             0.9,
             "#4d9221"
            ],
            [
             1,
             "#276419"
            ]
           ],
           "sequential": [
            [
             0,
             "#0d0887"
            ],
            [
             0.1111111111111111,
             "#46039f"
            ],
            [
             0.2222222222222222,
             "#7201a8"
            ],
            [
             0.3333333333333333,
             "#9c179e"
            ],
            [
             0.4444444444444444,
             "#bd3786"
            ],
            [
             0.5555555555555556,
             "#d8576b"
            ],
            [
             0.6666666666666666,
             "#ed7953"
            ],
            [
             0.7777777777777778,
             "#fb9f3a"
            ],
            [
             0.8888888888888888,
             "#fdca26"
            ],
            [
             1,
             "#f0f921"
            ]
           ],
           "sequentialminus": [
            [
             0,
             "#0d0887"
            ],
            [
             0.1111111111111111,
             "#46039f"
            ],
            [
             0.2222222222222222,
             "#7201a8"
            ],
            [
             0.3333333333333333,
             "#9c179e"
            ],
            [
             0.4444444444444444,
             "#bd3786"
            ],
            [
             0.5555555555555556,
             "#d8576b"
            ],
            [
             0.6666666666666666,
             "#ed7953"
            ],
            [
             0.7777777777777778,
             "#fb9f3a"
            ],
            [
             0.8888888888888888,
             "#fdca26"
            ],
            [
             1,
             "#f0f921"
            ]
           ]
          },
          "colorway": [
           "#636efa",
           "#EF553B",
           "#00cc96",
           "#ab63fa",
           "#FFA15A",
           "#19d3f3",
           "#FF6692",
           "#B6E880",
           "#FF97FF",
           "#FECB52"
          ],
          "font": {
           "color": "#2a3f5f"
          },
          "geo": {
           "bgcolor": "white",
           "lakecolor": "white",
           "landcolor": "#E5ECF6",
           "showlakes": true,
           "showland": true,
           "subunitcolor": "white"
          },
          "hoverlabel": {
           "align": "left"
          },
          "hovermode": "closest",
          "mapbox": {
           "style": "light"
          },
          "paper_bgcolor": "white",
          "plot_bgcolor": "#E5ECF6",
          "polar": {
           "angularaxis": {
            "gridcolor": "white",
            "linecolor": "white",
            "ticks": ""
           },
           "bgcolor": "#E5ECF6",
           "radialaxis": {
            "gridcolor": "white",
            "linecolor": "white",
            "ticks": ""
           }
          },
          "scene": {
           "xaxis": {
            "backgroundcolor": "#E5ECF6",
            "gridcolor": "white",
            "gridwidth": 2,
            "linecolor": "white",
            "showbackground": true,
            "ticks": "",
            "zerolinecolor": "white"
           },
           "yaxis": {
            "backgroundcolor": "#E5ECF6",
            "gridcolor": "white",
            "gridwidth": 2,
            "linecolor": "white",
            "showbackground": true,
            "ticks": "",
            "zerolinecolor": "white"
           },
           "zaxis": {
            "backgroundcolor": "#E5ECF6",
            "gridcolor": "white",
            "gridwidth": 2,
            "linecolor": "white",
            "showbackground": true,
            "ticks": "",
            "zerolinecolor": "white"
           }
          },
          "shapedefaults": {
           "line": {
            "color": "#2a3f5f"
           }
          },
          "ternary": {
           "aaxis": {
            "gridcolor": "white",
            "linecolor": "white",
            "ticks": ""
           },
           "baxis": {
            "gridcolor": "white",
            "linecolor": "white",
            "ticks": ""
           },
           "bgcolor": "#E5ECF6",
           "caxis": {
            "gridcolor": "white",
            "linecolor": "white",
            "ticks": ""
           }
          },
          "title": {
           "x": 0.05
          },
          "xaxis": {
           "automargin": true,
           "gridcolor": "white",
           "linecolor": "white",
           "ticks": "",
           "title": {
            "standoff": 15
           },
           "zerolinecolor": "white",
           "zerolinewidth": 2
          },
          "yaxis": {
           "automargin": true,
           "gridcolor": "white",
           "linecolor": "white",
           "ticks": "",
           "title": {
            "standoff": 15
           },
           "zerolinecolor": "white",
           "zerolinewidth": 2
          }
         }
        },
        "title": {
         "text": "Sales by year (dollars)"
        },
        "xaxis": {
         "title": {
          "text": "Yaer"
         }
        },
        "yaxis": {
         "title": {
          "text": "Sales (dollars)"
         }
        }
       }
      },
      "text/html": [
       "<div>                            <div id=\"f21a8e75-78b0-46d2-a0e3-6b295b9c9cc4\" class=\"plotly-graph-div\" style=\"height:525px; width:100%;\"></div>            <script type=\"text/javascript\">                require([\"plotly\"], function(Plotly) {                    window.PLOTLYENV=window.PLOTLYENV || {};                                    if (document.getElementById(\"f21a8e75-78b0-46d2-a0e3-6b295b9c9cc4\")) {                    Plotly.newPlot(                        \"f21a8e75-78b0-46d2-a0e3-6b295b9c9cc4\",                        [{\"line\": {\"color\": \"blue\"}, \"name\": \"Historical\", \"type\": \"scatter\", \"x\": [\"2014-01\", \"2014-02\", \"2014-03\", \"2014-04\", \"2014-05\", \"2014-06\", \"2014-07\", \"2014-08\", \"2014-09\", \"2014-10\", \"2014-11\", \"2014-12\", \"2015-01\", \"2015-02\", \"2015-03\", \"2015-04\", \"2015-05\", \"2015-06\", \"2015-07\", \"2015-08\", \"2015-09\", \"2015-10\", \"2015-11\", \"2015-12\", \"2016-01\", \"2016-02\", \"2016-03\", \"2016-04\", \"2016-05\", \"2016-06\", \"2016-07\", \"2016-08\", \"2016-09\", \"2016-10\", \"2016-11\", \"2016-12\", \"2017-01\", \"2017-02\", \"2017-03\", \"2017-04\", \"2017-05\", \"2017-06\", \"2017-07\", \"2017-08\", \"2017-09\", \"2017-10\", \"2017-11\", \"2017-12\", \"2018-01\", \"2018-02\", \"2018-03\", \"2018-04\", \"2018-05\", \"2018-06\", \"2018-07\", \"2018-08\", \"2018-09\", \"2018-10\", \"2018-11\", \"2018-12\", \"2019-01\", \"2019-02\", \"2019-03\", \"2019-04\", \"2019-05\", \"2019-06\", \"2019-07\", \"2019-08\", \"2019-09\", \"2019-10\", \"2019-11\", \"2019-12\", \"2020-01\", \"2020-02\", \"2020-03\", \"2020-04\", \"2020-05\", \"2020-06\", \"2020-07\", \"2020-08\", \"2020-09\", \"2020-10\", \"2020-11\", \"2020-12\", null, null, null, null, null, null, null, null, null, null, null, null], \"y\": [20045932.62000255, 19183282.260003008, 19328906.110003334, 22639172.300002206, 20966264.200002726, 24429677.970001895, 21947352.740003143, 21170887.080002125, 23435552.56000151, 26542408.090000957, 20272759.740002465, 30625542.420001138, 18498508.310002375, 21224352.410001535, 23262369.7100025, 22857263.33000122, 22437370.960001424, 27089683.130000606, 22414165.50000222, 22116397.55000169, 24113360.17000124, 25913248.070001483, 23718715.060001113, 30683137.909999117, 19018055.36000274, 22801842.480000105, 23706446.340001542, 22667024.610001046, 25819176.160000995, 27338669.98999986, 21988265.62000185, 23039162.038439002, 25548527.759997983, 27576727.73159829, 26614212.84999823, 32877144.679995775, 20225467.39000087, 23241574.139999, 25104769.789998606, 23270894.610000294, 28353277.509997673, 28763307.88999747, 25321887.389998656, 27769300.99999856, 24542900.63999925, 30463541.933197834, 26974234.779999144, 31526477.049997088, 22706995.810000136, 22925526.290000767, 24913358.679999076, 26253351.829999335, 30190443.679997962, 28605894.057598263, 26201129.529999226, 30521395.829998247, 23788511.34000045, 34636363.399996266, 28760473.649999138, 35045266.10999582, 23459753.639999192, 24661449.169998582, 24975160.32999897, 27799836.549998563, 32767995.509996094, 28935394.939998556, 30975132.329998024, 28436838.239997804, 28068053.489998456, 34383839.00999691, 30269731.439998038, 34507744.39999696, 24928074.819999944, 25732253.560000483, 31238277.11999863, 32007245.429999758, 32111827.42999896, 36028406.61999722, 34266017.30999787, 33745153.139997676, 36729552.21999717, 37495640.67999782, 31819731.179998413, 40863920.22999446, 25305806.52285586, 26630724.50571295, 30412842.098568432, 31295783.101426862, 35873651.679995835, 34420838.31931059, 34486391.67142487, 34949292.60428188, 33179689.62571142, 39124612.03330985, 34045580.93999702, 39523100.09142229]}, {\"line\": {\"color\": \"red\", \"dash\": \"dot\"}, \"name\": \"Forecast\", \"type\": \"scatter\", \"x\": [null, null, null, null, null, null, null, null, null, null, null, null, null, null, null, null, null, null, null, null, null, null, null, null, null, null, null, null, null, null, null, null, null, null, null, null, null, null, null, null, null, null, null, null, null, null, null, null, null, null, null, null, null, null, null, null, null, null, null, null, null, null, null, null, null, null, null, null, null, null, null, null, null, null, null, null, null, null, null, null, null, null, null, null, \"2021-01\", \"2021-02\", \"2021-03\", \"2021-04\", \"2021-05\", \"2021-06\", \"2021-07\", \"2021-08\", \"2021-09\", \"2021-10\", \"2021-11\", \"2021-12\"], \"y\": [20045932.62000255, 19183282.260003008, 19328906.110003334, 22639172.300002206, 20966264.200002726, 24429677.970001895, 21947352.740003143, 21170887.080002125, 23435552.56000151, 26542408.090000957, 20272759.740002465, 30625542.420001138, 18498508.310002375, 21224352.410001535, 23262369.7100025, 22857263.33000122, 22437370.960001424, 27089683.130000606, 22414165.50000222, 22116397.55000169, 24113360.17000124, 25913248.070001483, 23718715.060001113, 30683137.909999117, 19018055.36000274, 22801842.480000105, 23706446.340001542, 22667024.610001046, 25819176.160000995, 27338669.98999986, 21988265.62000185, 23039162.038439002, 25548527.759997983, 27576727.73159829, 26614212.84999823, 32877144.679995775, 20225467.39000087, 23241574.139999, 25104769.789998606, 23270894.610000294, 28353277.509997673, 28763307.88999747, 25321887.389998656, 27769300.99999856, 24542900.63999925, 30463541.933197834, 26974234.779999144, 31526477.049997088, 22706995.810000136, 22925526.290000767, 24913358.679999076, 26253351.829999335, 30190443.679997962, 28605894.057598263, 26201129.529999226, 30521395.829998247, 23788511.34000045, 34636363.399996266, 28760473.649999138, 35045266.10999582, 23459753.639999192, 24661449.169998582, 24975160.32999897, 27799836.549998563, 32767995.509996094, 28935394.939998556, 30975132.329998024, 28436838.239997804, 28068053.489998456, 34383839.00999691, 30269731.439998038, 34507744.39999696, 24928074.819999944, 25732253.560000483, 31238277.11999863, 32007245.429999758, 32111827.42999896, 36028406.61999722, 34266017.30999787, 33745153.139997676, 36729552.21999717, 37495640.67999782, 31819731.179998413, 40863920.22999446, 25305806.52285586, 26630724.50571295, 30412842.098568432, 31295783.101426862, 35873651.679995835, 34420838.31931059, 34486391.67142487, 34949292.60428188, 33179689.62571142, 39124612.03330985, 34045580.93999702, 39523100.09142229]}],                        {\"legend\": {}, \"template\": {\"data\": {\"bar\": [{\"error_x\": {\"color\": \"#2a3f5f\"}, \"error_y\": {\"color\": \"#2a3f5f\"}, \"marker\": {\"line\": {\"color\": \"#E5ECF6\", \"width\": 0.5}}, \"type\": \"bar\"}], \"barpolar\": [{\"marker\": {\"line\": {\"color\": \"#E5ECF6\", \"width\": 0.5}}, \"type\": \"barpolar\"}], \"carpet\": [{\"aaxis\": {\"endlinecolor\": \"#2a3f5f\", \"gridcolor\": \"white\", \"linecolor\": \"white\", \"minorgridcolor\": \"white\", \"startlinecolor\": \"#2a3f5f\"}, \"baxis\": {\"endlinecolor\": \"#2a3f5f\", \"gridcolor\": \"white\", \"linecolor\": \"white\", \"minorgridcolor\": \"white\", \"startlinecolor\": \"#2a3f5f\"}, \"type\": \"carpet\"}], \"choropleth\": [{\"colorbar\": {\"outlinewidth\": 0, \"ticks\": \"\"}, \"type\": \"choropleth\"}], \"contour\": [{\"colorbar\": {\"outlinewidth\": 0, \"ticks\": \"\"}, \"colorscale\": [[0.0, \"#0d0887\"], [0.1111111111111111, \"#46039f\"], [0.2222222222222222, \"#7201a8\"], [0.3333333333333333, \"#9c179e\"], [0.4444444444444444, \"#bd3786\"], [0.5555555555555556, \"#d8576b\"], [0.6666666666666666, \"#ed7953\"], [0.7777777777777778, \"#fb9f3a\"], [0.8888888888888888, \"#fdca26\"], [1.0, \"#f0f921\"]], \"type\": \"contour\"}], \"contourcarpet\": [{\"colorbar\": {\"outlinewidth\": 0, \"ticks\": \"\"}, \"type\": \"contourcarpet\"}], \"heatmap\": [{\"colorbar\": {\"outlinewidth\": 0, \"ticks\": \"\"}, \"colorscale\": [[0.0, \"#0d0887\"], [0.1111111111111111, \"#46039f\"], [0.2222222222222222, \"#7201a8\"], [0.3333333333333333, \"#9c179e\"], [0.4444444444444444, \"#bd3786\"], [0.5555555555555556, \"#d8576b\"], [0.6666666666666666, \"#ed7953\"], [0.7777777777777778, \"#fb9f3a\"], [0.8888888888888888, \"#fdca26\"], [1.0, \"#f0f921\"]], \"type\": \"heatmap\"}], \"heatmapgl\": [{\"colorbar\": {\"outlinewidth\": 0, \"ticks\": \"\"}, \"colorscale\": [[0.0, \"#0d0887\"], [0.1111111111111111, \"#46039f\"], [0.2222222222222222, \"#7201a8\"], [0.3333333333333333, \"#9c179e\"], [0.4444444444444444, \"#bd3786\"], [0.5555555555555556, \"#d8576b\"], [0.6666666666666666, \"#ed7953\"], [0.7777777777777778, \"#fb9f3a\"], [0.8888888888888888, \"#fdca26\"], [1.0, \"#f0f921\"]], \"type\": \"heatmapgl\"}], \"histogram\": [{\"marker\": {\"colorbar\": {\"outlinewidth\": 0, \"ticks\": \"\"}}, \"type\": \"histogram\"}], \"histogram2d\": [{\"colorbar\": {\"outlinewidth\": 0, \"ticks\": \"\"}, \"colorscale\": [[0.0, \"#0d0887\"], [0.1111111111111111, \"#46039f\"], [0.2222222222222222, \"#7201a8\"], [0.3333333333333333, \"#9c179e\"], [0.4444444444444444, \"#bd3786\"], [0.5555555555555556, \"#d8576b\"], [0.6666666666666666, \"#ed7953\"], [0.7777777777777778, \"#fb9f3a\"], [0.8888888888888888, \"#fdca26\"], [1.0, \"#f0f921\"]], \"type\": \"histogram2d\"}], \"histogram2dcontour\": [{\"colorbar\": {\"outlinewidth\": 0, \"ticks\": \"\"}, \"colorscale\": [[0.0, \"#0d0887\"], [0.1111111111111111, \"#46039f\"], [0.2222222222222222, \"#7201a8\"], [0.3333333333333333, \"#9c179e\"], [0.4444444444444444, \"#bd3786\"], [0.5555555555555556, \"#d8576b\"], [0.6666666666666666, \"#ed7953\"], [0.7777777777777778, \"#fb9f3a\"], [0.8888888888888888, \"#fdca26\"], [1.0, \"#f0f921\"]], \"type\": \"histogram2dcontour\"}], \"mesh3d\": [{\"colorbar\": {\"outlinewidth\": 0, \"ticks\": \"\"}, \"type\": \"mesh3d\"}], \"parcoords\": [{\"line\": {\"colorbar\": {\"outlinewidth\": 0, \"ticks\": \"\"}}, \"type\": \"parcoords\"}], \"pie\": [{\"automargin\": true, \"type\": \"pie\"}], \"scatter\": [{\"marker\": {\"colorbar\": {\"outlinewidth\": 0, \"ticks\": \"\"}}, \"type\": \"scatter\"}], \"scatter3d\": [{\"line\": {\"colorbar\": {\"outlinewidth\": 0, \"ticks\": \"\"}}, \"marker\": {\"colorbar\": {\"outlinewidth\": 0, \"ticks\": \"\"}}, \"type\": \"scatter3d\"}], \"scattercarpet\": [{\"marker\": {\"colorbar\": {\"outlinewidth\": 0, \"ticks\": \"\"}}, \"type\": \"scattercarpet\"}], \"scattergeo\": [{\"marker\": {\"colorbar\": {\"outlinewidth\": 0, \"ticks\": \"\"}}, \"type\": \"scattergeo\"}], \"scattergl\": [{\"marker\": {\"colorbar\": {\"outlinewidth\": 0, \"ticks\": \"\"}}, \"type\": \"scattergl\"}], \"scattermapbox\": [{\"marker\": {\"colorbar\": {\"outlinewidth\": 0, \"ticks\": \"\"}}, \"type\": \"scattermapbox\"}], \"scatterpolar\": [{\"marker\": {\"colorbar\": {\"outlinewidth\": 0, \"ticks\": \"\"}}, \"type\": \"scatterpolar\"}], \"scatterpolargl\": [{\"marker\": {\"colorbar\": {\"outlinewidth\": 0, \"ticks\": \"\"}}, \"type\": \"scatterpolargl\"}], \"scatterternary\": [{\"marker\": {\"colorbar\": {\"outlinewidth\": 0, \"ticks\": \"\"}}, \"type\": \"scatterternary\"}], \"surface\": [{\"colorbar\": {\"outlinewidth\": 0, \"ticks\": \"\"}, \"colorscale\": [[0.0, \"#0d0887\"], [0.1111111111111111, \"#46039f\"], [0.2222222222222222, \"#7201a8\"], [0.3333333333333333, \"#9c179e\"], [0.4444444444444444, \"#bd3786\"], [0.5555555555555556, \"#d8576b\"], [0.6666666666666666, \"#ed7953\"], [0.7777777777777778, \"#fb9f3a\"], [0.8888888888888888, \"#fdca26\"], [1.0, \"#f0f921\"]], \"type\": \"surface\"}], \"table\": [{\"cells\": {\"fill\": {\"color\": \"#EBF0F8\"}, \"line\": {\"color\": \"white\"}}, \"header\": {\"fill\": {\"color\": \"#C8D4E3\"}, \"line\": {\"color\": \"white\"}}, \"type\": \"table\"}]}, \"layout\": {\"annotationdefaults\": {\"arrowcolor\": \"#2a3f5f\", \"arrowhead\": 0, \"arrowwidth\": 1}, \"autotypenumbers\": \"strict\", \"coloraxis\": {\"colorbar\": {\"outlinewidth\": 0, \"ticks\": \"\"}}, \"colorscale\": {\"diverging\": [[0, \"#8e0152\"], [0.1, \"#c51b7d\"], [0.2, \"#de77ae\"], [0.3, \"#f1b6da\"], [0.4, \"#fde0ef\"], [0.5, \"#f7f7f7\"], [0.6, \"#e6f5d0\"], [0.7, \"#b8e186\"], [0.8, \"#7fbc41\"], [0.9, \"#4d9221\"], [1, \"#276419\"]], \"sequential\": [[0.0, \"#0d0887\"], [0.1111111111111111, \"#46039f\"], [0.2222222222222222, \"#7201a8\"], [0.3333333333333333, \"#9c179e\"], [0.4444444444444444, \"#bd3786\"], [0.5555555555555556, \"#d8576b\"], [0.6666666666666666, \"#ed7953\"], [0.7777777777777778, \"#fb9f3a\"], [0.8888888888888888, \"#fdca26\"], [1.0, \"#f0f921\"]], \"sequentialminus\": [[0.0, \"#0d0887\"], [0.1111111111111111, \"#46039f\"], [0.2222222222222222, \"#7201a8\"], [0.3333333333333333, \"#9c179e\"], [0.4444444444444444, \"#bd3786\"], [0.5555555555555556, \"#d8576b\"], [0.6666666666666666, \"#ed7953\"], [0.7777777777777778, \"#fb9f3a\"], [0.8888888888888888, \"#fdca26\"], [1.0, \"#f0f921\"]]}, \"colorway\": [\"#636efa\", \"#EF553B\", \"#00cc96\", \"#ab63fa\", \"#FFA15A\", \"#19d3f3\", \"#FF6692\", \"#B6E880\", \"#FF97FF\", \"#FECB52\"], \"font\": {\"color\": \"#2a3f5f\"}, \"geo\": {\"bgcolor\": \"white\", \"lakecolor\": \"white\", \"landcolor\": \"#E5ECF6\", \"showlakes\": true, \"showland\": true, \"subunitcolor\": \"white\"}, \"hoverlabel\": {\"align\": \"left\"}, \"hovermode\": \"closest\", \"mapbox\": {\"style\": \"light\"}, \"paper_bgcolor\": \"white\", \"plot_bgcolor\": \"#E5ECF6\", \"polar\": {\"angularaxis\": {\"gridcolor\": \"white\", \"linecolor\": \"white\", \"ticks\": \"\"}, \"bgcolor\": \"#E5ECF6\", \"radialaxis\": {\"gridcolor\": \"white\", \"linecolor\": \"white\", \"ticks\": \"\"}}, \"scene\": {\"xaxis\": {\"backgroundcolor\": \"#E5ECF6\", \"gridcolor\": \"white\", \"gridwidth\": 2, \"linecolor\": \"white\", \"showbackground\": true, \"ticks\": \"\", \"zerolinecolor\": \"white\"}, \"yaxis\": {\"backgroundcolor\": \"#E5ECF6\", \"gridcolor\": \"white\", \"gridwidth\": 2, \"linecolor\": \"white\", \"showbackground\": true, \"ticks\": \"\", \"zerolinecolor\": \"white\"}, \"zaxis\": {\"backgroundcolor\": \"#E5ECF6\", \"gridcolor\": \"white\", \"gridwidth\": 2, \"linecolor\": \"white\", \"showbackground\": true, \"ticks\": \"\", \"zerolinecolor\": \"white\"}}, \"shapedefaults\": {\"line\": {\"color\": \"#2a3f5f\"}}, \"ternary\": {\"aaxis\": {\"gridcolor\": \"white\", \"linecolor\": \"white\", \"ticks\": \"\"}, \"baxis\": {\"gridcolor\": \"white\", \"linecolor\": \"white\", \"ticks\": \"\"}, \"bgcolor\": \"#E5ECF6\", \"caxis\": {\"gridcolor\": \"white\", \"linecolor\": \"white\", \"ticks\": \"\"}}, \"title\": {\"x\": 0.05}, \"xaxis\": {\"automargin\": true, \"gridcolor\": \"white\", \"linecolor\": \"white\", \"ticks\": \"\", \"title\": {\"standoff\": 15}, \"zerolinecolor\": \"white\", \"zerolinewidth\": 2}, \"yaxis\": {\"automargin\": true, \"gridcolor\": \"white\", \"linecolor\": \"white\", \"ticks\": \"\", \"title\": {\"standoff\": 15}, \"zerolinecolor\": \"white\", \"zerolinewidth\": 2}}}, \"title\": {\"text\": \"Sales by year (dollars)\"}, \"xaxis\": {\"title\": {\"text\": \"Yaer\"}}, \"yaxis\": {\"title\": {\"text\": \"Sales (dollars)\"}}},                        {\"responsive\": true}                    ).then(function(){\n",
       "                            \n",
       "var gd = document.getElementById('f21a8e75-78b0-46d2-a0e3-6b295b9c9cc4');\n",
       "var x = new MutationObserver(function (mutations, observer) {{\n",
       "        var display = window.getComputedStyle(gd).display;\n",
       "        if (!display || display === 'none') {{\n",
       "            console.log([gd, 'removed!']);\n",
       "            Plotly.purge(gd);\n",
       "            observer.disconnect();\n",
       "        }}\n",
       "}});\n",
       "\n",
       "// Listen for the removal of the full notebook cells\n",
       "var notebookContainer = gd.closest('#notebook-container');\n",
       "if (notebookContainer) {{\n",
       "    x.observe(notebookContainer, {childList: true});\n",
       "}}\n",
       "\n",
       "// Listen for the clearing of the current output cell\n",
       "var outputEl = gd.closest('.output');\n",
       "if (outputEl) {{\n",
       "    x.observe(outputEl, {childList: true});\n",
       "}}\n",
       "\n",
       "                        })                };                });            </script>        </div>"
      ]
     },
     "metadata": {},
     "output_type": "display_data"
    }
   ],
   "source": [
    "fig = go.Figure()\n",
    "fig.add_scatter(x=df_pred['Year_month'].where(df_pred['Year_month'] < '2021-01'),\n",
    "                  y=df_pred['sale_dollars'], line={'color': 'blue', }, name='Historical')\n",
    "\n",
    "fig.add_scatter(x=df_pred['Year_month'].where(df_pred['Year_month'] >= '2021-01'),\n",
    "                  y=df_pred['sale_dollars'], line={'color': 'red', 'dash': 'dot'}, name='Forecast')\n",
    "\n",
    "fig.update_layout(\n",
    "    title=\"Sales by year (dollars)\",\n",
    "    xaxis_title=\"Yaer\",\n",
    "    yaxis_title=\"Sales (dollars)\",\n",
    "    legend=None\n",
    "    )\n",
    "fig.show()"
   ]
  },
  {
   "cell_type": "markdown",
   "metadata": {},
   "source": [
    "<p style=\"font-family: Monaco; font-size: 1.3em; color: IndianRed\">In this end we showed a simple example of forecasting sales for 2021 based on Linear Regression by month.</p>"
   ]
  }
 ],
 "metadata": {
  "kernelspec": {
   "display_name": "Python 3",
   "language": "python",
   "name": "python3"
  },
  "language_info": {
   "codemirror_mode": {
    "name": "ipython",
    "version": 3
   },
   "file_extension": ".py",
   "mimetype": "text/x-python",
   "name": "python",
   "nbconvert_exporter": "python",
   "pygments_lexer": "ipython3",
   "version": "3.8.5"
  }
 },
 "nbformat": 4,
 "nbformat_minor": 4
}

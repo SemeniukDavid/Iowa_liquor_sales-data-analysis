{
 "cells": [
  {
   "cell_type": "markdown",
   "metadata": {},
   "source": [
    "<h1><center>EDA Analysis public data \"Iowa liqour sales\"</center></h1>"
   ]
  },
  {
   "cell_type": "markdown",
   "metadata": {},
   "source": [
    "<p>Import additional libraries</p>"
   ]
  },
  {
   "cell_type": "code",
   "execution_count": 373,
   "metadata": {},
   "outputs": [],
   "source": [
    "import pandas_gbq\n",
    "import pandas as pd\n",
    "import numpy as np\n",
    "pd.options.mode.chained_assignment = None\n",
    "pd.options.display.max_columns = 25"
   ]
  },
  {
   "cell_type": "markdown",
   "metadata": {},
   "source": [
    "<h2><em>1. Data Sourcing</em></h2>"
   ]
  },
  {
   "cell_type": "markdown",
   "metadata": {},
   "source": [
    "<p>Load DataFrame from BigQuery public data and save to csv<p>"
   ]
  },
  {
   "cell_type": "code",
   "execution_count": 11,
   "metadata": {},
   "outputs": [
    {
     "name": "stderr",
     "output_type": "stream",
     "text": [
      "Downloading: 100%|██████████| 20349538/20349538 [1:12:07<00:00, 4702.71rows/s]\n"
     ]
    }
   ],
   "source": [
    "df = pandas_gbq.read_gbq('select * from bigquery-public-data.iowa_liquor_sales.sales', project_id='smarttender-273707')"
   ]
  },
  {
   "cell_type": "code",
   "execution_count": 13,
   "metadata": {},
   "outputs": [],
   "source": [
    "df.to_csv(r'C:\\Users\\semeniuk\\Desktop\\Cases\\Case_Softconstruct\\dataset.csv')"
   ]
  },
  {
   "cell_type": "code",
   "execution_count": 4,
   "metadata": {},
   "outputs": [
    {
     "name": "stderr",
     "output_type": "stream",
     "text": [
      "C:\\Users\\semeniuk\\Anaconda3\\lib\\site-packages\\IPython\\core\\interactiveshell.py:3145: DtypeWarning: Columns (15) have mixed types.Specify dtype option on import or set low_memory=False.\n",
      "  has_raised = await self.run_ast_nodes(code_ast.body, cell_name,\n"
     ]
    }
   ],
   "source": [
    "df = pd.read_csv(r'C:\\Users\\semeniuk\\Desktop\\Cases\\Case_Softconstruct\\dataset.csv')"
   ]
  },
  {
   "cell_type": "code",
   "execution_count": 5,
   "metadata": {},
   "outputs": [],
   "source": [
    "df = df.drop(columns='Unnamed: 0')"
   ]
  },
  {
   "cell_type": "code",
   "execution_count": 6,
   "metadata": {},
   "outputs": [
    {
     "data": {
      "text/html": [
       "<div>\n",
       "<style scoped>\n",
       "    .dataframe tbody tr th:only-of-type {\n",
       "        vertical-align: middle;\n",
       "    }\n",
       "\n",
       "    .dataframe tbody tr th {\n",
       "        vertical-align: top;\n",
       "    }\n",
       "\n",
       "    .dataframe thead th {\n",
       "        text-align: right;\n",
       "    }\n",
       "</style>\n",
       "<table border=\"1\" class=\"dataframe\">\n",
       "  <thead>\n",
       "    <tr style=\"text-align: right;\">\n",
       "      <th></th>\n",
       "      <th>invoice_and_item_number</th>\n",
       "      <th>date</th>\n",
       "      <th>store_number</th>\n",
       "      <th>store_name</th>\n",
       "      <th>address</th>\n",
       "      <th>city</th>\n",
       "      <th>zip_code</th>\n",
       "      <th>store_location</th>\n",
       "      <th>county_number</th>\n",
       "      <th>county</th>\n",
       "      <th>...</th>\n",
       "      <th>item_number</th>\n",
       "      <th>item_description</th>\n",
       "      <th>pack</th>\n",
       "      <th>bottle_volume_ml</th>\n",
       "      <th>state_bottle_cost</th>\n",
       "      <th>state_bottle_retail</th>\n",
       "      <th>bottles_sold</th>\n",
       "      <th>sale_dollars</th>\n",
       "      <th>volume_sold_liters</th>\n",
       "      <th>volume_sold_gallons</th>\n",
       "    </tr>\n",
       "  </thead>\n",
       "  <tbody>\n",
       "    <tr>\n",
       "      <th>0</th>\n",
       "      <td>INV-03082000091</td>\n",
       "      <td>2017-02-03</td>\n",
       "      <td>3443</td>\n",
       "      <td>Super Saver Iv</td>\n",
       "      <td>1141 N Broadway</td>\n",
       "      <td>Council Bluffs</td>\n",
       "      <td>51503</td>\n",
       "      <td>POINT (-95.836515 41.270824)</td>\n",
       "      <td>78.0</td>\n",
       "      <td>POTTAWATTA</td>\n",
       "      <td>...</td>\n",
       "      <td>42718</td>\n",
       "      <td>Malibu Coconut Rum</td>\n",
       "      <td>6</td>\n",
       "      <td>1750</td>\n",
       "      <td>16.49</td>\n",
       "      <td>24.74</td>\n",
       "      <td>6</td>\n",
       "      <td>148.44</td>\n",
       "      <td>10.5</td>\n",
       "      <td>2.77</td>\n",
       "    </tr>\n",
       "    <tr>\n",
       "      <th>1</th>\n",
       "      <td>INV-32301500018</td>\n",
       "      <td>2020-11-30</td>\n",
       "      <td>5869</td>\n",
       "      <td>Tobacco Outlet Plus #507 - Urbandale</td>\n",
       "      <td>6941 Douglas Ave</td>\n",
       "      <td>Urbandale</td>\n",
       "      <td>50322</td>\n",
       "      <td>POINT (-93.711504 41.629416)</td>\n",
       "      <td>77.0</td>\n",
       "      <td>POLK</td>\n",
       "      <td>...</td>\n",
       "      <td>43138</td>\n",
       "      <td>Bacardi Limon</td>\n",
       "      <td>6</td>\n",
       "      <td>1750</td>\n",
       "      <td>15.00</td>\n",
       "      <td>22.50</td>\n",
       "      <td>6</td>\n",
       "      <td>135.00</td>\n",
       "      <td>10.5</td>\n",
       "      <td>2.77</td>\n",
       "    </tr>\n",
       "    <tr>\n",
       "      <th>2</th>\n",
       "      <td>INV-17059300006</td>\n",
       "      <td>2019-01-22</td>\n",
       "      <td>5326</td>\n",
       "      <td>Als Liquor</td>\n",
       "      <td>215 W. Milwaukee Ave</td>\n",
       "      <td>Storm Lake</td>\n",
       "      <td>50588</td>\n",
       "      <td>POINT (-95.202405 42.647492)</td>\n",
       "      <td>11.0</td>\n",
       "      <td>BUENA VIST</td>\n",
       "      <td>...</td>\n",
       "      <td>43138</td>\n",
       "      <td>Bacardi Limon</td>\n",
       "      <td>6</td>\n",
       "      <td>1750</td>\n",
       "      <td>15.00</td>\n",
       "      <td>22.50</td>\n",
       "      <td>6</td>\n",
       "      <td>135.00</td>\n",
       "      <td>10.5</td>\n",
       "      <td>2.77</td>\n",
       "    </tr>\n",
       "    <tr>\n",
       "      <th>3</th>\n",
       "      <td>INV-29255800079</td>\n",
       "      <td>2020-08-05</td>\n",
       "      <td>3443</td>\n",
       "      <td>Super Saver Iv</td>\n",
       "      <td>1141 N Broadway</td>\n",
       "      <td>Council Bluffs</td>\n",
       "      <td>51503</td>\n",
       "      <td>POINT (-95.836515 41.270824)</td>\n",
       "      <td>78.0</td>\n",
       "      <td>POTTAWATTA</td>\n",
       "      <td>...</td>\n",
       "      <td>42718</td>\n",
       "      <td>Malibu Coconut Rum</td>\n",
       "      <td>6</td>\n",
       "      <td>1750</td>\n",
       "      <td>16.99</td>\n",
       "      <td>25.49</td>\n",
       "      <td>6</td>\n",
       "      <td>152.94</td>\n",
       "      <td>10.5</td>\n",
       "      <td>2.77</td>\n",
       "    </tr>\n",
       "    <tr>\n",
       "      <th>4</th>\n",
       "      <td>INV-20691000018</td>\n",
       "      <td>2019-07-17</td>\n",
       "      <td>4239</td>\n",
       "      <td>Fareway Stores #850 / Spirit Lake</td>\n",
       "      <td>1906 Keokuk</td>\n",
       "      <td>Spirit Lake</td>\n",
       "      <td>51360</td>\n",
       "      <td>POINT (-95.106219 43.42157)</td>\n",
       "      <td>30.0</td>\n",
       "      <td>DICKINSON</td>\n",
       "      <td>...</td>\n",
       "      <td>42718</td>\n",
       "      <td>Malibu Coconut Rum</td>\n",
       "      <td>6</td>\n",
       "      <td>1750</td>\n",
       "      <td>16.99</td>\n",
       "      <td>25.49</td>\n",
       "      <td>6</td>\n",
       "      <td>148.44</td>\n",
       "      <td>10.5</td>\n",
       "      <td>2.77</td>\n",
       "    </tr>\n",
       "  </tbody>\n",
       "</table>\n",
       "<p>5 rows × 24 columns</p>\n",
       "</div>"
      ],
      "text/plain": [
       "  invoice_and_item_number        date  store_number  \\\n",
       "0         INV-03082000091  2017-02-03          3443   \n",
       "1         INV-32301500018  2020-11-30          5869   \n",
       "2         INV-17059300006  2019-01-22          5326   \n",
       "3         INV-29255800079  2020-08-05          3443   \n",
       "4         INV-20691000018  2019-07-17          4239   \n",
       "\n",
       "                             store_name               address            city  \\\n",
       "0                        Super Saver Iv       1141 N Broadway  Council Bluffs   \n",
       "1  Tobacco Outlet Plus #507 - Urbandale      6941 Douglas Ave       Urbandale   \n",
       "2                            Als Liquor  215 W. Milwaukee Ave      Storm Lake   \n",
       "3                        Super Saver Iv       1141 N Broadway  Council Bluffs   \n",
       "4     Fareway Stores #850 / Spirit Lake           1906 Keokuk     Spirit Lake   \n",
       "\n",
       "  zip_code                store_location  county_number      county  ...  \\\n",
       "0    51503  POINT (-95.836515 41.270824)           78.0  POTTAWATTA  ...   \n",
       "1    50322  POINT (-93.711504 41.629416)           77.0        POLK  ...   \n",
       "2    50588  POINT (-95.202405 42.647492)           11.0  BUENA VIST  ...   \n",
       "3    51503  POINT (-95.836515 41.270824)           78.0  POTTAWATTA  ...   \n",
       "4    51360   POINT (-95.106219 43.42157)           30.0   DICKINSON  ...   \n",
       "\n",
       "   item_number    item_description  pack bottle_volume_ml state_bottle_cost  \\\n",
       "0        42718  Malibu Coconut Rum     6             1750             16.49   \n",
       "1        43138       Bacardi Limon     6             1750             15.00   \n",
       "2        43138       Bacardi Limon     6             1750             15.00   \n",
       "3        42718  Malibu Coconut Rum     6             1750             16.99   \n",
       "4        42718  Malibu Coconut Rum     6             1750             16.99   \n",
       "\n",
       "  state_bottle_retail  bottles_sold  sale_dollars  volume_sold_liters  \\\n",
       "0               24.74             6        148.44                10.5   \n",
       "1               22.50             6        135.00                10.5   \n",
       "2               22.50             6        135.00                10.5   \n",
       "3               25.49             6        152.94                10.5   \n",
       "4               25.49             6        148.44                10.5   \n",
       "\n",
       "   volume_sold_gallons  \n",
       "0                 2.77  \n",
       "1                 2.77  \n",
       "2                 2.77  \n",
       "3                 2.77  \n",
       "4                 2.77  \n",
       "\n",
       "[5 rows x 24 columns]"
      ]
     },
     "execution_count": 6,
     "metadata": {},
     "output_type": "execute_result"
    }
   ],
   "source": [
    "df.head()"
   ]
  },
  {
   "cell_type": "markdown",
   "metadata": {},
   "source": [
    "<h2><em>2. Data Cleaning</em></h2>"
   ]
  },
  {
   "cell_type": "markdown",
   "metadata": {},
   "source": [
    "<h2><ul><li><strong>Missing values</strong></li></ul></h2>"
   ]
  },
  {
   "cell_type": "code",
   "execution_count": 7,
   "metadata": {},
   "outputs": [
    {
     "data": {
      "text/plain": [
       "invoice_and_item_number          0\n",
       "date                             0\n",
       "store_number                     0\n",
       "store_name                       0\n",
       "address                      79927\n",
       "city                         79926\n",
       "zip_code                     79971\n",
       "store_location             1951877\n",
       "county_number               156731\n",
       "county                      156729\n",
       "category                     16974\n",
       "category_name                25040\n",
       "vendor_number                    5\n",
       "vendor_name                      3\n",
       "item_number                      0\n",
       "item_description                 0\n",
       "pack                             0\n",
       "bottle_volume_ml                 0\n",
       "state_bottle_cost               10\n",
       "state_bottle_retail             10\n",
       "bottles_sold                     0\n",
       "sale_dollars                    10\n",
       "volume_sold_liters               0\n",
       "volume_sold_gallons              0\n",
       "dtype: int64"
      ]
     },
     "execution_count": 7,
     "metadata": {},
     "output_type": "execute_result"
    }
   ],
   "source": [
    "df.isnull().sum()"
   ]
  },
  {
   "cell_type": "markdown",
   "metadata": {},
   "source": [
    "For all categorical string column apply lowercase and title functions to make the same register."
   ]
  },
  {
   "cell_type": "code",
   "execution_count": 8,
   "metadata": {},
   "outputs": [],
   "source": [
    "df['store_name'] = df['store_name'].apply(lambda x: x.lower().title() if type(x) == str else x)\n",
    "df['address'] = df['address'].apply(lambda x: x.lower().title() if type(x) == str else x)\n",
    "df['city'] = df['city'].apply(lambda x: x.lower().title() if type(x) == str else x)\n",
    "df['county'] = df['county'].apply(lambda x: x.lower().title() if type(x) == str else x)\n",
    "df['category_name'] = df['category_name'].apply(lambda x: x.lower().title() if type(x) == str else x)\n",
    "df['vendor_name'] = df['vendor_name'].apply(lambda x: x.lower().upper() if type(x) == str else x)\n",
    "df['item_description'] = df['item_description'].apply(lambda x: x.lower().title() if type(x) == str else x)"
   ]
  },
  {
   "cell_type": "markdown",
   "metadata": {},
   "source": [
    "<p>As we can see, probably 6 fields(address, city, zip_code, store_location, county_number, county) can be filled based on store_number. Check this hypothesis</p>"
   ]
  },
  {
   "cell_type": "markdown",
   "metadata": {},
   "source": [
    "<h3 style=\"margin-left: 50px;\"><em>a). Analysis store_name and store_location</em></h3>"
   ]
  },
  {
   "cell_type": "markdown",
   "metadata": {},
   "source": [
    "<p>For the first, check one-to-one relation for columns \"store_number\" and \"store_name\"</p>"
   ]
  },
  {
   "cell_type": "code",
   "execution_count": 9,
   "metadata": {},
   "outputs": [
    {
     "name": "stdout",
     "output_type": "stream",
     "text": [
      "(2768, 2)\n",
      "(2521, 1)\n"
     ]
    }
   ],
   "source": [
    "print(df[['store_number', 'store_name']].drop_duplicates().shape)\n",
    "print(df[['store_number']].drop_duplicates().shape)"
   ]
  },
  {
   "cell_type": "markdown",
   "metadata": {},
   "source": [
    "It means that one store_number may have several store_name. \n",
    "Okay, then check reverse relations."
   ]
  },
  {
   "cell_type": "code",
   "execution_count": 10,
   "metadata": {},
   "outputs": [
    {
     "data": {
      "text/html": [
       "<div>\n",
       "<style scoped>\n",
       "    .dataframe tbody tr th:only-of-type {\n",
       "        vertical-align: middle;\n",
       "    }\n",
       "\n",
       "    .dataframe tbody tr th {\n",
       "        vertical-align: top;\n",
       "    }\n",
       "\n",
       "    .dataframe thead th {\n",
       "        text-align: right;\n",
       "    }\n",
       "</style>\n",
       "<table border=\"1\" class=\"dataframe\">\n",
       "  <thead>\n",
       "    <tr style=\"text-align: right;\">\n",
       "      <th></th>\n",
       "      <th>store_name</th>\n",
       "      <th>store_number</th>\n",
       "    </tr>\n",
       "  </thead>\n",
       "  <tbody>\n",
       "    <tr>\n",
       "      <th>2430</th>\n",
       "      <td>Urban Liquor</td>\n",
       "      <td>3</td>\n",
       "    </tr>\n",
       "    <tr>\n",
       "      <th>1212</th>\n",
       "      <td>Heartland Market</td>\n",
       "      <td>3</td>\n",
       "    </tr>\n",
       "    <tr>\n",
       "      <th>2109</th>\n",
       "      <td>Rolfe Area Market</td>\n",
       "      <td>3</td>\n",
       "    </tr>\n",
       "    <tr>\n",
       "      <th>2146</th>\n",
       "      <td>Sauce</td>\n",
       "      <td>3</td>\n",
       "    </tr>\n",
       "    <tr>\n",
       "      <th>1908</th>\n",
       "      <td>New Star / Fort Dodge</td>\n",
       "      <td>3</td>\n",
       "    </tr>\n",
       "    <tr>\n",
       "      <th>...</th>\n",
       "      <td>...</td>\n",
       "      <td>...</td>\n",
       "    </tr>\n",
       "    <tr>\n",
       "      <th>889</th>\n",
       "      <td>Dahl'S / Johnston</td>\n",
       "      <td>1</td>\n",
       "    </tr>\n",
       "    <tr>\n",
       "      <th>890</th>\n",
       "      <td>Dahl'S / Merle Hay</td>\n",
       "      <td>1</td>\n",
       "    </tr>\n",
       "    <tr>\n",
       "      <th>891</th>\n",
       "      <td>Dahl'S / Wdm</td>\n",
       "      <td>1</td>\n",
       "    </tr>\n",
       "    <tr>\n",
       "      <th>892</th>\n",
       "      <td>Dahl'S Foods / Ames</td>\n",
       "      <td>1</td>\n",
       "    </tr>\n",
       "    <tr>\n",
       "      <th>2641</th>\n",
       "      <td>Zapf'S Pronto Market</td>\n",
       "      <td>1</td>\n",
       "    </tr>\n",
       "  </tbody>\n",
       "</table>\n",
       "<p>2642 rows × 2 columns</p>\n",
       "</div>"
      ],
      "text/plain": [
       "                 store_name  store_number\n",
       "2430           Urban Liquor             3\n",
       "1212       Heartland Market             3\n",
       "2109      Rolfe Area Market             3\n",
       "2146                  Sauce             3\n",
       "1908  New Star / Fort Dodge             3\n",
       "...                     ...           ...\n",
       "889       Dahl'S / Johnston             1\n",
       "890      Dahl'S / Merle Hay             1\n",
       "891            Dahl'S / Wdm             1\n",
       "892     Dahl'S Foods / Ames             1\n",
       "2641   Zapf'S Pronto Market             1\n",
       "\n",
       "[2642 rows x 2 columns]"
      ]
     },
     "execution_count": 10,
     "metadata": {},
     "output_type": "execute_result"
    }
   ],
   "source": [
    "df.groupby('store_name').agg({'store_number': 'nunique'}).reset_index().sort_values(by='store_number', ascending=False)"
   ]
  },
  {
   "cell_type": "code",
   "execution_count": 11,
   "metadata": {},
   "outputs": [
    {
     "data": {
      "text/html": [
       "<div>\n",
       "<style scoped>\n",
       "    .dataframe tbody tr th:only-of-type {\n",
       "        vertical-align: middle;\n",
       "    }\n",
       "\n",
       "    .dataframe tbody tr th {\n",
       "        vertical-align: top;\n",
       "    }\n",
       "\n",
       "    .dataframe thead th {\n",
       "        text-align: right;\n",
       "    }\n",
       "</style>\n",
       "<table border=\"1\" class=\"dataframe\">\n",
       "  <thead>\n",
       "    <tr style=\"text-align: right;\">\n",
       "      <th></th>\n",
       "      <th>invoice_and_item_number</th>\n",
       "      <th>date</th>\n",
       "      <th>store_number</th>\n",
       "      <th>store_name</th>\n",
       "      <th>address</th>\n",
       "      <th>city</th>\n",
       "      <th>zip_code</th>\n",
       "      <th>store_location</th>\n",
       "      <th>county_number</th>\n",
       "      <th>county</th>\n",
       "      <th>...</th>\n",
       "      <th>item_number</th>\n",
       "      <th>item_description</th>\n",
       "      <th>pack</th>\n",
       "      <th>bottle_volume_ml</th>\n",
       "      <th>state_bottle_cost</th>\n",
       "      <th>state_bottle_retail</th>\n",
       "      <th>bottles_sold</th>\n",
       "      <th>sale_dollars</th>\n",
       "      <th>volume_sold_liters</th>\n",
       "      <th>volume_sold_gallons</th>\n",
       "    </tr>\n",
       "  </thead>\n",
       "  <tbody>\n",
       "    <tr>\n",
       "      <th>1075</th>\n",
       "      <td>S10479300051</td>\n",
       "      <td>2013-02-07</td>\n",
       "      <td>4614</td>\n",
       "      <td>Urban Liquor</td>\n",
       "      <td>6401 Douglas Ave Ste 1</td>\n",
       "      <td>Urbandale</td>\n",
       "      <td>50322</td>\n",
       "      <td>POINT (-93.705732 41.629411)</td>\n",
       "      <td>77.0</td>\n",
       "      <td>Polk</td>\n",
       "      <td>...</td>\n",
       "      <td>37418</td>\n",
       "      <td>Popov Vodka 80 Prf</td>\n",
       "      <td>6</td>\n",
       "      <td>1750</td>\n",
       "      <td>8.49</td>\n",
       "      <td>12.74</td>\n",
       "      <td>6</td>\n",
       "      <td>76.44</td>\n",
       "      <td>10.5</td>\n",
       "      <td>2.77</td>\n",
       "    </tr>\n",
       "    <tr>\n",
       "      <th>3580</th>\n",
       "      <td>S21810400006</td>\n",
       "      <td>2014-10-15</td>\n",
       "      <td>4939</td>\n",
       "      <td>Urban Liquor</td>\n",
       "      <td>6401 Douglas Ave   Ste 1</td>\n",
       "      <td>Urbandale</td>\n",
       "      <td>50322</td>\n",
       "      <td>POINT (-93.705732 41.629411)</td>\n",
       "      <td>77.0</td>\n",
       "      <td>Polk</td>\n",
       "      <td>...</td>\n",
       "      <td>38008</td>\n",
       "      <td>Smirnoff Vodka 80 Prf Pet</td>\n",
       "      <td>6</td>\n",
       "      <td>1750</td>\n",
       "      <td>14.75</td>\n",
       "      <td>22.13</td>\n",
       "      <td>2</td>\n",
       "      <td>44.26</td>\n",
       "      <td>3.5</td>\n",
       "      <td>0.92</td>\n",
       "    </tr>\n",
       "  </tbody>\n",
       "</table>\n",
       "<p>2 rows × 24 columns</p>\n",
       "</div>"
      ],
      "text/plain": [
       "     invoice_and_item_number        date  store_number    store_name  \\\n",
       "1075            S10479300051  2013-02-07          4614  Urban Liquor   \n",
       "3580            S21810400006  2014-10-15          4939  Urban Liquor   \n",
       "\n",
       "                       address       city zip_code  \\\n",
       "1075    6401 Douglas Ave Ste 1  Urbandale    50322   \n",
       "3580  6401 Douglas Ave   Ste 1  Urbandale    50322   \n",
       "\n",
       "                    store_location  county_number county  ...  item_number  \\\n",
       "1075  POINT (-93.705732 41.629411)           77.0   Polk  ...        37418   \n",
       "3580  POINT (-93.705732 41.629411)           77.0   Polk  ...        38008   \n",
       "\n",
       "               item_description  pack bottle_volume_ml state_bottle_cost  \\\n",
       "1075         Popov Vodka 80 Prf     6             1750              8.49   \n",
       "3580  Smirnoff Vodka 80 Prf Pet     6             1750             14.75   \n",
       "\n",
       "     state_bottle_retail  bottles_sold  sale_dollars  volume_sold_liters  \\\n",
       "1075               12.74             6         76.44                10.5   \n",
       "3580               22.13             2         44.26                 3.5   \n",
       "\n",
       "      volume_sold_gallons  \n",
       "1075                 2.77  \n",
       "3580                 0.92  \n",
       "\n",
       "[2 rows x 24 columns]"
      ]
     },
     "execution_count": 11,
     "metadata": {},
     "output_type": "execute_result"
    }
   ],
   "source": [
    "df[df['store_name'] == 'Urban Liquor'].head(2)"
   ]
  },
  {
   "cell_type": "markdown",
   "metadata": {},
   "source": [
    "As expected, store_name we must use carefully in our conclusions and split by store_number."
   ]
  },
  {
   "cell_type": "markdown",
   "metadata": {},
   "source": [
    "<h3 style=\"margin-left: 50px;\"><em>b). Analysis city</em></h3>"
   ]
  },
  {
   "cell_type": "markdown",
   "metadata": {},
   "source": [
    "Fill n/a city values based on store_number because it's unique.<br>\n",
    "For the first, check if the same shops have different city name."
   ]
  },
  {
   "cell_type": "code",
   "execution_count": 12,
   "metadata": {},
   "outputs": [
    {
     "name": "stderr",
     "output_type": "stream",
     "text": [
      "<ipython-input-12-8852135ee217>:3: UserWarning: Boolean Series key will be reindexed to match DataFrame index.\n",
      "  merge(df[['store_number', 'city']].drop_duplicates()[df['city'].notnull()], on='store_number', how='left')\n"
     ]
    },
    {
     "data": {
      "text/html": [
       "<div>\n",
       "<style scoped>\n",
       "    .dataframe tbody tr th:only-of-type {\n",
       "        vertical-align: middle;\n",
       "    }\n",
       "\n",
       "    .dataframe tbody tr th {\n",
       "        vertical-align: top;\n",
       "    }\n",
       "\n",
       "    .dataframe thead th {\n",
       "        text-align: right;\n",
       "    }\n",
       "</style>\n",
       "<table border=\"1\" class=\"dataframe\">\n",
       "  <thead>\n",
       "    <tr style=\"text-align: right;\">\n",
       "      <th></th>\n",
       "      <th>store_number</th>\n",
       "      <th>city</th>\n",
       "    </tr>\n",
       "  </thead>\n",
       "  <tbody>\n",
       "    <tr>\n",
       "      <th>0</th>\n",
       "      <td>3782</td>\n",
       "      <td>Guttenberg</td>\n",
       "    </tr>\n",
       "    <tr>\n",
       "      <th>1</th>\n",
       "      <td>3782</td>\n",
       "      <td>Guttenburg</td>\n",
       "    </tr>\n",
       "    <tr>\n",
       "      <th>2</th>\n",
       "      <td>2543</td>\n",
       "      <td>Ottuwma</td>\n",
       "    </tr>\n",
       "    <tr>\n",
       "      <th>3</th>\n",
       "      <td>2543</td>\n",
       "      <td>Ottumwa</td>\n",
       "    </tr>\n",
       "    <tr>\n",
       "      <th>4</th>\n",
       "      <td>4668</td>\n",
       "      <td>Clear Lake</td>\n",
       "    </tr>\n",
       "    <tr>\n",
       "      <th>5</th>\n",
       "      <td>4668</td>\n",
       "      <td>Clearlake</td>\n",
       "    </tr>\n",
       "    <tr>\n",
       "      <th>6</th>\n",
       "      <td>3456</td>\n",
       "      <td>Clear Lake</td>\n",
       "    </tr>\n",
       "    <tr>\n",
       "      <th>7</th>\n",
       "      <td>3456</td>\n",
       "      <td>Clearlake</td>\n",
       "    </tr>\n",
       "    <tr>\n",
       "      <th>8</th>\n",
       "      <td>3822</td>\n",
       "      <td>Swisher</td>\n",
       "    </tr>\n",
       "    <tr>\n",
       "      <th>9</th>\n",
       "      <td>3822</td>\n",
       "      <td>Shueyville</td>\n",
       "    </tr>\n",
       "    <tr>\n",
       "      <th>10</th>\n",
       "      <td>3742</td>\n",
       "      <td>Lemars</td>\n",
       "    </tr>\n",
       "    <tr>\n",
       "      <th>11</th>\n",
       "      <td>3742</td>\n",
       "      <td>Le Mars</td>\n",
       "    </tr>\n",
       "    <tr>\n",
       "      <th>12</th>\n",
       "      <td>5300</td>\n",
       "      <td>Otumwa</td>\n",
       "    </tr>\n",
       "    <tr>\n",
       "      <th>13</th>\n",
       "      <td>5300</td>\n",
       "      <td>Ottumwa</td>\n",
       "    </tr>\n",
       "    <tr>\n",
       "      <th>14</th>\n",
       "      <td>9911</td>\n",
       "      <td>Grimes</td>\n",
       "    </tr>\n",
       "    <tr>\n",
       "      <th>15</th>\n",
       "      <td>9911</td>\n",
       "      <td>Urbandale</td>\n",
       "    </tr>\n",
       "    <tr>\n",
       "      <th>16</th>\n",
       "      <td>2604</td>\n",
       "      <td>Lemars</td>\n",
       "    </tr>\n",
       "    <tr>\n",
       "      <th>17</th>\n",
       "      <td>2604</td>\n",
       "      <td>Le Mars</td>\n",
       "    </tr>\n",
       "  </tbody>\n",
       "</table>\n",
       "</div>"
      ],
      "text/plain": [
       "    store_number        city\n",
       "0           3782  Guttenberg\n",
       "1           3782  Guttenburg\n",
       "2           2543     Ottuwma\n",
       "3           2543     Ottumwa\n",
       "4           4668  Clear Lake\n",
       "5           4668   Clearlake\n",
       "6           3456  Clear Lake\n",
       "7           3456   Clearlake\n",
       "8           3822     Swisher\n",
       "9           3822  Shueyville\n",
       "10          3742      Lemars\n",
       "11          3742     Le Mars\n",
       "12          5300      Otumwa\n",
       "13          5300     Ottumwa\n",
       "14          9911      Grimes\n",
       "15          9911   Urbandale\n",
       "16          2604      Lemars\n",
       "17          2604     Le Mars"
      ]
     },
     "execution_count": 12,
     "metadata": {},
     "output_type": "execute_result"
    }
   ],
   "source": [
    "df.groupby('store_number').agg({'city': 'nunique'}).reset_index().\\\n",
    "                sort_values(by='city', ascending=False).query('city > 1').drop(columns='city').\\\n",
    "                merge(df[['store_number', 'city']].drop_duplicates()[df['city'].notnull()], on='store_number', how='left')"
   ]
  },
  {
   "cell_type": "markdown",
   "metadata": {},
   "source": [
    "As we can see, store '3822' and store '9911' have different city. Google it. Store '3822' located in Shueyville but store '9911' has the different adress into the different city. Fill n/a 50 rows randomly."
   ]
  },
  {
   "cell_type": "code",
   "execution_count": 13,
   "metadata": {},
   "outputs": [],
   "source": [
    "df['store_number'] = df['store_number'].astype('str')"
   ]
  },
  {
   "cell_type": "code",
   "execution_count": 14,
   "metadata": {},
   "outputs": [],
   "source": [
    "#For store #3822\n",
    "df.loc[df['store_number'] == '3822', 'city'] = 'Shueyville'\n",
    "#For store #9911\n",
    "df.loc[(df['store_number'] == '9911')&(df['city'].isnull()), 'city'] =\\\n",
    "                    df.loc[(df['store_number'] == '9911')&(df['city'].isnull()), 'city'].\\\n",
    "                    apply(lambda x: np.random.choice(['Grimes', 'Urbandale']))"
   ]
  },
  {
   "cell_type": "markdown",
   "metadata": {},
   "source": [
    "For the next, manually find mistake similar <em>'Guttenberg'</em> and <em>'Guttenburg'</em> based on same name and Zip_code."
   ]
  },
  {
   "cell_type": "code",
   "execution_count": 15,
   "metadata": {},
   "outputs": [],
   "source": [
    "df.loc[df['city'] == \"Arnold'S Park\",'city'] = df.loc[df['city'] == \"Arnold'S Park\",'city'].\\\n",
    "                                                         apply(lambda x: 'Arnolds Park')\n",
    "df.loc[df['city'] == \"Clearlake\",'city'] = df.loc[df['city'] == \"Clearlake\",'city'].apply(lambda x: 'Clear Lake')\n",
    "df.loc[df['city'] == \"Fort Atkinson\",'city'] = df.loc[df['city'] == \"Fort Atkinson\",'city'].apply(lambda x: 'Ft. Atkinson')\n",
    "df.loc[df['city'] == \"Grand Mounds\",'city'] = df.loc[df['city'] == \"Grand Mounds\",'city'].apply(lambda x: 'Grand Mound')\n",
    "df.loc[df['city'] == \"Guttenburg\",'city'] = df.loc[df['city'] == \"Guttenburg\",'city'].apply(lambda x: 'Guttenberg')\n",
    "df.loc[df['city'] == \"Leclaire\",'city'] = df.loc[df['city'] == \"Leclaire\",'city'].apply(lambda x: 'Le Claire')\n",
    "df.loc[df['city'] == \"Lemars\",'city'] = df.loc[df['city'] == \"Lemars\",'city'].apply(lambda x: 'Le Mars')\n",
    "df.loc[df['city'] == \"Mount Pleasant\",'city'] = df.loc[df['city'] == \"Mount Pleasant\",'city'].apply(lambda x: 'Mt Pleasant')\n",
    "df.loc[df['city'] == \"Mount Vernon\",'city'] = df.loc[df['city'] == \"Mount Vernon\",'city'].apply(lambda x: 'Mt Vernon')\n",
    "df.loc[df['city'] == \"Otumwa\",'city'] = df.loc[df['city'] == \"Otumwa\",'city'].apply(lambda x: 'Ottumwa')\n",
    "df.loc[df['city'] == \"Ottuwma\",'city'] = df.loc[df['city'] == \"Ottuwma\",'city'].apply(lambda x: 'Ottumwa')\n",
    "df.loc[df['city'] == \"Saint Ansgar\",'city'] = df.loc[df['city'] == \"Saint Ansgar\",'city'].apply(lambda x: 'St Ansgar')"
   ]
  },
  {
   "cell_type": "markdown",
   "metadata": {},
   "source": [
    "<strong>Split table df into two batches: with null city and not null. Create table from batch with not null city and use table as dictionary for table with null city. Fill n/a value and concat two batches.</strong>"
   ]
  },
  {
   "cell_type": "code",
   "execution_count": 314,
   "metadata": {},
   "outputs": [
    {
     "name": "stdout",
     "output_type": "stream",
     "text": [
      "(78420, 24)\n",
      "(78420, 24)\n"
     ]
    }
   ],
   "source": [
    "df_store_num_city = df[['store_number', 'city']][df['city'].notnull()].drop_duplicates().reset_index(drop=True)\n",
    "\n",
    "df_isnull = df.loc[df['city'].isnull()]\n",
    "print(df_isnull.shape)\n",
    "df_notnull = df.loc[~df['city'].isnull()]\n",
    "\n",
    "df_isnull = df_isnull.drop(columns='city')\n",
    "\n",
    "df_isnull = df_isnull.merge(df_store_num_city, how='left', on='store_number')\n",
    "print(df_isnull.shape)\n",
    "\n",
    "df_filled = pd.concat([df_notnull, df_isnull])"
   ]
  },
  {
   "cell_type": "code",
   "execution_count": 315,
   "metadata": {},
   "outputs": [
    {
     "data": {
      "text/html": [
       "<div>\n",
       "<style scoped>\n",
       "    .dataframe tbody tr th:only-of-type {\n",
       "        vertical-align: middle;\n",
       "    }\n",
       "\n",
       "    .dataframe tbody tr th {\n",
       "        vertical-align: top;\n",
       "    }\n",
       "\n",
       "    .dataframe thead th {\n",
       "        text-align: right;\n",
       "    }\n",
       "</style>\n",
       "<table border=\"1\" class=\"dataframe\">\n",
       "  <thead>\n",
       "    <tr style=\"text-align: right;\">\n",
       "      <th></th>\n",
       "      <th>store_number</th>\n",
       "    </tr>\n",
       "    <tr>\n",
       "      <th>store_number</th>\n",
       "      <th></th>\n",
       "    </tr>\n",
       "  </thead>\n",
       "  <tbody>\n",
       "    <tr>\n",
       "      <th>5320</th>\n",
       "      <td>1</td>\n",
       "    </tr>\n",
       "  </tbody>\n",
       "</table>\n",
       "</div>"
      ],
      "text/plain": [
       "              store_number\n",
       "store_number              \n",
       "5320                     1"
      ]
     },
     "execution_count": 315,
     "metadata": {},
     "output_type": "execute_result"
    }
   ],
   "source": [
    "df_filled[df_filled['city'].isnull()][['store_number']].groupby('store_number').agg({'store_number': 'nunique'})"
   ]
  },
  {
   "cell_type": "code",
   "execution_count": 316,
   "metadata": {},
   "outputs": [],
   "source": [
    "df_filled.loc[df_filled['store_number'] == '5320', 'city'] = 'city_5320'\n",
    "df_filled.loc[df_filled['store_number'] == '5320', 'address'] = 'address_5320'\n",
    "df_filled.loc[df_filled['store_number'] == '5320', 'zip_code'] = 'zipcode_5320'\n",
    "df_filled.loc[df_filled['store_number'] == '5320', 'county_number'] = \\\n",
    "                                df_filled.groupby('county_number').agg({'city': 'count'}).reset_index().\\\n",
    "                                sort_values(by='city', ascending=False)['county_number'].iloc[0]\n",
    "df_filled.loc[df_filled['store_number'] == '5320', 'county'] = 'county_5320'"
   ]
  },
  {
   "cell_type": "code",
   "execution_count": 317,
   "metadata": {},
   "outputs": [
    {
     "data": {
      "text/plain": [
       "0"
      ]
     },
     "execution_count": 317,
     "metadata": {},
     "output_type": "execute_result"
    }
   ],
   "source": [
    "df_filled['city'].isnull().sum()"
   ]
  },
  {
   "cell_type": "markdown",
   "metadata": {},
   "source": [
    "<h3 style=\"margin-left: 50px;\"><em>c). Fillna address and zip_code</em></h3>"
   ]
  },
  {
   "cell_type": "code",
   "execution_count": 318,
   "metadata": {},
   "outputs": [
    {
     "name": "stdout",
     "output_type": "stream",
     "text": [
      "(79080, 24)\n",
      "(79080, 24)\n"
     ]
    }
   ],
   "source": [
    "df_store_num_city_address = df_filled[['store_number', 'city', 'address']][df_filled['address'].notnull()].\\\n",
    "                                        drop_duplicates(subset=['store_number', 'city'], keep='first').reset_index(drop=True)\n",
    "\n",
    "df_isnull = df_filled.loc[df_filled['address'].isnull()]\n",
    "print(df_isnull.shape)\n",
    "df_notnull = df_filled.loc[~df_filled['address'].isnull()]\n",
    "\n",
    "df_isnull = df_isnull.drop(columns='address')\n",
    "\n",
    "df_isnull = df_isnull.merge(df_store_num_city_address, how='left', on=['store_number', 'city'])\n",
    "print(df_isnull.shape)\n",
    "\n",
    "df_filled = pd.concat([df_notnull, df_isnull])"
   ]
  },
  {
   "cell_type": "code",
   "execution_count": 319,
   "metadata": {},
   "outputs": [
    {
     "data": {
      "text/plain": [
       "1"
      ]
     },
     "execution_count": 319,
     "metadata": {},
     "output_type": "execute_result"
    }
   ],
   "source": [
    "df_filled['address'].isnull().sum()"
   ]
  },
  {
   "cell_type": "code",
   "execution_count": 320,
   "metadata": {},
   "outputs": [
    {
     "data": {
      "text/html": [
       "<div>\n",
       "<style scoped>\n",
       "    .dataframe tbody tr th:only-of-type {\n",
       "        vertical-align: middle;\n",
       "    }\n",
       "\n",
       "    .dataframe tbody tr th {\n",
       "        vertical-align: top;\n",
       "    }\n",
       "\n",
       "    .dataframe thead th {\n",
       "        text-align: right;\n",
       "    }\n",
       "</style>\n",
       "<table border=\"1\" class=\"dataframe\">\n",
       "  <thead>\n",
       "    <tr style=\"text-align: right;\">\n",
       "      <th></th>\n",
       "      <th>invoice_and_item_number</th>\n",
       "      <th>date</th>\n",
       "      <th>store_number</th>\n",
       "      <th>store_name</th>\n",
       "      <th>address</th>\n",
       "      <th>city</th>\n",
       "      <th>zip_code</th>\n",
       "      <th>store_location</th>\n",
       "      <th>county_number</th>\n",
       "      <th>county</th>\n",
       "      <th>...</th>\n",
       "      <th>item_number</th>\n",
       "      <th>item_description</th>\n",
       "      <th>pack</th>\n",
       "      <th>bottle_volume_ml</th>\n",
       "      <th>state_bottle_cost</th>\n",
       "      <th>state_bottle_retail</th>\n",
       "      <th>bottles_sold</th>\n",
       "      <th>sale_dollars</th>\n",
       "      <th>volume_sold_liters</th>\n",
       "      <th>volume_sold_gallons</th>\n",
       "    </tr>\n",
       "  </thead>\n",
       "  <tbody>\n",
       "    <tr>\n",
       "      <th>499</th>\n",
       "      <td>INV-05674000001</td>\n",
       "      <td>2017-06-22</td>\n",
       "      <td>9932</td>\n",
       "      <td>3-Oaks Distillery, Llc</td>\n",
       "      <td>NaN</td>\n",
       "      <td>Dubuque</td>\n",
       "      <td>52002</td>\n",
       "      <td>POINT (-90.766335 42.516027)</td>\n",
       "      <td>31.0</td>\n",
       "      <td>Dubuque</td>\n",
       "      <td>...</td>\n",
       "      <td>27890</td>\n",
       "      <td>3-Oaks Distillery Whiskey</td>\n",
       "      <td>12</td>\n",
       "      <td>750</td>\n",
       "      <td>21.6</td>\n",
       "      <td>32.4</td>\n",
       "      <td>1</td>\n",
       "      <td>388.8</td>\n",
       "      <td>0.75</td>\n",
       "      <td>0.19</td>\n",
       "    </tr>\n",
       "  </tbody>\n",
       "</table>\n",
       "<p>1 rows × 24 columns</p>\n",
       "</div>"
      ],
      "text/plain": [
       "    invoice_and_item_number        date store_number              store_name  \\\n",
       "499         INV-05674000001  2017-06-22         9932  3-Oaks Distillery, Llc   \n",
       "\n",
       "    address     city zip_code                store_location  county_number  \\\n",
       "499     NaN  Dubuque    52002  POINT (-90.766335 42.516027)           31.0   \n",
       "\n",
       "      county  ...  item_number           item_description  pack  \\\n",
       "499  Dubuque  ...        27890  3-Oaks Distillery Whiskey    12   \n",
       "\n",
       "    bottle_volume_ml state_bottle_cost state_bottle_retail  bottles_sold  \\\n",
       "499              750              21.6                32.4             1   \n",
       "\n",
       "     sale_dollars  volume_sold_liters  volume_sold_gallons  \n",
       "499         388.8                0.75                 0.19  \n",
       "\n",
       "[1 rows x 24 columns]"
      ]
     },
     "execution_count": 320,
     "metadata": {},
     "output_type": "execute_result"
    }
   ],
   "source": [
    "df_filled[df_filled['address'].isnull()]"
   ]
  },
  {
   "cell_type": "code",
   "execution_count": 321,
   "metadata": {},
   "outputs": [],
   "source": [
    "df_filled.loc[df_filled['store_number'] == '9932', 'address'] = 'address_9932'"
   ]
  },
  {
   "cell_type": "markdown",
   "metadata": {},
   "source": [
    "--------"
   ]
  },
  {
   "cell_type": "code",
   "execution_count": 322,
   "metadata": {},
   "outputs": [
    {
     "name": "stdout",
     "output_type": "stream",
     "text": [
      "(79124, 24)\n",
      "(79124, 24)\n"
     ]
    }
   ],
   "source": [
    "df_store_num_city_zip = df_filled[['store_number', 'city', 'zip_code']][df_filled['zip_code'].notnull()].\\\n",
    "                                        drop_duplicates(subset=['store_number', 'city'], keep='first').reset_index(drop=True)\n",
    "\n",
    "df_isnull = df_filled.loc[df_filled['zip_code'].isnull()]\n",
    "print(df_isnull.shape)\n",
    "df_notnull = df_filled.loc[~df_filled['zip_code'].isnull()]\n",
    "\n",
    "df_isnull = df_isnull.drop(columns='zip_code')\n",
    "\n",
    "df_isnull = df_isnull.merge(df_store_num_city_zip, how='left', on=['store_number', 'city'])\n",
    "print(df_isnull.shape)\n",
    "\n",
    "df_filled = pd.concat([df_notnull, df_isnull])"
   ]
  },
  {
   "cell_type": "code",
   "execution_count": 323,
   "metadata": {},
   "outputs": [
    {
     "data": {
      "text/plain": [
       "0"
      ]
     },
     "execution_count": 323,
     "metadata": {},
     "output_type": "execute_result"
    }
   ],
   "source": [
    "df_filled['zip_code'].isnull().sum()"
   ]
  },
  {
   "cell_type": "markdown",
   "metadata": {},
   "source": [
    "<h3 style=\"margin-left: 50px;\"><em>d). Fillna county and county_number</em></h3>"
   ]
  },
  {
   "cell_type": "markdown",
   "metadata": {},
   "source": [
    "Because county and county_number very valuable values, analyze naming of county."
   ]
  },
  {
   "cell_type": "code",
   "execution_count": 324,
   "metadata": {},
   "outputs": [
    {
     "data": {
      "text/html": [
       "<div>\n",
       "<style scoped>\n",
       "    .dataframe tbody tr th:only-of-type {\n",
       "        vertical-align: middle;\n",
       "    }\n",
       "\n",
       "    .dataframe tbody tr th {\n",
       "        vertical-align: top;\n",
       "    }\n",
       "\n",
       "    .dataframe thead th {\n",
       "        text-align: right;\n",
       "    }\n",
       "</style>\n",
       "<table border=\"1\" class=\"dataframe\">\n",
       "  <thead>\n",
       "    <tr style=\"text-align: right;\">\n",
       "      <th></th>\n",
       "      <th>store_number</th>\n",
       "      <th>county</th>\n",
       "    </tr>\n",
       "  </thead>\n",
       "  <tbody>\n",
       "    <tr>\n",
       "      <th>0</th>\n",
       "      <td>4867</td>\n",
       "      <td>Pottawattamie</td>\n",
       "    </tr>\n",
       "    <tr>\n",
       "      <th>1</th>\n",
       "      <td>4867</td>\n",
       "      <td>Pottawatta</td>\n",
       "    </tr>\n",
       "    <tr>\n",
       "      <th>2</th>\n",
       "      <td>3477</td>\n",
       "      <td>Pottawatta</td>\n",
       "    </tr>\n",
       "    <tr>\n",
       "      <th>3</th>\n",
       "      <td>3477</td>\n",
       "      <td>Pottawattamie</td>\n",
       "    </tr>\n",
       "    <tr>\n",
       "      <th>4</th>\n",
       "      <td>4741</td>\n",
       "      <td>Pottawattamie</td>\n",
       "    </tr>\n",
       "    <tr>\n",
       "      <th>...</th>\n",
       "      <td>...</td>\n",
       "      <td>...</td>\n",
       "    </tr>\n",
       "    <tr>\n",
       "      <th>181</th>\n",
       "      <td>3713</td>\n",
       "      <td>Cerro Gord</td>\n",
       "    </tr>\n",
       "    <tr>\n",
       "      <th>182</th>\n",
       "      <td>5195</td>\n",
       "      <td>Pottawatta</td>\n",
       "    </tr>\n",
       "    <tr>\n",
       "      <th>183</th>\n",
       "      <td>5195</td>\n",
       "      <td>Pottawattamie</td>\n",
       "    </tr>\n",
       "    <tr>\n",
       "      <th>184</th>\n",
       "      <td>4808</td>\n",
       "      <td>Pottawattamie</td>\n",
       "    </tr>\n",
       "    <tr>\n",
       "      <th>185</th>\n",
       "      <td>4808</td>\n",
       "      <td>Pottawatta</td>\n",
       "    </tr>\n",
       "  </tbody>\n",
       "</table>\n",
       "<p>186 rows × 2 columns</p>\n",
       "</div>"
      ],
      "text/plain": [
       "    store_number         county\n",
       "0           4867  Pottawattamie\n",
       "1           4867     Pottawatta\n",
       "2           3477     Pottawatta\n",
       "3           3477  Pottawattamie\n",
       "4           4741  Pottawattamie\n",
       "..           ...            ...\n",
       "181         3713     Cerro Gord\n",
       "182         5195     Pottawatta\n",
       "183         5195  Pottawattamie\n",
       "184         4808  Pottawattamie\n",
       "185         4808     Pottawatta\n",
       "\n",
       "[186 rows x 2 columns]"
      ]
     },
     "execution_count": 324,
     "metadata": {},
     "output_type": "execute_result"
    }
   ],
   "source": [
    "df_filled.groupby('store_number').agg({'county': 'nunique'}).reset_index().\\\n",
    "                sort_values(by='county', ascending=False).query('county > 1').drop(columns='county').\\\n",
    "                merge(df_filled[df_filled['county'].notnull()][['store_number', 'county']].\\\n",
    "                drop_duplicates(), on='store_number', how='left')"
   ]
  },
  {
   "cell_type": "markdown",
   "metadata": {},
   "source": [
    "As we can see, many county value have similar name but not the same, fix it."
   ]
  },
  {
   "cell_type": "code",
   "execution_count": 325,
   "metadata": {},
   "outputs": [],
   "source": [
    "df_filled.loc[df_filled['county'] == \"Cerro Gord\", 'county'] = \\\n",
    "                df_filled.loc[df_filled['county'] == \"Cerro Gord\", 'county'].apply(lambda x: 'Cerro Gordo')\n",
    "df_filled.loc[df_filled['county'] == \"Pottawatta\", 'county'] = \\\n",
    "                df_filled.loc[df_filled['county'] == \"Pottawatta\", 'county'].apply(lambda x: 'Pottawattamie')\n",
    "df_filled.loc[df_filled['county'] == \"Buena Vist\", 'county'] = \\\n",
    "                df_filled.loc[df_filled['county'] == \"Buena Vist\", 'county'].apply(lambda x: 'Buena Vista')\n",
    "df_filled.loc[df_filled['county'] == \"Obrien\", 'county'] = \\\n",
    "                df_filled.loc[df_filled['county'] == \"Obrien\", 'county'].apply(lambda x: \"O'Brien\")"
   ]
  },
  {
   "cell_type": "code",
   "execution_count": 326,
   "metadata": {},
   "outputs": [],
   "source": [
    "df_county = df_filled[(df_filled['county'].notnull())&(df_filled['county_number'].notnull())].\\\n",
    "                groupby(['store_number', 'city', 'county', 'county_number']).\\\n",
    "                agg({'store_name': 'count'}).sort_values(by='store_name', ascending=False).reset_index()\n",
    "df_county = df_county.drop_duplicates(subset=['store_number', 'city'], keep='first').reset_index(drop=True)\n",
    "df_county = df_county.drop(columns='store_name')"
   ]
  },
  {
   "cell_type": "code",
   "execution_count": 327,
   "metadata": {},
   "outputs": [
    {
     "name": "stdout",
     "output_type": "stream",
     "text": [
      "(155884, 24)\n",
      "(155884, 24)\n"
     ]
    }
   ],
   "source": [
    "df_isnull = df_filled.loc[(df_filled['county'].isnull())|(df_filled['county_number'].isnull())]\n",
    "print(df_isnull.shape)\n",
    "df_notnull = df_filled.loc[~((df_filled['county'].isnull())|(df_filled['county_number'].isnull()))]\n",
    "\n",
    "df_isnull = df_isnull.drop(columns=['county', 'county_number'])\n",
    "\n",
    "df_isnull = df_isnull.merge(df_county, how='left', on=['store_number', 'city'])\n",
    "print(df_isnull.shape)\n",
    "\n",
    "df_filled = pd.concat([df_notnull, df_isnull])"
   ]
  },
  {
   "cell_type": "code",
   "execution_count": 328,
   "metadata": {},
   "outputs": [
    {
     "data": {
      "text/html": [
       "<div>\n",
       "<style scoped>\n",
       "    .dataframe tbody tr th:only-of-type {\n",
       "        vertical-align: middle;\n",
       "    }\n",
       "\n",
       "    .dataframe tbody tr th {\n",
       "        vertical-align: top;\n",
       "    }\n",
       "\n",
       "    .dataframe thead th {\n",
       "        text-align: right;\n",
       "    }\n",
       "</style>\n",
       "<table border=\"1\" class=\"dataframe\">\n",
       "  <thead>\n",
       "    <tr style=\"text-align: right;\">\n",
       "      <th></th>\n",
       "      <th></th>\n",
       "      <th></th>\n",
       "      <th></th>\n",
       "      <th>store_number</th>\n",
       "    </tr>\n",
       "    <tr>\n",
       "      <th>store_number</th>\n",
       "      <th>address</th>\n",
       "      <th>city</th>\n",
       "      <th>store_name</th>\n",
       "      <th></th>\n",
       "    </tr>\n",
       "  </thead>\n",
       "  <tbody>\n",
       "    <tr>\n",
       "      <th>5220</th>\n",
       "      <th>2771, 4Th St Sw</th>\n",
       "      <th>Mason City</th>\n",
       "      <th>Liquor Tobacco &amp; Grocery / Mason Cit</th>\n",
       "      <td>1</td>\n",
       "    </tr>\n",
       "    <tr>\n",
       "      <th>9936</th>\n",
       "      <th>1685 W Uintah St. #101</th>\n",
       "      <th>Colorado Springs</th>\n",
       "      <th>Dash Events Llc</th>\n",
       "      <td>1</td>\n",
       "    </tr>\n",
       "  </tbody>\n",
       "</table>\n",
       "</div>"
      ],
      "text/plain": [
       "                                                                                           store_number\n",
       "store_number address                city             store_name                                        \n",
       "5220         2771, 4Th St Sw        Mason City       Liquor Tobacco & Grocery / Mason Cit             1\n",
       "9936         1685 W Uintah St. #101 Colorado Springs Dash Events Llc                                  1"
      ]
     },
     "execution_count": 328,
     "metadata": {},
     "output_type": "execute_result"
    }
   ],
   "source": [
    "df_filled[df_filled['county'].isnull()].\\\n",
    "            groupby(['store_number', 'address', 'city', 'store_name']).agg({'store_number': 'nunique'})"
   ]
  },
  {
   "cell_type": "markdown",
   "metadata": {},
   "source": [
    "Google it, and fill."
   ]
  },
  {
   "cell_type": "code",
   "execution_count": 329,
   "metadata": {},
   "outputs": [],
   "source": [
    "df_filled.loc[df_filled['store_number'] == '5220', 'county'] = 'Cerro Gordo'\n",
    "df_filled.loc[df_filled['store_number'] == '5220', 'county_number'] = '17'\n",
    "\n",
    "# And Colorado Springs not in IOWA, drop this rows.\n",
    "df_filled = df_filled[df_filled['city'] != 'Colorado Springs']"
   ]
  },
  {
   "cell_type": "code",
   "execution_count": 330,
   "metadata": {},
   "outputs": [
    {
     "name": "stdout",
     "output_type": "stream",
     "text": [
      "0\n",
      "0\n"
     ]
    }
   ],
   "source": [
    "print(df_filled['county'].isnull().sum())\n",
    "print(df_filled['county_number'].isnull().sum())"
   ]
  },
  {
   "cell_type": "code",
   "execution_count": 331,
   "metadata": {},
   "outputs": [
    {
     "data": {
      "text/plain": [
       "(20349536, 24)"
      ]
     },
     "execution_count": 331,
     "metadata": {},
     "output_type": "execute_result"
    }
   ],
   "source": [
    "# New shape\n",
    "df_filled.shape"
   ]
  },
  {
   "cell_type": "markdown",
   "metadata": {},
   "source": [
    "<h3 style=\"margin-left: 50px;\"><em>d). Fillna store_location</em></h3>"
   ]
  },
  {
   "cell_type": "markdown",
   "metadata": {},
   "source": [
    "<strong>Location is a quantitative feature so we must fill cells as much as possible.</strong>"
   ]
  },
  {
   "cell_type": "code",
   "execution_count": 332,
   "metadata": {},
   "outputs": [],
   "source": [
    "df_store_location = df_filled[df_filled['store_location'].notnull()]\\\n",
    "                        [['store_number', 'city', 'county', 'store_location']].drop_duplicates().reset_index()"
   ]
  },
  {
   "cell_type": "code",
   "execution_count": 333,
   "metadata": {},
   "outputs": [],
   "source": [
    "df_store_location['store_location_x'] = df_store_location['store_location'].apply(lambda x: x[7:-1].split(' ')[0])\n",
    "df_store_location['store_location_y'] = df_store_location['store_location'].apply(lambda x: x[7:-1].split(' ')[1])\n",
    "df_store_location['store_location_x'] = df_store_location['store_location_x'].astype('float')\n",
    "df_store_location['store_location_y'] = df_store_location['store_location_y'].astype('float')"
   ]
  },
  {
   "cell_type": "markdown",
   "metadata": {},
   "source": [
    "Check outliers"
   ]
  },
  {
   "cell_type": "code",
   "execution_count": 334,
   "metadata": {},
   "outputs": [
    {
     "data": {
      "text/html": [
       "<div>\n",
       "<style scoped>\n",
       "    .dataframe tbody tr th:only-of-type {\n",
       "        vertical-align: middle;\n",
       "    }\n",
       "\n",
       "    .dataframe tbody tr th {\n",
       "        vertical-align: top;\n",
       "    }\n",
       "\n",
       "    .dataframe thead th {\n",
       "        text-align: right;\n",
       "    }\n",
       "</style>\n",
       "<table border=\"1\" class=\"dataframe\">\n",
       "  <thead>\n",
       "    <tr style=\"text-align: right;\">\n",
       "      <th></th>\n",
       "      <th>index</th>\n",
       "      <th>store_number</th>\n",
       "      <th>city</th>\n",
       "      <th>county</th>\n",
       "      <th>store_location</th>\n",
       "      <th>store_location_x</th>\n",
       "      <th>store_location_y</th>\n",
       "    </tr>\n",
       "  </thead>\n",
       "  <tbody>\n",
       "    <tr>\n",
       "      <th>2229</th>\n",
       "      <td>165696</td>\n",
       "      <td>5876</td>\n",
       "      <td>West Bend</td>\n",
       "      <td>Palo Alto</td>\n",
       "      <td>POINT (-73.982421 40.305231000000006)</td>\n",
       "      <td>-73.982421</td>\n",
       "      <td>40.305231</td>\n",
       "    </tr>\n",
       "  </tbody>\n",
       "</table>\n",
       "</div>"
      ],
      "text/plain": [
       "       index store_number       city     county  \\\n",
       "2229  165696         5876  West Bend  Palo Alto   \n",
       "\n",
       "                             store_location  store_location_x  \\\n",
       "2229  POINT (-73.982421 40.305231000000006)        -73.982421   \n",
       "\n",
       "      store_location_y  \n",
       "2229         40.305231  "
      ]
     },
     "execution_count": 334,
     "metadata": {},
     "output_type": "execute_result"
    }
   ],
   "source": [
    "df_store_location[df_store_location['store_location_x'] > \\\n",
    "                  df_store_location['store_location_x'].mean() + 3 * df_store_location['store_location_x'].std()]"
   ]
  },
  {
   "cell_type": "code",
   "execution_count": 335,
   "metadata": {},
   "outputs": [
    {
     "data": {
      "text/html": [
       "<div>\n",
       "<style scoped>\n",
       "    .dataframe tbody tr th:only-of-type {\n",
       "        vertical-align: middle;\n",
       "    }\n",
       "\n",
       "    .dataframe tbody tr th {\n",
       "        vertical-align: top;\n",
       "    }\n",
       "\n",
       "    .dataframe thead th {\n",
       "        text-align: right;\n",
       "    }\n",
       "</style>\n",
       "<table border=\"1\" class=\"dataframe\">\n",
       "  <thead>\n",
       "    <tr style=\"text-align: right;\">\n",
       "      <th></th>\n",
       "      <th>index</th>\n",
       "      <th>store_number</th>\n",
       "      <th>city</th>\n",
       "      <th>county</th>\n",
       "      <th>store_location</th>\n",
       "      <th>store_location_x</th>\n",
       "      <th>store_location_y</th>\n",
       "    </tr>\n",
       "  </thead>\n",
       "  <tbody>\n",
       "    <tr>\n",
       "      <th>1235</th>\n",
       "      <td>6482</td>\n",
       "      <td>4722</td>\n",
       "      <td>Burlington</td>\n",
       "      <td>Des Moines</td>\n",
       "      <td>POINT (-95.79728 45.009612)</td>\n",
       "      <td>-95.79728</td>\n",
       "      <td>45.009612</td>\n",
       "    </tr>\n",
       "  </tbody>\n",
       "</table>\n",
       "</div>"
      ],
      "text/plain": [
       "      index store_number        city      county               store_location  \\\n",
       "1235   6482         4722  Burlington  Des Moines  POINT (-95.79728 45.009612)   \n",
       "\n",
       "      store_location_x  store_location_y  \n",
       "1235         -95.79728         45.009612  "
      ]
     },
     "execution_count": 335,
     "metadata": {},
     "output_type": "execute_result"
    }
   ],
   "source": [
    "df_store_location[df_store_location['store_location_y'] > \\\n",
    "                  df_store_location['store_location_y'].mean() + 3 * df_store_location['store_location_y'].std()]"
   ]
  },
  {
   "cell_type": "markdown",
   "metadata": {},
   "source": [
    "Google real coordinates and change values."
   ]
  },
  {
   "cell_type": "code",
   "execution_count": 336,
   "metadata": {},
   "outputs": [],
   "source": [
    "df_filled.loc[df_filled['store_number'] == '5876', 'store_location'] = 'POINT (-94.445100 42.960000)'\n",
    "df_filled.loc[df_filled['store_number'] == '4722', 'store_location'] = 'POINT (-91.112900 40.807700)'"
   ]
  },
  {
   "cell_type": "code",
   "execution_count": 337,
   "metadata": {},
   "outputs": [],
   "source": [
    "df_store_location = df_filled[df_filled['store_location'].notnull()]\\\n",
    "                        [['store_number', 'city', 'county', 'store_location']].drop_duplicates().reset_index(drop=True)\n",
    "df_store_location['store_location_x'] = df_store_location['store_location'].apply(lambda x: x[7:-1].split(' ')[0])\n",
    "df_store_location['store_location_y'] = df_store_location['store_location'].apply(lambda x: x[7:-1].split(' ')[1])\n",
    "df_store_location['store_location_x'] = df_store_location['store_location_x'].astype('float')\n",
    "df_store_location['store_location_y'] = df_store_location['store_location_y'].astype('float')"
   ]
  },
  {
   "cell_type": "code",
   "execution_count": 338,
   "metadata": {},
   "outputs": [],
   "source": [
    "df_isnull = df_filled.loc[(df_filled['store_location'].isnull())]\n",
    "df_notnull = df_filled.loc[~(df_filled['store_location'].isnull())]"
   ]
  },
  {
   "cell_type": "code",
   "execution_count": 339,
   "metadata": {},
   "outputs": [
    {
     "data": {
      "text/plain": [
       "(1951877, 24)"
      ]
     },
     "execution_count": 339,
     "metadata": {},
     "output_type": "execute_result"
    }
   ],
   "source": [
    "df_isnull.shape"
   ]
  },
  {
   "cell_type": "markdown",
   "metadata": {},
   "source": [
    "Join nulled by store_num. If we can see nulled field again then join by avg by city else join by avg by county"
   ]
  },
  {
   "cell_type": "code",
   "execution_count": 340,
   "metadata": {},
   "outputs": [
    {
     "name": "stdout",
     "output_type": "stream",
     "text": [
      "(1951877, 24)\n"
     ]
    }
   ],
   "source": [
    "df_store_location_by_store = df_store_location[['store_number', 'city', 'store_location']].\\\n",
    "                            drop_duplicates(subset=['store_number', 'city'], keep='first')\n",
    "df_isnull = df_isnull.drop(columns='store_location').\\\n",
    "                            merge(df_store_location_by_store, on=['store_number', 'city'], how='left')\n",
    "print(df_isnull.shape)\n",
    "df_isnull_container = df_isnull.loc[~(df_isnull['store_location'].isnull())]"
   ]
  },
  {
   "cell_type": "code",
   "execution_count": 341,
   "metadata": {},
   "outputs": [
    {
     "data": {
      "text/plain": [
       "(1759402, 24)"
      ]
     },
     "execution_count": 341,
     "metadata": {},
     "output_type": "execute_result"
    }
   ],
   "source": [
    "df_isnull = df_isnull.loc[(df_isnull['store_location'].isnull())]\n",
    "df_isnull.shape"
   ]
  },
  {
   "cell_type": "code",
   "execution_count": 342,
   "metadata": {},
   "outputs": [
    {
     "name": "stdout",
     "output_type": "stream",
     "text": [
      "(1759402, 24)\n"
     ]
    }
   ],
   "source": [
    "df_store_location_by_city = df_store_location[['city', 'store_location_x', 'store_location_y']].\\\n",
    "                            groupby('city').agg({'store_location_x': 'mean', 'store_location_y': 'mean'}).reset_index()\n",
    "df_store_location_by_city['store_location_x'] = df_store_location_by_city['store_location_x'].astype('str')\n",
    "df_store_location_by_city['store_location_y'] = df_store_location_by_city['store_location_y'].astype('str')\n",
    "df_store_location_by_city['store_location'] = df_store_location_by_city[['store_location_x', 'store_location_y']].\\\n",
    "                                        agg(' '.join, axis=1).apply(lambda x: 'POINT ('+x+')')\n",
    "df_store_location_by_city = df_store_location_by_city.drop(columns=['store_location_x', 'store_location_y'])\n",
    "df_isnull = df_isnull.drop(columns='store_location').\\\n",
    "                            merge(df_store_location_by_city, on=['city'], how='left')\n",
    "print(df_isnull.shape)\n",
    "df_isnull_container = pd.concat([df_isnull_container, df_isnull.loc[~(df_isnull['store_location'].isnull())]])"
   ]
  },
  {
   "cell_type": "code",
   "execution_count": 343,
   "metadata": {},
   "outputs": [
    {
     "data": {
      "text/plain": [
       "(15501, 24)"
      ]
     },
     "execution_count": 343,
     "metadata": {},
     "output_type": "execute_result"
    }
   ],
   "source": [
    "df_isnull = df_isnull.loc[(df_isnull['store_location'].isnull())]\n",
    "df_isnull.shape"
   ]
  },
  {
   "cell_type": "code",
   "execution_count": 344,
   "metadata": {},
   "outputs": [],
   "source": [
    "store_location = \\\n",
    "   'POINT (' + str(df_store_location['store_location_x'].mean()) +' '+ str(df_store_location['store_location_y'].mean()) +')'\n",
    "df_isnull['store_location'] = store_location\n",
    "df_isnull_container = pd.concat([df_isnull_container, df_isnull])"
   ]
  },
  {
   "cell_type": "code",
   "execution_count": 345,
   "metadata": {},
   "outputs": [
    {
     "name": "stdout",
     "output_type": "stream",
     "text": [
      "(1951877, 24)\n",
      "(20349536, 24)\n"
     ]
    }
   ],
   "source": [
    "print(df_isnull_container.shape)\n",
    "df_filled = pd.concat([df_notnull, df_isnull_container])\n",
    "print(df_filled.shape)"
   ]
  },
  {
   "cell_type": "code",
   "execution_count": 346,
   "metadata": {},
   "outputs": [
    {
     "name": "stdout",
     "output_type": "stream",
     "text": [
      "0\n"
     ]
    }
   ],
   "source": [
    "print(df_filled['store_location'].isnull().sum())"
   ]
  },
  {
   "cell_type": "code",
   "execution_count": 347,
   "metadata": {},
   "outputs": [],
   "source": [
    "df_filled = df_filled.reset_index(drop=True)"
   ]
  },
  {
   "cell_type": "markdown",
   "metadata": {},
   "source": [
    "<h3 style=\"margin-left: 50px;\"><em>e). Fillna vendor_number and vendor_name</em></h3>"
   ]
  },
  {
   "cell_type": "code",
   "execution_count": 348,
   "metadata": {},
   "outputs": [
    {
     "data": {
      "text/html": [
       "<div>\n",
       "<style scoped>\n",
       "    .dataframe tbody tr th:only-of-type {\n",
       "        vertical-align: middle;\n",
       "    }\n",
       "\n",
       "    .dataframe tbody tr th {\n",
       "        vertical-align: top;\n",
       "    }\n",
       "\n",
       "    .dataframe thead th {\n",
       "        text-align: right;\n",
       "    }\n",
       "</style>\n",
       "<table border=\"1\" class=\"dataframe\">\n",
       "  <thead>\n",
       "    <tr style=\"text-align: right;\">\n",
       "      <th></th>\n",
       "      <th>vendor_number</th>\n",
       "      <th>vendor_name</th>\n",
       "      <th>item_number</th>\n",
       "      <th>item_description</th>\n",
       "    </tr>\n",
       "  </thead>\n",
       "  <tbody>\n",
       "    <tr>\n",
       "      <th>654606</th>\n",
       "      <td>NaN</td>\n",
       "      <td>RESERVOIR DISTILLERY</td>\n",
       "      <td>927565</td>\n",
       "      <td>Reservoir Wheat Whiskey</td>\n",
       "    </tr>\n",
       "    <tr>\n",
       "      <th>5104885</th>\n",
       "      <td>NaN</td>\n",
       "      <td>NaN</td>\n",
       "      <td>973449</td>\n",
       "      <td>Dekuyper Blood Orange</td>\n",
       "    </tr>\n",
       "    <tr>\n",
       "      <th>8313089</th>\n",
       "      <td>NaN</td>\n",
       "      <td>NaN</td>\n",
       "      <td>910621</td>\n",
       "      <td>Canadian Club Whisky Mini</td>\n",
       "    </tr>\n",
       "    <tr>\n",
       "      <th>16204295</th>\n",
       "      <td>NaN</td>\n",
       "      <td>NaN</td>\n",
       "      <td>984151</td>\n",
       "      <td>99 Oranges</td>\n",
       "    </tr>\n",
       "    <tr>\n",
       "      <th>16708893</th>\n",
       "      <td>NaN</td>\n",
       "      <td>RESERVOIR DISTILLERY</td>\n",
       "      <td>916456</td>\n",
       "      <td>Reservoir Bourbon Whiskey</td>\n",
       "    </tr>\n",
       "  </tbody>\n",
       "</table>\n",
       "</div>"
      ],
      "text/plain": [
       "          vendor_number           vendor_name item_number  \\\n",
       "654606              NaN  RESERVOIR DISTILLERY      927565   \n",
       "5104885             NaN                   NaN      973449   \n",
       "8313089             NaN                   NaN      910621   \n",
       "16204295            NaN                   NaN      984151   \n",
       "16708893            NaN  RESERVOIR DISTILLERY      916456   \n",
       "\n",
       "                   item_description  \n",
       "654606      Reservoir Wheat Whiskey  \n",
       "5104885       Dekuyper Blood Orange  \n",
       "8313089   Canadian Club Whisky Mini  \n",
       "16204295                 99 Oranges  \n",
       "16708893  Reservoir Bourbon Whiskey  "
      ]
     },
     "execution_count": 348,
     "metadata": {},
     "output_type": "execute_result"
    }
   ],
   "source": [
    "df_filled[['vendor_number', 'vendor_name', 'item_number', 'item_description']]\\\n",
    "            [(df_filled['vendor_number'].isnull())|(df_filled['vendor_name'].isnull())]"
   ]
  },
  {
   "cell_type": "code",
   "execution_count": 351,
   "metadata": {},
   "outputs": [],
   "source": [
    "df_filled.loc[(df_filled['vendor_number'].isnull())|(df_filled['item_description'] == 'Reservoir Wheat Whiskey'),\\\n",
    "                                                         'vendor_number'] = '286.0'\n",
    "df_filled.loc[(df_filled['vendor_number'].isnull())|(df_filled['item_description'] == 'Dekuyper Blood Orange'),\\\n",
    "                                                         'vendor_number'] = '309.0'\n",
    "df_filled.loc[(df_filled['vendor_number'].isnull())|(df_filled['item_description'] == 'Dekuyper Blood Orange'),\\\n",
    "                                                         'vendor_name'] = 'Dekuyper'\n",
    "df_filled.loc[(df_filled['vendor_number'].isnull())|(df_filled['item_description'] == 'Canadian Club Whisky Mini'),\\\n",
    "                                                         'vendor_number'] = '65.0'\n",
    "df_filled.loc[(df_filled['vendor_number'].isnull())|(df_filled['item_description'] == 'Canadian Club Whisky Mini'),\\\n",
    "                                                         'vendor_name'] = 'JIM BEAM BRANDS'\n",
    "df_filled.loc[(df_filled['vendor_number'].isnull())|(df_filled['item_description'] == '99 Oranges'),\\\n",
    "                                                         'vendor_number'] = '55.0'\n",
    "df_filled.loc[(df_filled['vendor_number'].isnull())|(df_filled['item_description'] == '99 Oranges'),\\\n",
    "                                                         'vendor_name'] = 'SAZERAC NORTH AMERICA'"
   ]
  },
  {
   "cell_type": "code",
   "execution_count": 353,
   "metadata": {},
   "outputs": [],
   "source": [
    "df_filled = df_filled.reset_index(drop=True)"
   ]
  },
  {
   "cell_type": "markdown",
   "metadata": {},
   "source": [
    "<h3 style=\"margin-left: 50px;\"><em>f). Fillna category and category_name</em></h3>"
   ]
  },
  {
   "cell_type": "code",
   "execution_count": 378,
   "metadata": {},
   "outputs": [],
   "source": [
    "df_isnull = df_filled.loc[(df_filled['category'].isnull())|(df_filled['category_name'].isnull())]\n",
    "df_notnull = df_filled.loc[~((df_filled['category'].isnull())|(df_filled['category_name'].isnull()))]"
   ]
  },
  {
   "cell_type": "code",
   "execution_count": 382,
   "metadata": {},
   "outputs": [],
   "source": [
    "df_category = df_notnull[['item_description', 'category', 'category_name']].\\\n",
    "                        drop_duplicates(subset=['item_description'], keep='first')\n",
    "df_isnull = df_isnull.drop(columns=['category', 'category_name']).merge(df_category, how='left', on=['item_description'])"
   ]
  },
  {
   "cell_type": "markdown",
   "metadata": {},
   "source": [
    "Fill remaining categories as '-'"
   ]
  },
  {
   "cell_type": "code",
   "execution_count": 385,
   "metadata": {},
   "outputs": [],
   "source": [
    "df_isnull['category'] = df_isnull['category'].fillna('-')\n",
    "df_isnull['category_name'] = df_isnull['category_name'].fillna('-')"
   ]
  },
  {
   "cell_type": "code",
   "execution_count": 386,
   "metadata": {},
   "outputs": [],
   "source": [
    "df_filled = pd.concat([df_notnull, df_isnull])"
   ]
  },
  {
   "cell_type": "code",
   "execution_count": 387,
   "metadata": {},
   "outputs": [],
   "source": [
    "df_filled = df_filled.reset_index(drop=True)"
   ]
  },
  {
   "cell_type": "markdown",
   "metadata": {},
   "source": [
    "<h3 style=\"margin-left: 50px;\"><em>g). Fillna state_bottle_cost, state_bottle_retail, sale_dollars</em></h3>"
   ]
  },
  {
   "cell_type": "code",
   "execution_count": 395,
   "metadata": {},
   "outputs": [],
   "source": [
    "df_isnull = df_filled.loc[((df_filled['state_bottle_cost'].isnull())|\\\n",
    "              (df_filled['state_bottle_retail'].isnull())|(df_filled['sale_dollars'].isnull()))]\n",
    "df_notnull = df_filled.loc[~((df_filled['state_bottle_cost'].isnull())|\\\n",
    "              (df_filled['state_bottle_retail'].isnull())|(df_filled['sale_dollars'].isnull()))]"
   ]
  },
  {
   "cell_type": "code",
   "execution_count": 396,
   "metadata": {},
   "outputs": [],
   "source": [
    "df_bottle_cost = df_notnull[['item_description', 'store_number', 'state_bottle_cost', 'state_bottle_retail']].\\\n",
    "                        drop_duplicates(subset=['item_description', 'store_number'], keep='first')"
   ]
  },
  {
   "cell_type": "code",
   "execution_count": 398,
   "metadata": {},
   "outputs": [],
   "source": [
    "df_isnull = df_isnull.drop(columns=['state_bottle_cost', 'state_bottle_retail']).\\\n",
    "                merge(df_bottle_cost, on=['item_description', 'store_number'], how='left')\n",
    "df_isnull['state_bottle_cost'] = df_isnull['state_bottle_cost'].fillna(12.8)\n",
    "df_isnull['state_bottle_retail'] = df_isnull['state_bottle_cost'].fillna(19.2)\n",
    "df_isnull['sale_dollars'] = df_isnull['state_bottle_retail'] * df_isnull['bottles_sold']"
   ]
  },
  {
   "cell_type": "code",
   "execution_count": 400,
   "metadata": {},
   "outputs": [],
   "source": [
    "df_filled = pd.concat([df_notnull, df_isnull])\n",
    "df_filled = df_filled.reset_index(drop=True)"
   ]
  },
  {
   "cell_type": "code",
   "execution_count": 401,
   "metadata": {},
   "outputs": [
    {
     "data": {
      "text/plain": [
       "index                      0\n",
       "invoice_and_item_number    0\n",
       "date                       0\n",
       "store_number               0\n",
       "store_name                 0\n",
       "address                    0\n",
       "city                       0\n",
       "zip_code                   0\n",
       "store_location             0\n",
       "county_number              0\n",
       "county                     0\n",
       "category                   0\n",
       "category_name              0\n",
       "vendor_number              0\n",
       "vendor_name                0\n",
       "item_number                0\n",
       "item_description           0\n",
       "pack                       0\n",
       "bottle_volume_ml           0\n",
       "state_bottle_cost          0\n",
       "state_bottle_retail        0\n",
       "bottles_sold               0\n",
       "sale_dollars               0\n",
       "volume_sold_liters         0\n",
       "volume_sold_gallons        0\n",
       "dtype: int64"
      ]
     },
     "execution_count": 401,
     "metadata": {},
     "output_type": "execute_result"
    }
   ],
   "source": [
    "df_filled.isnull().sum()"
   ]
  },
  {
   "cell_type": "markdown",
   "metadata": {},
   "source": [
    "<h3><strong>Conclusions: Dropped only two rows, beacause they didn't belong to the IOWA. Well filled numerical variables and city</strong></h3>"
   ]
  },
  {
   "cell_type": "markdown",
   "metadata": {},
   "source": [
    "<h2><ul><li><strong>Anomalies/Outliers</strong></li></ul></h2>"
   ]
  },
  {
   "cell_type": "code",
   "execution_count": null,
   "metadata": {},
   "outputs": [],
   "source": []
  },
  {
   "cell_type": "code",
   "execution_count": null,
   "metadata": {},
   "outputs": [],
   "source": []
  },
  {
   "cell_type": "code",
   "execution_count": null,
   "metadata": {},
   "outputs": [],
   "source": []
  },
  {
   "cell_type": "code",
   "execution_count": null,
   "metadata": {},
   "outputs": [],
   "source": []
  },
  {
   "cell_type": "code",
   "execution_count": null,
   "metadata": {},
   "outputs": [],
   "source": []
  },
  {
   "cell_type": "code",
   "execution_count": null,
   "metadata": {},
   "outputs": [],
   "source": []
  },
  {
   "cell_type": "code",
   "execution_count": null,
   "metadata": {},
   "outputs": [],
   "source": []
  },
  {
   "cell_type": "code",
   "execution_count": null,
   "metadata": {},
   "outputs": [],
   "source": []
  },
  {
   "cell_type": "code",
   "execution_count": null,
   "metadata": {},
   "outputs": [],
   "source": []
  },
  {
   "cell_type": "code",
   "execution_count": null,
   "metadata": {},
   "outputs": [],
   "source": []
  },
  {
   "cell_type": "code",
   "execution_count": null,
   "metadata": {},
   "outputs": [],
   "source": []
  },
  {
   "cell_type": "code",
   "execution_count": null,
   "metadata": {},
   "outputs": [],
   "source": []
  },
  {
   "cell_type": "code",
   "execution_count": null,
   "metadata": {},
   "outputs": [],
   "source": []
  }
 ],
 "metadata": {
  "kernelspec": {
   "display_name": "Python 3",
   "language": "python",
   "name": "python3"
  },
  "language_info": {
   "codemirror_mode": {
    "name": "ipython",
    "version": 3
   },
   "file_extension": ".py",
   "mimetype": "text/x-python",
   "name": "python",
   "nbconvert_exporter": "python",
   "pygments_lexer": "ipython3",
   "version": "3.8.5"
  }
 },
 "nbformat": 4,
 "nbformat_minor": 4
}
